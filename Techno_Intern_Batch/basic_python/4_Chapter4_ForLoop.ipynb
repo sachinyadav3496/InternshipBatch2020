{
 "cells": [
  {
   "cell_type": "markdown",
   "metadata": {},
   "source": [
    "**For Loop in Python**"
   ]
  },
  {
   "cell_type": "markdown",
   "metadata": {},
   "source": [
    "syntax\n",
    "\n",
    "    we use for loop for iteration \n",
    "    \n",
    "    for item in iterable:\n",
    "        st-1\n",
    "        st-2\n",
    "        st-3\n",
    "        st-4\n",
    "        ....\n",
    "        st-n\n",
    "    else:\n",
    "        st-1\n",
    "        st-2\n",
    "        ..."
   ]
  },
  {
   "cell_type": "markdown",
   "metadata": {},
   "source": [
    "**Iterables**\n",
    "\n",
    "* Strings\n",
    "* List\n",
    "* Tuple\n",
    "* Dict\n",
    "* Set\n",
    "* FrozenSet\n",
    "\n",
    "**inbuilt iterable objects**\n",
    "\n",
    "* range\n",
    "* enumerate\n",
    "* zip\n",
    "* map\n",
    "* filter\n",
    "* sorted\n",
    "* reversed"
   ]
  },
  {
   "cell_type": "code",
   "execution_count": 1,
   "metadata": {},
   "outputs": [],
   "source": [
    "s = \"Hello World!\""
   ]
  },
  {
   "cell_type": "code",
   "execution_count": 3,
   "metadata": {},
   "outputs": [
    {
     "name": "stdout",
     "output_type": "stream",
     "text": [
      "H\n",
      "e\n",
      "l\n",
      "l\n",
      "o\n",
      " \n",
      "W\n",
      "o\n",
      "r\n",
      "l\n",
      "d\n",
      "!\n",
      "\n",
      "all characters are iterated\n"
     ]
    }
   ],
   "source": [
    "for char in s: #ello World\n",
    "    print(char)\n",
    "else:\n",
    "    print('\\nall characters are iterated')"
   ]
  },
  {
   "cell_type": "code",
   "execution_count": 4,
   "metadata": {},
   "outputs": [
    {
     "name": "stdout",
     "output_type": "stream",
     "text": [
      "hello world times  1\n",
      "hello world times  2\n",
      "hello world times  3\n",
      "hello world times  4\n",
      "hello world times  5\n",
      "hello world times  6\n",
      "hello world times  7\n",
      "hello world times  8\n",
      "hello world times  9\n",
      "hello world times  0\n",
      "\n",
      "this is all about iteration\n"
     ]
    }
   ],
   "source": [
    "for char in '1234567890':\n",
    "    print(\"hello world times \", char)\n",
    "else:\n",
    "    print('\\nthis is all about iteration')"
   ]
  },
  {
   "cell_type": "code",
   "execution_count": 5,
   "metadata": {},
   "outputs": [
    {
     "name": "stdout",
     "output_type": "stream",
     "text": [
      "H\n",
      "l\n",
      "l\n",
      " \n",
      "W\n",
      "r\n",
      "l\n",
      "d\n"
     ]
    }
   ],
   "source": [
    "s = 'Hello World!'\n",
    "for char in s:\n",
    "    if char.lower() in [ 'a', 'e', 'i', 'o', 'u']:\n",
    "        continue\n",
    "    elif char == '!':\n",
    "        break\n",
    "    print(char)\n",
    "else:\n",
    "    print(\"\\nTell me the output ? \")"
   ]
  },
  {
   "cell_type": "code",
   "execution_count": 6,
   "metadata": {},
   "outputs": [],
   "source": [
    "lang = [ 'java', 'c', 'c++', 'ruby', 'python']"
   ]
  },
  {
   "cell_type": "code",
   "execution_count": 7,
   "metadata": {},
   "outputs": [
    {
     "name": "stdout",
     "output_type": "stream",
     "text": [
      "java\n",
      "c\n",
      "c++\n",
      "ruby\n",
      "python\n",
      "this is how we iterate any iterable object\n"
     ]
    }
   ],
   "source": [
    "for item in lang:\n",
    "    print(item)\n",
    "else:\n",
    "    print(\"this is how we iterate any iterable object\")"
   ]
  },
  {
   "cell_type": "code",
   "execution_count": 10,
   "metadata": {},
   "outputs": [
    {
     "name": "stdout",
     "output_type": "stream",
     "text": [
      "key: html\n",
      "Item Does Not Found\n"
     ]
    }
   ],
   "source": [
    "item = input(\"key: \")\n",
    "if item in lang:\n",
    "    print(\"Item Found\")\n",
    "else:\n",
    "    print(\"Item Does Not Found\")"
   ]
  },
  {
   "cell_type": "code",
   "execution_count": 11,
   "metadata": {},
   "outputs": [
    {
     "data": {
      "text/plain": [
       "['java', 'c', 'c++', 'ruby', 'python']"
      ]
     },
     "execution_count": 11,
     "metadata": {},
     "output_type": "execute_result"
    }
   ],
   "source": [
    "lang"
   ]
  },
  {
   "cell_type": "code",
   "execution_count": 13,
   "metadata": {},
   "outputs": [
    {
     "name": "stdout",
     "output_type": "stream",
     "text": [
      "key: html\n",
      "Item Does Not Found\n"
     ]
    }
   ],
   "source": [
    "key = input(\"key: \")\n",
    "for item in lang:\n",
    "    if item == key:\n",
    "        print(\"Item Found\")\n",
    "        break\n",
    "else:\n",
    "    print(\"Item Does Not Found\")"
   ]
  },
  {
   "cell_type": "code",
   "execution_count": 15,
   "metadata": {},
   "outputs": [
    {
     "name": "stdout",
     "output_type": "stream",
     "text": [
      "item = 1, sum=1\n",
      "item = 2, sum=3\n",
      "item = 3, sum=6\n",
      "item = 4, sum=10\n",
      "item = 5, sum=15\n",
      "item = 6, sum=21\n",
      "item = 7, sum=28\n",
      "item = 8, sum=36\n",
      "item = 9, sum=45\n",
      "item = 10, sum=55\n",
      "\n",
      "summation of all elements of [1, 2, 3, 4, 5, 6, 7, 8, 9, 10] are :  55\n"
     ]
    }
   ],
   "source": [
    "nums = [ 1, 2, 3, 4, 5, 6, 7, 8, 9, 10]\n",
    "s = 0 \n",
    "for item in nums:\n",
    "    s += item\n",
    "    print(f'item = {item}, sum={s}')\n",
    "else:\n",
    "    print(f\"\\nsummation of all elements of {nums} are :  {s}\")"
   ]
  },
  {
   "cell_type": "code",
   "execution_count": 16,
   "metadata": {},
   "outputs": [
    {
     "name": "stdout",
     "output_type": "stream",
     "text": [
      "item = 1, sum=1\n",
      "item = 2, sum=5\n",
      "item = 3, sum=14\n",
      "item = 4, sum=30\n",
      "item = 5, sum=55\n",
      "item = 6, sum=91\n",
      "item = 7, sum=140\n",
      "item = 8, sum=204\n",
      "item = 9, sum=285\n",
      "item = 10, sum=385\n",
      "\n",
      "square summation of all elements of [1, 2, 3, 4, 5, 6, 7, 8, 9, 10] are :  385\n"
     ]
    }
   ],
   "source": [
    "nums = [ 1, 2, 3, 4, 5, 6, 7, 8, 9, 10]\n",
    "s = 0 \n",
    "for item in nums:\n",
    "    s += item**2\n",
    "    print(f'item = {item}, sum={s}')\n",
    "else:\n",
    "    print(f\"\\nsquare summation of all elements of {nums} are :  {s}\")"
   ]
  },
  {
   "cell_type": "code",
   "execution_count": 17,
   "metadata": {},
   "outputs": [
    {
     "name": "stdout",
     "output_type": "stream",
     "text": [
      "Help on built-in function print in module builtins:\n",
      "\n",
      "print(...)\n",
      "    print(value, ..., sep=' ', end='\\n', file=sys.stdout, flush=False)\n",
      "    \n",
      "    Prints the values to a stream, or to sys.stdout by default.\n",
      "    Optional keyword arguments:\n",
      "    file:  a file-like object (stream); defaults to the current sys.stdout.\n",
      "    sep:   string inserted between values, default a space.\n",
      "    end:   string appended after the last value, default a newline.\n",
      "    flush: whether to forcibly flush the stream.\n",
      "\n"
     ]
    }
   ],
   "source": [
    "help(print)"
   ]
  },
  {
   "cell_type": "code",
   "execution_count": 18,
   "metadata": {},
   "outputs": [
    {
     "name": "stdout",
     "output_type": "stream",
     "text": [
      "hello world\n",
      "how are you ?\n"
     ]
    }
   ],
   "source": [
    "print(\"hello\", \"world\") # hello world\\n\n",
    "print(\"how\", \"are\", \"you\", \"?\")# how are you"
   ]
  },
  {
   "cell_type": "code",
   "execution_count": 21,
   "metadata": {},
   "outputs": [
    {
     "name": "stdout",
     "output_type": "stream",
     "text": [
      "hello, world\n"
     ]
    }
   ],
   "source": [
    "print('hello', 'world', sep=', ')"
   ]
  },
  {
   "cell_type": "code",
   "execution_count": 23,
   "metadata": {},
   "outputs": [
    {
     "name": "stdout",
     "output_type": "stream",
     "text": [
      "hello\n",
      "world\n"
     ]
    }
   ],
   "source": [
    "print(\"hello\")# hello , \\n\n",
    "print(\"world\")# world, \\n"
   ]
  },
  {
   "cell_type": "code",
   "execution_count": 24,
   "metadata": {},
   "outputs": [
    {
     "name": "stdout",
     "output_type": "stream",
     "text": [
      "hello world\n"
     ]
    }
   ],
   "source": [
    "print('hello', end=' ') # hello world\n",
    "print('world')"
   ]
  },
  {
   "cell_type": "code",
   "execution_count": 26,
   "metadata": {},
   "outputs": [
    {
     "name": "stdout",
     "output_type": "stream",
     "text": [
      "hello\tworld\thow\tare\tyou\t?\n"
     ]
    }
   ],
   "source": [
    "print(\"hello\", \"world\", sep='\\t', end='\\t') # hello world\\n\n",
    "print(\"how\", \"are\", \"you\", \"?\", sep='\\t')# how are you"
   ]
  },
  {
   "cell_type": "code",
   "execution_count": 27,
   "metadata": {},
   "outputs": [
    {
     "name": "stdout",
     "output_type": "stream",
     "text": [
      "press any key to add elements in list : k\n",
      "Item: java\n",
      "press any key to add elements in list : k\n",
      "Item: c\n",
      "press any key to add elements in list : k\n",
      "Item: c++\n",
      "press any key to add elements in list : k\n",
      "Item: ruby\n",
      "press any key to add elements in list : \n",
      "\n",
      "Here is Your List:  ['java', 'c', 'c++', 'ruby']\n"
     ]
    }
   ],
   "source": [
    "lst = [ ]\n",
    "while input('press any key to add elements in list : ').strip():\n",
    "    item = input(\"Item: \")\n",
    "    lst.append(item)\n",
    "else:\n",
    "    print(\"\\nHere is Your List: \", lst)"
   ]
  },
  {
   "cell_type": "code",
   "execution_count": 28,
   "metadata": {},
   "outputs": [
    {
     "name": "stdout",
     "output_type": "stream",
     "text": [
      "item[1]: clothes\n",
      "item[2]: shoes\n",
      "item[3]: watch\n",
      "item[4]: mobile phone\n",
      "item[5]: fruits\n",
      "here is your list:  ['clothes', 'shoes', 'watch', 'mobile phone', 'fruits']\n"
     ]
    }
   ],
   "source": [
    "lst = []\n",
    "for char in '12345':\n",
    "    item = input(f\"item[{char}]: \")\n",
    "    lst.append(item)\n",
    "else:\n",
    "    print(\"here is your list: \", lst)"
   ]
  },
  {
   "cell_type": "code",
   "execution_count": 30,
   "metadata": {},
   "outputs": [
    {
     "name": "stdout",
     "output_type": "stream",
     "text": [
      "item[1]: 1\n",
      "item[2]: 6\n",
      "item[3]: 4\n",
      "item[4]: 7\n",
      "item[5]: 2\n",
      "here is your list:  [1, 6, 4, 7, 2]\n"
     ]
    }
   ],
   "source": [
    "lst = []\n",
    "for char in '12345':\n",
    "    lst.append(int(input(f\"item[{char}]: \")))\n",
    "else:\n",
    "    print(\"here is your list: \", lst)"
   ]
  },
  {
   "cell_type": "code",
   "execution_count": 31,
   "metadata": {},
   "outputs": [
    {
     "name": "stdout",
     "output_type": "stream",
     "text": [
      "1\n",
      "2\n",
      "3\n",
      "element\n",
      "1\n",
      "2\n",
      "java\n"
     ]
    }
   ],
   "source": [
    "tup = (1,2, 3,)\n",
    "s = { 1,2 , 'java', 'element'}\n",
    "for item in tup:\n",
    "    print(item)\n",
    "for item in s:\n",
    "    print(item)"
   ]
  },
  {
   "cell_type": "code",
   "execution_count": 32,
   "metadata": {},
   "outputs": [],
   "source": [
    "info = { 'name': 'python', 'version': 3.8, 'father':'Guido Van Rossum',\n",
    "       'lauch_year': 1994, 'modules':{\n",
    "           'web': [ 'flask', 'django'],\n",
    "           'automation': [ 'ansible', 'openstack']\n",
    "       }}"
   ]
  },
  {
   "cell_type": "code",
   "execution_count": 33,
   "metadata": {},
   "outputs": [
    {
     "name": "stdout",
     "output_type": "stream",
     "text": [
      "name\n",
      "version\n",
      "father\n",
      "lauch_year\n",
      "modules\n",
      "Any Guess how it will run ?\n"
     ]
    }
   ],
   "source": [
    "for element in info:\n",
    "    print(element)\n",
    "else:\n",
    "    print(\"Any Guess how it will run ?\")"
   ]
  },
  {
   "cell_type": "code",
   "execution_count": 48,
   "metadata": {},
   "outputs": [
    {
     "name": "stdout",
     "output_type": "stream",
     "text": [
      "name       = python\n",
      "version    = 3.8\n",
      "father     = Guido Van Rossum\n",
      "lauch_year = 1994\n",
      "modules    = {'web': ['flask', 'django'], 'automation': ['ansible', 'openstack']}\n",
      "way to iterate dictionaries\n"
     ]
    }
   ],
   "source": [
    "for key in info:\n",
    "    print(f\"{key:<10} = {info[key]}\")\n",
    "else:\n",
    "    print('way to iterate dictionaries')"
   ]
  },
  {
   "cell_type": "code",
   "execution_count": 51,
   "metadata": {},
   "outputs": [
    {
     "data": {
      "text/plain": [
       "20"
      ]
     },
     "execution_count": 51,
     "metadata": {},
     "output_type": "execute_result"
    }
   ],
   "source": [
    "len('abcdefghijklmnopqrst')"
   ]
  },
  {
   "cell_type": "code",
   "execution_count": 52,
   "metadata": {},
   "outputs": [
    {
     "name": "stdout",
     "output_type": "stream",
     "text": [
      "                name = python\n",
      "             version = 3.8\n",
      "              father = Guido Van Rossum\n",
      "          lauch_year = 1994\n",
      "             modules = {'web': ['flask', 'django'], 'automation': ['ansible', 'openstack']}\n",
      "abcdefghijklmnopqrst = some value\n",
      "way to iterate dictionaries\n"
     ]
    }
   ],
   "source": [
    "info['abcdefghijklmnopqrst']  = 'some value'\n",
    "for key in info:\n",
    "    print(f\"{key:>20} = {info[key]}\")\n",
    "else:\n",
    "    print('way to iterate dictionaries')"
   ]
  },
  {
   "cell_type": "code",
   "execution_count": 47,
   "metadata": {},
   "outputs": [
    {
     "data": {
      "text/plain": [
       "'4         '"
      ]
     },
     "execution_count": 47,
     "metadata": {},
     "output_type": "execute_result"
    }
   ],
   "source": [
    "value = 4\n",
    "f\"{value:<10}\""
   ]
  },
  {
   "cell_type": "markdown",
   "metadata": {},
   "source": [
    "**tuple unpacking**"
   ]
  },
  {
   "cell_type": "code",
   "execution_count": 53,
   "metadata": {},
   "outputs": [
    {
     "data": {
      "text/plain": [
       "('sachin', 24, 'India')"
      ]
     },
     "execution_count": 53,
     "metadata": {},
     "output_type": "execute_result"
    }
   ],
   "source": [
    "'sachin', 24, 'India'"
   ]
  },
  {
   "cell_type": "code",
   "execution_count": 55,
   "metadata": {},
   "outputs": [
    {
     "name": "stdout",
     "output_type": "stream",
     "text": [
      "<class 'tuple'> ('sachin', 24, 'India')\n"
     ]
    }
   ],
   "source": [
    "t = 'sachin', 24, 'India' # tuple packing\n",
    "print(type(t), t)"
   ]
  },
  {
   "cell_type": "code",
   "execution_count": 58,
   "metadata": {},
   "outputs": [],
   "source": [
    "name, age, country = ('sachin', 24, 'India') # tuple unpacking"
   ]
  },
  {
   "cell_type": "code",
   "execution_count": 59,
   "metadata": {},
   "outputs": [
    {
     "name": "stdout",
     "output_type": "stream",
     "text": [
      "sachin\n",
      "24\n",
      "India\n"
     ]
    }
   ],
   "source": [
    "print(name, age, country, sep='\\n')"
   ]
  },
  {
   "cell_type": "code",
   "execution_count": 67,
   "metadata": {},
   "outputs": [
    {
     "name": "stdout",
     "output_type": "stream",
     "text": [
      "sachin, 78, 56, 98\n"
     ]
    }
   ],
   "source": [
    "n, m, p, c = data[0] # tuple unpacking\n",
    "print(n, m, p, c, sep=', ')"
   ]
  },
  {
   "cell_type": "code",
   "execution_count": 61,
   "metadata": {},
   "outputs": [],
   "source": [
    "data = [\n",
    "    # name, maths, phy, chem\n",
    "    [ 'sachin', 78, 56, 98],\n",
    "    [ 'rajat', 56, 76, 76],\n",
    "    [ 'nidhi', 87, 89, 67],\n",
    "    [ 'tanvi', 78, 67, 87]\n",
    "    \n",
    "]"
   ]
  },
  {
   "cell_type": "code",
   "execution_count": 72,
   "metadata": {},
   "outputs": [
    {
     "name": "stdout",
     "output_type": "stream",
     "text": [
      "________________________________________________\n",
      "|         Name         | Maths |  PHY  |  CHEM |\n",
      "________________________________________________\n",
      "|        sachin        |   78  |   56  |   98  |\n",
      "________________________________________________\n",
      "|        rajat         |   56  |   76  |   76  |\n",
      "________________________________________________\n",
      "|        nidhi         |   87  |   89  |   67  |\n",
      "________________________________________________\n",
      "|        tanvi         |   78  |   67  |   87  |\n",
      "________________________________________________\n"
     ]
    }
   ],
   "source": [
    "print(\"_\"*48)\n",
    "print(f\"| {'Name'.center(20)} | {'Maths'.center(5)} | {'PHY'.center(5)} | {'CHEM'.center(5)} |\")\n",
    "for n, m, p, c in data:\n",
    "      m, p, c = str(m), str(p), str(c)\n",
    "      print(\"_\"*48)\n",
    "      print(f\"| {n.center(20)} | {m.center(5)} | {p.center(5)} | {c.center(5)} |\")\n",
    "else:\n",
    "      print(\"_\"*48)"
   ]
  },
  {
   "cell_type": "code",
   "execution_count": 73,
   "metadata": {},
   "outputs": [
    {
     "data": {
      "text/plain": [
       "'**********'"
      ]
     },
     "execution_count": 73,
     "metadata": {},
     "output_type": "execute_result"
    }
   ],
   "source": [
    "'*'*10"
   ]
  },
  {
   "cell_type": "code",
   "execution_count": 74,
   "metadata": {},
   "outputs": [
    {
     "data": {
      "text/plain": [
       "'sachin sachin sachin sachin sachin sachin sachin sachin sachin sachin sachin sachin sachin sachin sachin sachin sachin sachin sachin sachin '"
      ]
     },
     "execution_count": 74,
     "metadata": {},
     "output_type": "execute_result"
    }
   ],
   "source": [
    "'sachin '*20"
   ]
  },
  {
   "cell_type": "code",
   "execution_count": 75,
   "metadata": {},
   "outputs": [
    {
     "name": "stdout",
     "output_type": "stream",
     "text": [
      "1 *\n",
      "2 **\n",
      "3 ***\n",
      "4 ****\n",
      "5 *****\n",
      "6 ******\n",
      "7 *******\n",
      "8 ********\n",
      "9 *********\n",
      "10 **********\n"
     ]
    }
   ],
   "source": [
    "for row in [ 1, 2, 3, 4, 5, 6, 7, 8, 9, 10]:\n",
    "    print(row, \"*\"*row)"
   ]
  },
  {
   "cell_type": "code",
   "execution_count": 80,
   "metadata": {},
   "outputs": [
    {
     "name": "stdout",
     "output_type": "stream",
     "text": [
      " 10 **********\n",
      "  9 *********\n",
      "  8 ********\n",
      "  7 *******\n",
      "  6 ******\n",
      "  5 *****\n",
      "  4 ****\n",
      "  3 ***\n",
      "  2 **\n",
      "  1 *\n"
     ]
    }
   ],
   "source": [
    "for row in [ 1, 2, 3, 4, 5, 6, 7, 8, 9, 10]:\n",
    "    print(f\"{11-row:>3}\", \"*\"*(11-row))"
   ]
  },
  {
   "cell_type": "code",
   "execution_count": 82,
   "metadata": {},
   "outputs": [
    {
     "data": {
      "text/plain": [
       "'some value'"
      ]
     },
     "execution_count": 82,
     "metadata": {},
     "output_type": "execute_result"
    }
   ],
   "source": [
    "info.pop('abcdefghijklmnopqrst')"
   ]
  },
  {
   "cell_type": "code",
   "execution_count": 83,
   "metadata": {},
   "outputs": [
    {
     "data": {
      "text/plain": [
       "{'name': 'python',\n",
       " 'version': 3.8,\n",
       " 'father': 'Guido Van Rossum',\n",
       " 'lauch_year': 1994,\n",
       " 'modules': {'web': ['flask', 'django'],\n",
       "  'automation': ['ansible', 'openstack']}}"
      ]
     },
     "execution_count": 83,
     "metadata": {},
     "output_type": "execute_result"
    }
   ],
   "source": [
    "info"
   ]
  },
  {
   "cell_type": "code",
   "execution_count": 85,
   "metadata": {},
   "outputs": [
    {
     "name": "stdout",
     "output_type": "stream",
     "text": [
      "      name = python\n",
      "   version = 3.8\n",
      "    father = Guido Van Rossum\n",
      "lauch_year = 1994\n",
      "   modules = {'web': ['flask', 'django'], 'automation': ['ansible', 'openstack']}\n",
      "\n",
      "what i should to fix this error\n"
     ]
    }
   ],
   "source": [
    "for key, value in info.items():\n",
    "    print(f\"{key:>10} = {value}\")\n",
    "else:\n",
    "    print('\\nwhat i should to fix this error')"
   ]
  },
  {
   "cell_type": "code",
   "execution_count": 90,
   "metadata": {},
   "outputs": [],
   "source": [
    "info['versions'] = [ '1.X', '2.X', '3.X']"
   ]
  },
  {
   "cell_type": "code",
   "execution_count": 95,
   "metadata": {},
   "outputs": [
    {
     "name": "stdout",
     "output_type": "stream",
     "text": [
      "\n",
      "      name = python\n",
      "\n",
      "   version = 3.8\n",
      "\n",
      "    father = Guido Van Rossum\n",
      "\n",
      "lauch_year = 1994\n",
      "\n",
      "   modules - \n",
      "\n",
      "                 web = ['flask', 'django']\n",
      "\n",
      "          automation = ['ansible', 'openstack']\n",
      "\n",
      "  versions = 1.X, 2.X, 3.X\n",
      "\n",
      "what i should to fix this error\n"
     ]
    }
   ],
   "source": [
    "for key, value in info.items():\n",
    "    if type(value) in [int, float, complex, str]:\n",
    "        print(f\"\\n{key:>10} = {value}\")\n",
    "    if type(value) in [ list, tuple, set]:\n",
    "        print(f\"\\n{key:>10} = \", end='')\n",
    "        print(*value, sep=', ')\n",
    "    if type(value) == dict:\n",
    "        print(f\"\\n{key:>10} - \")\n",
    "        for key, value in value.items():\n",
    "            print(f\"\\n{key:>20} = {value}\")\n",
    "else:\n",
    "    print('\\nwhat i should to fix this error')"
   ]
  },
  {
   "cell_type": "markdown",
   "metadata": {},
   "source": [
    "**Inbuild Functions which generate iterables**"
   ]
  },
  {
   "cell_type": "markdown",
   "metadata": {},
   "source": [
    "    range(end)\n",
    "        eg. range(5) - 0, 1, 2, 3, 4\n",
    "    range(start, end)\n",
    "        eg. range(15,20) - 15, 16, 17, 18, 19\n",
    "    range(start, end, jump)\n",
    "        eg. range(1,10,2) - 1, 3, 5, 7, 9\n",
    "        eg. range(10, 0, -1) - 10, 9, 8, 7, 6, 5, 4, 3, 2, 1"
   ]
  },
  {
   "cell_type": "code",
   "execution_count": 97,
   "metadata": {},
   "outputs": [
    {
     "name": "stdout",
     "output_type": "stream",
     "text": [
      "range(0, 5)\n"
     ]
    }
   ],
   "source": [
    "print(range(5))"
   ]
  },
  {
   "cell_type": "code",
   "execution_count": 99,
   "metadata": {},
   "outputs": [
    {
     "name": "stdout",
     "output_type": "stream",
     "text": [
      "0, 1, 2, 3, 4\n"
     ]
    }
   ],
   "source": [
    "print(*range(5), sep=', ')"
   ]
  },
  {
   "cell_type": "code",
   "execution_count": 100,
   "metadata": {},
   "outputs": [
    {
     "name": "stdout",
     "output_type": "stream",
     "text": [
      "15, 16, 17, 18, 19\n"
     ]
    }
   ],
   "source": [
    "print(*range(15, 20), sep=', ')"
   ]
  },
  {
   "cell_type": "code",
   "execution_count": 101,
   "metadata": {},
   "outputs": [
    {
     "name": "stdout",
     "output_type": "stream",
     "text": [
      "1, 3, 5, 7, 9\n"
     ]
    }
   ],
   "source": [
    "print(*range(1, 10, 2), sep=', ')"
   ]
  },
  {
   "cell_type": "code",
   "execution_count": 102,
   "metadata": {},
   "outputs": [
    {
     "name": "stdout",
     "output_type": "stream",
     "text": [
      "10, 9, 8, 7, 6, 5, 4, 3, 2, 1\n"
     ]
    }
   ],
   "source": [
    "print(*range(10, 0, -1), sep=', ')"
   ]
  },
  {
   "cell_type": "code",
   "execution_count": 103,
   "metadata": {},
   "outputs": [
    {
     "name": "stdout",
     "output_type": "stream",
     "text": [
      "number: 5\n",
      "5\n",
      "10\n",
      "15\n",
      "20\n",
      "25\n",
      "30\n",
      "35\n",
      "40\n",
      "45\n",
      "50\n"
     ]
    }
   ],
   "source": [
    "n = int(input(\"number: \")) # n = 5\n",
    "print(*range(n, n*11, n), sep='\\n')"
   ]
  },
  {
   "cell_type": "code",
   "execution_count": 104,
   "metadata": {},
   "outputs": [
    {
     "name": "stdout",
     "output_type": "stream",
     "text": [
      "hello world times:  1\n",
      "hello world times:  2\n",
      "hello world times:  3\n",
      "hello world times:  4\n",
      "hello world times:  5\n",
      "hello world times:  6\n",
      "hello world times:  7\n",
      "hello world times:  8\n",
      "hello world times:  9\n",
      "hello world times:  10\n"
     ]
    }
   ],
   "source": [
    "for c in range(1, 11):\n",
    "    print(\"hello world times: \", c)\n"
   ]
  },
  {
   "cell_type": "code",
   "execution_count": 105,
   "metadata": {},
   "outputs": [
    {
     "name": "stdout",
     "output_type": "stream",
     "text": [
      "35\n",
      "70\n",
      "105\n",
      "140\n",
      "175\n",
      "\n",
      "Sweet Right\n"
     ]
    }
   ],
   "source": [
    "for num in range(1, 201):\n",
    "    if num % 5 == 0 and num % 7 == 0:\n",
    "        print(num)\n",
    "else:\n",
    "    print('\\nSweet Right')"
   ]
  },
  {
   "cell_type": "code",
   "execution_count": 106,
   "metadata": {},
   "outputs": [
    {
     "name": "stdout",
     "output_type": "stream",
     "text": [
      "Start: 1\n",
      "End: 100\n",
      "Summation:  5050\n"
     ]
    }
   ],
   "source": [
    "s = 0\n",
    "for num in range(int(input(\"Start: \")), int(input(\"End: \"))+1):\n",
    "    s += num\n",
    "else:\n",
    "    print(\"Summation: \", s)"
   ]
  },
  {
   "cell_type": "code",
   "execution_count": 107,
   "metadata": {},
   "outputs": [
    {
     "name": "stdout",
     "output_type": "stream",
     "text": [
      "Start: 1\n",
      "End: 100\n",
      "Summation:  338350\n"
     ]
    }
   ],
   "source": [
    "s = 0\n",
    "for num in range(int(input(\"Start: \")), int(input(\"End: \"))+1):\n",
    "    s += num**2\n",
    "else:\n",
    "    print(\"Summation: \", s)"
   ]
  },
  {
   "cell_type": "markdown",
   "metadata": {},
   "source": [
    "**enumerate**\n",
    "\n",
    "    syntax\n",
    "        \n",
    "        it_ob = enumerate(iterable)\n",
    "        \n",
    "        will generate a seq in form of a tuple having counter from 0 and value from iterable\n",
    "        \n",
    "        eg. enumerate('Python')\n",
    "            (0, 'P'), (1, 'y'), (2, 't'), (3, 'h'), (4, 'o'), (5, 'n')"
   ]
  },
  {
   "cell_type": "code",
   "execution_count": 108,
   "metadata": {},
   "outputs": [
    {
     "name": "stdout",
     "output_type": "stream",
     "text": [
      "<enumerate object at 0x00000295EFE91868>\n"
     ]
    }
   ],
   "source": [
    "print(enumerate('Python'))"
   ]
  },
  {
   "cell_type": "code",
   "execution_count": 109,
   "metadata": {},
   "outputs": [
    {
     "name": "stdout",
     "output_type": "stream",
     "text": [
      "(0, 'P')\n",
      "(1, 'y')\n",
      "(2, 't')\n",
      "(3, 'h')\n",
      "(4, 'o')\n",
      "(5, 'n')\n"
     ]
    }
   ],
   "source": [
    "print(*enumerate('Python'), sep='\\n')"
   ]
  },
  {
   "cell_type": "code",
   "execution_count": 112,
   "metadata": {},
   "outputs": [
    {
     "name": "stdout",
     "output_type": "stream",
     "text": [
      "(0, 'java')\n",
      "(1, 'c')\n",
      "(2, 'c++')\n"
     ]
    }
   ],
   "source": [
    "print(*enumerate([ 'java', 'c', 'c++']), sep='\\n')"
   ]
  },
  {
   "cell_type": "code",
   "execution_count": 116,
   "metadata": {},
   "outputs": [
    {
     "name": "stdout",
     "output_type": "stream",
     "text": [
      "0 P\n",
      "1 y\n",
      "2 t\n",
      "3 h\n",
      "4 o\n",
      "5 n\n",
      "enumeration of iterable object\n"
     ]
    }
   ],
   "source": [
    "for i, char in enumerate('Python'):\n",
    "    print(i, char)\n",
    "else:\n",
    "    print(\"enumeration of iterable object\")"
   ]
  },
  {
   "cell_type": "code",
   "execution_count": 119,
   "metadata": {},
   "outputs": [
    {
     "name": "stdout",
     "output_type": "stream",
     "text": [
      "1. java\n",
      "2. c\n",
      "3. c++\n",
      "4. ruby\n",
      "5. python\n",
      "6. perl\n",
      "\n",
      "better\n"
     ]
    }
   ],
   "source": [
    "for i, item in enumerate([ 'java', 'c', 'c++', 'ruby', 'python', 'perl']):\n",
    "    print(f\"{i+1}. {item}\")\n",
    "else:\n",
    "    print('\\nbetter')"
   ]
  },
  {
   "cell_type": "code",
   "execution_count": 120,
   "metadata": {},
   "outputs": [
    {
     "name": "stdout",
     "output_type": "stream",
     "text": [
      "________________________________________________________\n",
      "|  S.No |         Name         | Maths |  PHY  |  CHEM |\n",
      "________________________________________________________\n",
      "|   1   |        sachin        |   78  |   56  |   98  |\n",
      "________________________________________________________\n",
      "|   2   |        rajat         |   56  |   76  |   76  |\n",
      "________________________________________________________\n",
      "|   3   |        nidhi         |   87  |   89  |   67  |\n",
      "________________________________________________________\n",
      "|   4   |        tanvi         |   78  |   67  |   87  |\n",
      "________________________________________________________\n"
     ]
    }
   ],
   "source": [
    "print(\"_\"*56)\n",
    "print(f\"| {'S.No'.center(5)} | {'Name'.center(20)} | {'Maths'.center(5)} | {'PHY'.center(5)} | {'CHEM'.center(5)} |\")\n",
    "for i, (n, m, p, c) in enumerate(data):\n",
    "      m, p, c, i = str(m), str(p), str(c), str(i+1)\n",
    "      print(\"_\"*56)\n",
    "      print(f\"| {i.center(5)} | {n.center(20)} | {m.center(5)} | {p.center(5)} | {c.center(5)} |\")\n",
    "else:\n",
    "      print(\"_\"*56)"
   ]
  },
  {
   "cell_type": "code",
   "execution_count": 121,
   "metadata": {},
   "outputs": [
    {
     "name": "stdout",
     "output_type": "stream",
     "text": [
      "sachin\n",
      "hindi\n",
      "english\n"
     ]
    }
   ],
   "source": [
    "# advance tuple unpacking\n",
    "name, (first, second) = [ 'sachin', ('hindi', 'english') ]\n",
    "print(name)\n",
    "print(first)\n",
    "print(second)"
   ]
  },
  {
   "cell_type": "code",
   "execution_count": 122,
   "metadata": {},
   "outputs": [],
   "source": [
    "n, m, p, c = ('sachin', 45, 67, 76)"
   ]
  },
  {
   "cell_type": "code",
   "execution_count": 123,
   "metadata": {},
   "outputs": [
    {
     "name": "stdout",
     "output_type": "stream",
     "text": [
      "sachin 45 67 76\n"
     ]
    }
   ],
   "source": [
    "print(n,m,p,c)"
   ]
  },
  {
   "cell_type": "code",
   "execution_count": 125,
   "metadata": {},
   "outputs": [
    {
     "name": "stdout",
     "output_type": "stream",
     "text": [
      "0 sachin 45 67 76\n"
     ]
    }
   ],
   "source": [
    "i, (n, m, p, c) =(0, ('sachin', 45, 67, 76))\n",
    "print(i, n, m, p, c)"
   ]
  },
  {
   "cell_type": "code",
   "execution_count": 126,
   "metadata": {},
   "outputs": [
    {
     "name": "stderr",
     "output_type": "stream",
     "text": [
      "100%|█████████████████████████████████████████████████████████████████████████████████████████████████████████| 900/900 [15:01<00:00,  1.00s/it]\n"
     ]
    }
   ],
   "source": [
    "from time import sleep\n",
    "from tqdm import tqdm\n",
    "\n",
    "for _ in tqdm(range(900)):\n",
    "    sleep(1)"
   ]
  },
  {
   "cell_type": "markdown",
   "metadata": {},
   "source": [
    "    zip\n",
    "    sorted\n",
    "    reversed \n",
    "    map\n",
    "    filter"
   ]
  },
  {
   "cell_type": "code",
   "execution_count": 127,
   "metadata": {},
   "outputs": [],
   "source": [
    "name = [ 'apple', 'one plus', 'samsung', 'oppo']\n",
    "quantity   = [  10, 8, 13, 15]\n",
    "price =  [ 80000, 35000, 60000, 25000 ]"
   ]
  },
  {
   "cell_type": "code",
   "execution_count": 128,
   "metadata": {},
   "outputs": [
    {
     "name": "stdout",
     "output_type": "stream",
     "text": [
      "[('apple', 10, 80000), ('one plus', 8, 35000), ('samsung', 13, 60000), ('oppo', 15, 25000)]\n"
     ]
    }
   ],
   "source": [
    "sells = []\n",
    "for index in range(len(name)): # range(4) - 0, 1, 2, 3\n",
    "    value = ( name[index], quantity[index], price[index] )\n",
    "    sells.append(value)\n",
    "else:\n",
    "    print(sells)"
   ]
  },
  {
   "cell_type": "code",
   "execution_count": 129,
   "metadata": {},
   "outputs": [
    {
     "name": "stdout",
     "output_type": "stream",
     "text": [
      "[('apple', 10, 80000), ('one plus', 8, 35000), ('samsung', 13, 60000), ('oppo', 15, 25000)]\n"
     ]
    }
   ],
   "source": [
    "sells = list(zip(name, quantity, price))\n",
    "print(sells)"
   ]
  },
  {
   "cell_type": "code",
   "execution_count": 130,
   "metadata": {},
   "outputs": [
    {
     "name": "stdout",
     "output_type": "stream",
     "text": [
      "<zip object at 0x00000295F00595C8>\n"
     ]
    }
   ],
   "source": [
    "s1 = 'pto'\n",
    "s2 = 'yhn'\n",
    "z = zip(s1, s2) # one time use\n",
    "print(z)"
   ]
  },
  {
   "cell_type": "code",
   "execution_count": 131,
   "metadata": {},
   "outputs": [
    {
     "name": "stdout",
     "output_type": "stream",
     "text": [
      "('p', 'y') ('t', 'h') ('o', 'n')\n"
     ]
    }
   ],
   "source": [
    "print(*z)"
   ]
  },
  {
   "cell_type": "code",
   "execution_count": 134,
   "metadata": {},
   "outputs": [
    {
     "name": "stdout",
     "output_type": "stream",
     "text": [
      "      name price \t    qn\n",
      "     apple    10  \t 80000\n",
      "  one plus     8  \t 35000\n",
      "   samsung    13  \t 60000\n",
      "      oppo    15  \t 25000\n"
     ]
    }
   ],
   "source": [
    "name = [ 'apple', 'one plus', 'samsung', 'oppo']\n",
    "quantity   = [  10, 8, 13, 15]\n",
    "price =  [ 80000, 35000, 60000, 25000 ]\n",
    "print(f\"{'name':>10} {'price':>5} \\t {'qn':>5}\")\n",
    "for n, p, q in zip(name, quantity, price):\n",
    "    print(f\"{n:>10} {p:>5}  \\t {q:>5}\")"
   ]
  },
  {
   "cell_type": "code",
   "execution_count": 136,
   "metadata": {},
   "outputs": [],
   "source": [
    "l = [ 5, 3, 4, 6, 7, 8,9, 1, 4, 8, 9, 2]"
   ]
  },
  {
   "cell_type": "code",
   "execution_count": 141,
   "metadata": {},
   "outputs": [
    {
     "name": "stdout",
     "output_type": "stream",
     "text": [
      "9, 9, 8, 8, 7, 6, 5, 4, 4, 3, 2, 1, "
     ]
    }
   ],
   "source": [
    "for item in sorted(l, reverse=True):\n",
    "    print(item, end=', ')"
   ]
  },
  {
   "cell_type": "code",
   "execution_count": 143,
   "metadata": {},
   "outputs": [
    {
     "name": "stdout",
     "output_type": "stream",
     "text": [
      "ruby, python, perl, java, c, "
     ]
    }
   ],
   "source": [
    "t = ('java', 'c', 'ruby', 'perl', 'python')\n",
    "for item in sorted(t, reverse=True):\n",
    "    print(item, end=', ')"
   ]
  },
  {
   "cell_type": "code",
   "execution_count": 144,
   "metadata": {},
   "outputs": [
    {
     "name": "stdout",
     "output_type": "stream",
     "text": [
      "9, 8, 6, 4, 3, 2, 1, "
     ]
    }
   ],
   "source": [
    "s = { 4, 6, 8, 4, 9, 3, 1, 6, 8, 2}\n",
    "for item in sorted(s, reverse=True):\n",
    "    print(item, end=', ')"
   ]
  },
  {
   "cell_type": "code",
   "execution_count": 145,
   "metadata": {},
   "outputs": [
    {
     "name": "stdout",
     "output_type": "stream",
     "text": [
      "n\n",
      "o\n",
      "h\n",
      "t\n",
      "y\n",
      "p\n"
     ]
    }
   ],
   "source": [
    "s = 'python'\n",
    "for char in reversed(s):\n",
    "    print(char)"
   ]
  },
  {
   "cell_type": "code",
   "execution_count": 146,
   "metadata": {},
   "outputs": [
    {
     "name": "stdout",
     "output_type": "stream",
     "text": [
      "bag\n",
      "copy\n",
      "pen\n"
     ]
    }
   ],
   "source": [
    "s = [ 'pen', 'copy', 'bag',]\n",
    "for char in reversed(s):\n",
    "    print(char)"
   ]
  },
  {
   "cell_type": "code",
   "execution_count": 147,
   "metadata": {},
   "outputs": [
    {
     "data": {
      "text/plain": [
       "['pen', 'copy', 'bag']"
      ]
     },
     "execution_count": 147,
     "metadata": {},
     "output_type": "execute_result"
    }
   ],
   "source": [
    "s"
   ]
  },
  {
   "cell_type": "markdown",
   "metadata": {},
   "source": [
    "**map**"
   ]
  },
  {
   "cell_type": "code",
   "execution_count": 148,
   "metadata": {},
   "outputs": [],
   "source": [
    "data = [ '1', '5', '19', '45', '36', '34', '3']"
   ]
  },
  {
   "cell_type": "code",
   "execution_count": 149,
   "metadata": {},
   "outputs": [
    {
     "name": "stdout",
     "output_type": "stream",
     "text": [
      "Old Data:  ['1', '5', '19', '45', '36', '34', '3']\n",
      "Map Data:  [1, 5, 19, 45, 36, 34, 3]\n"
     ]
    }
   ],
   "source": [
    "result = []\n",
    "for item in data:\n",
    "    i = int(item)\n",
    "    result.append(i)\n",
    "else:\n",
    "    print(\"Old Data: \", data)\n",
    "    print(\"Map Data: \", result)"
   ]
  },
  {
   "cell_type": "code",
   "execution_count": 151,
   "metadata": {},
   "outputs": [
    {
     "name": "stdout",
     "output_type": "stream",
     "text": [
      "1 5 19 45 36 34 3\n"
     ]
    }
   ],
   "source": [
    "print(*map(int, data)) # single time use"
   ]
  },
  {
   "cell_type": "code",
   "execution_count": 152,
   "metadata": {},
   "outputs": [
    {
     "data": {
      "text/plain": [
       "['1', '5', '19', '45', '36', '34', '3']"
      ]
     },
     "execution_count": 152,
     "metadata": {},
     "output_type": "execute_result"
    }
   ],
   "source": [
    "data"
   ]
  },
  {
   "cell_type": "code",
   "execution_count": 153,
   "metadata": {},
   "outputs": [
    {
     "name": "stdout",
     "output_type": "stream",
     "text": [
      "[1, 5, 19, 45, 36, 34, 3]\n"
     ]
    }
   ],
   "source": [
    "result = list( map( int, data ) )\n",
    "print(result)"
   ]
  },
  {
   "cell_type": "code",
   "execution_count": 157,
   "metadata": {},
   "outputs": [
    {
     "name": "stdout",
     "output_type": "stream",
     "text": [
      "56 45 78 34\n"
     ]
    }
   ],
   "source": [
    "integers = list(map(int, input().split()))"
   ]
  },
  {
   "cell_type": "code",
   "execution_count": 158,
   "metadata": {},
   "outputs": [
    {
     "name": "stdout",
     "output_type": "stream",
     "text": [
      "[56, 45, 78, 34]\n"
     ]
    }
   ],
   "source": [
    "print(integers)"
   ]
  },
  {
   "cell_type": "code",
   "execution_count": 160,
   "metadata": {},
   "outputs": [
    {
     "name": "stdout",
     "output_type": "stream",
     "text": [
      "numbers: 34 56 34 23\n",
      "sum of all items is:  147\n"
     ]
    }
   ],
   "source": [
    "s = 0\n",
    "for item in map(int, input(\"numbers: \").split()):\n",
    "    s += item\n",
    "else:\n",
    "    print(\"sum of all items is: \", s)"
   ]
  },
  {
   "cell_type": "markdown",
   "metadata": {},
   "source": [
    "### Hacker Rank "
   ]
  },
  {
   "cell_type": "markdown",
   "metadata": {},
   "source": [
    "    space seprated input"
   ]
  },
  {
   "cell_type": "code",
   "execution_count": null,
   "metadata": {},
   "outputs": [],
   "source": [
    "[\n",
    "    [1, 2, 3],\n",
    "    [ 4, 5, 6],\n",
    "] # 2, 3"
   ]
  },
  {
   "cell_type": "code",
   "execution_count": 161,
   "metadata": {},
   "outputs": [],
   "source": [
    "from pprint import pprint"
   ]
  },
  {
   "cell_type": "code",
   "execution_count": 163,
   "metadata": {},
   "outputs": [
    {
     "name": "stdout",
     "output_type": "stream",
     "text": [
      "nrows: 4\n",
      "ncols: 5\n",
      "Item[0][0]: 1\n",
      "Item[0][1]: 2\n",
      "Item[0][2]: 3\n",
      "Item[0][3]: 4\n",
      "Item[0][4]: 5\n",
      "Item[1][0]: 6\n",
      "Item[1][1]: 7\n",
      "Item[1][2]: 8\n",
      "Item[1][3]: 9\n",
      "Item[1][4]: 10\n",
      "Item[2][0]: 11\n",
      "Item[2][1]: 12\n",
      "Item[2][2]: 13\n",
      "Item[2][3]: 14\n",
      "Item[2][4]: 15\n",
      "Item[3][0]: 16\n",
      "Item[3][1]: 17\n",
      "Item[3][2]: 18\n",
      "Item[3][3]: 19\n",
      "Item[3][4]: 20\n",
      "[[1, 2, 3, 4, 5], [6, 7, 8, 9, 10], [11, 12, 13, 14, 15], [16, 17, 18, 19, 20]]\n"
     ]
    }
   ],
   "source": [
    "nrows = int(input(\"nrows: \"))\n",
    "ncols = int(input(\"ncols: \"))\n",
    "\n",
    "matrix = [ ]\n",
    "for row in range(nrows):\n",
    "    inner = [] # [1, 2, 3]\n",
    "    for col in range(ncols):\n",
    "        item = int(input(f\"Item[{row}][{col}]: \"))\n",
    "        inner.append(item)\n",
    "    matrix.append(inner)\n",
    "else:\n",
    "    pprint(matrix)\n",
    "    "
   ]
  },
  {
   "cell_type": "code",
   "execution_count": 166,
   "metadata": {},
   "outputs": [
    {
     "name": "stdout",
     "output_type": "stream",
     "text": [
      "nrows: 4\n",
      "ncols: 5\n",
      "Row[0]: 1 2 3 4 5\n",
      "Row[1]: 6 7 8 9 10\n",
      "Row[2]: 11 12 13 14 15\n",
      "Row[3]: 16 17 18 19 20\n",
      "[[1, 2, 3, 4, 5], [6, 7, 8, 9, 10], [11, 12, 13, 14, 15], [16, 17, 18, 19, 20]]\n"
     ]
    }
   ],
   "source": [
    "nrows = int(input(\"nrows: \"))\n",
    "ncols = int(input(\"ncols: \"))\n",
    "\n",
    "matrix = [ ]\n",
    "for row in range(nrows):\n",
    "    inner = list( map( int, input(f\"Row[{row}]: \").split()))\n",
    "    matrix.append(inner)\n",
    "else:\n",
    "    pprint(matrix)\n",
    "    "
   ]
  },
  {
   "cell_type": "markdown",
   "metadata": {},
   "source": [
    "## List Comprehensions"
   ]
  },
  {
   "cell_type": "code",
   "execution_count": 168,
   "metadata": {},
   "outputs": [
    {
     "name": "stdout",
     "output_type": "stream",
     "text": [
      "[1, 2, 3, 4, 5, 6, 7, 8, 9, 10]\n"
     ]
    }
   ],
   "source": [
    "nums = [ num for num in range(1, 11) ]\n",
    "print(nums)"
   ]
  },
  {
   "cell_type": "code",
   "execution_count": 169,
   "metadata": {},
   "outputs": [
    {
     "data": {
      "text/plain": [
       "[2, 4, 6, 8, 10, 12, 14, 16, 18]"
      ]
     },
     "execution_count": 169,
     "metadata": {},
     "output_type": "execute_result"
    }
   ],
   "source": [
    "nums = [ num for num in range(1, 20) if num % 2 == 0 ]\n",
    "nums"
   ]
  },
  {
   "cell_type": "code",
   "execution_count": 170,
   "metadata": {},
   "outputs": [],
   "source": [
    "from random import randint"
   ]
  },
  {
   "cell_type": "code",
   "execution_count": 174,
   "metadata": {},
   "outputs": [],
   "source": [
    "rnums = []\n",
    "for _ in range(10):\n",
    "    rnum = randint(1, 50)\n",
    "    rnums.append(rnum)\n"
   ]
  },
  {
   "cell_type": "code",
   "execution_count": 176,
   "metadata": {},
   "outputs": [
    {
     "data": {
      "text/plain": [
       "[46, 9, 33, 2, 37, 8, 12, 41, 26, 33]"
      ]
     },
     "execution_count": 176,
     "metadata": {},
     "output_type": "execute_result"
    }
   ],
   "source": [
    "rnums"
   ]
  },
  {
   "cell_type": "code",
   "execution_count": 177,
   "metadata": {},
   "outputs": [
    {
     "name": "stdout",
     "output_type": "stream",
     "text": [
      "[40, 45, 49, 34, 39, 46, 4, 1, 32, 7]\n"
     ]
    }
   ],
   "source": [
    "rnums = [ randint(1, 50) for _ in range(10) ]\n",
    "print(rnums)"
   ]
  },
  {
   "cell_type": "code",
   "execution_count": 182,
   "metadata": {},
   "outputs": [
    {
     "name": "stdout",
     "output_type": "stream",
     "text": [
      "nrows: 4\n",
      "Row[0]: 1 2 3\n",
      "Row[1]: 4 5 6\n",
      "Row[2]: 7 8 9\n",
      "Row[3]: 10 11 12\n",
      "[[1, 2, 3], [4, 5, 6], [7, 8, 9], [10, 11, 12]]\n"
     ]
    }
   ],
   "source": [
    "matrix = [\n",
    "    list( map(int, input(f'Row[{row}]: ').split() ) )  \n",
    "    \n",
    "    for row in range(int(input(\"nrows: \")))\n",
    "        ]\n",
    "print(matrix)"
   ]
  },
  {
   "cell_type": "code",
   "execution_count": null,
   "metadata": {},
   "outputs": [],
   "source": []
  },
  {
   "cell_type": "raw",
   "metadata": {},
   "source": [
    "0,0\n",
    "0,1\n",
    "0,2\n",
    "\n",
    "1,0\n",
    "1,1\n",
    "1,2\n",
    "\n",
    "2,0\n",
    "2,1\n",
    "2,2"
   ]
  },
  {
   "cell_type": "code",
   "execution_count": 186,
   "metadata": {},
   "outputs": [
    {
     "name": "stdout",
     "output_type": "stream",
     "text": [
      "0, 0\n",
      "0, 1\n",
      "0, 2\n",
      "\n",
      "1, 0\n",
      "1, 1\n",
      "1, 2\n",
      "\n",
      "2, 0\n",
      "2, 1\n",
      "2, 2\n",
      "\n"
     ]
    }
   ],
   "source": [
    "for i in range(3):\n",
    "    for j in range(3):\n",
    "        print(i, j, sep=', ')\n",
    "    print()"
   ]
  },
  {
   "cell_type": "code",
   "execution_count": 187,
   "metadata": {},
   "outputs": [],
   "source": [
    "lst = [ (item1, item2) for item1 in range(3)\n",
    "          for item2 in range(3)\n",
    "      ]"
   ]
  },
  {
   "cell_type": "code",
   "execution_count": 191,
   "metadata": {},
   "outputs": [
    {
     "name": "stdout",
     "output_type": "stream",
     "text": [
      "(0, 0)\n",
      "(0, 1)\n",
      "(0, 2)\n",
      "(1, 0)\n",
      "(1, 1)\n",
      "(1, 2)\n",
      "(2, 0)\n",
      "(2, 1)\n",
      "(2, 2)\n",
      "None None None None None None None None None\n"
     ]
    }
   ],
   "source": [
    "print(*map(print, lst))"
   ]
  },
  {
   "cell_type": "code",
   "execution_count": 193,
   "metadata": {},
   "outputs": [],
   "source": [
    "d = { \n",
    "    'name': 'python', \n",
    "    'versions': [ 'java', 'c', 'c++'],\n",
    "    'modules': {\n",
    "        'web': [ 'web2py', 'django', 'flask'],\n",
    "        'data science': [ 'numpy', 'pandas', 'scipy'],\n",
    "        'machine learning': [ 'tensorflow', 'keras', 'sklearn']\n",
    "    },\n",
    "    'father': 'Guido Van Rossum', \n",
    "    'launch': 1994,\n",
    "    'current_version': 3.8,\n",
    "    'website': 'python.org'\n",
    "}"
   ]
  },
  {
   "cell_type": "code",
   "execution_count": 194,
   "metadata": {},
   "outputs": [
    {
     "name": "stdout",
     "output_type": "stream",
     "text": [
      "{'name': 'python', 'versions': ['java', 'c', 'c++'], 'modules': {'web': ['web2py', 'django', 'flask'], 'data science': ['numpy', 'pandas', 'scipy'], 'machine learning': ['tensorflow', 'keras', 'sklearn']}, 'father': 'Guido Van Rossum', 'launch': 1994, 'current_version': 3.8, 'website': 'python.org'}\n"
     ]
    }
   ],
   "source": [
    "print(d)"
   ]
  },
  {
   "cell_type": "code",
   "execution_count": 195,
   "metadata": {},
   "outputs": [],
   "source": [
    "from pprint import pprint"
   ]
  },
  {
   "cell_type": "code",
   "execution_count": 196,
   "metadata": {},
   "outputs": [
    {
     "name": "stdout",
     "output_type": "stream",
     "text": [
      "{'current_version': 3.8,\n",
      " 'father': 'Guido Van Rossum',\n",
      " 'launch': 1994,\n",
      " 'modules': {'data science': ['numpy', 'pandas', 'scipy'],\n",
      "             'machine learning': ['tensorflow', 'keras', 'sklearn'],\n",
      "             'web': ['web2py', 'django', 'flask']},\n",
      " 'name': 'python',\n",
      " 'versions': ['java', 'c', 'c++'],\n",
      " 'website': 'python.org'}\n"
     ]
    }
   ],
   "source": [
    "pprint(d)"
   ]
  },
  {
   "cell_type": "markdown",
   "metadata": {},
   "source": [
    "#### File Handling\n",
    "\n",
    "    files are permanent collection of data (bytes)"
   ]
  },
  {
   "cell_type": "markdown",
   "metadata": {},
   "source": [
    "    program - primary (RAM)\n",
    "\n",
    "    files - secondary (HDD/SSD)"
   ]
  },
  {
   "cell_type": "markdown",
   "metadata": {},
   "source": [
    "#### Type of files\n",
    "\n",
    "    Regular Files (Human Readable Files)\n",
    "        .txt, .csv, .log, .json, .yml, .xml, .py, .c\n",
    "    \n",
    "    Byte Files (Machine Readable/ Binary Data)\n",
    "        .jpeg, .mp4, .obj, .pyc, .class"
   ]
  },
  {
   "cell_type": "markdown",
   "metadata": {},
   "source": [
    "    Default Encoding - utf-8\n",
    "    \n",
    "    char-mapping"
   ]
  },
  {
   "cell_type": "markdown",
   "metadata": {},
   "source": [
    "**syntax**\n",
    "\n",
    "    file = open(path, mode,  buffering, encoding)\n",
    "    \n",
    "    mode \n",
    "        t - text file (regular file, default)\n",
    "        b - byte file \n",
    "        r - read only (default)\n",
    "        w - write only (it will remove existing file & it's content)\n",
    "        x - new writeable file only (throw an error if file exists)\n",
    "        a - append only \n",
    "        + - read & write capabilities\n",
    "        \n",
    "        rt+ - can read and write text file\n",
    "        wb+ - can read and write byte file\n",
    "        \n",
    "    operation\n",
    "    \n",
    "        tell - which tells current pos of pointer\n",
    "        seek - which used to navigate file\n",
    "        \n",
    "        read - to read chars/bytes from file\n",
    "        write - to write chars/bytes to a file\n",
    "        \n",
    "        readline - to read a single line\n",
    "        writelines - to write multiple lines\n",
    "        "
   ]
  },
  {
   "cell_type": "code",
   "execution_count": null,
   "metadata": {},
   "outputs": [],
   "source": []
  },
  {
   "cell_type": "markdown",
   "metadata": {},
   "source": [
    "tomorrow agenda \n",
    "    \n",
    "    os module\n",
    "    serlization & file handling\n",
    "    functions in python"
   ]
  },
  {
   "cell_type": "code",
   "execution_count": 200,
   "metadata": {},
   "outputs": [],
   "source": [
    "path = \"C:\\\\Users\\\\sachin\\\\Desktop\\\\hello.txt\"\n",
    "\n",
    "fp = open(path, 'rt')\n"
   ]
  },
  {
   "cell_type": "code",
   "execution_count": 201,
   "metadata": {},
   "outputs": [
    {
     "name": "stdout",
     "output_type": "stream",
     "text": [
      "<class '_io.TextIOWrapper'>\n"
     ]
    }
   ],
   "source": [
    "print(type(fp))"
   ]
  },
  {
   "cell_type": "code",
   "execution_count": 203,
   "metadata": {},
   "outputs": [
    {
     "name": "stdout",
     "output_type": "stream",
     "text": [
      "buffer\n",
      "close\n",
      "closed\n",
      "detach\n",
      "encoding\n",
      "errors\n",
      "fileno\n",
      "flush\n",
      "isatty\n",
      "line_buffering\n",
      "mode\n",
      "name\n",
      "newlines\n",
      "read\n",
      "readable\n",
      "readline\n",
      "readlines\n",
      "reconfigure\n",
      "seek\n",
      "seekable\n",
      "tell\n",
      "truncate\n",
      "writable\n",
      "write\n",
      "write_through\n",
      "writelines\n"
     ]
    }
   ],
   "source": [
    "print(*[ func for func in dir(fp) if func[0].islower() ], sep='\\n')"
   ]
  },
  {
   "cell_type": "code",
   "execution_count": 204,
   "metadata": {},
   "outputs": [
    {
     "data": {
      "text/plain": [
       "'rt'"
      ]
     },
     "execution_count": 204,
     "metadata": {},
     "output_type": "execute_result"
    }
   ],
   "source": [
    "fp.mode"
   ]
  },
  {
   "cell_type": "code",
   "execution_count": 206,
   "metadata": {},
   "outputs": [
    {
     "data": {
      "text/plain": [
       "False"
      ]
     },
     "execution_count": 206,
     "metadata": {},
     "output_type": "execute_result"
    }
   ],
   "source": [
    "fp.writable()"
   ]
  },
  {
   "cell_type": "code",
   "execution_count": 207,
   "metadata": {},
   "outputs": [
    {
     "data": {
      "text/plain": [
       "True"
      ]
     },
     "execution_count": 207,
     "metadata": {},
     "output_type": "execute_result"
    }
   ],
   "source": [
    "fp.readable()"
   ]
  },
  {
   "cell_type": "code",
   "execution_count": 208,
   "metadata": {},
   "outputs": [
    {
     "data": {
      "text/plain": [
       "0"
      ]
     },
     "execution_count": 208,
     "metadata": {},
     "output_type": "execute_result"
    }
   ],
   "source": [
    "fp.tell()"
   ]
  },
  {
   "cell_type": "code",
   "execution_count": 209,
   "metadata": {},
   "outputs": [],
   "source": [
    "data = fp.read(5)"
   ]
  },
  {
   "cell_type": "code",
   "execution_count": 210,
   "metadata": {},
   "outputs": [
    {
     "data": {
      "text/plain": [
       "'Welco'"
      ]
     },
     "execution_count": 210,
     "metadata": {},
     "output_type": "execute_result"
    }
   ],
   "source": [
    "data"
   ]
  },
  {
   "cell_type": "code",
   "execution_count": 211,
   "metadata": {},
   "outputs": [
    {
     "data": {
      "text/plain": [
       "5"
      ]
     },
     "execution_count": 211,
     "metadata": {},
     "output_type": "execute_result"
    }
   ],
   "source": [
    "fp.tell()"
   ]
  },
  {
   "cell_type": "code",
   "execution_count": 212,
   "metadata": {},
   "outputs": [],
   "source": [
    "data = fp.read(5)"
   ]
  },
  {
   "cell_type": "code",
   "execution_count": 213,
   "metadata": {},
   "outputs": [
    {
     "data": {
      "text/plain": [
       "'me to'"
      ]
     },
     "execution_count": 213,
     "metadata": {},
     "output_type": "execute_result"
    }
   ],
   "source": [
    "data"
   ]
  },
  {
   "cell_type": "code",
   "execution_count": 214,
   "metadata": {},
   "outputs": [
    {
     "data": {
      "text/plain": [
       "10"
      ]
     },
     "execution_count": 214,
     "metadata": {},
     "output_type": "execute_result"
    }
   ],
   "source": [
    "fp.tell()"
   ]
  },
  {
   "cell_type": "code",
   "execution_count": 215,
   "metadata": {},
   "outputs": [
    {
     "data": {
      "text/plain": [
       "0"
      ]
     },
     "execution_count": 215,
     "metadata": {},
     "output_type": "execute_result"
    }
   ],
   "source": [
    "fp.seek(0)"
   ]
  },
  {
   "cell_type": "code",
   "execution_count": 216,
   "metadata": {},
   "outputs": [
    {
     "data": {
      "text/plain": [
       "0"
      ]
     },
     "execution_count": 216,
     "metadata": {},
     "output_type": "execute_result"
    }
   ],
   "source": [
    "fp.tell()"
   ]
  },
  {
   "cell_type": "code",
   "execution_count": 217,
   "metadata": {},
   "outputs": [],
   "source": [
    "data = fp.read()"
   ]
  },
  {
   "cell_type": "code",
   "execution_count": 218,
   "metadata": {},
   "outputs": [
    {
     "name": "stdout",
     "output_type": "stream",
     "text": [
      "Welcome to File Handling With Python.\n",
      "\tIt's very Easy\n"
     ]
    }
   ],
   "source": [
    "print(data)"
   ]
  },
  {
   "cell_type": "code",
   "execution_count": 219,
   "metadata": {},
   "outputs": [],
   "source": [
    "fp.close()"
   ]
  },
  {
   "cell_type": "code",
   "execution_count": 220,
   "metadata": {},
   "outputs": [
    {
     "data": {
      "text/plain": [
       "'C:\\\\Users\\\\sachin\\\\Desktop\\\\hello.txt'"
      ]
     },
     "execution_count": 220,
     "metadata": {},
     "output_type": "execute_result"
    }
   ],
   "source": [
    "path"
   ]
  },
  {
   "cell_type": "code",
   "execution_count": 221,
   "metadata": {},
   "outputs": [],
   "source": [
    "fp = open(path, 'wt+')"
   ]
  },
  {
   "cell_type": "code",
   "execution_count": 222,
   "metadata": {},
   "outputs": [
    {
     "data": {
      "text/plain": [
       "''"
      ]
     },
     "execution_count": 222,
     "metadata": {},
     "output_type": "execute_result"
    }
   ],
   "source": [
    "fp.read()"
   ]
  },
  {
   "cell_type": "code",
   "execution_count": 223,
   "metadata": {},
   "outputs": [
    {
     "data": {
      "text/plain": [
       "0"
      ]
     },
     "execution_count": 223,
     "metadata": {},
     "output_type": "execute_result"
    }
   ],
   "source": [
    "fp.tell()"
   ]
  },
  {
   "cell_type": "code",
   "execution_count": 224,
   "metadata": {},
   "outputs": [],
   "source": [
    "s = \"\"\"name,maths,phy,chem\n",
    "sachin, 67, 76, 87\n",
    "rajat, 67, 87, 67\n",
    "nidhi, 67, 87, 67\n",
    "nikita, 45, 65, 47\n",
    "\"\"\""
   ]
  },
  {
   "cell_type": "code",
   "execution_count": 225,
   "metadata": {},
   "outputs": [
    {
     "name": "stdout",
     "output_type": "stream",
     "text": [
      "name,maths,phy,chem\n",
      "sachin, 67, 76, 87\n",
      "rajat, 67, 87, 67\n",
      "nidhi, 67, 87, 67\n",
      "nikita, 45, 65, 47\n",
      "\n"
     ]
    }
   ],
   "source": [
    "print(s)"
   ]
  },
  {
   "cell_type": "code",
   "execution_count": 226,
   "metadata": {},
   "outputs": [
    {
     "data": {
      "text/plain": [
       "94"
      ]
     },
     "execution_count": 226,
     "metadata": {},
     "output_type": "execute_result"
    }
   ],
   "source": [
    "fp.write(s)"
   ]
  },
  {
   "cell_type": "code",
   "execution_count": 227,
   "metadata": {},
   "outputs": [],
   "source": [
    "fp.close()"
   ]
  },
  {
   "cell_type": "markdown",
   "metadata": {},
   "source": [
    "    read marks file and print percentage marks of all students and also print subject wise percentage"
   ]
  },
  {
   "cell_type": "code",
   "execution_count": null,
   "metadata": {},
   "outputs": [],
   "source": []
  }
 ],
 "metadata": {
  "kernelspec": {
   "display_name": "Python 3",
   "language": "python",
   "name": "python3"
  },
  "language_info": {
   "codemirror_mode": {
    "name": "ipython",
    "version": 3
   },
   "file_extension": ".py",
   "mimetype": "text/x-python",
   "name": "python",
   "nbconvert_exporter": "python",
   "pygments_lexer": "ipython3",
   "version": "3.7.4"
  }
 },
 "nbformat": 4,
 "nbformat_minor": 2
}
