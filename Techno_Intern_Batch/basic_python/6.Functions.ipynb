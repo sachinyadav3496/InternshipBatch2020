{
 "cells": [
  {
   "cell_type": "code",
   "execution_count": 1,
   "metadata": {},
   "outputs": [],
   "source": [
    "def check(visible):\n",
    "    if visible:\n",
    "        print(\"All Good! We can start\")\n",
    "    else:\n",
    "        print(\"No I have to fix something\")\n",
    "    "
   ]
  },
  {
   "cell_type": "code",
   "execution_count": 2,
   "metadata": {},
   "outputs": [
    {
     "name": "stdout",
     "output_type": "stream",
     "text": [
      "Visible ?start\n",
      "All Good! We can start\n"
     ]
    }
   ],
   "source": [
    "check(input(\"Visible ?\"))"
   ]
  },
  {
   "cell_type": "markdown",
   "metadata": {},
   "source": [
    "**Function**\n",
    "\n",
    "    a block of code which execute a group of statements whenever called to perform a specific task"
   ]
  },
  {
   "cell_type": "code",
   "execution_count": 20,
   "metadata": {},
   "outputs": [
    {
     "data": {
      "text/plain": [
       "{'name': 'sachin', 'password': 'redhat', 'balance': 35000}"
      ]
     },
     "execution_count": 20,
     "metadata": {},
     "output_type": "execute_result"
    }
   ],
   "source": [
    "db = { \n",
    "    'AC1001': { 'name': 'sachin', 'password': 'redhat', 'balance': 35000},\n",
    "    'AC1002': { 'name': 'rajat',  'password': 'Asimov', 'balance': 70000},\n",
    "}\n",
    "\n",
    "ac = 'AC1001'\n",
    "db[ac]"
   ]
  },
  {
   "cell_type": "code",
   "execution_count": 23,
   "metadata": {},
   "outputs": [
    {
     "data": {
      "text/plain": [
       "35000"
      ]
     },
     "execution_count": 23,
     "metadata": {},
     "output_type": "execute_result"
    }
   ],
   "source": [
    "db[ac]['balance']#-> dict"
   ]
  },
  {
   "cell_type": "code",
   "execution_count": 14,
   "metadata": {},
   "outputs": [],
   "source": [
    "import pickle as pkl\n",
    "# aliasing\n",
    "with open('bank.pkl', 'wb') as fp:\n",
    "    pkl.dump(db, fp)\n",
    "    fp.close()"
   ]
  },
  {
   "cell_type": "code",
   "execution_count": 15,
   "metadata": {},
   "outputs": [],
   "source": [
    "def load_db(filename):\n",
    "    with open(filename, 'rb') as fp:\n",
    "        db = pkl.load(fp)\n",
    "        fp.close()\n",
    "    return db"
   ]
  },
  {
   "cell_type": "code",
   "execution_count": 13,
   "metadata": {},
   "outputs": [
    {
     "name": "stdout",
     "output_type": "stream",
     "text": [
      "\n",
      "Welcome Back user:  SACHIN\n",
      "\n",
      "Login Sucessfull\n"
     ]
    }
   ],
   "source": [
    "if login('AC1001', 'redhat'):\n",
    "    print(\"\\nLogin Sucessfull\")\n",
    "else:\n",
    "    print(\"\\nFailed Login\")"
   ]
  },
  {
   "cell_type": "code",
   "execution_count": 16,
   "metadata": {},
   "outputs": [],
   "source": [
    "## functions body or defination which is stored in memory \n",
    "def login(acc, passwd, filename='bank.pkl'):\n",
    "    \"\"\"\n",
    "        login(acc, passwd) --> True if login sucessfully else False using credentials \n",
    "        as parameter acc, passwd\n",
    "    \"\"\"\n",
    "    db = load_db(filename)\n",
    "    flag = False\n",
    "    if acc in db:\n",
    "        if passwd == db[acc]['password']:\n",
    "            print(\"\\nWelcome Back user: \", db[acc]['name'].upper())\n",
    "            flag = True\n",
    "        else:\n",
    "            print(\"\\nError!! Invalid Password Try Again\")\n",
    "    else:\n",
    "        print('\\nError!! Account Does not Exists')\n",
    "    return flag\n",
    "        "
   ]
  },
  {
   "cell_type": "code",
   "execution_count": 19,
   "metadata": {},
   "outputs": [
    {
     "name": "stdout",
     "output_type": "stream",
     "text": [
      "\n",
      "Welcome Back user:  SACHIN\n",
      "\n",
      "Login Sucessfull\n"
     ]
    }
   ],
   "source": [
    "if login('AC1001', 'redhat'):\n",
    "    print(\"\\nLogin Sucessfull\")\n",
    "else:\n",
    "    print(\"\\nFailed Login\")"
   ]
  },
  {
   "cell_type": "code",
   "execution_count": 17,
   "metadata": {},
   "outputs": [
    {
     "name": "stdout",
     "output_type": "stream",
     "text": [
      "\n",
      "Error!! Invalid Password Try Again\n",
      "\n",
      "Failed Login\n"
     ]
    }
   ],
   "source": [
    "if login('AC1001', '12556'):\n",
    "    print(\"\\nLogin Sucessfull\")\n",
    "else:\n",
    "    print(\"\\nFailed Login\")"
   ]
  },
  {
   "cell_type": "code",
   "execution_count": 18,
   "metadata": {},
   "outputs": [
    {
     "name": "stdout",
     "output_type": "stream",
     "text": [
      "\n",
      "Error!! Account Does not Exists\n",
      "\n",
      "Faied Login\n"
     ]
    }
   ],
   "source": [
    "if login('AC1234', '12556'):\n",
    "    print(\"\\nLogin Sucessfull\")\n",
    "else:\n",
    "    print(\"\\nFaied Login\")"
   ]
  },
  {
   "cell_type": "code",
   "execution_count": 6,
   "metadata": {},
   "outputs": [
    {
     "name": "stdout",
     "output_type": "stream",
     "text": [
      "Help on function login in module __main__:\n",
      "\n",
      "login(acc, passwd)\n",
      "    login(acc, passwd) --> True if login sucessfully else False using credentials \n",
      "    as parameter acc, passwd\n",
      "\n"
     ]
    }
   ],
   "source": [
    "help(login)"
   ]
  },
  {
   "cell_type": "code",
   "execution_count": null,
   "metadata": {},
   "outputs": [],
   "source": [
    "db = { \n",
    "    'AC1001': { 'name': 'sachin', 'password': 'redhat', 'balance': 35000},\n",
    "    'AC1002': { 'name': 'rajat',  'password': 'Asimov', 'balance': 70000},\n",
    "}\n"
   ]
  },
  {
   "cell_type": "code",
   "execution_count": 33,
   "metadata": {},
   "outputs": [],
   "source": [
    "def update_db(filename, db):\n",
    "    with open(filename, 'wb') as fp:\n",
    "        pkl.dump(db, fp)\n",
    "        fp.close()\n",
    "    "
   ]
  },
  {
   "cell_type": "code",
   "execution_count": 34,
   "metadata": {},
   "outputs": [],
   "source": [
    "def signup(user, passwd, bal, filename='bank.pkl'):\n",
    "    db = load_db(filename)\n",
    "    acc = 'AC'+str(int(max(db.keys())[2:])+1)\n",
    "    db[acc] = { 'name': user, 'password': passwd, 'balance': bal}\n",
    "    update_db(filename, db)\n",
    "    print(\"\\n\\nAccount Created Sucessfully\")\n",
    "    print(f\"\\n\\nNote Down your Account {acc} and remember this for Login into online banking\")"
   ]
  },
  {
   "cell_type": "code",
   "execution_count": 32,
   "metadata": {},
   "outputs": [
    {
     "data": {
      "text/plain": [
       "'AC1003'"
      ]
     },
     "execution_count": 32,
     "metadata": {},
     "output_type": "execute_result"
    }
   ],
   "source": [
    "'AC'+str(int(max(db.keys())[2:])+1)"
   ]
  },
  {
   "cell_type": "code",
   "execution_count": 35,
   "metadata": {},
   "outputs": [
    {
     "name": "stdout",
     "output_type": "stream",
     "text": [
      "\n",
      "\n",
      "Account Created Sucessfully\n",
      "\n",
      "\n",
      "Note Down your Account AC1003 and remember this for Login into online banking\n"
     ]
    }
   ],
   "source": [
    "signup('tanvi', 'ivnat', 45000)"
   ]
  },
  {
   "cell_type": "code",
   "execution_count": 36,
   "metadata": {},
   "outputs": [],
   "source": [
    "from pprint import pprint\n",
    "def get_db(filename='bank.pkl'):\n",
    "    with open(filename, 'rb') as fp:\n",
    "        db = pkl.load(fp)\n",
    "        fp.close()\n",
    "    pprint(db)"
   ]
  },
  {
   "cell_type": "code",
   "execution_count": 37,
   "metadata": {},
   "outputs": [
    {
     "name": "stdout",
     "output_type": "stream",
     "text": [
      "{'AC1001': {'balance': 35000, 'name': 'sachin', 'password': 'redhat'},\n",
      " 'AC1002': {'balance': 70000, 'name': 'rajat', 'password': 'Asimov'},\n",
      " 'AC1003': {'balance': 45000, 'name': 'tanvi', 'password': 'ivnat'}}\n"
     ]
    }
   ],
   "source": [
    "get_db()"
   ]
  },
  {
   "cell_type": "code",
   "execution_count": 39,
   "metadata": {},
   "outputs": [
    {
     "name": "stdout",
     "output_type": "stream",
     "text": [
      "\n",
      "Welcome Back user:  TANVI\n"
     ]
    },
    {
     "data": {
      "text/plain": [
       "True"
      ]
     },
     "execution_count": 39,
     "metadata": {},
     "output_type": "execute_result"
    }
   ],
   "source": [
    "login('AC1003', 'ivnat')"
   ]
  },
  {
   "cell_type": "markdown",
   "metadata": {},
   "source": [
    "    Task - Create a bank application"
   ]
  },
  {
   "cell_type": "markdown",
   "metadata": {},
   "source": [
    "Main Menu\n",
    "\n",
    "    1. login\n",
    "    2. signup\n",
    "    3. exit "
   ]
  },
  {
   "cell_type": "markdown",
   "metadata": {},
   "source": [
    "    if user select login \n",
    "    \n",
    "        print sub-menu  \n",
    "            1. Debit --> ask user for amount \n",
    "              check if bal is avaible if avaible than update balance in\n",
    "                 database file and print messege with amount withdrawn and remaning amount, redirect back to sub-menu\n",
    "              else amount is greater than balance print insufficient balance and redirect back to sub-menu\n",
    "            \n",
    "            2. Credit --> ask user for amount\n",
    "                add amount to existing balnce and update database file and print out updated balance\n",
    "                redirect to sub-menu\n",
    "            \n",
    "            3. Balance Enquiry\n",
    "                print out information of account as Name and Balance after this redirect to sub-menu\n",
    "            \n",
    "            4. Update Profile\n",
    "                1. update name --> after updation redirect to sub-menu\n",
    "                2. update password --> after updation redirect to sub-menu \n",
    "            \n",
    "            5. Logout --> Redirect to Main Menu\n",
    "   \n",
    "    else if user select signup\n",
    "        as user for his name, balance and password and generate a Account number and Print Account number\n",
    "        update database file and redirect user to again Main Menu\n",
    "        \n",
    "    else \n",
    "       stop your program"
   ]
  },
  {
   "cell_type": "code",
   "execution_count": 41,
   "metadata": {},
   "outputs": [
    {
     "name": "stdout",
     "output_type": "stream",
     "text": [
      "() <class 'tuple'>\n",
      "(1, 2) <class 'tuple'>\n",
      "(1, 3, 4, 5, 6, 7, 8) <class 'tuple'>\n"
     ]
    }
   ],
   "source": [
    "def func(*args):\n",
    "    print(args, type(args))\n",
    "\n",
    "func()\n",
    "func(1, 2)\n",
    "func(1, 3, 4,5, 6, 7,8 )"
   ]
  },
  {
   "cell_type": "code",
   "execution_count": 55,
   "metadata": {},
   "outputs": [
    {
     "name": "stdout",
     "output_type": "stream",
     "text": [
      "(1, 2, 3, 4, 5) <class 'tuple'>\n",
      "(1, 2, 3, 4, 5) <class 'tuple'>\n"
     ]
    }
   ],
   "source": [
    "l = [ 1, 2, 3, 4, 5]\n",
    "func(*l)\n",
    "func(1, 2, 3, 4, 5)"
   ]
  },
  {
   "cell_type": "code",
   "execution_count": 42,
   "metadata": {},
   "outputs": [],
   "source": [
    "def myprint(**kwargs):\n",
    "    print(kwargs, type(kwargs))"
   ]
  },
  {
   "cell_type": "code",
   "execution_count": 43,
   "metadata": {},
   "outputs": [
    {
     "name": "stdout",
     "output_type": "stream",
     "text": [
      "{'name': 'sachin', 'age': 24, 'language': ['hindi', 'english']} <class 'dict'>\n"
     ]
    }
   ],
   "source": [
    "myprint(name='sachin', age=24, language=['hindi', 'english'])"
   ]
  },
  {
   "cell_type": "code",
   "execution_count": 44,
   "metadata": {},
   "outputs": [],
   "source": [
    "def myprint(**kwargs):\n",
    "    for key, value in kwargs.items():\n",
    "        print(f\"{key:>10} = {value}\")\n",
    "        "
   ]
  },
  {
   "cell_type": "code",
   "execution_count": 45,
   "metadata": {},
   "outputs": [
    {
     "name": "stdout",
     "output_type": "stream",
     "text": [
      "     topic = recursion\n",
      "      time = today\n",
      "   trainer = Sachin Yadav, Simran Grover\n"
     ]
    }
   ],
   "source": [
    "myprint(topic='recursion', time='today', trainer='Sachin Yadav, Simran Grover')"
   ]
  },
  {
   "cell_type": "code",
   "execution_count": 49,
   "metadata": {},
   "outputs": [
    {
     "name": "stdout",
     "output_type": "stream",
     "text": [
      "java c c++\n"
     ]
    }
   ],
   "source": [
    "l = [ 'java', 'c', 'c++']\n",
    "print(*l)"
   ]
  },
  {
   "cell_type": "code",
   "execution_count": 50,
   "metadata": {},
   "outputs": [
    {
     "name": "stdout",
     "output_type": "stream",
     "text": [
      "name version\n"
     ]
    }
   ],
   "source": [
    "d = { 'name': 'python', 'version': 3.8}\n",
    "print(*d)"
   ]
  },
  {
   "cell_type": "code",
   "execution_count": 51,
   "metadata": {},
   "outputs": [
    {
     "ename": "TypeError",
     "evalue": "'name' is an invalid keyword argument for print()",
     "output_type": "error",
     "traceback": [
      "\u001b[1;31m---------------------------------------------------------------------------\u001b[0m",
      "\u001b[1;31mTypeError\u001b[0m                                 Traceback (most recent call last)",
      "\u001b[1;32m<ipython-input-51-edda750b2619>\u001b[0m in \u001b[0;36m<module>\u001b[1;34m\u001b[0m\n\u001b[1;32m----> 1\u001b[1;33m \u001b[0mprint\u001b[0m\u001b[1;33m(\u001b[0m\u001b[1;33m**\u001b[0m\u001b[0md\u001b[0m\u001b[1;33m)\u001b[0m\u001b[1;33m\u001b[0m\u001b[1;33m\u001b[0m\u001b[0m\n\u001b[0m",
      "\u001b[1;31mTypeError\u001b[0m: 'name' is an invalid keyword argument for print()"
     ]
    }
   ],
   "source": [
    "print(**d) # keyword args not allowed in print, sep, end, file, flush"
   ]
  },
  {
   "cell_type": "code",
   "execution_count": 52,
   "metadata": {},
   "outputs": [
    {
     "ename": "TypeError",
     "evalue": "'name' is an invalid keyword argument for print()",
     "output_type": "error",
     "traceback": [
      "\u001b[1;31m---------------------------------------------------------------------------\u001b[0m",
      "\u001b[1;31mTypeError\u001b[0m                                 Traceback (most recent call last)",
      "\u001b[1;32m<ipython-input-52-2d2281804c44>\u001b[0m in \u001b[0;36m<module>\u001b[1;34m\u001b[0m\n\u001b[1;32m----> 1\u001b[1;33m \u001b[0mprint\u001b[0m\u001b[1;33m(\u001b[0m\u001b[0mname\u001b[0m\u001b[1;33m=\u001b[0m\u001b[1;34m'python'\u001b[0m\u001b[1;33m,\u001b[0m \u001b[0mversion\u001b[0m\u001b[1;33m=\u001b[0m\u001b[1;36m3.8\u001b[0m\u001b[1;33m)\u001b[0m\u001b[1;33m\u001b[0m\u001b[1;33m\u001b[0m\u001b[0m\n\u001b[0m",
      "\u001b[1;31mTypeError\u001b[0m: 'name' is an invalid keyword argument for print()"
     ]
    }
   ],
   "source": [
    "print(name='python', version=3.8)"
   ]
  },
  {
   "cell_type": "code",
   "execution_count": 48,
   "metadata": {},
   "outputs": [
    {
     "ename": "TypeError",
     "evalue": "myprint() takes 0 positional arguments but 1 was given",
     "output_type": "error",
     "traceback": [
      "\u001b[1;31m---------------------------------------------------------------------------\u001b[0m",
      "\u001b[1;31mTypeError\u001b[0m                                 Traceback (most recent call last)",
      "\u001b[1;32m<ipython-input-48-67130b457538>\u001b[0m in \u001b[0;36m<module>\u001b[1;34m\u001b[0m\n\u001b[1;32m----> 1\u001b[1;33m \u001b[0mmyprint\u001b[0m\u001b[1;33m(\u001b[0m\u001b[0mdb\u001b[0m\u001b[1;33m)\u001b[0m\u001b[1;33m\u001b[0m\u001b[1;33m\u001b[0m\u001b[0m\n\u001b[0m",
      "\u001b[1;31mTypeError\u001b[0m: myprint() takes 0 positional arguments but 1 was given"
     ]
    }
   ],
   "source": [
    "myprint(db)"
   ]
  },
  {
   "cell_type": "code",
   "execution_count": 56,
   "metadata": {},
   "outputs": [
    {
     "name": "stdout",
     "output_type": "stream",
     "text": [
      "    AC1001 = {'name': 'sachin', 'password': 'redhat', 'balance': 35000}\n",
      "    AC1002 = {'name': 'rajat', 'password': 'Asimov', 'balance': 70000}\n"
     ]
    }
   ],
   "source": [
    "myprint(**db)"
   ]
  },
  {
   "cell_type": "code",
   "execution_count": 59,
   "metadata": {},
   "outputs": [],
   "source": [
    "def func(pos, df='default', *args, **kwargs):\n",
    "    print(\"Positional: \", pos)\n",
    "    print(\"Default: \", df)\n",
    "    print(\"Args: \", args)\n",
    "    print(\"Kwargs: \", kwargs)"
   ]
  },
  {
   "cell_type": "code",
   "execution_count": 61,
   "metadata": {},
   "outputs": [
    {
     "name": "stdout",
     "output_type": "stream",
     "text": [
      "Positional:  sachin\n",
      "Default:  default\n",
      "Args:  ()\n",
      "Kwargs:  {}\n"
     ]
    }
   ],
   "source": [
    "func('sachin')"
   ]
  },
  {
   "cell_type": "code",
   "execution_count": 62,
   "metadata": {},
   "outputs": [
    {
     "name": "stdout",
     "output_type": "stream",
     "text": [
      "Positional:  sachin\n",
      "Default:  yadav\n",
      "Args:  ()\n",
      "Kwargs:  {}\n"
     ]
    }
   ],
   "source": [
    "func('sachin', 'yadav')"
   ]
  },
  {
   "cell_type": "code",
   "execution_count": 63,
   "metadata": {},
   "outputs": [
    {
     "name": "stdout",
     "output_type": "stream",
     "text": [
      "Positional:  sachin\n",
      "Default:  yadav\n",
      "Args:  (1, 2, 'java', 'c')\n",
      "Kwargs:  {}\n"
     ]
    }
   ],
   "source": [
    "func('sachin', 'yadav', 1, 2, 'java', 'c')"
   ]
  },
  {
   "cell_type": "code",
   "execution_count": 64,
   "metadata": {},
   "outputs": [
    {
     "name": "stdout",
     "output_type": "stream",
     "text": [
      "Positional:  sachin\n",
      "Default:  yadav\n",
      "Args:  (3, 4, 6, 7)\n",
      "Kwargs:  {'name': 'python', 'father': 'guido'}\n"
     ]
    }
   ],
   "source": [
    "func('sachin', 'yadav', 3, 4, 6, 7, name='python', father='guido')"
   ]
  },
  {
   "cell_type": "code",
   "execution_count": 65,
   "metadata": {},
   "outputs": [],
   "source": [
    "def func(*args, **kwargs):\n",
    "    # logic\n",
    "    print(args)\n",
    "    print(kwargs)\n",
    "    "
   ]
  },
  {
   "cell_type": "code",
   "execution_count": 66,
   "metadata": {},
   "outputs": [
    {
     "name": "stdout",
     "output_type": "stream",
     "text": [
      "()\n",
      "{}\n"
     ]
    }
   ],
   "source": [
    "func()"
   ]
  },
  {
   "cell_type": "code",
   "execution_count": 67,
   "metadata": {},
   "outputs": [
    {
     "name": "stdout",
     "output_type": "stream",
     "text": [
      "(1, 2, 3)\n",
      "{}\n"
     ]
    }
   ],
   "source": [
    "func(1, 2, 3)"
   ]
  },
  {
   "cell_type": "code",
   "execution_count": 68,
   "metadata": {},
   "outputs": [
    {
     "name": "stdout",
     "output_type": "stream",
     "text": [
      "(1, 2, 3)\n",
      "{'name': 'sachin', 'age': 23}\n"
     ]
    }
   ],
   "source": [
    "func(1, 2,3, name='sachin', age=23)"
   ]
  },
  {
   "cell_type": "code",
   "execution_count": 69,
   "metadata": {},
   "outputs": [],
   "source": [
    "def func(**kwargs):\n",
    "    print(kwargs)"
   ]
  },
  {
   "cell_type": "code",
   "execution_count": 70,
   "metadata": {},
   "outputs": [
    {
     "name": "stdout",
     "output_type": "stream",
     "text": [
      "{}\n"
     ]
    }
   ],
   "source": [
    "func()"
   ]
  },
  {
   "cell_type": "code",
   "execution_count": 71,
   "metadata": {},
   "outputs": [
    {
     "name": "stdout",
     "output_type": "stream",
     "text": [
      "{'key': 'value', 'data': ['java', 'c', 'c++']}\n"
     ]
    }
   ],
   "source": [
    "func(key='value', data=['java', 'c', 'c++'])"
   ]
  },
  {
   "cell_type": "markdown",
   "metadata": {},
   "source": [
    "**Scope in Python**"
   ]
  },
  {
   "cell_type": "code",
   "execution_count": 72,
   "metadata": {},
   "outputs": [
    {
     "name": "stdout",
     "output_type": "stream",
     "text": [
      "__main__\n"
     ]
    }
   ],
   "source": [
    "print(__name__)"
   ]
  },
  {
   "cell_type": "code",
   "execution_count": 73,
   "metadata": {},
   "outputs": [],
   "source": [
    "import os"
   ]
  },
  {
   "cell_type": "code",
   "execution_count": 74,
   "metadata": {},
   "outputs": [
    {
     "data": {
      "text/plain": [
       "'os'"
      ]
     },
     "execution_count": 74,
     "metadata": {},
     "output_type": "execute_result"
    }
   ],
   "source": [
    "os.__name__"
   ]
  },
  {
   "cell_type": "code",
   "execution_count": 75,
   "metadata": {},
   "outputs": [
    {
     "data": {
      "text/plain": [
       "<function __main__.login(acc, passwd, filename='bank.pkl')>"
      ]
     },
     "execution_count": 75,
     "metadata": {},
     "output_type": "execute_result"
    }
   ],
   "source": [
    "login"
   ]
  },
  {
   "cell_type": "code",
   "execution_count": 76,
   "metadata": {},
   "outputs": [
    {
     "data": {
      "text/plain": [
       "{'AC1001': {'name': 'sachin', 'password': 'redhat', 'balance': 35000},\n",
       " 'AC1002': {'name': 'rajat', 'password': 'Asimov', 'balance': 70000}}"
      ]
     },
     "execution_count": 76,
     "metadata": {},
     "output_type": "execute_result"
    }
   ],
   "source": [
    "db"
   ]
  },
  {
   "cell_type": "markdown",
   "metadata": {},
   "source": [
    "    Each Python File is consider as module as well as a script\n",
    "    \n",
    "    we import modules  but we execute scripts\n",
    "    \n",
    "    when we import a module python provides space (__name__) as module name \n",
    "    \n",
    "    but when we execute script python provides space (__name__) as __main__\n",
    "    \n",
    "        using this knowledge we can create modules"
   ]
  },
  {
   "cell_type": "code",
   "execution_count": null,
   "metadata": {},
   "outputs": [],
   "source": []
  },
  {
   "cell_type": "code",
   "execution_count": 82,
   "metadata": {},
   "outputs": [
    {
     "name": "stdout",
     "output_type": "stream",
     "text": [
      "\"\"\"\n",
      "    it's a prime module to calculate prime number \n",
      "\"\"\"\n",
      "\n",
      "print(\"I am in Space \", __name__)\n",
      "input('input to continue: ')\n",
      "\n",
      "def prime(number):\n",
      "    \"\"\"\n",
      "        prime(number) --> True if number is prime else False\n",
      "    \"\"\"\n",
      "    if number <= 1:\n",
      "        return False\n",
      "    elif number <= 3:\n",
      "        return True\n",
      "    else:\n",
      "        for check in range(2, number // 2 + 1):\n",
      "            if number % check == 0:\n",
      "                return False\n",
      "        return True\n",
      "\n",
      "\n",
      "def prime_range(start, end):\n",
      "    \"\"\"\n",
      "        prime_range(start, end) --> will print every prime number in range start-end and also print total prime\n",
      "        numbers in that range\n",
      "    \"\"\"\n",
      "    counter = 0\n",
      "    print('\\n\\t\\t')\n",
      "    for number in range(start, end+1):\n",
      "        if prime(number):\n",
      "            print(number, end=', ')\n",
      "            counter += 1\n",
      "    else:\n",
      "        print(f\"\\n\\t\\tTotal Prime In Range {start}-{end} are {counter}\")\n",
      "\n",
      "\n",
      "\n",
      "if __name__ == '__main__':\n",
      "    import os\n",
      "    os.system('cls')\n",
      "    # to clear your output screen\n",
      "    print(\"\\n\\n\\n\")\n",
      "    print(\"__\"*50)\n",
      "    print(\"__\"*50)\n",
      "    print()\n",
      "    ch = input('\\n\\n\\t\\t1. Prime\\n\\n\\t\\t2. Prime Range\\n\\n\\t\\tChoice: ')\n",
      "    if ch == '1':\n",
      "        num = int(input(\"\\n\\t\\tEnter a number: \"))\n",
      "        if prime(num):\n",
      "            print(f\"\\n\\n\\t\\tGiven Number {num} is Prime\\n\")\n",
      "        else:\n",
      "            print(f\"\\n\\n\\t\\tGiven Number {num} is Not Prime\\n\")\n",
      "\n",
      "    elif ch == '2':\n",
      "        start = int(input(\"\\n\\t\\tEnter Start: \"))\n",
      "        end = int(input(\"\\n\\t\\tEnter End: \"))\n",
      "        prime_range(start, end)\n",
      "\n",
      "    else:\n",
      "        print(\"\\n\\n\\tInvalid Choice Bye Bye\\n\")\n",
      "    \n",
      "    print(\"\\n\\n\\n\")\n",
      "    print(\"__\"*50)\n",
      "    print(\"__\"*50)\n",
      "    input(\"\\n\\n........................press any key to exit......................\")\n",
      "    os.system('cls')\n",
      "\n",
      "\n",
      "\n",
      "\n"
     ]
    }
   ],
   "source": [
    "!type \"scripts\\\\prime.py\""
   ]
  },
  {
   "cell_type": "code",
   "execution_count": null,
   "metadata": {},
   "outputs": [
    {
     "name": "stderr",
     "output_type": "stream",
     "text": [
      " 39%|█████████████████████████████████████████                                                                | 352/900 [05:52<09:08,  1.00s/it]"
     ]
    }
   ],
   "source": [
    "from tqdm import tqdm\n",
    "from time import sleep\n",
    "\n",
    "for _ in tqdm(range(900)):\n",
    "    sleep(1)"
   ]
  },
  {
   "cell_type": "code",
   "execution_count": null,
   "metadata": {},
   "outputs": [],
   "source": []
  }
 ],
 "metadata": {
  "kernelspec": {
   "display_name": "Python 3",
   "language": "python",
   "name": "python3"
  },
  "language_info": {
   "codemirror_mode": {
    "name": "ipython",
    "version": 3
   },
   "file_extension": ".py",
   "mimetype": "text/x-python",
   "name": "python",
   "nbconvert_exporter": "python",
   "pygments_lexer": "ipython3",
   "version": "3.7.4"
  }
 },
 "nbformat": 4,
 "nbformat_minor": 2
}
