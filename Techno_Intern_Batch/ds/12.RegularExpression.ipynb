{
 "cells": [
  {
   "cell_type": "markdown",
   "metadata": {},
   "source": [
    "## Regular Expressions `Pattern Matching`"
   ]
  },
  {
   "cell_type": "markdown",
   "metadata": {},
   "source": [
    "    finding patterns from unstructure, log or raw data "
   ]
  },
  {
   "cell_type": "markdown",
   "metadata": {},
   "source": [
    "`BeautifulSoup` - html, xml\n",
    "\n",
    "`JSON`"
   ]
  },
  {
   "cell_type": "code",
   "execution_count": 16,
   "metadata": {},
   "outputs": [],
   "source": [
    "url = \"http://api.openweathermap.org/data/2.5/weather?q=jaipur&appid=1a4c4f306c55a790989a33c6b9d37973\""
   ]
  },
  {
   "cell_type": "code",
   "execution_count": 17,
   "metadata": {},
   "outputs": [],
   "source": [
    "import requests "
   ]
  },
  {
   "cell_type": "code",
   "execution_count": 18,
   "metadata": {},
   "outputs": [],
   "source": [
    "data = requests.get(url)"
   ]
  },
  {
   "cell_type": "code",
   "execution_count": 19,
   "metadata": {},
   "outputs": [
    {
     "data": {
      "text/plain": [
       "200"
      ]
     },
     "execution_count": 19,
     "metadata": {},
     "output_type": "execute_result"
    }
   ],
   "source": [
    "data.status_code"
   ]
  },
  {
   "cell_type": "code",
   "execution_count": 20,
   "metadata": {},
   "outputs": [
    {
     "data": {
      "text/plain": [
       "b'{\"coord\":{\"lon\":75.82,\"lat\":26.92},\"weather\":[{\"id\":721,\"main\":\"Haze\",\"description\":\"haze\",\"icon\":\"50d\"}],\"base\":\"stations\",\"main\":{\"temp\":303.15,\"feels_like\":305.14,\"temp_min\":303.15,\"temp_max\":303.15,\"pressure\":1003,\"humidity\":66},\"visibility\":3000,\"wind\":{\"speed\":4.6,\"deg\":260},\"clouds\":{\"all\":40},\"dt\":1592625012,\"sys\":{\"type\":1,\"id\":9170,\"country\":\"IN\",\"sunrise\":1592611396,\"sunset\":1592661200},\"timezone\":19800,\"id\":1269515,\"name\":\"Jaipur\",\"cod\":200}'"
      ]
     },
     "execution_count": 20,
     "metadata": {},
     "output_type": "execute_result"
    }
   ],
   "source": [
    "data.content"
   ]
  },
  {
   "cell_type": "code",
   "execution_count": 28,
   "metadata": {},
   "outputs": [
    {
     "name": "stdout",
     "output_type": "stream",
     "text": [
      "Enter city : jaipur\n"
     ]
    }
   ],
   "source": [
    "city = input(\"Enter city : \")\n",
    "key = \"1a4c4f306c55a790989a33c6b9d37973\"\n",
    "url = f\"http://api.openweathermap.org/data/2.5/weather?q={city}&appid={key}&units=\"\n",
    "page = requests.get(url)"
   ]
  },
  {
   "cell_type": "code",
   "execution_count": 29,
   "metadata": {},
   "outputs": [
    {
     "data": {
      "text/plain": [
       "200"
      ]
     },
     "execution_count": 29,
     "metadata": {},
     "output_type": "execute_result"
    }
   ],
   "source": [
    "page.status_code"
   ]
  },
  {
   "cell_type": "code",
   "execution_count": 30,
   "metadata": {},
   "outputs": [
    {
     "name": "stdout",
     "output_type": "stream",
     "text": [
      "{'base': 'stations',\n",
      " 'clouds': {'all': 75},\n",
      " 'cod': 200,\n",
      " 'coord': {'lat': 26.92, 'lon': 75.82},\n",
      " 'dt': 1592625601,\n",
      " 'id': 1269515,\n",
      " 'main': {'feels_like': 305.85,\n",
      "          'humidity': 58,\n",
      "          'pressure': 1004,\n",
      "          'temp': 304.15,\n",
      "          'temp_max': 304.15,\n",
      "          'temp_min': 304.15},\n",
      " 'name': 'Jaipur',\n",
      " 'sys': {'country': 'IN',\n",
      "         'id': 9170,\n",
      "         'sunrise': 1592611396,\n",
      "         'sunset': 1592661200,\n",
      "         'type': 1},\n",
      " 'timezone': 19800,\n",
      " 'visibility': 4000,\n",
      " 'weather': [{'description': 'haze', 'icon': '50d', 'id': 721, 'main': 'Haze'}],\n",
      " 'wind': {'deg': 250, 'speed': 4.1}}\n"
     ]
    }
   ],
   "source": [
    "from pprint import pprint\n",
    "pprint(page.json())"
   ]
  },
  {
   "cell_type": "code",
   "execution_count": 31,
   "metadata": {},
   "outputs": [
    {
     "name": "stdout",
     "output_type": "stream",
     "text": [
      "{'base': 'stations',\n",
      " 'clouds': {'all': 75},\n",
      " 'cod': 200,\n",
      " 'coord': {'lat': 26.92, 'lon': 75.82},\n",
      " 'dt': 1592625601,\n",
      " 'id': 1269515,\n",
      " 'main': {'feels_like': 305.85,\n",
      "          'humidity': 58,\n",
      "          'pressure': 1004,\n",
      "          'temp': 304.15,\n",
      "          'temp_max': 304.15,\n",
      "          'temp_min': 304.15},\n",
      " 'name': 'Jaipur',\n",
      " 'sys': {'country': 'IN',\n",
      "         'id': 9170,\n",
      "         'sunrise': 1592611396,\n",
      "         'sunset': 1592661200,\n",
      "         'type': 1},\n",
      " 'timezone': 19800,\n",
      " 'visibility': 4000,\n",
      " 'weather': [{'description': 'haze', 'icon': '50d', 'id': 721, 'main': 'Haze'}],\n",
      " 'wind': {'deg': 250, 'speed': 4.1}}\n"
     ]
    }
   ],
   "source": [
    "from pprint import pprint\n",
    "pprint(page.json())"
   ]
  },
  {
   "cell_type": "code",
   "execution_count": 7,
   "metadata": {},
   "outputs": [],
   "source": [
    "url = \"http://openweathermap.org/img/wn/50d.png\""
   ]
  },
  {
   "cell_type": "code",
   "execution_count": 8,
   "metadata": {},
   "outputs": [],
   "source": [
    "import requests\n",
    "page = requests.get(url)"
   ]
  },
  {
   "cell_type": "code",
   "execution_count": 9,
   "metadata": {},
   "outputs": [
    {
     "data": {
      "text/plain": [
       "200"
      ]
     },
     "execution_count": 9,
     "metadata": {},
     "output_type": "execute_result"
    }
   ],
   "source": [
    "page.status_code"
   ]
  },
  {
   "cell_type": "code",
   "execution_count": 10,
   "metadata": {},
   "outputs": [
    {
     "data": {
      "text/plain": [
       "'image/png'"
      ]
     },
     "execution_count": 10,
     "metadata": {},
     "output_type": "execute_result"
    }
   ],
   "source": [
    "page.headers['Content-type']"
   ]
  },
  {
   "cell_type": "code",
   "execution_count": 11,
   "metadata": {},
   "outputs": [],
   "source": [
    "from IPython import display"
   ]
  },
  {
   "cell_type": "code",
   "execution_count": 13,
   "metadata": {},
   "outputs": [
    {
     "data": {
      "text/html": [
       "<img src=\"http://openweathermap.org/img/wn/50d.png\"/>"
      ],
      "text/plain": [
       "<IPython.core.display.Image object>"
      ]
     },
     "execution_count": 13,
     "metadata": {},
     "output_type": "execute_result"
    }
   ],
   "source": [
    "display.Image(url=url)"
   ]
  },
  {
   "cell_type": "markdown",
   "metadata": {},
   "source": [
    "### Special Characters "
   ]
  },
  {
   "cell_type": "markdown",
   "metadata": {},
   "source": [
    "[regexr](\"https://regexr.com/\")"
   ]
  },
  {
   "cell_type": "markdown",
   "metadata": {},
   "source": [
    "Word Classes\n",
    "\n",
    "    [a-z] small character class\n",
    "    \n",
    "    [A-Z] capital Case Character Class\n",
    "    \n",
    "    [a-zA-Z1-9_] word class \n",
    "    \n",
    "    \\w word class\n",
    "    \n",
    "    \\W not word class [special characters except _ and spaces ]\n",
    "    \n",
    "    \\b word boundary\n",
    "    \n",
    "    \\B non word boundary\n",
    "    \n",
    "    [0-9] digit class\n",
    "    \n",
    "    [a-zA-Z] charclass\n",
    "    \n",
    "    [^a-zA-Z0-9_] is equal to \\W\n",
    "    \n",
    "    \\d digit class [0-9]\n",
    "    \n",
    "    \\D non digit class [^0-9]\n",
    "    \n",
    "    \\s space class [\\t\\n\\r\\f\\v]\n",
    "    \n",
    "    \\S not space class\n",
    "    \n",
    "    ^, \\A to search at begning\n",
    "    \n",
    "    $, \\Z to search at ending"
   ]
  },
  {
   "cell_type": "code",
   "execution_count": 16,
   "metadata": {},
   "outputs": [],
   "source": [
    "import re"
   ]
  },
  {
   "cell_type": "code",
   "execution_count": 17,
   "metadata": {},
   "outputs": [],
   "source": [
    "data = \"\"\"RegExr was created by gskinner.com, and is proudly hosted by Media Temple.\n",
    "\n",
    "Edit the Expression & Text to see matches. Roll over matches or the expression for details. PCRE & JavaScript flavors of RegEx are supported. Validate your expression with Tests mode.\n",
    "\n",
    "The side bar includes a Cheatsheet, full Reference, and Help. You can also Save & Share with the Community, and view patterns you create or favorite in My Patterns.\n",
    "\n",
    "Explore results with the Tools below. Replace & List output custom results. Details lists capture groups. Explain describes your expression in plain English.\n",
    "\n",
    "\n",
    "hello welcome to Regular Expressions 123446 ha @#$%&^ sachin \n",
    "\n",
    "\n",
    "all characters Between A-Z a-z 0-9 are searched by \\w word class not special like   @@ now let's select all character which not in \n",
    "\n",
    "world class \"\"\""
   ]
  },
  {
   "cell_type": "markdown",
   "metadata": {},
   "source": [
    "syntax\n",
    "\n",
    "    re.findall(expr, strings, flags)"
   ]
  },
  {
   "cell_type": "markdown",
   "metadata": {},
   "source": [
    "raw string just to ensure special meaning of characters which has a meaning in re\n",
    "\n",
    "., ^, $"
   ]
  },
  {
   "cell_type": "code",
   "execution_count": 18,
   "metadata": {},
   "outputs": [],
   "source": [
    "output = re.findall(r\"\\w\", data)"
   ]
  },
  {
   "cell_type": "code",
   "execution_count": 22,
   "metadata": {},
   "outputs": [
    {
     "name": "stdout",
     "output_type": "stream",
     "text": [
      "['R', 'e', 'g', 'E', 'x']\n"
     ]
    }
   ],
   "source": [
    "print(output[:5])"
   ]
  },
  {
   "cell_type": "code",
   "execution_count": 23,
   "metadata": {},
   "outputs": [],
   "source": [
    "output = re.findall(r\"\\w\\w\\w\\w\\w\", data)"
   ]
  },
  {
   "cell_type": "code",
   "execution_count": 24,
   "metadata": {},
   "outputs": [
    {
     "name": "stdout",
     "output_type": "stream",
     "text": [
      "['RegEx', 'creat', 'gskin', 'proud', 'hoste', 'Media', 'Templ', 'Expre', 'ssion', 'match', 'match', 'expre', 'ssion', 'detai', 'JavaS', 'cript', 'flavo', 'RegEx', 'suppo', 'Valid', 'expre', 'ssion', 'Tests', 'inclu', 'Cheat', 'sheet', 'Refer', 'Share', 'Commu', 'patte', 'creat', 'favor', 'Patte', 'Explo', 'resul', 'Tools', 'below', 'Repla', 'outpu', 'custo', 'resul', 'Detai', 'lists', 'captu', 'group', 'Expla', 'descr', 'expre', 'ssion', 'plain', 'Engli', 'hello', 'welco', 'Regul', 'Expre', 'ssion', '12344', 'sachi', 'chara', 'cters', 'Betwe', 'searc', 'class', 'speci', 'selec', 'chara', 'which', 'world', 'class']\n"
     ]
    }
   ],
   "source": [
    "print(output)"
   ]
  },
  {
   "cell_type": "code",
   "execution_count": 26,
   "metadata": {},
   "outputs": [],
   "source": [
    "data = \"\"\"RegExr was created by gskinner.com, and is proudly hosted by Media Temple.\n",
    "\n",
    "Edit the Expression & Text to see matches. Roll over matches or the expression for details. PCRE & JavaScript flavors of RegEx are supported. Validate your expression with Tests mode\n",
    "\n",
    "The side bar includes a Cheatsheet, full Reference, and Help. You can also Save & Share with the Community, and view patterns you create or favorite in My Patterns\n",
    "Explore results with the Tools below. Replace & List output custom results. Details lists capture groups. Explain describes your expression in plain English\n",
    "\n",
    "9782131159\n",
    "\t34872364926984\n",
    "\t\n",
    "\t9479374456 [customclass]\n",
    "\t3498732498\n",
    "\t\n",
    "\t39847\n",
    "hello welcome to Regular Expressions 123446 ha @#$%&^ sachin \n",
    "\n",
    "abcde&&fghijklmn%%opqrstuvwxyz       \n",
    "\t\t\n",
    "\t\t w @h@\n",
    "\t\t \n",
    "\t\t sachin yadav \n",
    "\t\t \n",
    "\t\t  expression\n",
    "all characters Between A-Z a-z 0-9 are searched by \\w word class not special like   @@ now let's select all character which not in \n",
    "\n",
    "world class\n",
    "\n",
    "\n",
    "\t\t333-3333-5555\n",
    "\t\t\n",
    "\t\t123-6676-5667\n",
    "\t\t\n",
    "\t\t456-7653-5679\n",
    "        \n",
    "        now let's dig into it\n",
    "        \n",
    "        to find out all the numbers\n",
    "        \n",
    "\"\"\""
   ]
  },
  {
   "cell_type": "code",
   "execution_count": 27,
   "metadata": {},
   "outputs": [
    {
     "data": {
      "text/plain": [
       "<RegexFlag.IGNORECASE: 2>"
      ]
     },
     "execution_count": 27,
     "metadata": {},
     "output_type": "execute_result"
    }
   ],
   "source": [
    "re.I"
   ]
  },
  {
   "cell_type": "code",
   "execution_count": 28,
   "metadata": {},
   "outputs": [
    {
     "data": {
      "text/plain": [
       "<RegexFlag.IGNORECASE: 2>"
      ]
     },
     "execution_count": 28,
     "metadata": {},
     "output_type": "execute_result"
    }
   ],
   "source": [
    "re.IGNORECASE"
   ]
  },
  {
   "cell_type": "code",
   "execution_count": 30,
   "metadata": {},
   "outputs": [
    {
     "data": {
      "text/plain": [
       "<RegexFlag.MULTILINE: 8>"
      ]
     },
     "execution_count": 30,
     "metadata": {},
     "output_type": "execute_result"
    }
   ],
   "source": [
    "re.M"
   ]
  },
  {
   "cell_type": "code",
   "execution_count": 31,
   "metadata": {},
   "outputs": [
    {
     "data": {
      "text/plain": [
       "<RegexFlag.MULTILINE: 8>"
      ]
     },
     "execution_count": 31,
     "metadata": {},
     "output_type": "execute_result"
    }
   ],
   "source": [
    "re.MULTILINE"
   ]
  },
  {
   "cell_type": "code",
   "execution_count": 49,
   "metadata": {},
   "outputs": [],
   "source": [
    "pattern = re.compile(r'\\b\\d\\d\\d-\\d\\d\\d\\d-\\d\\d\\d\\d\\b', re.M|re.I)"
   ]
  },
  {
   "cell_type": "code",
   "execution_count": 50,
   "metadata": {},
   "outputs": [
    {
     "data": {
      "text/plain": [
       "re.compile(r'\\b\\d\\d\\d-\\d\\d\\d\\d-\\d\\d\\d\\d\\b',\n",
       "re.IGNORECASE|re.MULTILINE|re.UNICODE)"
      ]
     },
     "execution_count": 50,
     "metadata": {},
     "output_type": "execute_result"
    }
   ],
   "source": [
    "pattern"
   ]
  },
  {
   "cell_type": "code",
   "execution_count": 51,
   "metadata": {},
   "outputs": [
    {
     "name": "stdout",
     "output_type": "stream",
     "text": [
      "re.compile('\\\\b\\\\d\\\\d\\\\d-\\\\d\\\\d\\\\d\\\\d-\\\\d\\\\d\\\\d\\\\d\\\\b', re.IGNORECASE|re.MULTILINE)\n"
     ]
    }
   ],
   "source": [
    "print(pattern)"
   ]
  },
  {
   "cell_type": "code",
   "execution_count": 52,
   "metadata": {},
   "outputs": [
    {
     "name": "stdout",
     "output_type": "stream",
     "text": [
      "333-3333-5555\n",
      "123-6676-5667\n",
      "456-7653-5679\n"
     ]
    }
   ],
   "source": [
    "for number in re.finditer(pattern, data):\n",
    "    print(number.group())#, number)"
   ]
  },
  {
   "cell_type": "code",
   "execution_count": 53,
   "metadata": {},
   "outputs": [
    {
     "data": {
      "text/plain": [
       "<re.Match object; span=(998, 1011), match='456-7653-5679'>"
      ]
     },
     "execution_count": 53,
     "metadata": {},
     "output_type": "execute_result"
    }
   ],
   "source": [
    "number"
   ]
  },
  {
   "cell_type": "code",
   "execution_count": 54,
   "metadata": {},
   "outputs": [
    {
     "data": {
      "text/plain": [
       "'456-7653-5679'"
      ]
     },
     "execution_count": 54,
     "metadata": {},
     "output_type": "execute_result"
    }
   ],
   "source": [
    "data[number.start(): number.end()]"
   ]
  },
  {
   "cell_type": "code",
   "execution_count": 55,
   "metadata": {},
   "outputs": [
    {
     "data": {
      "text/plain": [
       "'456-7653-5679'"
      ]
     },
     "execution_count": 55,
     "metadata": {},
     "output_type": "execute_result"
    }
   ],
   "source": [
    "number.group()"
   ]
  },
  {
   "cell_type": "markdown",
   "metadata": {},
   "source": [
    "`lazy execution` finditer\n",
    "\n",
    "`egar execution` findall "
   ]
  },
  {
   "cell_type": "markdown",
   "metadata": {},
   "source": [
    "a*\n",
    "\n",
    "''\n",
    "\n",
    "'a'\n",
    "\n",
    "'aa'\n",
    "\n",
    "'aaaa'\n",
    "\n",
    "'aaaa'"
   ]
  },
  {
   "cell_type": "code",
   "execution_count": 85,
   "metadata": {},
   "outputs": [
    {
     "name": "stdout",
     "output_type": "stream",
     "text": [
      "'a', 'a', 'abb', 'abbbbbb', 'a', 'abbbbbbbbbbbbbbb', 'a', 'a', 'a', 'a', 'a', 'a', 'a', 'a', 'a', 'a', 'a', 'a', 'a', 'a', 'a', 'a', 'a', 'a', 'a', 'a', 'a', 'a', 'a', 'a', 'a', 'a', 'a', 'a', 'a', 'a', 'a', 'a', 'a', 'a', 'a', 'a', 'a', 'a', 'a', 'a', 'a', 'a', 'a', 'a', 'a', 'a', 'a', 'a', 'a', 'a', 'a', "
     ]
    }
   ],
   "source": [
    "d = \"\"\"aa \n",
    "abb\n",
    "abbbbbb\n",
    "\n",
    "a\n",
    "\n",
    "abbbbbbbbbbbbbbb\n",
    "aaaaaa\n",
    "hello a bye bye aaaaaaaaaaaaaaaaaaaaaaaaaaaaaaaaaaa,\n",
    "\n",
    "aaa, aaaaaa\n",
    "\"\"\"\n",
    "pat = re.compile('ab*') # search 0 or more repetitions of a char\n",
    "\n",
    "for math in re.finditer(pat, d):\n",
    "    print(repr(math.group()), end=', ')"
   ]
  },
  {
   "cell_type": "code",
   "execution_count": 86,
   "metadata": {},
   "outputs": [
    {
     "name": "stdout",
     "output_type": "stream",
     "text": [
      "'abb', 'abbbbbb', 'abbbbbbbbbbbbbbb', "
     ]
    }
   ],
   "source": [
    "d = \"\"\"aa \n",
    "abb\n",
    "abbbbbb\n",
    "\n",
    "a\n",
    "\n",
    "abbbbbbbbbbbbbbb\n",
    "aaaaaa\n",
    "hello a bye bye aaaaaaaaaaaaaaaaaaaaaaaaaaaaaaaaaaa,\n",
    "\n",
    "aaa, aaaaaa\n",
    "\"\"\"\n",
    "pat = re.compile('ab+') # search 0 or more repetitions of a char\n",
    "\n",
    "for math in re.finditer(pat, d):\n",
    "    print(repr(math.group()), end=', ')"
   ]
  },
  {
   "cell_type": "code",
   "execution_count": 88,
   "metadata": {},
   "outputs": [],
   "source": [
    "pat = re.compile(r'\\b\\w+\\b') # \\w a-zA-Z0-9_ one or more repeatition having boundary values "
   ]
  },
  {
   "cell_type": "code",
   "execution_count": 90,
   "metadata": {},
   "outputs": [
    {
     "name": "stdout",
     "output_type": "stream",
     "text": [
      "hello\n",
      "world\n",
      "i\n",
      "am\n",
      "which\n",
      "match\n",
      "one\n",
      "more\n",
      "repeatitions\n",
      "so\n",
      "lets\n",
      "go\n",
      "grab\n",
      "your\n",
      "patterns\n",
      "from\n",
      "this\n",
      "statement\n"
     ]
    }
   ],
   "source": [
    "data = 'hello world i am + which match one more repeatitions so lets go grab your patterns from this statement.'\n",
    "for math in re.finditer(pat, data):\n",
    "    print(math.group())"
   ]
  },
  {
   "cell_type": "markdown",
   "metadata": {},
   "source": [
    "## `Special Characters`\n",
    "\n",
    "`.` Dot matches any character except a newline charancter, if you enable DOTALL flag than it will search newline line\n",
    "\n",
    "`^` Caret Matches the start of the string, and in MULTILINE mode also mathces immediately after each newline\n",
    "\n",
    "`$` Match at the End of Document, and in MulTILINE mode also mathces end of every new line\n",
    "\n",
    "`*` Match 0 or more repeatitions of the preceding RE, eg. ab* it match a, ab, abbb abbbbbbbbbb \n",
    "\n",
    "`+` Match 1 or more repeatitions of the preceding RE, eg. ab* it match ab, abbb, abbbbbbbbbbbbb\n",
    "\n",
    "`{s,e}` Match Start to End repeatitions of the preceding RE eg. a{,} is equal to *, a{1,} is equal to +, a{1, 3} mathces a, aa, aaa\n",
    "\n",
    "`{m}` Specifies excatly m copies of the previous RE should be matched eg. a{6} aaaaaa\n",
    "\n",
    "`{m,n}` match m to n repetations of the preceding RE, Attempting to mathc as many repetations as possible, a{3, 5} aaaaa, aaaa\n",
    "\n",
    "`?` 0 or 1 match of any preceding RE mean as? will match a, as both, in other language represent can be or can not be\n",
    "\n",
    "`*?, +?, {m, n}?` limit greedy search \n",
    "\n",
    "`\\` to search special characters\n",
    "\n",
    "`[]` used to match custom class\n",
    "\n",
    "`[^]` used to match what is not in custom class\n",
    "\n",
    "`|` A|B used to A or B\n",
    "\n",
    "`(...)` used to math groups\n",
    "\n"
   ]
  },
  {
   "cell_type": "code",
   "execution_count": 136,
   "metadata": {},
   "outputs": [],
   "source": [
    "s = \"Hello World Hallo World\""
   ]
  },
  {
   "cell_type": "code",
   "execution_count": 148,
   "metadata": {},
   "outputs": [],
   "source": [
    "pat = re.compile(r\"H(a)|(e)llo\")"
   ]
  },
  {
   "cell_type": "code",
   "execution_count": 149,
   "metadata": {},
   "outputs": [],
   "source": [
    "m = re.search(pat, s)"
   ]
  },
  {
   "cell_type": "code",
   "execution_count": 150,
   "metadata": {},
   "outputs": [
    {
     "data": {
      "text/plain": [
       "'ello'"
      ]
     },
     "execution_count": 150,
     "metadata": {},
     "output_type": "execute_result"
    }
   ],
   "source": [
    "m.group()"
   ]
  },
  {
   "cell_type": "code",
   "execution_count": 151,
   "metadata": {},
   "outputs": [
    {
     "data": {
      "text/plain": [
       "(None, 'e')"
      ]
     },
     "execution_count": 151,
     "metadata": {},
     "output_type": "execute_result"
    }
   ],
   "source": [
    "m.groups()"
   ]
  },
  {
   "cell_type": "code",
   "execution_count": 106,
   "metadata": {},
   "outputs": [],
   "source": [
    "s = \"hello**bye\""
   ]
  },
  {
   "cell_type": "code",
   "execution_count": 108,
   "metadata": {},
   "outputs": [
    {
     "data": {
      "text/plain": [
       "['*', '*']"
      ]
     },
     "execution_count": 108,
     "metadata": {},
     "output_type": "execute_result"
    }
   ],
   "source": [
    "# RE* will math 0 or more repeatation of RE\n",
    "pat = re.compile(r'\\*') # * is consider as special case of matching 0 or more repetation\n",
    "re.findall(pat, s)"
   ]
  },
  {
   "cell_type": "code",
   "execution_count": 100,
   "metadata": {},
   "outputs": [
    {
     "data": {
      "text/plain": [
       "[\"sachin is good in python and data science so let's find sachin\"]"
      ]
     },
     "execution_count": 100,
     "metadata": {},
     "output_type": "execute_result"
    }
   ],
   "source": [
    "s = \"sachin is good in python and data science so let's find sachin.\"\n",
    "\n",
    "exp = re.compile(r's.+n') #  sa sach saaaaa\n",
    "# greedy *, +, {m, n}\n",
    "re.findall(exp, s)"
   ]
  },
  {
   "cell_type": "code",
   "execution_count": 101,
   "metadata": {},
   "outputs": [
    {
     "data": {
      "text/plain": [
       "['sachin', 's good in', 'scien', \"so let's fin\", 'sachin']"
      ]
     },
     "execution_count": 101,
     "metadata": {},
     "output_type": "execute_result"
    }
   ],
   "source": [
    "s = \"sachin is good in python and data science so let's find sachin.\"\n",
    "\n",
    "exp = re.compile(r's.+?n') #  sa sach saaaaa\n",
    "# greedy *, +, {m, n}\n",
    "re.findall(exp, s)"
   ]
  },
  {
   "cell_type": "code",
   "execution_count": 102,
   "metadata": {},
   "outputs": [],
   "source": [
    "pat = re.compile(r\"m[aeiou]y[aeiou]rr?\")"
   ]
  },
  {
   "cell_type": "code",
   "execution_count": 103,
   "metadata": {},
   "outputs": [],
   "source": [
    "data = \"\"\"many people misspell mayor as mayerr or miyir or mayer\n",
    "there many combination of muyurr\"\"\""
   ]
  },
  {
   "cell_type": "code",
   "execution_count": 104,
   "metadata": {},
   "outputs": [
    {
     "data": {
      "text/plain": [
       "['mayor', 'mayerr', 'miyir', 'mayer', 'muyurr']"
      ]
     },
     "execution_count": 104,
     "metadata": {},
     "output_type": "execute_result"
    }
   ],
   "source": [
    "re.findall(pat, data)"
   ]
  },
  {
   "cell_type": "code",
   "execution_count": 105,
   "metadata": {},
   "outputs": [
    {
     "data": {
      "text/plain": [
       "'many people misspell mayer as mayer or mayer or mayer\\nthere many combination of mayer'"
      ]
     },
     "execution_count": 105,
     "metadata": {},
     "output_type": "execute_result"
    }
   ],
   "source": [
    "re.sub(pat, 'mayer', data)"
   ]
  },
  {
   "cell_type": "code",
   "execution_count": null,
   "metadata": {},
   "outputs": [],
   "source": []
  },
  {
   "cell_type": "code",
   "execution_count": 78,
   "metadata": {},
   "outputs": [
    {
     "name": "stderr",
     "output_type": "stream",
     "text": [
      "100%|███████████████████████████████████████████████████████████████████████| 600/600 [10:01<00:00,  1.00s/it]\n"
     ]
    }
   ],
   "source": [
    "from time import sleep\n",
    "from tqdm import tqdm\n",
    "for _ in tqdm(range(600)):\n",
    "    sleep(1)"
   ]
  },
  {
   "cell_type": "code",
   "execution_count": null,
   "metadata": {},
   "outputs": [],
   "source": []
  },
  {
   "cell_type": "code",
   "execution_count": 125,
   "metadata": {},
   "outputs": [],
   "source": [
    "document  = \"\"\"India is also known as Bharat\n",
    "Flag of India\n",
    "The Indian flag has tricolors\n",
    "Saffron\n",
    "White\n",
    "Green.\n",
    "The first color that is uppermost color in the flag which is the saffron \n",
    "color, stands for purity. The second color i.e. the middle color in the flag is\n",
    "the white color and it stands for peace. The third color that is the lowest color in \n",
    "the flag is the green color and it stands for fertility.\n",
    "The white color has an Ashoka Chakra of blue color on it. Ashoka Chakra contains \n",
    "twenty-four spokes which are equally divided. India has 29 states and 7 union territories.\n",
    "\n",
    "My Favorite States from India are as follows –\n",
    "Rajasthan\n",
    "Rajasthan itself has a glorious history. It is famous for many brave kings,\n",
    "their deeds, and their art and architecture. It has a sandy track that’s \n",
    "why the nuclear test was held here. Rajasthan is full of desert, mountain range, lakes, \n",
    "dense forest, attractive oases, and temples, etc. Rajasthan is also known as “Land Of Sacrifice”. \n",
    "In Rajasthan, you can see heritage things of all the kings who ruled over there and for that, \n",
    "you can visit Udaipur, Jodhpur, Jaisalmer, Chittaurgarh, etc.\n",
    "\n",
    "Madhya Pradesh\n",
    "Madhya Pradesh is bigger than a foreign (Italy) country and smaller than Oman. \n",
    "It also has tourists attractions for its places. In Madhya Pradesh, you can see temples, lakes, fort, \n",
    "art and architecture, rivers, jungles, and many things. You can visit in Indore, Jabalpur, Ujjain, Bhopal, \n",
    "Gwalior and many cities. Khajuraho, Sanchi Stupa, Pachmarhi, Kanha national park, Mandu, etc. are the places must visit.\n",
    "\n",
    "Jammu and Kashmir\n",
    "Jammu and Kashmir are known as heaven on earth. We can also call Jammu and Kashmir as Tourists Paradise. \n",
    "There are many places to visit Jammu and Kashmir because they have an undisturbed landscape, motorable road, \n",
    "beauty, lying on the banks of river Jhelum, harmony, romance, sceneries, temples and many more.\n",
    "\n",
    "In Jammu and Kashmir, u can enjoy boating, skiing, skating, mountaineering, horse riding, fishing, snowfall, etc. \n",
    "In Jammu and Kashmir, you can see a variety of places such as Srinagar, Vaishnav Devi, Gulmarg, Amarnath, Patnitop, \n",
    "Pahalgam, Sonamarg, Lamayuru, Nubra Valley, Hemis, Sanasar,  Anantnag,  Kargil,\n",
    "Dachigam National Park, Pulwama, Khilanmarg, Dras, Baltal, Bhaderwah, Pangong Lake, Magnetic Hill, Tso Moriri, \n",
    "Khardung La, Aru Valley, Suru Basin,Chadar Trek, Zanskar Valley, Alchi Monastery, Darcha Padum Trek, \n",
    "Kishtwar National Park, Changthang Wildlife Sanctuary, Nyoma, Dha Hanu, Uleytokpo, Yusmarg, Tarsar Marsar Trek and many more.\n",
    "\n",
    "let' finish on India.\n",
    "\n",
    "Kerela\n",
    "It is known as the ‘God’s Own Country’, Kerala is a state in India, situated in the southwest region, \n",
    "it is bordered by a number of beaches; covered by hills of Western Ghats and filled with backwaters, \n",
    "it is a tourist destination attracting people by its natural beauty. The most important destinations \n",
    "which you can see in Kerela are the museum, sanctuary, temples, backwaters, and beaches. Munnar, Kovalam, \n",
    "Kumarakom, and Alappad.\n",
    "\n",
    "so this is what we know as India.\n",
    "\n",
    "Conclusion\n",
    "India is a great country having different cultures, castes, creed, religions but still, they live together. \n",
    "\n",
    "India is known for its heritage, spices, and of course, for people who live here. That’s the reasons \n",
    "\n",
    "India is famous for the common saying of “unity in diversity”. \n",
    "\n",
    "India is also well known as the land of spirituality, philosophy, science, and technology.\n",
    "\n",
    "see this is something about India lets do it.\n",
    "\n",
    "\n",
    "India India India.\n",
    "\"\"\""
   ]
  },
  {
   "cell_type": "code",
   "execution_count": 126,
   "metadata": {},
   "outputs": [],
   "source": [
    "pattern = re.compile(r'^India.+')"
   ]
  },
  {
   "cell_type": "code",
   "execution_count": 127,
   "metadata": {},
   "outputs": [
    {
     "name": "stdout",
     "output_type": "stream",
     "text": [
      "India is also known as Bharat\n"
     ]
    }
   ],
   "source": [
    "for match in re.finditer(pattern, document):\n",
    "    print(match.group())"
   ]
  },
  {
   "cell_type": "code",
   "execution_count": 128,
   "metadata": {},
   "outputs": [],
   "source": [
    "pattern = re.compile(r'^India.+', re.M)"
   ]
  },
  {
   "cell_type": "code",
   "execution_count": 129,
   "metadata": {},
   "outputs": [
    {
     "name": "stdout",
     "output_type": "stream",
     "text": [
      "India is also known as Bharat\n",
      "India is a great country having different cultures, castes, creed, religions but still, they live together. \n",
      "India is known for its heritage, spices, and of course, for people who live here. That’s the reasons \n",
      "India is famous for the common saying of “unity in diversity”. \n",
      "India is also well known as the land of spirituality, philosophy, science, and technology.\n",
      "India India India.\n"
     ]
    }
   ],
   "source": [
    "for match in re.finditer(pattern, document):\n",
    "    print(match.group())"
   ]
  },
  {
   "cell_type": "code",
   "execution_count": 130,
   "metadata": {},
   "outputs": [
    {
     "name": "stdout",
     "output_type": "stream",
     "text": [
      "India India India.\n"
     ]
    }
   ],
   "source": [
    "pat  = re.compile(r'.*India.$')\n",
    "for match in re.finditer(pat, document):\n",
    "    print(match.group())"
   ]
  },
  {
   "cell_type": "code",
   "execution_count": 131,
   "metadata": {},
   "outputs": [
    {
     "name": "stdout",
     "output_type": "stream",
     "text": [
      "let' finish on India.\n",
      "so this is what we know as India.\n",
      "India India India.\n"
     ]
    }
   ],
   "source": [
    "pat  = re.compile(r'.*India.$', re.M)\n",
    "for match in re.finditer(pat, document):\n",
    "    print(match.group())"
   ]
  },
  {
   "cell_type": "code",
   "execution_count": 134,
   "metadata": {},
   "outputs": [],
   "source": [
    "pat = re.compile('\\n.+India.+\\.')"
   ]
  },
  {
   "cell_type": "code",
   "execution_count": 135,
   "metadata": {},
   "outputs": [
    {
     "name": "stdout",
     "output_type": "stream",
     "text": [
      "\n",
      "twenty-four spokes which are equally divided. India has 29 states and 7 union territories.\n",
      "\n",
      "see this is something about India lets do it.\n",
      "\n",
      "India India India.\n"
     ]
    }
   ],
   "source": [
    "for line in re.finditer(pat, document):\n",
    "    print(line.group())"
   ]
  },
  {
   "cell_type": "code",
   "execution_count": null,
   "metadata": {},
   "outputs": [],
   "source": []
  },
  {
   "cell_type": "code",
   "execution_count": 152,
   "metadata": {},
   "outputs": [],
   "source": [
    "grras = requests.get('https://grras.com')"
   ]
  },
  {
   "cell_type": "code",
   "execution_count": 153,
   "metadata": {},
   "outputs": [],
   "source": [
    "data = grras.text"
   ]
  },
  {
   "cell_type": "code",
   "execution_count": null,
   "metadata": {},
   "outputs": [],
   "source": [
    "<img src='http://hello' hel   />"
   ]
  },
  {
   "cell_type": "code",
   "execution_count": 169,
   "metadata": {},
   "outputs": [],
   "source": [
    "pat = re.compile(r\"data-original.+/>\")"
   ]
  },
  {
   "cell_type": "code",
   "execution_count": 170,
   "metadata": {},
   "outputs": [],
   "source": [
    "imgs = re.findall(pat, data)"
   ]
  },
  {
   "cell_type": "code",
   "execution_count": 171,
   "metadata": {},
   "outputs": [
    {
     "data": {
      "text/plain": [
       "21"
      ]
     },
     "execution_count": 171,
     "metadata": {},
     "output_type": "execute_result"
    }
   ],
   "source": [
    "len(imgs)"
   ]
  },
  {
   "cell_type": "code",
   "execution_count": 182,
   "metadata": {},
   "outputs": [
    {
     "name": "stdout",
     "output_type": "stream",
     "text": [
      "https://grras.com/files/til1jqbwnnnu9swfszjq/home page corporate training (1).jpg?s=500x400\n",
      "https://grras.com/files/egrecbdivdl3uurqa3yi/home page class training (1).jpg?s=500x400\n",
      "https://grras.com/files/mzdmnvv3jzautnjqd5j9/home page job oriented.jpg?s=500x400\n",
      "https://grras.com/files/jfhxiqliwvh0zpgyvqi0/home page internship program (1).jpg?s=500x400\n",
      "https://grras.com/files/clpkdoqm7f7aegntohvt/AWS Optimized.jpg?s=306x306\n",
      "https://grras.com/files/lfxbbptdtnqkrcibpktr/RedHat optimized.jpg?s=306x306\n",
      "https://grras.com/files/5egjqifogtxheseo0rqy/CCNA optimized.jpg?s=306x306\n",
      "https://grras.com/files/ejzoweksk8uttzf7m9ku/Python optimized.jpg?s=306x306\n",
      "https://grras.com/files/l9y9qppnrn5asg6uyx34/DM.jpg?s=306x306\n",
      "https://grras.com/files/h8kor1quxmfemi1lacgy/docker.jpg?s=306x306\n",
      "https://grras.com/files/wx2pvd5t3qsrdfagdpne/kubernetes.jpg?s=306x306\n",
      "https://grras.com/files/csnpvljbfvypu6m0vl2j/openshift  website page-01.jpg?s=306x306\n",
      "https://grras.com/files/pg8yey3ydvxjxnx4otgb/Kunal Optimize.jpg?s=178x178\n",
      "https://grras.com/files/4v3xgtn0v5dwhk9cm2m0/Deepak.jpeg?s=178x178\n",
      "https://grras.com/files/gws5ixyl7kiaim39xl26/Rohit optimize.jpg?s=178x178\n",
      "https://grras.com/files/bf0qnrcss92on4d2gdyq/Aayush optimize.jpg?s=178x178\n",
      "https://grras.com/files/basofvt9cpdbf3s3bvtu/WhatsApp Image 2019-01-01 at 10.40.27 AM.jpeg?s=178x178\n",
      "https://grras.com/files/lay8u6n47rrgj14hnfpm/IMG-20190706-WA0018.jpg?s=178x178\n",
      "https://grras.com/files/bckrsvi60la8qcpkesny/Screenshot_20190708-142925__01.jpg?s=178x178\n",
      "https://grras.com/files/i7vvksvmkgdzxstfgvdr/IMG-20190709-WA0124.jpg?s=178x178\n",
      "https://grras.com/files/q4ryn0yudvcoxhbnfg51/Screenshot_20190716-180913.jpg?s=178x178\n"
     ]
    }
   ],
   "source": [
    "p = re.compile('data-original=\"https?://.+?\"')\n",
    "\n",
    "for im in imgs:\n",
    "    print(re.search(p, im).group()[15:-1])\n",
    "    "
   ]
  },
  {
   "cell_type": "code",
   "execution_count": 216,
   "metadata": {},
   "outputs": [],
   "source": [
    "email_validation =\"\"\"sachin@grras.com\n",
    "facke.org\n",
    "shashank@techo.in\n",
    "sachin@yadav.us\n",
    "sachin@yadav@yahoo.com\n",
    "somemail.gmail.com\n",
    "!$%#$^%@7263.com\n",
    "kuch_bhi1235@somedomain.com\n",
    "sachin.yadav@grras.com\n",
    "sachin.somebody@gmail.com\n",
    "goodmail.com\n",
    "hiiam.mail@domain.i\n",
    "justjoking@comedy.hahahahaha\n",
    "\"\"\"\n"
   ]
  },
  {
   "cell_type": "code",
   "execution_count": 221,
   "metadata": {},
   "outputs": [],
   "source": [
    "pat = re.compile(\"^[a-zA-Z0-9]+[\\._]?[a-zA-Z0-9]+@\\w+\\.\\w{2,3}$\", re.M)"
   ]
  },
  {
   "cell_type": "code",
   "execution_count": 222,
   "metadata": {},
   "outputs": [
    {
     "data": {
      "text/plain": [
       "['sachin@grras.com',\n",
       " 'shashank@techo.in',\n",
       " 'sachin@yadav.us',\n",
       " 'kuch_bhi1235@somedomain.com',\n",
       " 'sachin.yadav@grras.com',\n",
       " 'sachin.somebody@gmail.com']"
      ]
     },
     "execution_count": 222,
     "metadata": {},
     "output_type": "execute_result"
    }
   ],
   "source": [
    "re.findall(pat, email_validation)"
   ]
  },
  {
   "cell_type": "code",
   "execution_count": 223,
   "metadata": {},
   "outputs": [
    {
     "name": "stdout",
     "output_type": "stream",
     "text": [
      "From stephen.marquard@uct.ac.za Sat Jan  5 09:14:16 2008\n",
      "Return-Path: <postmaster@collab.sakaiproject.org>\n",
      "Received: from murder (mail.umich.edu [141.211.14.90])\n",
      "\t by frankenstein.mail.umich.edu (Cyrus v2.3.8) with LMTPA;\n",
      "\t Sat, 05 Jan 2008 09:14:16 -0500\n",
      "X-Sieve: CMU Sieve 2.3\n",
      "Received: from murder ([unix socket])\n",
      "\t by mail.umich.edu (Cyrus v2.2.12) with LMTPA;\n",
      "\t Sat, 05 Jan 2008 09:14:16 -0500\n",
      "Received: from holes.mr.itd.umich.edu (holes.mr.itd.umich.edu [141.211.14.79])\n"
     ]
    }
   ],
   "source": [
    "!head emails.txt"
   ]
  },
  {
   "cell_type": "code",
   "execution_count": 224,
   "metadata": {},
   "outputs": [],
   "source": [
    "file = open('emails.txt')\n"
   ]
  },
  {
   "cell_type": "code",
   "execution_count": 225,
   "metadata": {},
   "outputs": [],
   "source": [
    "data = file.read()"
   ]
  },
  {
   "cell_type": "code",
   "execution_count": 226,
   "metadata": {},
   "outputs": [],
   "source": [
    "file.close()"
   ]
  },
  {
   "cell_type": "code",
   "execution_count": 249,
   "metadata": {},
   "outputs": [],
   "source": [
    "emails = []\n",
    "pat = re.compile(\" [a-zA-Z0-9]+[\\._]?[a-zA-Z0-9]+@\\w+\\.?\\w+\\.\\w{2,3} \")\n",
    "for email in re.finditer(pat, data):\n",
    "    emails.append(email.group()[1:-1])"
   ]
  },
  {
   "cell_type": "code",
   "execution_count": 250,
   "metadata": {},
   "outputs": [
    {
     "data": {
      "text/plain": [
       "1141"
      ]
     },
     "execution_count": 250,
     "metadata": {},
     "output_type": "execute_result"
    }
   ],
   "source": [
    "len(emails)"
   ]
  },
  {
   "cell_type": "code",
   "execution_count": 252,
   "metadata": {},
   "outputs": [
    {
     "data": {
      "text/plain": [
       "['stephen.marquard@uct.ac.za',\n",
       " 'stephen.marquard@uct.ac.za',\n",
       " 'louis@media.berkeley.edu',\n",
       " 'louis@media.berkeley.edu',\n",
       " 'zqian@umich.edu',\n",
       " 'zqian@umich.edu',\n",
       " 'rjlowe@iupui.edu',\n",
       " 'rjlowe@iupui.edu',\n",
       " 'zqian@umich.edu',\n",
       " 'zqian@umich.edu',\n",
       " 'rjlowe@iupui.edu',\n",
       " 'rjlowe@iupui.edu',\n",
       " 'cwen@iupui.edu',\n",
       " 'cwen@iupui.edu',\n",
       " 'hu2@iupui.edu',\n",
       " 'cwen@iupui.edu',\n",
       " 'cwen@iupui.edu',\n",
       " 'hu2@iupui.edu',\n",
       " 'gsilver@umich.edu',\n",
       " 'gsilver@umich.edu']"
      ]
     },
     "execution_count": 252,
     "metadata": {},
     "output_type": "execute_result"
    }
   ],
   "source": [
    "emails[:20]"
   ]
  },
  {
   "cell_type": "code",
   "execution_count": 254,
   "metadata": {},
   "outputs": [],
   "source": [
    "new_emails = list(set(emails))"
   ]
  },
  {
   "cell_type": "code",
   "execution_count": 255,
   "metadata": {},
   "outputs": [
    {
     "data": {
      "text/plain": [
       "37"
      ]
     },
     "execution_count": 255,
     "metadata": {},
     "output_type": "execute_result"
    }
   ],
   "source": [
    "len(new_emails)"
   ]
  },
  {
   "cell_type": "code",
   "execution_count": 256,
   "metadata": {},
   "outputs": [
    {
     "data": {
      "text/plain": [
       "['jlrenfro@ucdavis.edu',\n",
       " 'gopal.ramasammycook@gmail.com',\n",
       " 'gjthomas@iupui.edu',\n",
       " 'ktsao@stanford.edu',\n",
       " 'nuno@ufp.pt',\n",
       " 'csev@umich.edu',\n",
       " 'aaronz@vt.edu',\n",
       " 'louis@media.berkeley.edu',\n",
       " 'knoop@umich.edu',\n",
       " 'ostermmg@whitman.edu',\n",
       " 'joshua.ryan@asu.edu',\n",
       " 'stephen.marquard@uct.ac.za',\n",
       " 'chmaurer@iupui.edu',\n",
       " 'ajpoland@iupui.edu',\n",
       " 'stuart.freeman@et.gatech.edu',\n",
       " 'a.fish@lancaster.ac.uk',\n",
       " 'zach.thomas@txstate.edu',\n",
       " 'bkirschn@umich.edu',\n",
       " 'josrodri@iupui.edu',\n",
       " 'cwen@iupui.edu',\n",
       " 'lance@indiana.edu',\n",
       " 'gbhatnag@umich.edu',\n",
       " 'rjlowe@iupui.edu',\n",
       " 'mmmay@indiana.edu',\n",
       " 'ssmail@indiana.edu',\n",
       " 'dlhaines@umich.edu',\n",
       " 'tnguyen@iupui.edu',\n",
       " 'gsilver@umich.edu',\n",
       " 'jbush@rsmart.com',\n",
       " 'hu2@iupui.edu',\n",
       " 'david.horwitz@uct.ac.za',\n",
       " 'wagnermr@iupui.edu',\n",
       " 'ray@media.berkeley.edu',\n",
       " 'kimsooil@bu.edu',\n",
       " 'arwhyte@umich.edu',\n",
       " 'zqian@umich.edu',\n",
       " 'jimeng@umich.edu']"
      ]
     },
     "execution_count": 256,
     "metadata": {},
     "output_type": "execute_result"
    }
   ],
   "source": [
    "new_emails"
   ]
  },
  {
   "cell_type": "code",
   "execution_count": 245,
   "metadata": {},
   "outputs": [],
   "source": [
    "npt = ' \\[a-zA-Z+@\\w+\\.?\\w+\\.\\w{2,3} '"
   ]
  },
  {
   "cell_type": "code",
   "execution_count": null,
   "metadata": {},
   "outputs": [],
   "source": [
    "re.findall(npt, data)"
   ]
  },
  {
   "cell_type": "code",
   "execution_count": null,
   "metadata": {},
   "outputs": [],
   "source": []
  }
 ],
 "metadata": {
  "kernelspec": {
   "display_name": "Python 3",
   "language": "python",
   "name": "python3"
  },
  "language_info": {
   "codemirror_mode": {
    "name": "ipython",
    "version": 3
   },
   "file_extension": ".py",
   "mimetype": "text/x-python",
   "name": "python",
   "nbconvert_exporter": "python",
   "pygments_lexer": "ipython3",
   "version": "3.7.4"
  }
 },
 "nbformat": 4,
 "nbformat_minor": 2
}
