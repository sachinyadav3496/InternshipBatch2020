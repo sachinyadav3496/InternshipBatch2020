{
 "cells": [
  {
   "cell_type": "code",
   "execution_count": 5,
   "metadata": {},
   "outputs": [],
   "source": [
    "sales = [ \n",
    "    # item name, item quantity, item price\n",
    "    [ 'apple', 10, 75000],\n",
    "    [ 'samsung', 9, 60000],\n",
    "    [ 'oppo', 23, 35000]\n",
    "]"
   ]
  },
  {
   "cell_type": "code",
   "execution_count": 6,
   "metadata": {},
   "outputs": [],
   "source": [
    "sales.sort(key=lambda item: item[1]) # sorting happend inplace"
   ]
  },
  {
   "cell_type": "code",
   "execution_count": 9,
   "metadata": {},
   "outputs": [
    {
     "data": {
      "text/plain": [
       "[['apple', 10, 75000], ['samsung', 9, 60000], ['oppo', 23, 35000]]"
      ]
     },
     "execution_count": 9,
     "metadata": {},
     "output_type": "execute_result"
    }
   ],
   "source": [
    "sorted(sales, key=lambda item: item[2], reverse=True)# we get a new list object here"
   ]
  },
  {
   "cell_type": "code",
   "execution_count": 10,
   "metadata": {},
   "outputs": [
    {
     "data": {
      "text/plain": [
       "[['oppo', 23, 35000], ['apple', 10, 75000], ['samsung', 9, 60000]]"
      ]
     },
     "execution_count": 10,
     "metadata": {},
     "output_type": "execute_result"
    }
   ],
   "source": [
    "sorted(sales, key=lambda item: item[1]*item[2], reverse=True)# we get a new list object here"
   ]
  },
  {
   "cell_type": "markdown",
   "metadata": {},
   "source": [
    "    Socket Programming\n",
    "\n",
    "    Tkinter Application\n"
   ]
  },
  {
   "cell_type": "markdown",
   "metadata": {},
   "source": [
    "#### What is a socket ?"
   ]
  },
  {
   "cell_type": "code",
   "execution_count": 1,
   "metadata": {},
   "outputs": [],
   "source": [
    "import socket"
   ]
  },
  {
   "cell_type": "code",
   "execution_count": 2,
   "metadata": {},
   "outputs": [
    {
     "data": {
      "text/plain": [
       "'sachin'"
      ]
     },
     "execution_count": 2,
     "metadata": {},
     "output_type": "execute_result"
    }
   ],
   "source": [
    "socket.gethostname()"
   ]
  },
  {
   "cell_type": "code",
   "execution_count": 3,
   "metadata": {},
   "outputs": [
    {
     "data": {
      "text/plain": [
       "'127.0.0.1'"
      ]
     },
     "execution_count": 3,
     "metadata": {},
     "output_type": "execute_result"
    }
   ],
   "source": [
    "socket.gethostbyname('localhost')"
   ]
  },
  {
   "cell_type": "code",
   "execution_count": 4,
   "metadata": {},
   "outputs": [
    {
     "data": {
      "text/plain": [
       "'157.240.198.35'"
      ]
     },
     "execution_count": 4,
     "metadata": {},
     "output_type": "execute_result"
    }
   ],
   "source": [
    "socket.gethostbyname('facebook.com') # DNS"
   ]
  },
  {
   "cell_type": "code",
   "execution_count": 5,
   "metadata": {},
   "outputs": [
    {
     "data": {
      "text/plain": [
       "'172.217.160.206'"
      ]
     },
     "execution_count": 5,
     "metadata": {},
     "output_type": "execute_result"
    }
   ],
   "source": [
    "socket.gethostbyname('google.com')"
   ]
  },
  {
   "cell_type": "code",
   "execution_count": 6,
   "metadata": {},
   "outputs": [
    {
     "data": {
      "text/plain": [
       "('sachin', [], ['127.0.0.1'])"
      ]
     },
     "execution_count": 6,
     "metadata": {},
     "output_type": "execute_result"
    }
   ],
   "source": [
    "socket.gethostbyaddr('127.0.0.1')"
   ]
  },
  {
   "cell_type": "markdown",
   "metadata": {},
   "source": [
    "    Family\n",
    "    \n",
    "        IPV4 - socket.AF_INET (default)\n",
    "        IPV6 - socket.AF_INET6\n",
    "        \n",
    "   \n",
    "    Type\n",
    "    \n",
    "        TCP - socket.SOCK_STREAM (default)\n",
    "        UDP - socket.SOCK_DGRAM  "
   ]
  },
  {
   "cell_type": "code",
   "execution_count": 7,
   "metadata": {},
   "outputs": [],
   "source": [
    "html = \"\"\"<!Doctype html>\n",
    "<html>\n",
    "    <body>\n",
    "        <h1 style='color:red'>This is how internet works</h1>\n",
    "        <h2 style='color:blue'> Isn't it awsome we have created our own web server without any \n",
    "        framework using core python and socket programming </h2>\n",
    "    </body>\n",
    "</html>\n",
    "\"\"\"\n",
    "cl = len(html)"
   ]
  },
  {
   "cell_type": "code",
   "execution_count": 8,
   "metadata": {},
   "outputs": [],
   "source": [
    "resp = f\"\"\"HTTP/1.1 200 OK\n",
    "Server: Python\n",
    "Content-Length: {cl}\n",
    "Content-Type: text/html\n",
    "\n",
    "{html}\n",
    "\"\"\""
   ]
  },
  {
   "cell_type": "code",
   "execution_count": 9,
   "metadata": {},
   "outputs": [
    {
     "name": "stdout",
     "output_type": "stream",
     "text": [
      "HTTP/1.1 200 OK\n",
      "Server: Python\n",
      "Content-Length: 277\n",
      "Content-Type: text/html\n",
      "\n",
      "<!Doctype html>\n",
      "<html>\n",
      "    <body>\n",
      "        <h1 style='color:red'>This is how internet works</h1>\n",
      "        <h2 style='color:blue'> Isn't it awsome we have created our own web server without any \n",
      "        framework using core python and socket programming </h2>\n",
      "    </body>\n",
      "</html>\n",
      "\n",
      "\n"
     ]
    }
   ],
   "source": [
    "print(resp)"
   ]
  },
  {
   "cell_type": "code",
   "execution_count": 10,
   "metadata": {},
   "outputs": [],
   "source": [
    "server = socket.socket(family=socket.AF_INET, type=socket.SOCK_STREAM)"
   ]
  },
  {
   "cell_type": "code",
   "execution_count": 12,
   "metadata": {},
   "outputs": [
    {
     "data": {
      "text/plain": [
       "<socket.socket fd=1512, family=AddressFamily.AF_INET, type=SocketKind.SOCK_STREAM, proto=0>"
      ]
     },
     "execution_count": 12,
     "metadata": {},
     "output_type": "execute_result"
    }
   ],
   "source": [
    "server"
   ]
  },
  {
   "cell_type": "code",
   "execution_count": 11,
   "metadata": {},
   "outputs": [],
   "source": [
    "server.bind( ('', 80)  )\n",
    "# we have fixes server ip and port so that client can request anytime"
   ]
  },
  {
   "cell_type": "code",
   "execution_count": 12,
   "metadata": {},
   "outputs": [],
   "source": [
    "server.listen()\n",
    "# we now ready to accept requests of client"
   ]
  },
  {
   "cell_type": "code",
   "execution_count": 13,
   "metadata": {},
   "outputs": [
    {
     "name": "stdout",
     "output_type": "stream",
     "text": [
      "____________________________________________________________\n",
      "Client number 1\n",
      "Got Connected to a client :  ('192.168.29.124', 47832)\n",
      "Request of client: \n",
      " GET / HTTP/1.1\n",
      "Host: 192.168.29.232\n",
      "Connection: keep-alive\n",
      "DNT: 1\n",
      "Save-Data: on\n",
      "Upgrade-Insecure-Requests: 1\n",
      "User-Agent: Mozilla/5.0 (Linux; Android 10; SM-M307F) AppleWebKit/537.36 (KHTML, like Gecko) Chrome/83.0.4103.83 Mobile Safari/537.36\n",
      "Accept: text/html,application/xhtml+xml,application/xml;q=0.9,image/webp,image/apng,*/*;q=0.8,application/signed-exchange;v=b3;q=0.9\n",
      "Accept-Encoding: gzip, deflate\n",
      "Accept-Language: en-US,en-IN;q=0.9,en;q=0.8,hi-IN;q=0.7,hi;q=0.6\n",
      "\n",
      "\n",
      "____________________________________________________________\n",
      "Client number 2\n",
      "Got Connected to a client :  ('192.168.29.124', 47834)\n",
      "Request of client: \n",
      " GET /favicon.ico HTTP/1.1\n",
      "Host: 192.168.29.232\n",
      "Connection: keep-alive\n",
      "Save-Data: on\n",
      "User-Agent: Mozilla/5.0 (Linux; Android 10; SM-M307F) AppleWebKit/537.36 (KHTML, like Gecko) Chrome/83.0.4103.83 Mobile Safari/537.36\n",
      "DNT: 1\n",
      "Accept: image/webp,image/apng,image/*,*/*;q=0.8\n",
      "Referer: http://192.168.29.232/\n",
      "Accept-Encoding: gzip, deflate\n",
      "Accept-Language: en-US,en-IN;q=0.9,en;q=0.8,hi-IN;q=0.7,hi;q=0.6\n",
      "\n",
      "\n",
      "____________________________________________________________\n",
      "Client number 3\n",
      "Got Connected to a client :  ('192.168.29.124', 47836)\n",
      "Request of client: \n",
      " GET / HTTP/1.1\n",
      "Host: 192.168.29.232\n",
      "Connection: keep-alive\n",
      "Cache-Control: max-age=0\n",
      "DNT: 1\n",
      "Save-Data: on\n",
      "Upgrade-Insecure-Requests: 1\n",
      "User-Agent: Mozilla/5.0 (Linux; Android 10; SM-M307F) AppleWebKit/537.36 (KHTML, like Gecko) Chrome/83.0.4103.83 Mobile Safari/537.36\n",
      "Accept: text/html,application/xhtml+xml,application/xml;q=0.9,image/webp,image/apng,*/*;q=0.8,application/signed-exchange;v=b3;q=0.9\n",
      "Accept-Encoding: gzip, deflate\n",
      "Accept-Language: en-US,en-IN;q=0.9,en;q=0.8,hi-IN;q=0.7,hi;q=0.6\n",
      "\n",
      "\n",
      "____________________________________________________________\n",
      "Client number 4\n",
      "Got Connected to a client :  ('127.0.0.1', 60639)\n",
      "Request of client: \n",
      " GET / HTTP/1.1\n",
      "Host: localhost\n",
      "Connection: keep-alive\n",
      "Cache-Control: max-age=0\n",
      "DNT: 1\n",
      "Upgrade-Insecure-Requests: 1\n",
      "User-Agent: Mozilla/5.0 (Windows NT 10.0; Win64; x64) AppleWebKit/537.36 (KHTML, like Gecko) Chrome/83.0.4103.61 Safari/537.36\n",
      "Accept: text/html,application/xhtml+xml,application/xml;q=0.9,image/webp,image/apng,*/*;q=0.8,application/signed-exchange;v=b3;q=0.9\n",
      "Sec-Fetch-Site: none\n",
      "Sec-Fetch-Mode: navigate\n",
      "Sec-Fetch-User: ?1\n",
      "Sec-Fetch-Dest: document\n",
      "Accept-Encoding: gzip, deflate, br\n",
      "Accept-Language: en-US,en-IN;q=0.9,en;q=0.8,hi-IN;q=0.7,hi;q=0.6\n",
      "Cookie: csrftoken=dRoBHbC3yauC4vBb7zm4u8mBqNiMVETCrotDpH8b380wuMxk3OVEbN1QwhDtYTnK; session=.eJyrVkosKUnNLShJTYkvLE0tLsnMzytWsoqO1VFKzi8qSk0uQRdOzU3MzFGyUipOTM7IzKtMTEksMzaxNHNIB4nrJefnKukogbQoWRkZ1gIAnWMhuA.XqG0dQ.sDMH6Z5v9VPgXfdUOa8sLLKkgwg; _xsrf=2|15f769e8|ad0a968b77cb22ac39543931eddd3d6e|1589262139; username-localhost-8889=\"2|1:0|10:1590770043|23:username-localhost-8889|44:MTk1MGZjN2QzZTZmNGQ4MWFjMmM0NDhhZmMwYzk4YzM=|07dbbfb3d0c3a9ceae6\n",
      "____________________________________________________________\n",
      "Client number 5\n",
      "Got Connected to a client :  ('127.0.0.1', 60640)\n",
      "Request of client: \n",
      " \n"
     ]
    }
   ],
   "source": [
    "for c in range(5):\n",
    "    print(\"__\"*30)\n",
    "    print(f\"Client number {c+1}\")\n",
    "    csocket, caddr = server.accept()\n",
    "    print(\"Got Connected to a client : \", caddr)\n",
    "    request = csocket.recv(1024).decode()\n",
    "    print(\"Request of client: \\n\", request)\n",
    "    csocket.send(resp.encode())\n",
    "    csocket.close() # state less protocol"
   ]
  },
  {
   "cell_type": "code",
   "execution_count": 16,
   "metadata": {},
   "outputs": [],
   "source": [
    "s = 'hello world'"
   ]
  },
  {
   "cell_type": "code",
   "execution_count": 17,
   "metadata": {},
   "outputs": [
    {
     "data": {
      "text/plain": [
       "str"
      ]
     },
     "execution_count": 17,
     "metadata": {},
     "output_type": "execute_result"
    }
   ],
   "source": [
    "type(s)"
   ]
  },
  {
   "cell_type": "code",
   "execution_count": 22,
   "metadata": {},
   "outputs": [
    {
     "data": {
      "text/plain": [
       "bytes"
      ]
     },
     "execution_count": 22,
     "metadata": {},
     "output_type": "execute_result"
    }
   ],
   "source": [
    "s1 = s.encode('utf-32') # convert string to byte data\n",
    "type(s1)"
   ]
  },
  {
   "cell_type": "code",
   "execution_count": 23,
   "metadata": {},
   "outputs": [
    {
     "data": {
      "text/plain": [
       "b'\\xff\\xfe\\x00\\x00h\\x00\\x00\\x00e\\x00\\x00\\x00l\\x00\\x00\\x00l\\x00\\x00\\x00o\\x00\\x00\\x00 \\x00\\x00\\x00w\\x00\\x00\\x00o\\x00\\x00\\x00r\\x00\\x00\\x00l\\x00\\x00\\x00d\\x00\\x00\\x00'"
      ]
     },
     "execution_count": 23,
     "metadata": {},
     "output_type": "execute_result"
    }
   ],
   "source": [
    "s1"
   ]
  },
  {
   "cell_type": "code",
   "execution_count": 24,
   "metadata": {},
   "outputs": [
    {
     "name": "stdout",
     "output_type": "stream",
     "text": [
      "<class 'str'> hello world\n"
     ]
    }
   ],
   "source": [
    "x  = s1.decode('utf-32')\n",
    "print(type(x), x)"
   ]
  },
  {
   "cell_type": "code",
   "execution_count": 14,
   "metadata": {},
   "outputs": [
    {
     "name": "stderr",
     "output_type": "stream",
     "text": [
      "100%|███████████████████████████████████████████████████████████████████████| 600/600 [10:00<00:00,  1.00s/it]\n"
     ]
    }
   ],
   "source": [
    "from time import sleep\n",
    "from tqdm import tqdm \n",
    "\n",
    "for _ in tqdm(range(600)):\n",
    "    sleep(1)"
   ]
  },
  {
   "cell_type": "markdown",
   "metadata": {},
   "source": [
    "Server\n",
    "    \n",
    "    socket\n",
    "    \n",
    "    bind \n",
    "    \n",
    "    listen\n",
    "    \n",
    "    accept\n",
    "        \n",
    "        recv\n",
    "        \n",
    "        send\n",
    "        \n",
    "        close\n",
    "    close"
   ]
  },
  {
   "cell_type": "markdown",
   "metadata": {},
   "source": [
    "Client \n",
    "\n",
    "    socket\n",
    "    \n",
    "    connect (client should be aware about server's ip address)\n",
    "    \n",
    "    send \n",
    "    \n",
    "    recv\n",
    "    \n",
    "    close"
   ]
  },
  {
   "cell_type": "code",
   "execution_count": 15,
   "metadata": {},
   "outputs": [
    {
     "name": "stdout",
     "output_type": "stream",
     "text": [
      "Writing server.py\n"
     ]
    }
   ],
   "source": [
    "%%writefile server.py\n",
    "import socket\n",
    "import sys\n",
    "import os\n",
    "os.system('cls')\n",
    "if len(sys.argv) < 3:\n",
    "    print(\"Use script as server.py ip port\")\n",
    "    sys.exit(0)\n",
    "ip = sys.argv[1]\n",
    "port = int(sys.argv[2])\n",
    "server = socket.socket()\n",
    "server.bind((ip, port))\n",
    "server.listen()\n",
    "print(\"Server is listning for clients at {ip}:{port}\")\n",
    "client, caddr = server.accept()\n",
    "print(f\"Connected to a Client at addrs: {caddr}\")\n",
    "while True:\n",
    "    cmsg = client.recv(1024).decode()\n",
    "    print(f\"client --> {cmsg}\".rjust(30))\n",
    "    if cmsg.lower().strip() == 'endofchat':\n",
    "        print(\"Client has disconnected the chat\")\n",
    "        client.close()\n",
    "        break\n",
    "    smsg = input('server --> ')\n",
    "    client.send(smsg.encode())\n",
    "    if smsg.lower().strip() == 'endofchat':\n",
    "        print(\"We have disconnected the chat\")\n",
    "        client.close()\n",
    "        break\n",
    "server.close()"
   ]
  },
  {
   "cell_type": "code",
   "execution_count": 16,
   "metadata": {},
   "outputs": [
    {
     "name": "stdout",
     "output_type": "stream",
     "text": [
      "Writing client.py\n"
     ]
    }
   ],
   "source": [
    "%%writefile client.py\n",
    "import socket\n",
    "import os\n",
    "import sys\n",
    "os.system('cls')\n",
    "if len(sys.argv) < 3:\n",
    "    print('Use Script as client.py server_ip server_port')\n",
    "    sys.exit(0)\n",
    "sip = sys.argv[1]\n",
    "sport = int(sys.argv[2])  \n",
    "client = socket.socket()\n",
    "client.connect((sip, sport))\n",
    "print(f\"Got Connected to server {sip}:{sport}\")\n",
    "while True:\n",
    "    cmsg = input(\"client --> \")\n",
    "    client.send(cmsg.encode())\n",
    "    if cmsg.lower().strip() == 'endofchat': # chat terminatation protocol\n",
    "        print(\"We are closing chat application\")\n",
    "        client.close()\n",
    "        break   \n",
    "    smsg = client.recv(1024).decode()\n",
    "    print(f\"server --> {smsg}\".rjust(30))\n",
    "    if smsg.lower().strip() == 'endofchat':\n",
    "        print(\"Server has closed chat application\")\n",
    "        client.close()\n",
    "        break"
   ]
  },
  {
   "cell_type": "markdown",
   "metadata": {},
   "source": [
    "**threading**\n",
    "\n",
    "    concurrent programming"
   ]
  },
  {
   "cell_type": "code",
   "execution_count": 18,
   "metadata": {},
   "outputs": [],
   "source": [
    "import time\n",
    "def hello(name):\n",
    "    for var in range(10):\n",
    "        print(\"Hello \", name, 'at', time.ctime())\n",
    "        time.sleep(2)\n",
    "def hi(name):\n",
    "    for var in range(10):\n",
    "        print(\"hello \", name, \"at\", time.ctime())\n",
    "        time.sleep(1)"
   ]
  },
  {
   "cell_type": "code",
   "execution_count": 19,
   "metadata": {},
   "outputs": [
    {
     "name": "stdout",
     "output_type": "stream",
     "text": [
      "Hello  sachin at Sat May 30 11:25:47 2020\n",
      "Hello  sachin at Sat May 30 11:25:49 2020\n",
      "Hello  sachin at Sat May 30 11:25:51 2020\n",
      "Hello  sachin at Sat May 30 11:25:53 2020\n",
      "Hello  sachin at Sat May 30 11:25:55 2020\n",
      "Hello  sachin at Sat May 30 11:25:57 2020\n",
      "Hello  sachin at Sat May 30 11:25:59 2020\n",
      "Hello  sachin at Sat May 30 11:26:01 2020\n",
      "Hello  sachin at Sat May 30 11:26:03 2020\n",
      "Hello  sachin at Sat May 30 11:26:05 2020\n",
      "hello  python at Sat May 30 11:26:07 2020\n",
      "hello  python at Sat May 30 11:26:08 2020\n",
      "hello  python at Sat May 30 11:26:09 2020\n",
      "hello  python at Sat May 30 11:26:10 2020\n",
      "hello  python at Sat May 30 11:26:11 2020\n",
      "hello  python at Sat May 30 11:26:12 2020\n",
      "hello  python at Sat May 30 11:26:13 2020\n",
      "hello  python at Sat May 30 11:26:14 2020\n",
      "hello  python at Sat May 30 11:26:15 2020\n",
      "hello  python at Sat May 30 11:26:16 2020\n"
     ]
    }
   ],
   "source": [
    "hello('sachin') # dependent execution\n",
    "# wait unitll hello finish it's execution\n",
    "hi('python')# sequential execution"
   ]
  },
  {
   "cell_type": "code",
   "execution_count": 20,
   "metadata": {},
   "outputs": [],
   "source": [
    "import threading"
   ]
  },
  {
   "cell_type": "code",
   "execution_count": 21,
   "metadata": {},
   "outputs": [],
   "source": [
    "th1 = threading.Thread(target=hello, args=('sachin', ))\n",
    "th2 = threading.Thread(target=hi, args=('yadav', ))"
   ]
  },
  {
   "cell_type": "code",
   "execution_count": 22,
   "metadata": {},
   "outputs": [
    {
     "data": {
      "text/plain": [
       "<Thread(Thread-7, initial)>"
      ]
     },
     "execution_count": 22,
     "metadata": {},
     "output_type": "execute_result"
    }
   ],
   "source": [
    "th1"
   ]
  },
  {
   "cell_type": "code",
   "execution_count": 23,
   "metadata": {},
   "outputs": [
    {
     "data": {
      "text/plain": [
       "<Thread(Thread-8, initial)>"
      ]
     },
     "execution_count": 23,
     "metadata": {},
     "output_type": "execute_result"
    }
   ],
   "source": [
    "th2"
   ]
  },
  {
   "cell_type": "code",
   "execution_count": 24,
   "metadata": {},
   "outputs": [
    {
     "name": "stdout",
     "output_type": "stream",
     "text": [
      "Hello hello see no blocking execution\n",
      "  yadavsachin  atat  Sat May 30 11:28:38 2020Sat May 30 11:28:38 2020\n",
      "\n",
      "hello  yadav at Sat May 30 11:28:39 2020\n",
      "Hello  sachin at Sat May 30 11:28:40 2020\n",
      "hello  yadav at Sat May 30 11:28:40 2020\n",
      "hello  yadav at Sat May 30 11:28:41 2020\n",
      "Hello  sachin at Sat May 30 11:28:42 2020\n",
      "hello  yadav at Sat May 30 11:28:42 2020\n",
      "hello  yadav at Sat May 30 11:28:43 2020\n",
      "Hello  sachin at Sat May 30 11:28:44 2020\n",
      "hello  yadav at Sat May 30 11:28:44 2020\n",
      "hello  yadav at Sat May 30 11:28:45 2020\n",
      "Hello  sachin at Sat May 30 11:28:46 2020\n",
      "hello  yadav at Sat May 30 11:28:46 2020\n",
      "hello  yadav at Sat May 30 11:28:47 2020\n",
      "Hello  sachin at Sat May 30 11:28:48 2020\n",
      "Hello  sachin at Sat May 30 11:28:50 2020\n",
      "Hello  sachin at Sat May 30 11:28:52 2020\n",
      "Hello  sachin at Sat May 30 11:28:54 2020\n",
      "Hello  sachin at Sat May 30 11:28:56 2020\n",
      "will run only after threads finishes their execution\n"
     ]
    }
   ],
   "source": [
    "th1.start()\n",
    "th2.start()\n",
    "\n",
    "print(\"see no blocking execution\")\n",
    "\n",
    "th1.join()\n",
    "th2.join()\n",
    "\n",
    "print(\"will run only after threads finishes their execution\")"
   ]
  },
  {
   "cell_type": "code",
   "execution_count": 26,
   "metadata": {},
   "outputs": [
    {
     "name": "stdout",
     "output_type": "stream",
     "text": [
      "Overwriting send_recv_protocol.py\n"
     ]
    }
   ],
   "source": [
    "%%writefile send_recv_protocol.py\n",
    "\"\"\"\n",
    "    Chat application module for send and recv protocols\n",
    "    \n",
    "    send(socket) --> will send message to socket\n",
    "    recv(socket) --> recv data from socket\n",
    "\"\"\"\n",
    "\n",
    "\n",
    "def send(socket):\n",
    "    while True:\n",
    "        msg = input(\"You: \")\n",
    "        socket.send(msg.encode())\n",
    "        if msg.lower().strip() == 'endofchat':\n",
    "            return None\n",
    "\n",
    "def recv(socket):\n",
    "    while True:\n",
    "        msg = socket.recv(1024).decode()\n",
    "        print(f\"friend: {msg}\".rjust(80))\n",
    "        if msg.lower().strip() == 'endofchat':\n",
    "            return None"
   ]
  },
  {
   "cell_type": "code",
   "execution_count": 30,
   "metadata": {},
   "outputs": [
    {
     "name": "stdout",
     "output_type": "stream",
     "text": [
      "Overwriting server_chat.py\n"
     ]
    }
   ],
   "source": [
    "%%writefile server_chat.py\n",
    "import socket\n",
    "from send_recv_protocol import send, recv\n",
    "import threading\n",
    "import os\n",
    "import sys\n",
    "\n",
    "\n",
    "if __name__ == \"__main__\":\n",
    "    os.system('cls')\n",
    "    print(\"\\n\\n\\n\")\n",
    "    try:\n",
    "        if len(sys.argv) < 3 or len(sys.argv) > 3:\n",
    "            print(\"Use Script as server_chat.py ip port\")\n",
    "            sys.exit(0)\n",
    "        else:\n",
    "            ip   = sys.argv[1]\n",
    "            port = int(sys.argv[2])\n",
    "            server = socket.socket()\n",
    "            server.bind((ip, port))\n",
    "            server.listen()\n",
    "            print(f\"Server is Waiting for clients at {ip}:{port}\")\n",
    "    except ValueError as e:\n",
    "        print(\"port nubmers are integers follow that\")\n",
    "        sys.exit(0)\n",
    "    except OSError as e:\n",
    "        print(\"!!Error in Creating Socket!!\", e)\n",
    "        sys.exit(0)\n",
    "    \n",
    "    client, (cip, cport) = server.accept()\n",
    "    print(f\"\\nConnected to a client at {cip}:{cport}\")\n",
    "    \n",
    "    send_th = threading.Thread(target=send, args=(client, ))\n",
    "    recv_th  = threading.Thread(target=recv, args=(client, ))\n",
    "    \n",
    "    send_th.start()\n",
    "    recv_th.start()\n",
    "    \n",
    "    send_th.join()\n",
    "    recv_th.join()\n",
    "    \n",
    "    print(\"Connection Closed\")\n",
    "    client.close()\n",
    "    server.close()\n",
    "    sys.exit(0)"
   ]
  },
  {
   "cell_type": "code",
   "execution_count": 31,
   "metadata": {},
   "outputs": [
    {
     "name": "stdout",
     "output_type": "stream",
     "text": [
      "Overwriting client_chat.py\n"
     ]
    }
   ],
   "source": [
    "%%writefile client_chat.py\n",
    "import socket\n",
    "from send_recv_protocol import send, recv\n",
    "import threading\n",
    "import os\n",
    "import sys\n",
    "\n",
    "\n",
    "if __name__ == \"__main__\":\n",
    "    os.system('cls')\n",
    "    print(\"\\n\\n\\n\")\n",
    "    try:\n",
    "        if len(sys.argv) < 3 or len(sys.argv) > 3:\n",
    "            print(\"Use Script as client_chat.py ip port\")\n",
    "            sys.exit(0)\n",
    "        else:\n",
    "            sip   = sys.argv[1]\n",
    "            sport = int(sys.argv[2])\n",
    "            client = socket.socket()\n",
    "            client.connect((sip, sport))\n",
    "            \n",
    "    except ValueError as e:\n",
    "        print(\"port nubmers are integers follow that\")\n",
    "        sys.exit(0)\n",
    "    except OSError as e:\n",
    "        print(\"!!Error in Creating Socket!!\", e)\n",
    "        sys.exit(0)\n",
    "    \n",
    "    print(f\"\\nConnected to a server at {sip}:{sport}\")\n",
    "    \n",
    "    send_th = threading.Thread(target=send, args=(client, ))\n",
    "    recv_th  = threading.Thread(target=recv, args=(client, ))\n",
    "    \n",
    "    send_th.start()\n",
    "    recv_th.start()\n",
    "    \n",
    "    send_th.join()\n",
    "    recv_th.join()\n",
    "    \n",
    "    print(\"Connection Closed\")\n",
    "    client.close()\n",
    "    sys.exit(0)"
   ]
  },
  {
   "cell_type": "markdown",
   "metadata": {},
   "source": [
    "Tkinter ? \n",
    "\n",
    "Flask ? \n",
    "\n",
    "Database ? \n",
    "\n",
    "Data Science & ML ? \n",
    "\n",
    "Linux ? \n",
    "\n",
    "Big Data ? map-reduce, hdfs, ....  \n"
   ]
  },
  {
   "cell_type": "markdown",
   "metadata": {},
   "source": [
    "    File sharing Application"
   ]
  },
  {
   "cell_type": "markdown",
   "metadata": {},
   "source": [
    "    any doubt ? "
   ]
  },
  {
   "cell_type": "code",
   "execution_count": null,
   "metadata": {},
   "outputs": [],
   "source": []
  }
 ],
 "metadata": {
  "kernelspec": {
   "display_name": "Python 3",
   "language": "python",
   "name": "python3"
  },
  "language_info": {
   "codemirror_mode": {
    "name": "ipython",
    "version": 3
   },
   "file_extension": ".py",
   "mimetype": "text/x-python",
   "name": "python",
   "nbconvert_exporter": "python",
   "pygments_lexer": "ipython3",
   "version": "3.7.4"
  }
 },
 "nbformat": 4,
 "nbformat_minor": 2
}
