{
 "cells": [
  {
   "cell_type": "markdown",
   "metadata": {},
   "source": [
    "**Sockets**\n",
    "\n",
    "    A networking intrface between two computer (nodes) to exchange information or data "
   ]
  },
  {
   "cell_type": "markdown",
   "metadata": {},
   "source": [
    "    socket a program is a program which runs on a network layer and can interact with other programs over the network"
   ]
  },
  {
   "cell_type": "markdown",
   "metadata": {},
   "source": [
    "    for request and response cyclye we use protocols\n",
    "    \n",
    "    Server --> bind(IP, Port) --> Listen --> Accept --> Response according to request\n",
    "    \n",
    "    Client --> request --> server"
   ]
  },
  {
   "cell_type": "markdown",
   "metadata": {},
   "source": [
    "`(MAC address) Network Interface Card -> IP address \n",
    "\n",
    "        lo - loop only - 127.0.0.1 localhost (HOME)\n",
    "        \n",
    "        eth0 / wlan - your ip addr "
   ]
  },
  {
   "cell_type": "code",
   "execution_count": 1,
   "metadata": {},
   "outputs": [],
   "source": [
    "import socket"
   ]
  },
  {
   "cell_type": "code",
   "execution_count": 2,
   "metadata": {},
   "outputs": [
    {
     "data": {
      "text/plain": [
       "'sachin'"
      ]
     },
     "execution_count": 2,
     "metadata": {},
     "output_type": "execute_result"
    }
   ],
   "source": [
    "socket.gethostname()"
   ]
  },
  {
   "cell_type": "code",
   "execution_count": 3,
   "metadata": {},
   "outputs": [
    {
     "data": {
      "text/plain": [
       "'192.168.29.232'"
      ]
     },
     "execution_count": 3,
     "metadata": {},
     "output_type": "execute_result"
    }
   ],
   "source": [
    "socket.gethostbyname('sachin')"
   ]
  },
  {
   "cell_type": "code",
   "execution_count": 4,
   "metadata": {},
   "outputs": [
    {
     "data": {
      "text/plain": [
       "'157.240.16.35'"
      ]
     },
     "execution_count": 4,
     "metadata": {},
     "output_type": "execute_result"
    }
   ],
   "source": [
    "socket.gethostbyname('facebook.com')"
   ]
  },
  {
   "cell_type": "markdown",
   "metadata": {},
   "source": [
    "    str.encode to convert a string into byte stream\n",
    "\n",
    "    bytes.decode to conver a byte strem into string format"
   ]
  },
  {
   "cell_type": "code",
   "execution_count": 6,
   "metadata": {},
   "outputs": [
    {
     "name": "stdout",
     "output_type": "stream",
     "text": [
      "import socket\n",
      "server = socket.socket()\n",
      "# TCP, IPV4\n",
      "# facebook.com --> DNS --> ip_fb --> (ip_fb, 80)\n",
      "ip = '192.168.29.232'\n",
      "port = 1234\n",
      "server.bind((ip, port))\n",
      "# it means server will accept all request on port 1234\n",
      "server.listen(5) # 2nd --> serve , wait 3, 4, 5\n",
      "print(f\"Server is Listining for client at {ip}:{port}\")\n",
      "client, addr = server.accept() # accepting client connection\n",
      "# addr = (cip, cport)\n",
      "print(f\"\\nConnected to a client {addr[0]}:{addr[1]}\")\n",
      "request = client.recv(1024).decode()\n",
      "# we are recieving client request \n",
      "print(\"Client Request: \", request)\n",
      "response = \"Welcome to the World of Socket Programming\".encode()\n",
      "client.send(response)\n",
      "client.close()\n",
      "server.close()\n"
     ]
    }
   ],
   "source": [
    "!type server.py"
   ]
  },
  {
   "cell_type": "code",
   "execution_count": 7,
   "metadata": {},
   "outputs": [
    {
     "name": "stdout",
     "output_type": "stream",
     "text": [
      "import socket\n",
      "client = socket.socket()\n",
      "server_ip = '192.168.29.232'\n",
      "server_port = 1234\n",
      "client.connect((server_ip, server_port))\n",
      "print(\"Got Connected to server waiting sending request\")\n",
      "request = \"Hello Server, a simple socket request\".encode()\n",
      "client.send(request)\n",
      "response = client.recv(1024).decode()\n",
      "print(\"Sever's Response: \", response)\n",
      "client.close()\n",
      "# state less protocol\n"
     ]
    }
   ],
   "source": [
    "!type client.py"
   ]
  },
  {
   "cell_type": "code",
   "execution_count": 8,
   "metadata": {},
   "outputs": [
    {
     "name": "stdout",
     "output_type": "stream",
     "text": [
      "import socket\n",
      "server = socket.socket()\n",
      "server.bind(('192.168.29.232', 1234))\n",
      "server.listen()\n",
      "print(\"Server: 192.168.29.232:1234\")\n",
      "client, addr = server.accept()\n",
      "print(f\"\\nClient: {addr[0]}:{addr[1]}\")\n",
      "\n",
      "\n",
      "while True:\n",
      "    \n",
      "    cmsg = client.recv(1024).decode()\n",
      "    print(f\"Client-->{cmsg}\".rjust(60))\n",
      "    if cmsg.lower() == 'endofchat':\n",
      "        print(\"Client has closed chat session\")\n",
      "        client.close()\n",
      "        break\n",
      "\n",
      "    smsg  = input(\"server-->\").encode()\n",
      "    client.send(smsg)\n",
      "    if smsg.decode().lower() == 'endofchat':\n",
      "        print(\"server has closed chat session\")\n",
      "        client.close()\n",
      "        break\n",
      "\n",
      "server.close()\n",
      "\n"
     ]
    }
   ],
   "source": [
    "!type server_chat.py"
   ]
  },
  {
   "cell_type": "code",
   "execution_count": 9,
   "metadata": {},
   "outputs": [
    {
     "name": "stdout",
     "output_type": "stream",
     "text": [
      "import socket\n",
      "client = socket.socket()\n",
      "client.connect((\"192.168.29.232\", 1234))\n",
      "print(\"Connected to server\\n\\n\")\n",
      "\n",
      "while True:\n",
      "    \n",
      "    cmsg = input(\"client-->\")\n",
      "    client.send(cmsg.encode())\n",
      "    if cmsg.lower() == 'endofchat':\n",
      "        print(\"\\n\\nConnection closed by Client\")\n",
      "        client.close()\n",
      "        break\n",
      "    \n",
      "    smsg = client.recv(1024).decode()\n",
      "    print(f\"server-->{smsg}\".rjust(60))\n",
      "    if smsg.lower() == 'endofchat':\n",
      "        client.close()\n",
      "        print(\"\\n\\nConnection closed by Server\")\n",
      "        break\n"
     ]
    }
   ],
   "source": [
    "!type client_chat.py"
   ]
  },
  {
   "cell_type": "code",
   "execution_count": null,
   "metadata": {},
   "outputs": [],
   "source": []
  }
 ],
 "metadata": {
  "kernelspec": {
   "display_name": "Python 3",
   "language": "python",
   "name": "python3"
  },
  "language_info": {
   "codemirror_mode": {
    "name": "ipython",
    "version": 3
   },
   "file_extension": ".py",
   "mimetype": "text/x-python",
   "name": "python",
   "nbconvert_exporter": "python",
   "pygments_lexer": "ipython3",
   "version": "3.7.4"
  }
 },
 "nbformat": 4,
 "nbformat_minor": 4
}
