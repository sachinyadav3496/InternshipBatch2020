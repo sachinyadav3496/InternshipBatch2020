{
 "cells": [
  {
   "cell_type": "markdown",
   "metadata": {},
   "source": [
    "#### Doubt ? "
   ]
  },
  {
   "cell_type": "code",
   "execution_count": 8,
   "metadata": {},
   "outputs": [],
   "source": [
    "from importlib import reload"
   ]
  },
  {
   "cell_type": "markdown",
   "metadata": {},
   "source": [
    "Scripts\n",
    "\n",
    "    we run scripts to execute specific tasks\n",
    "\n",
    "Modules \n",
    "    \n",
    "    we import specific functions to resule logics later on\n",
    "    \n",
    "\n",
    "each file of python either a script or a module"
   ]
  },
  {
   "cell_type": "code",
   "execution_count": 1,
   "metadata": {},
   "outputs": [
    {
     "name": "stdout",
     "output_type": "stream",
     "text": [
      "Overwriting hello.py\n"
     ]
    }
   ],
   "source": [
    "%%writefile hello.py\n",
    "\n",
    "def hello(name):\n",
    "    print(\"Hello your name is: \", name)\n",
    "\n",
    "print(\"My Current space is :\", __name__)\n",
    "\n",
    "x = 5\n",
    "\n",
    "if __name__ == '__main__': # this condition seprate a module with script \n",
    "    print(\"Value of x is : \", x)\n",
    "    hello('sachin yadav')"
   ]
  },
  {
   "cell_type": "code",
   "execution_count": 2,
   "metadata": {},
   "outputs": [
    {
     "name": "stdout",
     "output_type": "stream",
     "text": [
      "My Current space is : __main__\n",
      "Value of x is :  5\n",
      "Hello your name is:  sachin yadav\n"
     ]
    }
   ],
   "source": [
    "!python hello.py\n",
    "# here hello.py will behave like a script"
   ]
  },
  {
   "cell_type": "code",
   "execution_count": 3,
   "metadata": {},
   "outputs": [
    {
     "name": "stdout",
     "output_type": "stream",
     "text": [
      "My Current space is : hello\n"
     ]
    }
   ],
   "source": [
    "import hello"
   ]
  },
  {
   "cell_type": "code",
   "execution_count": 4,
   "metadata": {},
   "outputs": [
    {
     "ename": "NameError",
     "evalue": "name 'x' is not defined",
     "output_type": "error",
     "traceback": [
      "\u001b[1;31m---------------------------------------------------------------------------\u001b[0m",
      "\u001b[1;31mNameError\u001b[0m                                 Traceback (most recent call last)",
      "\u001b[1;32m<ipython-input-4-6fcf9dfbd479>\u001b[0m in \u001b[0;36m<module>\u001b[1;34m\u001b[0m\n\u001b[1;32m----> 1\u001b[1;33m \u001b[0mx\u001b[0m\u001b[1;33m\u001b[0m\u001b[1;33m\u001b[0m\u001b[0m\n\u001b[0m",
      "\u001b[1;31mNameError\u001b[0m: name 'x' is not defined"
     ]
    }
   ],
   "source": [
    "x"
   ]
  },
  {
   "cell_type": "code",
   "execution_count": 5,
   "metadata": {},
   "outputs": [
    {
     "data": {
      "text/plain": [
       "<module 'hello' from 'C:\\\\Users\\\\sachin\\\\Desktop\\\\InternBatch\\\\hello.py'>"
      ]
     },
     "execution_count": 5,
     "metadata": {},
     "output_type": "execute_result"
    }
   ],
   "source": [
    "hello"
   ]
  },
  {
   "cell_type": "code",
   "execution_count": 7,
   "metadata": {},
   "outputs": [
    {
     "name": "stdout",
     "output_type": "stream",
     "text": [
      "['__builtins__', '__cached__', '__doc__', '__file__', '__loader__', '__name__', '__package__', '__spec__', 'hello', 'x']\n"
     ]
    }
   ],
   "source": [
    "print(dir(hello))"
   ]
  },
  {
   "cell_type": "code",
   "execution_count": 8,
   "metadata": {},
   "outputs": [
    {
     "data": {
      "text/plain": [
       "5"
      ]
     },
     "execution_count": 8,
     "metadata": {},
     "output_type": "execute_result"
    }
   ],
   "source": [
    "hello.x"
   ]
  },
  {
   "cell_type": "code",
   "execution_count": 9,
   "metadata": {},
   "outputs": [
    {
     "name": "stdout",
     "output_type": "stream",
     "text": [
      "Hello your name is:  sachin\n"
     ]
    }
   ],
   "source": [
    "hello.hello('sachin')"
   ]
  },
  {
   "cell_type": "code",
   "execution_count": 11,
   "metadata": {},
   "outputs": [],
   "source": [
    "from hello import hello, x as hello_x\n",
    "# alias, rename\n",
    "# hello.py -> hello, x (hello_x)"
   ]
  },
  {
   "cell_type": "code",
   "execution_count": 12,
   "metadata": {},
   "outputs": [
    {
     "name": "stdout",
     "output_type": "stream",
     "text": [
      "Hello your name is:  sachin yadav\n"
     ]
    }
   ],
   "source": [
    "hello('sachin yadav')"
   ]
  },
  {
   "cell_type": "code",
   "execution_count": 13,
   "metadata": {},
   "outputs": [
    {
     "data": {
      "text/plain": [
       "5"
      ]
     },
     "execution_count": 13,
     "metadata": {},
     "output_type": "execute_result"
    }
   ],
   "source": [
    "hello_x"
   ]
  },
  {
   "cell_type": "code",
   "execution_count": 15,
   "metadata": {},
   "outputs": [
    {
     "name": "stdout",
     "output_type": "stream",
     "text": [
      "Overwriting personal.py\n"
     ]
    }
   ],
   "source": [
    "%%writefile personal.py\n",
    "\"\"\"\n",
    "    personal is a module having these functions\n",
    "    \n",
    "    hello\n",
    "    add\n",
    "    pat\n",
    "\"\"\"\n",
    "\n",
    "def hello(name):\n",
    "    \"\"\"hello(name) -> greet using name\"\"\"\n",
    "    print(\"Hello \", name)\n",
    "    \n",
    "def add(x, y):\n",
    "    \"\"\"add(x, y) -> return x + y\"\"\"\n",
    "    return x + y\n",
    "\n",
    "def pat(nrows):\n",
    "    \"\"\"\n",
    "        pat(nrows) prints normal pattern\n",
    "    \"\"\"\n",
    "    print(*['*'*r for r in range(1, nrows+1)], sep='\\n')\n",
    "    \n",
    "if __name__ == '__main__':\n",
    "    hello('sachin yadav')\n",
    "    print(add(5, 10))\n",
    "    pat(10)"
   ]
  },
  {
   "cell_type": "code",
   "execution_count": 17,
   "metadata": {},
   "outputs": [
    {
     "name": "stdout",
     "output_type": "stream",
     "text": [
      "Hello  sachin yadav\n",
      "15\n",
      "*\n",
      "**\n",
      "***\n",
      "****\n",
      "*****\n",
      "******\n",
      "*******\n",
      "********\n",
      "*********\n",
      "**********\n"
     ]
    }
   ],
   "source": [
    "!python personal.py # as a script"
   ]
  },
  {
   "cell_type": "code",
   "execution_count": 18,
   "metadata": {},
   "outputs": [],
   "source": [
    "import personal"
   ]
  },
  {
   "cell_type": "code",
   "execution_count": 19,
   "metadata": {},
   "outputs": [],
   "source": [
    "import sys"
   ]
  },
  {
   "cell_type": "code",
   "execution_count": 20,
   "metadata": {},
   "outputs": [
    {
     "data": {
      "text/plain": [
       "['C:\\\\Users\\\\sachin\\\\Desktop\\\\InternBatch',\n",
       " 'C:\\\\Anaconda3\\\\python37.zip',\n",
       " 'C:\\\\Anaconda3\\\\DLLs',\n",
       " 'C:\\\\Anaconda3\\\\lib',\n",
       " 'C:\\\\Anaconda3',\n",
       " '',\n",
       " 'C:\\\\Anaconda3\\\\lib\\\\site-packages',\n",
       " 'C:\\\\Anaconda3\\\\lib\\\\site-packages\\\\win32',\n",
       " 'C:\\\\Anaconda3\\\\lib\\\\site-packages\\\\win32\\\\lib',\n",
       " 'C:\\\\Anaconda3\\\\lib\\\\site-packages\\\\Pythonwin',\n",
       " 'C:\\\\Anaconda3\\\\lib\\\\site-packages\\\\IPython\\\\extensions',\n",
       " 'C:\\\\Users\\\\sachin\\\\.ipython']"
      ]
     },
     "execution_count": 20,
     "metadata": {},
     "output_type": "execute_result"
    }
   ],
   "source": [
    "sys.path"
   ]
  },
  {
   "cell_type": "code",
   "execution_count": 5,
   "metadata": {},
   "outputs": [
    {
     "name": "stdout",
     "output_type": "stream",
     "text": [
      "Overwriting turtle.py\n"
     ]
    }
   ],
   "source": [
    "%%writefile turtle.py\n",
    "print(\"i just hacked turtle module\")"
   ]
  },
  {
   "cell_type": "code",
   "execution_count": 3,
   "metadata": {},
   "outputs": [],
   "source": [
    "import os\n",
    "\n",
    "os.unlink('turtle.py')"
   ]
  },
  {
   "cell_type": "code",
   "execution_count": 1,
   "metadata": {},
   "outputs": [],
   "source": [
    "import turtle"
   ]
  },
  {
   "cell_type": "code",
   "execution_count": 2,
   "metadata": {},
   "outputs": [],
   "source": [
    "p = turtle.Pen() # ?"
   ]
  },
  {
   "cell_type": "code",
   "execution_count": 3,
   "metadata": {},
   "outputs": [],
   "source": [
    "turtle.exitonclick()"
   ]
  },
  {
   "cell_type": "code",
   "execution_count": 4,
   "metadata": {},
   "outputs": [],
   "source": [
    "import personal"
   ]
  },
  {
   "cell_type": "code",
   "execution_count": 5,
   "metadata": {},
   "outputs": [
    {
     "name": "stdout",
     "output_type": "stream",
     "text": [
      "Help on module personal:\n",
      "\n",
      "NAME\n",
      "    personal - personal is a module having these functions\n",
      "\n",
      "DESCRIPTION\n",
      "    hello\n",
      "    add\n",
      "    pat\n",
      "\n",
      "FUNCTIONS\n",
      "    add(x, y)\n",
      "        add(x, y) -> return x + y\n",
      "    \n",
      "    hello(name)\n",
      "        hello(name) -> greet using name\n",
      "    \n",
      "    pat(nrows)\n",
      "        pat(nrows) prints normal pattern\n",
      "\n",
      "FILE\n",
      "    c:\\users\\sachin\\desktop\\internbatch\\personal.py\n",
      "\n",
      "\n"
     ]
    }
   ],
   "source": [
    "help(personal)"
   ]
  },
  {
   "cell_type": "code",
   "execution_count": 6,
   "metadata": {},
   "outputs": [
    {
     "name": "stdout",
     "output_type": "stream",
     "text": [
      "*\n",
      "**\n",
      "***\n",
      "****\n",
      "*****\n",
      "******\n",
      "*******\n",
      "********\n",
      "*********\n",
      "**********\n"
     ]
    }
   ],
   "source": [
    "personal.pat(10)"
   ]
  },
  {
   "cell_type": "code",
   "execution_count": 7,
   "metadata": {},
   "outputs": [
    {
     "data": {
      "text/plain": [
       "13"
      ]
     },
     "execution_count": 7,
     "metadata": {},
     "output_type": "execute_result"
    }
   ],
   "source": [
    "personal.add(10, 3)"
   ]
  },
  {
   "cell_type": "markdown",
   "metadata": {},
   "source": [
    "## Tkinter"
   ]
  },
  {
   "cell_type": "markdown",
   "metadata": {},
   "source": [
    "    gui development using python"
   ]
  },
  {
   "cell_type": "markdown",
   "metadata": {},
   "source": [
    "    powershell\n",
    "\n",
    "    vim\n",
    "\n",
    "    commands \n",
    "\n",
    "    terminal / powershell\n",
    "    \n",
    "    "
   ]
  },
  {
   "cell_type": "markdown",
   "metadata": {},
   "source": [
    "tkinter, wxpython, kivi, PyQT\n"
   ]
  },
  {
   "cell_type": "markdown",
   "metadata": {},
   "source": [
    "### root window"
   ]
  },
  {
   "cell_type": "code",
   "execution_count": 8,
   "metadata": {},
   "outputs": [
    {
     "data": {
      "text/plain": [
       "'C:\\\\Users\\\\sachin\\\\Desktop\\\\InternBatch'"
      ]
     },
     "execution_count": 8,
     "metadata": {},
     "output_type": "execute_result"
    }
   ],
   "source": [
    "import os\n",
    "os.getcwd()"
   ]
  },
  {
   "cell_type": "code",
   "execution_count": 9,
   "metadata": {},
   "outputs": [],
   "source": [
    "os.mkdir('tkinter_apps')"
   ]
  },
  {
   "cell_type": "code",
   "execution_count": 10,
   "metadata": {},
   "outputs": [],
   "source": [
    "os.chdir('tkinter_apps')"
   ]
  },
  {
   "cell_type": "code",
   "execution_count": 11,
   "metadata": {},
   "outputs": [
    {
     "data": {
      "text/plain": [
       "'C:\\\\Users\\\\sachin\\\\Desktop\\\\InternBatch\\\\tkinter_apps'"
      ]
     },
     "execution_count": 11,
     "metadata": {},
     "output_type": "execute_result"
    }
   ],
   "source": [
    "os.getcwd()"
   ]
  },
  {
   "cell_type": "markdown",
   "metadata": {},
   "source": [
    "    i am using jupyter as IDE"
   ]
  },
  {
   "cell_type": "code",
   "execution_count": 17,
   "metadata": {},
   "outputs": [
    {
     "data": {
      "text/plain": [
       "['1_root_window.png']"
      ]
     },
     "execution_count": 17,
     "metadata": {},
     "output_type": "execute_result"
    }
   ],
   "source": [
    "os.listdir()"
   ]
  },
  {
   "cell_type": "markdown",
   "metadata": {},
   "source": [
    "<img src=\"1_root_window.png\" />"
   ]
  },
  {
   "cell_type": "code",
   "execution_count": 27,
   "metadata": {},
   "outputs": [
    {
     "data": {
      "text/plain": [
       "['1_root_window.png', 'main.ico']"
      ]
     },
     "execution_count": 27,
     "metadata": {},
     "output_type": "execute_result"
    }
   ],
   "source": [
    "os.listdir('images')"
   ]
  },
  {
   "cell_type": "code",
   "execution_count": 55,
   "metadata": {},
   "outputs": [
    {
     "name": "stdout",
     "output_type": "stream",
     "text": [
      "Overwriting one.py\n"
     ]
    }
   ],
   "source": [
    "%%writefile one.py\n",
    "\n",
    "import tkinter as tk\n",
    "\n",
    "root = tk.Tk() \n",
    "#Tk() -> creates a root window for you\n",
    "\n",
    "root.title(\"MyApp\")\n",
    "root.iconbitmap('images/main.ico')\n",
    "root.configure(bg='#123456')\n",
    "root.wm_minsize(400, 400)\n",
    "#root.wm_minsize(root.winfo_screenwidth(), root.winfo_screenheight())\n",
    "root.resizable(0, 0)\n",
    "#root.wm_maxsize(800, 800)\n",
    "root.mainloop()\n",
    "#mainloop() runs your root window untill you close your application"
   ]
  },
  {
   "cell_type": "code",
   "execution_count": 56,
   "metadata": {},
   "outputs": [],
   "source": [
    "!python one.py"
   ]
  },
  {
   "cell_type": "code",
   "execution_count": 46,
   "metadata": {},
   "outputs": [],
   "source": [
    "import tkinter as tk"
   ]
  },
  {
   "cell_type": "code",
   "execution_count": 47,
   "metadata": {},
   "outputs": [],
   "source": [
    "root = tk.Tk()"
   ]
  },
  {
   "cell_type": "code",
   "execution_count": 48,
   "metadata": {},
   "outputs": [
    {
     "data": {
      "text/plain": [
       "1920"
      ]
     },
     "execution_count": 48,
     "metadata": {},
     "output_type": "execute_result"
    }
   ],
   "source": [
    "root.winfo_screenwidth()"
   ]
  },
  {
   "cell_type": "code",
   "execution_count": 49,
   "metadata": {},
   "outputs": [
    {
     "data": {
      "text/plain": [
       "1200"
      ]
     },
     "execution_count": 49,
     "metadata": {},
     "output_type": "execute_result"
    }
   ],
   "source": [
    "root.winfo_screenheight()"
   ]
  },
  {
   "cell_type": "markdown",
   "metadata": {},
   "source": [
    "    ways to stick your widgets to root windows are \n",
    "\n",
    "    pack\n",
    "    place\n",
    "    grid\n",
    "    \n",
    "   \n",
    "    Now we can add widgets to our screen\n",
    "    \n",
    "    Frame\n",
    "    \n",
    "    Labels\n",
    "    \n",
    "    Text\n",
    "    \n",
    "    Entry\n",
    "    \n",
    "    Buttons\n",
    "    \n",
    "    Canvas\n",
    "    \n",
    "    listbox\n",
    "    \n",
    "    progressbar\n",
    "    \n",
    "    message\n",
    "    \n",
    "    menu\n",
    "    \n",
    "    menubutton\n",
    "    \n",
    "    scrollbar\n",
    "    \n",
    "    checkbuttons\n",
    "    \n",
    "    \n"
   ]
  },
  {
   "cell_type": "code",
   "execution_count": 58,
   "metadata": {},
   "outputs": [],
   "source": [
    "#help(tk.Frame)"
   ]
  },
  {
   "cell_type": "code",
   "execution_count": 86,
   "metadata": {},
   "outputs": [
    {
     "name": "stdout",
     "output_type": "stream",
     "text": [
      "Overwriting two.py\n"
     ]
    }
   ],
   "source": [
    "%%writefile two.py\n",
    "\n",
    "import tkinter as tk\n",
    "\n",
    "root = tk.Tk() \n",
    "#Tk() -> creates a root window for you\n",
    "\n",
    "\n",
    "main_frame = tk.Frame(root, height=350, width=350, bg='red', bd=2)\n",
    "\n",
    "lab = tk.Label(main_frame, text='Hello World', bg='black', fg='white',\n",
    "              font=80)\n",
    "\n",
    "lab.pack(padx=20, pady=20)\n",
    "main_frame.pack(padx=20, pady=20)\n",
    "root.title(\"MyApp\")\n",
    "root.iconbitmap('images/main.ico')\n",
    "root.configure(bg='blue')\n",
    "root.wm_minsize(400, 400)\n",
    "#root.wm_minsize(root.winfo_screenwidth(), root.winfo_screenheight())\n",
    "root.resizable(0, 0)\n",
    "#root.wm_maxsize(800, 800)\n",
    "root.mainloop()\n",
    "#mainloop() runs your root window untill you close your application"
   ]
  },
  {
   "cell_type": "code",
   "execution_count": 87,
   "metadata": {},
   "outputs": [],
   "source": [
    "!two.py"
   ]
  },
  {
   "cell_type": "code",
   "execution_count": 62,
   "metadata": {},
   "outputs": [],
   "source": [
    "f = tk.Frame()"
   ]
  },
  {
   "cell_type": "code",
   "execution_count": 63,
   "metadata": {},
   "outputs": [
    {
     "name": "stdout",
     "output_type": "stream",
     "text": [
      "Help on method pack_configure in module tkinter:\n",
      "\n",
      "pack_configure(cnf={}, **kw) method of tkinter.Frame instance\n",
      "    Pack a widget in the parent widget. Use as options:\n",
      "    after=widget - pack it after you have packed widget\n",
      "    anchor=NSEW (or subset) - position widget according to\n",
      "                              given direction\n",
      "    before=widget - pack it before you will pack widget\n",
      "    expand=bool - expand widget if parent size grows\n",
      "    fill=NONE or X or Y or BOTH - fill widget if widget grows\n",
      "    in=master - use master to contain this widget\n",
      "    in_=master - see 'in' option description\n",
      "    ipadx=amount - add internal padding in x direction\n",
      "    ipady=amount - add internal padding in y direction\n",
      "    padx=amount - add padding in x direction\n",
      "    pady=amount - add padding in y direction\n",
      "    side=TOP or BOTTOM or LEFT or RIGHT -  where to add this widget.\n",
      "\n"
     ]
    }
   ],
   "source": [
    "help(f.pack)"
   ]
  },
  {
   "cell_type": "code",
   "execution_count": 132,
   "metadata": {},
   "outputs": [
    {
     "name": "stderr",
     "output_type": "stream",
     "text": [
      "100%|███████████████████████████████████████████████████████████████████████| 600/600 [10:00<00:00,  1.00s/it]\n"
     ]
    }
   ],
   "source": [
    "import tqdm\n",
    "import time\n",
    "for _ in tqdm.tqdm(range(600)):\n",
    "    time.sleep(1)"
   ]
  },
  {
   "cell_type": "code",
   "execution_count": 131,
   "metadata": {},
   "outputs": [],
   "source": [
    "import tkinter as tk\n",
    "\n",
    "root = tk.Tk()\n",
    "\n",
    "def on_enter(e):\n",
    "    eb['bg'] = 'white'\n",
    "    eb['fg'] = 'gray'\n",
    "    \n",
    "def on_leave(e):\n",
    "    eb['bg'] = 'gray'\n",
    "    eb['fg'] = 'white'\n",
    "    \n",
    "fr = tk.Frame(root)\n",
    "fr.pack(anchor='w')\n",
    "\n",
    "lb = tk.Label(fr, text='Hello World', font=40)\n",
    "lb.pack(anchor='w')\n",
    "\n",
    "eb = tk.Button(root, text='Exit', font=30, command=root.destroy,\n",
    "              bg='gray', fg='white', width=2, relief='raised')\n",
    "eb.pack(fill='x', padx=20, pady=20)\n",
    "\n",
    "eb.bind(\"<Enter>\", on_enter)\n",
    "eb.bind(\"<Leave>\", on_leave)\n",
    "\n",
    "root.iconbitmap('images/main.ico')\n",
    "root.title('MyApplication')\n",
    "root.wm_minsize(400, 200)\n",
    "root.mainloop()"
   ]
  },
  {
   "cell_type": "code",
   "execution_count": 124,
   "metadata": {},
   "outputs": [],
   "source": [
    "f = tk.Button()"
   ]
  },
  {
   "cell_type": "code",
   "execution_count": 137,
   "metadata": {},
   "outputs": [
    {
     "name": "stdout",
     "output_type": "stream",
     "text": [
      "you have pressed a button\n",
      "you have pressed a button\n",
      "you have pressed a button\n",
      "you have pressed a button\n",
      "you have pressed a button\n",
      "you have pressed a button\n"
     ]
    }
   ],
   "source": [
    "from tkinter import *\n",
    "\n",
    "def work():\n",
    "    print(\"you have pressed a button\")\n",
    "\n",
    "widget = Button(text='Hello', padx=10, pady=10, command=work)\n",
    "\n",
    "widget.pack(padx=20, pady=20)\n",
    "\n",
    "widget.config(cursor='gumby')\n",
    "\n",
    "widget.config(bd=8, relief=RAISED)\n",
    "\n",
    "widget.config(bg='dark green', fg='white')\n",
    "\n",
    "widget.config(font=('helvetica', 20, 'underline italic'))\n",
    "\n",
    "mainloop()"
   ]
  },
  {
   "cell_type": "code",
   "execution_count": 139,
   "metadata": {},
   "outputs": [],
   "source": [
    "e = tk.Entry()\n",
    "#print(help(e))"
   ]
  },
  {
   "cell_type": "code",
   "execution_count": 192,
   "metadata": {},
   "outputs": [
    {
     "name": "stdout",
     "output_type": "stream",
     "text": [
      "Overwriting e1.py\n"
     ]
    }
   ],
   "source": [
    "%%writefile e1.py\n",
    "import tkinter as tk\n",
    "import random\n",
    "colors = [ 'red', 'green', 'yellow', 'blue', 'purple', 'magenta', 'cyan', 'orange']\n",
    "def ent_enter(e):\n",
    "    ent_var.set('')\n",
    "    ent_box.config(bg='white', fg='gray')\n",
    "\n",
    "def ent_leave(e):\n",
    "    ent_box.config(bg='gray', fg='white')\n",
    "    ent_var.set('write something')\n",
    "\n",
    "def ent_process_data(e=None):\n",
    "    print(e)\n",
    "    text = ent_var.get()\n",
    "    lb = tk.Label(root, text=text, fg=random.choice(colors), font=20)\n",
    "    ent_var.set('')\n",
    "    lb.pack()\n",
    "\n",
    "root = tk.Tk()\n",
    "ent_var =  tk.StringVar()\n",
    "ent_var.set('write something')\n",
    "ent_box = tk.Entry(root, font=('Times', 34, 'italic'),\n",
    "                  bg='gray', fg='white', textvariable=ent_var)\n",
    "\n",
    "ent_box.pack(fill='x')\n",
    "ent_box.focus()\n",
    "\n",
    "ent_box.bind('<Enter>', ent_enter)\n",
    "ent_box.bind('<Leave>', ent_leave)\n",
    "ent_box.bind('<Return>', ent_process_data)\n",
    "\n",
    "ent_button = tk.Button(root, text='Click Me', font=('Times', 24, 'bold'), command=ent_process_data)\n",
    "ent_button.pack()\n",
    "\n",
    "root.wm_minsize(400, 400)\n",
    "root.mainloop()"
   ]
  },
  {
   "cell_type": "code",
   "execution_count": 193,
   "metadata": {},
   "outputs": [],
   "source": [
    "!python e1.py"
   ]
  },
  {
   "cell_type": "code",
   "execution_count": 162,
   "metadata": {},
   "outputs": [
    {
     "data": {
      "text/plain": [
       "tkinter.IntVar"
      ]
     },
     "execution_count": 162,
     "metadata": {},
     "output_type": "execute_result"
    }
   ],
   "source": [
    "tk.IntVar"
   ]
  },
  {
   "cell_type": "code",
   "execution_count": 170,
   "metadata": {},
   "outputs": [
    {
     "data": {
      "text/plain": [
       "<tkinter.StringVar at 0x23a18755548>"
      ]
     },
     "execution_count": 170,
     "metadata": {},
     "output_type": "execute_result"
    }
   ],
   "source": [
    "tk.StringVar()"
   ]
  },
  {
   "cell_type": "markdown",
   "metadata": {},
   "source": [
    "#### Color Game"
   ]
  },
  {
   "cell_type": "markdown",
   "metadata": {},
   "source": [
    " <h1 style='color:red'>black</h1>"
   ]
  },
  {
   "cell_type": "markdown",
   "metadata": {},
   "source": [
    "    black -> point + 1\n",
    "\n",
    "    red --> point no increment"
   ]
  },
  {
   "cell_type": "code",
   "execution_count": 194,
   "metadata": {},
   "outputs": [],
   "source": [
    "from random import choice, shuffle"
   ]
  },
  {
   "cell_type": "code",
   "execution_count": 199,
   "metadata": {},
   "outputs": [
    {
     "data": {
      "text/plain": [
       "1"
      ]
     },
     "execution_count": 199,
     "metadata": {},
     "output_type": "execute_result"
    }
   ],
   "source": [
    "l = [ 1, 2, 3, 4, 5, 6, 7, 8]\n",
    "choice(l)"
   ]
  },
  {
   "cell_type": "code",
   "execution_count": 200,
   "metadata": {},
   "outputs": [],
   "source": [
    "shuffle(l)"
   ]
  },
  {
   "cell_type": "code",
   "execution_count": 201,
   "metadata": {},
   "outputs": [
    {
     "data": {
      "text/plain": [
       "[3, 4, 5, 6, 2, 1, 8, 7]"
      ]
     },
     "execution_count": 201,
     "metadata": {},
     "output_type": "execute_result"
    }
   ],
   "source": [
    "l"
   ]
  },
  {
   "cell_type": "code",
   "execution_count": 210,
   "metadata": {},
   "outputs": [
    {
     "name": "stdout",
     "output_type": "stream",
     "text": [
      "Overwriting color_game.py\n"
     ]
    }
   ],
   "source": [
    "%%writefile color_game.py\n",
    "import tkinter as tk\n",
    "from random import shuffle\n",
    "colors = [ 'red', 'green', 'yellow', 'purple', 'gray', 'magenta', 'cyan', 'blue',\n",
    "         'orange', 'black']\n",
    "last_color = None\n",
    "score = 0\n",
    "timeout = 30\n",
    "start = False\n",
    "\n",
    "root = tk.Tk()\n",
    "\n",
    "frame = tk.Frame(root, bg='#333333')\n",
    "\n",
    "ct = list(map(str.upper, colors))\n",
    "clb = tk.Label(root, text=\", \".join(ct), bg='#333333', fg='#eeeeee', font=(\"Times\", 15, 'bold'))\n",
    "clb.pack(side=tk.TOP, fill=tk.X, expand=tk.YES)\n",
    "\n",
    "\n",
    "t = tk.Label(root, text=f\"Time Left: {timeout}\", font=(\"Courier\", 15, 'bold'))\n",
    "t.config(width=25, bg='#333333', fg='#eeeeee')\n",
    "t.pack(side=tk.TOP, fill=tk.X, expand=tk.YES)\n",
    "\n",
    "l1 = tk.Label(root, text=\"\", fg='red', font=(\"courier\", 50, 'bold'))\n",
    "l1.config(width=10, bg='#c0c0c0', relief=tk.RAISED, borderwidth=5)\n",
    "l1.pack(side=tk.TOP, expand=tk.YES)\n",
    "\n",
    "s = tk.Label(root, text=f\"Your Score: {score}\", font=(\"Courier\", 20, \"bold\"), \n",
    "            height=3, width=25, bg=\"#333333\", fg=\"#eeeeee\")\n",
    "\n",
    "s.pack(side=tk.TOP, expand=tk.YES)\n",
    "\n",
    "\n",
    "quit = tk.Button(root, text=\"Exit\", command=root.quit,\n",
    "                width=10, bg=\"#dddddd\", relief=tk.RAISED, fg=\"#333333\",\n",
    "                font=(\"Times\", 15, 'italic'))\n",
    "\n",
    "quit.pack(side=tk.BOTTOM, expand=tk.YES)\n",
    "\n",
    "e = tk.Entry(root, font=(\"Courier\", 25, \"bold\"), bg=\"#333333\", fg=\"#eeeeee\")\n",
    "e.pack(side=tk.BOTTOM, expand=tk.YES)\n",
    "\n",
    "\n",
    "frame.pack(fill=tk.BOTH, expand=tk.YES)\n",
    "\n",
    "\n",
    "def choose_color():\n",
    "    global last_color\n",
    "    shuffle(colors)\n",
    "    if last_color == colors[0]:\n",
    "        choose_color()\n",
    "    else:\n",
    "        last_color = colors[0]\n",
    "        \n",
    "\n",
    "def change_color(event):\n",
    "    global score, start\n",
    "    start = True\n",
    "    if e.get().lower().strip() == colors[0]:\n",
    "        score += 1\n",
    "        s.config(text=f\"Your Score: {score}\")\n",
    "    e.focus_set()\n",
    "    e.delete(0, tk.END)\n",
    "    choose_color()\n",
    "    l1.config(text=colors[1].upper(), fg=colors[0])\n",
    "    \n",
    "def start_timer():\n",
    "    global timeout, start, score\n",
    "    if start:\n",
    "        if timeout:\n",
    "            timeout -= 1\n",
    "            t.config(text=f\"Time Left: {timeout}\")\n",
    "            t.update()\n",
    "            t.after(1000, start_timer)\n",
    "        else:\n",
    "            l1.config(text=\"\")\n",
    "            win = tk.Toplevel(root)\n",
    "            # pop up window\n",
    "            win.focus()\n",
    "            win.grab_set()\n",
    "            lab = tk.Label(win, text=f\"Your Final Score is: {score}\",\n",
    "                          fg='#dddddd', bg='#333333')\n",
    "            \n",
    "            lab.config(font=(\"courier\", 25, \"bold\"), height=5, width=25)\n",
    "            lab.pack(fill=tk.BOTH, expand=tk.YES)\n",
    "            b = tk.Button(win, text=\"Exit\", command=win.destroy, font=(\"times\", 15))\n",
    "            b.pack(side=tk.BOTTOM, fill=tk.X, expand=tk.YES)\n",
    "            b.config(fg=\"#333333\", bg=\"#dddddd\")\n",
    "            \n",
    "            timeout = 30\n",
    "            start = False\n",
    "            score = 0\n",
    "            start_timer()\n",
    "    else:\n",
    "        t.after(1000, start_timer)\n",
    "    \n",
    "\n",
    "e.focus()\n",
    "\n",
    "\n",
    "prompt = tk.Label(root, text=\"Type in Your Guess Color Here\", bg=\"#333333\", \n",
    "              fg=\"#eeeeee\", font=(\"Times\", 15, \"bold\"))\n",
    "prompt.pack(side=tk.BOTTOM, expand=tk.YES)\n",
    "\n",
    "start_timer()\n",
    "\n",
    "root.bind(\"<Return>\", change_color)\n",
    "\n",
    "root.config(bg=\"#333333\")\n",
    "root.wm_minsize(600, 400)\n",
    "\n",
    "root.title(\"Color Game\")\n",
    "\n",
    "root.iconbitmap('images/main.ico')\n",
    "\n",
    "root.mainloop()"
   ]
  },
  {
   "cell_type": "code",
   "execution_count": null,
   "metadata": {},
   "outputs": [],
   "source": [
    "!python color_game.py"
   ]
  },
  {
   "cell_type": "markdown",
   "metadata": {},
   "source": [
    "    html, css\n",
    "\n",
    "    forms \n"
   ]
  },
  {
   "cell_type": "code",
   "execution_count": null,
   "metadata": {},
   "outputs": [],
   "source": []
  }
 ],
 "metadata": {
  "kernelspec": {
   "display_name": "Python 3",
   "language": "python",
   "name": "python3"
  },
  "language_info": {
   "codemirror_mode": {
    "name": "ipython",
    "version": 3
   },
   "file_extension": ".py",
   "mimetype": "text/x-python",
   "name": "python",
   "nbconvert_exporter": "python",
   "pygments_lexer": "ipython3",
   "version": "3.7.4"
  }
 },
 "nbformat": 4,
 "nbformat_minor": 2
}
