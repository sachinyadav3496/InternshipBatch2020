{
 "cells": [
  {
   "cell_type": "code",
   "execution_count": 10,
   "metadata": {},
   "outputs": [
    {
     "name": "stdout",
     "output_type": "stream",
     "text": [
      "name1: sachin\n",
      "sub1: 4\n",
      "sub2: 6\n",
      "sub3: 5\n",
      "name1: rajat\n",
      "sub1: 5\n",
      "sub2: 6\n",
      "sub3: 7\n",
      "[['sachin', 4, 6, 5], ['rajat', 5, 6, 7]]\n"
     ]
    }
   ],
   "source": [
    "students = [\n",
    "    [ input(\"name1: \"), int(input(\"sub1: \")), int(input(\"sub2: \")), int(input(\"sub3: \"))],\n",
    "    [ input(\"name1: \"), int(input(\"sub1: \")), int(input(\"sub2: \")), int(input(\"sub3: \"))],\n",
    "]\n",
    "pprint(students)"
   ]
  },
  {
   "cell_type": "code",
   "execution_count": 11,
   "metadata": {},
   "outputs": [],
   "source": [
    "students = [\n",
    "    [ 'sachin', 78, 67, 89 ], # 0\n",
    "    [ 'rajat', 78, 89, 76 ], # 1\n",
    "    [ 'nidhi', 56, 76, 78], # 2\n",
    "    [ 'manish', 78, 67, 78], # 3\n",
    "]"
   ]
  },
  {
   "cell_type": "code",
   "execution_count": 3,
   "metadata": {},
   "outputs": [
    {
     "data": {
      "text/plain": [
       "['sachin', 78, 67, 89]"
      ]
     },
     "execution_count": 3,
     "metadata": {},
     "output_type": "execute_result"
    }
   ],
   "source": [
    "students[0]"
   ]
  },
  {
   "cell_type": "code",
   "execution_count": 9,
   "metadata": {},
   "outputs": [
    {
     "data": {
      "text/plain": [
       "67"
      ]
     },
     "execution_count": 9,
     "metadata": {},
     "output_type": "execute_result"
    }
   ],
   "source": [
    "students[0][2]"
   ]
  },
  {
   "cell_type": "code",
   "execution_count": 4,
   "metadata": {},
   "outputs": [
    {
     "data": {
      "text/plain": [
       "['manish', 78, 67, 78]"
      ]
     },
     "execution_count": 4,
     "metadata": {},
     "output_type": "execute_result"
    }
   ],
   "source": [
    "students[3]"
   ]
  },
  {
   "cell_type": "code",
   "execution_count": 5,
   "metadata": {},
   "outputs": [
    {
     "name": "stdout",
     "output_type": "stream",
     "text": [
      "[['sachin', 78, 67, 89], ['rajat', 78, 89, 76], ['nidhi', 56, 76, 78], ['manish', 78, 67, 78]]\n"
     ]
    }
   ],
   "source": [
    "print(students)"
   ]
  },
  {
   "cell_type": "code",
   "execution_count": 6,
   "metadata": {},
   "outputs": [
    {
     "name": "stdout",
     "output_type": "stream",
     "text": [
      "[['sachin', 78, 67, 89],\n",
      " ['rajat', 78, 89, 76],\n",
      " ['nidhi', 56, 76, 78],\n",
      " ['manish', 78, 67, 78]]\n"
     ]
    }
   ],
   "source": [
    "from pprint import pprint\n",
    "pprint(students)"
   ]
  },
  {
   "cell_type": "code",
   "execution_count": 12,
   "metadata": {},
   "outputs": [
    {
     "data": {
      "text/plain": [
       "[['sachin', 78, 67, 89],\n",
       " ['rajat', 78, 89, 76],\n",
       " ['nidhi', 56, 76, 78],\n",
       " ['manish', 78, 67, 78]]"
      ]
     },
     "execution_count": 12,
     "metadata": {},
     "output_type": "execute_result"
    }
   ],
   "source": [
    "students"
   ]
  },
  {
   "cell_type": "code",
   "execution_count": 14,
   "metadata": {},
   "outputs": [
    {
     "data": {
      "text/plain": [
       "89"
      ]
     },
     "execution_count": 14,
     "metadata": {},
     "output_type": "execute_result"
    }
   ],
   "source": [
    "students[1][2]"
   ]
  },
  {
   "cell_type": "code",
   "execution_count": 18,
   "metadata": {},
   "outputs": [],
   "source": [
    "students.sort(reverse=True)"
   ]
  },
  {
   "cell_type": "code",
   "execution_count": 19,
   "metadata": {},
   "outputs": [
    {
     "name": "stdout",
     "output_type": "stream",
     "text": [
      "[['sachin', 78, 67, 89],\n",
      " ['rajat', 78, 89, 76],\n",
      " ['nidhi', 56, 76, 78],\n",
      " ['manish', 78, 67, 78]]\n"
     ]
    }
   ],
   "source": [
    "pprint(students)"
   ]
  },
  {
   "cell_type": "code",
   "execution_count": 20,
   "metadata": {},
   "outputs": [],
   "source": [
    "from operator import itemgetter"
   ]
  },
  {
   "cell_type": "code",
   "execution_count": 25,
   "metadata": {},
   "outputs": [],
   "source": [
    "students.sort(reverse=True, key=itemgetter(3))"
   ]
  },
  {
   "cell_type": "code",
   "execution_count": 26,
   "metadata": {},
   "outputs": [
    {
     "data": {
      "text/plain": [
       "[['sachin', 78, 67, 89],\n",
       " ['nidhi', 56, 76, 78],\n",
       " ['manish', 78, 67, 78],\n",
       " ['rajat', 78, 89, 76]]"
      ]
     },
     "execution_count": 26,
     "metadata": {},
     "output_type": "execute_result"
    }
   ],
   "source": [
    "students"
   ]
  },
  {
   "cell_type": "code",
   "execution_count": 30,
   "metadata": {},
   "outputs": [
    {
     "data": {
      "text/plain": [
       "6"
      ]
     },
     "execution_count": 30,
     "metadata": {},
     "output_type": "execute_result"
    }
   ],
   "source": [
    "sum([1, 2, 3])"
   ]
  },
  {
   "cell_type": "code",
   "execution_count": 28,
   "metadata": {},
   "outputs": [],
   "source": [
    "students.sort(reverse=True, key=lambda item: sum(item[1:]))"
   ]
  },
  {
   "cell_type": "code",
   "execution_count": 29,
   "metadata": {},
   "outputs": [
    {
     "data": {
      "text/plain": [
       "[['rajat', 78, 89, 76],\n",
       " ['sachin', 78, 67, 89],\n",
       " ['manish', 78, 67, 78],\n",
       " ['nidhi', 56, 76, 78]]"
      ]
     },
     "execution_count": 29,
     "metadata": {},
     "output_type": "execute_result"
    }
   ],
   "source": [
    "students"
   ]
  },
  {
   "cell_type": "code",
   "execution_count": 32,
   "metadata": {},
   "outputs": [],
   "source": [
    "mat = [\n",
    "    \n",
    "    [ 10, 34, 25],\n",
    "    # 00, 01, 02\n",
    "    [ 45, 67, 89],\n",
    "    # 10, 11, 12\n",
    "    [ 45, 34, 23]\n",
    "    # 20, 21, 22\n",
    "]"
   ]
  },
  {
   "cell_type": "code",
   "execution_count": 39,
   "metadata": {},
   "outputs": [
    {
     "name": "stdout",
     "output_type": "stream",
     "text": [
      "25\n",
      "89\n",
      "23\n"
     ]
    }
   ],
   "source": [
    "print(*[ item[2] for item in mat], sep='\\n')"
   ]
  },
  {
   "cell_type": "code",
   "execution_count": 34,
   "metadata": {},
   "outputs": [
    {
     "name": "stdout",
     "output_type": "stream",
     "text": [
      "[[10, 34, 25], [45, 67, 89], [45, 34, 23]]\n"
     ]
    }
   ],
   "source": [
    "pprint(mat)"
   ]
  },
  {
   "cell_type": "code",
   "execution_count": 35,
   "metadata": {},
   "outputs": [
    {
     "data": {
      "text/plain": [
       "67"
      ]
     },
     "execution_count": 35,
     "metadata": {},
     "output_type": "execute_result"
    }
   ],
   "source": [
    "mat[1][1]"
   ]
  },
  {
   "cell_type": "code",
   "execution_count": 36,
   "metadata": {},
   "outputs": [
    {
     "data": {
      "text/plain": [
       "45"
      ]
     },
     "execution_count": 36,
     "metadata": {},
     "output_type": "execute_result"
    }
   ],
   "source": [
    "mat[2][0]"
   ]
  },
  {
   "cell_type": "code",
   "execution_count": 88,
   "metadata": {},
   "outputs": [],
   "source": [
    "recipe = [\n",
    "    \n",
    "    [ 'tea',\n",
    "        [ 'water', 'milk', 'tea-leaves', 'sugar'], # 0 needs\n",
    "        ['boil water for 5 minutes', # step1\n",
    "         'put leaves in water and again boil for 5 mins', #step 2\n",
    "        'mix milk again boil for 5 mins', # step 3\n",
    "         'mix sugar and boil for 2 mins',\n",
    "         'recipie is ready'\n",
    "        ], # tea\n",
    "    ]\n",
    "    # [], # maggie\n",
    "    \n",
    "]\n",
    "# 3d matrix"
   ]
  },
  {
   "cell_type": "code",
   "execution_count": 89,
   "metadata": {},
   "outputs": [],
   "source": [
    "def make_recipe(name):\n",
    "    for item in recipe:\n",
    "        if item[0] == name:\n",
    "            print(\"Ingredients : \", *item[1])\n",
    "            print(\"Now follow steps: \")\n",
    "            for step in item[2]:\n",
    "                print(step, end='\\n\\n')\n",
    "                input()\n",
    "            break\n",
    "    else:\n",
    "        print(\"No such recipe Available\")\n",
    "                \n",
    "        "
   ]
  },
  {
   "cell_type": "code",
   "execution_count": 90,
   "metadata": {},
   "outputs": [
    {
     "name": "stdout",
     "output_type": "stream",
     "text": [
      "No such recipe Available\n"
     ]
    }
   ],
   "source": [
    "make_recipe('masala tea')"
   ]
  },
  {
   "cell_type": "code",
   "execution_count": 91,
   "metadata": {},
   "outputs": [
    {
     "name": "stdout",
     "output_type": "stream",
     "text": [
      "Ingredients :  water milk tea-leaves sugar\n",
      "Now follow steps: \n",
      "boil water for 5 minutes\n",
      "\n",
      "\n",
      "put leaves in water and again boil for 5 mins\n",
      "\n",
      "\n",
      "mix milk again boil for 5 mins\n",
      "\n",
      "\n",
      "mix sugar and boil for 2 mins\n",
      "\n",
      "\n",
      "recipie is ready\n",
      "\n",
      "\n"
     ]
    }
   ],
   "source": [
    "make_recipe('tea')\n",
    "\n"
   ]
  },
  {
   "cell_type": "code",
   "execution_count": 48,
   "metadata": {},
   "outputs": [
    {
     "data": {
      "text/plain": [
       "'tea'"
      ]
     },
     "execution_count": 48,
     "metadata": {},
     "output_type": "execute_result"
    }
   ],
   "source": [
    "recipe[0][0]"
   ]
  },
  {
   "cell_type": "code",
   "execution_count": 49,
   "metadata": {},
   "outputs": [
    {
     "data": {
      "text/plain": [
       "['water', 'milk', 'tea-leaves', 'sugar']"
      ]
     },
     "execution_count": 49,
     "metadata": {},
     "output_type": "execute_result"
    }
   ],
   "source": [
    "recipe[0][1]"
   ]
  },
  {
   "cell_type": "code",
   "execution_count": 50,
   "metadata": {},
   "outputs": [
    {
     "data": {
      "text/plain": [
       "['boil water for 5 minutes']"
      ]
     },
     "execution_count": 50,
     "metadata": {},
     "output_type": "execute_result"
    }
   ],
   "source": [
    "recipe[0][2]"
   ]
  },
  {
   "cell_type": "code",
   "execution_count": 51,
   "metadata": {},
   "outputs": [
    {
     "data": {
      "text/plain": [
       "['put leaves in water and again boil for 5 mins']"
      ]
     },
     "execution_count": 51,
     "metadata": {},
     "output_type": "execute_result"
    }
   ],
   "source": [
    "recipe[0][3]"
   ]
  },
  {
   "cell_type": "code",
   "execution_count": 92,
   "metadata": {},
   "outputs": [],
   "source": [
    "recipe = {\n",
    "    \n",
    "    'tea': {\n",
    "            'ingredients': [ 'water', 'milk', 'tea-leaves', 'sugar'],\n",
    "            'steps': [\n",
    "                'boil water for 5 minutes', # step1\n",
    "                'put leaves in water and again boil for 5 mins', #step 2\n",
    "                'mix milk again boil for 5 mins', # step 3\n",
    "                'mix sugar and boil for 2 mins',\n",
    "                'recipie is ready'\n",
    "            ]\n",
    "        }\n",
    "    \n",
    "}"
   ]
  },
  {
   "cell_type": "code",
   "execution_count": 93,
   "metadata": {},
   "outputs": [
    {
     "name": "stdout",
     "output_type": "stream",
     "text": [
      "{'tea': {'ingredients': ['water', 'milk', 'tea-leaves', 'sugar'],\n",
      "         'steps': ['boil water for 5 minutes',\n",
      "                   'put leaves in water and again boil for 5 mins',\n",
      "                   'mix milk again boil for 5 mins',\n",
      "                   'mix sugar and boil for 2 mins',\n",
      "                   'recipie is ready']}}\n"
     ]
    }
   ],
   "source": [
    "pprint(recipe)"
   ]
  },
  {
   "cell_type": "code",
   "execution_count": 97,
   "metadata": {},
   "outputs": [],
   "source": [
    "def make_recipe(name):\n",
    "    if name in recipe:\n",
    "        print(\"Ingredients Needed: \", recipe[name]['ingredients'])\n",
    "        print(\"\\nStart Your Process: \")\n",
    "        c = 1\n",
    "        for step in recipe[name]['steps']:\n",
    "            print(c,step)\n",
    "            input()\n",
    "            c += 1\n",
    "    else:\n",
    "        print(\"No such recipe Available\")"
   ]
  },
  {
   "cell_type": "code",
   "execution_count": 98,
   "metadata": {},
   "outputs": [
    {
     "name": "stdout",
     "output_type": "stream",
     "text": [
      "No such recipe Available\n"
     ]
    }
   ],
   "source": [
    "make_recipe('tea masala')"
   ]
  },
  {
   "cell_type": "code",
   "execution_count": 99,
   "metadata": {},
   "outputs": [
    {
     "name": "stdout",
     "output_type": "stream",
     "text": [
      "Ingredients Needed:  ['water', 'milk', 'tea-leaves', 'sugar']\n",
      "\n",
      "Start Your Process: \n",
      "1 boil water for 5 minutes\n",
      "\n",
      "2 put leaves in water and again boil for 5 mins\n",
      "\n",
      "3 mix milk again boil for 5 mins\n",
      "\n",
      "4 mix sugar and boil for 2 mins\n",
      "\n",
      "5 recipie is ready\n",
      "\n"
     ]
    }
   ],
   "source": [
    "make_recipe('tea')"
   ]
  },
  {
   "cell_type": "code",
   "execution_count": 101,
   "metadata": {},
   "outputs": [],
   "source": [
    "libaray = {\n",
    "    'CS': {\n",
    "        'programming': {\n",
    "                'ISBN-1001': { 'name': 'python', 'publisher': 'somepp', 'price':200}\n",
    "                            },\n",
    "        'ca': [],\n",
    "        \n",
    "    },\n",
    "    'EC': '',\n",
    "}"
   ]
  },
  {
   "cell_type": "code",
   "execution_count": 109,
   "metadata": {},
   "outputs": [],
   "source": [
    "corona = {\n",
    "    \n",
    "    'India': {\n",
    "        'total': { 'patients': 70000, 'recover': 25000, 'deaths': 3500, 'tests': 6000000},\n",
    "        'Rajasthan': {\n",
    "            'total': { 'patients': 11000, 'recover': 3500, 'deaths': 200, 'tests': 200000 },\n",
    "            'tonk': { 'patiens': 1000},\n",
    "            'jaipur': {}\n",
    "        },\n",
    "        'Punjab': {},\n",
    "        \n",
    "    },\n",
    "    'US': '',\n",
    "    \n",
    "}"
   ]
  },
  {
   "cell_type": "code",
   "execution_count": 110,
   "metadata": {},
   "outputs": [
    {
     "name": "stdout",
     "output_type": "stream",
     "text": [
      "{'deaths': 3500, 'patients': 70000, 'recover': 25000, 'tests': 6000000}\n"
     ]
    }
   ],
   "source": [
    "pprint(corona['India']['total'])"
   ]
  },
  {
   "cell_type": "code",
   "execution_count": 111,
   "metadata": {},
   "outputs": [
    {
     "name": "stdout",
     "output_type": "stream",
     "text": [
      "{'jaipur': {},\n",
      " 'tonk': {'patiens': 1000},\n",
      " 'total': {'deaths': 200, 'patients': 11000, 'recover': 3500, 'tests': 200000}}\n"
     ]
    }
   ],
   "source": [
    "pprint(corona['India']['Rajasthan'])"
   ]
  },
  {
   "cell_type": "code",
   "execution_count": 113,
   "metadata": {},
   "outputs": [
    {
     "name": "stdout",
     "output_type": "stream",
     "text": [
      "('patients', 11000)\n",
      "('recover', 3500)\n",
      "('deaths', 200)\n",
      "('tests', 200000)\n"
     ]
    }
   ],
   "source": [
    "rj = corona['India']['Rajasthan']['total']\n",
    "print(*zip(rj.keys(), rj.values()), sep='\\n')"
   ]
  },
  {
   "cell_type": "code",
   "execution_count": null,
   "metadata": {},
   "outputs": [],
   "source": []
  },
  {
   "cell_type": "markdown",
   "metadata": {},
   "source": [
    "**String Formatting**"
   ]
  },
  {
   "cell_type": "code",
   "execution_count": 114,
   "metadata": {},
   "outputs": [
    {
     "name": "stdout",
     "output_type": "stream",
     "text": [
      "Enter your name: sachin\n",
      "Enter your age: 24\n",
      "hello user,  sachin You are  24 years old.\n"
     ]
    }
   ],
   "source": [
    "name = input(\"Enter your name: \")\n",
    "age = int(input(\"Enter your age: \"))\n",
    "\n",
    "print(\"hello user, \", name, \"You are \", age, \"years old.\")"
   ]
  },
  {
   "cell_type": "markdown",
   "metadata": {},
   "source": [
    "**old way of putting data inside strings**"
   ]
  },
  {
   "cell_type": "code",
   "execution_count": 117,
   "metadata": {},
   "outputs": [],
   "source": [
    "x = 1234\n",
    "y = 3.5\n",
    "name = \"sachin\"\n"
   ]
  },
  {
   "cell_type": "markdown",
   "metadata": {},
   "source": [
    "#### String Formatting"
   ]
  },
  {
   "cell_type": "code",
   "execution_count": 124,
   "metadata": {},
   "outputs": [],
   "source": [
    "data = \"\"\"Here, x = %d\n",
    "      y = %.2f\n",
    "      name = %s\"\"\"%(x, y, name)"
   ]
  },
  {
   "cell_type": "code",
   "execution_count": 125,
   "metadata": {},
   "outputs": [
    {
     "name": "stdout",
     "output_type": "stream",
     "text": [
      "Here, x = 1234\n",
      "      y = 3.50\n",
      "      name = sachin\n"
     ]
    }
   ],
   "source": [
    "print(data)"
   ]
  },
  {
   "cell_type": "code",
   "execution_count": 126,
   "metadata": {},
   "outputs": [
    {
     "name": "stdout",
     "output_type": "stream",
     "text": [
      "Enter your name: sachin\n",
      "Enter your age: 24\n",
      "Welcome user sachin your age is 24\n"
     ]
    }
   ],
   "source": [
    "name = input(\"Enter your name: \")\n",
    "age = int(input(\"Enter your age: \"))\n",
    "\n",
    "data = \"Welcome user %s your age is %d\"%(name, age)\n",
    "print(data)"
   ]
  },
  {
   "cell_type": "markdown",
   "metadata": {},
   "source": [
    "**python way**"
   ]
  },
  {
   "cell_type": "code",
   "execution_count": 127,
   "metadata": {},
   "outputs": [
    {
     "name": "stdout",
     "output_type": "stream",
     "text": [
      "Help on method_descriptor:\n",
      "\n",
      "format(...)\n",
      "    S.format(*args, **kwargs) -> str\n",
      "    \n",
      "    Return a formatted version of S, using substitutions from args and kwargs.\n",
      "    The substitutions are identified by braces ('{' and '}').\n",
      "\n"
     ]
    }
   ],
   "source": [
    "help(str.format)"
   ]
  },
  {
   "cell_type": "code",
   "execution_count": 128,
   "metadata": {},
   "outputs": [],
   "source": [
    "name = 'sachin yadav'\n",
    "age = 24\n",
    "country = 'India'\n",
    "\n",
    "# {} ---> palace holders\n",
    "s = \"\"\"\n",
    "My name is {}.\n",
    "My age is {}.\n",
    "I live in Country {}.\n",
    "\"\"\".format(name,age, country )"
   ]
  },
  {
   "cell_type": "code",
   "execution_count": 129,
   "metadata": {},
   "outputs": [
    {
     "name": "stdout",
     "output_type": "stream",
     "text": [
      "\n",
      "My name is sachin yadav.\n",
      "My age is 24.\n",
      "I live in Country India.\n",
      "\n"
     ]
    }
   ],
   "source": [
    "print(s)"
   ]
  },
  {
   "cell_type": "markdown",
   "metadata": {},
   "source": [
    "    dict --> 3.5 or earlier --> keys --> unorderd\n",
    "    dict -> 3.6 --> keys --> sorted"
   ]
  },
  {
   "cell_type": "code",
   "execution_count": 132,
   "metadata": {},
   "outputs": [],
   "source": [
    "## python 3.6 or above\n",
    "name = 'sachin yadav'\n",
    "age = 24\n",
    "country = 'India'\n",
    "\n",
    "# {} ---> palace holders\n",
    "s = f\"\"\"\n",
    "My name is {name}.\n",
    "My age is {age}.\n",
    "I live in Country {country}.\n",
    "\"\"\"\n",
    "# f-string -> format string "
   ]
  },
  {
   "cell_type": "code",
   "execution_count": 133,
   "metadata": {},
   "outputs": [
    {
     "name": "stdout",
     "output_type": "stream",
     "text": [
      "\n",
      "My name is sachin yadav.\n",
      "My age is 24.\n",
      "I live in Country India.\n",
      "\n"
     ]
    }
   ],
   "source": [
    "print(s)"
   ]
  },
  {
   "cell_type": "code",
   "execution_count": null,
   "metadata": {},
   "outputs": [],
   "source": []
  },
  {
   "cell_type": "markdown",
   "metadata": {},
   "source": [
    "### Type Conversion"
   ]
  },
  {
   "cell_type": "markdown",
   "metadata": {},
   "source": [
    "size --> ? "
   ]
  },
  {
   "cell_type": "code",
   "execution_count": 134,
   "metadata": {},
   "outputs": [
    {
     "name": "stdout",
     "output_type": "stream",
     "text": [
      "28\n"
     ]
    }
   ],
   "source": [
    "x = 12344\n",
    "print(x.__sizeof__())"
   ]
  },
  {
   "cell_type": "code",
   "execution_count": 136,
   "metadata": {},
   "outputs": [
    {
     "name": "stdout",
     "output_type": "stream",
     "text": [
      "64\n"
     ]
    }
   ],
   "source": [
    "x = 999999999999999999999999999999999999999999999999999999999999999999999999999999999999999999\n",
    "print(x.__sizeof__())"
   ]
  },
  {
   "cell_type": "markdown",
   "metadata": {},
   "source": [
    "**Numbers**"
   ]
  },
  {
   "cell_type": "code",
   "execution_count": 137,
   "metadata": {},
   "outputs": [
    {
     "name": "stdout",
     "output_type": "stream",
     "text": [
      "X: 5\n",
      "<class 'str'> 5\n"
     ]
    }
   ],
   "source": [
    "x = input(\"X: \")\n",
    "print(type(x), x)"
   ]
  },
  {
   "cell_type": "code",
   "execution_count": 138,
   "metadata": {},
   "outputs": [
    {
     "name": "stdout",
     "output_type": "stream",
     "text": [
      "x: 5\n",
      "y: 10\n",
      "15\n"
     ]
    }
   ],
   "source": [
    "x = int(input(\"x: \"))\n",
    "y = int(input(\"y: \"))\n",
    "print(x+y)"
   ]
  },
  {
   "cell_type": "code",
   "execution_count": 141,
   "metadata": {},
   "outputs": [
    {
     "name": "stdout",
     "output_type": "stream",
     "text": [
      "x: 5\n",
      "<class 'str'>\n",
      "y: 6\n",
      "<class 'str'>\n",
      "56\n"
     ]
    }
   ],
   "source": [
    "x = input(\"x: \")\n",
    "print(type(x))\n",
    "y = input(\"y: \")\n",
    "print(type(y))\n",
    "print(x+y)"
   ]
  },
  {
   "cell_type": "code",
   "execution_count": 142,
   "metadata": {},
   "outputs": [
    {
     "name": "stdout",
     "output_type": "stream",
     "text": [
      "x: 5\n",
      "<class 'int'>\n",
      "y: 6\n",
      "<class 'int'>\n",
      "11\n"
     ]
    }
   ],
   "source": [
    "x = input(\"x: \")\n",
    "x = int(x) # type casting\n",
    "print(type(x))\n",
    "y = input(\"y: \")\n",
    "y = int(y) # type casting\n",
    "print(type(y))\n",
    "print(x+y)"
   ]
  },
  {
   "cell_type": "code",
   "execution_count": 144,
   "metadata": {},
   "outputs": [
    {
     "name": "stdout",
     "output_type": "stream",
     "text": [
      "<class 'str'> 5.6\n",
      "<class 'float'> 5.6\n"
     ]
    }
   ],
   "source": [
    "x = \"5.6\"\n",
    "print(type(x), x)\n",
    "x = float(x)\n",
    "print(type(x), x)"
   ]
  },
  {
   "cell_type": "markdown",
   "metadata": {},
   "source": [
    "    int           bin    oct hex    \n",
    "    \n",
    "    float\n",
    "    \n",
    "    complex\n",
    "    \n",
    "    str         ord   chr\n",
    "    \n",
    "    list\n",
    "    \n",
    "    tuple\n",
    "    \n",
    "    dict\n",
    "    \n",
    "    set\n",
    "    \n",
    "    frozenset\n",
    "    \n",
    "    bool\n",
    "    "
   ]
  },
  {
   "cell_type": "code",
   "execution_count": 146,
   "metadata": {},
   "outputs": [],
   "source": [
    "x = \"5243\"\n",
    "x = int(x) # int conversion\n"
   ]
  },
  {
   "cell_type": "code",
   "execution_count": 147,
   "metadata": {},
   "outputs": [
    {
     "data": {
      "text/plain": [
       "4.5"
      ]
     },
     "execution_count": 147,
     "metadata": {},
     "output_type": "execute_result"
    }
   ],
   "source": [
    "float(\"4.5\")"
   ]
  },
  {
   "cell_type": "code",
   "execution_count": 149,
   "metadata": {},
   "outputs": [
    {
     "data": {
      "text/plain": [
       "(45.66+67j)"
      ]
     },
     "execution_count": 149,
     "metadata": {},
     "output_type": "execute_result"
    }
   ],
   "source": [
    "complex(\"45.66+67j\")"
   ]
  },
  {
   "cell_type": "code",
   "execution_count": 150,
   "metadata": {},
   "outputs": [],
   "source": [
    "# conversion (automatically by compier) and casting (by user)"
   ]
  },
  {
   "cell_type": "code",
   "execution_count": 151,
   "metadata": {},
   "outputs": [
    {
     "data": {
      "text/plain": [
       "list"
      ]
     },
     "execution_count": 151,
     "metadata": {},
     "output_type": "execute_result"
    }
   ],
   "source": [
    "x = [1, 2, 3]\n",
    "type(x)"
   ]
  },
  {
   "cell_type": "code",
   "execution_count": 152,
   "metadata": {},
   "outputs": [
    {
     "name": "stdout",
     "output_type": "stream",
     "text": [
      "int([x]) -> integer\n",
      "int(x, base=10) -> integer\n",
      "\n",
      "Convert a number or string to an integer, or return 0 if no arguments\n",
      "are given.  If x is a number, return x.__int__().  For floating point\n",
      "numbers, this truncates towards zero.\n",
      "\n",
      "If x is not a number or if base is given, then x must be a string,\n",
      "bytes, or bytearray instance representing an integer literal in the\n",
      "given base.  The literal can be preceded by '+' or '-' and be surrounded\n",
      "by whitespace.  The base defaults to 10.  Valid bases are 0 and 2-36.\n",
      "Base 0 means to interpret the base from the string as an integer literal.\n",
      ">>> int('0b100', base=0)\n",
      "4\n"
     ]
    }
   ],
   "source": [
    "print(int.__doc__)"
   ]
  },
  {
   "cell_type": "code",
   "execution_count": 155,
   "metadata": {},
   "outputs": [
    {
     "data": {
      "text/plain": [
       "4567"
      ]
     },
     "execution_count": 155,
     "metadata": {},
     "output_type": "execute_result"
    }
   ],
   "source": [
    "int(\"4567\") # decimal"
   ]
  },
  {
   "cell_type": "code",
   "execution_count": 156,
   "metadata": {},
   "outputs": [],
   "source": [
    "num = \"1011\" # binary\n",
    "# binary to decimal"
   ]
  },
  {
   "cell_type": "code",
   "execution_count": 157,
   "metadata": {},
   "outputs": [
    {
     "name": "stdout",
     "output_type": "stream",
     "text": [
      "1011\n"
     ]
    }
   ],
   "source": [
    "n = int(num)\n",
    "print(n)"
   ]
  },
  {
   "cell_type": "code",
   "execution_count": 158,
   "metadata": {},
   "outputs": [
    {
     "name": "stdout",
     "output_type": "stream",
     "text": [
      "11\n"
     ]
    }
   ],
   "source": [
    "n = int(num, 2)\n",
    "print(n)"
   ]
  },
  {
   "cell_type": "code",
   "execution_count": 160,
   "metadata": {},
   "outputs": [],
   "source": [
    "num = 'abc' # ? "
   ]
  },
  {
   "cell_type": "code",
   "execution_count": 163,
   "metadata": {},
   "outputs": [
    {
     "name": "stdout",
     "output_type": "stream",
     "text": [
      "2748\n"
     ]
    }
   ],
   "source": [
    "i = int(num, 16)\n",
    "print(i)"
   ]
  },
  {
   "cell_type": "code",
   "execution_count": 164,
   "metadata": {},
   "outputs": [
    {
     "data": {
      "text/plain": [
       "34"
      ]
     },
     "execution_count": 164,
     "metadata": {},
     "output_type": "execute_result"
    }
   ],
   "source": [
    "int(\"34\")# decimal to decimal"
   ]
  },
  {
   "cell_type": "code",
   "execution_count": 165,
   "metadata": {},
   "outputs": [
    {
     "data": {
      "text/plain": [
       "5"
      ]
     },
     "execution_count": 165,
     "metadata": {},
     "output_type": "execute_result"
    }
   ],
   "source": [
    "int(\"101\", 2) # binary to decimal"
   ]
  },
  {
   "cell_type": "code",
   "execution_count": 166,
   "metadata": {},
   "outputs": [
    {
     "data": {
      "text/plain": [
       "10"
      ]
     },
     "execution_count": 166,
     "metadata": {},
     "output_type": "execute_result"
    }
   ],
   "source": [
    "int('a', 16)# hexadecimal to decimal"
   ]
  },
  {
   "cell_type": "code",
   "execution_count": 168,
   "metadata": {},
   "outputs": [
    {
     "data": {
      "text/plain": [
       "9"
      ]
     },
     "execution_count": 168,
     "metadata": {},
     "output_type": "execute_result"
    }
   ],
   "source": [
    "int('11', 8) # octal to decimal"
   ]
  },
  {
   "cell_type": "code",
   "execution_count": 169,
   "metadata": {},
   "outputs": [
    {
     "data": {
      "text/plain": [
       "'0b10000'"
      ]
     },
     "execution_count": 169,
     "metadata": {},
     "output_type": "execute_result"
    }
   ],
   "source": [
    "bin(16) # decimal to binary"
   ]
  },
  {
   "cell_type": "code",
   "execution_count": 170,
   "metadata": {},
   "outputs": [
    {
     "data": {
      "text/plain": [
       "'0o20'"
      ]
     },
     "execution_count": 170,
     "metadata": {},
     "output_type": "execute_result"
    }
   ],
   "source": [
    "oct(16) # decimal to octal"
   ]
  },
  {
   "cell_type": "code",
   "execution_count": 173,
   "metadata": {},
   "outputs": [
    {
     "data": {
      "text/plain": [
       "'0xb'"
      ]
     },
     "execution_count": 173,
     "metadata": {},
     "output_type": "execute_result"
    }
   ],
   "source": [
    "hex(11) # decimal to hexadecimal"
   ]
  },
  {
   "cell_type": "code",
   "execution_count": 176,
   "metadata": {},
   "outputs": [
    {
     "data": {
      "text/plain": [
       "16"
      ]
     },
     "execution_count": 176,
     "metadata": {},
     "output_type": "execute_result"
    }
   ],
   "source": [
    "round(15.5)"
   ]
  },
  {
   "cell_type": "code",
   "execution_count": 182,
   "metadata": {},
   "outputs": [
    {
     "data": {
      "text/plain": [
       "16"
      ]
     },
     "execution_count": 182,
     "metadata": {},
     "output_type": "execute_result"
    }
   ],
   "source": [
    "round(16.5) # even --> floor, odd --> ceil "
   ]
  },
  {
   "cell_type": "code",
   "execution_count": 184,
   "metadata": {},
   "outputs": [
    {
     "data": {
      "text/plain": [
       "7"
      ]
     },
     "execution_count": 184,
     "metadata": {},
     "output_type": "execute_result"
    }
   ],
   "source": [
    "round(6.6)"
   ]
  },
  {
   "cell_type": "code",
   "execution_count": 185,
   "metadata": {},
   "outputs": [],
   "source": [
    "x = 5.6634334"
   ]
  },
  {
   "cell_type": "code",
   "execution_count": 186,
   "metadata": {},
   "outputs": [
    {
     "name": "stdout",
     "output_type": "stream",
     "text": [
      "5.6634334\n"
     ]
    }
   ],
   "source": [
    "print(x)"
   ]
  },
  {
   "cell_type": "code",
   "execution_count": 187,
   "metadata": {},
   "outputs": [
    {
     "data": {
      "text/plain": [
       "6"
      ]
     },
     "execution_count": 187,
     "metadata": {},
     "output_type": "execute_result"
    }
   ],
   "source": [
    "round(x)"
   ]
  },
  {
   "cell_type": "code",
   "execution_count": 188,
   "metadata": {},
   "outputs": [
    {
     "data": {
      "text/plain": [
       "5.66"
      ]
     },
     "execution_count": 188,
     "metadata": {},
     "output_type": "execute_result"
    }
   ],
   "source": [
    "round(x, 2)"
   ]
  },
  {
   "cell_type": "code",
   "execution_count": 190,
   "metadata": {},
   "outputs": [
    {
     "data": {
      "text/plain": [
       "5.1"
      ]
     },
     "execution_count": 190,
     "metadata": {},
     "output_type": "execute_result"
    }
   ],
   "source": [
    "round(5.1, 2)"
   ]
  },
  {
   "cell_type": "markdown",
   "metadata": {},
   "source": [
    "Numbers\n",
    "\n",
    "    int, float, complex, bin, oct, hex"
   ]
  },
  {
   "cell_type": "code",
   "execution_count": 191,
   "metadata": {},
   "outputs": [],
   "source": [
    "x = \"56\"\n",
    "y = \"5.6\"\n",
    "z = \"56+6.7j\"\n"
   ]
  },
  {
   "cell_type": "code",
   "execution_count": 192,
   "metadata": {},
   "outputs": [
    {
     "data": {
      "text/plain": [
       "56"
      ]
     },
     "execution_count": 192,
     "metadata": {},
     "output_type": "execute_result"
    }
   ],
   "source": [
    "int(x)"
   ]
  },
  {
   "cell_type": "code",
   "execution_count": 193,
   "metadata": {},
   "outputs": [
    {
     "data": {
      "text/plain": [
       "5.6"
      ]
     },
     "execution_count": 193,
     "metadata": {},
     "output_type": "execute_result"
    }
   ],
   "source": [
    "float(y)"
   ]
  },
  {
   "cell_type": "code",
   "execution_count": 194,
   "metadata": {},
   "outputs": [
    {
     "data": {
      "text/plain": [
       "(56+6.7j)"
      ]
     },
     "execution_count": 194,
     "metadata": {},
     "output_type": "execute_result"
    }
   ],
   "source": [
    "complex(z)"
   ]
  },
  {
   "cell_type": "code",
   "execution_count": 195,
   "metadata": {},
   "outputs": [
    {
     "data": {
      "text/plain": [
       "'0b100010'"
      ]
     },
     "execution_count": 195,
     "metadata": {},
     "output_type": "execute_result"
    }
   ],
   "source": [
    "bin(34)"
   ]
  },
  {
   "cell_type": "code",
   "execution_count": 196,
   "metadata": {},
   "outputs": [
    {
     "data": {
      "text/plain": [
       "'0o12'"
      ]
     },
     "execution_count": 196,
     "metadata": {},
     "output_type": "execute_result"
    }
   ],
   "source": [
    "oct(10)"
   ]
  },
  {
   "cell_type": "code",
   "execution_count": 197,
   "metadata": {},
   "outputs": [
    {
     "data": {
      "text/plain": [
       "'0x7b'"
      ]
     },
     "execution_count": 197,
     "metadata": {},
     "output_type": "execute_result"
    }
   ],
   "source": [
    "hex(123)"
   ]
  },
  {
   "cell_type": "code",
   "execution_count": 198,
   "metadata": {},
   "outputs": [],
   "source": []
  },
  {
   "cell_type": "code",
   "execution_count": null,
   "metadata": {},
   "outputs": [],
   "source": []
  },
  {
   "cell_type": "raw",
   "metadata": {},
   "source": [
    "o --> octal\n",
    "b --> binary\n",
    "d --> decimal\n",
    "x --> hexadecimal"
   ]
  },
  {
   "cell_type": "code",
   "execution_count": 206,
   "metadata": {},
   "outputs": [],
   "source": [
    "num = 11\n",
    "\n",
    "s = f\"\"\"\n",
    "integer = {num:d}\n",
    "\n",
    "binary = {num:b}\n",
    "\n",
    "octal = {num:o}\n",
    "\n",
    "hexadecimal = {num:x}\n",
    "\"\"\""
   ]
  },
  {
   "cell_type": "code",
   "execution_count": 207,
   "metadata": {},
   "outputs": [
    {
     "name": "stdout",
     "output_type": "stream",
     "text": [
      "\n",
      "integer = 11\n",
      "\n",
      "binary = 1011\n",
      "\n",
      "octal = 13\n",
      "\n",
      "hexadecimal = b\n",
      "\n"
     ]
    }
   ],
   "source": [
    "print(s)"
   ]
  },
  {
   "cell_type": "markdown",
   "metadata": {},
   "source": [
    "#### Strings"
   ]
  },
  {
   "cell_type": "code",
   "execution_count": 208,
   "metadata": {},
   "outputs": [
    {
     "data": {
      "text/plain": [
       "'45'"
      ]
     },
     "execution_count": 208,
     "metadata": {},
     "output_type": "execute_result"
    }
   ],
   "source": [
    "str(45)"
   ]
  },
  {
   "cell_type": "code",
   "execution_count": 209,
   "metadata": {},
   "outputs": [
    {
     "data": {
      "text/plain": [
       "'56.4'"
      ]
     },
     "execution_count": 209,
     "metadata": {},
     "output_type": "execute_result"
    }
   ],
   "source": [
    "str(56.4)"
   ]
  },
  {
   "cell_type": "code",
   "execution_count": 210,
   "metadata": {},
   "outputs": [
    {
     "data": {
      "text/plain": [
       "'[1, 2, 3, 4]'"
      ]
     },
     "execution_count": 210,
     "metadata": {},
     "output_type": "execute_result"
    }
   ],
   "source": [
    "str([1, 2, 3, 4])"
   ]
  },
  {
   "cell_type": "code",
   "execution_count": 211,
   "metadata": {},
   "outputs": [
    {
     "data": {
      "text/plain": [
       "\"{'name': 'sachin'}\""
      ]
     },
     "execution_count": 211,
     "metadata": {},
     "output_type": "execute_result"
    }
   ],
   "source": [
    "str({'name':'sachin'})"
   ]
  },
  {
   "cell_type": "markdown",
   "metadata": {},
   "source": [
    "**List**"
   ]
  },
  {
   "cell_type": "code",
   "execution_count": 213,
   "metadata": {},
   "outputs": [
    {
     "ename": "TypeError",
     "evalue": "'int' object is not iterable",
     "output_type": "error",
     "traceback": [
      "\u001b[1;31m---------------------------------------------------------------------------\u001b[0m",
      "\u001b[1;31mTypeError\u001b[0m                                 Traceback (most recent call last)",
      "\u001b[1;32m<ipython-input-213-88685c9a6205>\u001b[0m in \u001b[0;36m<module>\u001b[1;34m\u001b[0m\n\u001b[1;32m----> 1\u001b[1;33m \u001b[0mlist\u001b[0m\u001b[1;33m(\u001b[0m\u001b[1;36m4556\u001b[0m\u001b[1;33m)\u001b[0m \u001b[1;31m# numbers are not iterable\u001b[0m\u001b[1;33m\u001b[0m\u001b[1;33m\u001b[0m\u001b[0m\n\u001b[0m",
      "\u001b[1;31mTypeError\u001b[0m: 'int' object is not iterable"
     ]
    }
   ],
   "source": [
    "list(4556) # numbers are not iterable"
   ]
  },
  {
   "cell_type": "code",
   "execution_count": 214,
   "metadata": {},
   "outputs": [],
   "source": [
    "s = \"python\""
   ]
  },
  {
   "cell_type": "code",
   "execution_count": 215,
   "metadata": {},
   "outputs": [],
   "source": [
    "l = list(s)"
   ]
  },
  {
   "cell_type": "code",
   "execution_count": 216,
   "metadata": {},
   "outputs": [
    {
     "name": "stdout",
     "output_type": "stream",
     "text": [
      "['p', 'y', 't', 'h', 'o', 'n']\n"
     ]
    }
   ],
   "source": [
    "print(l)"
   ]
  },
  {
   "cell_type": "code",
   "execution_count": 217,
   "metadata": {},
   "outputs": [],
   "source": [
    "t = ('java', 'c', 'ruby')"
   ]
  },
  {
   "cell_type": "code",
   "execution_count": 218,
   "metadata": {},
   "outputs": [],
   "source": [
    "l = list(t)"
   ]
  },
  {
   "cell_type": "code",
   "execution_count": 219,
   "metadata": {},
   "outputs": [
    {
     "name": "stdout",
     "output_type": "stream",
     "text": [
      "['java', 'c', 'ruby']\n"
     ]
    }
   ],
   "source": [
    "print(l)"
   ]
  },
  {
   "cell_type": "code",
   "execution_count": 220,
   "metadata": {},
   "outputs": [],
   "source": [
    "d = { \n",
    "        'name': 'sachin', 'age': 24, 'country': 'India'\n",
    "}"
   ]
  },
  {
   "cell_type": "code",
   "execution_count": 222,
   "metadata": {},
   "outputs": [],
   "source": [
    "l = list(d)"
   ]
  },
  {
   "cell_type": "code",
   "execution_count": 223,
   "metadata": {},
   "outputs": [
    {
     "name": "stdout",
     "output_type": "stream",
     "text": [
      "['name', 'age', 'country']\n"
     ]
    }
   ],
   "source": [
    "print(l)"
   ]
  },
  {
   "cell_type": "code",
   "execution_count": 224,
   "metadata": {},
   "outputs": [
    {
     "name": "stdout",
     "output_type": "stream",
     "text": [
      "['name', 'age', 'country']\n"
     ]
    }
   ],
   "source": [
    "l = list(d.keys())\n",
    "print(l)"
   ]
  },
  {
   "cell_type": "code",
   "execution_count": 225,
   "metadata": {},
   "outputs": [
    {
     "name": "stdout",
     "output_type": "stream",
     "text": [
      "['sachin', 24, 'India']\n"
     ]
    }
   ],
   "source": [
    "l = list(d.values())\n",
    "print(l)"
   ]
  },
  {
   "cell_type": "code",
   "execution_count": 226,
   "metadata": {},
   "outputs": [
    {
     "name": "stdout",
     "output_type": "stream",
     "text": [
      "[('name', 'sachin'), ('age', 24), ('country', 'India')]\n"
     ]
    }
   ],
   "source": [
    "l = list(d.items())\n",
    "print(l)"
   ]
  },
  {
   "cell_type": "code",
   "execution_count": 227,
   "metadata": {},
   "outputs": [],
   "source": [
    "s  = { 1, 2, 3, 4, }"
   ]
  },
  {
   "cell_type": "code",
   "execution_count": 228,
   "metadata": {},
   "outputs": [
    {
     "name": "stdout",
     "output_type": "stream",
     "text": [
      "[1, 2, 3, 4]\n"
     ]
    }
   ],
   "source": [
    "l = list(s)\n",
    "print(l)"
   ]
  },
  {
   "cell_type": "code",
   "execution_count": 233,
   "metadata": {},
   "outputs": [],
   "source": [
    "l = [ 1, 1, 2, 3, 1,2 ,3, 1, 2,3 ,4, 1,2, 3, 4, 5,6, 7, 1, 2,3, 4, 5,6, 7, 2, 2, 3,4 ]"
   ]
  },
  {
   "cell_type": "code",
   "execution_count": 235,
   "metadata": {},
   "outputs": [
    {
     "name": "stdout",
     "output_type": "stream",
     "text": [
      "{1, 2, 3, 4, 5, 6, 7}\n"
     ]
    }
   ],
   "source": [
    "s = set(l)\n",
    "print(s)"
   ]
  },
  {
   "cell_type": "code",
   "execution_count": 236,
   "metadata": {},
   "outputs": [
    {
     "name": "stdout",
     "output_type": "stream",
     "text": [
      "[1, 2, 3, 4, 5, 6, 7]\n"
     ]
    }
   ],
   "source": [
    "l = list(s)\n",
    "print(l)"
   ]
  },
  {
   "cell_type": "code",
   "execution_count": 237,
   "metadata": {},
   "outputs": [
    {
     "data": {
      "text/plain": [
       "{'age', 'country', 'name'}"
      ]
     },
     "execution_count": 237,
     "metadata": {},
     "output_type": "execute_result"
    }
   ],
   "source": [
    "set(d)"
   ]
  },
  {
   "cell_type": "code",
   "execution_count": 238,
   "metadata": {},
   "outputs": [
    {
     "data": {
      "text/plain": [
       "{'age', 'country', 'name'}"
      ]
     },
     "execution_count": 238,
     "metadata": {},
     "output_type": "execute_result"
    }
   ],
   "source": [
    "set(d.keys())"
   ]
  },
  {
   "cell_type": "code",
   "execution_count": 239,
   "metadata": {},
   "outputs": [
    {
     "data": {
      "text/plain": [
       "{24, 'India', 'sachin'}"
      ]
     },
     "execution_count": 239,
     "metadata": {},
     "output_type": "execute_result"
    }
   ],
   "source": [
    "set(d.values())"
   ]
  },
  {
   "cell_type": "code",
   "execution_count": 240,
   "metadata": {},
   "outputs": [
    {
     "data": {
      "text/plain": [
       "{('age', 24), ('country', 'India'), ('name', 'sachin')}"
      ]
     },
     "execution_count": 240,
     "metadata": {},
     "output_type": "execute_result"
    }
   ],
   "source": [
    "set(d.items())"
   ]
  },
  {
   "cell_type": "code",
   "execution_count": 241,
   "metadata": {},
   "outputs": [
    {
     "data": {
      "text/plain": [
       "{'h', 'n', 'o', 'p', 't', 'y'}"
      ]
     },
     "execution_count": 241,
     "metadata": {},
     "output_type": "execute_result"
    }
   ],
   "source": [
    "set('python') # 3.6"
   ]
  },
  {
   "cell_type": "code",
   "execution_count": 243,
   "metadata": {},
   "outputs": [
    {
     "name": "stdout",
     "output_type": "stream",
     "text": [
      "{'v', 'l', 's', 'n', 'i', 't', 'f', 'r', 'h', 'e', 'u', 'a', 'w', 'd', ' ', 'o', 'y', 'c'}\n"
     ]
    }
   ],
   "source": [
    "print(set('hello world how are you let the conversion finish'))"
   ]
  },
  {
   "cell_type": "code",
   "execution_count": 244,
   "metadata": {},
   "outputs": [
    {
     "data": {
      "text/plain": [
       "['p', 'y', 't', 'h', 'o', 'n']"
      ]
     },
     "execution_count": 244,
     "metadata": {},
     "output_type": "execute_result"
    }
   ],
   "source": [
    "list('python') # iterations"
   ]
  },
  {
   "cell_type": "code",
   "execution_count": 245,
   "metadata": {},
   "outputs": [
    {
     "name": "stdout",
     "output_type": "stream",
     "text": [
      "Help on built-in function print in module builtins:\n",
      "\n",
      "print(...)\n",
      "    print(value, ..., sep=' ', end='\\n', file=sys.stdout, flush=False)\n",
      "    \n",
      "    Prints the values to a stream, or to sys.stdout by default.\n",
      "    Optional keyword arguments:\n",
      "    file:  a file-like object (stream); defaults to the current sys.stdout.\n",
      "    sep:   string inserted between values, default a space.\n",
      "    end:   string appended after the last value, default a newline.\n",
      "    flush: whether to forcibly flush the stream.\n",
      "\n"
     ]
    }
   ],
   "source": [
    "help(print)"
   ]
  },
  {
   "cell_type": "code",
   "execution_count": 247,
   "metadata": {},
   "outputs": [
    {
     "name": "stdout",
     "output_type": "stream",
     "text": [
      "Hello world how are you\n",
      "this is next line\n"
     ]
    }
   ],
   "source": [
    "print(\"Hello\", \"world\", \"how\", \"are\", \"you\")\n",
    "print(\"this\", \"is\", \"next\", \"line\")"
   ]
  },
  {
   "cell_type": "code",
   "execution_count": 249,
   "metadata": {},
   "outputs": [
    {
     "name": "stdout",
     "output_type": "stream",
     "text": [
      "hello, world, how, are, you\n"
     ]
    }
   ],
   "source": [
    "print(\"hello\", \"world\", \"how\", 'are', 'you', sep=', ')"
   ]
  },
  {
   "cell_type": "code",
   "execution_count": 250,
   "metadata": {},
   "outputs": [
    {
     "name": "stdout",
     "output_type": "stream",
     "text": [
      "hello\tworld\thow\tare\tyou\n"
     ]
    }
   ],
   "source": [
    "print(\"hello\", \"world\", \"how\", 'are', 'you', sep='\\t')"
   ]
  },
  {
   "cell_type": "code",
   "execution_count": 251,
   "metadata": {},
   "outputs": [
    {
     "name": "stdout",
     "output_type": "stream",
     "text": [
      "hello\n",
      "world\n",
      "how\n",
      "are\n",
      "you\n"
     ]
    }
   ],
   "source": [
    "print(\"hello\", \"world\", \"how\", 'are', 'you', sep='\\n')"
   ]
  },
  {
   "cell_type": "code",
   "execution_count": 252,
   "metadata": {},
   "outputs": [
    {
     "name": "stdout",
     "output_type": "stream",
     "text": [
      "hello\n",
      "world\n"
     ]
    }
   ],
   "source": [
    "print(\"hello\") # end='\\n'\n",
    "print('world')"
   ]
  },
  {
   "cell_type": "code",
   "execution_count": 253,
   "metadata": {},
   "outputs": [
    {
     "name": "stdout",
     "output_type": "stream",
     "text": [
      "hello world\n"
     ]
    }
   ],
   "source": [
    "print(\"hello\", end=' ') # end='\\n'\n",
    "print('world')"
   ]
  },
  {
   "cell_type": "code",
   "execution_count": 257,
   "metadata": {},
   "outputs": [
    {
     "name": "stdout",
     "output_type": "stream",
     "text": [
      "p y t h o n\n"
     ]
    }
   ],
   "source": [
    "print('p', 'y', 't','h', 'o', 'n') "
   ]
  },
  {
   "cell_type": "code",
   "execution_count": 258,
   "metadata": {},
   "outputs": [
    {
     "name": "stdout",
     "output_type": "stream",
     "text": [
      "python\n"
     ]
    }
   ],
   "source": [
    "print('python')"
   ]
  },
  {
   "cell_type": "code",
   "execution_count": 259,
   "metadata": {},
   "outputs": [
    {
     "name": "stdout",
     "output_type": "stream",
     "text": [
      "p y t h o n\n"
     ]
    }
   ],
   "source": [
    "print(*'python') # *iteration, *tuple unpacking"
   ]
  },
  {
   "cell_type": "code",
   "execution_count": 260,
   "metadata": {},
   "outputs": [
    {
     "name": "stdout",
     "output_type": "stream",
     "text": [
      "p\n",
      "y\n",
      "t\n",
      "h\n",
      "o\n",
      "n\n"
     ]
    }
   ],
   "source": [
    "print(*'python', sep='\\n')"
   ]
  },
  {
   "cell_type": "code",
   "execution_count": 261,
   "metadata": {},
   "outputs": [
    {
     "ename": "TypeError",
     "evalue": "print() argument after * must be an iterable, not int",
     "output_type": "error",
     "traceback": [
      "\u001b[1;31m---------------------------------------------------------------------------\u001b[0m",
      "\u001b[1;31mTypeError\u001b[0m                                 Traceback (most recent call last)",
      "\u001b[1;32m<ipython-input-261-6fde31235bb6>\u001b[0m in \u001b[0;36m<module>\u001b[1;34m\u001b[0m\n\u001b[1;32m----> 1\u001b[1;33m \u001b[0mprint\u001b[0m\u001b[1;33m(\u001b[0m\u001b[1;33m*\u001b[0m\u001b[1;36m1234\u001b[0m\u001b[1;33m)\u001b[0m\u001b[1;33m\u001b[0m\u001b[1;33m\u001b[0m\u001b[0m\n\u001b[0m",
      "\u001b[1;31mTypeError\u001b[0m: print() argument after * must be an iterable, not int"
     ]
    }
   ],
   "source": [
    "print(*1234) # numbers are not iterables"
   ]
  },
  {
   "cell_type": "code",
   "execution_count": 265,
   "metadata": {},
   "outputs": [
    {
     "name": "stdout",
     "output_type": "stream",
     "text": [
      "p\n",
      "y\n",
      "t\n",
      "h\n",
      "o\n",
      "n\n"
     ]
    }
   ],
   "source": [
    "print(*'python', sep='\\n')"
   ]
  },
  {
   "cell_type": "code",
   "execution_count": 264,
   "metadata": {},
   "outputs": [
    {
     "name": "stdout",
     "output_type": "stream",
     "text": [
      "p\n",
      "y\n",
      "t\n",
      "h\n",
      "o\n",
      "n\n"
     ]
    }
   ],
   "source": [
    "print('p', 'y', 't', 'h', 'o', 'n', sep='\\n')"
   ]
  },
  {
   "cell_type": "code",
   "execution_count": 266,
   "metadata": {},
   "outputs": [],
   "source": [
    "l = [ 'java', 'c', 'c++', 'ruby', 'perl']"
   ]
  },
  {
   "cell_type": "code",
   "execution_count": 267,
   "metadata": {},
   "outputs": [
    {
     "name": "stdout",
     "output_type": "stream",
     "text": [
      "['java', 'c', 'c++', 'ruby', 'perl']\n"
     ]
    }
   ],
   "source": [
    "print(l)"
   ]
  },
  {
   "cell_type": "code",
   "execution_count": 268,
   "metadata": {},
   "outputs": [
    {
     "name": "stdout",
     "output_type": "stream",
     "text": [
      "java c c++ ruby perl\n"
     ]
    }
   ],
   "source": [
    "print('java', 'c', 'c++', 'ruby', 'perl')"
   ]
  },
  {
   "cell_type": "code",
   "execution_count": 269,
   "metadata": {},
   "outputs": [
    {
     "name": "stdout",
     "output_type": "stream",
     "text": [
      "java c c++ ruby perl\n"
     ]
    }
   ],
   "source": [
    "print(*l) # ? "
   ]
  },
  {
   "cell_type": "code",
   "execution_count": 270,
   "metadata": {},
   "outputs": [
    {
     "name": "stdout",
     "output_type": "stream",
     "text": [
      "java\tc\tc++\truby\tperl\n"
     ]
    }
   ],
   "source": [
    "print(*l, sep='\\t') # ? "
   ]
  },
  {
   "cell_type": "code",
   "execution_count": 271,
   "metadata": {},
   "outputs": [
    {
     "name": "stdout",
     "output_type": "stream",
     "text": [
      "java\n",
      "c\n",
      "c++\n",
      "ruby\n",
      "perl\n"
     ]
    }
   ],
   "source": [
    "print(*l, sep='\\n')"
   ]
  },
  {
   "cell_type": "code",
   "execution_count": 272,
   "metadata": {},
   "outputs": [
    {
     "name": "stdout",
     "output_type": "stream",
     "text": [
      "java, c, c++, ruby, perl\n"
     ]
    }
   ],
   "source": [
    "print(*l, sep=', ')"
   ]
  },
  {
   "cell_type": "code",
   "execution_count": 273,
   "metadata": {},
   "outputs": [],
   "source": [
    "d = { 'name': 'sachin', 'age': 24, 'country': 'India'}"
   ]
  },
  {
   "cell_type": "code",
   "execution_count": 274,
   "metadata": {},
   "outputs": [
    {
     "name": "stdout",
     "output_type": "stream",
     "text": [
      "name\n",
      "age\n",
      "country\n"
     ]
    }
   ],
   "source": [
    "print(*d, sep='\\n')"
   ]
  },
  {
   "cell_type": "code",
   "execution_count": 275,
   "metadata": {},
   "outputs": [
    {
     "name": "stdout",
     "output_type": "stream",
     "text": [
      "sachin\n",
      "24\n",
      "India\n"
     ]
    }
   ],
   "source": [
    "print(*d.values(), sep='\\n')"
   ]
  },
  {
   "cell_type": "code",
   "execution_count": 276,
   "metadata": {},
   "outputs": [
    {
     "name": "stdout",
     "output_type": "stream",
     "text": [
      "('name', 'sachin')\n",
      "('age', 24)\n",
      "('country', 'India')\n"
     ]
    }
   ],
   "source": [
    "print(*d.items(), sep='\\n')"
   ]
  },
  {
   "cell_type": "markdown",
   "metadata": {},
   "source": [
    "**Dict**"
   ]
  },
  {
   "cell_type": "markdown",
   "metadata": {},
   "source": [
    "    only key values paris iterables can be converted into dict"
   ]
  },
  {
   "cell_type": "code",
   "execution_count": 277,
   "metadata": {},
   "outputs": [],
   "source": [
    "l = [ ('name', 'sachin'), ('language', ['hindi', 'english']), ('country', 'india'),]"
   ]
  },
  {
   "cell_type": "code",
   "execution_count": 278,
   "metadata": {},
   "outputs": [],
   "source": [
    "d = dict(l)"
   ]
  },
  {
   "cell_type": "code",
   "execution_count": 279,
   "metadata": {},
   "outputs": [
    {
     "name": "stdout",
     "output_type": "stream",
     "text": [
      "{'name': 'sachin', 'language': ['hindi', 'english'], 'country': 'india'}\n"
     ]
    }
   ],
   "source": [
    "print(d)"
   ]
  },
  {
   "cell_type": "markdown",
   "metadata": {},
   "source": [
    "**Type Conversion Finish**\n",
    "\n",
    "**Operators**"
   ]
  },
  {
   "cell_type": "markdown",
   "metadata": {},
   "source": [
    "### Operators"
   ]
  },
  {
   "cell_type": "markdown",
   "metadata": {},
   "source": [
    "* **Arithmetic Operators**\n",
    "\n",
    "        + plus\n",
    "        - minus\n",
    "        * multiply\n",
    "        / true division\n",
    "        // floor division\n",
    "        % moduls\n",
    "        ** exponent / power\n",
    "        \n",
    "* **Comparision Operators**\n",
    "        \n",
    "        <   less than\n",
    "        >   greater than\n",
    "        <=  less than or equals to\n",
    "        >=  greater than or equals to\n",
    "        ==  equals to equals to\n",
    "        !=  not equals to\n",
    "        \n",
    "* **Logical Operators**\n",
    "        \n",
    "        and\n",
    "        or\n",
    "        not\n",
    "        \n",
    "* **Memebership Operator**\n",
    "    \n",
    "        in\n",
    "        not in\n",
    "        \n",
    "* **Identity Operators**\n",
    "\n",
    "        is \n",
    "        is not\n",
    "        \n",
    "* **Bitwise Operators**\n",
    "    \n",
    "        |  bitwise or\n",
    "        &  bitwise and \n",
    "        ^  bitwise xor\n",
    "        ~  bitwise negation\n",
    "        << left shift\n",
    "        >> rigth shift\n",
    "        \n",
    "* **Assignment Operators**\n",
    "\n",
    "        =\n",
    "        +=, -=, *=, /=, %=, //=\n",
    "        \n",
    "* **Walurs Operators**\n",
    "    \n",
    "        :="
   ]
  },
  {
   "cell_type": "markdown",
   "metadata": {},
   "source": [
    "### Arithmetic"
   ]
  },
  {
   "cell_type": "code",
   "execution_count": 280,
   "metadata": {},
   "outputs": [
    {
     "data": {
      "text/plain": [
       "11"
      ]
     },
     "execution_count": 280,
     "metadata": {},
     "output_type": "execute_result"
    }
   ],
   "source": [
    "5 + 6"
   ]
  },
  {
   "cell_type": "code",
   "execution_count": 281,
   "metadata": {},
   "outputs": [
    {
     "data": {
      "text/plain": [
       "-1"
      ]
     },
     "execution_count": 281,
     "metadata": {},
     "output_type": "execute_result"
    }
   ],
   "source": [
    "10 - 11"
   ]
  },
  {
   "cell_type": "code",
   "execution_count": 282,
   "metadata": {},
   "outputs": [
    {
     "data": {
      "text/plain": [
       "30"
      ]
     },
     "execution_count": 282,
     "metadata": {},
     "output_type": "execute_result"
    }
   ],
   "source": [
    "5 * 6 "
   ]
  },
  {
   "cell_type": "code",
   "execution_count": 284,
   "metadata": {},
   "outputs": [
    {
     "data": {
      "text/plain": [
       "0.8333333333333334"
      ]
     },
     "execution_count": 284,
     "metadata": {},
     "output_type": "execute_result"
    }
   ],
   "source": [
    "5 / 6 # true division / abs division"
   ]
  },
  {
   "cell_type": "code",
   "execution_count": 292,
   "metadata": {},
   "outputs": [
    {
     "data": {
      "text/plain": [
       "0"
      ]
     },
     "execution_count": 292,
     "metadata": {},
     "output_type": "execute_result"
    }
   ],
   "source": [
    "5 // 6 # floor division"
   ]
  },
  {
   "cell_type": "code",
   "execution_count": 285,
   "metadata": {},
   "outputs": [
    {
     "data": {
      "text/plain": [
       "3.142857142857143"
      ]
     },
     "execution_count": 285,
     "metadata": {},
     "output_type": "execute_result"
    }
   ],
   "source": [
    "22 / 7"
   ]
  },
  {
   "cell_type": "code",
   "execution_count": 286,
   "metadata": {},
   "outputs": [
    {
     "data": {
      "text/plain": [
       "3"
      ]
     },
     "execution_count": 286,
     "metadata": {},
     "output_type": "execute_result"
    }
   ],
   "source": [
    "22 // 7 # floor division"
   ]
  },
  {
   "cell_type": "markdown",
   "metadata": {},
   "source": [
    "    floor   5.6 --> lower bound --> 5\n",
    "    round   5.6 --> round  ---> 6\n",
    "    ceil    5.1 ---> higher bound --> 6"
   ]
  },
  {
   "cell_type": "code",
   "execution_count": 287,
   "metadata": {},
   "outputs": [],
   "source": [
    "from math import floor, ceil"
   ]
  },
  {
   "cell_type": "code",
   "execution_count": 288,
   "metadata": {},
   "outputs": [
    {
     "data": {
      "text/plain": [
       "5"
      ]
     },
     "execution_count": 288,
     "metadata": {},
     "output_type": "execute_result"
    }
   ],
   "source": [
    "floor(5.9)"
   ]
  },
  {
   "cell_type": "code",
   "execution_count": 289,
   "metadata": {},
   "outputs": [
    {
     "data": {
      "text/plain": [
       "6"
      ]
     },
     "execution_count": 289,
     "metadata": {},
     "output_type": "execute_result"
    }
   ],
   "source": [
    "round(5.6)"
   ]
  },
  {
   "cell_type": "code",
   "execution_count": 290,
   "metadata": {},
   "outputs": [
    {
     "data": {
      "text/plain": [
       "5"
      ]
     },
     "execution_count": 290,
     "metadata": {},
     "output_type": "execute_result"
    }
   ],
   "source": [
    "round(5.4)"
   ]
  },
  {
   "cell_type": "code",
   "execution_count": 291,
   "metadata": {},
   "outputs": [
    {
     "data": {
      "text/plain": [
       "6"
      ]
     },
     "execution_count": 291,
     "metadata": {},
     "output_type": "execute_result"
    }
   ],
   "source": [
    "ceil(5.1)"
   ]
  },
  {
   "cell_type": "code",
   "execution_count": 293,
   "metadata": {},
   "outputs": [
    {
     "data": {
      "text/plain": [
       "1"
      ]
     },
     "execution_count": 293,
     "metadata": {},
     "output_type": "execute_result"
    }
   ],
   "source": [
    "13 % 2"
   ]
  },
  {
   "cell_type": "code",
   "execution_count": 294,
   "metadata": {},
   "outputs": [
    {
     "data": {
      "text/plain": [
       "5"
      ]
     },
     "execution_count": 294,
     "metadata": {},
     "output_type": "execute_result"
    }
   ],
   "source": [
    "14 % 9 # remainder value "
   ]
  },
  {
   "cell_type": "code",
   "execution_count": 295,
   "metadata": {},
   "outputs": [
    {
     "data": {
      "text/plain": [
       "8"
      ]
     },
     "execution_count": 295,
     "metadata": {},
     "output_type": "execute_result"
    }
   ],
   "source": [
    "2 ** 3"
   ]
  },
  {
   "cell_type": "code",
   "execution_count": 296,
   "metadata": {},
   "outputs": [
    {
     "data": {
      "text/plain": [
       "25"
      ]
     },
     "execution_count": 296,
     "metadata": {},
     "output_type": "execute_result"
    }
   ],
   "source": [
    "5 ** 2"
   ]
  },
  {
   "cell_type": "code",
   "execution_count": 297,
   "metadata": {},
   "outputs": [
    {
     "data": {
      "text/plain": [
       "216"
      ]
     },
     "execution_count": 297,
     "metadata": {},
     "output_type": "execute_result"
    }
   ],
   "source": [
    "6 ** 3"
   ]
  },
  {
   "cell_type": "code",
   "execution_count": 299,
   "metadata": {},
   "outputs": [],
   "source": [
    "x = 9999999 ** 99999"
   ]
  },
  {
   "cell_type": "code",
   "execution_count": 300,
   "metadata": {},
   "outputs": [
    {
     "name": "stdout",
     "output_type": "stream",
     "text": [
      "990049932259136329735047569499641998226637399862950018602137042425318349911128563133052829277564757430010816286647608816685693874786178630197943657474264028607337972864383695413890843804649712626248368634329753736840203528190457123589646062636095781409366264360248555664217025696404976614500304223519456688823877384590812233003643744508251781683545842088267737230266280910845810364016023641106561641778423972993289811798232119659212834084328888818920420843683051017524419209814202762108484372711264344805856464267100030007569476045415023890453937086265839826621242962079583476497932308183048849966505438087546366268700529536362618337575904574076669069430068698970191259939129881547585515260687651496376382844209158897220596346815847342592891690508847138316629747117427308387639604502498629780198567210037352067344581475469744519473941750046245309882850203372184765599848926703557632888286847879004444057033829106778970434081318160701329129435301160201292158945931357522127928033639316216013890471877912316922383958190099549916014724579306654655438816019297133240034829282825301232745005560954040275809639796561288127339466097674501642241483275204413798822830294904658485570355965534163456548216429909830041382237805818424760132336008435597371318769463053833418213254559813674881846914697383026707207225812380668244765643046144410316558147460833190013046740222597628490602792324496949230738651300789150135375816345760579841642322471763181412311047158720275202088062118224715846619027029272562097933274084775043505636403023161337618701792848372232282257110357306773319620520088405007067526810165517635186109658729212872604905735386969956106563942839906668651225868701177526271635666057507665395760253980521886374310302962503297161239996416832609959051907988385653130767424268173354702948076637063594347197325549310188365210009084649053683364288965732990324958438564723852788984484984029833414770770800368942290292097173729348935728792844091150741458397364473538261800758796395270537963508946667996923378113881040593874084927273526808649836968639378113927973293731245662466881365763173850414544033721736786286255163933697974095471641898176475385117365202282634147244537902196810814445756907603152880443267253866325505219675514971114637521323094073356377162644528970991514212077694418695170268251336624600662018464255973530333684256685750890156089286180377886542262462101638770222410693250291373386022828524903943149477622345092643519256357547032628035494590775249063119013659030603813347051214592058113699715161687383697169111888157673455060995873228050616053479427596857953618117755506457686873303232952888353575616234968368190747352807959900630524975588732360420503555544060427302409479723920099471994731071656154829198011124890801141121030540660163614567006621838531774083338505553874036448455221193346374850239098321863710806247901480612262955738583388457555181010011873137258532869638069994863136732513366733803418870898308473290723289785750130600135854910184234493995048628263729987279175595485589836387669953217692113624921924618090936804540876295865851972160964433713192288306754326679191743409358139342213482258980297949177319856997393586280106177569875921500294485792875161823228563113192328317747534793687251720686224847204486465338958305305117618865848041051764230488844158452194586904314005276237653490605986124127545335482643926942942257410611025655307731276580983283907718743016245531308426057637135809948430386612988420563929491436881526648020431170542487645616124470648613136532638997709779733773326671006993888804203170355902868481694144683041229334650805554056132534777743858659661454853057010042704478306962814825509315380419793401832906463959504943806209196416797097803566299857184192905266454016066639226555851546363849898560161587777871387900792439765284441888924354521555392523996987144303633725761934081123512258584996835079465325147390425775620694646945891589889974896549549113027578768197476146508929924226077941631432828283073248434678126346041278898483539474685652135947161551826766055190264578501010461753532614280484421895373595522114239897903704479571540414458133469685352615401265984099319456544742526631950924889427470788213361830428273131279159924270403576895126848876603207575204054923378813777078223464240308767865143124463521648612583805803179234552142047079336303851493995296646707548365832508745402167312631619795978189959204855721026081517093956905463869687449052548074045641715173984689511174795846079577021855104455383577342228781556703273074879770517347828922577838477863467437992590386032159245325375758889634256989468648880403843175311684077843214198585009955814574403923204080476414736128486525630624731368680327330679897210477706257210153098082857579162588792183738855925199298093030328281252383318964126851181228095048115231580701579131390866075430179354243297977088830562154197189033707456364902624390645481764981054174460446786564805810254184648016796419157052147532298020379498006316716910833103196753957666492928547907298663104754365142659734347557074525535047418113399347361502161333850080084082208491299931721527210685981349447091696237526375158742775338758361370346617688619081826444430539943075374819607684981329052182853541521903574151769149336851424327961449365548398388040710986514127532223771697286435784650983893643140679874089978902907174089185847015942223562156440835862437529497541355349233881443737146077092269827235847757526297615295970659482833142813028131851725115782744696298061654591439318852012513255693604923070587401722575067374043586747781912866543856364088372685806502862926501564451899561976508858809151295406833965421902661698861932143124522944155982630452810947578664525849944967808627866333572357455407379148210044197482537108768279368783909142513905120973850773132108805873508530469685050948306487262320598470421963020521925395456773953794476612533336811912231029515390026782053932196409269624372808741987401757424722429344931384025841801155444179268523435087639231636410242008598644105024459943366690961554360683529510134195458514095068650273337479882473016636002034420064969063310914116017457000043590251075027946342572996734495721115032716140896155889912976184309752189627469319645922709402531461229105258691732562230854497043225928923280356292352836913080374662201842873678791862154646853963958075766576285730912233047047540351338459180398982470991268608862745429767152551864833200105694578421134608392190865361976539198310321517508687590142816032975901204125404221604175926014567302549062915656974107087303500941273430803628910047856154702533154935431341798772380366523647133300609654878487536471830029781063851541421436031725102459959273187533242355015282037874331958319721662253840073169208625275190188066874725613741919777809817361901123884674689784688295281269630312272258835186217580612939587236251646277676792990517315618980766812550686028932106786992074727471383533258772261966614748290148996313032335840732994314299775132599786378298436852014881311510416493405074156010927077154085306977959040753877647106135969000672902120685860438402985124181203386259551487733181494109899993449915520883034083482982683010275796700635663694036751823728549964998453667814417775524986653442887596539861599395856222722275688450074184531485502996225671983232710437303397964133825071115585715977881199525474892720041070329539875751687176559411994370301710184007201975823682701993017364797359205053724853903568375882590290127874337403854140534351301053072374669729927923989044545010412679857498771059466700130871555435004244230245451701685456785963829393076221295521043913070852652275586740328711726551351553632940671709930312321155839367299836394261090278928574757544444417627262597899393100784145731328950911366887643860958749287252300479408942389887901307987305461962245239889085638092767633585401447274415281027486658010177086233632005808776490780992776739009304486216993886334909897122831183265906860694420184918314273892116714414819372578178764216961049667948486082569735638865602972561002754355998884034741852239817172907408715301703624170548900780326045288485271821112764834243779145126248660386936954571827988381421973125883997087314705455071425773788085003204440766023883493567361378751601308887262698702435995725343215947812043487404920066056526421583255262579854728385642232276315911198962042944960634714186304587049759484135129379298846780773182992248517815101552351889558651804123429760331500290714387260580291011642458445857328267557202292659448169721552711928825243017716536559094967587844363946469824231916913253880922925627746709214289120134179510784676608590068363828706749128745881464956331998777482503136590096588952715768692087770441558896128828018141727945676935689773711162469388291641694009058376944558327869740712504551871387386871913050638405425915966137734928741074278059351522004831669907653996149211340642164286874000407539878449830995954135040953451875192005367046428234411004585107348897212548239338580035786661238769050443076582919266322816158539294810590836234261231346475517379776372307316895411304319718913601763124424024411642543147818169631587645032265183792241940873902108756325885904642708503645787438635895657971364489463896548137061495330535639139482598710839634846919194932236712139236468643007716871644574741009345050676850685511105385061626716278141319001085407100043585813791276163301233032307786040664670594491192570606355052167263366890383232078393000199339337303953820651119171586157334614917509966979774105174375043786745618022013777904458775123911453538885125045834362790733639906131389561619976414437850768666364027514844031687946066178006365326690959970239712347596348795929771658833810813073003382009181121594388812218782607110136765222531835515015664983973690360521640466064114409962776671504229816038111938107431820493674191870725824454191950522365203636020543900613559657087988261505447676468765009828361586016377473613826299889365339062523036163011195534738890827828956279932025708166222782356579453244393159077347905499120250268388880824233179133483549622217118418277117588110067906279703150236524736893243727318171121569547281499256323667660631133708790248473450716986654405911124067875630674231240652282444424771498134943059559446404421703220448073406581620073460386118567716479745468416325087202383998658677014801462038778533500663340728985843106683166297737114632189050660809452846702648783206333106347662339340405236723205871260474224927896802589782527942229814065860143699538095632373324632118912423799693707378884514186403503955677293093653286951230498342954589033117191785621094392655132233844511248854714063973854290833614744526598824286668447613943882647030909720898093834717524810007078966313098764064911570108488018947888036196592666374151036704755245417599937994433327175676232097948319808207658426880670303929883045892210882229137107826610741548094036092263294748113921358945875748188236805368560394071428636517301043625032165776132838640542337069003401817540848151442940182963574441316123265890797773047873069382436514393860454345688859072028601098316920688716553063844115128396080013517842407504761971976922450001380761799395210041333753202047411537347625036717733076069145420732940324387168056309293868775082912627094613951395558735242835832683038658870751575054924892556251126365033171333843024002460793412370523476298246443765475902405883843489086978674617739175752498120973758385664070348716251236986136024870054312364529021244973945732798425974332386762973441128403526552349177118625259702074553685029921939898705142566731379093033438321443153361624439946609952628018596037423559129785324380381149115783719800635301020639408729805693508411097592726877032089837706487036976933422704075459980834480814154063177262442382239899739032376182002889008165232889668165827314875609231536336240317789679700559452700228559286145570467822081108772716434534003131949271123879971385865868267806141411655166500407749652099302030151448048753146046198283976306436222682192625286556350234835655399110946742149627605997042811702011712738215803551154605255253109471793036500244608754860285798394664334736021167700254609786536257338977457591369644299798681153030768755081664696436533630325645987586330949199366029194973516489832950672776691575866242845950388194300784205665161021077599882312261510698860373564431922839789974015674107690277265509514832593025666177194391337174567004670580519177742930136408120261359845768588400667821530479951430200202018338081015367651065167796213493324231141485362354039225292104125909847591890674862791670295316690200154435094305888533845775188053914277063927136639407563298901962404056427326772531428075356338824674075359097879511730191008142814031192317286113409397801744757886668551628085790492808356163721807407434977638551947326091017581874537400534945515515922076778549764656755094540832594924372380547724085587864569434356108788014031341866899375900532587280546080631609123635633017089401724523792050575718586158143263530639964826717252967930971839229827882213409616198323776546517653766644666431749586667720470422145754062015473356125414035175869853584772418858400206293327919283973686645356144304458780670204326714889262682747008404192271299721745749679063766483282401500103133208768317682717637901563327931160486323165262104370791390669373962569131854403139717044445380671104824329998364353270421991223091787376439493168484677733374270991143747073866348759064260613523984153278252774797892829917032743594464534339624615782102354613191714055420392603377230311363429270640678381779177679444396451503281343334856788708150962643851330495907339115984543899940418774998516022579337913596945046634815921716790190805287086420256695947401246503569023753239855555693520145973967634207606098610987400974587237077480116910450620354007643450533943183333856273494500123128834869673645933315811888270404122998655062889103831719185434055674709205342343769163517465578080081135135400179169466960400652196924696102113315180860244089309091120357161559869934142334273342887761480002098837385805918243850778582204443327317900368676886669814352710075806966968283884273293147722900253205658629020226227273872208890603353869906048170342417263281643695084089656717723497742430587923478274692123648447622455159154288981875408134879685358464411785513087867331741362998643806446540757256495732849323511225660748926685995979039486009098229758767065141884586196602745662932350903805773487406932838256746999500164530247206033176239681993005221080634056373388373374009389139442854554031123196223590831738741399616450971881576809079006868796350613138478074537327714958017628756665229157298933452835038113119970845283795502408519701494554858389561649927808369258709290802935359395174762012816688780359064668602446105468677181957749475193151328068268160267391559461406569377746087687136177438335767931562997394895084776235957067286876484274595873625711112655068843733094105981006437516032503388679770766548559445640299017689589016675578385414398772461000177297500159918494562409172321356088783387136627094318521451378441674393053113531845350563489629305693806243181329207015510926259769440633483103452804477425607647631694207815110722624132024343848397907220590548146149672427028090368836666095817918061200668865178041015929835153447562139831597112939220818016954150874391909803320480059752557913991504292489583901340038529764806262896455746859790774204123033913036497268125367339823438656520281774960290066781890992931662142859178565410944139941689641296031382399871850748793709074145779216475355805881107275352888048390644584571343327369045766873445152246349197036340610240682072961044578905615602038942414060998616597245367432468266089089582135483914281189846906181203940648489636986747713614503494431120032322454083351007245180745500434755075531226470906581088026982979334359266778827606858268301903092611856315485104423991330536846850622652336986618116708211820085517142100330441980661657757728576935247380863680211138050602100928668477726552699965817295946283723537126425092939526386650826416573154158722092664409322965150669274854105217146598916760114018106794836299415072002245405515788862085435140995994913063196246741395495379450729309971483950665854344968249440809429172913967041197034418273101749381242499974400713461649126760706024284122270086334884117793100676730354611364307074558422491822264071110314872984455366447257270412527978706256701071946117183548462102397146617085557318314551711129690108059216576426233868298546708822707616862272299711720876283004575078040694470090401030573865768377382514002230727482485152902224449144496493026104949829217326118373710856291609405248785190403858002113332705527410001919733897008823679815204577606405130820479262363909947463747461313505944158193519811646747303625029222818345755980949310574210101735587621663067834773267662065046777656519362651479825740948761280596973241222656141492888184308886942912843021699048539454741277158506284635319180827762340357210273580759872277291707876073124414396747901853483016295538035654686092269126869067010035885525526485061769945682889429012882505238185638816774219442187838218935769468002825820239022932392067324336023689322936014814782018136471901029090723145696771818781516664117980121655864086274544930277028953871223211415109577103728433667462993021992715315817111758604631813192610334579261366909540860485258505329986543019349205842045589261767190188394508389815157412090799128771675865810594183384955688435466129948423638264061204840731793513986441096427057414352488232818782549119174844118002043420739275169687489047998850800156185860182122510907790149701160762469806796287055923158539009282641912802880283377741980900556751979934688498893288162675914129539364069325573980144235847832727257387697141986899633896905939883179503800457207258447145883043294435279526453450412166399992598432104838897194527912319686958830101524759003838042504959736325599831295107525230029603159426760430573963161431020579706332868458091868735931774625708420293447636295584461380592749851418841471703622150306826634057685116453871025034059467596892216577876916873882451586304027550183045900883808822644008109529779915400931485052357154968519564125436328459107235669336725022217854655626941190727518810074117123619136148240214024418028121624543198080091917429063301919277555572547905101946806334994932640384111157631696321478993225102357282318084789618720379069803143288451259960819696583806569360621753719285013692913633970937021352728002577136884452613083059590850114007758353818107247231737608777433328927241338271030638581445545827825432815840322086287829344384655542068931959581714895724870759226364331445509702278043016454841965826263357840935259252439013460567910854048739034252235652530966414968509536301327829239894534244660572034406499144391150088668691510288056835910057021517960696396940905986741203327709315575198262030683923162340678236861054498904423953878731411819096044848925374654716716118503477169025723994483826696754060758014416450981259273876052745904969036814225282595564313384133879372873356972070777869956234638927554257093749018180754368961979462001171352836192294424593493189531668549752953738409075527891747599393564771331392338002285672329068833076640753786856184413752607920023735672254424715131772313837226411676062799197043316236534515857126963316095001410792081282473500484097830478657605660540226256235357592786185566305037566665064569669242361499760091299810465873087981465301787293291048637919599107294775435471243554906114734560935050273018413620835769513815315369402573876093038610196602900372748411277142186685457911993319657656134960760649092274104010647714032250279266021631381503835184325757219868326344451313934968383553256323369930672398538181006704680353259543398238896426394468611586480129596189574662233845373999638148001160509626715893211336752569485522846040981955428535110016224892542555125975503502106711242912800490353047891263419520280105854536563563975708132785660659074850115034708048634490168783144242400514873222441866881108096731350556559175684823771634646011393066271762277651151330458645603385729484654856903469910866380842984357968231058737736899730681609601911334645939910389176768151290416533749149342401723482124744139437784116687944835393329903739015171173804106296978183820379977978623889124367106701765097555547926567031486674364023365504274519890861667869318469323976007912242652259083475859094161464326097197891850359589896142434280481880122653156505855297247087533057790953793406478352862963780655390050658196458787697069703293189337905050550443480990815403945843154642647459132600631042706281719120254097838971615420599712368266516681897635187050004365154549827774575220995538750967020995106727590455559977860169519199837641421344222197481985777465314817458456299910264111856806366345991483403402257552056500058532456642080651931619369853227199985378890066040983895866563347520857881133505499747899062540552723095988674923901551123027953901299635790979215857796531148030830177067924672634211185209273206130831347093844358272197792758717732667369504748297517450489824271449024815323874439323670002775749487149921720073615030098534793370277340028416908631563491766877490239944339345888640357917179965665529132855524403010840622910022283111393873537805815048150252316168670457128952266406710039235795390533746859978362141865052428817797951746345505344807979847644400232146870143899380090024379324213535980216648354536643253602994215731616974728248059776654235462109247114030136394591798912559225002355599014649893153374012520721830722254125583368109690098278680969189907802667441419749761395877294357520461983702614539486166470485903071196916316686525568525055721257438406351403462289408195318493372971756178779986712902275458707957036335917017673743314693545140047070678398261791873386711660629427640479371022600766316988775383172800372284067119479178638081695688629028243527803369478122786094313413025500612870871345771249717608751061843746761302244636899243370671152297618649785273895355774910371829854303943378553314015145174148356279638143153591943581549888718817071702074257269743957823162858906495203139613745360091849862547636268844999733737163063830792853436415400605813710036557887037884254125599179004240940595815377437403962964504216971282341060447985949865503843838286464486906410071575851725650268364465536630485319030848423046299566147547757858971846444614616546172214500706902838719096968745509678381393102340640645306290904619726167144720580960453458871921899151292928733952520477517409358279851527099263104788172665317549617147488874652654074328408871954473187140447188745980449273437514237294560986898481872673774560406347296625141428357038592450357293545440501903668637394345672898774388161344653819890595843990860660779133749635117507179542582502940094856984601194362988307467277089419845964019926283950093957039465884550922107624949899312629339072084749016456877525799269388201531242887662474449793872310208218865659745051407435951449120410792382465940932433194780499799463344857403634604222687531815104690975212927992869057885890832179149513644900976993278652572928192774914823008890067377057600628447174412076465440430749928598506444963277576914056462233323930938435293378313293404127633415543910202552397706112899612877194932469629560522978932363081711731083159918326253090895644592979441370985081235974465667282021053571511479065260192610969195768903651485475731286882143513864847350102261506474222967787789755784048611472284317035300680949350613732945092616737866676022145707993747144139574927718875046743849750264218929852405905554923731460901025160352289234553087890025604359902880949513942910978560369557310993532514677260266136389942663749876441984842422680570847804759087684265797081246372174258897376939468772428471003418080585926871566797647450687301784482397911944677689755052085048481075899679661745333535510730269691195737113383068497062452692311522889912038959632352701782108355754537582016534385480711059245135628839431192566477714587882055534451857620973471845198158312614594246129409608421675436855528527889994653225431916948708990231253926568918262037421759638041819194376497310003032591745365751157597520041874876662902836756726307448750376887337424705022855957218510370691291789879354889331453998756101183541086835307900588638546323566836896893010092666990612070888857672233697126934500007551511426977748029170229744314261104615212086227142003573575103350408299129142066275534950346157063177740939892077039979617012851260703979319803961004258554750788491268091569891000963140406420231016243334228963184012224039035823767251078874731735601314103799925909629363838253851202531656664579271793327717355072306164399098036545073601844095133523629112180320258829897337478497064835378304820399269432027134962612361630504845349213773682451127197472959914660737922088780872846828530325925373631212606219537141745132169684045670094894912851393284903191238045844599196600365680147070614544714637838543393190800024792716755902133710846411904533284054677705060815349698748653076786492857244589173449304692672750723403124881065437892116015382726139178273411120784707627018034340987753596566801289860282775074935126908038616929014965185846800758249115945500848546814702395440083344321342864740538406184145889742281054699112828241166895938444064329669210263620844413619587761183472870943962552813369345635935713712221835222959504425288002613449526572596840362191127818229168757627158196143820690408071811114029744358910380271786212947169534744198003181459018302662306043662949408586826295403291693702791218871771161945532736518388045515241110540499219627093202233121688039016201762752775076351123449725855798047476858503079627811469298148355814154811160359212992850928266504468977807316213544801817997484664846496124264022154212319406676805251435495572398378475147591456934522552947707172655093175777373183189276480707305199339503790993047521729899435608277593912232008516724198947069104721929133005758450017376648396008748172974376224163221897898898271509305434979172521174966015116161530055882778953322737584888965516645618907350792831056596504821614132511011094936341207925905868797289247525074462750299963371632590136636360699991334683696464286932401351466935353873220808261387489392666103200697815275617977408031400086461495692491229047714445793383979494286101630673465004275208341723330846725809145197970232464303995644431482452583071520943679213742397232434892260168218808608091049211849970564972784340580902094723575156197112321440253866022012831625023308375374290127970814270239610216633775219091426439334521144146608980882009561867445079736917074790556582103730786508244733256346570454394226647878212471709694926181579340140201240353642412010274124566441642852604852763425325333135017733687551214335593485476186235479219282713396565899522452605613021565065533832872076202957019385593301116173320792730002683013706956315329767124144572390744888953566812090779639561101732603589102089605671005325054789671574611302058584410600857818782335754178228624630546851232622233102729216272845066116169916316342116412508371913480128377101598042865105650376735508605712337939141629572247012253305001501709689675044481428990204905293116330821071584028235333560043666698541075904601615114787711540621529091268143656677591358932505738614163594883900780295375548879017848228023015741667900395968969502371078838328650970320631484473629188852053863377494530161903879366356776971031119378120084253944717230751987727933648238653719590040872006885736703535755490093650065687590689802162331034467541278965380947321112979438649524075982222881303343168762925471878532289969093111100481415250319118415187104104055375463448086123487798418971302206686742269565764414946461022811663226156676543265217563196099869857581430448559302110927891026900816507298978726972654465519379800782088044533512186180490691960741948502897396930715615384139626404610572672196388403325805149150822957938057874217571014873367220750608327977887358441129017606998210517620498026890532334256073335341968654161854935313250430168103768493535864759779685099871756873389807605734472305222946355911851057622836210718294018863105208380677177921018762388149907414207755755051862365775735573210741026210778655736431122084079863139025154222346211433651380039550353055821557162038098290185543570985586994338956685434644127297663187146872558039363013876959511593263716430852849859550450283591134319918890537045613815634073916179378852276689908041287485752877200149644128040395679137135670593703895365817063486165330160291797353569417792494976474937283805697114702520335542330931568684606894256303545562696833748043062279284064340579051556581570234041660667302695525186981366718782302892870887495248302980697424247795124746043072451595527429128783582595924584685781208534651156968971073311587867987569906675223063107892991406215779864484758863243517475510706969173698204637377612879725303080267333696106417032156937165739539274047569534388564920184069742636200370491492612047302798442263569524764471036253618404931508456119515541178650337422650181090317468739416953669279353857920160257716448535341986427968144274182376827764025140834050631978324428125465268187796843018518411125870256422300737132637078696173293215746446325463011176634449417373668107684979816401860555859836811693024345792324498573194971943132069390611287105822955901999932909242391242335952569530435492647101080035205372372400046326660582908669951096925468007234665625613889256845761201563863127160997092524835798559493461223151654934449239297809210861349139107070492427404168408722293294085321594558475891001012254478068250737069037551859664602750456493824394792987389390449354146897559948071082092225016333035336294710892357129259986850399190272772798833035268017797363041892523488751855332156328368576381880554189741156276841896930293227576324215374848151470647541438068477769396104708429374543296213194431912633610799619680739857775948454353357489749477560542733838327335473699559134023147189850684091203208711596796962739259905823849051694908001474318444559989181095920028325700194898413389061844755421372668400353615980534221107574020797095613063750854100996298477302844185090311474822732199366027679349914821011322130449174525019719631424382431928810118113746560898658612240471089532413985282937460388376097700177103882602809715833235804718271120299102678827806343055251843277237895742047210128232232475110208076479921793317087498561182174822885765414374488534817522163821133442574423040925417443319532782571095731819395832075620482301733530870203964234436472248648892270151853244381530511028671819739236128542523596496450829688152350892376444006587412834511505626837117258002807665905966673721877514399740559308207957816030971863259128610335228644670519879528213618892963212823774912668992819953764206172089440613604305005962220604708855052249678459679045717962384009860793231002032049102150969680517003383340209704655060650751742165734316529139256181337910864534416127355005855756149726955537895803022084563952755565850243951043683669730298109683516197941985071489753849851719547680592978345520646991052479513876321793865843455791770467813069631125344673388615750452734391681009977888323347354559588480095017285924238766723783437465292845447678528414558831842775580060478918332066513481110029724226082480266502838527051477076513414756054291393248674943032423541795726225684201423619317916863577716482373180111018905930253824076787561719232434376998327737465438826452478932539771228289156913068197919507914108738255107285142630533526681482756781969924821399865477047905776220722747814934940516225742876358878275621434387436606470201546424196822310948950998140312392090134200119120815037239796138912305357222393271068092977115538562364059053747622370439894026085153124120125235956115037891038377865874112209837443897294924805572665161414568575872119889097941409029224760132859134837601949730348859685438426980661962616953962134178480992080291785413084427540109919922461833886651878182467472632677086460346329251486047307035383713270631784684241738659347787136961660879876140293550246308707294958446202294379781859166471195565292157679947117472912655031480070749634866005179136548847073511233977761236822754935646169170594410741323822689255998274031498041532106761584386466218545141852174651644892057533789915836160095504234741690728625290931837404557523464498681328855480246625435979019373053431490473009525535720220063015355471614210902161785699933753574029478932227013281414967254991856167582313411534820653376620645520624651295614948511817467049120825963663666844764748255522434198165426669266257066210522760700457451702203804700144009116416085653199838579377436856620029068619701784856881186716801626310226524545610885724747491385519330947224788137369715632724657322261275398124469485719105961366261535878026465411335777354171054127766627021657629688070298516038528394674075718875962317591380008503215734292724194989567195907972995460912471482893152811681608929647574547749018964807235146931120147346373182385597937261786918164047529591205610993632708917503729350274000651113126870446718489862876660899818906315185286398539271957988677291868317517366591637391744202548209277779292199357441438897410566356034591615932693017774412319508581227043519942399498593014926101192457373192763489815295458414614358502054720977990838276314333723558626579120142167507057494340026705814686644229485182628657153784145284308710372625141047611857538394849325430935018357882439807709365229852375470971980921540509682325196985022750818977057085373753714514899445497278629085506437948481632846525509588376662937410842262944747674949310933807390773038617243908740190625283505511528231213425431368472632248432704876280036223236174122101388834715615436485893642216780903890735282875771694511242718321810087811212785215985345126637246146489006129914583465153237042955665582842344410709871843458397862500488901632576207132954151311227294590198627310533708845486740815023968437824271708880656869313911262359560989775438912173898415959973454505591451387867667220850504639799555401676667315074634644434819907582259614414575795496271137991982102750021986450369190167586636316766874912217715441228864496964298699338042778776009564775688459568504391516541921004923101680278079668152135680570765654411523664704485305275601558702106879512484832732971159789634669652415337610447241695445273949887892006491768911126714356811833210551222298565050361918036280375220930566190545911398709286732509687050969537238584650270917976897307329290299881489036657375737593852801074875439418468600305912206530892311899624623510732607957373341841181380029493688072734892064553337365951347523935007843158175010960937986813158507430135637117658160813441953104061985414540433274833278749427443128088797520892909174619129308944350600891057161832524409658329254764819093760138743127020741463273852252284499088115516969078300667175990530262785165950618015708980063276373359566377598384407034447403045077696065891782856361655088704621154923376185457991835205499043725282162819934379632134979029925649942566316776200799165832853530582526014884798644919634393559010440499617141517478157840810200382590601385422686329490297968800975588301210556352267851465808401067386029663497032701237837359136854011180317891077976219385769196059753357247831753420279404116218776682552932093016704942186432900663792008673705581436841750567239578834947930162793403461317465077025346786868858855855281236381294368129081313062784909717160151557215330943374695443372207681080283889546357598030944494660539484725849843516030242068705554667000367329180535556792812895839941321491488762812798735766826459352904287406961928730214419575622146086076583217126721924874880262861551351134728914384112329745183937195243864483620744193002467726775763790902866557039011538590403443047330994960877769748731451605661529943512528125715491352993507180821091881045256920463822268655144030111192069122641806550039527803288561311023762091398672484112503605572498262126778572511497217774632281297048993879184085020401502997377174026881020417455914679617721646328206234893248807904033512508854905592290287948108483597968836279576280726602034566208202642843434462129257886372372145255621565801048863833323553659219769548783366546231042010332005234138778464958533897969272312917264753178364339034200360881969429220544407328876131171605282334058680536882813925297624928588677792125717867361226399649267392040936020731436888651625942189165976599035503651622778501757900452755250412546415905712828009705520245951607166921848892258754498239486555315614100397277711848414133990930341749451101735055010892434168020155649767481179102531570533268759993896021271301617040919773513649160634075014647170045138826906464435886285913475721348928532804509206385499336505813088081507543850819360687305759753545096232068679770279722884514320276973404079326463487155288152162693231817382511838732745995451756113960112424287696113909933438157117881547553999497364489276394340987934672764136173845701734656227368553883862188236218455617985455822886742177917587431547354357691660673053152933334588859438656349653455840367290771151232991852045670358048871535335099935958705074122338106015746044715552290087057338300353605208093978546563596415152990907586516080265325371272210692858402243000986141403629042506238837596875069680837487376108187276377893410780160080803072049037822401697557020167053340397244804471948593014595667840882641187420390572194940613377465739199202267208723850157464908552656040148640336769829018047334157572395816328128887615524848394327828068018446416028217397278505122210237242814060871709968463798390946130313187410876150330525892069297130310622679880694001624579027074297878905547379984194644594114328718180927508131626351892661603370801890494173493572588952051194436889254991277046466312554464937928728543233474725674981960518488468621316126801358678655308154780349980727497440723018012763212122991543881242554321025243394472148602314854290136038359332444201977605382269377449152003072974904307364690027927179877980576102309668286810904734349091675601230876648728725973203635927738084175646706228657305491157763487248405701751824929030978932998017058848735395367214822980961227519169358213701255260741214011086167348900328525664003234130221405939225286659862968638515348865988387184163206844514595969642750193121794673911013406885789772663474132227031152324070323702830530969301114483806252804899461909954303237612602367624300719512181930947641354423791796068099438645038816343823606523142855452728942470082925590124971728900357761742939277980803748314616686855727943091854655715990757504259591091491853693299846315035909163980144445690614870455184965817048139133820070196430939028868311642031920824575091098355876408759430570684321938553929333254402295266683803856795373764895585768842703779343239728227794841710771197254844527877256105413060439256443762114811587142279355891965257240727042596445233099405481636988674195398721520058212237381856993831383642697173972214227397062792077375570598403379488539587640520006596478471711028375871272555338793188228406816597715537131425662439206616576394870927306462276400466784923947893008691359507609247992696449140418145354774758062312852700760078441878720718974487827761739822877904517803666916003111494405338778393550270908331358315097512080290042664803104135377775492216972766902374526102447255013631648157888849819072941239085894482350155721103466703877508740614424560897157205336686554686137705325054854770060967651580215007560073565409015202642092319801405547006702219465092713817657763820569762633511846607216625672105643383439252255476806019986673987562362876917767665901857178274786223880995365569155876810003181696897702634005879666701648041230289543224407032974932182330327541800401986884060111568683317903315375843393329671390766708042782448802265997675610642459877848905841920449187632040738233287724399458492750075794156915453434326676788380584214026821992384551894141915152303257397008382661730469241071092999941891047234671089842729812727231292146531572483386417646463174193400933323046944967565069575355915411008182386397344391042651198541775237172640822798002841027262127541983454871086583256771148675926076888811109776744114883503159790185904762464961829222693449973101943932940132278489866708288936136687224700000915017824126420012301069307845827025227166354773234618854196867791594210053434653946727494595407740292530859623394071684310276502960385267978250198202465492030966708447937553110347349675787891737855643484092447846611831595059219187194190174830844349152931308789867714401913819063077226439799719911352516484893551368069315842309211546813442144475721651274398127274630123575912842816818344957687004698645791249362504017090000116191791793504822039924749598185924453706965412199719541104639849941558770999152896019480202577491996901453729983295851430863341369060894099921278046494880008684755472297432428307799826636797755108680206562322868815086937945646865260510735993596913027042451385893485886139200241909544426628727562834798735383951067965249433529996858245568956938809535523449305991351643154166639866836444971452709043940340819342556775122130659649576780558043698467154846442621294626786086161366301437274317056062576018056655750595060268716176093795359301296745653025983391290121730714561912446914456359265872313146211031901105159708023839374539716271979155225874168711964146401072214109604145656930919851138451370146115879121844063067114710971806840287982969933402759019283826790166720873664509903476149156944501709483753682052858643208797566442397328106394514738791120715819733734994275391095346155736696914377448686765364539785363479697664746045968554779580457775669707871095848000180535387510062749568553042607600313580969782701977230975634969883476840913282723677670182871279790226761598130202099467155328391433550076720507375938016715865649452142739630712847690288021354664192613105702582710391093074226734213139572761974398722288372809581756665462885229930322073551884308463663078063372355139572917177079021359651665315146401660207763941174041562802519229157294771470354108732064910769994119391728084345653037483601340412021917470840900275121569601708838833349803283266128332115243704705362104981109144844969703029162305183140754213118388362428501487534215285490883525772551579500696470198930952669935575339444361510141611152783841700830785862312872561846448486282409156792774841870969622959376029362182865854293110087995965870089738604535976750038420613564052041336898429387632668742433751346245210516812297507070357589586393260527878609158767147069190266798206053189226862122164322927368401035577965662180648255543599537349302281819967110027343291463473236723978068712141585564910110231416039898710984723279612008913288593454820721618923050520654143399022475850874869333259796086420227363968048445633359391862213623600113828642770084356772055568050778916469500652189735554977644038212981598721807846544390980945719605931639127658165988822364197617328638418421086804253790761773338508490182482948782349951796421433923356481846091972294682988986917280572978533392448607951343167382095959652018310778138089381910409220975294415504607849231330953240035278872641184254168163441520963679301446006370352608535304341816088154318190878709949231798423231994292329701526797838450150317923146891953326679746647388423479288499973392485977381706413866302822266541110676869589924664080711814403960577198776003171373384728559619665481591705664581847318526898537398428927706961250988963520609290959833829589150995538652877423425799171405368212160758061829627698083153888801176231211830735067682794405776161341841958587468413355622287611494235767082022662444386738120586365374067920110631444086500584731196663253447869719446217806707859274221646382153184125123239866072594329721744230637025710397297286713376913130619198995837342755054825779057132574235959436862339480560860793639136832249323447488566089975735315249435669984066474373625541328209409599485521496025495326683161429452255333727391478593150098968944127381961238760977443701743160346444783058656064909378415716238805659137089292649646479490900567351097341977130878108649461038353462060831608630236430537272219227776408762045776526685299897531238254147040899099013651539720898861372725984169916833896724657889562537642866360722462386008015864132902976644737639114852509392473323161267713279608337974050916239478514640371423574317341439963684486072605710185821752243150812058036592595899372204846705648809121648335000192018409351247425080225207958880565315714523017035099201865939865117959954970505577170821393674077207276690362834921677611065780774098742321812687572185813663425520536922832544592915809156618553421979585562591472708577405285542230349313518675492750779730434232292931191259269983345738987510331665066622954446420326541212132853401206868557177047408534643441016112479685340810656084642797787532185869920399236747756579225327402526513577162227923897720764641572551750109898828928823968060947583215528428560254744203973549910203224038385136089722632797849700872862321700479149078003041280256846225136443939969151690440233699109871966426928980480204457378977522966906881306881677138560365558138754967920267562693070886589438614890811501350647158610379080580934500643785654795731774872761938877463782213321412263609869058484485513739323585364208684840558680656547277834431460345394501790035486397770245652100813943999316598758237415781509268573696593392408315094606293520902600775512773121965695764387240653335629743942681055740359026180716567233754966983037536539973699470057591140071738105918925400455424535260714521674873074181641233656606637869939926850907638390515898880839771522565075620376360131472301086438129520741773745968718413071809229273320304727533886498652180056189668103073461080080356065493144760636648952642642454832921880723042722167562672632269461902131793498309114098158317553876459068772696128641016661249893356166717589383712218369624555092385730975106750334499020989954555619715955389868723043440621484525353107303754239488015979962136349740854980078543520966697254655719254631981881335485057747027365700059771584805032125634573584279725680945884403754219847062619249158569815956440915293979785093996097889819912223921572179499229345932969073749505264624307894823465924015390167008352019834814722243664425224747407624080457820709087973200221432111518595729019239707432211018753906501212625031431464177204045299102993581858703030780077413441050110472557854573093228189493494365919796306834132328411208588542701325145444391204590146044186435735251674450648846272732162296495084275007212805990563337205397021336376021568635795905895442011913381611275363194835996107238197204998574996664714356080600615986324338728615900768192995117665225654813874963300139104985097498941341224543809728778151200774973452206557313214872392599060203841422631339001375811173690840548943667881061911974656458082034097078689990973472131365336234604397706460648925067975989102724932528995931172413139572383862910945834842241096826238956783608908249332330288100060226463336183921607061204507033873979663858607932606629941283404451269747888320124197673927125301427353697978188770802344966514291904709565927759477429641122041359872217636167314973941882767585146830534396299751071597726784694531611756949343628142696278329044332966532849809602434620106442607229057723067626864124907909426923464437091906533444267897379014537711458596722633503530730722529771398834070603877422912840420186300247832118098820220144055989436582473864131403613196480952660667481689354761538090197865395621777995851498429358639084484121864578791422902210518126615239075367688140858637497497093135063251825948560825669498068297481616297028780240514369993482241971674602213500010977641223498714825914711113000512741511505061071290129680684189832874136926155728231849593572568243859642105659539498392510707822432552920495620462509877967625834450045429256328408904992780257866605014974636938009257378406971361039045840361176068897329794857495865297340241292766576110949801016961953108450446924631983629631470654292584835191025169494867039150528401870195314996498116342798561676003008340168792653692619697747037235960501165188121559578697874036972241114911763016287920726528220180071385537840910736927741084119166650096555166381159966062548146527102055377050057671360247366715318177455638789333828941285810053783535592779455225758937533190056762801222604726945505216667602277208807900241816477749218330115738770861377373077182044051784937381154645093516421786973483994110699478577862545176134586749168065498196009263734709635175591040932613841301631245455509169734070902500103607298679093176565631294624018857202586567292417726027229358290386825558339656095852562849989441354467206530475617169871258930253950597251219595447215833282736442751929076798289152459589055050911510669937220848053040560481733448483797920246459166801778584624222059628468520291466605732104660606778665810323720019249412943893930379486472542840775670510594645041373701864715324928851058837484789058346138220177248619833694403062726790214790447089736742474287672451094703945171860550523493509380359683693745140113175598094530018605818515945616056431302435584575419329932399082858138498008782261912784681220208256956730739592800770907959177893258826409349608417413016461893492638181096878436051485537685058801347332610269567905887359330671592884042055570475034569410993767404313670232403021366229460264598956889104905705498514051759347357805883121339260098388608502723533725039571233422902283657599627659469282430452967677084453411534180540873163334395906628470152307112054429057634413642564934079449799151017661370372171540629449198083915755072509874635535718438088736897374193590012645359917700109787582434773668945352174117521412175635867694553635344092340594563863052086206612188231388464580051276246847580455006025769261335602861016870731054926339655560666001858070984845482495489253555302502570894000373773687892915424080820382658306183414919872327063201436989420238760488823334471388789323736215955518745855766194768064222757907975329053622708368623769808800680642225669552424302988621445444854531638566143710083215590315985811034284326058307780177393747749101986217949424289910812071577828475937606163571529922887521834478933914662618632022021206287319712028825422421623183384045360889856304457497344849243384122097990486250020931953685532237454153967651538514575346806513685336890450110390965484457959601703476262700673855610435830163888594759912407742039767548445766235636476878016994055441892623393228164088694634045874015935900730043480919786489249591865902589405392399216585831744759263856249990410976276603387867716193177790343693241820444973819759352385777523804703165170322812714560234673076020485122838205787505041636557531452782288844768856432108156806713079037766250929629073648360514056891283967106572392903646517792214063419391390199053891238304237139265653895124508351303649194543305268625044899145966566461866240331687229954119212497333670281882908091228302079741558235530714658822106881128172795600296733746102723192259397344845804912900740645016986606814831849683209803495144018536803515011596378937308094062255461780553842693166529387632421933877532907600987405770939472111472026380058578986964937465838720417676089155087221257800246564820220340897623448401116213192322608375768323856707866353917243788329270976090816321459214836773115384092102911055345717664396690764709152604963574269199290309840536405507115596868963957031833101414016638778000447779981545790030205248975863551651221018948577184484497164650147599505629350355930731080437967933572570174273719862452680164424163876209873293616381747671438677962018765665333750956991733953328364558374678789704757535834824961085778844169926265520740695848485077370061356415653084551037293973679352367491331612518067069429932681764689780811998579667579392385125437021427318075901024855461327415223908618522294185753218160606001591660794658149498994928392446275952239168642940262829724892825057774202659677790726804015146648002786602958989361122883162136451324907648962719017054829129847117075745152101725109881919108453347651080988731641941212062148083637543999872244541365884080787241079816024216344848058393760376678216556288661748337223766983797405608802011011131529665782597953481275791568308050737325862286279404237185490123091363478294656243859236672913217662798698812596114428806600516370458663001276870972264245648721606940465095788729379960517894766331739340185449767784609768658431033475608548057985238115527742956057886343546831166933489432518184593591099190491134625736571114249728761148789378689335796493856705666379933367097282690062243433404207529745676404607613389029292649722954917342780115470265711621086064183038590419717610345554328032550000030875322606813875197224034280441594042049322554741016482247771876173155925883759856722275502355003727607112438785306743508050155211161103630182087763907027131411553094076134327214390561316878889169035119932039400610695219298028356219304420187976682710544782053101331398419453161787498039412549735297490883180325565006003096575910680007779427764655711194810594015377380917016838326006017548159632399753049727415597684969822115770640953636689672952669288331920531766727090261072389432410214050073400526837401365799498987964226713091411823847204611150826678606495550607029398989390180298129315646392183514280052636975641809907723886900163547565189142466859880700271126371524103149918267501113322836196153711207052287330536030793513997597485077331957557987727331998745642742407980600422317027968723119420381092395487813977160081461647976021226068136693792919016109815334312735413613784711968983816923261091118836226710219518801651813950116176047437923639284706130590213927539908422439131379146423884490327428377136998127427737262721694305963856143274814051482380608174659194089529141018407141847315486455359710648146245051324606443286633696098948945172567131373236562274306954511585124328135365853091469313827528681665127926767425795306808638556786666068845331815705064624884380984357956816864550796484752174234654877168856377711707831894733338761897798486504997205210837301099951166013219314381689933191327153055857531657998940957024917285562587405701817888572887102780099355943359200221140935726662677240891038312628146651739611653044028834958482345981576651423525845605356593245659241756039323931852763623509280753521496482049067143757266345435017309267894903605058114346224305461121019081011265180853368508558149970675107527954727051628631536255902514303217553768547207109136398697428557670843612307262579047096898811133305542994074868736503502123667708116855012022517756535208448441730489825524711181234638442708754124081915074707517664115568164960987159730833490853816051495269230010354123317637561728663941053604335503711470103033502161902514317685145633226753919692682070844228220127672901324010875511102555166730881812601290540917276389899671064263723563729759474556001173619820155005927707218986420117156354881750633294779294283743488835617710876743041285381471401782187609150049961488773811041174110877881279261831775075132153361756161152865449630206020910855472650550462057289345218300954184267027196445849705644734038182811547366638999032265448578591731567064263845371108848705619780413690870162296929840864493295758274772065549609786321916363440025087413697632902435196559914415994868872048018207570326341108574304539389471223372385302871344999839940232461724427110010245683016438007129372552208782419391249756819986478108719136369633928720166834906663874058000309376391137803807322940667650015829421340560915317522571362082339796748025269068236538660394684452454164215252586771379224809131719550553715318229694545464493784627911874549037207120125818748604258745735380774333994335589562016984299179539743852347472800454714477900319785124688670232391332004854175461613141493981008873161499163381935606973197121510175569325812802189197871406453236874662048406201314331370495550992629894963440183653649891685296932556247219505231283205667414388109864263915747068427268725329804243785192122914941009727932536900629559278575375606115864975129835195725843072537502966376737035343878710452788340590013560905227486133096419739820744170403066822695213918466372151269396489821295777110119713336138079002098761402325976817052770764630588603352356791797836180031105263771327286402164996125377382234531656032624068136455419558561448906457458954411146977814741015494568896790704388494976693051295445970925305997322129277176918253020475051211257299316969248138297377802355628214804468927629035160829734086362872903828732324146049673768418954062317337189525491466981548440168818470535960570531976905879662694902418874875896454924975886322773121546162859429712053996208781408916141669478047360847788175393161333513256537722458183865745144173265398014160269749115738612538827170162049897555341579416735455432715119551826748690882107580531873008750246933272198959126146057883110287509248921999878294705004848103214941587974730053998624402533552731336895591099195695582830022988077454284652038173825361412166535130459433891737933731378351526438298168493609869340422833944115651539916333379772843751689069664898874461157373592418057039323792099266027542642605730095529557027126807690467049963589592300724358175324159857924694369628358779411803335279737313647220929426282261719555263562222465724160240895315687639771416434428434964932967003400908374754469455674067713626917347116599615610606793863399689873520936792052447198129863308207599066904974271564845788082353458811882851718704164703173862294615147137517040932256604739359945465011827424560071824741085125599921854775479529148178506952107230701536982314234729961660115253905125980858242399071978806083553793518445230460334038720244420563039316080686675741494880477701546143091759583621036704164626835459676752695938747294541410436779036962794497837437213051901363093498010401306951525879875075707667209148817746158944909566148144118918179697099803016658738277738138713010722714896646078221829620341443561258815944019839811940719865100869967719251527495082657015594263409451374967520191656441770604887047166876681322080208166290661863257108302117666773692141343391637055919110478764550348082646260497778346233669959798223677004662240359404398178671409416976010735382119900531968173340545831080957340735525546191667562909669569502594071467760918661517416629170102398404811893869798621002202968333928535986033325290929935570329393210088421238530784095732145489359880728181601551578619167532261806150526349466929649179940505059447747114937724077846805475649573065126954343411743195995789070563724486832424388433482519997827366343635157123086762797636117520851088880406765411423564257403704425313292565456231284048689486817811343517051143697063802981134527770780332809827982484001651026015664279079271759548194571128743257882609515681016611606167140382244718230297454706178549047518253254222466389762740920909072586198227950840544197687616094577538181048492428239532302701233181125615289224347696028836560664042492370747623854220088336054218068974264560665317859940459145709195967071541533618869168968547029687957069366849044109896506766325460760163550007207286646247119862568261765490300353093663007109888066150376937593324702759048157848706634243522113770146790520287358234272335245144126123734089358734059930451156734313531743643351934938589551562078434416397209159124064038802604706848500919920799157588697078173132721961077284389746210239305585895436895911118016027606804147771918071590890104150049476948887773115609904805265056482394294482682957909380004208232558743192070975439031774913664114202628474019356894861348385406363984590838123395773542022265745032556803129651981186592599522725994479078059361149264277970712373174640556578686361401566665736201301304756813245348436651780350403880655188773159576837177988629037571744721534334642477589697873263821318655393381250815241909120979844478548256314333249079314735873049018501872235574085529953598451958798900429573918095216126542962628114442188502991526324523983993583653675464875955531698470688293116344562450254473329244286394544066450743935046252727267598473641780353369145042223282942772437639585656209688002588606942303587125484543757934687453511025855431472576975312284210494625125369951526475989109779802102038644993483537136698780731625301071229255015068504937640289332004098585431575385936195574141742132948819412587063544950568567435217754368671362334129946082972102342051246571870118845409823373829390307816845415778578083840925248304603610803603345836854796766481110104378622573339066754620468099576869800483257775416749892094282794037998272407341832353350434019339896798555047195249906601736773223418168700354208008130119960055991968486551805582600827439164909911262137925865473530000126647412712226794819699870251734286341610792351356368796546768510089708856354605799905227205820675646637289954776181949123404419611556211625054997419251837884649950583112600788166193192131567617336396429826902455193940790579786618660367561002860190656849953363405806735898123275780684637134835911820706705774879823304296747489129326522706670318735739486203134498091312628732923040707699619786538889500903147103134705025188321062790107654501906815869554719915653081260900078279828672021576179120112638457730587658906576143969741023117520330703500958379424055101697119164236893883992518428518296338988809889231574755780483764883299110687894203907369650250572688245509231042505840319539194371131272955219691903572195137764396218310933475525191702058900681600509108508280412917006108868422330014645046521553326825449068323333556577741642270791141397804651502301125601430340393532687936608448770745883794327013981934893954034321023347706729748205249289173050246746642738353228362641090026032077099360223298857416711198640739040579337049769216096961833822114865232312486324616587338214590549845088401600333081459047456913427711122744885919396193121958869503777044068904439956366088347058418530287918736530369933973977460667952812324614179550664858811830891730085626365979089864627056251793388885702479683608099853180578163416591287337337681473062903530015827339531175838070946317072562761663140002022818898481368974517726733741630522290771734985406107604197993537776176377321298823844574127149120507602966735194201132670035395408283347189025460557055697769837716100563564317549932928966801804286558039337387608535628221255017826180733691554978504581488349545814131498188509775587732003669294133688384175022559838524155578424368895696386226926492907041352678127450448064819341559830097536964544750166449217278694518744820128334764675859286885992994928229098721623306650599658879277091728048665150602721184831121452021326759760589834799816513464759501823520187225055444863546327682129354723378470557261949595779815464338587957843349576261349199102057162021587578675408787173224341965295856072496738053210220410773324499496784068510159865104750273801078819843486276407438710312354533078669780108429645083517777827521229628931520572284812958735332219100737980204289464032116825245113816149440239163915917380905158338047969627464317869299323987977405895592728288979015205567060658891973631249270774670113823671493853764177656762073443184237910492352997353165081541282731523546285916349987444720371252639366608524408253589360974372713943702791059827364392148824015592917592595309235162296191914594089011521192727404298112489535780105579336689146313089189161819376473702630065737143003881731276934906180749798158212127954852586420413419901269139741640696832014023811825629230959813750112096252009660822932653857363448607232240831553581391221168520143398957402151898380621614841854456869298881465164925001473245737291243054599557706924822781248902054982191379627293385172489815299733285514489924685813564999391618779166312677619175807742766773141023743222117634593956294846512652815151233804270328393371726749400794650444149552574904862992946968457175213422196876589916397421513538540581803019819879693878953050336415770685465776979553303677365286973912250094288248977834487592514156158572804890936377279543463248249586000907255526601958804057564411316005441316083632747020786641860374753723422179175044654278199706963194857967910305065721228231306300890707317765688450432540809783754464887058592372012271651545427503941867684362174926178477083287388456925977404636030711162108078141059327713530387537276878879990465437804831057754520999823730390306363954689397218261935734914176069644149633074310018659431694100385722000898248872895845107492272581923311909910929346653288912514325163994045070777075708169830985406032957322164666153483682891982217361624474854281598547306905461205560142674275438755812242651828999917179663977062624123936637607282526812000210095448844664377663980107613268555036442810482843321678157674570256452297657238478100984608724825898880126931661027715196366647983737440187976307596390509265910308450079367510717838041769164614276228672403586063545870120858409187069881011072894775232653758047140951914976217036320520147117643166132640956284365792596220584033993461961277378285771748508705510739405352555004333178594081297633560142566484973059694279893622212467591988983629862631198096156737908857061682632857373393483135912196885388960239681712588293448564522395597492908905345896337242071221304930220235589017901886708388361629857396265145332134737199456637720951629754515726289514434905116386618995501279394232228576574728034388143151147478542970747632876998648321629814369118208310171518652662176078486249968570987255531828626132940265842079828710517114296461670600310444313382380438381234348063356585442775356385081645570945821737301400109631182074122733606597155944219631019696709904204978562180481325548583371706695579337207635238046894984830287551770783962638212211878463868410741520634248582144443550719689893299912759513392000276563586158070988331374642775382003379996056358835327987161267010484966145928739080192957045816805685683835482006561144479029393041145522370823455958037906941493537847694851422189622640236126464020205040008813786100498776133927840669181019777446586332315626697182299270405740250331507188722738293555802954011010720691317882327434683322827239363877364497814086757254012219314588029663733051141555527825239662803775789752124140045303165737194566795820288505612629826563142578646759885085871448369929735190776487009136755985809306409276573889954004391988278111018993714686069537241900717198382554536641297507684732864325303183315943387129735853246610299485323941848140992479420766469485238857833757461725823746201978867992059688024168824258515900555152544147070157036844613275989584080107522550929092232739393845323240228475354264353195243042564604905734441702655336529917929413667649730477967995578920082737962585537472206944740431310730108703692867577902267201013866011331440605663432869642971313073979393706610042034864327529482520934739109399545659365525164442055985815037306773904734950864129176379069483411302046370502303068448722478508587140669583384867392672766578152029209789507251989971893342220530752088103889471076683621517353471371650605767547702939460535292918088218231164751313970401675092857205142873615685149545290036539097860556327141136201115856212648949201049398840609304550863625971647843892696950767707589652857298649449984820255009052377644310406613437877985161978783014612483949664368931299854983265551091274971486713330284841747138444857391803787646445250446222128326039678038948827019398330720723387442113601073322526384466536123909424600225758244125586171123474240662882445148375555226531028146758167877831601802512579292061768261444177714753878255732134464205546950848194976976414174948161193085260018058093947233330814216281594205738067085677781920268563018527763623402607766323480436877796744317322571059965673747991379973366250570994561874151913544099560676824876274393518012904494067495944893757406205810859546607274484942697345070200892056292413986990689497278117343729070776856698381547486013964265636766622838395763664122604380263923834247847847286614120716297150876932847192176450569543829803700954052899121964983271996207665235836720275042569372434011791194446319265268962604944404252186411151444558465407848822155252110177182400389913744077782560415360208826810024475618774263648506580092512566394627207967508053929804919971055965553446620496040228311769233080946114209422383065883903143954899803743863911102961590923835021178856638749951258207427406334607460862560238737395753216530031675454136423615017639236466319456744416195849993956757189162260235475757852303402140111736219806979863861849470551770914296252646585246552677093969917235000766411244753050962771361762279993588150104777603219489783005168695442224692092050857398883827238621080813840768634676237946391973250944656826720985445408306818784469538085116139540313136064276143530730816456254800071600025566841680693595264542861206768860960595259908507410310194750954088313169181406396697689992240952260793437928635239253348461083348916953396356549279336102070307155615389338050479331346182568571722163110746714148457765254878518670669676796555319501668277872887671412176359796982461118263525543146528317245335867010660812300103996190142940436624918203383914550755759786722589791219329957224374928871095528516193575342088297463639175659522859195707668444683963532369996740556907666461014852361592418325082122571338323200653326905339361093177287738232193236694480224881530327191924758259325114871395089659366278020139850074466974427308775296172147133519668309240815968985320529694607034369211047767786552989391709880614716082508153898989686502124512319934801312466367716116161719180115270502425395321496321269996316122128815488743172399281763537898606004009935255994024810269737057444766928513827952818020703702202532118809927153332908644969141291108210299565660190723754689122856676175277067474940228124008280325504492927527258033988606037935761605314349103383808666848577680583853789414469136360714704212078239387512375382836163308403533210671777978613958665802611360268932157466826231076350672249524187044320550145827083838788965765917056587645345838485683642466940256123339625587727567436788040295551915788712092444772860949510739659811363689001304008100083653327781144411309814769047423189498918528130482230933904171390679480847175034351337569549497857581738308387616723494473893681645218266426171727514162949663301489184874967198986518594550744959095749749869539827540079343569808402733093894004204970080032355059283395654036979994191826862623196369413472741890586569184587985699996238274376953045424649042733343069717599866299152586473731340231384459511869360088723377648211657855351791385156501383857986740057592752320357785543541182624232003958045458284002124308607421365465262211115850113731939610176949486434905180988761124102107686068354885134769594313045747362644036145870481160399743596263852368522418946948755856473750608904060605721130401624991422506679016015759034974122618610481917817225277043447430387589643447240902301020471097819022000691774731460359442391533064154608945109967708572360585609489071650356583236321327773756590524675172111600205228444542609622017736426701740886032262837912976469974422620898596443461756263179216894759386744620416192509296122701625086041853763313414031415490930115155166338333664358134995252407912179904259686003145009569797210967798156123299038948762060489228245439530607193178698620352330802279765484895515085451700571405076884930822381299813446068922246637933922959962191001474959736293873060839109936258505562460180901951989127234593767348660626460994979098266754410361510224994318266964277686192541978696310135572817166903703371247264528219699510803854392135493657912654939502268497649009382499848254599044086337350165168025780883099781670180142597072764664426690735325955678281623604176661538194597424395487761254720636233252766999167503456443948750418244947404006570563281167561587384093469377087774556659634786215323811629027678032535324604772668563305069133105930349644101698029832476126391218604525809160967644773928141527259981366029225292664677664137940110965935375567570286357099477557967097777765621122761449808253746838170037068036142741575897144498317422465838185649273763387800350792812314455363840531142220032853592502189926353031137825659183193612102858326843574612094531365495877373724002882175922280644820705779758527335831782733090687354927435607048115756799203015299270797757542664607229215650716156515075382818958029210159913183990637638958851945344261404459495914021826242749522751324753447255977188724250214848745117129755456499632030369154128507751539633788990300854196785662017605488181665470611401588583940873936138864722162930660986447859376601207833281576737824295816464550866420838152558669926066425187476450135531601963179775152077623655383742514474318124472523709994844785717711260699154785522751929478221503046261433874698276136399187885193126448752919178480950297839522850491905594975287133933991079899266297036130309725218896378250341298771071635875751469996407033868750649384737570178983348658415435740796223908425915307629145647887639644458381718476830493358912809917974074993607620893801669706795774152134952339809179553107388859811177455817072148679220148827126838264131825087884199404106980495198401181402416044790921608816354291731665492999252871218379174589101930877833222780482813964319890821210014580846731706003011454815417241296439416236822925780394157440206868055348803961328534869655994892453478853137690132416231888304860939353388375542432681330359583411373970041150860545230631401781016151717501018547357556126941567666149529553772532857941129196124860235548402146956055424227353151367691196067634202221831919152848871860523339471181337129528221035220191559661108498576029993345728529371708023444563170751372567561560271201646844046752489596991394238736978817856262215396075634842143117624956558360654785755642113303141224449991382251167071131816742422849556629166808507529868628415432094395581130746164059178350930228791676816624230832576162538867450965743451615213975788018003737173647230068998649781234335193560311457916029709158655157919154263923084939831842923018944502559926843009070689505826833652699349503318258042106684637072815809913420176546784343030934580417372616068577288592796511966101677617450038866992003022755806723403935050854665454625159795069871970420031044062028078095560065776361159140623811928404530002343552202554930213840555039678550345472843862292237988292681593442455925200489172779179080293658125298373128057882993368687787111015129418897562533166290093591756701084674914204549452744522374747422516966763751522639383380865987947847516600364366906257292647759412721926910528284279834987646949844075851381137757011883174772095561747026065294165006022169618515253192338347543907884876839958109012987177357890075934865572219964967286330460239310464113126646625185659665777410851690866897672919645473368458654115522413122444460451490728575666813466831426522250117706545302631028376119612379351931821445197375494881450936999899687952678610299947973515627015782458104463447873422922157263462643747713769520962962771684447588632243037955840615408486135624003848131887199251586354229153483980302406616745300170021940635594858435254088334466799016775850234512462973696036130860894000467155911234967360390291977699051358321374880448164587974405997123713577822191600758262548915497798841687207355216192843530955671394921961075387468171876445553734513173446982023068379787629206332821884051551331956256500884737051253398056118010024762000705835009876692352560722192185395596894582219923445031508228290207585458369813108576207039101861223647078496090981255472005422964964611416717942963495069787243271889718641359423721884294001991450419346782799506836980853855727051060536924878559707965880150023551602565054714303622906375407206435398234168774436849514475198058271952924241682228312935631103489028485444887410120774817190777429784272558367457497145785901613984129890403671773034881558295489213504025589082354134042002329294373462106149939599867090874250629333555099713050179314634766507310365005445775543082519147415720872331390803454105505718096132394975614236124869943842655698917512526622689346431802379307653352340126543667504377691544774147673154547627096551857447546109506125603043844176511489496035515682785344303201409254461652511148410157371128000976535752535499950139304625529756808358087779121735053292158006194719835631247476943004967511099604364390956679540756905013152638594924981111369467022258490921094622460002002030031015832278626056010873857139322797861755315684443422698600386242442897697456693364089915690632687165927930589772290183154936013040614845309801715043922149783742811636979317452770387246404338002168948041423124060440575244123375609333801811821837925224837810412079963611166781219835398710842131588724669933174569344153912411051273040936168693482357349973411017159823666905250812989635303698458190215010285582134421168609789233824126150954023916076423270318970519051431873538688718103397640071236043313729299741723476814857354077126219254501027358963369185939409004315995433767598756904942548172810654794405356374764951285989188471707225935778051343042442294839966867663393879401393723856191488226461030550854132108844907343183394724302390623441556209992810385283147340782077329692150261507565610518840533369018596765790075260446817747188130952518076759768377026758404075132032466425629399252816694491112635139857278054518673774167150606537672847751227753337957801389315317035146214008128393942979835201024222759702751726821513797724087974260637826628469041005466221666907506969414375552431227577443751636025155727943353352752508390574559229706489089475756618380460534665466611963412925347885201946946213689077111539780561951178674483786860785241734735058481135589805430961972095444139514830333655993331686776337491123469760459849880583385108069542471619046159447341589736449883718925098951742560542411053181115288647384252527873232232256005590157557206950301439747899378846757013131531012264840473252170639084924361621728036515360490530569193829248776921810850698480132263789987567440683627534421018055185427224692933113337080957921599066541630848912099907592467409925251248275869330883924163411157313745938570113779808006537680808546872304642359362182845700455628112249181148957195504022018955678388301873969688938717802594929437055190357745743093585136071926862741965921396417910791409622277783678196853003352132770476568365241395114408119609127628256614720636016834519342895473297161284800717833589394796376846891528136959262610470249568905026938541035589495894551886007924599051051957460536204281544289027927168527254473094428169833438683781581998641070988334388449066970719382297273940758119086248378826690980566199793410014029085125112095265933763518988850212598033778800781347798184844138987662646395044141984910774753876611929530497016541707955754033256799403786746957430149488992189468878383135539253775541892258089426906738666591747102724801413719168780749329828903462560355956058895413172079395732876121993799037743875135699236687631504163525642259496747485923987947130614497611041413385069815023814814553486096547596213877004084318931636865273387068013647268724086456766654762766919498310974851826711623617550062611052082134641646820081952788670234928440621452120406873107871280362359762506640592987793415624249340199969954639207997013536376080674686353641517016173195495032207194078354400216535278233393015573367729904340592265367453828305189148580894604020214680662428641087380717447605754893558939486343096071528055597049194283051283970235474794484051489048673282599049580481132884958282630874266411219817593352313009714125400492925794568006567758359831740487748706146845122629432882017202723862918941127304796903343413239201800988985389711499186668904680897564957878059832393753518947446746661662904254433851251710576949046424043450078098754218916813663688991370034016651254256735005654762395642898329347389877150847105018478991723119041576628632778259072830033660103087014864471879045083866698268727905683920993605447251194695457245284265217076033123215475602179274276675006170120462204786114347045825910469853467515955959817469327146688072362414413071219696363898785656106261358179231289386007873817009959906956104053669167164755923424571779833122568819327215044241945154988351037113831374425384725672052672176127986286096277839895428497862435854937039923344136481714038493621420814010898364381080051155070819805383151726879799006287689492940607459548304746939908613091989239053766427803979481385268440048113163032343799551439161468811684207320852249872149588176604378252155909080913130286706482912031234852132004433840529338735525824907809660156337052016227429396838133950387161560799369497290588001748287688894907677389943794644870619415181967367086002874257069737859858237956735817159894682376919394878643479344936377120254972853699042094195870132830703796965365722192754576742641164734696571740318719276223708254621325559270847502667454910913664198784214777614404934002207338400335062911100414995474759762664503955079351983560680375654585093202677369948953892898511457728212308384178390146182000697056927789540458658221300700298020902998943588147588738771379411968325385898284187290841597499331035871905314988938611369187723146056389435902254599102960479927116300645219050423204843347161987064639600903944664737865534457415789807323514243113599475095856418999348315800164072003150609369737830810236150117345770898684856079543995467424073052039336219001019841079363228102814987373870642317747159747630649218756980507766133371856738984495945948420412936315675573859300077844016258508969568384821620021820449226157630911036964268236760832851201691040154168963683745859039611411663848641460537637245388060348980589048629266208330098888690848246208216918433936877372972874927932167504057753456018617009482282533972524171530279102751858015346426721273999371527718424699622872803793968745485625727810057621009433864519725173356292951442585136415254723987950490194282435402775652752318439571069491657902211433972898277002550803369936694086625079155789779447694098327225220839150010995577391519518462651450632820270714729339224064456294326289621906009856387350476971034831269187303537591037908539568924056598045210982297343750728480106985870959974704705941247908594270700094139532667420935820348642596459589310788262013112098344182335762983712329568536482874904777345081477928236457538067039041115472400439108430244005970625657726530008489878701331883298531091265633530336887548602916054825110847291597135673697964144513445288867769107220436106694819489313825258934810503095155503411526826277999513577052771051209175220934979853000815676594061346758994207471858722525779231768828993149476827016368519018442790585023868930602975876850426447717388366497926789179454367484185886190228208866807811112175153499871488443570821396631757467987078127663963473792684871546001594054427436213749957557644499123166109635066787686043777648236135390677766536576243991500848243972189933058175450685619812775259084579366684599314355781723454247124474803388924663616741048228411903892188224146806873126811060895075817173954053178324179987072050190919838609454653314308774639280752827025445557851879764100167247854111099712921424433521198060865817190547937095791421472283440686306789170992262748600253771019583217260116180784416295053897046347813338775260016399376350211494273752148094964790244419583264650572216721593492544372174435433162941940773345710016419442581652495463046528672490752880867632223171428859907105065887919347366115481876823582825228039062274029577351409371700617072415646709035465059060676170589751398427147408651853226248482847464803503552033256014134197341143287151586337550221159263614956422090359477483324864105715250753432446652592575079789148938662296849572457836454049230388232541301198126174619298230512213452038453046421263439424916772124721924129404949395212877358367212190774388601575417720709826915734793550206393591752464373187642602688263168035985429521661006273148764259705909532579487232150208708206051478960471967155050009170519182670410065638310578793483862241652641089877895713020513010305680236748578556545675096636971467795770479490434454196242647153025806190965168963647840968810296450757769394638180064150078665332364570257150724181550037771594707617665143438813908687716379034343233079250095664593312183954296569173242517405415067275971614483740727731275864476226743459167584562387625891387991352772249920760764388223733718408256754486797833403525589216231245035937814574763480755120691791734180200633547980562340267812185905700712137787535618304305710863019940123698616446983309050984862179647394446885378432654054174514155729225027200409209609481717374094851745533604160507157980894018345644577760510379378781759773060720265781296399874753808958787202043743174138296752300330865543604062607355750576920405860626525643033967365855055779365492430140254744956852018408143554038281713818130886552052893788762427132791680058917452113015787742852538341255635361384623437036015872470553236364705434068185024333636498260340087504227566266790248739370590856164984013586734669318499060817231727071713375859395380472954435819731473089770475977982800654298579682739579352781848912150568835184319363468737255753726641737232061377200931416622412572195417117391220194568433268395513429461347618871597538474809266647102835992978989834156828342618094237724063337890669331033754990189466344506158387116119692292519145658855656371788101222479555251750532535845840993365726037298155525115412034847861907071782762599370411273641895803321925749495683544158292149481367030984297928065442572986569740394201975534666299177570883751170883623908740792947464673468910981106099251158638518861078104501872474652394743485309737136815706303778224549717894602074721415250099514511891353303161220728066297773283497285256938423328967823125918672710378558825206220014188653870913947939814526101578004768984164761163575056096429009138793132917327501261649722377897511291274409283062918419150391028090520560721069427949145272467459771135253757107138530219841274172636846066349638236853905927755261294518941408757893858359433194836186041195303332282387991663317029170471874597347003999037587941662718464523519989977506418313446958076152892022820052079729634399730429952019455238102641766295742319126746741480585621685403656484560712224385791750737760013815253207573710578457699867141576285520546375663833236496327296099059408665947751671233671446529224920014211283810432626521416648741287134456284680850972259194508787594005470074281018585574729041633697468825836350714714829028621480621743144285488438763855564085747243718314053287596425990321988240676439953617191633643731692676736621580130264431639596237243335651279487571229668384679775254014906722116690717333954489638395364271935373231393287615457795733560036396980305809360172098033340188609657425144585145091978983126196996816367305350918120742320488925741110472001614297442099853851808887574019893638214103871879167754405601997853419667244092217745124595993607813694762187773938291930307901099362905245352508719427048740253012118191860487336089077691248504043461393737769100489003523594842504710184859587369234207841911529381565339600855199589532310407431176706626977255471512630553633898346522004007070672573428311886997157640652848222888213502910984972167165709731519618774146227492972063627883450023046702908659090547317019605956725577677545615328114706976362285201899108854713054169885011317010352288404089570806327800790749952699876569372658249517474288522987740853772678242644034034731813164209676529311145706551762615822235241336515428065484533241627766752336619212747956214058824612223336427678531154161605209840630735621221545169584931625441670549787769394878438348831314448294522923613115079536232213549265478590314948967253612486655033938568866631757517413756182339800439582226045246935447929415534294160923120089965336714540546125608299970481932542891319650245268875970824140965895862262958460877491809306656146150041533930046240009323532583201014810613204543238595159102052833731373323382196173806738779694979221221494500924778775323198258433937577033098889182953869178583549904173042229636358255163443448636449364742568671132361772285976318551988056329248830225184334213426349036320702272616841659049101569014502206889643591932328078603466019534986977934139766236060259411565721519743078966721460163210086263540384482933510966205883289904507665582945026229720358770726275510226007181547355298359870810323463211868661473560329738106548786102357390479490702922880976398369607452851060379271193493547161536466335451390273313566081474066910133385720411096137750022704777649303610988040681063652323253095138053345553680511800000386900501191667340118454746669927071534059101548382275896944956674616936903048972082396673928072661618849568946323350350076872762977309048977653299378299124156014625414616193638616460025361011115277265041397815355818299283977416103890189394573841911452232053907640890948255437249309548652904425281603919811909231565411520073210835582302308580843663615750855696465350108769271975952185455461576784456070798222988010108575289758576487232766306158121518631962010275108286015246492111559849355541359373960910312882890564854236670244323883056222630721319041185334235392275778732197783592640239061243983557360005389300519707940610911039763028783657381380825786741044896882651598695277825024682046784466502411615525008613595645328521082792556462138130430115485128227296482288244079399577084164267745012578096589714018029981476805987236034784738958363353084125390441646117387882206535022871494241581932239894572880110742475335382402171753662444311094481876521227651646297929545715715557612032802188238802005492815724552263756910204619367162491979346034977628052779497717676364257948950536071564358630979301954569150186743586414834616177557173798207155621994079658363360556184323664303005023679700018728935921692672422910168271002287064219550624071369273621355676022953003574314549755741364286345786640169715395814893573718591489172707010512702841703558145455257918637144303003019855746751292196945013512909907441885781160770454810578409813656115515842578172795642204708587238296070567314317978058039801489680469869748413114654748779006606951510596334477293150328621966118433994821885516827146403826695885501477236026417028015219827798376122605033634703765215469104641152718321726138087731779643914072507463926098090149307047061163290909792683985195764069051594553154459402243038977111288797947113887061490394747743740661010478745304518960417678866238669298444967643306535976087496777945492974142754380285919831009833235637350543095060365897387790462259272170548054068161714930729197697744203806199331701524031512704495477374181292472035089029618463272597873792594370419044213361494341145622695276679311327025175885041374348311167882840021232532826846709053072356581406331509928379537820664529183883110472187311497221085704937048706379548302673015106036992443161275192722845533957618161836252675321394547644232089627069118911435978688129666660505427919507057065485451947953795266974240076886488032366543396660332102759272161777611449146163989012060841640443006546554874501519921481753210759594707082255526139518062152825594358873710505180229728972582878248417842962365384639979105293821597109570295985731709351255340142134368123212054375191800110345148028674146610254881986796078327405373415416305324189151090960986132397243066323333316992690369558519364580879428023087541663199512254214068647596798779185546267255933333769370046083931653582193682218731200582824801807492039838792007155003369365310608067340627002815668667870703176409264177359892121801411870398378279561482389385735604903416736526403786995369581142079857708551721819734923428857247548714530942704253798851600830954377145206962159285196384135285510711431773219276371283888307267562842149596112704720338208422570011534686126990364347469636043114790947379483846096804413077480719332839432958783198766702786017027414737066752094644687150180874925592751003719981838301595419172054736525146963716931648714542374361588514752199291304498315870312163150237246719074582308530350872099588546620837255680047511001424143872027107386237323592392531971377956946820087286289962807679736659056696278078846917680131291826855622193894123852207921282578063746383764813219522406557530296656805997353977593957257878110453155355755508789311965118278262614051098480186163094670951832699037565758614803174163515297653078875772561185610755949936205170930361517013869977730155559519031664625222783904986947005257441520327130023681967626465485489217164847017450054424231562571262654053321140693471306536141326875872475619434172769284024067804875924589455660288343821089309893113498171066514882927915920692889980643367512892276761198481547422935486353577320991435824608723820154838772519148415080645340985041513936787959669858565495852985513978249539048085668837359730260195877338260261359468698559861605384387554339442950592123672637322148173401776151959900623048354337925301938361657187820533281620074232856423439494826136801520820801979937276862246587478645770651196478434874204479332594434400225061030203775320026577380057634006005661772313858838752347793774399902283431963600917520656991277656943556612632077256545787537346555731862266282326902621441256891222499867004038071256441006968383248262291348941603915022876976841507139076617072515164777706744438808116815436173413505976670454788373003049380896593463545364048972327684189043534635804031698568039677721858132021922651835266214551483278030196659498635287366670558985439321881467165893041921170991477555912728753859458448004662346318858176753542181388885386413462975100173812844799279558219924211776443923183542454704152587086655489251982202037863597165113408301604130170799544000654067536634568198460454856981711713409563069260489362006395850228428588833018184643607112380020050950806164698568518532499625207892253639020183037908852800377617296533262853309156581129823031617095406833056095416236888899878047961344738497766786701453264501654233181920991326395532379317936966097982904572772705490496086844727136416939380189345578816664897181408972145319138175947789006796687847482428979900090843139940536063765862042223834438432174659626319661822469110857882639134639341634595455428435864916453639870196206608390723742218170852776490973648596453315256846898619134766120294093273028670607493464310883589039753200679071037937493844556809272715510303820289269352818000419928865241409089025005056425904711226623052992899796183048622810746488515337340455434040038150805337737768893904833952622367202558001269428980477189053374454170951618338932255432319958398017625203534549276895796038505573545486816437542009648197046595608441800396304430173444807781837786745104885178087383949682599713808935259011588388975308634833918114767358993316291113959218721461232872458121494753446003659729924636050001488625305084171082316321723691284648795787550345958431402794527233007829312941364768201887004307357504030189090110614328592342508161939705685559049450110653815271604714203302587353489632455777775741366126990973962366906730614784372134296018507324241556192676435592610847031512675548277213006808036007003718027689570465891074583995606529231887788176926757735113210543837725259945369734377660656352418791716077447216316311554162431468509140934723597958369777488433629031131930839656213091635156384048833153923312093270267645375162321535302679604181069990972694349088566064449767293354123196185343933222042910095020101188068176000909123588168723599745141499465749918780718126628845144148996345870345292449377142813966528594370663188126629565718988721721694092524202340452079280414597515740953312863662387754020815983360565932706303657764608516504551252892171254205753724193015598856448140076637735428560803757631697023825475068697610016010175466457992494800337924618179516490808983486367803344590169493721261254043929561538441245015246278979584161173418544090633143366370856398064662868902147615944049566453077043547953648504029893643399242267443537898271998243917599045200784543753537768241759045858716514391843214506673397008158804097259869600242260228674737578202179512709351826125392752451540799635187830210518157513779313622026760914742901717864072389388166270479080082884992523074712383047876295312988268139256145551509371636659321844821014845983769639322725452856096415458477191088837754298675001653652365064179115240048981766234155012187075462545085421214282429256098177926303247815580558489601952478827064770693988378282766742015484813067277186974058561340164328194725739677579163482543591578653548357420041018085803017057659577112727218791913112420682505518596555346730923918426195523933782246910037702039562153456160534878070716381939034531482604192554342857587731137616502125692718446226164873713159768055572126496534206907188744177213933003667652840667235007606439768636620526717606052632628512971900474858822274213185694891929195077997522861154397064412747272752958932177234356331113784505389962198032979968993838304359788448880853509373564751711855119593741191234926324820502492181699660688554432942362441013517248455679588506299656868990432566106464095721376009826928810242298361754240514026597277067970576552143318113230025213268150685598695474126056001095742963564097110217064205126083500024041599987630481224814450518078212375999442028514391258345294348391663628034689315476214558830195401773640476945398415803064755469595341315218713670759191402480223779032360314327406206401369030487345980791817391644600603651772357474802941031554680356898508341838758646484766221579712890017024962218278747336148327209331854926415460228288286127768227788639117284384895192052371686037222242606551710963963988742139116136123005146305176728568652276016825509974049775054696712591884789874867869505472923829163038559722960252968666451080959745957202626282173573977682472663743501581490082782103222431061520278486036530245421481648159061317659575443258065663332994715028263571293067543142133954262015382747268493525915379764093878883750367270708894554779219212799090310746811328811592921562028410974824737888412283989012918590570128763399825880218887057701389470390538879951515613702635179980839895979856940331970678243583622380560020785303835646223397326343083489019589155158651496413508556529699526741926816514118517859198341484516494470735484501819668817528687761005231513270267324197772083852750533449158996835641498764741215054150231549777391443466431320202445281540314795446730984814962389150423063630015119657319233585096637084492790742929694525072441881175690842271915072821021303492963960623854964058360701941548125216276457717082740360076078399459698382488396123224574881413088248524984467067431355326702742233084927353273719525605033734899973216878272862530855474064986179941279583094102638286355400974823711029231562148304207417817052730314825808041217418661363177369114226029012714589818993252894518778698221760045805630481149929718473425521626729528939381675719100772572945499338054422309318965211123660749475162426831786298356269241900440302227013879547275626420141772269547030868809053989034274723404236562417475957862962984736753915130940160813776911566714864947199861315747792960598188111515896209767906843152213004143415428527375139642081768273890508633739864300346657580767084679363156702876404425143448578035836137052909757976661099185884369153337352082297889905978840740801943834632363075307475402810169895661748070184022292175047558074178796464509868357066477073064234546268524466783704998989839913559199251827742077459422552347362904073323641776514356030968627838301859063263775346561181733730389091947975829663134382169319011821939231542715028146775725948890540384509499776292364077898806333859094950665673658951120353341547292312733238983182107588437885973507764103542830512419103902690763300655935003107456536926263272050049504680615482821385617620031713834163951610052461041108049052647153564309079446826275158218038063616387834040631409022711428301315915621954435962012747854159523205387921509322240852873634077442822532383263564205744183360909529067554173551855099391724288374986481998033948791427803818969184705764525719585734221793123344298537994893016566579027233469785324730311190822751510902110407421029584447019347253656126114088345845693229596462604829836645726264092554775588339073145643191147924143421845286192857149111832071109786737462092249930329970862873386914135864007196855385922666724288431417045942233956524957853888593618270413893540885601373425386210326675658244786053914111379797171268279870074618002342615230532062187968861475305236123802230366975219865194562291826361558057051479716553422172724512844879500658834616868130433045155037882323133595056799745453755716262004050658031977187654676546932534413522586492132254626573519823823362199972244711131002770279398682608532958582234208971118744979646289060442893401602203163216720111250529712186522697236815802247317316653886214834438540854513783369311826304383740619915509737255393609763076552520299160966757620526628417776813698977648907173214822186149238579727163571136897715532692045868040474548776545169218236352646085218097007055047410179715516011760458093009975020453323268735798249743976503716693044915997163897450943380635407491398726889006806011196000004220819342640140924347959595702475477171337668962490518250113996164932017368074666606682733479677536527637889496149249868802027031745728210600745846315658217578707916260889278468139040020589514293423114504991780856057979709519831589728069280552920447152792349395501663472733926619738489902522800477927009474040556759979436281479859455588786689474661552333271682693782446355531347457063836098709868382812236675245872223929947975843517944679801150161835623083802885389148583924629093988798377933077403538616839269791657709751129098165224734340209924968533037676202029497559798759354204617633559196599135484399622606105241983048899411778488750780990135650198151168743547753795971472000340246892663235864652049439725508762665247023401422126224197859687277928689429901473825521886221892621076749470578730419396065339082323785993025423064016241381433300502670627739235637497471116007575994296683565823783877680316807448876661753769775512400349749097491646161775370413820201767207120679990772039589413815032336523679341122502636773141336181789452177895603857746941987032034778669519756850665491297600755245263906398171538575099341244394972926718932709426683180461111898291015189602553952574402262371944814638013362327583449390580163813155471445892780857889572402676816638445405869637677385281467864588382658454173827568581606319424694982549247940892570935676113888664915730114987420710849535427035941407753518323443812927707892149609028576857088467032824795549157663888834549982964918785069119814753943212426357623826604222466432869076283477204087719607409849905084013514848730194707601774181415715547304186766785182562750225609248844629251251890658813392322476116416011964860684808279404011691238663932280575282445561757148826197719752168238192353762933623587252076045683610790828347301378010836132012032825165310292369858703994362105772781967555462001105898221340124718858447418723941787863215596421286222691122803617399476269217337101855126783775211008120091253897925518791834685380716145404110633140130894220861654373732459026998378710583953203810122967566327907904890766026090378740413805911727111037317128765286884729971663496747837158549284427956485112562785575718802797641171253585985692235475503399280491424224262715732428049664957254992335843124784512567772371841969228829165170587948343616079505279633714515015883721128550102262021980660293561954628599128423143284226490167422249163269286495574882326445465829115183129502108107875474120401439916581377510878832630497053632187198904170469121653273800992954043615903230758906942280480782873489272276377128580778565529570399457939501171400028249441854626566805644715483838708155557542076239473120022082742233353862992047926338762280633729299522065816797896699478604626082822051999424644963316411325642552088430691319404829126136154914265548931258613090846757561423672497449925435978443526298122428056245861912130947243719074123429504109432805945433830499737719828375662161477753326084611031670985333868715242043116718671444049921763088974641228520836992886530279809695831241210635712565535144149065785756949292113753120422599382924307003700806482476117631615746115542312256597372624695646818619327637570057754662818928034214602103089647240428770857998998747920063877506201573802214405708636642823743906971877360890987191249419427313452656456750829620507293648815366108251877484915712316551752589246594437845565186571693460966079677972783018423479586580622014448934940710204406245265481387532689677988138450955524247756592764083921183836259731533786278519887248737801570535555242679046770075890058387048808835325077359585773067968543118126893679624239597270731227137040703608722622493160235849059681122432541635430179250722069402284098512562386364504351471544560280482941477595441341231076513190372679765610887691272705129862146390024896609276028976912299176160689124291681239002547479697350096820777292170541782220143043981326715993401194632353427534788836872126302724156679482227852576058410125919385833159012044825917410202344987383481343688204348313489799940133703387093323098335740527021011205859688658314950773379572289400354589683994883926584246129582946788382206886070215120440232760470210811961615534726357205692904017093537544635617558611335887169085790084691039930130759296518090816245349414995324259861060317295275516958752994494692289496032657563276690029250402317301628772971322063472663556876578185012542422860344232765215500814885771035182574301329591932440368674884758107403797854690912361834972325141515185151084129071770399194642249046343125957505469514365885504431093280461921132299851536833770138510040995436497887299053423416871408219709165533897446171453053551299020657164460721382236288644578548211827535448342175132473804351861331762180595263606981282548477714331256829858985034471091666589804915308234371598221482799668547634281139129630253669991054889783754325327408586358185993528584851605198672329050896260774560963403826928600384732157677713097660539234631793470287079284472492121758527577799587112788272658876569624554761364928531348926432493189524460894075581723606760307361617816812133020059539432873252488081170500897996857342628935065802052712984172105176411989156749015778088482689379009371551210259583027633027301213438420004714706298277813694988676168399132057841810176714751227449142882652331878385083898182738214243201307194696452909302112416077642087632739019347878366425820513266780228326769096233641506460371994095241545832845473532619958107542592820363895020705617915451903128554008874335748181257282207561390433899768159691794674137247701482878806694021195321594439303717404204392392429915651803455811053448416745053852611722252814745771893650584376022548942469388314133663152284548665554011176273886418382360679106151573229695467773747571058807263644488275759261974039050381452774490862327323782855409319899485777460579877450848525152444773921608148921101165589753888852913604402063472938341322782662913947390293323769796189340359223769817454663940783625116690249797743677469428857653838230766932631893412475549559143787956181072924767542736515855594627566360764162725956337066767580946537716693487490933650089816408451179769609586327620998914095428703768103409217226957783188536785747380910335031286527404863304066987956415137360101729427912929815833497443425596070072213726158148946359839831523252007100291276999367571391229297267616040728498851163711626026417487837571128927108324314535730916928325648094539663904316645977979535880350202967604723750213075034794688163451156700512527092949640103937386564880249112051071530513160728630336226173414561159743662856707223742584727029918847144277377441582941272366246519638288777092988344809531156329144583471861482232047472873280462809958861468689390520609122169264410441484089754582750717609802944804355791920391934904366642325994230076451122095061881608444339228365947573709785038362257528236197267780831143991443281354249876884393634990664621371475335227692018774985495601242282441883977274237274534099975571984816382978738445150167598097391919404359873922296485719499174381143483199438140850309324923958831507058516727881360353427069163355572312744995479166472416626612269425711037216728845878646964189888038142373628862936245789733582128051870534679341575304090220063515814327388017740356920454572953107295054417667507708981452138055546861648070850608205522318320737912491907248606935344511541722532284287685740349520907849104246309509327791505314791205769721144072042622327542282065335375146102618081147132048147941976232207700166264331521113399210102198284248075896830161067040691901070488668972870159112761043697681777738277355011201032402720064265043832683270042848910685286568448268568939776926749278494561214464154642242512936474924157184732215417774612771612465801066681714810953403163105021186248793168415030218249800565079171298347505470127573629404800973142441310388214536716288296871197355366416030106909429568226290202210934378233059933170811770567081865592628358311545022165251453243695684580750164257774094970831653485170336364549521948945114473404139412188779360178380988800349662835984203816566272813062705650660742079734334583586170516899206937325359365459888323601452197859043039752932665641627894886708514779791333114038747649795648413795621297193282025216884137247484619391536605668705471078064570652516070097601107941998980435385426277796081419823878245706864760007655308646406093672817148391235356681619700303910377468564066181952052431142612954829175460057993858554926788464733560199340681642985541588877613197739513737092134906057553261057735565024033361671112531128973409627805403592749398884978053375725546812954134333388128439269316235625274696609195794587656218931979301834052622155836180084262827136243852089354888623417367384598655999594898460296957357398645558212252542146003679823224737629291353845860805222541770770762017924102658617008329089904529896031093628768543710241798080692640505262450121097805805333404573462578392646423993418624420372876097009820590076421744465681909935243888831297888854357166884594556934390868119517466076424077611833861226181340462075985106379204936425351472699105967987230260596752279099564430006439452229259819000865739462345740584563015553705749754315269459920807390364423021039726912446060327435637875056280773507616997669789378949845445337466483923114482845866473105361431017754881271058158939994191964007172865867729140460569350281261459310750955391978039397925188122029461862667753270131769285883370638066644266513668970865839409056901040536518356607851277007030998467498385988960301292060551152386934645606153020307664884965420428003375730400581053021447797259157515518749974561614519268521219866626962555317252898150319940952124073478302134778138832934012427346600247135714965727092942413035156333398303930638286975264423103556548486108470489931261105083716196119635181249059695338391434245126721389734593882790902181119861374286575936740953809518237670348065683795589862856904171405623638537967253841861384808316178731993528325461087902132955820281345899271715817156144376081117186614490863172206060975698822476518793885805358562183422906853722406690698703437993190754413606627703466278179248720613102577540337008594697567065609195891293377246447033597023000563760173977977463355475194405900021034150664413677973598746663799917046678220923544687451645042289705606499918613920334482841548871204756329878211197044766988179221624287395515986910130386418205058065266876317600682219392616301534284602426672987571637419651458983662755290332957431021531283462159296873245207889634388453955554598167784385084099354684732448675863692986346559725820727882328879128462803691065948117884528932665068842423771486037703790527309686168804121892088826583818387883069407136693100414425383992283577583869140421269148224836638818141529240837866450385926042763077331178499820475237356775239502681281710819212331780001126023764825947084427870184413465382598815032401531916335190077405333014232425412747312584198114772481961802729401542349333842434337998308663669641797918815989785142970282076195899708331819909490532652671806974357558803148814652425169162814202982072710772109961127321280686025093434689325895700443382425270731328046116971638866554506038430008502398580611618900357571585167096997746330701442347948323965544212325813131677258269958949835612135542900247020389705961772173858213501195684289786269990780512014389719343320614096071458089749508468984497128724188799940521006660739101036891795330658327969564972485396089038522322287321550488809704876284711465199993108882885658484802920782843100934559842362709736032376562159518422104577933439068756166420336305159161954114438269563550008459179943110878124480522051302739072770710414310909740791842800196802501786471170794117522317805981870384751976619105189544217506360171938137962959492823199221851899557129002979831886843480253741389681188222899537940790404737558270535376692198808855533022652973788475022982593934010262513779818126533219325374312706110223815764515400889357173359846307810913859128334911394829307480292464274277820885858504834063997933494085746821823545190626953825422530253207124974018736207368433769802153507943131620915049025148472508983274167901982216599334493998491954029026335656196043253456519968264450872380643042858244221851393566713563407358491784019273051179273362555097549017342635587347785492676275976126456533661638250210948643328445325244669637507600097076110261682664242037794105068989347814106786218226850782936441183174878816263137408566298113150056750791116714830619874538082944060278405545390261661856999016183574180671863880361689887098623057648267579409908213689673436739150013449369408734117608164039881136166841323589671444491876954358200755567506290896421708136103496474186977848618198604641495878472571255836886764580641444385699954246022110535548213163868041914570629031903436129204254169725975684356116091902870137424314392971495852650421989436890888973717136234518317821702975958901344314471681460572166838646691893437381241768483679176258366852625359352842046749317919884193039262611242255771816508529730789529696722732730174362792242382551346713215677061357791755057670730684361413454731930013518392371872107409387947649878127170819998932410578303499073710093423309682095725314016909977953356025054280858343357013383160211961254605251307479504419378099068389234359933652646121262299187848337251899345008151676748253776853229708888113167058794628385433905719156408351999002977216056494878800190354093375521042737678069708141683976863792723001841793252670617844782578540183992948642980002515243111174137423859188173493631144123810016816706220432045885371400175370890419120525823018093186353257415786170343178273123884730283828432843652804071537095282599792014633879826438285830217356173020622142856145013452781586318454668714614622487728744423475726152842805798161082082135899373196425966870379837611653071392117716042074066565126695186075784697722920035457853024488411771224465392086228284329506411106752180074240978281810531778784354797814565920752198190457590820558028655617950001820955078162060087223328286386627420511605066000393427936203612959012680952439438275021102062358953649191498599469243098862545474080589617146720157232656580364092588313936398599699967542487430960214042048059829095612614544336631241190739447900786591241061325850607313136927052856176679141134613562099781053976264771850795575607495039453280582196168298516310035537926776446025985357146064823670808396830160798555459680705210298670325482393967962241822766497393582783002988026507847690256689102477366133341872114298867053939320141778218744076155733897026019327436553623367498858969426704259970090251896839497280542128966338769656852581018911412870722206322209134519816097556853971293633021847422605921901580333056667044469618839910458903950891394968025765038179152302989356214325387958852728983564530823424655617840317735448517428587917258118593613815106920457947830501758299803569096985022008068394677957799733162228444904109754488029257244405544930817883434681757772739068107069434726452010076625062481212691312582985846094170180667303179788577292912842803314934222015968136913846153404583418864414032613113085849188712256642065888220091849838401956947852665261281239106876152433765168584530654395518280852477754188020259309617627381973378832855466704050228024624232043795637719495456667094626390166673918879104062146775585781397531825425381053617431104551491520261521784746245228328595335411930618355527757954874401230896912072340052116616119251541109704759068189245070192552048888797899164511165254360238180434968738686600067849689745751108716591046004320488836313466822114346698573998081582355571595974211230963983904864618300323242005998060618751592636489913931495113775468420873311617965200817177172586667765293787463541100612808987401621328830697990068226380675078307442293439972371595161317455702462832369255063478516733769900688904893525728386472617010739149845476636728596060461125031126433960825210626619226856676535879464388015909587919170459205096089639376402147963667771314228861875634685046306643868011210845381784512894826261635567142217924842321981607501571293347010755313519841807898710550369069594629756170100556187554714741684717699332649842535357922544314362623013755399327817941029717048873159521638754658235581268842605905028124264113335052579687800018097768797407691298789876238985251548270493264563078926228289927707775454056617367761138551492438297916808681249088865405216952146163412920796578743014793895770437160359686803469530944497147565697529731745352526479186767890489243774782392763143094967380573075707664917033061062655398176415729367639293863880553688774985055343757070677170543919220732497811408252602927377772126993750158808449209615575276055291218219201960633220810861305501023116459119740850580212838917993958307382390005453933368118358988962838644486775103064505277232100141197166150913597279719865906770934105009693612781964503478816020632766323996766663932750595415464317583211099669647478105000797546162578374954673442985770084887799482267640562826070794307228740518343551846275918618479721508573729111798190592713717537250444651340985104804336352626522141528186118174338191527799237670094370651302763899499141818416523740015287560023971794166785513893645263846045085951069593022593844561729919221951227340123016713370316817863978877720205119778987519046056601503821980620140856129958354219852995293058213979721758881936169546700946023181496261941628541748435406033984952051288570464457654775073540557273371113234182592996255529710035375220489416733292406100819219358285857365684988046846748262892130561024191715615912352604184647644336130262740659378463864419638737967906111122983210188623278351648670708935334447997617036215892796758091346473301066645344129667964187152789017501517070902133670295034733903687968590023544319109473912724834652864957399537104286208345972978765610840237814485692808980579194638670179893894945328256369060691318666605143447064563043934388450698272635817707226463960601770835464659106510727482645845326602144642934660495183733856419180524188789400242753579623242990338039357634648176100825167410308554334193506619970069445624984793291307780241935965201521400329466588792226781873251319843904167690791087505648814980548130228976964731552737783088299052273969890470307008007874399014697167593411640588943458538519575520123550789565737832454411291532181560895592263243669810736142280121959180975280895430714832841493065194537003728693191305748257583489660912875577399315138522367280642897172608948997067620739679846410943639628746406100006561420758383167775051693200519635899506236667440259352072433049974211040043625729135420374412654454879721710399648048404871694653466995594470608453837820797922604381704820816463400851409704458161563768327671075514107900945234750653142417462003463020487822194715063123322604156084926623804468182811496119105820022733715094960141748789106292979664991250677371118490958829379735598649698098713299680418150393598926289251824677144066868450501143666793157846548102014882088293319526459195150698345218619271232283245343452254691481247006886255335493137701014404633555028076911648195013004198787598961926104429200630707701034744655694156615958483741007425194612194530650577338667813504128545555282499631127692174039858807290526740175592540974489389494897637992883260414383885245995944974338528049828747353258074698894784191433184430235027454407016538235264797356233510553292794892238297875841961786472163660136159968864923464950095725652989247515967363206382375184710797627926871256486362483630696818539281891616362399323694550333440962755544243750795819787790456527042438619076017913924014484551876923609847226432844939632243614946229264151410220204969202773884610821289083653958669325025939118629199476851601358308431829222930788204324635951504554486080235993416099669504623500483593072958214330967583480629732840203790775857825668112335736501837819953576210781445404243447511273777406495364847082001883713849212561428607194638211857202734751569740328683097957443851614671801388806842069935848954637873187488132676516289836040082908712908091124762312531215199418192548047008514210453619535415734934883065632121140195342893327453121696953830415633998275212256388437464011555287538630968018538754215442376429373905726583220886546721023899469076670157658291626968222604699327259453523813659226778178272795368052737541142830131692131045355191031613459149790923179397039900099294020997847712674939067150158919377751972127559189706121563637314015996948078749195700551765058332723676947835214950474240183110091423738551676118525525989998678016848199319643059324321857377397465621501691562252046831529264657007077542659301377787564414956801678775006292336373534118613139314777862749305584620129500785702560790005738582130609468366709190902061782691726623077425174947121381531813418528673075136035247200523884621663002872576165509546052581201380210976555730243462604976090099404677991845577448406135622065556947516506737138417826158428372204524332992986342432651611301374108185873603367892190824429252122060996893437812036456068377357616352982910547945536304744860287603565664193020806610754750780650090997072532046284260229759764902072098760661036567360654448535500470160317871854570446515167538263019612049182772243922513214947950578841459568178703630832994893248650806644848149972668545929751715276621472500899452018252200163144462891675468213727847389875801805141359921845674325206027633014534654449162588645519570230029934206889519459731129190041989215731142976372720027269872792318811625119705007825017783303794769823368442753387331870318758574194691779264724408681397607320862690006640589771927399818549775034746772972831308022429410152321069477758434164927971259173497753882621965795582493460077712173516084472579352382056255878712562801683385231453127772576276140661790864841070664978243648424950480493418097822140912804796577628358666475820607002365091473020739276423177098000999975244074396000110813783912194298841071100535719344455186538308281405019052427832091774646247792679682861327425366930475532126460522292160427229182919621249189484792794471101887263502891488693580771199778548577580949414142757385164642486585667482798495869814531721491028325957021521045546104479763338924771004603199964749728877209505540436561045409645900537194028732009017747324118122464656277985444159758823941243183181790695438464808067990008063564929066080038137273874416065690025951761171782635997322472996350969325715144658907557362447291724058970192464164262689212447290654425411219787154530254494117472437960920481841841401326994556822874980731697357741908331001162551444567116908778413089612002640832995802224454990083842150750931577037382186166600593079106008333010360439192311500826511229511684258944255544726093071672343057052109778540490567752156571844678987171577546621400540530142619512769320226325599576779629103592377399045939904458748773992661890159404646404530056440140591277993369461526704443530983933462490254066950043299211578294535561019324101759469604535770072054320586460754956446940225542533549029546131770557533880961142049855882324980516344069784353695213085709253295341321188711401817183176142395583116302261405797259536780720630713982163427678985819163719715170634644337936939362163356378421688695180043658883404411547970008446052669759402499872763437056317927947764719339397132239056780196456856886602050719040151648616558673149716597033364306011890302474778048011362333329873469476428197914422281126300532853664964895481198526191336633663154971041864721607845983577228686513755656721674191947968772407951326594699177332003082039931670742157188430803718624876376944874142220756402387729398432453376998897597283695286724367803865424688878581245524782622972140077629408277402091632360029887539040724278544524994189942081619209610612404959064728648087384984106278260371032887142577733981992396061323041519065877040598411769776250155220943737430442545485460513362803065737804831017996341465858092981055728937365694579028340776119699440561608219274004174511572334697411536846568829990472953347045796638739961969002267545479205924151063088439870847123881087586363421727516977490470717305564463717377966101797128227976573506562602045292488798184371533073225786408021258478545473701663846879209989627697550993536166193323734309156638423702132846775696331734790846534669397640051389530641532719427603081794073125767073463218815786950243834794624938884486302350238485682522312879740167537229320140530359864427608194440175815446809047038496418064065457395909533979106432096075896072512447661696955592806706752997711438705950922704502788282232303523690338514572911710507549711850298606342589686629630374429061118572614515265819984740138936107249588606500509755308745383843435216595261767231760957180459315568417200330150479590100048950533370521008032973371880147371641808071787322300013634169300043983722734302849523317424209345512888630563306627811051986431034522001154352142573054816176196918123518069723912862098202534729862597752413414207148743005599463403137567793757094642940504301152004535953333187575729917911593611207766498853681661014853279713216456068535410913430463244323513657254031236254275443003121249777151020222268135981022850574603890032937914671704382201969757593111964356675225397422156965051149324751096652965313741482428191997111750775431936060586480831466030217478913859161103531014421963228730133293216746587887283369960115322601775824986484980785187934355031189176583160878026546553357725811458061636125586338399586120726587532383358574203556503268635198886043603434260464819861330317165763942059638965534976800612000630372908302525948129891930691329791944881219332570485531585554003146799404277165224464604748841376671549615435237513946189068512906227522510398128982109185259342105839961177273388181061943882191334515793806564001435565155756677134274300289417432077091976971479459802161468505628237401050534934666061054147950357054974248294017421610472197859443948011109439020236474906848562737564618111095531148991074693002943728173053312987998428984047806995319657793022178690113274658800857482231504035973329163581467185992794117907165152884995687997543191397393908530475401015671591538164998712087019817427806332550551035674434206837217773737445872987715690776797041879624268123400837795955876032792851502310108346500267207885869631551903282725261386849123668048789430097350346764529426301316340270877527329772344119614790192917246580563883961385861049826979654262918144549712434919490938623570654823296040987678927165242667011073159069186467339986408336703406897087130247212156025505282125335314722064023839183401055634536705242077785542247730886846981892994875722266881909938197621265238106808845166165453660051252849410151311960312877037420016425010527690098228512947060321408337878864672689266046013177887254203208130117634482054662285266971608670680709698353839697626198034465432192857944045105800244526756480533193107193430821772223958955415788814589198524005935575046219063356447190011802595403161982539338424218165762785286609007262418444208737349268004165949950117761123707280758358908615936894354704762628211671223692499309945737539176942158855022945056988735267381218122284501856979182219826668982575022820023793143317810724588750197780110151549226353610805621239579947787895851614783470583996091693162514058311146616559687458539075299282648828659476856690875456737347687056064916169244546667492396360244031387774868864829244756174250036405618193147463073069715708163497757587541459661891376997669823104715236680554294519929541043446466279316692018128634161521112471948579257203910247012062292267470133389229006599370497775792214810812742421567719112542378590977827953253511433388177967335919679466815264829280052926904725388811112874975494834201695090151938399031163726796390409253537503415139078454305813723341196095490622058559923464962539467336630507444040813391239827849281024540482568151834894022145060287855116639011107418627675381041417268317595833608954346966519480703162234615429800829155054080643062411098999708759960592854261813324043362613970163793890947109076244914367916299251416818801297236877470023378091382679518743282114480486724442523933365939962062309383145441624898979178974949629698296845305569956329974932064861650426572981793699180473308299413521517393921300345403193581083434516182302170621252257697333265204707044847123726234699647101121816973086084891462013340870122126123917523488121768154522832167813304873592376807664065978964699718001851875400780882065777194794940939578295058697252817734921896253088786228152090660225063410187922212739480777778544839533166943971284085194276571489852620865024297734863857681086409385983614575857392697730188644804726711138922214264238287248007284679996016621784097448066393965288645249820149974749140749775704849817770535603571127534658280194959207852132684246902883944893320923983606106690793775721876940538164280277014295775170220938114970027890606188398965889779767693816352517115783897905049188540283099928880371305024635351244915258257009048535926221458976660640968112583182636581239834530024651850350741349570195231210861606432438491695403091809304689670587618490256935585799716139396441116403639524161217276079428167113145664398679414711752937948488159020227462126645118582039307264913675596232977353826113330164878171838833778014506022482975718299043654149673604452431633915876975408678052352926821510509360877097372404456348654883820257249477357185250652376323822050808854150446815911088850312920579807259561084813549469845919552588763660744274660102096540200114437860809542786910502354831692755687033362420397327310228479462518580216698788150196087743400638697611367262000737835103286860676552865869473097673548822312100496759558493123823729274958416823236704734117868718737020981576212733208331160021104853496184836832918840508361079924410366584744009647865874560994343047517832659008971285731128474796675760771669749226344144628707952033999209962652465362343121907452634974827780709155128620783112633500528784855562779259691690087871743338363642662992835134742136275415285774599007968998448819348252146267289193069670299458875992998755747722352623128734926775123562793293046137685195976148707419815986422134519297513702457466435124750055183211621459625204573799852768155998514179528802260658890277568312978511591804291052852104237873829889529556423016558572597196632681748947344014751825332850946273947096639811704132615336129832596559908115049753206817464960633373135115904052696647176213689355867642714593874660647525941011654574243126151165778105717920983311953191080999271613915278209903394007904729179370904744401785579467632908253388625927580127761751654187056094534416067422007419275700184553266039789718355498890002495128246859358158162292929959618932927232396289818667539109917445588714063598214274080977615090951814508172404735723124079753755433859329481869576858019738803841300252814337916136414333543962346984166622101072313898932661869800469969627523943137220272865460202061355154164985021115203600388273147875518919763745619232123984341738992668011053872200535748304879748907058697618907124450406364015800427456086801306986761075416429986544743565160212618132655864482003972445334868692584635112950617838085676426481706824555750315933723842032581673179580889453383117804665816511204394642026234929467019182333276563540436404730554335210213151647934936668452967451004342976487654648968064484450648622199629199759680329535073977365629816717497261824859340092789305645965691310688123283966741285481122885605903247361144378959686138802777661659554140181481325133410350680506935618788525104823919015892684703702435113076565199287251605591323869637836452366382587830915166691578898427991556626105398523938435083167284456442406607364279910428357101424858787208606532675192544666187818336449009721532777900936318885607198940494245371296668491542915416789718315839933074228397440226064486540489873474463714624790712983229149498768030872455578736063925714551933620352935252042521797115955160323517012358509238939850639795125858815143795286717883461392734806374924165614154130414271573600335984290655433697473181817202480443772128001292933902923307496916114069679455653414135499934303793580211929903270880224235504196857616214175690962694781342258520471479237783558731482234838313347797178832942351582171103243484979875875886202259952644465820920512344129654818004081579817244704217364646599991215038619138998579214442009205865720980820560546596403146872737917871594531812457762479107979059638780197806235860383435001903812047911024255512967337848305561287399138796035785865021496345396703019049294741825189304626762308132043766236104804464630840676647861144293420477522207847756371595782536943989989610245495569530127321331621486683555496179611366674288674445255831369955817794660995023139769768721998865842325671269434709104164372301287237861461851214044312807533955935381137287489561374582793362458829368820835346894149151576780590778071697657278353113197737629404434540801496257449271186114418812817869609740070520423519521346233530788273867653416487578080347026300089046451219295775677719298590980321538290284682555846526812326632206409758768794803387665895541101851637282395833409421827274454211588580562601061442548718960995752903901666813245825333711552616045887877726174857101479841608602339537168715299661334165823380747521085760126445536269434024218876369195493847804334110834728060870438838761184003027902116824794838397143954990531026482459684108276803875131319722918100245961535650549949576901374019411848777502903280556867330107388713456644936890502807892847158769939385466950765277975432381916355854662159806959585268770338539771235723487760216842740153827475340595749921488991922049164798456037936598855832337224434860769498325189323431015176738816668667849158665370920704762217905884137507268220492614182579398407318572070511724831664291070768646108156409251472857687548367091772598864174599588592938584373820476009618491183038834211857366413449525229058964135409637345479186816108177987734588714562237898556066116324751515155978574929542457976115429984658268549267630853834375505916892493279346736506747933885583953059324337640474995907451898301782178408750375383874643926935247732124010977316603757857708885735774484348141040965519332023647369784461418076710630614339379108360119512317519052329173197143654709540414543521733625089632240453526610530565613824727917549238828249663613494820209705722314512158706723382664115771982806238646967616618472809351790321396135964375812446114700574679940122216556298628796534109014044673899682889523833458798679068180591726741017754034834918342372472669152321824247778819974520395826136434147674922690930385026774205082428432671327103363760180101457042882330088003910754651836026550799658634320136054597349684102027429089490876354010773165403321368093716689090478939202370102146119903842909198775599763650159734719258166386464217378636360522828051861005687735929183397429801731490283639720640940716879300681605974829795842658433291784888086378726535767286204343819120977740494673973907888869475858744348454453724819844478891271627674244319140665652079972792604566785838426084564183378531161400659238866060578966021076253251853428481807905035448059560785916965322200441936626116773864171867550642538611366372578173119535819170835231895225389700783954617845514460764318366032641956729234929371447639684871826392418784052570735643217071804389054270368899871314451235050951963921589127330010362114286720406126057321500281573278852334022768465420877567378596344523214362475882605753504311021114745407661785124220545751487806016497224997729712768414264954046568970451363778974688317977774420673468267354691498233591514942181828281271510433872333630218728306638082698766860688220883773389357511599783147062207703520786108979211063537814145992351081745490421569789437288935788065285430178927095498209242280224792048392148332927876307821012491501273409493842671114583777305941751858987496612190662194557270313022595724753220515071305409029288743028057247452468430039211529372055689659907523717699185287880958970037426261208229573335890957402854580797760333627900949362189900147492145880033575904031558988905456298901362186231053426135752630107753044207174365219167088057367977069842188441166337677428261718302231697069367320858324612213077270514018379175123841655747500489183043792073843620333856413264413747265805871359224432340303229503704841997858061306778669951290955057265693752843002973877521321885544580099577691779133329447377719538305698566174958322738918759849533651362862435920549833602016750216088413599489992775101224356027561570245313334468121058073528560208903594559433924147102131687943548024196206673975002997555547929210559602149513641358164530530520759029522475949002074384533948551241679259693378085625599168632705028243532163580405313471809385870373493426090419490016177290211205575004833915693347651779859364977988904883624258945555476804436205414163662269193587407918876206660176077804293425080503334586171949206309097841614108466771615711895472685272584497067149429799135860024375396558862859821271677849936805466026951337293062532998810083359753286993195953733699835146860344461522598508445878177790606802231995001242689655453449675409622261311797607316514276379799104069425647542485912932359400817708291794839673143433039929971779701117156825333296649281873993092610023728637040525138515477078671464620336709136977751536655462977108979676067097044694754089651145470487989237061284545116830026552070201918725592064097673056095677900890120629980875493510533032720080874656525914580540613364408724216165123424280395613800461361894053954965478966534823928229775122225556070872988021077620395618740186117459549191996740458545388965369036794641916236149407733444503254413206599237528418624016776440313029137396711725714437719352493345736588271894683278733825249364678875727475030826522444662539411940400365171624369571955710999096204006798095642838146191519541314308893747220992274994633557161915516759797272937377595088690687854402740305663342357353733272803333521705223237763419832259420033745416861327365414708223394096663150499636154450376203850089846698262752820645697557796891414584619965661730688540910410990580852898699873941137238475741404138208467722885431783822374604848544967350159416585019266660738407953857525441604384195093658409363215308480458200107271228054851261773800310484640983864815942184187335458146051538076335847053446039148772315220405838434750333173436451424316111487197511185416790667120467011127929891244007119820758125735436550432818167215201977685995045935763391433296265954524640949609545870585583581851175283442291966868368116894694534998046951241874831940092236904166414307731216664296361523005302027217665817709035433094094221044609360633907091945206464565766947142881943248614229687818496034084164686268917325892504447097086244865254311880407762046992414986388875754404749642569960969828431424911655141433579424759093098974655956895861344413466770156594162246304899758466757237157792423260115989097872571930608554644575757128790690881676610485037376813673877716773499444403899832466821034154868973150361926481902383897515240997011296451640431658737288672413738966507501971639888737256487207784068555252974871463267075522485879669012202473034192312545135779176125340220012617673232663272690132738084383928131371484232543379354528631077758469681173370480161001003728710132330487084790727191806500080162050226721187237513269804201631793508861158263954297237860167727771494185454472379100274516857573876806720075108955394522628608484925819723600199503311443846474226469415905436598170340922691083144460827577103650689707160473926167840223843825625288143559993159839524374258546342951236069151355047209490859484757782706354610039566066070479716722671943721318192899375356105897987157791608669194934260517746427543343426950595782880084816008740580778595659903459692725888335017571325758156163199770369744300247399698340224715076262451840415581629241170172622420609870972869613903023405345861469550719312389482343739504752605109363859431612531131418999681240002993279386242175917723810831248536412712516576472085277797221085022191179993715842455207876865517086104922553746206074243446465430555763853188241679955852277775501127338506541634771441466476509331570623068803371155419129895159217674228415187156294484616806050954845066687747463168882566532039807892899556869384439237258050630592972851983576341467874012981166751288763368611129526564351950572650072932012328154617243618604010881612399005641682330701727220828064179698070649883593454042350471352651146750018155929525808350125130368619893837142572248536670456263116239278830619070705192022799011446228902694292256308195692652660130349854540908600588416183075538102922866779654610992624514500445936051101196346900259152069729111874532253565204160717786296194520152087787760318248381842653076936226554208643233177388769769745352336794236174586487735347315900537914541158282141981789283080776962016882317966553021919804355250498002720979178830466435143639270453873875883444660249370145901874447712326236305184824840143890606089060726170234485113863016837792084108434956588035675785721058196715197448160620382453490181965244144667086946227394932109180571751635671176162608515952597807784636918757504541470912577505986890188445732401175436139021708288501957227866478143000379316515969843046850766560065797033144042081323303977299509306114726632270990135598246619844113635106717464832116029320706030320691904559013651072417931145996493974503757873468052863647003431471924706346744427101221989023139889195098667171158370401176093419400887356339444785607118452564830192884482252928319758832838585528557759611245010396454579466754932215000583005753776015469736325661915191490339821933893431645258047979699508728833348898097295719249518545588948699976380931784931372467369013454102824783376962310191723491897297115596142796548596767762501846638083210143813460471652465132287096239639602001083053570274354080378327080469256377587180173897143978535453303824625661759119024837544038191330356080219808355936859058212205121134906808949870231959463844546942915960276273970638902614548382368523949914286020353810283537164605489449600813110942461549768390881303051572580944094327687846615162866275785826031284649011302463623343772843663704920674920915053979171117600538746141850043637539528203372214341826042711320910972381196238016906271483274714124859957929574851436110914820982264741785712493390797118101955960039636474615876176694388742762858498861431103072917294514971078461899194014887824088256678825065573611475966476745300002237989282569489395748220795789554289060409763360544871226291782256589132313890224865836724481569386482067018883151091312816184595666533135433046896879372920099031584798441698686973767307804667753472611721433823075690045553264204304372422106049360892381769079640218369306003669961092392885741458552774785595024279268872350213173144965728713909162670872951392893577320855825993367258369702776934533411859705747165769032855495384895025958041271492610327783568987807965342105774140504481090936590569059319770095649685301019506779208326614067125308967642662813213262703949272094542946769742832496052273309740046283573151513638994796906348072797186940666601607231175916919599557526654866077754372662545032326564320192608675939479076546634673959992679364943716457861027513782334651180336354807053097945889794134556400576029194626195416238571862946298281154137042124697400667355766170159151696956724826392708664076125431642158335230059559140814463604864538828301171559672553908040383742490926252055939381895883452253887834236163821610127692952579699540530170963374481924505269093237449395910149388639039228810524823455270931102909533295330607342761631646639461407841002384140790864860086671892058470001308078962354298667661343324069055866818177725034650583215032213786656803479485465772343215091483608656751594310618355060984362792621043443893668188650301024565802235621906557094536726350781091513573017835272796071624368353204177791544315798898003327591848884063754108601719121221691247035261871003277593703870487040318474344400556047147003205192909511572888116686479801987786916224326977491008594527070598869473181386487319218065009382474870797233528162256927526989342527908243225801353322899041755141176060010578510025684882312840899459414539804261243439553405637516276986437206969747269840037154593571078097522776767606690188711174242040290803309399937592696012356484287416501203054386932197523479279915513647855770807560064989650948276535458387765076407441102785422017925180382203031393101239793933207067400053389756628919322535891265758688281497210737716745515709278082090851631166846001836182521190177808743612361894168028244881812045394066135992047021245404875102493341837492762580404996841725080120891608795021503921032985707458648840423348228699538400960020097597535900119981686680490148884034486066614950298271342196238966703064654810229551714204683387098270875742941677770334969834788453927197233524778201822441341570680579743497968882765879587132535376199502579643001526626544509180741665247785359235709616324480254854141594112650496411008745052155952777215823365325472904835572897668645460323294545983496470946354742656199618586471128254806413441263082649161006561636227327797942720870502813596216751846847192648653504833479869649318615973473830025288542871633588324850399871349308214527476964942331629360692933890312077507493090630151527224102475783034891364096164717043239927711494659820376606234240416186955029940925745357073827262797483698071154249567169325380510928994570957738977591424028226932302613233183960789566646536213992881721172154779383437621223813529270152425500370045931178432222664633402889381651601262205749657289803982794690664336205436704278615553580363000298225217759775767128143896339601442450334372771528395406053640311129935334737663890357542281936069270889376078360398264823841132151643306116003953250289662495444426070296466155027443277418634305802950842611074554142229611836472148752227245469812463690405615111714895999524058256485758650592858438436479572009718323953901719257361380740832236429995686935115653501378896698214788443739792424356422382472852772372820031187888243065864404342503919381355226021113280931730981859264891207789460897034373969314218807377260869251701574798587698321400945445626247625597940487845126278473843836801657702858521372980296445072371365583509312768869739823434156302213802137020188676143590485206638702134074272214984525676284443461117298275482933207874271553549762026188703322143524540157070104163580631524568071046168380418932598168633096348698954024835055993358646370406159236580555631365073135939327599085108676887245588345596341710309334298047879530082261570864834598750710440168319503322798142033900966225186107490409337809037147973006542777249261862582081285830030764604222195161111634966186578576697073789802518920292757509968394848139720131744390255242137485671944607920646669567245335581224666472880625932449130281232530969944376480590341749376637052676235840469978138543971805361808757716027821223946794772772584157316388624649532318655294422257500998805585510203634147256258314956930092354979301144504334578906888676847995199794722746089670237580377993566421474950837138016186740152272596129962934630700074562655586440226975758479641921731694948352074994943861548051965091503581218639446768004742058650025709807251362189077994284833963944333693372244850737067246137901600164594337852809054052459470506372998108949780039967397240400259546234723571849612684577944943699460804657763216851084998502025226920379497728297995012815135292663351099514066015881951061647273781843131350173617594993541301382031876733926386342234294408511386585276013992315518006077038654443175955172535992830816384625816767815481357290654273540575762643608038199112209219694042642427189162159928871314372065387780353486332098545028044280130465531371873438972414829318739851972334938248996735454030662690394037991890399804121062997897898416298986227140527920771619727457025467500265456624959118679733081249784641475596061015844055854582419374513997692135722209631596088290150340310058772284087168689527016167575115713429268751329443579862882178795863922544142430217226897253929173347567209332938692595480827349763300173045411982838779331261770026685549701833154511836635189579034830413489483052143223597090079348858793483623061208364109161706161970248015490662618401381430847174018861271279363840133444831813905749417318496002482844411105376079319827266166419649157462053336773960105491876907561615410550339065397246768908886100484700057699358828905849008146284254450382177229803265098238423516959621735318015489335011415193504371722800160811346703764119238418259379568553585135916513360996984086148718013607108456877385350092833110301263196379475905350674700685964934784726619058499167862402823264496358313867523226374190003510678747860267873035835400038979866018809759357110041702470067118116316097553375676099487799468913606795269022562243198595861977137199642366406857098163749448181882273819943618307458544639250301035468941242015389870923693101040253999256277747920118298350102326215639264388376939475514016545253476450037222591638371683569148336585128070616070840478280277261458598590830508958756682280770976423781077158910547905579686307293696024619963359904836278836801818523409614959586864766077782171947745390559439886298062246639778390950340047827400156547000285546567980810281569787464267568534921629046582512022602936728240392813665428695249890389982949331688570533896619827346868890716638309629684472703271705259158896984292491126833217638191121270902832145161926035056955402621376074714928791045504080434971649347485344730006231839209423050154604302146143981165297389150361713819310857193408845540129576563024010502153694840565875441093880771162840779866988689710030882930144473145417351046365995689384933958297631226030265471356795305038901021816513323794512976242128614858586502746362062524816811117343136089351386092922401760966989834898927187502570180192742245166761417015879891067466417061995812300010394426839161380427526233124351758856539090161025563903491018946945868445578051943769308748043583535925062349193090530940602660058000418980307284237202875689080453048333469804346079919723985372342500038559622428257330142958576575265038993890936686531268215297181276374902863434799144589533095567652951727244360221079862139938667143234906125613109080790223275238508631004644087159848588855729040438734692318051183259890775398548792771200420168042531543438053898797078121614343341091364819901121847686713721284795404432109349970038143478045602797835758947701032331303920717007437964616390404272571001741628134380275661669231946251300167688689999352728378247436283033089298855576752324926288054916580211420880158181552412521016332834161009439907522007236151375226222506254568615521857357526012437803522285070764778402224217387712973403555782697690549531732485612413958428797655439233161270191683897370659036700190880722983816303761705678569344512992733749513100879332234055275530494772429858024045997855050794817499489585632536710692957474193904634220541233221511737569909173204216065196817360179181613547860294634731663925377584521395074502345255064896508838192188580990092089627559396936512653019783524070013278046418009979605271516759009737958537712999306780664688067021299643677375201068568815930465391036761818252150918966417790119362970664201376399559004370121119001436038700791940141602584278902396435669448434178128015946662398666347368818207563483951547691480135503567133560090680058271048072238096014066706929305912480186496591998506127246253108920230851417872289048187149931535148387482703075136384275584668645376492828232093283837859632644052992836198786402820493946670754410765495157947262705594830154802323947209616247693615743981217028436120965303676773506868613753141916359683088535566322353169867335805082109792049221212661660807465457892867805236927698695494669504255092506664828596525874581937289693566639358801885539406586984486638933823080041998916074053145185231579023025976222628293497172932106737075348336568185871110899081739199271480123986003878813963527615611400758177125657889696923758926309933601112171795550615748705359171866627134303388026357133470590801415352007153471632273564903133844988602744620745935072620535787124669059726613704099692925719302751651850717692133607773216642432923258160426388519501902043034716659043431019557973647352296012940321385291796147289853251802454987568605271254669576442426252892807018829920412768448720725254172610749765262857808759479831957981365966506749493410053063450575568654600325370863270656091794052181960579742649164473360740053004429456918361328317226219275451822899625232561886916610911403680630746356491032429757342882264872371128392996804574823598629153351702178892863488648239854958622183552107948787998360503692555091882796341485325108959429586298822843799098490348111728687028978700812417478901621346549104186845675447160414468792142902953857531728848318155680888885685212996751984754308472469477150526082070111445781318023677875220581676017635804465625872643719008609934857648241490549532073259671525202596400902518677680496211348097159552908331308151519356116904965362852322601315255539262638865444187220431219850267633322072545694762181351882520529120438580838320442881124785734671123192608069664418521236546387752349307946332359309179977190925265178713817545464451886686163630408112874798905385485899586070035880755031875673587574689887709558770364676275236321700454596041004403250307661234200670724197754291783895185528119799245433885056591324332186065077435562011042890974237011771099476533073069547897790809888432048731783254049685600996381373341083132209650039929947784187376705276720057239465488224431789270634279879979327286999326827961419812617240189791175487972704515475990488159417776355658315720571220968803127215527721496156659460559346061931523513803828240640461388804686043531751578701657971447567023405374557421351597855807025059118655838856893382454625504869242938036054791039535582075258852349074267373020582563024216591664965211303408094125198822684974326570394459498323822065863394265257879638167616350417147151580960236683963298872568408903196605477690479967203853671984967741037660116174425456647425266421607940826485427468681548001601651729701465938028195203614007372615416059530954292160062556113737825663254790795755810636359282434267277645761962809870530208161659492891588290690403324235537026662911969680686456328401233614910757789966884070025414709243390896602976521892112861025076227651196146383027857808170604174699788219433263610445371624329162720316466705606457873933898751035880799034219469673293931711256286579549422683472925371961014819467879897973336380734424919611576631791902730144646831850628646804921519309659504639447735136716073922477510055425350797822294700277828236008212010948256074432410627238232700841668521418621610446255773393020826204784717400633646866147796018276941203785190985805579344208551073265757020531068689692219318624399731264907123501346930660414161347202047089263021515628801611753648415556601863888785052213924417975790248372716381060526500002449232156708302994530818418565225354932498932569075290714082857347684323043432075544448332250959044551713783108676109907590974367733834000187372702642621472584021887252156098685194665913943890175157736708161171659997412601239087240538956126022510667395281823988985305048121888750734944487680553409022577795181913167749733145932424557443458597564019693511596844204687602042193937983734342487173766642558186138702426575717129249099859054149053157786720975379861581279120855630037648914557601504117995989596406499210789668039376723908975099974981412449212291047307006633607599699304768715216130308760712769497738838431561129471313012101732462185967911271273699900519600169207687833089510889960544949755009285970110066672118536503866901417737176466163531164425108476372026067106017800963698259765569111896157275906654333069242022042331461702190113661443032353963138624644869138035855722832505385696863942843091792686807253411631645065517595969338584311079115738282610164381263361233109636541851553150130658536978657896262673002358860676896296055397322221975470581269384990909172837819636209554350030293387324801980078349746956963534782823006960118283531325071906128182666038966034232037755963166097428494694539967895124484482804930890726286698217350774135330142718651166436068934719217423222866622863702111810199065212226746777682583665363877746186916845678038987948271072368198276602046741149545107135046552914165708085078395622484042713687757790508158917754872405479951968231353486881980414585751124286627291303603264211740692470002866023460410205429023389195474879857787108571534462083009037077361172445781896717507201658616657342432811422460287036728268541689893063745268938726090397565937726389272478056900900467207950898401045622497398594087606463692803415376215779558801434180302831911185668559538633147324721263100583509522244692101118603959395181336816080506829469129059258438909969386528158997279944035103283721505189277868017345848191180470222710629347939080099448739996642990192643945190303620915019545631782780896301996794415072373112026250005386301302594014059440954349359535004856093001224288849726692810772167108122323799804500362534705488263954706217703330049181396458644195237209017658893528031625704142793118346208642905813403616261946431160473520737269710258675677560521481222946478686357079072362487129157861027650306757357272723198397043007812390355684823337230108464414653273569174500371782833202312333644742324481610422736846551971520736761757012152166933457846075201015716544689056404633095637607869994386932221686239045969822698114718412938107485457785143804001543654759177762243370816821519453740137486142034616187496996973782671495939239271431238831333024109774941448170913617310227852798097692765531240162961434446785766193573517601539802942244972433458358589613380391711810519527540133186152385354980116849651103275744461728179738188834222051867417551375158207727027381595198542387769886128727424654724908548087710290041993768918575486403128861793471406781877428315229870918563932219953546229693795338519593656360481243295135017527290758389979606884981761683463156174860823710630677734088933304288572099539668125049972108001005446454956712695190189166490841320024621965924939581300387285735218860160039063689316572220724520965498104160341784935446455344980967805571798191223684880958653907738356639135815947063541077387517776161905703181882131635632482326740493727688642762261568811296071012891458884610085140546648706977833987061067648381654087641689280139208788121738146622350009091591161739678671244807224706088692624635323101307785260563352915376460361876037294531776967769491437130967434601226522359287327636716107853493159106039137597502688702794685395005026728580081539275607909619997943190268613231536314403365245470633503986292421802215586388533391404240926037946527857289403743468671850516216893316086156495479186452775428597759648012105617712388906842025768494208157154349926345571486498461472979507101819651882668849782290153914846736654353053280083690392942386715120622574384905220393868432103781066907541508166361059604071885140743718166708757111652111867043823703623247716977313338261735528493480273031823768035238750686538152726982030118573258757886315859248091983454496548519177306483188751752197338874658484792373183271026349237304319288468106221099327504643186597629218824186644001441279853744057365970589093988006360691003270591160967955932743701192964443462232805429805138124787555639300720329367791099853730636994240949060324410961901086970896361339436953531492776396570831118994201435237718814069556344372673603955234181980598889577124718900067983745376010623701117638106245647880845638138516675021377465142983285795222588341503163223441483905249111025731497199771872568525896412492120979559006387619233216803116831426256983054904456123812939071723834426808651898929084286420847145359907268165170555021591145940198829740653857785668255273303944797200500744544309082763580945833686770646111241757535372827039480412411999116999536459389196757325619743695551608478566484246837783705450104688614491406886081660650761185579943719347424359597199447013345454156027485317373142512525688959493813540092889865759260981133761751092193364581269528129629945556746261463217205747597539431806426240026718834307772923490816840890617559821749497765235312758746190653327622758236795784383916425170541563161680857146735827752319667047659337120691619098668089516764346190122021877361025297178825793568958139045828582503559972855387663314478539373654433511883850360869619600804286945995971890308227220071018996812896311071819023692967695242624381302656626368674801587467083046496389444501676560760554469439942973673311327815933143611079438232260579175504689066987808541524142072097155115787867266759087781188871462244273157269388432554099002916121341676671598965140519926278427793538022088808486864730534769859919108611658874869689076130085046477250824454171805012146577235072899539844409076464808485016817388778590647240433229892949662812794718272034015024730003047947668224648464372291584715590039513055465725332620407461806704299639991590743850051150939850906245826320952936514731856363542038781948952569575635483181671551438831043841164123915798151708728923706874654741211432174510537993595249869567364037224373613273262744862339314241277110754178650582482139762314574646366046257056270639985503777442970525332583617935845499479876302611513177483876410680429251893429417728472338722508525272032023473545688587923909381215142549771145632732958693900334424870732121291037321398649117378445984565712275323058883222395499421966745413509832756982343155160717398451774210956228810981839914611764138863824303384758803156470932586801525588209921742195154385431747046967951352193999490413840374781541282829118476276030087697574589920935670389486345615781278032901861835282254630475656874629251501108439053185059650290558021507509095894474843200421479423315058453806012751718187826726917209933695927057565262114293511219019116368900955595870998112684820044066580108559114212349205827190427095555408620373361862309001733397160800438311905864419997133657016666203999926597437016747785196204283969906956912879428256330378186887851505551626603462669685671775586786555572900231476582530344737888276879962379598729375970732249606623733547795866015475343622778825700015247374442838471966583887651672201756310488064140395132798742571402737877554785743223969182782945171110891477874145997317967940161296630571803585970058470050746364428922267252309032103801656347249300165946018424910109484870448802783045926162774742942325377376990449200026435125242387555738533040832318478147718581600851068954306037791710129109071047057273407672555550488211995498529626455328287713587966075009185000979341792951283686635423669061874078943667235491929832929762713473148843427276849524988808315231853269882558973140509822901008299977617345961641891618447050454040668478424303757299324606877418061338063365362443223957405058387503506686990682631760399752079373512323639469943212174382193102902663570577723035032946303365106126767750709192343916023890832226457307758926966266604330221398118051511741593427437876301856235854238699828460165508043095879025868152507760951295989473268994950530484691127083696315805942923326789473612238183655800650086207220406882883785687814575576126513069378229116568050302668399429878882543270537250118853117451731342802660403558408103656551016603622240424893834260720822643741292803910300693677780643503527407848635125365194631384247437726292753365310967750467027516223380555896443692667977861227009880295686414614392392744044157382530511156635533590219752514101383938825106371837178243201460986857157370433466987464544632721672808304327733501140903239940632480585870512946542248890293049104983667553669689562921590110252821401932758397337371224166853231571998539410411267528919471691887780152951848882415115724608157336803651063009659186122964370469130698873891002704250582586466382044223044593016439372542193933543798085998666534890006680237253800657349508936310852607412310073843163181982968257739961554048796425205332439661717851553337602846972050290666160097996037961432200987909314157977943114933170762510606415255171475748366904655717669934113454869361640053990773649236472808848486759454876675227425791010247157443611015512468376917984788133389436392901024389264408855383420179321045929360141224594223015825270420519137989684052857340645458026549939297042316964598157272428687417552081438726351738519569431085904475854906543455390520514477103221873547962581658680243626755791809569497573825524442109327912457199590179240729448702622054231105260829484353105903335156601922499900415841079053636987234425216356433250418008083265464604635375233723744719348375220563851565448820195297903068390144088224582573646665948465011168381446657503055283365782624781640041452153433318220031834964131604758958813474120760557350663537340420473628727752500847937407219261337736463338687822037502472834440071101392056257795636361593891299038964488655591374013605542186668645515891509324855590212448595937412859959339807473020523189698712186985286948713842518047592609581398993675130512814116514403736846252133463601092740775115262432021157368781897893593746568131379096330489580633489263272446603689870563468504502033349642009578835697865768287925682101586838530251139895632322426921176841406878007576391180121689317061602228326985731965730817367279693100833302196773918545953268452010946249794929989115934335019158014270608079985540518663143666554059532147900513212211997980604881930086770838543641828260210431571359967639473840663391286643943742423029893992533250426844368417799725984521713574348506159250046957530018278320331311293241009468469148327811004310433640906725696784543121415752464306887110901555212166617241339996199319622518954091944387170532673071592705819782142733348829680504203452565787079116282061285965370687456177940507373756027597528233772318009672812929451713329506833094044445596064021727392223017198620102956827406424543842130896136695751893523335688853370255532884617431944320492116455701506655859434976324778930953861467577695336975525263541128332047157006117817723035967444115587522046959625709042605126242958882488904214498396761655314963973842619152992399121067588313269366429347309987447014036879674505594980335537539596625434697071716943535688418561023611695699323417689688591194613767969517797028517262591458262867365365149859429469872595486516618086318015529971563923160410552898607543964567336446891642362740586319971343704226515513119331882836818455772219130999135283746723008431408651953418665249646510689959034495103672746522273052875448948613670732998253553042423228405991589682856422914820721800730372128921570016138728756609737090222485872249682098002290908838090948520681744647486683064010470375923611292423594177158602723972526014311320638619408484622141874433987899074803418673090471849522270476273162613365743612380666140153640191634685606273093281797716541434022942833923175853044236399983959546366581160370106525691078154712681846617442209123003979052483832600568584363015130971209820239178859235178149636169722322427258003557983087345628336479548831317415714529543770972682077589035521538191194442738289431817351600214136424259874848237324200495226848718902248880241646512575070371598024266285764550241685454675417897567010052706781411913151346623625906232793253044292164799823085352866140509552109562716694215480786195623922716804965453614833348388968047899148112127530492043198046289830050992586796083173663510276342287066488901517653055749168244909561526691868089317439059728287177590155002888172404487894089899227532435021715342507436900463668214812460538741359408808561989347762789726786722125465772877496565650699171346758264757591046693127332727362549644829047228232009194879249466158639585157833922221165273803882978999877761385536066852028025232262538083543039988868394465020387251889596640323156598409966876696900485972847479382687456720210607931901263369492196012015110059149449438127368350931384680788895707887333806366024675424950361743819309735322271393772854950767461183031354790685828303571140597235380144797786422356687868144614082772893660585815099966835839513203087965287139991759761023428079550451732924961051520279271471718276493628865084340904704303459497095632174788179646462623751760632366478126908266445939667843915459124330816839374262949231774389778645163868459997769251901020429517288967646204885330004492008188819048499726948568316132519956673211537857233502757682913881599026638941745631525056352795314183296656938487888190703749773425936690448347803523143408348925116813107821600644819790375305293382515675266175364745053713083259458274915030520156589549821892183450685941250479069585719474576617531954576871806420689036098465369167566992501330027736530110889111871640036144543553932232542704695108409945030044776885173037500137652348312661041215140980265928725861289694712417388079592454475139580164682612664422731466182472294446610846692893561520303368206567193663979455581417982986355089958167779841495804086827179767251509687330355326735408711620573110405989460999388459871588331164844319158659845433541623465804137442745320961268374743799817967934177961572634434427226384958896479631345648508360841944211729905980146119850765544089263240166544513034213775852026216536472087302478028442807996521143751937537118768513863480883983599770999760618585333712690785135615650369009778034263121676153002221186205519036350582154963576484842792875075256856580469654940116343070726978435699017385495389139822277814801441102706161866059327029287255049961834327470565719081736884968269971124150483310385769499360026357896118314198595179647338769847974149534448067347009613589461463804542790414411487204136263764745910774351674781624866751576894603248435895763306562120424312880583278247275143119834611680678547431809162371807569907747176431287632673140313437361626506144781234663526138327952335018884976574752581208294174819136150480777500622185024217718046629012571509694953814313667848460754521074935103018877143792116496853699848760308332243231511436339191346124045973784684620778062632075174319869907667787664888036142795261435546334622490082697659129064485829511703329970433821953784478840576938347107505784465036604432282500757613225654777258954601264003165216907700314856107161152439920624107417174287002559728082881904559470344674033462614150582849650967714253287844763718594099236133263972629159047966367318291489516877385850638512051054766263873705924764631627773567591228202000881080055388199471952364264498762635837273936196927147310684887972592618850848478007112127231906150052374330383354027499989621977097615839252897840079984706072155144060857162318479940570523235719553313153379558267487274105299083270220108318974527306861529773858556244525054820837665755447230073110385059529693014603766891994876642026679644577260452170247814556120863249840084562205736483995083435460703396987532315127105617562438840261134430476282625003405288628448890938324582883038324119313882161837281325338692186828415749043812537651397428666310149058038200293127371687066585101618485789829673920507999539059877704345829324704209608719528896958005019013300176892734030622404710523530752288331916920236225483991119458552513736377699413440160764202239886405395749186465659108208092273683177110286582436815975349743712057522786079753153485238885065990611943842615359883479576197648775152552399172589001089894303654676445437018845280687130552335641748720014222789644317631590526322494068680389819766572670476467040405301861417861910609225118357105302516486107028211012426416299622829976465473650068560743349972485601231458471839341348580635589130179885884454749324136579496876567955212513803408625141634289341523624460059144635729728817774497427717148018053823559978191428583498263711133243988802819855226823396165839945323945238329988276013325713380689606434048967115913289079913433566762544171930842424628529171676260184567760589966938012377168416829331856715074966206030155748970407732696208965386645228274697975312021091854983671257583585661855001684872405466980462925010335284123268336911856509456653408038998314146748666757270790107614872677114215964244505907700379314875993694410811669235709697907769352808927873656295646513203987079451004799759442988542199462504933205596371135116810757695298025084063327343584275702864544503367369964864980591653983739744484705242674541937708345887325579588363099863024547273711938059219201897196621735890587793119558083823280403471507389858487775292651817146925231208640215385461424990683530218704651550647957654587533793477597748170042449995009366508355872763256793577136227066687963861879770348460636227705099179126884336580433931165274439592408658559588945705532850102469888130465272476844254819385601040701743556741941528638861470421025645828859771978769650882675391487745526941394361269491947208266313347963979445276365069830990273686134162492111526322059294371697789525274888509988787608220399513505549409990327641828429206853703335464306522463412677066556697628300231119471468401658055796730785977196438530783495319294303043021532190865057356540725885129141506127101497074604994346839318308036180629033294939569367130052543790832320507700442580815760486024469388359470354905097334763030982838535524529212397283572133092796880577600141598935566665044972409624644376853543665570815549514223876916209865726086863318665479089937635444607683759112013527721716414187303033140702345160305330120284669488753535501848662227588574498018748648965998878307459478692611432694306532556568697748670708302196398584996852504754228863379759355505177013973747580719389462571302006432881316032631566455379569710568574731074926963918382568633134758210107483144582782044631128576673596351355618334927797714678764734428055668937976347542239413682176758618691900412730976821830518047972538532981343218366572979885246495802157438372487116667770299434399660274307919550490219977826609790906505833181578315663033518774481063880206902660183965077872543615984445959286513533737629588864384103843339975735219151859914746600499109831300653817763962644171283016397830321975637450544464802951453134420786266186294200077614269148226004944759768688709025761487078731550368499586993056293173107759442534010010184449552642557252258839943393498517833399889927233692142216368688605526804630018948565962220520906614830763836456588346380149286818006700553106713638814140857769873972907765086966946582972898496911070445887333100235066834003213216701126292909593614693320027915515768061487072833214119887525104706113429426990916150337918024658441560449160701481446833875467236489144112370800978387794880922930589042096162843251046308395280651281350477467487293128216965844751474077813771271578470729962385982251844483439269863898909360534801870841532322397068861514427318579877936456763089637872529015688140661792201851518519339662535419916969171048253472373084446102758375731735451594279460281400958323043245080727510772519278961657749011636740121629584650642099609567419897054743824474961446345623210852448507171492634603748802606963302161678586378867261042219931280847122752907127988519520746577706456687626785872415902080566729503208705033445067136585356743928228614332479001468524212711942915661516389817838411035863028059230766510012705563625535144195002647849970180525199986141348367155158722504656915040189484103679007808423729187626044539640450296079600939717211687472609049470352104965928255502139238342577673957461096239592175872049508771350695406141072520062990183033229722931758945261959900987675540799785194356765864988037237711844355455540883102822254018951606492477555556858231777955041679396773848012820994855280895770510449669337767118853521869148368861970589486888440689231352215232644270006066825276387520037836059395732197034030063641598138577287702493893658529438931949174477449890266125502871263933984635659952777093490204262681271446552708496561585792542964064813267320524856113994231233816768967193282164425844133734625194402127352364358706975658563289464574092849651369259637093845202173265473188623170470351460655226323661509939611846608626140845610344312957802610634102829579989407906017604496057414342636707829481808415717273433211919123006547896077605503046166139714511975209160874977989525977005248393139369396465775988270127249491603537466297371813453208817229827223794866694676749591717322804340802993030340807529884049144023977297668472169679364317329722285814488815042771080902597108169141588447638665890759411629975993956541298529023676956015580257467331346582776291386965260279206201887600767034170695206647935988173674464708607152769754339576711061921499154293267860852638792542250758665925612544603261681121731213596561332146066574887220808599217180374045033604214921789062477027808650387569511100793391306042194837481056455504652114563540478206948582145381936058186855060236915375814820288021175450761045619991772623825456916821841958541707550557275265630473642484437270442883004107186493737374825524318911607515880489349441120639089822576021196169850818300053837773919330742968579447407309560933404881729443472255511979124121866045740408163183264215341688497731909711273169425117705124011314380613160643967249773416478848416830154497925898854991941019924682289361398453580937361799630305848219038710982273961409153340255217675143772982886143074357825622914331432611283986817155824202987345666423038703467224440141271231388781055290588006101536390810537199948626962139515471151924120304311573272724232410560610108146268577533045943014361896686482328931172610406429580579959119896436193550549375168539661698674932062956795773403508962770187011374869337037514631174020339122052414339616099134433606650951544341956754765264687206015089861262858139512853785927310894377998589484035345298529706555010403225327313215057851247120515056908745749933013834847600371881687861914306062684602082906206767617715810098053429605686913526573072807765542138703009856165363612622056957666543858477200464404456259594084020747897069685574413833943972514098096050388825163604296114717752329574436103778537906076118525955450257690821195307295370738735729302368935685222680243527551895344608986669974972871302781226534848858855043545124076922477627165690922405179132090376865556258585805928844122451662096557237630367324800990345280101742044361359105110561683667878294125419243532743579903314712129518940766682864367204448315617218521801146794275895587463077380591898818365929509120181902760357063896555526859319448343576945118992211790372085993398035837172553792957145518382937699103589819538542342408857223712378132937212885620585424362742616375006761073929341439525752105569903297110571743668996160189078553602572346899740157109767733190759376149939274539225381275027189110527098311749077838770604080472623341661600502279444095743850433934368957736870212716872887983603857094029819532463416756824640551663486656243716540880867552883406697637020113250252459315171127297135509378017743080359299686352976938412071397129450989074736674004524830892640308595528580235783358329874059645986489404128018207350063004735101258058574092999298038669092930415528267391466272753244728740362076248414321953491432026357243926755681459572865027593106230835960787542846914297113734158277793693624556320994615251189894882011204242007383102553522244729395155882900583598992166205443264456652570605500468122246150128567158407100704093814566622989528356287807600697247798899535709283211283321154295919184630722045711241395869673801306147822591200234618518811374731578947356689865443595859641798389647282653364398723143861961413735240402370762758514682064018634493876247777594961135214007888998004412516248767302209672754948354926755603646898682348214788500567248400945721365044460524646170483269334265151648104050607685542460758961482901752205641768457334840204706248312574792009335431053799575086592149783031619008213005688484975844696638125079445736650848785358472129906144467331441243426678154665705184135122972373881361248849048417382834399654284753028445726934040505699922539845927251059941972310223848940164990479235029896058186826676712320949856428572481728220442738135647904383119883489445028107124100093029093751441848247653382910509518865689660670651854390945544751351076157839606528784796079477818318819529145838033011338182656722999358061487043358901655192170250251277905939558396398757965268319839246274826364572287824333452298513056408623643780352274519580794980284029825928619353220629041424752415091773603642693055271125941863566065261137996984982478316324171810097751655679050752185239309168654829860281367396454298316408378259781179413607847444615972778503338695767308187120293912190507157475000598006375038411445929992663114239112905499766421935681056802752603512654295805089017303543596231751269765893160136354464428455809631949121980084954153368839697658926894875945618425395961408433646114497675892717756256060618760101566864026543513648889280594645969825915006714374583991112425031725565783643650208104084605100522965434971523591874085798043686405048689832726761605665895759738402381008388819011752479322979950560018128173024057604108853454207954494510108926460141324444560516966581384790305850184433043646952245264191028578492492028353615872262636144633379605041434729167497927793239506637023886016711074693333248626156725946022172847285541644001844176300471794339489104577935433372741328002851633978097873430692741553995237516615880637409491423404756639487011070931981511729249121265057793270622237753187114212521679562215770376943173627505229308407090212833061470435450318093407455768865669060994993805082893689923384276022696631402277843547493125859795421733739038689142983470285520409195879359676212074569668552478134764667577086368659636114503871897050706367440300433775255204057051219709790338399470832177673384129067335146514916478931452979219019234466145790143885960270533402100643489393678512650119668114322349359104656534454809293344974373328215785774378717810079998624495319095129054358891299781766709976418509890202997926856368275468269099400404286338294224795792069588112163897504057895857607701671995913682118833052204297803485172832268797852378544912873506999328041973550439176863337677583556867179452676288764390990968651589206526011555123950736514784127369597488647934380044431728370508704610558266416569987405987075125694514496267486242784028705656201300101461588862347854119834172646340215283517488431310735066559817282577538501875302121829061143706595948352342494414881938621554561963805722848045619736289317746856148826124817025986206524657896243030282811390825459833048724567059494077965294989340526670758397288658429913939210584239811582361214967385050238648386841123477350295493062241346751142905570126492677580724878991283255414702787495571755140078613039428858217201768576075469431077869405385536213317208397378917790293432572506397590357431000284837029920902948862551123861016169871830046197330790989762468213503555959604636258229439291661491989990714179072703474151292257732279408596556252049837111606556378434375225330004009352447905415552957156974566061697068482189027627424864400926201451822275398017179526111932385884211569905750180333155201544586581596545695059925469976403860784775975715013067775186668812606429780281599676191423210009016419315169734788191305752276512690467229668058880017810792401956061406040756068417024023874109196026388086400920143648058051871732132440224534642380562494038129754231655194763781566036223993145454560738174805762812835280108465610450467487221165273891921358557474814783095807697859716764579788495965624090122692004002132703631024888094441075273872798817614610614755360027137254944266841715988590078984814563931848914089345539599630201337628140800766191705137875596870415417920004716151116358911934236365029063911140249227823619914524769588188450587850129714459492257623917635367151027308714941145349697857323834769997848888389810639836107852838008827892273261625455764426929871511983748124891843505717380786761321663212782633866446767529100216726206030357861844975131181919936250016833691891460798494600161480449084617271687447775045991283111766512978625517120587913819525475760931767729808832367837019644862065074828185566547806741874580945210537544477612069367252250430857585486470176701830942628032217406112364006836269254241007338206522068436668613254371611723681417809194004360681866657513138614168594945859785025595019295429738495524118798007047260338742875952246729218564587874102463318254201405351839518286231073156328853798529547399410659235548655314368171387740429131309352692101566835208192171703822086700764640903227698055410365122079662175063039229282787132622515263270599606912729028637897545440273750208255474354609554477806844198788664124929537895098466036619971745915309902538938815385755523975446110193207736674352224902697069060152040453130482809255423587104110291909262521094858881608306643013910590825226572801563213474486374162230112405735917794816071331600332173077236018043485790542603986287236108912881292785489085170288580055985618413914523113472408194145635192868304194854047887703432572953052648472859447521077259995834905444318100197443365457437167707256416396361329828241876568054007343505102234707963642039311096496133101068294350410242974261361353617497238287754075341487919133814433667051645705851607843496653628333827447712644820676452211783950014147924281387057609848281042829442348776737114677594743266962575972706848758667507279546479940070644755588293115786386831818676565248549929115209477847567722861965960253742450464353664061442065353038181958613878432542354236867933490661694757867334270210992025076895099147475446591674915361265428884501355814816351066548972903339984907990934181720328495862085595232578713665875334417525104366315759327702350712359067015222809921895338107911906587904094528474527627267228901773309848943143652741291697982198090621641190283152944165212859995127976990697463450820964016744331516578859792543865550506336272408472587755734180126687304000652840017804047030752242758019069688958405051432903329662352339698153648284310617500492734136716165105343107851749548598315891157226386575021463420417709209161129366091089096019135088587434336586440018304398035771295338752945756515824851010967190035600626267139579868062381475133704735374750661063036570016083956128406402121845173827126645264666103698118395170121426722590983759216059806446101935445016417865059052764872581846408927208318521698043019783115194176449315335567434134361892008368267617491024728281885105312795789560216002443377699341593818989945672624423433739081841157265972291029837600001265190310451002355209807439767313497436062905042970292950279426112216434857792608129348643406744094310351647045487053307950756159700144097375537539846381735516666327298746556322461922261794098204764936847189914947264708149864450079754561730935744094176912254043426041511077981649249574805324452614966067331187663275998408114285413821681139959245033086947257311870377574444095303594509195105767599236009294990457693291073807414057037782493011244064397263274574309708287372056688173720530161348855265689601558883840360703334762530078044007822407441024615617123375040932465814138155808207635834448218220748305875789229524629372685033552862395913367709798916850979310454933876437193799252447170880390542605737173249493566929243540293905739948680486994727785446251393176929570051515392076990498062434218701686666661456389564614244527033607973191193320632650815455620442624212168361136930077260067371520558733922431201958652459036193007236351573998543360715746964967773920829173236830357318044473804006058126637861090073338614522819963558853473084931176422740852384559537345789502263954107874000330713855275015284099364754567916993447699353319202375493996043361476486903850078052528545736661860659640565964223467647950813959626311029581388235790700642419439330419738479571551127345807931114201998224708098365064737442717159462710344726649040485323836300255656720662189937465909954685313983194902766984902908056912866357499683465194988046602803655335228233677888513439684892126996842463104847533888495195357385224593063279659607792429731862620284114924998193617677663990840334582049220337243564862959309626401599727491464342973693655515926142578005307647495935173239435871472411344374501567541195223092368040883217819894144300764740489306300368256251393005582631857907142747483806518646722446533560235359155907936374110365812377999741308119447481190043645787782274343563655073533078324862171907950372728930387403785084962420163857272775155659857825790403474354630164824061432852482847584756953743844816948005944108645114328971095783340459151558108254090078658530452441187796720249766727271899538055843754816980891213359292298902480296477032832781373179091246841478231964270973601849971308136122776861662222405930006892151477755779967357629120831957151117685939855308456145052531368200183361532356638518831866410205946116371332117982968992769088254427143721137764996294673492367625518039696684661522836569199195309909632603435122037252827746073008703615001635640411538207071940177840721589543481611772531727683651841525185981827824489855909995235261338214084590920384760509339412650722346075698459546486487851322692815238041100158887655289467762765805519917169299304878114671102822910397581350628750620486202035988918889907277138694848477564064585026339276075749297397251898588187674930153907696733748058975599187360761625588403647988577164133580312441803387696886336729271850213168393586937181829643276559971506974469891501670578335418952946564787678748472614720012554532423648857398962349612929724226249175014638101076979179159173755315645690572479733924077121354436504034149439240940454006841846717627646146195397621123957662697219099309677812223377156502506813339332280317246798090718816479041440497227355761504223085271108339856634824886850416001421381459737033917231294195324536392079719209581986163959807380293257239640885130986555725511362856423470869867249355429159995091828430477982627523847714479508449056892994093918566329437036368949608491195284479907812475189158483363372742145934905048025730582847961084412452474883461657626650047297811657181123841889045913280118475541958857511611853537455291323065982262392992060483228359583435554400062472207033414577887141053315186038961765144299109266413596729950914962004325773694859123520949477109407035459666408670757042927919078381418777428182322598802273631646045597223263816213222472454038864135883179293437525005414347376121769742616888649443972758862913704537764326003673437371727217599690140980065689404411212119388279595115177775209937736862045176439698912797779661062465211606054463572251751688080790257159574738660458356836375762945121341575595953875972896154783433983663611132628366338150460172879145258998337242567629857455968675697024403274523880790937273937675542029629468838087712112633127978796278164638053957213081019290192224682838287471987570031546654844231381912348880107816428395670558555215853023492276875028520094937279048684005217202457406220593420047434308174730489262422020440670170255056114274940838890352007102954262470497457979588241737702379107146183697234651409800771857183209418844579492526985327344625369130932653294655791459840920420570970894499607245096600952022372050607915415524892198873048305429313636333007677451691530578618973040403972632880886195703464710260507296484579994373792497706990939930179104151032604645916423748703910051059911615579934449714700478601308970300135596566808065254531096997844764299433107208833442321346387082439401755590555465910626499770463162525315011421599096837019556104949116967950309339219436381612403083275991076692882824323825177911574441993387056782372560891647335372612087182208742702771513296541924338035356374564445445180723605683057464925976945391944197497750428128162457241693593597626031770962821851511928214043234523595822950118800402563012404111287116461069570004632993330030103701686923998708214609902563473844999912491946860938018978310185434382685948943240067900994937521497405947247840495149567821881379941168268995604121966776925355469124128382926342318988459950237239980337214026349735323920888835757474810079736624713281024228734710289159940236942245340167476869987417338412143271732109827964750194084842550342104528534321715335269746219811846510288334861533135950003352161071623073591903991627894636241178058499371840921919562706156842977399972460014699810783599446080059567705394007517964502408890796879456950498299921534871817433689500742381388223144490466123995911812723918216827113252559735747849023828734868606301890562513765607232060938751775491654338995166745372166735779798012248336425489215005817415425691523255763471550906798186179579377289642640792394724457064021459095172688285629523611828159802283589297913324941496572981734677271576362606843642398366343035754658371099526488484568287944666878711893285628051114573975713175231689568772402847946409346255828237164173577306843850291712035207450118420469165106123818909194045444427196511649675450772344670958657936265880406703263885120659512008937036932924480746021425225072802186550570492715750184980422458981196141210507984088920006103264731686118817484565912052436186926846434985900012477800089142250933584491349086814360680194757369242503504212504731522994491389552802281079367542768930227224973694967792558061282299099283108960719593709897797689573549455579292955221507686526466776833054352429370215742354616079525041723176658612727778971453418783749600152151299695178808742067140256067920270051716193835965580625553217499977410577033926814959040100864415227329232208504762680546648623978250002716586005962687377176061874735811036642377321014886948486315572612617884253750460814989748206536515195520795442309790141729285089033133765646923888460401345045896938977406266924165914741549657260072731998393831208605835222911624663039182108960764632155132252098838482748157194798055509017172788649583351654818559861618120971851032362543058602637563622572039067516731637860737697070312189905420884265620950851149990955962056576949244962671792602424701310179310505524145466629400996047474955232922567276672110386621412513754430364243534944326190452827431399153590860801584070512428377558154817398453578388046588029163041180599841006828169368816918601846387617895534977965985048631466388446060766375449135156052511926318785846128120724683546239706157275704515143512082595110741015194033359960092105095680701578366582092886184808768561970053852944685289426622579108768351155143334875768392291507790609661155613145553644213792242880598783880135196455518919371616791395313312748603781028777756801826909293537376507193089832714846465753495339509797442269752206097678371776991281862240445466826643266551312691448807701796759422499264757087322653742318391999338333940226143759800390537867926809877439737844919129642405592067993971492924119164319608981007337502946819536228323925342286413627612933942130739545949177169009731666494509266182003389111955041675061551799083565288826569655154447106522203245215508163759548474448224378741990977488931507321836838929201811947610744523376876483725550759971174406351200443553827568201448014303678844044651123680510897702145695818617928617750588157540036601864627316991981647875818038858008360497647160095480095530248585117922314103860754503941988377144738484042542447863999743960014338009451086702470107034333214136312641097383037330990250355149889840719086029500603478766862105867838769902604092006949972713242905756654013659913087972274776510634272358167002592159543669382470728988120617522405353736975718673992291860473643785745140932947228527741425750946051019441413248078637803807281820707862426027037629843255010626785909305908774357472579631573133959100386857176219599093152388045071451167709456844865304396156960556988186241802625955820076099953837888307049336694649490951281797187070774913302238164508878507581450090844102898978840703467231234156644311325896760902451295554341080832113406883788484238690210012781807045883832940414647265121212866647666764575223787214323149584974793243545889300581019993501438368524636957704091671545805068193864739532940039862923112858949241508102669764974859991206668778363774918049426543395326765672406513406781498368906490114314641543115434971228911551371647488461180496050548959931159502997825265386731439657228035344686715964694780045567616373772690633513673571326732625991691133696929179346996488897523009460455945939583557027236148321462178950606151455136177053414616889674078403713942486663902667442102321240861028040990623095370653031131972241901759959995965176687004193956582389742711963255382386083918999727354024436713135946661923406178052459800535619314178741744921541459410733008966740397319231780343186480494883880378938423525897838695404265538478696550059028817197479201323400656018056667013037664442221717162919624364324013338472627458509882653214892431296488860195760767256348039334974698161444275358506289228613028641650158371380429359128923690240803808028618616120004201647879874420489278274239606395103446424071898704885214728342238373195473570505906929723480305708980264022566483059831942666811071856424073355968202763146551232100288125025953877263961031553644528733172873383044666863995864809912293239589452257567681628913774440986721347312470839604669404604304530396214317499370237684244146368130186754621349203211556407917166261661794189937687402368549138762430389181062240922744665198840626323412355291913230791774728117709416684772345745527972738173241926723721491536952989815805411199573583868503283934923034087727827331942371611428948047748056805290356265271113764004603336652463067425679543564776067542689773431217532371762032129479928180303474559718195594924766611581209385854433047115329447995956299264194241677260085305279432215574831453163397201302576662544100002755975034028781235840979686694658450481892247462156262200892575606626789297654859378697650302056662848142063543854191449970522194442545633816443755489716628909429511988937155362125467519077254825874542644603402425448584204940687220865110691163351011344225142208164095574306118740903520523943832451298939251414092368828628524718805115484370196579785893114983685344206348262918970339641822770750766236212837246827336207085070448619094122162487591870441331236772984263760142291290364107960634836826706384957203009021754289256378104187099919050343984302863929639418735874661081599407986840984136616832342968361402455808936066125079868480365420544467949794031421129419622907630101400531714633497444887415610742594769711495060825302317209921263669345268683333015506816394995375546390250447081616494711358307311690559390768666303046012124096786686721666779805878549058846453208519554545718682541126295404307837124339251015654495257022279042546775216451100552691078569899256125388780923913446038961091366706581665978675422263132306461333480006821365550435159202009063866387283602074035785097358733314802265983131925727669330248796099124609184554491655779872107925863903306608402684977819101532029237128551254992573343030011979149469928750325296193679368262313390324939491851074993855918984939877603180283409982702096928599277339545823643464699704732928591036864209501644549745645334134675318448157837931808635059173786828822748724631058905386539775139924113433548232992158556376455881072386283301362821454178690866590868610954388220447450796653352656264240478684367828573745276163668514519453798694196193853930983011832480287826517766652058113552112409289449550140869465144783537744263789018383126639938701426302310761395525906739172051145600942341098952811570903262015149533144628331961146868960665068366473758621377989071218913598367671618847598357451202299587941146201765487033105177824249782394664746720222438794015136269502653996950174269988403226760712851559291967496968745047124889217754590170190279925042127197527460859842041123761830536029001514367955483661445059054431688165904840307203241035080149065775772416802207150211228720897201394042911584095845720343881477817341792527619376289742656390555523912201781703595994574236576523278494883795665572019222771783607716070167617369786037402036882013994351307973978671368842208769645258830183839891804259052561244944331409995505439259345571448785256684044434146748208344506673926797936958982415040708698013119301371118433799168325533513772002132461835538829649119900031489804409013077217108715804339239763720451398205906511560788674712589416080439834968842361376907962846716479965870820770480507461420163665476781857102110697731107533167407320890869970715146482116853261147909758338164638248086323697796834383566276996766946432022456851502076478646857707204544655262102149959631061798874476008812405132603501187781330565530566660398768533028840184399346451428769528131348681585030933882717619718812772382560208493060562007527971665164227053597953947924620700379125660002946611298604104363479793375810608372897667712295000483604261396173902056557069299133839136810330789798419541112100356580378227968595843724536458958869500052046948408664794221586859606517337957573187166235540867498800002910268932094275508993138362215683037353183180080345825321341716997939393418452500139703791947330689129103760228220152125792404264859148117358697293289263533073576223080140243905992341020200699676494665280324744694212242058683789355662887349557637295027260651039138996129557698030676288851644933153710801891698319312895117617655011463712546791100404116500652522893314440920682043862192566323823391710457556830251787058703863425320613615201919647978618400161378430203521718413936444896326499197932628573473886607580649744803292042727193506220510447762076190375224237389634317634585491144674744130438197075286945507421898055048152979556343741037665660334806459270354625395766359857782039439486721610111774755204846613987359841486210637897566628032908076420202808028718655334842363607442107649755119535271684124903382611403124019344743242646472129683818473420968489513192971641057720020165802857878823263913786575724729406938455387136420048234040650126791082502756191371915995774631173720989344710224785077852568160831693476021866866951547730806479549508042279257537673187024489118005969368289227994919800298530253167455913742330229105807405374202540455692832506033088747486906610193961358207912801420844086709522771325406029841300950617148946570115207999760706574930190145185156453131254326911992053685055152226943908583612402904655808597864384633243262311424791845300008016512440370270080789348308545465658893068611835039724532871765680314143076529857998915169551924270350075664245077743860293717546185870951046358300584567196888316787432626035401640877925843106094350070305320170545902398992137546454291835165853933215616347926398692034580609323086320819539568939834613858719830569741925568247961076581370812512905614050871632792234013632441610054559486333550745419218480431522739895982169293223457815275029705711633333340925813023706349779499466718740891606979359796767334435686668374160781547199882663756370400940430608451068522440186304160799510587818949581064537688068995589523506548997993009718261227193053846277139708437610222864815188834635150544854576940988091015237375878335984730441670470792753173470834108908040519430748010987977486617856217274449531276027369970752197465364409705944057628167203962605695699577607945529400153012043547564849026473561471774986804079676742337567098532159225775977901772101479813510229476216277782801559795673596678424149642134626419739942311581051577256405588580976326721742517802750903503759812167621086083392040088307147270430409389578007307191479195103959364676189391354396743762232288688986447011068170251006621129647804997760750644724560234885496206685463690916855528399359033892813748814387816051625274451614559254981832672649965206106437609039872779114392563757508915958811013115281299858631839380052611292972340093107875576616497455401659151532744899167837557597696839177827856691064699271048994726951420292919028705657925238351199404602228048389869414088390654449895552245782441240807380573025105964407044080795147787312188595497507524524270039547666486273902397737459347522823145183921992448440070153439569213989815972754668260025246348913737038925274988688375297274523326542470959077825700953280911256016416191968883161469034444451371945907802144326990441080202345815661124567603563917089543819395409386011128776991086201348029238926639878982547944594755019031706600535533334719651360263417042362878216823726835486520301778644178246188354686533141569711736923989518799947130416229041313723284896387725158701995226912417904875142038705024396037059891416552465225019178548819587860604852419810808658167351403043747781140630854982318577788923802626603273067241040736038724960958573146695442433131741057708622965866608061532722648987279790659900081568196671285618914557424680656069714760734682721664422386285698951885756895154514593620240724529704005937686712255393973160515520261971672778749934298619709839647100714449775287717521810830682428227935722472971000935712027835110964151504465578980400254305971764522652752829139245720767070710344110875304776889416067792078885298635268377362529751362079500483797837418061479255263651640749610941192017452003328096432067628069713507478104030439924069947726992614484812600817043230296922815274118903434057534989698809549140968624602437268912171233397931826575856615143387793954471471190516446513547865279781173224882991651343927046534935955632773098618151487977343191784283497150411063579879192964154193492308466774580363416493600431551488586346729143708455424826122597407973388016905218608277555267694299353004657369179692141614861984901560782410407998150278630826972500352002118710656032207838348293852105517445936899766715137165537177566897958142561830557071344127239019480649360013565007328404948587441546556145117629596451282047816934761069619401953042923343332231994501064282581460523426753858724572001982661905781023764476967992740423030531331270804946520154638220171889213428899405398859125522864554769055160848524812571863491989448076461796362324011928027662946232724175672246621470332635100462385648101294918872742504271374405137169625456263170729628139883680908595838216001631206745917941124483537391081460180831939936123387063453907402616007010207150677369619590189200621679013709392455293486805284559318696347200942182202585467351328590308492574552558711615824238204106914938599539001114582381008100601507440045906267459556783714640391862733273628606555545976422823660374940537486022724791623285748167480290577525675434795736366689300665088628622135165828008736124988971755561873977951603993798210955066865358526366582527694368970535349708630485693050309005364557318943103341620834592313990754647227763348448859529269133451684603143473080866481908273165120829073154157871209894455828755433614586725255563633716183474982270168026177476850326723923809281908682555159602890320566558815594815965221253862484892963328687903549921735124580008573585330232766328281966427272352533760049404442557125080719518060466721637576093172933921339692962920487708697469094038579628776711753623859845437673619005318707052511912212803977335875155397585040828604894807497555674815666769445430801265793710360626140830012773411623163207999075854047513766931680815659386114742125161136482050140226107840059543583528982758086183144794885590095254284286853867580777750416762412445394763478766608165438997634303986237851666428818393872703094810540847048622180589320031722066298514938948480086020588970630714847830648103045242156380038727401376502758585352137195874161781125871306892653492810543396433444229681542546257709174994344087901408315618472821873175913120425250531807205467640240676967571793037353911169022543156586112811453860203065777454156097916164084467108497320014776771316889874337272689099581799092917481893102434398449539333482571840164675416367631031628789168131541727835345670958574838690251307586379815227675145188384938866394531385032693849618941670216297107734205740620500082929362667164244170991963491791498396427109928974961139184440835716905142923791440300380899811390944005606242569169795284091192397077495461101043216893019615155508595807339466144942359147331493133750370816597886566909980718633714874132911035588452002167920911342843195340439336684346139257976326350779771743364260521915796131848436239706492568589211002561057394863652273382751857464203751882182586757408631190094419027802377190712840750172035440644112093150500379789363493454984740905036181413144064120236071830468671657276527699426738648938183863419367093934267706435168366904604035100244499052856212017518513236803038637840690553005139245173049113198041545080248917494414828321666529028023384628438270208008082895203916372440827125819456444602646106028378603804325440199407897325602353681317916549058585149910333286319034464519184582664754931029690905504775815601600788705719559530033288164393014474973630625288657584178066668480279779193207395584364368816147863465597145666992596399713462852560121756448466825587937979832473095103799177303978802277377438895688646256010371654214286906177531463615170145809201536166215762650959782576064033683082263076451760666960107833911723657386717790944701288466661409828486625232440242759731503377180328256806230809127720271631363933755144634851699329522130064805841372096839610711148462913928377121605990228648284522715694514402354463503107099576037540550506031928581341892868250533302506221665576053329731229985882535089249678563019729196767912872147440868531756708723564137671543238719072188616926091545823118636539483853919202548990630882227489596837826387402776863253956249398794020685382101683178487058045819614890309199291266714446447389126702113112280746567581768813634748655144375962880906563366232706506439842875105030484543375693260991759865072552963115006974393155621915615873892685695602358477967944476911867401938185796694550257032393558323046616540463467070828965555672790806850005296117762841043501112557294905792167360553602270982196508649959225106916773861015604141055011625414249680330969771155888639812895114191491270162856885348168709704175522459185187470960426393155106465153372457993294794784829214882148879777548005827982869197295222766201388216680266768952625393206530617123850998405858455162366706147488890577431090325534513773276453221243385421175454624650373082608973018783874524454632090400571346355426009531976846242113446920014122493860221846166690176978403725305716860921758488449666994011290248983015658494663978588308399506952840356170118243905697851005234284124467519158767822162424833617737530104215134405584212750025196967016520369946338721349294252821556120928289142425398251103818442254927221906989154207079258222817295517268256294091371384339570728410618640960493647726058584449596589697125970499823702149593306252749316285915453184283249467905408663410703788573523153151982434375664960335806121728075028262933454193721380171756355225477216074354099191988978260108074520249955759972093805050502979905672869353032909676004881130609232430648719466701786536112806110847785019508110590699132561776311974436493269866682194030230515490922754255251675156993265690426325721524866643739345695368737163269475470148456982722479394097289803860775438829376366219504290396507302565115438212298066669397138817237191285438366892502583809816672745360152310000858631446390642214798996419080443994325148752320712059106395319312338480391438574027914292202363657900392680437374945567918546069825077108935646970933632851843283108521822178828585921084487661552913304747880036567256497783597414244291236660543649770530692337728976520262451011671711021348561213738787729444315529963094222337338019974985948781892633136051611109374591991594689592220518516827789050179925283704405532437269818736482357150788488528534755024388029837492156512202026447820346056898205726941163993058287447296968863298706518237260343570275124904737305910450055798064713499785763117073295842580515719589889753878807576653717709981121254694968421146724054524513821687150548998112697819520748340945905299839834083001231892223028484698084862597408861122741200168781223031852670936180690540355310357538692837633651350053545995955557033842991549539676251127128936299393093238802361636811450978721888066009621895604345935706946666141495130879457413496717559814352029290394512462098222355037156972170566033407006002016439241222702697406136605914043954417119174325298776631044202574379739392303990205092293693802670130015593594112266733233518533460826593711077109039549639863444346486361023637015143441668865922939490682716773144224071768311472696562291914106401403715443524643693858815455801173318708548845365857314025933575902092035656185688754161759841848631302971270402406718179489760780137725772918135690615959060112905641934190605098310134173739844115234611915461247197560228143391165943141367975892940589069670236027937576967194875170778630649021539602814815441010609622004210819892512569110502950104622253747082424111297301762836301222840936338533208653429985033207823990501455394610655662345936852992607811121352366670946738236228669571145896418699099040614999074043592174328854403821952676276103359730621679366649098948525539141880112181732185261507597575658976934450198263524505022393271687875610465221008654093749923027739218629346004026058154247200752771620652148011989167959917168428367403491550418832066714375226675737394613049466611546276306989416810899223122758478277147370950054339207248709315074269793111115487667939772417227747361153823153621978315568694788759385528820702501677405859739658630046612269776048029615855862029070488123088896229001274492408030089152886640421018608091478136098708626595284558729118277296433100963296220620946195684720069877604606883921156953246895203051871379656675873769173213300038084142574783234380249060777332723867425945636233007807904158757271724713016243072060358228565296384131627300432066639255724094168356346405170414705798788856315564942053803730359026249887046227178868489500042749985692175149243787319321627904832167004417870371015344896043618728222478935444478309132066387591443816555379582407312508844590758390132350938189780776506546007443047792887648480360371060762101038073414383103448202543918706179845343119815039908946801676038809190646860004238962990692276514564134884890797427896955770210952542834819105164722948030501753125375626312466488840642772018689459931028729584123636521093914290784343047689282122883920370192835725969927540909347226963025497697570382500908269962356213616142111944976514805807417857435248688705642801101631516353359219310762194402374864208506584798959055012177795179515122200122852137024432548188528895209182398241143832479754160011183214385328623567268212635653826072028507298131932247878771400791177909912814243376920003045615204779695856103466663839290387626648483066224134317563692183570339694051477723535227769677559972277763617346010067401386734223348148806134980754797146970146436123958674705193988787871685984251986259040853576532110649909884790859669395543696390369182637119238699826349047691757105073821169342365697645555707347977937220530806863960937155822913166863405020046351930950162052886482434002580070885831194027973487776695926986351688293715931084610591633823518276576704505697612836220370147686621525132460833037761538992628109312733868065895028343185508956884645842904550699304201655481155644130102770808441726796969732442783394886146484617885009464669720169908199464131657126006692335570948814484873666576972483321388277627819724886401331590977340107980269021303719048179486508835394032630259888867604746536346166083281285017724414074983050775745377791951301427779913783840966603598373200320994186625778924611572713155311490634122808876900405465081398229975857195395173011750957258759475891784324782619545373193140116688116173519297269516439959455584718896488165793717146261481321047563745175384408287667562729296666680107643544761013128030169429404664974853760449792661584050891116830256811293491164650260878786030726954850135940347295152557296275219324799541447620832379140275770901552714677910945301856856726796442027123465151997872617986051984071263111304135196420558438175001314508854112864710772308075524681815197226799894941876459960908627085781368321632316433127921047756633220961473215700406517628176068779637978243981389695162175374299205895273355593802538573383788467597381802221642738157626370202346160437906151694661652816301215179646747491673739739896669336137697396411429741631221068493692542286063114427807481664962742273029187750319704222226374458651084121703025100705021544412704931320748077917886052302717703848482532602589188283180860667375030632063404101675406800830253841461285930159494167916794709616099467200074992861177556785290401986437796973517957516685700164182080106937446088419870538892467687679148779766704890073924474061965665784327441501932278310444645686658379188948023821688740555685811277084099548406487678141178780148289572687879079343048619280942619171471128268210591836236490499193783253037434054356408782255091812225590497379527974519602985608477537041353987872743445275183368903466662900111281587091992387788827714943061101808430876538114023373446328987789079601402571645811111606126787017650285623857803039589792304296063727480117082926763681905941270029863675309283653089018518289376433488629403555766544775586144373942451886047575302194972978274938053316142713118153934211222740018312299197066918224688276361668426120226150351958430291526525840747054637405080583967441052259212688560031110416374650545263392145137932749073446282931949648602638671697310932818284820357551046921416129332279221565654333132799669270130681331069859352012150442721773954444989639178707091517982421100373156201271148941167328562312812944258453196944827666746426550945209699377602979488488609611869230966893585434575793939905259423841784262880675704099866698307184780602913200632462668762331355492869135708745696110557157392260311545008406162332117017481459859505486518038834055177994992485805961642528412560977069674844945242017401979703582198612330852711914794343453864393399205889864073951707760415403859191131873719619125818106550733047389764256632093224916138441498172163937636057125705629989167889373795532270714770600084257675243215917096257367526985632054843567768179306906555082767238767118467856176866274337549249183031026066176486120551423994204223989686379165027476302625479481065703534400651094481104749545086902672178221045140317034928870420999049299254243406204292863306321294434704474364659266518938026298194137760984736726742003989812085842693157919471250317314556670504501090664159011441417725149032702130422017508928885761183612276534678802438731798054760027901521262283270906276770082391863821772435565819899378394024886466120533093402527545354820918005155196287063027382133857244360949772437566318215963525595945114274070049951099867658248856559030977570840163007429762961423987950478637117316585919876930588622038694355210838162993087815642995514020798039648742257580960396071841955835858370940640706390993639867751537457071743353650375351066932525842476833119113003191374090721905717298949196541064241151578278745640489826384185338529891308637989862627877101608313220633377878084106505663578232856936579211308811374662262619532542047334881438746612405642364591037382511814780565423767067507536303719038528304899389754763355424864541808574534226778748200049365837431500522170460035827026358569804246975257541931496904878146788155170893578084190213964241463515677337866806442318367292656544851067824114572913891704836704378662916891566651273402687562762750073273667245828136838915467887721593929380128328199766871793885215117918856289949996134714664677418043040398577153642218423267036607641745117240491097259908738996488215661667586243302758044225251530388418328460095599757015939903628731324995612668297087114865652719890127761696219343159863393424624274792928938501485280055992024480658814955360157838898517079571379259290352454631552338910970091957703805004181333804526210868310258477377493402357820049273517811995018265712261888946804672686243010693710853474103399533701368466080480276454013256622854902984241987737135985417253039890022204709388995328101145430536191686300919932291033426309061761677295261464392583798555317235469045677968433775751018839826818901055313554592567330004608984384226802208610355395687764657902276488122553429467058786508478447937203035961616856132176055877588685119164747387949548022834596973229157831131324521634380803413781881834735326453970744837153511086066178583425679473532766198177106236884564778968993843049454585732794753174868878920007201980076730597891528718287811245224811634222754596838408627849374529007826107574271831551868685393250034906008724485297033402528495197985083923470262588605020684563999134794378556345966619747425002480465551819424978641786664762552317339669545748205169613360394860592872271688675224890882571303451577510125653342708673092715994271450819525046263930565539962104269919231215898885345448966695193313803030169671107102566807637016614875185944463412417577994727671961950341877963943138966853237346274139742506164380886631559095246232188240047145295688235215954936655908713888746989945858315960487684856260379361176403063440135498857100745071047043902452953875355329448409033063983185046556377003851790902373394185326436098092272153700106012783951232378324106545875922790484059317758703082987289895919678354473227858481006971604274798726405606220989826791690778587914352762155332647804972478180007438510516214849840654098513333055091870630877741594277676045509774209881719673441774771895917710784330659462633113879311972806328045334503769358210332418612336499900829695821924273682566826982900481063058434150513347867009200270882142514906606982089977427009235635552571529029455130981567510507636938990430951777592964638940152693182387019983894832929466270947683002537854771998897687866750884514858302004187283809904428486694406468743203389749887179679635438684130339223209864991073516192425834748593185307032819401593320853727860289430384306696645916308395316042961384913856374805372851502541629223597643201646587068240003677812305536133726037223071004529062502948828317075957016538117302330738864089621939644251015487793384255416733955018228069751107327155047597481943851509170109328728440201286609445133509738444193516406164775372082174766168580608533928640323336239718395155867103965916115644581645966087268382429931962767445761006220110926996211065688117812267276012991474501172627889594476249892981988096925491398613012079554191691375291432080350190253757411422478901398439793975848060773698413313075021670623520980734323978734150434493341703296260361443728506666053931031317571629108155757843893083706574106190214418086934979854352630432639051307327143502729016299776832281032862075758746821223748799519395050352854445365155056394645249448367951238999213659773199091000795289858189354491893143284538357569748515415010297152786328759636403825951170464624962498993830576328640325594944735553499634936616472276365076521150542548692232808106133943489569074493438574037469101594312570402934782736961146166720800610927220379227408466643947215672444709266090075131868486859612086844589589564788491632664464719240985289738644618720607724698508115958407647363062146053020689100196527090779450407941478491840423530043037361652684376820719479738485359828644029626886877310084609176777562769036654471706062834437320392026423404606128170287890478332881800030797421990802530425414588820527175708918809621507065518526092762205728949802570873140887603686542402754906474303688886261927059041214083751603722194833433838620024714385695510129302504090617532501290000846430855786451079350715391434557449636403197840323853372546818744447262694136920065636200208544932012257317489273620419448944465106172469706990053463633928497728303245693334070744017646130988159851945899569725491723582370834353242402314089561389644678004206497051554931456427848938572358021437143503104660259827113089924861004618167751395388458215073617189866687227107940437060523172119640803459645801964307831033758835745065472238305174740413230929560823479869465165940862528072212900032916675571408100182906514067121721017605597968927025749509234303374912975122484132858545493067377068987352325530309935093853283882971416172831418322571917502453409054563670981521039261169221244408749366406766778512504518752527886289361848804049935894995206067997025714203314795218214323302793428379179863523416806571119660846289874806032096190568332055303383465182638549124746890601393245865118827073757823493987104070266399177274712936961068171667649267267338109000234286893908912143667118072746700222612438768271528770175869613295679319032335367629798118203211001652588070593618589724590472654177817009307603140659098273707155356060381341370720151364856216051369856325541165771860249813598862250362550547133767465128537678331310349750420056124977913983753445259797067577772622728560842325769994536265930369900906680885942470127414849657860679044180413558755842194018346807528187507209684880482041339015282909949348221750314612468519382316143362541044660462646956930861936247996793409000556409015315181973331331869530644292596801673949433389130163216901870187075686935724967369487682328042460578707365922527294693657569820720495897967738695060523060582185165878916527506895873936500979524222515543517329702548663954035764974258179485265630515530147642419190064935645517988914542859880087186567225918465490842280934925239337331467612599151692861143891251056225547801988802621885237283015903718088140223588765535215424047967577578383915543328841278984921765154361363899765489763377430873687658472234747296380140724323162628990048735825229132176164078756074898863997489934160048834655374343813283382453725692101011154404897701882928066380963569755457936670118630071906975387479740051560443089670229974878671869494135067436544144991724693665642647107674093176590367870100344668915918151550680201153987793768895891282631204294131815377781631535076456187709270436030321097184969318333939178127272135983296485927051546752343947114266939945915601942724885159195969342190346516892518409036160015502820480393562978129706403221440221770792417714456208790109965013459703530905883327758430504463582282874956459430389877371592744027730139785078948822524403281469528451038251293374395669815127697289205255393221123955085606735707965581940619739227312061254567283787150332118310085618946267262837732546493574126771299915088135010420661415476921857519258301571800512909648081475062452582886203446467703418991994108986968570732289920424630207564724885612507163462991334798682252449289795278673815445324931013059879823269169371532256049375703604852807180958427744628301947155670608951576582857935345796012371581762580989894474412521419138520742509977852084131526979967738405314579662874032159130187547007968422700647478332280247387691296527279945770568714565885262618714698924832247355933160180540034187261454614615269147937037950586513929227267467589463800884486106753331284111513347820755192888084776507041774038489834919439909893357735267474640780552552753674585724758486817477121902992720202872325376933465544803206087783671741320564204901694452246932514048430571066293324891825044493486155766406933538212285626811121950771653654587057321192634312369415830741303381186173752938335047626686341168188624233850644827877813728326747291454719117929873492297736300843662007561403421301356553465078396889857766986309869031155460327483763859963051913636846763604925790823820931627751177870346466837908157166073401122005603086574618102663126659646270149818375627917323872714201492715860249444610639279481364060508640081927336084601019938419190788916131858802233103567970585416634766193559418786529499117016889562558962061780529136446638759595410001415442424435244769055246204893102142644105646013302165990564424349025822873028293680073940741821392568327440135999498255896677033795291869556275965467730898671918971327981146357801429758475229510113607395526147136933286890762349273740820646320418564458569986526443422174427949967750176987217289416631908369940395236181201923446636047592780876428239251437599459666574027570428989234223561877348189314043463833294642149673034886400344007258324861101203112317220068736458531545508155184312090188001010221640734421982051735611283583863512860752182947744218897813266600487865798541002606264987201478170808915492135119582648009598289109804688603167057311699818825042206222790791950569385380166934795841956781625924637221326261309484577949046092696682006863614585417983253786356051049970972638203367148676828081119799638370304498236467203816119746710392444939893828915503472095210997719857317015907181355219183201633849896057529098899580415069503713892428031033159330222717475751554452169991966548971732451060987197901882500318627693096716832811137586962713255527607042890504491526689486819721478643979952894695049293119508086292642156274280040021566433127763289094503434989777381544252574142291063021701731698672042223433441445323892867726389371273268032042705819675384103277971789250529747148050322605544728760161742705994667090480550658187966143019281134180286375842288491532081108740245541814887963106143849250203315645680946450713080459053944561029333944310586982509050883846250342709652073493414570197555999163992052786788740490401018737468755230950380115158040794332857965810145786326420145258232669256349119096543577210971838746539828947155171979504934675919527006688877816351919260276272097789092030243143036662671984162758470391770599930510866442228066559853300784107083998770845428701050128799903872905742304835783140028746959779732727144294918151996694435665417221857971381788592046694772334604742825522743897725140088964199665331883052520445522833171331330066824936831110940892156914434265229559492033973415954046197690430585853657694893534809295201101174065903764618437861403233937810038307380124761288142910589978253580753484133845169092340447273025488505212842949525873433790097065365054633950896083520792012597891303227807270908064168511650553346160367230017867712107050969374817412860855463751634084044138824794247925585612413984779423131905841443067299076038292876046781882575634066471225747366694914225308211924358361924053291134528419896268162830299067193005718445836435257359244327248480294565859236358964456440502482255860815578148271774637020019146498399524680195831743895463589239375841695443347029039693946406266154550013546199304064112069770036897881248560417481272396824229497623157267229513220238785983301803810211429412573085923174693121987387389271762341416919581981103960669540928204677672195666316301424218162224567920330101017138886031214300612985507332758476110502262827361522976962472083136392291684099583585698596742011611125516745672896563241533771146625776713527435365182173935734331905685415919118698440480024259310402015802858867820080534574555109989111835572797230101871649546568655185486221610575783286975111278396015294331152508457132509901732297619056512005189537831175312227298376500905562472973879996072429609072432562208741100061240750754044385867289002536170208099809513998414674130781562118918016288770315551736545339458360654810934997147898743001168940107790180070971038365887459645397416888407545129384353926227524614314036789948438647703444436219578079088523479369598368437255165026646300062501131309210274638607162743145470642929964136141535320956148941828524312671632208197618737832374521788415144484353687371895694055826308284021799938608250270566873756450429855383230802223401409270065005467437261179684308484665212831972912881317417310147448996050523088846674985075888394526555964574600901594785517371284166420341076234414848464478821176934105201032386339534010779308062645441212601269255590757580350886392046952791685113452918786740814108575008199753873770883083592145818023492539321366217961005236588667454355361195954395782723144890682020569783308084036831645968325343113233487276139607449043246861315421609102137379167374326864279600541198066320931833344985986193381148525349525242508032276057166834498632474608685745460088675007199469351575947650145547111718740874144362455731552557962253066680549585284420235152554097490722075457222465617374114176574798425693153885028750485007090351135960190517627690091690405911535883626035506505024989430212195095314472090466771407243972067284855916573977319342992804911582013049753374887309313207651000696594797585025552010123669772741281318059087830523897811003192110333533720079480217300082360753119436187722480406920866437265448483873146215428362588939779977044945757054454033525600825164579673034040455840064846907753174220296227256848943075808440375117621547744276449439776614863096657501519931048002042480210417134899322298331032214168604910929694578794980384604145091747880528627830707489287139207937078258151643240685069500917462334621525641906545452157969583023039639337112581046052367001802832040244455008402472847430670505973097518019578108830528864617142970493816883757660657243895331614646783242657604917851824243889808760420088613559859336023112724979536238560457283577466489931821771608451715451644428192738774239559481541343112055074825896104096615314307657398090771297167419561885619366289559378357477942903199581863801726958414135770352118909036468854519143937631785516837148035753272720175661057897304429523003156170707670891353567420284116858445134483441497544918178644130373944178698245038327377664031815987357386627974677074078843996562588866535959975978175229277707135039783666160939337789257957975295898416927848078817820892649387373247782020943233968500142476521244837538633199523946666678977095897537304337347739514751588649131537870287500591743615383348458898328079076572504841764816819983179277744303544309306670795320352997802389458009817361461494789174855012484159020070356439925057251146319180196119510362313475272474026064630114539038684812866062725785302600122327830468062452531948265091961532783856550449618423376057522469731590267820137013032337355868585187388246661271391088002613291082857410855754965993058942062544732855643210680974306213625576515785586354760877548680925239933352073284633273529985297570235762373260738250491902093541900239746050570472439897154385834201314227516352361527046667624075981363326642315183900522609418799389787237600824528358614194680160096966628079318393210802633191901977414077178855607658827854760659557185118694838380814298611381026183788858620202569793871820868062828119339546699838638217116241233885890843687086859752190878390024432431231861669749967638279303031892392093896410929564316527977163673439109897931673560256623791036073716764613186130125245142774935587854090990606562220267206866091182884166402024940239049883081897412589000177844539765612250389360905441005925059046236515280311091315939319551015652626431937224477910505428393981405212182159488413887146884302665988424018052157868390963661879893372949928783883744560710234555545128852841531387490183214029160806545018534644067512989277223931213557366789019651836365625694451576951110912870759276960419663469173212117933439205691351423225239298881122357343728212400561954290428737869826719763171664844472890492899552785960602075451054986379991263691138734506470261482747822905563830433439923814509950956390042408024312775882177240051705274801985944565412820002147526699154779095632753198432289955497480385054044897728812657756371003415673061771885597586052703302444059070754802193921207235135057734842327714696541031560794423362976721754631856405211294279622481244243809980690550695370951806688206461401209729223695562223913194769530935263488982206443636800318545752958462280856907621820670721471954822167593782979817568234358919989053711273019111451988793461303796527584423368412393447582362291851335253447359692044106135523951033674281195080470770447857680443170887158789974840395171664641974762203358257719290593598915060533456064813710130250336909585645445351033021874415472676490264462141468236810867847877193404927239011005867037585203569558887761708010215949206381455767491931061806933607807812027017551381408901099139392312065124076279124660700488891511846476630653345831094221634589749688443997960596896699904255508289511628418110152992241486238217404913025447372914810045249527071167349151101804279048606581908204791165241466616668030341694144438775545672763575609857724940756475949543711241689941922584420238941504063167094028280929027563105176334524252845410131148198774963582014315216893007550007757760527423107765373941251769743431473474463695764182848289884037436324248081582644199053056017249104963384583396563840504205350767859463919896612922626978915213548767460778664206633355091927473064951171749017756808730153880738266524585092920195673628130227941078908661677407241069334493050962381718718413816245468822287200187904883720516377283131794426081959122089356412256137587840071220797231436085139131894359734002183591351419458703010423640487339382606425692424953648990718284939059035419273353180636221786277740497573330962463435085018781335413300101632638513233616344749785210963485609587355909373329793688373824536611337009600713594872211611949594722213456086798174533652932351997670630263073235280557297910488941318815828434475986047609521448267762547902494607615027150615958998581655270258510373033417810840791748049703368228564488771944740843169227300479485772492378179744267306261418267191117534387987848484670410750494207502239164457799249685820980071367884333651362912450888662166626524971524006551819035770572093444194549066710507736836848688485762495217868394337714301443083379807579115870951772092276519299272806510477046563978909953586556320687082363542863828845528889355662111030856583157674754841313871116595925038985044509072852829166384978301869145786205416754531205313759021329002605832318716024853855366061833492508263274115113898862221984351982773895141207229646339873168857321382862348159645359129311248291671475528185632815156281755886312060198457670547247019841668360771755685801246970236205237420604528859800317601106270122981803846430115297882474283604788801140274433481084618068802616336474000566875695637000059635748196114894972116581029817941769641835995859636961812567393813260685173500045648937065054007796629488986216775317809052211686763785290517631102646561070902653108775597745508708935153112569345276628456655321682852144052704540938475245240204637901773175751219727560073044116822665089478035331867519857811377781960409803617395090319591443476817520430906181476147952626100522167087488559280685838592277542767248986843300285639183536418248866514829951999768056974055757016200206276742339315927457105655552761335614802210884285003724974121198862279814428547703786417438945048312775366323332838504821117075754193574211155683471574656720958784772896649486176875283989888870533195920717763952245597342712192232204144965973642792836204970533730567239598009182124763479759155005304770497448563485635367321668713960063000117666320791780287990506261239449121705585917322904646407029385487579599042174181847424399256791545248681201046274789636820317001260295346192747049936437398418939086535858092141231501056365745151231125126026270147222860059896849296192966894112816308798666117998786937672427364633197331734242828203597997349608392152556542616550488331066554238883535635677891560460770076362776944952453914012747159056482630407185753954940431114217978564888213980039823406517294162352477280439732373438434733489318536292454902787833705304683177019203428233092801475765649919190336802044920766424504734130693618093707796293248344681268311035746879270338159034074303160013438732401295404374817897527909035407868449279499600843878462688639515769890854521995193034647376700420049485411895992490710393507701217856578182574653770438690640079508200647025291287820294916923117960872490015446621433377974965657564807195092775875520327885377409834895132162003098685333799980855204523421394768696165937906776352693371165907978426091201265337293010316204612514903715041153086166006536106522798835516167585839227178179792288214472232924737389613234169165551584782892027656456482914982678548000985774969271331113898320541996809301974993891507374441843433275481693851411158035046053964591365489987287886463728812794548361433507266142415204592244948907942709831452146589894333717873156457224057444743310623431969931549669002557919054463533279447307574838515452537814236837279807979515532009336526460338279219606677730581454657507509893718348401524302864258191499573916184520481159632475706161028855070687002909859553706566441944565046291305474297698898376204199032195914491562960492320218959576003201147301282525817688941884369321376158157428843305146081668824716558401992364920707229063508863917002352325300912214223002791400163564570782366802657616790512882102554989105609997948037928685859247837262128340237860701879988280405381828364814903401215985625264752332443520633127446868384777380553800793089935640715419855276213988557308260772336502158607777868550607475526538546170233874924924785871123003171886285381919327464265021696992333139177911546363859835459041695778100942054568428631174209651556216729452412682982720418483401718433658787289025121881325557616787578109886753933043664228461923926636425101873915946015783801491307983801811258054343903471361666289165477785749652816909297427999987704939474811542373970705023849368737798576850450984812286551163714192691759092929681177276159323709012814340730134085887973413354897309704810941779368518067421774271652426373439421152010535723711668741264559268964155299822158560725449793419578111829169964907887878835411455631114832328792300660627157815624510172535688930479799943220784963662678883378575930059202840547032724684511238319233920978254993314023781554925373198936127356783102904473935466633693865925743530347958034815821736024507783379308875109169979931084134004563489260788046756117150368780599487283845252473467255466036858622155210772507163977884017959419503537523697135660707528643101882392298282159994212808787294390447643618554271294803497195078910243769673401716779634955756450930590797462695623547430193090119208571157344324903628523026903631933207123629576551492612810520796834544601828352305643084118100848593786973862817660799590604859388604114071669001523822985045631283014965838963863855829639772912805825250124622314343823206890941060302662152058372580726885261385763868160223525432932132268967025504441901479702681259525071983985330769775140523919686637939890705846994994136232007029593973660090495257525614078105510773733062924502247759047859251417180655173862807490756580951803370494432781709293313019015465544549271369490333924452680278124741554262817679101886362358834445790472381297676664648001889812385341622237326821571601720248692782478480589665907636615952450079700061361500663452548522442819361508768208365273061416177250082094428768911467341273334848664639002835676081065133200032168395840488088353131649285860462103391516108394508320870646743821979339010938842049073947621697368651351563672702216637231322164182949954668507389911502642860854328515909144735531734818573244911265304349815147052732937114501885548026235232755917610476273714177651871671086429758088091662055620428315635798473913464158827760463026556657988852607072764737598839262255771932247967074628971549338994366703242027758806121128067289649512713238758974467759662832365810437049411621134956273196019478115350685429396379079044604035941747939324399892186218352188393220524057122604006871389646528524783192471621551172504698746766637073098030668270467001085467527926877477781239380174104466930301893926667434066743191251459237140906850699999142684070902147507642584299646178702287965022986225417427282405932400925270643496509727393239695015145128847650300850931029123351277320497853994325627092400971552621646720747975046798951996902712343702434949603333525743100958181742778529123816933389235938251247612637745585489249415443390765055980312384538220730755216203484658634062785930592613281744943749915266031429122830200427469190684064825837594905426295076403894331300484178563813019590956372612561740747164003592201480980859319679271692121002790595031018853702580554560864287566985453720136207005168459395586799881485576607514487115922796430401404141812122659581255191732306063039874132501646325046863013876496487790295049531177687017199066126534105279477861446783199980615411867620941868174284152715346089559757934776615939450378537608495430202328485625553561199527916628483083032474095952241842102476785880634526020202284057316070080237835309113000503966347157957916933688458520952923799090395820507505116206990081945088770065141852399314925717223565614565293635101085750807424952916541180778432068826096208659805674254548107249474778321957371419741009834388945782624691608072448660029467940930708753732786961893605700153582340722746679614668778582296070136484767999690633739121179491799740140182493657160951479382303282746887577804769510803420606575126307549566445182199469638142617183155484548927242296056583827382840962203803570912274337206541098633853160058654995547445381186608572788332718744461988441260404875980955141619434730715283577688891099596297768176865346872409570156759466770887928152087418566147055693480585278229039393440461133576317948058454958278812563407219693646145249592134919023154377620325903297653434297088269032024207295640767207820834579247382756137285979223758825294766632702902310055021207075393925567158188393358407382153172666510811164133483600653555188626134936764168668011226170221250254754967372407913009118125960533963620013706308751723689622913085160822867139397207534067944331002451216078538285587768436677024432017385952727045962128074695955722268657764569031289724562365235102415265042898903466853273184923772090567180889754545354063109690635218017968668446436250105200370679916213204088437515165909862329570839021664793904156618205900341899395077404557874596400649763758992496941532044448559951747166642770923878674280490719835565467601231226947122984975923320528664833006732178052276753117835786706644680270563403875328168387192759306833965373846929041523101935116355859615032537808897638510325532807461997298557295733249071312816472193451130431280473857476144605556192171041117145611946658408519081632350001209116642443844333776855263021832470213464039401253491211169807127485178568894902167944859918726871812329198975304811495857331510489710625193096801090216750436976057318766844230393513762858209154443740330721803792369952571155103113994286980586851668755458592073335930989689412388030791884975288226285257800149347088682859859284591675330293628020098589594625240219188302327658687316077906103973251640320197244951221888875623432120180008344216134665763457211272044553871362189043349091159118423971790973446280099334684363520135957791593088948848527015996034238720914671491255179084181561615683962872589193441913330779816976427045735967023272958442908906106033704441143576513955008565408564843185971481555185419259413155183040848690734162197828486952383104822634242696116944267774253081035291593605714260687669746355621053671660369441017430204435170145216329578579221484980820635280521604237603538818654098139178226910467766981937870130424514674334821490025814118370804687415012244602047706022023402026859725751922271050776959060915315675717054505700856628820664325937743053492223183404767043259541189181079816040661479642322724378508855785703733243604896465405861872827265087678267347638242753371980416940433063613411094241730643452052681069641598837758116950848134893351101893378408745990928316106290417669516891368959120459028278319999787088971647845910648651471905043711289803367785330407024264795797199052263112371351137979310223669567219062251209620163851483260693952853911390162705930463263409884245143055191130837189935649887169277378893654008713212467407920772060257487452006935317371959121727414022611883117174299469695924852743876641534941252837284243496746397882091441835968612139414370751231030218421829599917501049436775017833495340057457843360779469621245099552299674982415734738183718854581851124635289355845411276798797280749335369387220893784547877638779442928094451129299332741902468063591276737750055487210410709290730297253649991545657857573170083994054705145302370623113558972480623723584078798256115949024654906811023416008474718416337198108062804983937335916286865747691640515565917399731176549566578781391596856035483395586325642798246961660775525093386184662427562759746018197529082093882701477847563595820917954717835207872140703250110152455272188800422471476698362597734190095128543530566401266751595731627941465409485419725958360801035299341778348415730522367777539861367645187127738770081446806736727763181167774175243978841407405143771643678512775343851708693143421720455206936058266041045961073501682377398407889326449268167024077867271955981729545556599993446404248761050465915600390247096790930519205185515255872598067727768798544665017281237277230636064980341422777791953382320644320273496176437093362930202214445853046202816063510026325308652165838715308801711691854705054640753996970990248175934524065003265462547817275123514996247040597321886573694205329676097041057078602721915430073633108727862235474605818270704571604136954645363992494715869189788210624117965084101726616208373893902999159830700897673982893473873960769581608319618558621345075551717860138205434236441759463540226583262830577782521191510607876652044309137451853561154638614236674491569847583384278810384374984058799853212269634277853970724719049553297221032022157460919924317463597765057964982957539181815499763532128580174125151134945879115057122895692517226997710759596271838626281074530630328551543242091094205166569286164422295498113712969212788750156315418110406633286622266627173918402924237068374114471201107561656683108578856142092223911864438776274565193022835484958360403788635787438258010806698662213243582254046616159206676681741137749119797619720368365625247305007112861914034820660915345450514406742777162323536400313437005419255051526645121349501006509816730100688938505363046256130620767945312892474310441494923665697189534189697978081829455200125278405013822203364840737676119293459409795082429947024810447798695471023875661238301761450593129639122343382653946781026431397500116047439141785476753286464719085475570245968678078021292028802499923459356172801048575283243118864086619127463927016601989834298048779998478196791800483257577448749143185001065429516201290524998573572770601993756991852550807187896517501097817737523108647069675811002834305933978093157109598495470075626213064408316128772695631600014252913741986337538075131298060634941675463052784834301952171775754790143162243997690314211279455919438385543454863097757410762004808004059527114332755875924143480615154217663800496892954906339707313021276535689954215269038530396695545453398148915777689568989376914767808429389347905617373703092985116219842951381753386622593707965175521211448958459946102436542152817849439159754416552022348404903924122800415312035743268707445081075409120348583767446198651434823777433553150654164595000727016393348206443381057719943078076843570795412551688914644377743405942397161845526737335321391711081224787523805011286051398265630339951371343691744503638175228963404747470360125157852598106743361989960798240805472246784326402417997551151023667283875582057237048863167791417327067999992390206294680645225654156632994758389127849792799063069761305230686598984157867480845838991600478721239605638202838345554626303591607288931112249982480669567319299294453814156149192085345673760858191697574447547176456254790051851717729424491419274103955444649238600027753254860185131446725235054420981319535878920562658387860825877007520750224784139150511728429923489000699267264811167143835989254569868232171129931306322728952748942033047200859700224566605348435232069663438690789521960396561085356507146462580787418276568768562992517854715645225956955554427098163388359736755765057139517602901619285400220761919962872764210237400266963890749189716604352839769330377912949990199735984283431569836172763253788196979236972020027785944613312383056059824452617511709165568432843139497260468949643200577951653286171047757504439729960902211699333035070529140022758417738946561003164141726942324828854835408124018503267301611780892361106877847532432906675377058189104334853346065739321865188196467162856462109941727923057552012216229018189834936135299127588614281532239476362496300886195664964392902762754131982530136989778265514907520895759336960492478709117293510640870116355830870340935480396988965294278153112543278410224002835812316476719983633690403504236153459107388037709422068705360660350127306758605373709549932880038230634613091446850623015562579292950577411226618126614152032426915752596571295042633295775909162823373649130278525156159910769654969927087684172218980742642433566710746533915850654221004017673496028115316792371008791314272079713538499251392727002986149116479561467917990575286762911907920677516017882199065162093767427419097178172997345698756627854311520391901063870311683661973925684912057717853618842556489538489129954849614930680827632249654928036918400097593529913211131110773611751386104033118967153491527928280471698416545627258699063683790584009155993182168759517971745108220129934221909728539429202311206780294733456896157523973340449545963189347958812436619983424421665244454859763415808465115382643378083132555593766336442388915723738606905613447488648672567620116000237747779391267980817592136647867090079840948307556285282678780151217253636501141158538823419586115433291565905906743791203410686540063117690870343998641780568487549867974394305144341370343939116070517514869677586516740503763660475419772474261368009505954234078378163188541642964457758408360431493435556632079042018218941860552994184765216787295711569690352093505271773458583477506954967455433929581157981590172646038972402667375888874640175729080461269818597665340489692685688320707887355238516546133285141045587361355807536883763942116358557119842970829607347571670165814037436217481910954848113105791069627801107158150781659715091509689235696386611443345455887583545627305449402018580174227278423194051451928413398848766749643338774348529877308641169354125836259740142440162724238212580568520539408924162605484363359778237375407025552049259709221580223220780466638451015370371487646292869719280415595136575869690549600586202501545223435379294904748347561984839079429828173358520707015482691533339779557482165577548461346427567492477121887761374157296984410858612556294336523281451053299369955919072180856263126794530320494260777040105912136439926211555072573759750655708435099585696192065438239716465399595844733863409501770663858294064964826803761049530016502611238906429274059546583348187453604413138631839507547110178416566423683783426333090368531948380436588085689793941307427158002264538275671074356832234104074373418219771153905755735637118316885759842693255017203296782109629565152288551483776104463918497250105359518492842935780709058625180862068123059713670956608247227934910999074480657643042610078441271488527491058748217729444914234109212533229327220291627955487599595913149648937935649308938055572492598104062244873646554110431544138563772228951650556555564453972970168432882341046154700966232348727548792155427885120413625468084470563057123233646032373041695478302855417749947339044355893219900642105167148827447965782817187244135226649106269032660213662554629420781254477815095816286277433197192381963258783033530596082401044203087562164782317808746257478619652806679658182653435619922086768740248559295732942875069189713636745670956165508094665804399472915572629309607119438327535503857059632366776892770541528149005756692555679330635660413827359814134172924076833731197310130797268265740240835674639178091203353585035558600296370154138584857119806749639534430737185957632927429994922706781531411467754134008570579592425371778590073773289083067169502325248462286174191992166610500081856537814751379471811135217933757465914933526141201187806883081855106068302512276643616282238873330502272537299505437391826947438401890468651448934648643970036925093700172198490263330217310999545555873755747257127938916584054895786657222356010577806694376369707113248162117678241547751823678836333177881511607444332763433047788583322616322882299068771724383070429604986776066196584734825501071075902633719736321513781122363645506524645601206221225621399294956824064884625846856182418579437944172332372377470468001291591817399819449499147634176256497869383780687307480717125056653588948074120859058042356515699566885296977102657182828574685169112199274023854031752452557403560741756612546200274674689893269109396322326850186171411987076722282266282079494916499282242871730798624611847316382046002578803041461468317257832798596099865985129416054937771939793683734983589057083639391888694613461282862293015609820644960223506781161292060086560677790182307557901861820684409746805129147519291572109102576833720473999052097048011056506901369118162719949722782125631997296512625332064332776460236892809324888775278979507288153004934127322298996769253268675029377420064481181753442695536411242089866649065758996564124672728785941225932998479449750755127827035239035272664395156758070803512013441918104725803739909243985474298171056730380162580595915505228750391194073571900501553786385525749508052029707434355305341943175478276677458093100162256838541420324501534611998918076209686608613696167016034842197833254002228599995212063222091880788944385484018456131438604076019230203921605196263309880635349273914341291496347782558810057264995498571368571055624702789618198779520296658712335347175665349532917425764512282302026392986590473774754628137077184449275627061081071412555054638993537473504514287809357142570462060743525983021703054844953645452019267949402416646757321552241992806159583464611643959977551594465718053142061613413783751355860996019412863728884208673998285652404501344190154962278354563189981083447857444599039053749877952207378218227035426220570693553832706233203756953689691397749171397963154154994911166718490641720867232981049698901618232430321571409262436634356274912536597501067865957277616094664840366906531292131558880171081820042495730505254153170131160760261925733301196544928556011031623906438157560044320730805493040224201558290957241286557542835212018023875107554983824129337043331281715369045620214619644798431094401066654166225171453560285472250020440647868624273301075196524323111713615536950969900683502262638206736143824995208940261109454074912058686206766299633920123485370007739994887989147365805908202312570842025100443507335226030397948568241548335599706075550040456200968390360728840826670183936525450193191723261803231693483809544581785870796209948527391939353027820582876634050452635568278031050465461837160757992542694656701037833687348355918090404762837700729911043844507970481004672627747389427814514193393017651295426564109759791015998271858243193632939794495420945753949613745218326189624904973407476125282959418053393440459597636539034782511839140812908814624386535527532117404606914239856797155083100334283448124605802824451243587082607954499703861789937729531116446495185021289389507304972163832172344781050142301279815110914572215028246803954750548589482401519136233768924725850896786515669595370327304480921409204581170644939628987794857327310871818406760081749858839618073220147288321023972244935156122160651686444158267690894309494040445949313374249637190242336603409007420011849150084060197246194930689183974307460215104078172859157007374374366949923243824579138598651970557018882798261435699212819006397368135347380639934692929611183735330802686009420065969312951363821425730264786711207962164910918583682263506168025895365761641150533224000867940058829126927835212789414335904831441253648405723578087820377176253228088410860946607938407679464811752013338870875916695480300872328447779805163621754634028869926580132930247115526785792983918069251985501422861835209813784797436982291552102405080857264949898516282854773847877791035560680879475209188225248764577949149930502146879517522352394410068253135221039266429138767521771077747543147842784317048124419749689842479510424531921582009768451397918527724035085659458047433947224056433351484434450332548420555377861981014247137761277050241892634432699050863337164534881621234464440984165097304268889461161126723393575735725931964408659986350663535509835873215481761216546485874494476580932170651102034193258995715534302294198522307559018496494190708334329064655718092410326554734033512021109971627358738666343860468985057925420865416485205756746969582116574488609461068739308248974465731139275593959253018642296550620565525038257333887166015519392880962541223758689999443257124603076400866911492122954843467098391233720069332350062710757277722282415160267758149988981241077983579653494629075369565086899607123239454524993149900371545019180903439312804532989591496398937444042097134322155029947829398100672106896099944810368977243543604423324389534645524296037655345623998281315511816896347438203938623445501117238748490385335050364549917447575774738188474735268126049685718090760932948322496661223262431094776997793130133628991107928421435475725907323992709092158730194097156872576499011871099800517989464031427508772524431604873737117808350570116277785776496314823979275100072428386336407301684629631617943728655463086784349707083284808572171605646049015234742586147293536176902486200648413624475225066873875310959646430524212420097199079532386627477390632296020590333923543737910138546282928713274074254390502464073121032266527845442816589491720080666555129078079326078317468386761465585544257453039777850766534578834356932589155291878183542668563659439350234150182591543572523563962724984283975671881463673994899806891972647957846638459816394636453032726745699485946857833908578380756933001535219553881682207580089412755596750936908374359335045896466886932170341462388831348134815759140927110458957694175034960689846329948113875357209819476697141902568989527102206387463755606926576815100767984471377554450676729984929684880093916377461139922571626157105273501940105504100226479027268852102890571578234460307867441297824729077155224565656233685646674368245571996245072627609702779618428004853494500113182040260808778569242735432609116275348389937919083304432812958270510461723606004250704454090581546163919217183931434134215553397631650063934473473848629668238942014240639791730599134095579262169061902605485513165256270230591718257750463885558590602400091407533765799063967312078664257171571912226075303035126125001459015206689222028954455995676359832938521926519940057399507935283849020111156515366666156931802146195903944211242269436088144139970700952578911497475749816276378991262685518314239563332877608364807169532406666431490041321449655256193218911103950558116446197296661262456106970206866597833758638507904981466649840639718021428659318530769776743277342986764497578378882681934126058189097835319541654556113143140481753751168995188997697537111787842846870451994510005128776905155048394834296362306812365922259190777751911858632471115042379482834642567431489663178059122618429309626680813033750731327998809062901657503216445649445252031670247562053030631236351389994643825859857131223475598700285755171921245124515064361840378380441345964535961137446868822958381410156460216674236525987715642091095843328894759583833619300813594387498471031118928151259989783858042342999106764168331974519579045782037188552840842892675343402975340137007854805699299472705930086108749426106192738568943297676035322333288503968400332160654177622176353569408839340094016901832090306078189366592959120138890062253909309781870445337475163568537305309153120124710473902712718927121790776249970727983148653173865388608813346567222069688985328094254519251990908718872400636356167589508234023007749600527156056437632818026040356542058343219505990796098783802526518950122897816867985789602477627576442355214987157652556225393128921986130294724609537156047082403821052089425234578301000983987332242297491800096512310273939114514132596230804744401767772775113675243813492572024204216787500127918426130307141462653128632804042385899074303684951103922915524985564989157185680366085208293851328921180960814094161966814521306423096930860562327430648850401490134587988861079956993661972133639822071619560039843927498076170282714797722822836688593631944096557764264965985039182479949945851686892945656259538728524612229121983731575725558591229300301500942759843242744017370165118332426196714169423424030524269461534491928070770414330531325177435918916895742421291045071937486082729212484567631107985465983890501832178871731625205300615811068972257840537579617379524325139140199688597351907608590758649537759102785392839215479511012814183228001113910019809193939061577415922338700592476196095965881600087407427389991057152735118276491819796825911062043099124580693335476393893406718779240246619355018161610667876483740036626561869841383799221392032446201518028523838869908867785422781525087303686798466311398313221807238077607674946925345600387014491948225733422801872731938934724941389308474984757303867330900235002178392753010270974571879307866173740059920207735990500923091442955011059464325832483977664693752676047106333711548492296988464849456707498133116178482171623830801753075414438343686663533059441977789677609592274087644382571533865811662951515600369666835228917426101839853708103937402550147147601554379433911343787004712178755537562836866216943645297391133583105942434369418114970410546548818589347483294590151956468988384151190803523264999162093365981348663032970721005229978633371985306415719624427914577870393122099424309436391332070374070294527906316961315726501948164670967955339995951268757421208536588495783707576287339655087387421672559465172806610106239763100122609654126154191978786945447233876604945988297005036296243380245927766705565236775581490751019914791862262034192040632078118084566868603618478124921292994418461665796193264093171795002035328569123514959245218902057314660551104167227779905993844764825684079884267084714802561537911925347837441289179137552110217546188180263211183137052860985973524494467831735486247675086489296679382847775784870779965209060590499079490989476959355636115786746553304064004715383517268173856901675354548373144291005849177485927732949094661381453872464033122015817579680784522860507976420919478315808157627565585264595305752087712610224275464164082637536499713730581659102707816685891039524957923906994199510325641251101635063308796642878372631444013059265289714002165755503104462586367001720665424451753724992581678986747773317550716573896621837869110655163503825636535280900934029864702088419438123460529086684642349294865628500369817533681857412930334779040877727332115312939671327081590890764354876318381010029177925724787966779586002938638972687821954238408305700443844684523272799749408726111980325484857314514908331186891474908524615925076784394280490633361106300296216944892110626797676368432817421860416485453730857428748562025297756412069146407957511692729042906357854671071824747286159580677817394797688480262869469495819436378211399257140562185360516715103153615667589057016884204104658099027771584896214808901755506268095872171231035200174970097877334428103140194047979062176065123307332608375834773461242657502322811676664615854516224857175073067772252236724157341989417850788297217522251519622571333287490655625057247905096205233248167195685625927799282316005016928146129695106849765417161144940289635379699235428716473419604865489659008487433966903206494061923058694632627166711983763902249969410067825694678993980863621490124324427449318161005680092456678900060723539776425482390922830866516112336697547574211661594270105656158015334583504252302371153599679562286303157738130360159412134779985579955648059000994386673962273851138503270866060923836933173922789897080952159935682409004125525909531616980807449986024203541443975773346291647661786020972548687023236376505313260674917838156947509336337523800654452002789882416317552377071548535963669331896272540228663930073501691929877374042842472276329621398758450068980317059882978321382556834639976898843341306914857913339688017723385946557317460968587236488738803184505225377820112961829003564891217442856752161820515047463201921673501976286464710506498637151949910189115293035140174212037709601438333556992533802822073445760658819970446636391317306746285713708883880161140472342369891681606690510493319511873895552324709283041595326733581819943121972616503706208735121831843338833044964903838949946183103473468154135496393497157489845580810009193710519924998370162235676951892423505369624789299122446162414926704992772302329011055583206152515169450555077084777101389099587112508454802362014317527336597184342764009514411928548530620104566970920194202765757709311941696124890060110851008014187883357110074134585244979303224984105523649383914523184905657684922681890366447543216605009068064327981878564558074652658281715115813852515068091174307371974921632533707737133994409596182740421122152198278910373186380344337330188348640875938729213522148772603578339605314036294422831859186762361302296498878449265173256747061102545619200291676240857044132637307081568585315233841965568922092368571437410863021652347690161356053632657381282321459321000394747513849595211387854879844459935666079266196850654729246011062719273239515473043887927226709812261858050652733573437327176903981035900624849523408577448018211777682641914507757861611779359624509037270068053552314239202480761180617145098188234044529487087171988900370173828680279172998849519413333006595547310553390984288239818138329701137546038051733481203004691732213450655966022168856405766022048811607880512540689064079880667159153687211762759751326021900185238356267628302024439963771836725881895755391195931480957484178421727418277935640535284292045182040188428590931437878051250259916396806131623821478719445506952814940908946822942572092764689581756866834102508968491207540191000667129109310313522994167257309827770417859017275619912664320993248847026052486464700192993680505829419563659696027271976472270451203511529762112788340394037642550151535218115694939894280718753560797306983665756770590120945474159961517707024088187890875035539985602186954491121085961737185504374379508701307536265614927605508677481253562967246508939975657038893747308871946564019239814750268983727305259190405362966768463954525602866716157413556695208866644737243938079262357378268542434053341026700018547799749571170871897713668555587069287951286560697902311919184046199235781842726780940043031488411998363424460543522375562208152332463221077538453174712501380612422994647860662477431978955150018415085109731912941814652488394590666770742822015358996933469079071045673600126156276373098882652969755600208210601052671662688137470584438820060522650192878649766614291858448500990276183246443364257708129470331197102908817083536183631792230396397118685009219534660317583520443374377825292883100799165747707349607522642745203258193453302462594697457249057894354370416688025979779299030674104032676578031300825359255135697273030356385953000996012647889376055130129586287968098692796584482042902203390834344105010868466793782993039970863646118506104856870561792139458369637231758142216817782932934764385898529702952495365929653175314986222068758449457502364222148489677625282433559785620331926739168014604779493981932233769466073631335147178403927527055744580977498933387009375638248564938647005276729119735001159785744182334337805092761456498359249521068941951930772295061698718589463956682159436296795788986610512946315428866526613734412175810388178659311707857429355954101579675098773153594558693099825374645854227254578859090791676316489132493687000529078630263539688028880055515465695359817481193014384914759350784014696141992805727303481271804620420980117152979038957076774594801957938831839670936397290744816967224052609043694300016719043106737350054815306222817888331913135215181031009169083243604392484981616866910647124580334282785085964362599438519224569037537859167013442814029580919189657640618899976999932808422104571134511936813597673302735449835649285164718077118086029400198728522408019081169650811268951414081614298994767938033632927581170525542866446251312928994583107547004894506195175401008081385930972362551433787349377891243729759544382306419452608884223133474680608335989729910954424283771536378431434144278304438792063822261353794142883109860572349822518043581597377144237055539561072828636190818973710235090596524134590423398498093317808145239094042383238832359614233502889585896150284823463553087988226790922527440901838758227043574666661337989671189413120360055272294190374524306307079922024547190191777324601581825091485089248731058974359255071154300857903964054715339111554201518782585140614046470951930136501217712390601514752091838353348726895675530511432810148446570227534635885537370705135991819412951733948706099701716915046941345484033906343937003012100829941220971169852243779386688706160723154087739892611187512237493677189121606409603626360240336576708924827091995528234566561324660328604049760815445287855345974968880807654236383557652547223830275636288460375731706521677970460305801808013241767001991868447017183593017968632534910166456965377635805735288706337413941982618224071016896766544831545961761008687086947048563255485154033613563446017940595990364449598778801741721552807077801504864899850649230586137603714924122745960880024305877945303294383035260161859529233836591152290379748731291937054146769363326120022671078008839035559297393974123120721887991360706804061787506290065102285024326755985333089814997974571689757908488334112456216162137931570069618423729373755468665875905150276149383840227075805341819454773824325861411650083684363122245753067631684123024178141177244428906335691125113970686071556761282121165239756640169873733261966389271753797993259414559890294786048790466582777286987697819234829248107675951943449870953538290650224266202828301173451219467866795448560923790583137780784364475003064411911472174211412282981515831601409913360527916120256124217968701206807931849490102689758228968622209777136126933679386226570433034667514728224374274504902043252653591830861015538552490411171766035062108020473055656563258827616256601056493403945826165142585986524707656683191372714585248219739081962563545525134884917724203566317838462377523018261376152092011260252798735597160026409934849828621058878145539886401278748334749984191067014837015391375148890250718832603329632133845371338573597987025937419907970239862550617650939520162109378950133016905856905359807583245114808811831333670904232282234119097846582651298177369950794573030376471623132357857972084894437655549494622077586344569143251631800951710580143871733654185469788598491472858819241937793534503366251451040480278750151749198191347856330854668359395696142975683766256825351421286183157222189557309207849218078600116249224550100963436789781769374410490678902870929896424882194077881902870267973695490345352719869269681453427071070237654568748521902938636035288284097643048725127429370952581812642587239661375566951439652565473866229997994348284966230575934434496912507624016707440160170132847938008671251054154012519825879582856939995040265524547702843296301528923405038021358894177396854583144108338424775575863770453392926078762032609896774830356922869282398805198906026825398492435938628680501292112293216400542482181799514719466975551492964826626412407546520257077371659770560306003143826835392766798358459935758691756159647530724732903919937620770606457549506839027422802822900563506695260694885766167407334414444909107807969487762937494924808807001100521022109746411103406856532842266374752437620856120362909633401309535588341910487890497430121535095108199360407620565066287965619244839077416826894366720238570723750950744520394627772190893446409356616876953190199870699173579401624833836023282746698152163995959749733935317584709752607302738922107066393234115475255883008537976735373482907236378366870039028634371557809202519068259258720240601314451753916015081213536055016398104329479198127592112925833724619275843044053177649736213440694098166768372529537734780154221244451466165189857089857667718601906254712165679184825358168487911571307967679844009196589683427261041349251645549278711960697884726467400922573125128793083992727625986226324627159529870819368526354465496510429558072162430061083367919240042160991457006139754660927887629014541599823824192487824009514388641369842916036462402991370771901929446307640407417370017927810173980367181844019969506087519794379826866144047380300882034078183018624836933807007450522598189355823091442231235228641484067355482894631717477688528643980628460829996849395262227433533838552410892973303613758252402498488163644732760470840092761540877886192275898332169778732906294886153566625427123266422509644608517569928578522167642925720116793067949443211123559361343676195030240770127350849337367273954465017921383196352427354009677859002198169730507141165739846271132736287534358494206599140162986712371816438779116989787748900606760176808846439288796332844485223952090802025304161166770013660341938248706977295802085319417687767967298250007678167748518401925733453242749808643160169262998426433008325987548830630986674684620464388657809940153594733974887564673305213599172355761116437958253116024887593943751595384253565351732733732661397763323970907781919434571121080249423453547669040575137144680582041249574935797989975504366526043165405160832344507438328892471844776746557138762694183390168109876922802393711616566006233473678350807939428116744926827404926115878513252145196463355104016094310744844147655919844747470417702262395045537979892562742032152534274557851073688629805818577825646940782543382127530868022732123875054682122076556497051063784083323314352239095905314309534248565098179721985288246639288950406865500637906019171925500769595040554616415990051493321357211057294149611852203760351667308471456239100895809498394808186593157043413809642839886322824017954249455456881836847181579281528531012169890566584841599664650848113898900461251821444345274168951220205867407866418808833065569776739101550907221534177273940136650242042008839434404574056823352835406216153478779114267697715776055727034557141954765458245129596211453906996399432523538941860958563409479158250495234778605264549615588074624438634979953236644168400350651991378991611592037017168375808746353712420887575286154366559635447982698047162661505554117100709112483868433018976068225460402289928935906961287088572321910645806184836804132333292138688493078248842448950376200092700987345454245206461722938557805404763193947155526934529392584504167562015875927548706775954463921817213879796298966329244413099638913306847362546150386963251831239299911620814426555441515984792576304363622060137755961600046931584902874491160072867818526038553024146141366888886783786603304551533674289207724527277899876717702806315291152087932243846881001266958026928134227153211073003181722220262916326190533632285472368288146368501380692819221734635008014599712901662537915010417738135234807083535608362215637966059279159405630678028920532890767582849987789287326233507685431993295933137536694849738708596725949797244406849792659336586059979890506084423971669508072231765597246579127069218328813219694637570636678973825480090348860829507107369857783808896179450160459648390065910152228227483894181540407446783580848277111054694554574709866291332141101102046634324276701806224040249362705217185885829846763417081531552811561706157854903858195597806233237946723029274104967479286346869930597603624662991980427815468961992787260271739212515997944448961368401472719743284868267906163204508609521371071234712372397163270746209328944851585329865561858286132279066464118204185578834872419392022786100624905522350416349421844440579847094865241460558253775000012146017041590315986780772077813694379403237886248480308032069379314330593877546838964684731312130067851628839888576849916789272479494168579994207437618676671441413666123444251418229669843053895543522631806758780286140609602682782004060465182513814761830678671593962468591204789928734654177649360890838432616288063857209613817302626687497611854121700259254091998185244518542116811214854334169336721245923711630599970022857305765127148567558412998680346879000862509030975734966821817412762944729637772098672267729950205232810837228104689596512398163400597756944420948823201181587526253815316838093313750108148958953683328786381039659393957406457597918491678908868592272802654413030412951094809321901550834635082799109799153780709883191949547264954428175995221393573216449060961617586694399550108165666514404124414339707710444852379572556049299128310360873855052835515764259803137388240289863437204788188852823357417911679456216334392736086096172799070384746135083213215114313765552430327501681429440358965041804181467070610536783857336219042475761264775446436285432773116577627013034495009515965782289599307934093706371359576896835401541309597699150547818602160899127472672631296600357347219657002410494876654674040827712677360830219007732697581991081804700408323151524824463246013168664866956474120102054203196417621697813857347736017996065846403219221995524511072756534939684386463768380575980469337684626171051660974617592043667156181521576025466363228890865357341979664992851164186352453930960623127075745177020933664962187396136238109166477553928345188705831053364501260244191711700085185318763481495007170970559270853420816558243590949824832808766968330131607448208390140015656690686379327174885207945373120690173315400453215892190417270324412814443231393468730559825125350112728617240082393251030271489672590987660800032629985619965874094282352358312332416035941087073522199940174867647421635948192151679348758871436058500260079542832708797862599636493033923389499827163196342062084806605814180232023165408721001575046176711919856814592011632278838846058387694195892427103168642135517962082242951347953626992997306396549629600688609543891275372321813045806318399158062232475100377790072479080798657894269184226115460874301361704390295385449041805632975344226853113510017825213647821324085958550079079537005122370596529166940022166497574237678174509671281383730142970330129011240518795816925977484474604208335214231702055654272190300442071084764218527809023768009711994209208097446400159053480507491219838677656268941167936580020377511872859417021810355305737961246973070389210468900207702023287913778007091245013301203747578429859820213202068931890812940571704810616421088758178973055674596725706916485175280192257011426734219019998315027468118128839875872640505360608297531206385959893527014141508734093074380050274102106862242173608996757145345457774455436570692030012340832360916127747297677384546737140043454455968533589378919486897928412322438195568406884889281702020412265274022579594126196178767826932976252121966876995537299910035138229845574780661431506569198101283278551353371015144636971156097370332558499518836916389258090012931082450738904662481806943571622363746457266564131510744016786051539445672373479996302329496353608034742062172937347623117874483993384120117283105481667050664369980921672044116496354592153340683075860700708465107975242595824430548772474299940427897506819871713683969578440260425521304060230000494755519033340071105477521585815864772013738573231070494969740160363234960929240782128219019346881232356869245556629373522576804012924273205486298923068116304413308815233215086350347804603851153981173730034021580316127099195614063159114111581823380703077162453807578162328485052808995279854582739490265913221011714498242962605583943598917784509554739666398545637032224347559866300563115253675847061582187262985628976600964082315756364728243263929808733733683748854987190987205632671335289960622474326068827503189970591966503338108045201756685549504892667642683687792409409278081260600630365528760868885958758239962121085035110752908118742240608171079310119548094255769251408372569618549614315356394751964796180440367790720016723781406159925956927260585629829565505637427204797110418312062310987102373410144884935259721923032745894266052686376439602400864827486967859217369890123361821212310359227215334301827968723099552143131720448484028873706747958018384469065649557106385498401733067188091951893864042830493553208332390991933299212908351591044665766426848126970120489931578199165616007287025934672166355324865814312453170202692417553716041119063962916878563254648585635781437819160187860925222239040110268959151924622536568252469507597050362119804033259924850351816561984099282285650911664700854428662290041713548085146183706275214809977806552399838492616952880199159818350097095101805828154515236671028080158141111064247560252509193948157362973833733565196764780670869172445160640775037930256043259123335732146064021664079687675598735235888707566298413851400755674156353580717992330854399044778255345092421608158483691947457900424475734400842357291122779813886188029856536580692096902464321218431960924248404830886904385669362457614120486111784148983771772442297335116800075535560102955049059399584871408553856957286480948768843338268147634143242204959266154006842842314847851336744066942569535272432812327368459130514327115615038405439238275356190415015829113383641325656430509976240244029229634150749204409285037752260396200005482370288131450842230366604836089889118404589214142512426716825460516793094027601891881190562950676969539226559072358428520294967717539431126607092323419786036260915922317660854512050439305900783652073387858295666735531078747306465407839852863317248097262506204720941443549183231175951735716322947229436850169794064039537399871869358159888514039525345641501600990271780866583541566147381087680592793083752201053132018014713796134086954611191465082380638123869936131667696143114489532825949388867225759975355234075833489013620861742047051140356313820913614257717906339809364379075956696022878886595725676679461497009890659612937862265249960013664644648536520336570142605051819420542673242028722725876308245515543600717101432407325268908905272688294218904561584432539013418141158596362551195402000497706489906769921691368741366647272157616893745104325136373669829437954940460109994215356581774239623221489507181467621290890422686370613270093314490416810050930573862373204707939558999908262056390510000437487557959115503498366941908634228141943862327906924204677971962922107446293130879490892611751846041238753398678206638353046732308530237424548341402844946776159464593873130855026504746476901231101773108848173529388709782633942797356153373183151508410321571389317106450458864011966265274759752712049285914269996425193451231069689065475960864867762084721809884311796528957654412286482145880468546891907891085093946655964422526058185814036692349710495544892009883750640717985685035813730535208985215042567044076266438113751718113519448077892824010980405772805470244649970284178342060015751901879081848833191717658626424905347785899213982314792066470533766969131993099301488144183449178403763742340679669184744833356191954436514822787607169089138125316365069586808485133264484220350866628628372544272047214668210834066604644673561928460726803172753618852770880951204802755896448339731547029029777867588771743819822570716921608416377450372948253715091417120520234183315002004995584045103009532711919823752294841430538102085008341227787432057477807643389679587832660596849365144284361820884761601738276416613778677633447605940615519783475205137622228974786640409097382626931703728321279290132832262753264648281648517233272078159617369201621268405343812572175294159107916088715823958186190173872726511161738399772127259388424003388923498293843415607333056379918915397829369362639834243482537447383685843413079716420448959811141826338816033184863544630603685322802667885147294817300500514557274057252034266383375572446257980063223995498860963806083030639796935473759020423317811755135889581921945554690085744833726424792977266227125538078116917119147614834236642277428761241824798850098556439736062907424423073882506703590221101128391317495966326917656473448648905932975535270837323704212065967823588349416047045879984543111309130721687214264130103037116339448631864862108929029312015598244713142239020115240073005948882066607950844114419004960721223523397629150672292507981067007031387520681705858868861257689225126739115114123955761630006934438394002623187695285972096509258455275920286447541266918978337111439709153928766560446052715472090981526934132226755045094805815446023943260623539084275210702047469056061703836026746105838474104770278403248378973825824205029000828354940755004603548861183616799470599813359369666995975534120902168063469001171767870685353264351142360100299192083340307027352769502974542000468967483407037125761197526910370360256164749820215065136247601387390333954768992356916042838432391711753651298062659668507770941009788969670550473736306813173335844463853024681797044959172275681410308347045636610194362671432938276708693161688443782988637388755298749086959156051010243187028451350359511765421606859440189267160237659876564191077822244650490945551608975418389791474217233324316490327124501503789595986809084175325428870497466984437709250399922499652939111215540487947320766882240194204697272541028093240574647651977450249967220649582795646780157786081641709050799200315397640373846511257210621904469818995195793838517208183133146567767015564233359619368990990570863021676822438926339576580617847405748207463986565815266548078769476503181558309870741480444177387334706520821613493165674717978169024856202073265480495812657584627814477771292557180283650111416398122763592006293864849376882495680431649918868427723597871078949031610843703026934394927237176598688818349908080734062477651657738566404319150542369714538915639192529537552762267604771819374264704180998295613887141969839872427933281373319569634199435930575831291285391069255223423094629822937334598861293186073197227068440800178762757658319858367919342165502743780798940554342430994049837064979694857117790301659640005497223525736020233133442440289732496028006570812843070151168015054335473206609584488941971668939757241413658195345971585550413983017035131782899969172122102590757350777103221055924693947674797257369692091947979189043514358978549179496809729325253522885908951883074818663426631267219816024467978983196772054291182327100955693188611532861829087457983238348908818920107658224307349404432038990790239293539608278720182844428740459925847305699062484020535446818574424680316901453837220552718829944517630794883974289041719779644788535519901728244816993019258772514983004230861092254884915697503197705549830344571113410930450545556763236498596618885365049877796613889518232078047497089529144615827649554444937643660419591392084610272428620939205433263307396923614087014303433137918948575261477425584221887427666603941118621930901663580266858962789330391603515543625587150804849491036145062056767066816574193264022763103325350814746013757836234563272964813379730995009689734534222268763134521407005470832342673436498872497264126683584600722252596451223868150887341972250559662266187971769088874846763994779144358235647044357908553706387805624920781769631760076098439650940681936006820291529559574494041872308471489151699283497224774019734905937526987529102072090659251940039732109679143806041543642633218069701023750405635258697413060773593964707359574957057228608249725942365143512354240348703215234829975028670486912573708655302370553774389830869258225283534923214291539824109772137565404900401357765573279556256704431072920170330966007518598135701875621329987279355240019463532953224493840889129672468459962670703992305286540283428593584993588136449645212961653261701174655542832006781146027482848385915279445453907141575614381746822917614880281961284711237614061106033951906911949608424912203437147241230701844046350175602730341714073646285095709856220231256962754061084126798209991427419265120960261925457897116072232419880934937949132762681169220829771789091655651298795439187323981873857311655364937881590568229372240813561220278242984245750723290000526430264434678184200031703571289079982887604361042979316148334121214731022462928645008755595729703812701922735920372430717153350276552954904327852380386139978101931528901976464179615169580363535141964620046319995759958715670285755333766229296728318300738077346347131987486241070885292552310163931319162797349109208359387602757413467736906704490337072903334505610195035312248396435859167658247746095017277866332395572365770242155919666450499816923625521439937940317764497241373217944939920723512322775412023684608092063556767704746361089801948931687828621137400927126958750216265145251941671874656439254813092820756993828997563627122118495585189985864149550471833969012097412924151057080228059063889639627877402783856359324729551498082674429506442871999630514719560647685730451116283125632015747764524756713439549650679783991463386611240074631199718339686577820747329148065203112027465050031195900177842042837920037689834001758552287284917289687242181969927454635076244705981477608880137590859938993291452367156388540480186927004444758074905211384139807708948856584455067988107959861240941541909578962130871210941465500960839859303648899199194170192857096255212821201316023471312819005894029490449545828791490503060962225441939057075358628764563332859038761139350016669059802272300797097082284071781301230597933103174733741213820785330564285388205045661061236907353691300857950354906019508373310898816644182834458920606790473618076105362488816440973872220888053632670496071428525750185792875351263496149867493666530853515674490976521643794760485919159954685157217360389863550935079111461935870395534037472171252992952795211738590231098742842806563329210039755635431613824590514670929270374083343916191034293335409536911302615554975416568792742200196993642987346128753560492828141480691822089659035312208798919243241627019134266112364775774784638974661769126628239915904820603154222677716528576943398528251779932338972356466732699867847576909130931534493981600819766316982827913757585764824981431601748550203908146033405919745977134041525521954664311879141510972531681120483342312620939065193963758286639025599672307631132642226682743603340929718922216942647036021492921945478717046557024763711974703727704037665799210652411291346776324058360204245032147734564946638495808769734579530434970495779550739044290208745986667999108128262144491852560678882312614448126688263672150414526492707543126198195855840676404037550599829490787389309407114814975807542226000051735834303155871312343547005667316245007148407873155956356432663555999371217459516091021727835465464447600535100977882741649863019835200889467209325425006328159690242877108438788107947795145785876579639170530857661990525099092984611374498995598413407349423751493667139967164310927237382604927726635799057301827853067534778088798642241396428509900900941101625617112652672654857931585509953001946799117133223117940758696204129831373581554562306554209197223940059736384440371359713804033808086413324549701296843232901609773028891816324223932208030579958568789043315631140565555110204907777405538836016972503394064963936179103878286422014502956573568081173164780210620207442500614439681820812500160713849506830781178863636852574295725719118242398640240236572335272481431686482903520798029081102432950343200702091814769137942977216949783413005155641711020228436074482537345431236946497071201776268941904022954311352065642499134056013451181165752994516991529331708538916588509621955688841186524695828659605850243284359738535820552079863395759408861133643996584399183293858703469495344018391048114508901843803726020229956693188602011530156744103117992846355130219451417371990860533697014024828023004660314105729983098104876094576816748140709245058970321094324347925152229739980000618659141592290087780909307934919679376027799174363638798621795197185927029755890593958693195794865672235780089159283822511798824026922995778991204503133454447331779057193308703577214320519903280071642593783998952469472535869123772212512550748391714797496074408677143320504288630658458401790383447198870466522714828835568952879094691060698266153239938933679259069011944827415774516222559919227213892626147860592338086148178911378837979178723825467792835606266112983273244980945615129608722654451599285331989446329516892260513585918430093878868505063183269182830675639442498187137089681818840579862532827904141100521023661339396254867585722546662999021750657942380259833395983075148185432138441849311079949391007646042668815876193708185613144312218629054915918925794300049532447174745835792003284885345806537600863038571623423444566743290964449881867397772349158518216604792773416849859426523451183523763614877511743956626727348973000335321708030786139625550192750385131729557648148400177626549173174406746406310510886506618922607161349033910815167952138584567112298144243789978745847089595663319046772040125928680461296188656552919547290904520918442611352577637511848286646957594690089662533037255031369392716793091885821146441381667422456218977119772434282108247583031587494441211993163405644671122269461165520262368283641448935728597788250758409165670216854412403053031964562603232611115451477149837362386239139260670168820693822517002939294439395731265491855005860713118906479468502732446997752762649107485670235653020321267653716344584690966069834673688605440779045969240898440073485486873212811204246982916004802724414484927370783916487988960635727119911278784695043598922875207211294040692447133602406956037676248604053036130906180518094691184771531815362240694851581984493627032698128425919266149692980944783242281666820842577459020786582670167437764502551247546508078670395662856761661746748447769704810817823894930669640324322789328627042830201487795329170005244605742453633760123450608443021180406700089433674303738634306122472860119919662460280639876705146775906136425952452040517818478808314547248114720289123492309266698402587481522872411813462119392495914526336180240725736515635526846175610398059323895570439249499525239052603464774796692990285096666627906389232277116988746547981288560220953987076253643823035563018804055454798720900273060337342927032967733733718665490312679576108499172458779077088371028191022273840801976618393170400063487034781217999348513198409057646908700911086227159289093208380003580422160910326701731797894731306617983825669211183643292466107372968502547624007022289619420479340584161873106826536553124873776853015579288557886514205931554619489308621083419021214177944561607435325657186306333916861436355042706580181210691263714342923193531827446130516796453190588513673334597843564781878828210259787985711018477355035131307569249443060862238013793192064305313107856383820483339679722661195185989462467021012217868472102693100212020577036213914470350768033618649224571497823377148839058585330984460842767727116928054686455744485163556638371954997385848847013810763700571145435594204386133354721017485822060721890739351242566186895536554083331133191368187561482213066863484556576154511160051088010700297759279059081421629796375134079737995223265650463593308642231612267518667665675193002822035495741187003357564561864375506029011716275257586407765434435403079151646577908721187773761177746996477783973963287466535848440754519515467702160525227202602088615116258779888382904182178030917854913487022438559821891905098121356239525920464567551684791551438606559392378267736497951027463873169074134430811237377427553992158012389737432564865956073270014853557892311695971556310611325895360213746900008881107053663589471250985329349832154086711773077056768646647122150648326782070988439506530721017173112102247769514686980806946608511727689981123399075437656875423639840147781589137754994615326315517598815661584051962246297089132321539681669198213848125165951458000224616061951979115176451885417077274619482719993889005188355072288346324203394442937456962722129542967738981732121584626325895282607204933722183972372166204886682117040655785932051802920969902386353467637356613832244798228950980885169205574101388139279242743725157700628879085060463996164634501735806735204455123944857973923785250095845713748309192142190797372577631571797527084759196756583135782291524665600370757768875683823181566878778043644781047358928486554169876309191726297110080039316328951295020418999153027156216091269220589947897572681673166709927413558433773910121303189804501803400674656566989471985681887871010276425061821780132813551477898617638949573401208618478690652559673057980530659391072113803245464281893322576206895979206917996211369722747944217935148059846590322666247343190142436933983357206260307434793638216402364698034312703116366392633887373181513305507195875513988141133722454847187183062222373262994562305295586167387703699269697234362328795720667935443040089056513518627432638747899266756129455553502043124135419369168032939573805485394484583561466036945536431247443571313215870265160059736289249197726142655054042917850340851270576516903711735823395939580914721326587124877206860103897563775429017009173575163288623670363602498215792358860649073344096746881920562649734589379159429872441040803344149392042776427261669539199481570127632778753500719889615959485768707642688659739474950420365003620045148818362662497285328833257837485259716959130918595260714136279853216839280787156585846034773357702753504675470518564365039232609748883368614460504331112821184415765906880372222609416441113342304211405158250313616593755904231801345330362686408328213307434318097652931753793867526188617830834814535724103627052362168441681309980898146922419656002167573496893455561906757845038253876102063526022594405207613367196752038918031809442105199178575281752372949359572269174210396730694454027858997557989809808999605954143031615061052355658350576239993861436300960742769697723389159706233087036342005996733420904740209349560872326878032876056236837071159441036259655568422400134026782054184462498761664021134391957881995464910358574910629100853225532926783275128788455107563297579696941153455191622401882656740618353396172269698154273712460837004529951157883031037093339751571800924227224130826522592389745058430407837081450089493020077008277681596811929830581650930969794402508441633413383290512758762518885767856026304009472148957489072460486284715742200068016294680640222987207940741380707855007452294123049631279535848648575979349868582081148411209368280099279445282019780152723798316798553462396115034656573400257204355583543114147043312646787643347838536787748421529708441963445988892686588767433770627840749692730113452003446201779149408269023217815270000265055516972223640291612749692538357488626345313916354363515143109178205091881620165244423700046654505530096223440845648666989254092868858120791129471909256139757350479764513457132301429104275836603415027458373109867957679734950490326872742032505093076813726651185307283065807457191546333683633932691012525259018634713314412636602130946191467263420318557477411035987222548467535645763971473767362245081262279975542854521174383288838283299036309378452259679532421566154844536601939852521008654211877471236094476132740178462112571664477478914872687427128592271766731785679983739019720480722327211467825420428151683278906848441929933566126552149611024775604788246285647238541875633822913355841745783702933509829785678437485706072486582347149497914656343621549447737992982654525878427732882927015016296609412757370282935723586593117393675008667602610760373469432632152859393872854194972296523435182250769097725270126401180729820767599543288549217998049782725765281143987427121780398221826878183468743160422501728385896947409636362136908784807314941363947378785987116324940844677781609327983410655664990828819037105418444350854017814750873161700349387513421776165993758953757785262752076145140844913896767186125627701672199175913977147901740304271321988088315372804541639284817562287895067283179424845292506026967191916816179104275607999779453768323473507023233565028532839442660645719275351080187492137206977260635244957630677089872237458111254186600590471791522901306919249584873141579209631757874111304956433176870224403858811550199387972471661144658010191537702413006482951476049984274420099817057444050661481521915882293168157361958180058971507508425816570617702317025081663612056388883263778161888746106478859921521675547262974397565087547674753302244573517805780666600947910086547101802898157034613278250782748406363104967770216771876000806788866123516532126660880850365009795848556715300353071104537745907053695080244605728265922604897525284401566940818145253956930633894607417501054870070522935967470249898299714335917720285256069643272138829941376407467272042771909712489304706188897735979111598545312835908846035471063222803489232846997642794920428583703693180149655947406295363843956578198955701203532084676703980117089083745542279643306798954612166270953193448331708077704405134415496606459530001385690820825611516259562562559490540489885777474557614780519877205568185204084892798682444555854086608763469384545651479082852599930977752886352008461929166450579121836220533319844879362886776172629034840189615956027990847491492672176503680575091019336222979130519400186384355962808242526351721463951380418646553471134270118134947385033096659447504837685739437551165680529002722468884557606906291818754992899475518994515499543941673955248822822983428785572739194851499958717694053188707820160830251607881994808598124022474667513648800989883823959657748191915028353852576995821062846550247763136561744024003543564335689353159662001778954607224471125609304509484096108192578375341790339693823526931531857487713189223615960427754748176239690298362226023467708762193922082964087862680579481590703811817839056925240555209453282608195811549556667329601692880434687212013427580811188061377022819685764098581849139788078594277815117396257192124018091293917259529217658577097565660451422942105104698698663940171699882245751615838208264409087538823376432092841623231184535608944425266828623831630590007684455085626428575430665814890987646749052077843919016659631605133647666789292837564280325416223896154281170304558357137074011353786895080721383201512128762128749618642752755145500874753815953085989748569730315479737706434258837608969356782224504419743655300914243228935637507602091502003081698832369882752299123199944323961799077210111426829690579361453660791923008542831801407568612521546391148750337600573427449979219529437515336103990023091696244865351595858146090336161557280886239166798393358845570611824013381819730392821685767613528035508073855069381147373481469775692969102363418393987950775822040707626350140921211745569494602972138953390345160754481889421526047788842797256169465344783468608764449539847335673583301616924836366702614685526641005395534394021813929842441681276824196231318545865496767357123813660064230827321379077384541161892383148914506918815117249577778651845895476478212186768663963754715949984251288306193247522259614797237842104109698478882076745226338817803014691693172486602863702859447462391943642376398785438612274411454909993463219200866128799559120233371825383315859195582533929045767243096085133767994532638734979911248387616746872969299649715076471408724055618098120903324868393914356137953176304707764774069724490345937534666203757607237355002126321702755460204356104264237510142157557164111093019124522295611262867702761523230069454573419146280552684979479715359373556103098346297033924739858296694570442810417361393560028320419470532329193308597564572792205940113357482729801690944701269945018130701832205431109908503384441838368079737841653016667864218542193996884721929420026180580630989142950341557448362087015916495681190150801019853627776102424385452067294555922831534507144615222222164906406760308308189820501480997486133666219471584668571566942286010062374836249773334641301230983811535595095619955169217448098437556578379301589583457686453474819186193912681683561423681250714971076871963660147234415008830728977403887303485084065594434523244740897647601058079232405154127764359098825502341505321257122377088663291569352551103884509763842919150723504803243050368371969868493242419575642574848114486475389533325643401949915650380871869949902303937412700911510905218502945871861458428080941610017340674221902152862078915856955263270723505076681282973208608170848071164082091369554442899184601979760046984411482716870240570319999468932278859304819325911071527590574882868114643252480896191610898511385319180937588652157136003417944275313402486688147412992575585180418134518609737283073421759970775396397041712127443570348641263105880137614442563556549389693467045630645640366002397995692329040086381261453952980922125662662790013310523252833301673613491524128748243675901858216309553860167055747530477183344405430589523140069115056878448791108669434450675850562639090365492126137410146848877940917642717943557354993648132927706104112666355903960313362407973331931982747473043240816437975776762895576947514247512266295428588149355818472139738982588101726478949586081306159764514256214608589550096918123102141715674768756320133937585107399078529332554131168880811112649478593007017742280637856880318207622733182426160517082712670135477101164981601878007978856891269689173270613503383276210545530786075483469086418906381984375005874308659052825359574011456496779656039526235762861942787385361163225488581402711734465986175562811796423263344343197080667186821971685801356763446444600083866038502337878212824070564549140800392166792192919324363158079382152444458561383734569046777259880681444715727332830575535847949357259088860881440895754564937428214573339123579036027484878404262630862522406955973791528724436173523614794197137630939199337222677202575990765253694691653916676114546634660905419781082637240244546346982434549706620973371475962717204087962431925550736079839629526458710687750294266781177340878393313904166516649483282461358079378707154698842842367763176786100984202880146017649638440529382650313701345238556478749075980147907718703319035389458437475408465395673618825354623377647852097983362597319923913409556910662139150793750296557781178232533623604878520981656448773650753716728292943564808252674523374234800434586868739949088148020800524440473670526094237712898972589537489933915770828612994570513491583033954694683058436290161824731846435799136028784971531640876219117146545894793581240184891174796601796650552590980805937029853373833116620630065038765069416901593444808459182697144962328741016792718582644527384444461337808429490480764177188906030163343042770796724862294395630267359182057347363246898879014801795676877394853799754613458365479608626274907935546215977449309565844225681732133513831063260373740516826093574396210098729096106449235917605724858419365439098089153953713066967644622486998638711405633385900089242414677775032611678023835905841911294093310391945145505967476789050702144764335443360971859861422947457025572353333931796879512917657241560504439835539624893989773314319999796782181715858903919452504447296781729358792463949611613929134067536792562623112758810343298471474917680721621094795801279498539698828096054201106605219245183759312735324404461622551277247864482923501016582088592201913775686085961067244297728113185062351314528604058539038329523786205735262619118362346073428896985275959436983171142793933858362861802019903603955433056093153432474047254957018630236435435194516063194226607377529247819492388908358093596745038217203697061316515329848576656536559759863629569368091388285347784372373026280332044668346744434639229235366555103392779076439485532063842534893370126349092488743992048501653577911897795951136694144925998707418086050249391126225648660629910258513886508133399288073300609642133459974608322753344991087058717901078841633242618210038778819404694497729612849672173949670611242688771512925819299620043048942410724040313484824372993114689298289710812933546726364076244461381823864603698657766044631110491507372412089880635522293649355350207625121680628376629377293415528269588940307875117335242605550936708164507414124174146965451077351252044335153739247222154990988747391857757026499975201865013417302591863467444953186042987968615467269068518228930855369271268576239142938423022845702928636847961853974668627275612966657344495707147716432615405108650946709453832144363163261715255459092749624041194080583926529716824475106462518874623967916895884089477474904005165686655344833856862489281119882423287938937985397090355863535439975805520752289405988558815571832797451502813838953632733641585935124274411394145420349779071871565777815513648570999373666844168653096830084479738063563648099419033863691120604749586018352544873519871290047566837094033799258137252824099323046293431310708628737572531577232452179799227974342081071794282637127822871297974081998501141677703129460259916085651062325445664681813691007485523938398099441577805758573859047204732530007866478003310953561098287883639914958401351485106846469284666777666758530765968458501498908289847285908017915137630819262328184038964041360475631244848583149248608737970345292498579863005037694284126553906687510764697644190116757311391403493814683683652784682127570708205342786198079109295041547291873683920038056517389047333394113368572053016434118344824694094088805634469764720862784306920195539077354507681069124210217877994927173686710299695014420057915902079491761566665188082001012770982697254293022614060199048382245082844027856887592176196258366821048027565532591460253214800730740802578577993082293373443448660563228198128416406035977889194066102466231652483495939231847476732500005316933937953932702637043144043632351989419712492749564613197742700467057182590114759734422895673603153028547708577494644169719074204914948831814605604130843411665711395465462391267780435037066591353589406967489355341937399548768965138571195996954698195996647157832160803841229300472070358316808940468605040557529877068856805139751506939274781906561654318039097107152332169890129304904967517237323405051550646817633342729944454581677360056363642191889995620025849091035571901522558434446475399955962005839730054144241091766256081185083539484376600076088265241992194358278891846108868024158565582652001342445141546381647160552667125969199130306141904357041053424676951721404029019432546478734304563076213586347979155635688582546427891969402422366535733233012201068891299212818251367877229132225781813320963768778637799575417352282859423781001915782144840289814262508240663701385524720484933842686071819123493037496354016411714841416896765202597340557466238944114652902678303180880357090338584111280282158048297247565820277571953894604612200682556372875441172247370307974242321648662209040939940624089706278578106188610001763354897214184233458496271909022372251807080981380722259789980756643488062800321680796599545156220770566038705492380750774623846172435445270928036211538864379033943846183972491719292849773019644415308779928063014074633905217449231438560667365567122533901659630431591889616290895912029215274897243430798759008418708677296997136605921105481478949821036437631626579986563854038673212288908339260421711979720445476863075378654892018631859945017494344921650302444978054280485334959736450997930910615515002163986125595860537184856177411676113077791167304246630714596087539860724983192214528285869330490350596626415637404484783403070078740548652538368026706808052987165531446588036850076800450137348918184021773608351902165390074631329259418525613309909256126670510510744567163351980874549550850764725699813759151499941085029689860977856184887491462163041809502725640304834833533031330854662498163009047403452430186233926228513125956047370830772563095272148711474940736179055034006868888500131048018738017862621643172463577406374644998415229342277156277079975454347257854968585112358603102552103750118038303357946246723504130336947083128258343481257496259511267510440711457853984981128346331582089499839515555451271388466203448407047000133641879814192374875509296873020078625590874487387870604824893722376823645707659770188180199176384850830416946499530749036044267312333519152155917714131158151581827349752632516839839738336289709598971735569993074101445995763011555447632410830585569939929008616521862536683287772899014376327793676524570173114755543747764049706098240445640852659783652412819047298329440708919965978595280352701661081205508477535821273853049845084300471883074475704731176413473503339246899987246407724219830916676793758653826847758543144138018010338098134075735174916337199078881062984086933905366109340774395703128002759394335670263760592817987722015982239453388292144319879653875070381461877917538324397637756710152590857125565936992942084595097016836657210684586980101617008830894720475460310838128650242561558757085928550124425669276487730211696955711695523796866718936950764005269555248352150773721907494579764917864855599759781661746896170363360418185076202643883644656611059082875499817082209098064694451724841605333081793420405550977991861928620322170697871905170345203553927501175462251853481981662537953238499765831346838937030519761851734770187424857935956487248262436314897154339941303135300170928622193989674134308405811241754122210264331773535456905887271184205208503358994222168733987849905295746383967707397311979515983782823575714802601877578877689461385520739117138367790536716534259404934494498300878819056017522465726223531218300849525844970757751125175996655588079382880312328978802491788988839645915789223037929276420809279279101595766622486816109642033306918159076151467100458081910293524833570643684078265990909858569711285601163802658711209119811481301723898226102737134429578794680039560123434378940165913255500596871568695543744964941189381766851249738796216283425312622334259279568363947776724178690243317263210337637542300528879303076766461461369805119413979541634616282621637160231398584514461388411272761344981887340951240796222493167623459520559269926555107084226023327109807631484669279460894404804250231293046915334836748441121781199836681304029329184028666765386111959905455851297284625972124025957638463759962573700358481662136851834207314176576579295763287307975036144247131869083811916490766872853163590243535630239529706137567454598293095623024735474079074264619760152341768734018403660393220405446881202902873964891537924078737040583577371264608093176220602817456413545593897017286328060242844809839392550237703410031672788546372636506476481741551554947911549050552127780136863657077350489515031451593586777706824047756764103784246158115237844522028740146944685000334518315522377228514868107249490493855249781635254874402486449352506460355743367571532472325028164451978836465484532416347203988965439553819341705228447791313717279142682926544210374314920264276367242899395528874869517880533205085101255478641286392088709344128401680711484105939310008926988860182982686338913650670580999820837192515235925363563817407100403809464295805819809309307712219130129817904105011211711826459160755061516609181690885872844131417523812574966883976973811271946556761073832714663350512768453954046565260573464506465012055136795831506363582791586413035628474753063306545382170609978024046296381173245435601706033878833353921730450855267505035827758022364985983493952681068284905429869785493959592133339562819731748351857660649725567204379599690635561275368309057832049273143103915203059543276300314094206852981329116653746215066770485358771943741985979795996891588084938726418407511020106516278694980952621727420154238670585684225861443376333786214761068511760905103702707355231037970750776146227404695929233236253625707148239215188233961874988630615746669758058242577935698009928420240463059821862519397607005611113402156755086207583396794506059262573473570899191431451142454047699620985325666859833461538450437572717511333612529497671348818101350353418328400103888512767044020827497330091452630813051789203046309072103383969899931614100640921590284469020883588561193140581258149754041995766453574693327097556053283772028607817731389483392326803016345974484694654576266868862292744726093432488271645600870197004997833834938977098840131615895397784625256858422353872675698295042667539885182641638907697602459332056291246717540907880881757358955252909892701408078415350395743743487386818568111051278927070392223036251177221096039676196183271199081531730280220199588943274110654258884297070255699562076301178607993459669258829326918186699607485907346108603834082471332984374970540606140710922189422840398379296532658165731426260576906033517491059175091023019348645168248172744860006052529808278256581512835991002887482040018290901126354166296211293667269282012382439281904222119012418634598549723863555866577812543791212872092249927388624007099538032694667041038398713883176174207991744880118646981210510674616983975809428525778788637048052682874173847332924028907108453362529203442819216688056599898566606067633785324103835285653978898714465431488749411598716492155698691152051058896758031112949774613867879424629830508288642401803911178130462170757212174941628137157427061545227395895893117252692257975175603605016127272414279354603953002398554111356112412866121873020297435061079452965528257617596286187416330661088305147374394729922731678682476978696081690410695613816076017737430954007637121491549806747368117224572849870836884182981199819374251053916697335781777420909412813265048541958600858563098789649957403247600148696906747738608347647589513823921653561875308299852175573216166853444052421689830235714182339584777493944704815536714526327675077623267678954094843340333832598540888646383967482120548135167466869992588280395245987967548157749890787014632034422734571301338245298235747008410071189970210208693842624695364124895756269946447639807940311827091069375836106503589270090188890698524196540106927439044540568213819890337438968448422123031676068075373996304983561352407422702188874899631913513022738428899778749366774751075897258999887278170726063879452461764008359192966390989480357467024915402181158954420248886851572409821455757015462167321678743626148323933557094836106929747682654876040737341951219423427002590236724140219359974436467874668343845122832712403266529821320516876518453014161327390303976735515220686109339675515506980986313421874760934906971881099372410159374480986488127849268559862881680578982672437742854589318738142171659316109004869663216220986499115288921303042285498774271055342537670061121757549309921450784556248123659194711700958369530455114179635981963659097914293218061490944185315359772710755259447396822093797292240820903654199271303836272614184603110029421137797581551469154377234988703555965836297248907449523934635315564152324992296037692916277299109595705291415796168138838049319524338517077578603483420825107433688101255335244662684378936111016431112807348385956906497703470433750777308690864445183490170223128052647758543361864474175861822049967867092634203045321292687352068232410044945766401689539176877452009280406819417901720030798165014274215213796507484506222037926503001879819935790145516350955916544601168842816560517638547296708764676734676533063184635731818236190174524508347188820986554843378230614719934849743990335343861645649226296258693338968071224910916039497154907809110335408897491638542705247932428793090688939898975700028034117561324190491389997429949168497974221099260606284571371982821163517016869040116712332348318545545950453002506553006447038362353809628028068795390787423568172282354291535847502388410305249414979723813050178761289210540788827820682759477719740831729339661259251934425211987542320284410637701440012182172804949113304018107230383770881123243927531780761896445398604160196466988155004448039335366956278688621689709936892208803765219622576894483936465991336651496482858661369317141851505174193430599103311282017203469234698703718984065785118802227853696719876994073887192471799420144619161572246749525080346986722760777427794917689689806197289759258053363528245475384546711235581823816934842738984270024163927556071884842073233076140134891466417112501246025132862271142755026533484737337117496866754468884972649125195789285169305258497978818920029030728979514147905451694240749617412579823108049636694079616263291158188705788898730337568877125704483645726321188926813052076331950930072496515356054398245174864727090176406889632604902638318487666263878127883082569845757864976428227065625743683925288505641679235026819767919201834808050760051679841199242023240410636355051243764250977548956486428997066047775994631883682546454205189447421625515278372106640800581564036895215545928037689150526858602259178970611849136919522366018194918387644237151978656092253950503399659135304763963955773535187345451607662951446797913355055936138797310013708918035548397391435229341932375324173110949561063551209570338891819801772312773771951655686515626705611216915304686141585675886904259113973609086765948345977886063455436833651892597943461737490747638585771992599679881874449534980349467859426205844772460255144607602633692923363564337828009410113821959822195017449693180822974587028653884730929408054138848058629619461455610237523690522854066395295759532560341754413457177924391536183936382505696358842953528270269544814127856951402348067153896506041151144007772033971610166315035249923872008630589826513020437834358776039843263056851852518721506015696779394672329256875261973474527081202324002479942823744151547860460617703571513173958741916104229031201028021412940778538518214236608466952741534424669530428606741352699413824688635562223843773107360655432296166810208336473489639667707259950172288286736687172114718130715010341789780146599976131514967150475287372010548885042293650141102021206339676688004574721866438387272456190017668443665718704999392617471863379612103918693635959136564697203918682791508177792933408450363248838239203408004631435706129460624804029746213240397003999750716369988211325697738005278709409743403691669920599783177113626326609233414409977758551490564388812032270085535391184933373496307190986673546650726862082987699311959394928627870696082399721940701074275633794572579476441533768032608197465900381085753401793498829356327456214063583446124740133254246210545179028516918856127118434493556194233091754314671357249553000891464364566877750940756992267672669126023940086879489933829429719377621901990341215517615490669095582207887530312455571809108872455105912275970245681874794645459434540756299294610149390753507210193589919373418321046360389760532638877410285680754080454422816684289835025623666577081218718573750298025361657956561489797612607514156821148289114742510387018053462092761930779609790995907538183668603456815097115720135059065625249351044159292288422829043398674746212805952330056149431756609221829271330310254556037378517161006073912996969900304845218923206916541820229638289268762975753625271737823543870333491024399328301174937175548414900497079809461493887174780157001237280649276291965996543137658706138396139015779693675745477406415393126662503898210836738926178077786564146587241064485171768234779744015770343538511650076372363484036284538054654353975821334529560443084263277586126992704415399787410530844685375629473861342889976589307680757856755290153488837261119236140694207767356699940398682983125200859715668652536935285502662434209369747139617893018739318421093569872779497363356606043151199171622121234075552465370574717983130664427744386679675523472678105888594609278514340008178094916795138394121989159538671700318872885182331737480937881090397448951440591105579673669722059670658951817657204994797487686849219317396822183812777935030224265842187052357072385618708987322428095588415466328287613321887168769478716325714242928203106581869487832774780202754787952103083227699739189530961405035167524565598804714700889582136422089853463523087876523704964037446569276293238912943388299594082721290325875096736406830290789143754916547599757180234474413311891912900593503233074901094596303910977512330885754851595358066585665819338448398177297134158891051585863495975307273406029594854495704281388285311861724633576384260154323481451603808638172340886711561414004919023927428658532942464132114669165088787642032567136841300182223472717616090200058520908709127633591309326423009843223303222085403363896751918578097442113871570871832110155332280662425396134989694671717911716701472025340319928409192166616666995652153992518889821136355029096781677084571866718068157272276702755719546360590396647963778340938375955021775800548349900751593019849528589836646556086783020055615331872307480304719186260883403731026750335372440746326519074224969939742256568282637724784873993357503351843097082540949972459666639979062651769738718720434224693251515017900870819489276187328999206430734365013421565496640211624154887784440899099380093786386673215528797509797593114913367119665941113901382946925557695214803134490881288450116571489487537380691052258433410716358192153034670775544610358999152495663338457029166611782668586291274943901620100764494949924053596289648046503910250122536172458541772655985172924339396238366420672957892481314648010135556110105425743252972265610510949355860838952041732934661074708608645778108165184093108214018589713403822957038743163985898257489962732019385531557119983673338349225134499182318122361260600303643646208733489758765478807702096658717414725248522511779010649626521229009313782766523459871754601118628197519823244127401203091950858859094673261561433606487147251284472822974003119997447020713080635569702940270069596368089741567952527287892591462225045946474434996476197498876010625591258146812981763288257391806529483453321253689699220438948791657911243280721208257147919986086777055572884999348683631790883611225314608580650242826304063233256315256057113331799762371870900163573341246455840988345823851185717169632769428241236272438098087125241524424027922390366050203082502569695046056269851204846960449469313940493684254497383187375811828762286552362937394910810573224137767159321511699792597709326653945597672185579192039256642233473867680544184717793518300371437806292386456810251695101294869809304767426214460800324816519667218503084458176346733393758335664715936265374598500673937011578050969133821977154247921381615112399881530107254191287263080415057227606764481534224774825897943495341083558037819780942049799947092759142571565894032846354441100118858063295681018559701926297108172941932942483994287775809737314866305891859491815969616993392496415220324246254606880263329598445861051828115921719845790369050687101521890865277638662828691407485550017381651946840828738273032520677449119024009145667164967609781913649274773786591057776152696784293206625894771407720813593833017213744040116078647837779029365693259027216816762733157823512706473011725913305519666933020187911023348434200620832706670842690217447601248136046994675254364435155965658744767740124329350319642496912320096365038428085634832095728717395079265301937448177307594278283785720386665979581498087194185049302017421834946057797082001953794579357960838315767466868672169935070885596712693742952392379008167713819496519265623033356229812684630769245953560009527162927548889621221506363656109594851089701008754947262551741782121049107148034343654027193788470839343096893776503389886240463608759256274817885461735089450511091956753342152848406437700246915639217079571826918430100630156214764298676567993514463008780185963078410129326304456282461303328942982543055993476476736535468801012376570572153640186289253552491992347627103088301437422102338266472742913865170345824953670422716096962831637840085616368424152732562646487483117944972863162624090142108978459745773358502381926970275315057840779619017055578630949766319156022855888593642847254294099653528740762667720596919075455012036149885272645065842694275241830708021184190827226881707890227013162047551665969855816069159408714164366731046257199166472662494051148304721275614436963235766291942505568884201335569672425464427887446551136416505630746778004477444975580197132490622394946410837904241491679268457885964863197861879101739719107068007592046454958017533461031584167563157311664178984982793894089590363728015029112695376332812575033902320343694173029798225124658195898029792226476533129070704539749471895522178247804798995201674626218359798114705378374632787173755747854124350973785729306058340957462049554775969833807519072120355160884269700121475072416029657553481479311882088298519297457094324073608321397759008812374381072604277952494317988867960456554939095160129106356053730994318203585891869124433440390905639058153656032663431462572071106519097691387380295454324825603455636889158741552937569763754870676869718588971635334824476200672825054499593183953800944243406069164524875971717466252862660586430912301350397848008935621473996966483513602585760527708396842469018593574574623893039788971478756492393673926910581917991876041187379514693493309316220321339412484385410514925503499749941279756007552203072865296899723727773184624615267555392335177364134433600991556217322782881300234026102842697854244268552378012582610029635192276805940936910271572152769699106309749164464575367231833093483333307554500765373083380117188712641175533370275208731401998494865215099878941782333876972799547115295566151078120628385890960867232994378363469365708780564185316779780764113703945464377442398422780668013998605653903659568513869825912425960093666399300705636988943960981985986325158634162709398568588022752451447368257241776435175454506927354728703059004323145730825450409295174733779672615661500458878032051055839592234723537358400956142812626310208896213289387452148521044484129441285941019537519278235414308625807640792395759366371844107696238185712726583122386948723747907358785451463494940885752524416428769379837729068030373873112442691411364617638374279067311055758998761447064878978402645876257328464333921392742596753419059239637566346543749133582944781969488098255357661294981637095624011505834611403771862374424724349421345881378961035446058226376833812146672760617397352342898665165473209164959985486696114412912034295775219025021742297720768238503948157141075629857445282089892947195168072212991023616546533488822423018589682383446265084783973784232659618452439646059195302783449975768659357450683362005031925623438402916417246397035438373756162279786441444875085335283256845142739689907137900219198715829267108462744343790165939572058333603799534108658322231324218219410376595281034842038806619542359807531459771678839506901059454923621935571737520828819205587564004346935713539068364231132355779811806842796436831014831996109593730701769345780715361052237289206319416111892121257652594323290423173478819740105944158368447345535527598878608314493561436391199079251562815945253066512091139339452401571850829499524707990649949818794002681837014663783038329815722561077324002288460717237964567934819690316508535765012362951090062716148437882954330959166981090023782412135694300998598225669487566191321677133829118504951841817650601359522777788439731203820503992734099706865467833598652313147793427380108174577374449965351410863882765764719512860837165952243670945836038144638483940829612634298440932674098970696224727249551160492665365879941486903923891236387119086343388900007954538938443896615426805274003006047093383105634279713110033487267652634805931360429714625820364068998528949920913632089368478088257366345562114790965202522142272367369277560327243877385342632871636043028752893200589483962495718579308008946654014750687445801490792473233597774751584188818670092105460527600957740350509878180782668531241304842193968546198734826399420203413143045685207389374691358419580572425599468480643322078975104833623083311742398530241830376222351770331254502207146213263687378006064767598836880323587926375866440881093187459087884615947401921835838763688785721158021636766648261050089229661479985335984577927702781906940807937958173467804307981199006246924058682801892020900956213717458384576277423222321066297894972576218722555290237297168792559263346509803557152896044283010973512804580143513204587937055015874431496403615170380319184118924536375432369351346492665069314838213211960715068428561351494977483875866167934179551569104362068191502388896172248186454159460860371406548343325002491867153329686961646293401431376974266951065166093219994769153516128285088321135197141287069449866249825926505967759477243409560100645432572479243272134555111948683238255968726017066611899850622718664616945409150984924519783953392650335605110725382322453271838533121280130247607338780638149302093368135738894357973583624631579560178560737869344745558234547273141386367598255225371921663328501186982762289947000142259048049923013573674841650418637408420714685428133008652391877135278276596470731061623906761242856662561177006919209133207466776022184485441321666483295840121603894063222533094585953036874026182484813467942832016102912994090994637521383938354006064583300937357148007409296743969123124423214202308197273827044202460113270204786512106240754293455467958314160374064417213429125190807416919597998157584933835457455830453573388793717661069542391974965111903945520779891208298051615917307189239101522754986553651440800107056581674727694717707639308439599070293426294611919014165087399270500582319191252202049368649728827446129584381862530735011470285312840803480819069081472820018028019274025444881766420490343119812437638935496628821338881987093614029273843392669431718408791254331930216492271630912127290388000818188091397766041070422231786327160074967173964682851466693936950425506696379376482227861817166622325269522161530589363518533292149844010324103231806194113094881620573736315507645520965675428731222555616259228644323411446342793500393046706867873048748919816060654421786420696104459114164807281004878830855743406710019480880058996059400329584426037557539664123196372115090610296567019896765921308042931476501726733243769934541401649564437650611490093599796813254967610884266075106291118363089177764681934751171361354308610899336874048175431817669281812890591885500153600206435734026388645748335827538486962811317871527904828331644612799785735743641069308686162711685469527956870151750369172409749609902014496729485730054423677375089768272576404060376765541052682155841916009253942264977211268882321477950867181640721022003756924763188535700673314918120164843968949602382435337497974606957669326503710407938212678436194659775490468513538710820355102217791321668038568065714427888359479960440260311691499320518408602973195107052848566386914076987138120473614340809704842505476220336621982269204363318839717669862145073779945060393552028167490159708909714859229458728236039170489266743032288229963776951863592429030137665931652482525819253014230842460261043985814051369400209733361249845343825687413407729375830157463111926229205029062132327032474541072463393691771341504443236477976132028085920186306034169215304639725011058748503173317783846634248049673453369767832475603147246983637748561718658786341463143261355869526361538905067323685024576209877241090889052559469837141819751382720080211831350410342013528207237198003811592090640945046173920256664927898637918933826382630348863396436997273362129924309694480935777518882515259076801539805354280526812718403765210189736025902429744036336230977762616586026374376991160198917458310610837010576967327295212740164585375866726630074618828833108962253445071845995192408116840543248787294460493746765388019774628670512135496018218181724919501021103213471691682858128314235299381375233912902145467712463238523946015874120186663524458486076413073885994571725049772227907118180073624481010354404926832158973517710795170421616210707146298495633558916095490335698659946999877724668512922041931435426363047593303407312946281491911096567926313143485099250935345162786790983515894330466498693217497931347686238897791010058734677949295299146821579990998194212176247999965696827914531697127848372267587510532622765989783455157151856741718732656648174080877983561570012050268839160319539477041708225641951017835197456326138676726478984197800346154890035855337499294878924644880232629580477009829249252404766761633622856951782498608255080650727198612631209898330801833398582890223786227331382422551980366703512100583569284070416655134827940839006567551089196554622729126366981924288407268682699706003017965690087241202823975762634383657996231600283668842881198021995470424851970795273223178594755336115356242140410985959484344617779384634676390935113173209072106893603298651432455743505098567697312327521612508675994258463896968255456801622099770600498172929515189771888034739105287604331823878804275178939052052679360988910943310240209155578171950180559093826265321208447430826194205740303202585585744350203116865989732460696229897380140981928123932042807731299478455985220236539816023305335415471752894434299598727582490540358127464064058721145496299067427098431593725067725006967899058751387298263473881626499820520026255705462017576530642693437605884025342044181901105701179204259929763827965656487435479176306931550834501700626517117624457730423414311448945100221890053729036310822724121795841600751738833998229423237957405451803300191550889025168260375344657907612670545305926955014126912129340766623365349398557126352062420663962139731930834301594209055295232683719728738190953975330214395836534953343099110060679181056545475511526658452620541267802575208651964704795013582124137720328586385001151920691561580182307363830738787456918464884306115713168998307727008216653026260692714560006956381613795879486369566191200788775408846426372644172784697845424283678837403829345924342105054143200213505526761546573459673451997455943453089123369653162084192621237204247902657152375955137650329894093380695172700769522096318631578839417980196302728731295077913854091839256965503318830508674059411065244206147476512786862729467542228020405093648085914900698248862697942926655019091775737451081914204580465002117444818165215510799460798462995989664766685401692468989946903251392485490002239941367273080848360732801759107143279548788556661036103031438693438516922906089336655570288894359719470394043772030009581707622513365696912600799287228662602284092774332455114017277470530467187480406603193778911503596164574057884138106089411088248545133788270016102881361513084960207592669409124015539364819974348239447171955544346477888960480922702109484000040454751711056452985219886460227477557622700167076166301679848847367506530780151424010563386977345998630851211799485414067043213993309123059532801289381331134590536072270429283898749320803743357358010414176317701638814197831203100386868076931959154033056320950311119072128702957448012791767993169758804185508764212085522466967013987823588591512943948005016663856161041000674983128621727812231754803839965449785201738250447728089954157546620942755009491988011397456564494207804807282888711238724868448973314384537988959692519620864720050567223731568085324969454289646807719349659508515103449557591973080504336081548431322902498906833907318735461712411874398023699985594955322521705511937301427939996648820863187605371439025749463421014305650227028141625570565239102625394624598546745387513462553484409788389908394430815238479169749870642010394477947715200285336983300261613734827864515445613782100780585802353457945677909653595481071608621961446444020707653086436696460593886998861074039790872105986393650102274774341515111918389769110052008467804014370295788140065773051106450996844167685344464482077623242132785761301843362213621839305386643252819617248005157074913496757415045025042351402207193006517146223323111774630297352928637653119701301477030370397065524243720075013983527338570802771438575194687107341223218416123902997364758588577729175130853376931970118089374526691165311870883534412006684944242489411174296210282081697599559474461722663710182533860476213685112826322770300224559491474911975785729417106288741335396426817816588790560012783633501048435553801650412382844983819071094402838639516330074336040324601346300540510206829817607633801061146081068903580394685762991074763671108241179927261181059205996470418011972951980616252311568655529259984865292533035717665606054402670758427416254798762856426176465063340372412457853638146752218649643938745621860019568142234114438164513125530440284444547371936781938445681804631934932864318177064236058073317327980544357189963317005232248837692895082929848794870043290743097416152435135083645816834062377905112444085044889660680706357042868432555772052973942402058174719343991171382069059048542709601789706832087339628462940044954997949252813205297386555985112435245502659089272255865285164929854968513433861499540019432926692323660618358096989197724282324244121441003989953330686633807538354668152275320487777871062046113059595323350610394204188009438315263240907036404683358730598752895651762748169038831010140259913203866083503665325838200064421398279469939938625937679605018147000674700948334741002254593947546883112281092100262376225051672670077253462928074989323328774515600970739260615942643445325972044728198195701170504598653148233831256425812514700946717822887089451507657817550856942012393487777690631790932346023273439951801124448966701537701983929548426949684397606275437935717311780739233118175240177983560000266280867040774595435370912441262059702229392211378713978332360741788153623020189662128068747229810879688447305090285214125389933903156957497077397862644472703912732531628993229991826043453001288489788744120499581161971956496698336009909616512885394593285919042480142768156116865112987085142231192405383511020641247821337217795106330882837867615530844362432778815462130785476084237370061778431901778467931192308640038099044265419650848139636677108679583110291465426079064322501031365410194064775222734607332118803018565964990241578615207900405025905940081784147185536382239077457927295009172009445449422635073726456950664554969503830838793016027642137045073723110809046519258526367624388491436853566895227099409758085400644828127048008668991255591286553692620566861143545204731352489933230185179269053846723639164217022387460793429551358493059577906845878231681445160440553788382318501151132052365066438467110864498300791754548009709748454022313497144463994629501096637434632988282340262343588959470841225248526263904218546529251158071730592335675533987125623286960118209151352793817186882741394318541130585695280785895899342586208560057394889738673090161889555638118839447106366275530313219380253040055935781497256854360980212384164676059963254463388977545575225739609968541094698551318696222636296309378576660396027604614237042366984064547008820993310521189613798519290659583292665280919988769453184760232199757690118553812530610453074581081864596838996667614503913472671837879463863772216521672776161946610250854807585953889579157375437133189743874795791692587950080155386983185007401048217136865469653812949280684988354197370475380480093857338133639551638690685888170651691437289608218018646139833228284904186475897994422574787193564521066521544246756479456316795435995035536463005941946834821060263253797000083936653871437602103470604956414709093315241654390913981478202842308848442351706351269973085444486552879692623476209719235719777260151025361281990513813855449831365005556679860311523158999292801227268093690513513135755798917037388691430080662860448506524268209077726450909459494101627222874838379676519551158882159453834598198496168408739872843600560801231357823399528505104907117819777744172117914051344605382619679422484996084884034542579856290112126835157785866583509106134103200550803769885728381364149594980258677777716172331208291748790189387664777896938770604032439394270404353062091457853684175279257244028497249651247990636941606899633798138040746264277498353342036114169415352309469833618057525845015903404826782210655483864283911572252159818107401978831714836128146100034179770056145599583356572800253678157103913034289089086861153742529915548148194253932119785243434272715207030767743065472715179261341136044725543693387838490660378387400341878339630259699083448441851121643680110003182531161857391213884734988709408982079162945016301859505113768730720764678613783430705090842536010067787964053570506306037412439891039472917566403741210842501691465587281432750028535534143785463113720354255656696233994534660762601244825645636643228388023664366568787930932750430242398051194896750733974819240324822554042206414176166631529718435963242379443124382179381404323389031712548815643985939687218775924836507650108326310157998838299461085507872922450069688954209196705562950031705112523646209678440318966114231188314551478450369703751797768743494544640309380849713891825939913265241404333871490306775162452234118554070701070689578202780284518181636496968987958215646657258951122499301224502495548571576877103687462017914239022093231358233856101660879244125376598448174907894439349268443496465049754908069192519445236324695282967019313583097392673214828293297239655703713789340321163952923654499360428267327706321957547282966236435515323658094995856854394870097959391915235606525074773510757493481075024117441351667181135497007099885524514685471426818305160369327951789027121620864526538436141774254208401953485452544819712188205763479333417967859884632241897810617776036636292514483343770789088894216814581441573815433491860352017682276517144291041779057785400553824935579950374546194657531406510658721821489029912189835985100816814459701704607759938807583724682861336067988661082574018928572375552384284218034774912446365316043904271136471284291834091168006531219954890650350332939370415326957613177690234983859117093214440287244724199836171381630719914664657750856831563321337560111730887827986550533718314362430658384917481717006249490087998469541408288619878173018061358191311311035784384452744637889753219761359251262708570451611044527100715875230577389262802080601303778930021646674092042314121301772422902977802540145581246474846295115352156750221248762856228518688478891348156474666079365886780812782664007195767471228784401335734337470462921654633858222263748227947205708971024749971838045573649605561279354879043266385309970182873883213017267967347644153885091031283943787340673113258541006805958548267303239849028494873827410396470321726307737618614932696337249449156987222617042619855990249640386977790686596535607463332074169322063152587969253219769832977419559761186483442424065037094701515885621517818175120388369342930537654084876349616781265437817913098139102215421451830571252144270449589798132837572658592942431368931466852109259836178608958709967671289213061611212608384764038743891144382778629898331360080590451421935118653079633219265713268720335224911569643577349705483149254342455652995946168544151056664820566209133599903167651547771810478710095718123002668291352778865184124025087605751130283344978678172156707004408526154818938345202127867141942799632039049036820757756597343407514615178867393819583584348427255236890980134530801998479108816632050681930979663988532620921408603878584844020095936477045032853737568284006622058881564686162547250796907980650933467362712445381830561071129372821263719596791765696460084909341645866170933157470230636517985827126933042617591268717608079297659753030586698249398525999152522503917152104559046987541608899796996243276301726349826579206437257912041557460890868016537354210909638400384288953336085639822777870238555388666105536495265571036048001795365652214173234734073664390315879908266743647382717276103655747607309309941219065412132179846091288978095196721962229121060965325863433892932183514203045831533019719524209051144134591420294670306898695168037405996263590281588338382146569579661112152979858764136381052039086723024085658135688696501632725793706793126959707445234195074595978850655587516886876155285805960182321931854593844255166998408816705654731850178631083589912399869384382839052055114301939458954143428835784807463710347852074482660155659187783694901781123290319004164834297464738176370949903662230062777966121567811221985419659599573813587569351612943989846058313439870582149800420524334754058188203152465590181283176804455420340073657328618871240674152354327553597370642608035799310379016700111274128165568892610199323320683427548835989061130017311240569520882691335483600457274716613319045407328288173082009678929706067396097390473122722401799223188588791077094343929424017405232400947072525177692563474116356910014087179664486745182208905756403452541259188212166168426386759226440416675600081286497723053226948754186980058386514559702584126611866058529406360633291155827247528135484185653358261139454014939476906532919442339234495951767383561040971357001353292254235989976964696769706058340322626710828673110847105573766849747871751581926783592219384203734869702995844458408519128005245374080042985401074123795814030629316280870737907456224048028223729878008441903581930186953203656459886147389409771467105697614967031591479488390676493729499819012461296730002563576087052867671782641226639614886229452139199417129847580315104877646882133917085929611949236620784437636889275606158301902821691301937058696966399055171857305498437190568585863408324418785384726197099317705472424689086781643758448331452547341186065172893208989814707740247103600751853672368243154044161506341608846525408841749444371785887104039121674822004482827842357732765980411535114000647856694605400837508913224962435929255841793212993205099145364111275151271174943628788755458722777602152328979344018829722364296471664233314668211583140251487236310078021585269630557813052678790100921057790971187690414561162136156509567517265227298565429596918594531429750806261229919693566636757892467606261042306506259047254781621221273323909972850533928782588294376580105830323211334654057202514548681928032855659578825915597561437393808923452761367576849807237401848783523188184248671633955844646230503546003631214417461190410817791606025408138901969531612090366369905029377309535143988247757286744197864457144835843582028223056398432473611267639581063586061166713514867463231003500832967977524381621697248162821877735397269488869224043032917786929697506374659339607503013825929182347778116790954235647121859138931798609633382409400397045330381327923297574922173244376821104450435067041175849821974505089494612884711047344197993318173516784932551793212345965045480153989156593221607805528894252352751857479152302518771168715391570002617552541681664150011770955845871146637195226320902889028318809571531671116894927326166975965808230788259172635285912150912222920964777198597398646526901877410289356296053010388715331190777871730848585375266447254136233478016639234904236788066128798510584703953468251085273605765442384296392306642799096711232464803894512328384818352383619848695848222084475493962422212629515417565813936181256170492161368027032182080630795368474489705707202389393194382027305459768857917764363741438832223102000183372059206139966556661319273650426493764851664626874274794850397599988049527021833123706161892464456794049277100401230209576841912858510780987982319508805334216155895275560269047052821733478101322994524602667620890381040067363885531785319209444183010327391279751355643215919486465301245476046308027510171551280929543815097807254979886764046458020282776307360066448859849077336159847903317905973923358317108580537605242842632519461136290833798775580268176588011152230399352434802450041525237666871484190717797727917717415345887250511059714378198605494458489508698638804690409904458036618659570399685777266460126822478940317145310877281712861769478671047164548021078655814548896394192032013739805389443918198390583112582451249297756936029738042335506891400782993712095037249900644899180311854833517864602917985450975577844477492388707922669142643791109052030068697347645386369792774724232259900866890799777567890142198727858053290496747223513731189513748557729679882467193261989600021563792003413226983537927892210238992409013060353912724136853008345757417698724624097948381965334829691771265183949323348836121550291847045352035204282803154208400687036817162329597861073066597390082680126078027134572912238040753003147364046060437344155790247228850058198018193867348152861604402037431666108099798727488298926150355444045663218224704536228912682442700196989101721636611411666138385847003501004938472183381730544480579372885859857700361593981837615544085246110646838939181241913072210639063557842345769319882296131090607648253314157296031944604967444612704782742714572429914011580029616558158517975132469325808312093697266275783942282628679417068022616574389314792012127802960082706325318188043392981772921479935238627994598158760137242519475222845475557690822484672345574132665898341401643756687923866509157079779860296117370313231093567216523586268398583089936736411879992752921040780212553808892859275608681682659237456383571168658377841893783654108864070432739806912687215223939221735755904203062180741589346856739578357624737680724466894106360879305910904430058209795659092827452951035887860459981145743766363967140465058177158410163947047342853386772039533308296209170265351174214441668560625671602842580983864914057687659901934209691660380948440437016738520470389413009478302737942109271806822023998336006417916413945168277750322708631829782539178717113765539596352342250786286333975289333393411435083062644675835761611142568594338828382124198406466180457647623306842902777785502495056027646680662837157124985275954971944425327184887345342622024510784205664544595763124117747337142895584835355443964166936070704181363093630231166864129870692036082911271925387740642709943841035981099544838319866286248606280594409447286778086774484919810195144722222356130407797298850748440201790998036541406737731492814305306835054115742027819458194637887538006594761049547467916682587980261968148843624949677611081698465678358144707068674640708311689633678956211933668349613283451361554796624690400362313122039915214689259920909756989597068748210127293396835680673358368845289892994679997150041336036580653047837503822835462771934179499367067520201516182420858541883153839178564686195550846903867076409737937225736495321959747308837594606447884057391500937818271376765547518774482519606672015513478394077466349595392400075950534861040550035689756458056178016349868415327969644782489604375040261494483766521606980477706720958311346481943277694068013262303883255556223187504630822249051643345724986597643416289486522054940563126485248586337828064953339682766620386795613817319128238294468380847809481908157409384689544580551650112666996102149633701868944769612947609086337152373733431919133511473807666121876432311196695864607386005181580337624875190546997748616982429794277503294262366014074872125180298959297256107287551803111148250927854404255748887392971334265658118795884333198921774891557370958142295667067094322897907078068246284034504749638594656955062131282880427738984514071666553145902043664817734524786914446800866896596819664775514740556188701384131380871360154957779275151577162522691923843774236815626833657727894904867982631995080880553558632164441029849198548753126799368905825958953270688889220758767694100519628784519682344300539294741165895340707442313940102457800090461385845776169226973647217354777931403142552995518862322176861149308892792188902969629529158593053245739379584178327579522647620189530630506625071666052717472844374867788664080290772396218831169127898471678132576683100936595511416353967404551392536422048753412068039730551808111307939494929349230638217221590569914874599767052693012988278889088023632439523129964378471310584279172396643120669437730524919894041451696326587102882183511864436872290906597891571623675939788108979434882392592987108561726142886212177004959310386348133479312578609553168641977024009862540284481876919444104359409079042764676653291820950323185804830256114475552239070640194323316361627916100649387001362403330511873821124317669921791753334342369423140189195620663361296565256200237069686585098571315345250391890752503693268410735709543961589969329655158810483825371801899283280055492688340632715988037799748946356019388055271928142795555568262288787430361365341633991002427726423703929326691260608560093730161282839794880250256305206678290019635707607219389961916346336624228588034383879446331144693875451729039618453391909222112479582567808620235687691261785467498790028993480737706571539441036000353059547231972961964575786284533598299183356836623254513936657727643248063801247560468212381881800743412330963185670912193355386743692859182391271526708786861731430294041055413113749455834016970670891801724761825289604257112602816775861288127343588327801527842309252569579510346503091082981503339065427538052801369677065964299100285795535893977131885252546002827490440261362969357030287832630402839858431413321670835858291703826604924658531746477410938709854795466011339487217869553501279996150698857530438111747077632376741282120243210649280856045002337359903591771600857818483323550044985662575551590399333464699631545467050642735662332818298977265237183678482273423786784643720039797942200097147010132486516648538185610364986192474398657079476491522844306286062593763718298197956957952650994823367340931357685216202660141565748899695231353832966975587604224107939390416482541575461743277114156379333731080372315992652545856258140012129700489410595682268349034125885005294696106850626595941389113182843970702570619632013850785730506737395844783769965076651354734680771220931442935887796242851184819921133399633621999991008560173403639229482047073022878312269596947054396454140296323068387319318285168733642552354203912652864482162620360410206758109890368462625870949994357352285550744191810730263721006672023213159611905277960564147391010814921858341237914811091892065219940325702408033732401058937396939306278596799332669707489354341762751498355911185060363090836733637735533746072296770884688342561488977201493876448949068920505347700042678951073067299989151628455055614128159614541660328434718556542392141222291254086502018465629279986841258092918659388107848550246029008298641773265933597508001382792025327407259579512683244676479239366739987848423436354439525287343064884290226424472944967495934844439784041994778231054162094305077278569166048045308861125062582113502086400763896916445488685695734634519240949140780028899470979341010316578535810022760088042342128014650758634330612130932387841174578499289381560089249306406699449870867784860555726295646395277046826832375387940758582024712157977232075258932540776696043482997980598327212882787016987230243011499634858685533777071157693320333044861754255345398277797090224365218525358267542535210496191249492736019746285100699784974504855481128862106059959036579992915645037478260180630019834826542094760685131083226747180984228107051512954928356574535712471554170251342618564777387127250844673961685555355411733580294599090287748164861188062690200478164281071169145827025516055448824412839504013242633452979144852369520611824150698545744970572749878684670044475131746435878783402837254839110962512669767485961294848324128759595787056016817118112184156834623941894205491370767366529784253969632827529607368745028332872398661486688147388318828938582316758470366209241610002358356720706409395112084407773973477532185772410259736389613542070517614124056189130878551754405303305517276547006324732920199081125642208451142733135499585949573515661377469150133338823647355172079712239813683960356203626291726138341236350246226872900437505520941804027671673976272313452473458635952091050479454686745447510253530030119340777652123890807123937743319023027589500665757676585283078862536793473244542329819825497862072327948835928643927891652384998179660992183360419715087026324770743175063460836093958096205767701141897504884805705411578584236007364105191728618582042162167240110029292494371789813239698225299299713428026420527806311674588538572067937050356199802671948335707395863755828278377966723305830172197387086540104366479751441853568681478640845144726403224833299155039940774073171093359784736461692620557755417228586563084531681710181378921977630805553662056772585604676685349478149098048130847107726421298197816302958395844813814934001355004848416364869995706827694712186095511401067641624751775877601792687674751414346548555719441112704151022980719391750515900900391946771641413642983848423630399866688812895205860764022523221173438129105441983365402604676906711326480486312297213764150239935500860653082929305368614735108427583231905280166410079511178468865962954249933815696157762274688527386914209962707563265408868384071741157225186793193323970464450568833080339329396638176242930188059453378911293673062967733736038860579142763644921501170923496699050247102432211685881953023247435690792026191985387904203469171480613141708450332304967101983843831906708004141016210049934661527200688717341613792283248411468436296100933247867927650355112629740790159808778849253564272438318416852397523329035463204947164369642422952806449932445646687881036494702443476067841301073835563563062142621977316178273282943624375813020749366288665565095304229610319365108572602805382950445942524664741203588584596916618684763487642435384564260257658357670320315620434371940713561573092213283162783129525490366360997438247888594126791047639539650247559314549724507966110459234638549284370745969232560759837023098417898348147067392232216574764380833857709656620564815889987686877881430228522929169498779075797632059479700894301274571946100895226058259355244686592245815917640539991437606176603370138899078554739341202354785420433939407946151377665622080206427675105115361743143132921440797635022857499334902861986050622587863281584118490863941632840059980571071885400519666956659251827971327386705891061267423955084700291828891738134582773192859718131101932894657534538910326860576454325129353678599052458275883233765054908655433932234932864473449058503040963671974423537788050083364333145051781848586060108388331284432714486079888543558982884284591918583915366889550114103587587134292725462185648881094856194388641594652893706657488526293364054652521817041388380015859217254673117725467935472153600263705819812977345489651721091855111035719018530402499698910829783128830102184227792209557835852598316598252466533865030135875969632436510307608614496061262024452869419332519508507077607867294130047890261785780081171001906982898337632926519329004402751716550783338104495941375734142597361560166545201940414848064438043051972809425865803789582528992253493163327925541599735266452249176305664849275675772087289047136760636377489552406595813232080330052105873395708766983532376221516589254264943505714486978707878711154728722703253844788055943115451219401306357190027051586200162716003073489960109771088981991966776227713435401095391380897520533407959553004345257682116974459711009624393422174986174070213821494213357749036846161152624282710984254479786131479482681470859565138175452602489342193562747328180335198027555923157209657062630659549830759868765493982866247823534431138788350719176753925566946265896996970070238244907581965447055630575488609929869619760148174399516316384181869290379839889944095023894000405935312292834609139848338256805816338189683673679942322059286299024694827816908295541653490202658408499449122874213802895361488278065349507712099913184650856115792690544589475446564816224091556952963821228898751711621795448424817532364023727328423435307713179175737600366675529298441481631889813226908525191495416449671193443792217874369583598717122022706957861271063275609732472105431293688226417397347660325284126280421359578500685742306741701035624426370658669554931902494032927661474668554371309376048216561265291708836512017445481785287229509833075460992321893231260050693911866624918227175205027011250428493068875173370182125276326141368179445888458482214395241466454272085887252545457079306208112921066269748660542034310379282451800952608593701205913215762792110723114970670395544455577290892732322603643073887137488996329102498484718437885316493606331940570370592781622767638446824496529903622847723438289527211389701198413116699659913532578890711358599222287413384450616286336053258128039355369754041673451127447282562972319855702868940269419449153427170806211555110138659563399307645464392495825921476675225599608192481857916440402587320671756830006684008674730620743374805482058480954865495271389863999461744313551121329177332584956568700592176391139091584930033347491595114567249007712292768335368190927665200551476398042829934641129320295292226670504310573276644909569872305254674406949134186107808641189309597582146167698565193337607898110347610848471368546317653855100547685868690752880557186641625240475575802853864777738483360404976524450082679414164614412539183658744954155223923719428872502182312750413992379259283371540101437035374860634294722752828548251941248801785427407349629170989232179937157865988378440472242401310452993983577632300438393245069022558477871928005994796233730681816560366076183143614568215421289102102146682709736474034407351423728027138569398098609144400776977082855426046320441858170478205531441306633880267832896224507590963570393807166386316516991470640830361263858235686774618893370681371675992385907821255747108035762183615896409486894723734575773879205206739821955752200926685048746208218890788074919020188589922591048605376397587184228582760591968757454037229722008891408176440619169048531565181685913051143635579571622728763292762402471207731804353984913990169588643156706305514067154253175337227799842481985889250416362731678983687815046514214416685700286737266305223469245472258955589392763682693065499860309198252245541445415836235060450463367335949875843470053778034469959791752345204001312515917293362748337757100041252823426183019036193953513882165667798446379921063677430656948240613900648942463299810560432315506589081708504303490671786070706841182913917961046432349607880222503984672046330979521739599178449545099275052083600916024639593689069551560259328524375549655775560596392100714863611532749617537695809376347959317573620104306035537448528688969384095822209514563655273973578595213034622585184810876642456127363638244913558755829280361227059702319097485157352302053012597823557482530246439635802700293363194985158367541062637608285724479693412933219964945955541725441615996100066788565745847772860760971814561877637095093901765587561313667070299155304097372573290343070181368502786994569846673123334946208178442539632143481284995563876416907511550561805479595103920154322211434650659237926079608484042315624676875089467103326919137998976073547211540949313599183537541343472648493988531734222999942606265886562175252750213674174714063224481125417044689983931204353803664214380367704625842767463635155431376191792452431132846383490445351770268519973448186472332420130404911722120889697924463633399578869946268679521028989480686737341317984224369513880636815001019372004094038968262095195869102539967415485439118961386087425320768393063266083664122543882341008536062335591207291704188690068254435472227083485452597414282295400241286026913865604062733118262169213034621627493022841798839727199979040742158714225582664021153282960281386136138906583077517060951835516001681805692978927299708595241329282587273184113591313582330992373558297636357976133211160239688968626159163773411395535273360492632650350916349732777993525225048139478228833342415349025144643286179627015035981341420592859433447799375265994412454480540597266245764385179528864142431013573276014075394424397275276569664667750468124220588545696704315723530098779685062368571208572305137092555287014080109965167019376069657549578256382524729036333120078996724264098646317771263457664673100521773089745873688489449257464704708000872879629553611086320785189413162418613638495517885529401641098297065478672078552319261444996234854402028605599041366396227081771917666637595122729029127728625723066540864180923922207658925029193470436466580613731093678420119998029746590175454491364807798743111246389143840253110944766541248070271679250009820461889850198726558034833307203912813424349692071992159870242065944401772586665741029055286634388846099280763828562142133352588955645650934297149101298330007884804320347207639321635431504921121245179721820430842468992146284286740479407765085379270880799672761606145369785379545070398678767945516580886810403461704080028484084814201760223786811200185407150411020753279651076501941704782345296114280322594627629957126287345619887925276058451299043365791854288261271362787539555785398406693747038432621683720114441947977982304065150149072800777789264813885510266111859455274502299223462454767279187282909169655554879163068958258423922902718073778853106361444801896304128027311594876019196676705986244400620483688554977340465374664482315236505370426410439933341849177979403731933096857865727067667585595543282879344110591187109383269648008836025778599515023821698320825998863541637645678186936597972552319496585717666155532860200338620766044213171424654987451662390553552362390111048044359729617541149240536328254954431199744887788759919111227479184445292887519437731460777531987216615982920926424763429523107071416220931431823881067556759626231087520635648299925620969958411623746195434178523044414066841824558072684020570639872867923934930240513095485177010926969588631299576295352995347572263196575949175592961713468782454484572786572287057181040273878315554294271841109830017484597342580711420812064374644321615054142435451249814657230563731738044395360269277910225117817895937919213980677395856997213420602440357642038878207333339215417240008132212849448108804257258186240706464440759834893910293639176106139491211292021778017572651305701690065438444347947314084837146867345019577915718040666310653536008769141264265974312053859595231939317619417951951249893746358735919513401638467226151326763183640006191577004007613189291398805393345379533999605235464363791723083874862839586915194422980149112174142364737371249311345305690036921420751907091436159403162752484059464019920987925306872471594938734726426445446704228056922756011698209108755682350170017428001818488446312874654345926526938205854299224688533708840950408920452383949322340224012932845910882907321566727268406351862530498051938925304693806830380051253650727275272476342846895874943071156118633516843936147012115073327605202881204865128500663861550097265284499054284343972613323001158671099133698655987560353288548695876966688595596009248032932801812308239653951621021285504345910050469237679444776541267973579541017909496865761564416032880385915681698970743562175739268544104877428098428103124924228439255144854267699136052266548658941397928046366286453725791551007809584100041628507486544723152681566488386522857393752642725951288283642992922773843060053806285112246536173002952782581577327277553372471611274326808309581488481065160730808441180941863449060779882985622611864919670624016500286856763501065090839231355793776783907727669136965094493029005924831462044271517483895434316676461610877179305009650435896822989446155933012552190040447388243080132129518786013258179555933755381115457322043884650133643370170486524598079738527104415882278324555188112123385129052849820214722201552146337528669835432857171757087981462235677742350516930557932050405105643675876324844063517883747712647239132008059705322700381083773558700308962043088482237743266108876261650838649080166579316567330445627583513706123838803505337351435641030194154401966779409285010953748112219907618723468856391759737975939737154524751297920640629487246770617013406280597045630355944216151066126723768203964298646605318471022880473811899045934058445652652891378161569215481728155067192030498353811380635390130039970883559520800256432472939948551803496058100775493206013280171598084285969346017110442578607635252473618166983927203957015825551967276975191967335483311989095559391781991068193256436805994149993941780902859984216558230378420904817116036525250487691472595465108081488445932141139499443996898206947368432206704704666441349486785610281864880019594089522522403658015662813944108918055621004692244785229574476666046476473570139233949464420527519379336258556095242760605037465491744296417893490563903723611010218319187465758650719686765306913416530494446435820680441064952966694904955013096624655848859049375051456253157801529120383261627217893848627643284507673794255170298379725654588560645432194891911567903221920574686795687340756420378442014723433931112011232743861649260803577221166124711195129438869296875435208024484673869213040139461495502298456924203472542686440883694630747017448049165947352227589060673021675185778789978534573377838783785104074712963421409290418990274257103966683685560990573824690486663234225050808415042894590236376966235344922821004520510911046952870319348805385851078604695988546761575549367700111136104096908682400829243709209126473741926106896699677814191852910749585150498132703172660233604819062928882262082608454608448926820130820731110891925316135633383146939920531252377861194549420973550416226399161659804031825855158928872206174753290879366215996215871270130460969398226682091433530313382798512175786719967846710198626870566996966384078370212529358858846281958274421249982250612094421292597524460794455651446807433344440810080174094547627466339359392437482916234864794325944170028621841458044388444634525387800045802911466369436953603642557374271623034258671295345791930461437221730937476605407289650307024418199971354812776316009839958164073054111979755402068589653916972157225431240124950137955150410359001587446416782462687458743972907464884903334319535758936239763861265381104356582941766741368121665277949708661225778845004900098369955866680181689324858227625142864462388946011935134667169074595494063355382380544856179616089027418037720285425359373561065992089310011989220759586097505794089563330801958545230657629480268010269503048142653998733872292123728151975526652063191434475681638074823446946969005792535847460447260429941677937936482805189420141581647431557195605596743837789196821413934775274879001308170511755560418798004409247073101201952654397282117292842547103196330593272560802073202094302861068650359731572089200464309158357718415796714214924864360602911330423835967522839397447731172229541126385607821549628488064183126858066673369204551130856914336574608684956711039851787595587614258243459101801684577052813711865531911487503608426637997688099939368698945127205140957269432170324650987999214123293570193300854472773535645027083375806605220989771981481919872814572835072218355676549246441134378655050589048840436761733329951780838976090497389792589816037795233226077152162937858455345156580124828989321861840035757169177196305079758246594795407588469378527511908931482217395857627027175594359079899168310641601606836623983704262099954581130286869683948679925615612579976074617405644180051191919061324006457982295516889933349452698780773714041670410607564454918267576828299926538420776021259618337892563960678874838238341028271535588375636970490629309759900689223894643291080336373801679746857988155355961606185508905041970675774605897026077127818594561102380573197556393919632320353888023796749349010234994460320136670644269351834511502256579174506287508834770825348116997377692304180350552785647355283538690299061371336116154125773380643706121746305680440213740982848581617594460729772832950878813768838555550160223346090533139176205683728329325206167794376357564754313390766184735647165402020663081093040930421877062401011581406994211430159980229268724857592338876829627147386984920148292166362755405381019056212935590787599321562577877852339577877271208819095623907334600416233770124355328839075780746048356081511184313439232969079993824497320126133937478753131406117955053611648892616095816206123730618333985382332804318718436918172653214349660088527554832636940376778102215016995083047793051952178621541678774208482986830299017196566613014175504759477757774298763497922797268363991623105081186639093100010242398438664290919129972959538707440196643226401694368075154653057064261863176013383261037637313377803879463670276782330496872359865210494494659368451473103771241830933238448157029180776229018750726171328646493195321258265132803681927209261714699009350059909314776506504293498957152106486482334643361941442835052629152893584955051723729909626195387367169855167480498133664950338146665878990937217796817460789157437620414635013677216641701654195418921010886762378360823204824081588353036785827144349354265663523768802545132311500843192358595242795496574001301257707420219858344017936023923884119980755303726292368756235070684292429207004014567060554844664693525797453702822921481454523242961940037412042348395701992181510035438212953840374487897253697570813203193158563112056802099702049759773378283734682949197236106433283352896226194800377936848001484368543954857586941444736161387843230892169765345097847687012942500533420864686412012683749338717548671509622075295403666129708448582142660983404626804947959641517085560915068145274544783263559596249217130174434885931901809360018098326970889206646487295824311921065556971154392630840428190233496167199055226850170901464966420717507117950708635848523874240509539875307352531503660564018204632614961347236472242477162027965584009862561591355579043702893028224594815736838058436433625201796205276711336936787713553825025597668768026588349770621385853074176239108824715211465594481034522822140395338076133522596502244283080337250602952222668167816901789840937591189241991706457060647963345003747948426729004190662329892840991755154448564816504027322497475018553438302265549918001134213135404481982573865229652883643796028841755564013307077426408511796568479042059827711659824106649720366531599278959972211099180258989173157352242194271749679593904195038112015764279582334200157439957607677941235166949758986987892860899588488346273083062348722463950282633855613586554088994498614492293843138546961479280610123684804988309784002543770974170637934517295776897956814302115232127148742886220720523215701105526439753598337035075479527298949478062151553361742807481805786113993033727343723121922868403931970902744653532690912851241754155421235317361335798269107132658374176205907999505825551120073760542457546490343564618010274519264817990447747332149976248305821658694573753045864374565218081531316595490243151293546370715022443358759342978661556466032970385385843260724323374273882952233854279148901580745781686990808871972264351418282889427181938325020293858807224091814677799860908344271486690912101540671428555015529720849682567499988270781100975295473184121612899948731879429799768355959183595800581386366656197653738441860403403047659236575558307821980684247287764808032848546253862159300691119757977887918303899377657978451502550498309215988664527323970110544558736116951672689935889825936103986185610015470764779114002592922166919111462663468154348353111537216776980309717797592936733354709805663393422698286008945618352526842396336567594393840859244237492565715280542090614322339275015595772911568971370475161225652820210433144023720801752711917501900644149261362111449407946820826643237751040290390223085067472117563004268111185158893862247581752990818831567524386354700320327541794290423437733498480906282229632919220056735570671016265287354270584807867392539672532137644535557671693424664566684176008132891935283605045683996093719256496470799048542772290104843724064294860448713141851798450234961516758432058095260851677790385181974326887382273233035688702583490351502378834093420173652127972965145432445426148642664328673199054529660852442938797156299769819904738985243078328803251554499395177227665825698114236135206550066585189446684730242566989472029517435948632288358087771538717453935200318981551505228775202544986210179745478337377191954624632127271368702050657019413099567599386758962328205477194845162360243070301010121804763210824259668872059657484420738152312145397395439009786678887327857205565265156048639231948156950114230780646043251595545203898578629078580446591078667507724382761227181693622341119412459035535496687162310598122963186343777474637972679347432785139735298995497954289687674565547649226189843065893341798544168578321162438497466787641063862517598324049185105637013967512794508826493705436798160459743010927451351431872936206136323164916644072562048051907131558519477019136101224916835529900874846524677039060601783515624909990668709565453389081043883965452511004300922507154007273119050041834363299896201949287928461704007335168610490842118215086832040619664909432576348749590013984925841386108733611669928007206426931546257473987255050555803986903767470888105058412856056892030803820414643289140538582906100575538117267875561436190900288099217154923650606554196545463040333792849224762284155610066674183526748365368171254151798646720446712083890766025616442953130895800714819366625561326281139877851754250534468563752684768291915468711436161632154628741492088890006148689767141372196487811927001508659249091589430697016421084658985751108927990723652990506949627195230149280111296675034574066881714370702923786327656799796315796685396980187985033233441744476823876141294283780300489540612566105543939731335951905212702102584111192259304970901676742246899330405170180107432554992027165197075778282713347047100114124702443547223101567091018181914554741845008189836408341261365188488632430638423562878864847074635201660570738905385535257702155546391033666781878459727958246695865803002770255363920192633533861467436729812323900273945727227468153805607794985670096735020950014090412487913664790727966500994893458296312615664814800733749355783553096738404265785896677876118676524122322665383965676060040737236711013602814309189690868444843416121821496669062128222863439702451777365191468402664128534377026982047990750914309129639505157675286756739270387032633500086595421447563311702263460434996919676189455546959219484347257494319254642576220253266442045390798444020389198647995855046151828952093838421516024975310129006917048305879453077123946000949173224903346796253987015174026031066549065140522015368444196427646022698894178543630640522231186637054620668977117593552286641457754804121200092344110902439368017379210226964205255532741159144566232642286239639913209358283547073891641400522974901046506582223489070235708797738676305442451961156471168471541438199530117827041923239056586520117095351641098504563345396572402399966655052071972784838649793837928151923425717535215164089643705687511233926551177640851055934912060173831019676536686325953971750693074865945756599166016412091152263001607362048379205018271779334920890012153518587953665218234832466863965935887462291890927687664192017921248634199430918839268466812713537442286156206276292487145479115155925558167715268533667872067500658966398204633126582053892071796687377118289790459766314298083589334121140982012184022221625576354983273673843317999237811717194464952702267394827801815741431253884969307523646272437260786127673301967233355208691722320179659795722761935924480104222238517753539540961172719988959926352627423136299117125248829535227065021326200038312872500061625197554007582058409619324337512643527458414548702965085075426817698408915445749134022999013345052500505840638223562041270232780618409171306170258599013254101294949058347310923630290545300636991333457193137082024631765405086165163984275085706829652905121346809604741892102328939575891346954271764359435380044026707093314139194717833089202513383023630378763481632992759748569737806956607301017815553054979296557483375578561979740451421287735546652865831827644477397062021445113942703853921496519111250541066235282452298143975300706441115161891725755612142596143898064413711498049783592560676895784837875322876798023327466846420741747822917920224391534285780128838441461383525917980525159144313239080218955139718075320736939520600554846706637313944381381423867438206469226270152604073007625571423402284969492757265680839355035593406099835839455675192574496082268081630739283459712583653280165447472068258905341414238784656725150383191980894632297987454062521817376641324620214947308606298094873214046938216342230553713427033954818076872685257106301565563436363227855227007108265249798922887401733606484978375093117570831889948996323277426714882020009291909806296794448347051314702326715349737210737645094632650094121862092992274559994122613117015523974945873671280418708537411473710125896266939835045999475868740695379496885303719734539919245264712507916103895091368267278590983553827658575903156399621809121918082115543405780875299677866971990407589017290770715852759875895602327362476323867845326436032049436318632112281261600008393581903642196665785638095066808787969793993551296796875204918195261786442084637706981370818573236846029017797769580308116367212064163570699082687273306405353661387624612298166826405275936490779063123978976728337009175619992932568743225770733526993143602865774462554247832756003313676350125336338160013587877720771759441169235364381846778170427551574180115412688491725996827473585006597381636312145386905053267654128331272238094022727115482912549733487722246000643223007684501155614202192496888291422779759964179343160003503708121143678781416187622041774709267261905262689946300401856662182053704331495238329934270786158805683927199835369416403072421349573525683291837975229108161827805891646018214563034569461190729523093136587499108761729629377577473839013414099119275421507420633702951343947974613990357740294721481233386045660108605242002143999577917650616627046922274538220305257875883464000470557153461394100289235483846950089805369295818941976744739235644538957272908548083886206036181061027401830863505101711037885736966531379839008104227720536736313104626299102521939693122979280251069381801859073452188950070976464812785546835981002052734906347099102296728942027870708473372541976940860145604100432789237588700719974965571757140587860480759801305731875789475541006420016419523695912653178980386870632011941126549316163126190874153669634856120411474488416924358386221906727584370122779606223638304990538218253264333705463246325622487635576928543736400550881164463502006902381660803883004693572107887301919763882593679478395887957387121828093559831582245275363299325236339432881833834161794680439162107095984716907294927347153407205337106985751203489814796152457154177524596462276387380930113918419076294418225445208362077239974275360414092242341537843101571378497943882840225115458845433556124848380305468218847405682146229426442069932243637813999259765468413826803835033367770858704744203191350707304094350776807452486635794181024605060807406900009883073163243900146206669922735871681363265373719479148244766524918698155943348262888597481305389044769427431152725967200636735638305758899224696403870068070518672409371642909825938897857261670609148950122545034242266056648594662527480056237777223333598930855740736891915057144701800287945299964719741054590306782885576010909271986847974046317835539055758830342647100551440967392071354262732155361812575784939578727315880065549082650116016628719413862288004739068030735956477083928253545015762753815289474255704799347165947032425286663903865205269846947230947851040795802993419447355173503735605132028229144629455215205511200376141079914213765940422937337542428339161909809579090689865586370625464939704404862782994486682682697879705151601752501820707663124367496583845133473628910349588722666323369596594064086736463148867050875051829680565023097596969895561755335599018283619173210994124740322730624839243704299894225540438427860947765594771087219379370036314208959124732499357309286737709281864763955283734919153893276640473604985392993637996305249506911622808467347532492681633591267144217140822867931609484319243599058859591027128469090403524316213742595944541169583363402887210787286108612397403600189812525106969578327603885493849680883510231096131240182642042556745014429991609789440219102414383112342054966597125251703348100513116224805456322362303158994500212808314782865804614216742516015078038905701058614211456595192302854139402590992902322283508408926133016523003615233703248277308242696189370275905878334673551690311504567557012246384888864984099089078374609494847624647200901911702167227150123905701905290043976955268329597235690454910549659677880959313156153392211283240401553970761980792388326117474691111121638705786856813051079269821101222048676007687407075148979107690129054451366497885284325979450517149208913028467216223311357370137961459406348795229541456025707937387362803968105149493692360593579449343869681582288478944612001809897724963393089482238722481875347385294712190755359286771411505743087998257336517999524930069299527166533245732397274223649287225657193497725785411492811255462191544906204074284024944617441059734566382515461757318912495335678258722595190095810777293856102226496921968386764822228068848291041970660790131255884720307538477026065300448674779617537906015073614297281681488908800325988257445116917049937243853173297880339774450973176278105126916428594022580508136280190989528213748320288741120936289132076832386383292321995849482769450393529964671717612186946057268639152294444791174277931123558625615761985848934222287536868981326632902530363974763393824201168025484716215596101346334406511087154230768820846475446225650709526628073918132698163868680677629953166108492228094018320505864470198278165404424525360435191977001894611725276684461946357170673262580215945798713159058883181913966794625149199458623356076994719647033400599472649740849414621171866320512494034215823388613314347248842405988691269340575162491426167575829908432722374779486370404461498031572283353235676385169433362470185259539083459508806261551270843537988066015885410795558806853637050448425756455456556016661962070939106840611427634774890661206920405033171793576409886310220960680869659289727059128261448912311370414804459214409891294014467651546770564388170050424314487510389251749316713879925862326903363293045955160627946773653845398805395256457400724408982658985777906133376755952851817046854634275708597817427336950836494056336362844301307607712291781055108539528781508256979596803492622922978097226263495029512448475021853265452872638632090044806485107187824816337674413334275503127996175218314635046115747006086583456059525847920601601913153574584508298155579601870509024020349265924191302128536023592927657808564086301037118104114354136393532728884417889320824831294194112204958238274598963603864235340913158009589904125068790162808553501079786762490226215303948846733084358761474452466548806762050913243017848557673096409522150081294165335751385119028773326977571919764818230874786148525598980562100405619704437515652123495272033454713582691321963961525550095413036371827770739335809918000900715495616380206044584043991021380409296508416133995665893618366991344060714195240677404126511009626326987262210205134521015646512965574881156955565476182632443501241421568159008343395252568630213594492059273808651912717904232394733488222340179727104712674876237859013694111916006091783866094294093558577754452478378233097261327606245798124855498660088578456877396458983802111341086682352944900510485064428058735389374999771070884896008094231360044424143767676352526088809920328570711765549796758305483402090835335935118962936814686285435689284334313120826024729959736217114436660126616052538118344139430650590459689934894636276443639574744585702784275120419099083048214400552394409962256183276192796435932689805971234554615409060710892118296507881514287698148342132000740919437951213617655822845048520799860569126766024428595885819449649840349649490695586083551507662028210336494436089115899206192724483398925798429325442792743301260822267123396045458137039589226394353273441541709853092555058424009128381026321105655189890012295043224936939345394785727895850524861945441115176223443131885539886941604803967007822301046595269225929529357070907638917960161958656026644554908240953131689641501824765174933733663637075517100924562731517976881191389306936511325758331010487172233464333321084888674253422557272873073852245109818709957396375626081574677517902345293275423431157555500692535712431215218631912729782965539524426317799116066821624219578078017585273545870714352946782100864840116888102537131233247318923773455448994767066015377616115723939208558271837493912762916295144319944369067353836239592859106470323928825514816999439991902295493215451269445771154374626067200738346457503917550330571114878673061987048993621965837715542756079052531804215366610638163570990651838159952988468626616638892489193156336197862094449671555074779382891003305869242195210299895567254016601997996153788497658420981992309979603162120773294707430690445479449565790875671903946316844758474392622700627139193826364139277123993283183953835374707335199202249108439463002970448201335030244550863030411305184664997072471770889299782158383466737753120968169510199697311813836969654854910865834697546101537076047010975750821754812723179509975575219716844475972524365904722227100502455164891514058704092640764807547677726570969257196940045712501255856141981217348224210976915168453063743194629235099983253722417506452657231402208226862052998209913954057409672439106500339982692438482014468322660797583083518075134478416133776673213121141910696717814113556548032516247646008089512194512992774442418266447188062510967385650809420878557438451105257933579206450733965557445439262790985872647355498029994416004254253070958872829275550815395418664315215879617143779811174549561282906448362020380530722476180079326880534321427082305227265604661594095811512476957967431259403490893666385587997650118211341132275980044853693323909867610298872470103618968140728154258466431741025798912817351793375315410872956256749966183044310718772565726114810710864059797548850537815788536565365802182576512791150152876827876192966541598629799957727313725495585154648873721257208470520668588937619887560337088773455044306439971991023711184745080935989868785920707346217747683768655668998291534079370524137525450961207502279918024815986826725136125483420236023648497758973283500734505365290894483409274044254688264895238485058234141830826051411930732626039660486476452155256600563678926682976788415172375973189306188951809777156177253631418302192240428280256865992422282216565824582321431486302308052375868169383868230126108499655482322074404266309147470257423701262285443715499826797302596295760268063318432003965389764783168135194954725020178428880788469511421536180147229886122091416419008884433838890087279752414411746797522084696981397295208561613540952203787870859668248971474748166464274752839680088187610992025518790248270153650177785114997665513773038035026818945443339403925193179750285228435289740331419940224835663577023015451098281954792922007491754094958480803452649765540725724558246558778203633725225773581931642852192958028550175137066310521459396951589606215117230208890223018686584108484491120312606512438209005623915633693487595351959533157439770220443518075488537936712678662171319215378662918451676689002896821989482124245131535693767538445107970597206742796412268995194771093013734948119500375971336518653481129883605036297380966741586641891457282929073828644284007664043293416703180364361833354455360795877840652720196329240326674700554616885522070014146985505733875379512744992716302704542380971350487728321790895595134924281520661929262706063148770897769795412656727314834023849101594492686262656605335206523778950380077095444947553497333736498357853850267627601151751908244543934200149265757003685292590816011311187407987988819649728028787028550585343510541447260250021534659399585352999655927972290601263116998345623297147262590083645871512967035487670699775950603773670196870443506113628338671800982387295329681177789875854404457174701193760674650967608360210784487240139289010181232754492404810227535236249390218139566132582217496647452692798587123254141347524039920868331787803069057938899785462330620202586189238156912724067977787187443344772383532322756350857357666489277840004185047573550172618624310699453032558592163298338487435712806595172336749889635089503307572284628123020690864426237658913877232976773662783206640606871266897322899055994126038418666983548378367688741403331624317389903510360106132268884599412474232780572987136455161284670467725341587504904111326423406160530810678210456345415807464960920267017179361786174254255413842576822551596375607913913697791898993177077878225012682792775087213100898758042706049576641271117703421201237301626042685119709354274453626345654518249112314505489333632451775854709194266199402441677412399997056727377632771230175302557218684935720013862001450387705348742292841358764975486683095549987416885395525876676420267938928842123431215248894581708909094899486317402085290250948050281259252193232861540134364863966505668581913441295587015807709721156002802924193239525054189918205214913488658061852823788408292597231395364185659572468208020818740945491671411676045660880976891497529206916127160095490691245459614876756282428440827766029936417018213320569042611852100910031001966765661508691574838122702412021758491290829186503519642113880916497711722739154441297531487374205349377455015159937035942946344987956272775201954312410621850907014135233023439722059427604312830027815431227688930914052740911173982862021115028325220705942787804166418870541175443718308871318560320820576489267999883369570212813024939633611010198376396123876914560825616466728885195082281499868515983258984874394372199246347273566771106160592929994308501264716905611573081348455821701962256741748254955113804789306395069636998741177742636980745825976770139013255578620218248016871158856801036851894840918731867285176415248076045966189335963436422611918996537047367638964031309170601063048826628477894318270791679517598476863589634026772270681173547847742288096182986841733289683694320295346371677214868334858631326139582548630448869009703221078157320881501690922653342371480180835439483863969825901652382166668994799394421907238761844873963777404463520186110730019341757888366537580931357756293395878217063409572181882259675609660533297157923967689468906677971325276990043600315378905143021083892405714524212894537376741557077314744849972973345863241344164312543639333108144722864017371477294059466671939903455917308325618848497922667172538746215296151207003775622840934534473333528168450476453927347148779951678130420114911560684480217958546094104577734072632909388376950438487574237808092802786042517719301190924632614873655605656003291561294964664299552850947387933850252160345794631362257756271219609551039774790459544254853897290233406757688829096301671804627639692864819820547797917806404977372847543501360045425342011073965922599905500596462098159364086716852180838256709973323291577252982241173624799095629204185346921500112978146197259372335702967580274079943659166207291005175219508137818039956292464674106842154421819419468467644512494779186167007192846638102953045690206937920068461172492049828488613936772868417553482587468522457882969719782912910770126884915096880075180211143352317166714418750296842744609885208058580638585176300508135182469076069269564245100859490558934610105548390802872692181889601709308818135825821320782680480315787250702199012220258600416649546905761230530577610222402243062532417477073871355481087623461588538903606959407010147792751161411810315488775575443404692351284643323174221339634918939251803451181670898964792938201332483147684998764567329927717185174004993561350673978734034925736158023685182838247593164408267690017023103806082573796979081289778602426879774241534155626696706918794630354220312504666632921481769623833698788697351386964383353218929175235554228044866594746685155525489773506977526560523315994882732773970876526378154494351999309376439737833793995952531359448311518499044484900679695496217042986461017446175372185528569962648872200965819656449512313494541618529282730290469544895371674726305522856519285848025986462416983400669318938816699365443067623970935463016198706621384373598622017229031810459926665630041700131652111308404838886198396047746556644684489874276922473195873575186042344351473751154564645626350286141647189103388492228528513227454083753395899334252750986173681448190130172521853707354789117204486386105850060798864063563919876289436032800478935098045082667160830929732366056247201033451143300638049846915430493651496920854601875566968769095718065056581617031938846007640353007152327957253706033398004235296687428672169427084570295646993577049708536140914928199692393216293320132776939968160504678577223011906523750055976943285856152402656651300933674676743484823057573086701328043642704784819867348760999400483368693558166026712770150234977525760064090158629285251907183096113421255844193500095822854275375607853295212331627593193430168386875461357881053496655571170026458453621254757452677032228312581248738113995638308983773910966904784225141772518882681452313982005406984234008960290209200580977981129174478300884980943890710721145399286824756363577888837814806672733070855966150231749622703401133653985326266670389880096076048521974514119836544187582163367977024334817563890853539495366588600955841240742532031706188368657009947632580525391064039378419411171798057937351503324435116008216066864025356451933029210274331515888843527890448312851389280184265864484104705035038237588042233200231611941744225144768198292519747758136974387982481224042632877453868923692576963686890965694690987896888968330733826183380745319579615202024923497402063211629238437145883939103447985203706891341463619317584839234830494132010985084602181065797491218108400254581255920397243239357193749459141305084096685359415906862155250992218961847521188270650669656835609022320578410741824480257138825057296293450643578406090195546406158033360952495226320670179290732912421835573895470638063051324117278110488292904622155767787355088260665583252766422072801859869670648640399203273667737778841248329615569152593241759198904142068565461440411517471794455987838912100130292138951269244644395888129951264658429670089759678212099115107512995883159614316148315953986510584838476680621349708933136631396832650942635927231604110766640527152225957811599586224397227525245063124168213705807824537478496303940022521187368251685848707062858899342213327164243205360448822682759948645301008797643256413289947983457644139441736522723534879341208925254827190788103300370474861963098498336941427888483362768174853774145448411670280831315077041250666811546949372213414640785296541919375290775638708549210231315640299486496038762981984626216500129513952968895461939318393073383192778614837471702584793876835491565800229049845854610947004778982129096058254280060443124732623230667904561989394886377100475642527117376052874732328942730008291386509152882846122874956540537415853846228185058353949141053056439579181028333191548300474825957577299985100663131982667003786426794750804403958247764943352189078170155382430224158049015702541327574252228781278325121400995179815542102539141298096735434510337510089652279256385145434045350655726102150318066024013900528930392394841244675899881013720057966831987469685031362474105591514267379721985708363027291091213396795982583913688271449464827357391999745930322035154107524333413418429809718189605605080458688429635960376042447225540214773016434897049142001570975323793519098711825937221536042821651683140172867005495197890523280700085565229702803837698995615112388590407807529004336598100173175985493409499279144628270767041142388336168485031005109821680982123638067763663798018778727677639186446760824289518723122090484968140444024588189657126123128120013849530586532322689501300485758876379319584676932975285198365664532431971669158302117642509812243946537527208937412116819451157941990744045028978715020289334603808087003473270405122872549781133360987682510719581576519005404820480707873548174741379859068053552312415134437323879065917783132328052318321408031220698933955078359114486220255976272470244390531968491575581722523899220797678209172760106750259570733205075925334193348446048089802760866558789834212393702246713182205171164237821774241607928880501884235736397226818516060110566175155974625668277345732887687881108469051310642674597183426747147666499725140825711366406543541112304109420496310543847503148294614818435029486499011362276554574372189199212268125352460288246198717514151982054711062096126824252639800613400570121822375316833102059404347771442896664539780395719818315358787979173866614701814486836593816864074946922396972029978306901565906680362493309752430136475355025520452331142737744195744824264053260038506632705893185088361058633531684225994514342458132654419713773720705268643018232517573847265948844453792042260471947024502055007653569421620296354323043035801903458334471745150004651910654730442009528375292336576798078227874968563176525202791575275004449055877955439946887328647189609868681803940437145277462509783534541833961506293144423610519271837095186909332334030570123564735630686352233798227300421486868196185418016280802929124297526809783924801339130333498593701778970628965643699778239641537517048975993893511140855589122771743484039002425119953371609714219803503681791008991380244903018571974353786746819018708463606451036859169993375288604925278768732261596373775911038342375737935428382259756258689059159525070866237349692537179956060905055978638496858557978618926631735118972717450205019737093263034430198177401150230643770777974792729935913721964788049079334603322098864704524328266509382405936206221549224063382939301702487858465447719870786927598374847440702263685708605051893605607395160395799863374067625005645739733676807066922817909069986630752264826564299519817145857129008931135771178061910411523458292207578103088832825577217653510672343353682609837503757404033429569905953398435124889607499753020754094949395135000818871539312695153733014575294438451973557666678650264225395425014937453062267943937414661712783880163686700935596477301259738092501852559334150015759237226032992183705183010077873995478999566420890710946207364744168277455327143220686201004217578563185240040210486462114710201495238334805745289707328717871625334946488910123417069133697444537961874508164625709728229133687337460668602836785683629668883989848397508139295596083630807403337483338763226021894954646033832823183611970499661016914890775356946937567239882874326811375739650944779057932848246719428102985095229050557096947000361383057652159937523550107792360946489005339061642915443511477676643779556594663280711981939460718660088720301178332766470688006898861684156995838550258115393705284883894729086665130451218694793661208399108950840712406988828873113910319320175123989473650232059499057346360690262523833377206836777146497087055589221939409668313781550834709224323902444107205801542311700301642781211105135529490321293330755513763453780490251946584496805615772004956535785575642898846517922348185356717353778012740171337111589382842556066946148027381970664843799095438843879275935870672226649565928768570715983925399666556752705269331566945200325121989128565766294307945169724086720395378108689812803089648726647985322419487311624579725905989841488607782628299459486889474017450369245868117861292518552186347346579668603538402621690507113077783105045989686097413982248494420285487143895260478312896410227346820665401129887997336198073538166800807895047622128263983093382011228781381858221637640173070177894876540195210669728838074753928143413009046423259903742540752424727877860123179576162657161132901241246646887966863240991710426061309136647760152881208096772218818932182427880813757383572347602591364791765760027847506858574698988605273524749907723073959286490246524188319458458825334738695787669915543848516673312321069599599286281327973142679806520495513946777124160928751971785390799400235100999675448923216413010013856194523457255989004428909638796431840848989432581502807125828217589147471695687766916495928731008773590355065339826630490772025233746556595240608162503402610367117034862964823274988521461578464594240313029338093837001824386242145355535655815702625591434846234428455138192821874919725268918890299554922006711100663832029415797148108160951313902498306635614068436101002466293262106383111682617316223449139456195950662713841809899548173208505914330139221708290541233404394506315971233051657701635804194449109008606422949379423234847873816215490195886530994771826848525107691963445762984186660737214409029354703769734568085953549003600733091942433927904282806648107451980063747448625242709041175143172177818002741367864282423565729995186441205080515277094231685110737743691475791604010776518333096156759121740179605046301744671306410095287894551346579411850138204644155385237409012582156820372026222955254712781488067156647256875192643336453080231391004161960054184076303162303396613873736465474619342339814676571334065778061924736032896589182905037835776379668978024003094404379091481385092398405000487049813187873031286443993625106654836207627131621802966940587321679687325489782224045698048766660908771729335461341623789286514640234074370324227934888336490878971523810203904217633070930474532942167027645640657284485725640284164020721717155156403385921934194448739552573830048712166513961579123505540588927273099028193583487141526321043143829226556784548548473122081674173199799020314436250982861372178145441748385592059509696128016143653711168147369361939397559837509105468113241240198061015252060632924458258135441236304283097014385667138377176511014166380625476765589956580660817124279414551307005431534602785781178802218685323232574985365979690385146148827756661700796526332019627208303091108428993416327296165404527163304812592481056894559721575467039154056822138812250046962198158937459690676948642367920712373432268664716971275755939555394055952412098951858245585958720843742900106421429550424922021808280834222852744852921388122624433891834692463645346660306485186041014923561569213083150702501000693551097640780723021975530056788036488802712530480701351245523355596984248266977601067204891870709398969158941919085597045957311545163377187293335474632329978804777236755753080561437749010590499154179064832358713373786290904971566177086738122949409283113262069688478751114235742517649706940771383473703210571753533092931194106102105661649262876918210482981629696865269811512317991988406643708591566708952288140577214945348805502391224515918501550026015581760521190521618694446448163593060554173078421745953840913049895732276539017844278824547574553958542910729551485994743369527204752721959492594027761083326800560175927380542904864006934115677409497392096703495582651517140495796407327515381272982069882270200587768250443087037619876328102813846563920979561184434964669474423600920563360512127589712515677170861062395999500398648249606542002539836941679526566611583120779246843719588305052834716203616171489643447551479239900882415597442530459027353408280724041541321633842430772188160921861148696823805651595952181747747117167434419958488059427673044688138711721469409540400746352478606382157163084230542803468618092626383900034433535697670205894929008811924774641232924777290782931844965162093157277075865058862043288192386871683234989373415082951539468047057327019038369664939860419091529903830844448774636377262012201320769573137238391744036502116544026041457369650485849532388096599303544698744667791265487979494038115210971709439931790682069507967950181569160623641617874505392431730345208380264093818781258952177944878164324184935127338670322297885017151571354524090589451135621125216836054855409916086248400514504810642104089551084375160102120123732523791716837944652120590295185115713269608111947091998507188650900430366023995332384579903782752465209452939163015758736359178353791771113028471775167605746198276241497524654706247451333937289930126112478989568245277228249638674115106203859466544199623693018452419909348010929831965761258079087591544355147401592589725319115198082287583823231747214514731225180349613376173914414851098767884521872672210455734407016637652893115406653615848678359739016509698029498000167528125461165878249463531400296379184967936844541237368871807532653276482170347836528066294556004717334610227991728025967037438522400551255631839978673297510685870201786497897713216631954308539308407962767334995126392141436316683544195619253875571609321287696313095755030800795850063475510436033229605229811798626936142869018704563581137138743344711168754873199378247580788199411017428318699912372060594012332383053102456137931701075659028885508647528843615577378007058646143743002904041930911599386074829610502235905016768107525638810992761768090597549981913848648564169297952594468871661793598182170994907309610105647528912519954441684497445923157446478606859505178277019703146550932041106713776273468600973333890395576340520395995651595298044990755399993683465687453128961331809998515482038439356502969221932718366077212514251903939021962654388682470934674472527414271223814053730274743450946839543211315042790508509853767787020483406433619522234467880266558992268808460101841251576673139410858603917982595794636174900954652092141931930958703350736172307463614951430339050451925492817757214539702815033228906039263142987828549718877616650566444708500778067395970032113488827890039064831596668057005492848325460274464454473235108044867836211093381753527065468281765361815944858870490413112976626272728528648321601016714576049631818496269106719952978111897502689531630107405744890292452707928949216633237183112987784211399469694619874821140116138478201106390657086433972554327729904548478040577263824069529105676892215934644614798154853137020866594731654695446249438184217295400741609655840219527698803620014830102789914430761200722276801203239827686586885601467519977920146514615460961471488403608626115934314163612059218520115750123937653392307636431675968444444311895487298674614945232564341591437792324229299865626925349585575359175561566162890859460450156291511302290774263993552681566703986303328563720000621659119710209825539355391694581317446537103145724866294453010095306315648792695652514997569572785735548151510318256971072280389703923318985252090405784851870598799858538567739298938709949725253134785744285447797062118429096247550529865030145957200422395956636445853055062555362036906092116360244998804341972186722031361120910706683181223084094337083037445392493586444614725776089972576525320022466341877683439165429057527302218213566637778043539263322615320190588463819491358414223366057806476612691448135131047330930253916370473807237089430801287727910835959983729133363892534353363838817254104444464405231026523113354414270081031799030971535144410474539127896663010088630034421297785865025971150533660090768297671648256475103890437762096399076215193937204746295249171608511595430245176807429791831691055519328972282033288812295630395141740304773015071410385231470732920621872063880905842386887698073532262997833074832699531370273467127997148965457542086769290870823817824903293509801028468589716353591151542104669831014004718278679073162844853014872589248462264534666219195195835337279720394050378121868356766051954156076151942701186466123916578913956043642557364468113439771310317027133255161312986691000382742908064489808034184020930809615783679279420800921653060227783724733501251170528896538201989747661457612604326996523863232682006168348521105482560416123014215212914011390835932758925089299695305049517065264472630960361072462030050985668281282773966285935935983417665413662307155430085501002928321277380369460897073797222630864942136884367685016770298767400683772137840885645008297422556629529051798179555816414686775582674606980942443787423201273524959893742412719882230043552521788660651964166278794352496847829815684982636492259798445680623019393189704058508735328594100060525863849225770739013298236468017106610938212176114562105414390851460128608389328744170049692704198297487641761548438899606880021163469895019608388157491830723478208447529720803987942333931137356997108871573214330756862361247062195068958284441299737761819938502105268932942445290116523004046004613591450644465218301247348622373760693619885425568249184737334782135600560215746362500865960693736244121071279550699601077330092775234348842698988161515955752094651116290569539125083625648758744467659462281602748609037757014240424666578784962053969749688995311053373857044476931543844871975547434203437517338047826431013733146818827849511269712760182131588627882644202714700128002665254536576135150305324958119354293479263909533258859402953504351281620843802912367199772128581008646042642947328043141123397159179058047802311764691045492930379436584052168041000770782815561767787470794552237370026773907925637154776552270182326542021509321024179496273738653560330900704818006506065122565467752140749050275782227711710057343218177930106114058344202019890839403808109073508805668143859777906477012391232731954037409729788717274268147318610187425554934946624942203126568371463849672389580432195318526135166895934993373211047376828451618842484017495169444358228363320052903244853391400626275576351850398598393016826111979677557921501686659615176213213468559849012885347100482960763413788143175384376319229154043675176450522498422689476795638068246222027750965453655332501863393573061250530696027336472277674585254950760984438422189427513991099851478259644682234417184158198231967647783378002337094508292505316661632544513762672151711032250976714474929817139587455949633082115130694715864889074596009060800317258771938744372398273678012759474075865595660606688410906306315147700954934436996323613531919479168014248920737885343786337217455743987154341942659884826037745590742186817592544741464186781990651954335581648443723351314141125946535003319844275722691738144377584579603270717189982623714574257955582292378812516821450873464064872123093388009060349662971388763793382551563004391594136628567690808593987578745972454098897218568856062303542288909560065599748924259156776519816889571093421847923822144825224950375489445474015224353637514369034165507912104510648202350571267667294181174524125808901307671373364379325101889793429421617168822360156105477779502757174788788771166750269188584934278782542015533084747079618435824094990841747844284343178276897396839927193745229321552292859548221785274959115880809520367658799119473938978780169180911698011268636355666786803369263480207645511959694483478915619413909400159771762197365630942305032320472556268052310833237588930699742703678318580401671476883029410566765951974414845546320692291449835152663742795374428813089637638338323837700424073090826956715003643794509321617583379022249707602643282557201196328466607819161325997238160345507289333811861671469774365258652798282947659536757804789943930378100748704598100082795874681225987499746841724651768207272207914301967726721529678917315159784400869372493475000795723770370207113644602622704078703191071229864216093602587617301436171616456794191762943034781247304966587361905396911903620502198697570041295002788757706142673319820127818685892440213049575324983527125202987841932427394002130391839561926674531228238248253709085476169423080776305455094311576512023210508927021512244472863816801297749274361499729851002839213884861338151197824532410477448436075095398394213359510607197388236835382720765709278822866352328728028606889009812514136319525112839937557707591033806919202018641964588524231798500463891567879424869565991376094200093141071725199644562478527602164882225246588191748851529891492213483684218092998757540236039911513765695281033526548044706298118826015670666710470512122301477187736383586579842668011595282047830611563936048357856838659759740558876836670199158475890205704920431144729738341110036432404635573778192116267515629587087394322011577064848479353620927515720566864492733285589049217154640882730348789733950322201882247358159624554873761185384102211825957365284200633306035443534931238574335610832101943905097926190370619176473468864944674378518972256623661145369397171868117087968878581038924579995772049717146002781985385143842501309596614113992973318065108510951478622248196916204558202090644478295748227631619060376399300017896374455547532287381477587063018337455931132278208663700970956660589408935235240484848647869896654380558089426106996947660875546397737876521611606548519345300442304765770559152348803020597530601288017358016716315964270424441276622764402117541559341038128959500408368902236995811837805733175652391077025701036443199341500183903082839381268091239027491919931159198483984648100841383602486013248351377389197013211904511167037848747115677675566804187866259131204032484468864273578275573573263030411343767581376393591843041471457854520994353041614048480478270527586084752594235347994151870366274268399157911898490156879735468240985849822864646139386989527050735081468323123343013266467007437867903179165968771140414159620202620807094502574510681280154002254601031226313616518458023166542705327072698729708204761309812020988892202114319357857715788646350934342946433418636999128352508131531526094670317906750383279626825999556825229598587162251632015840695599176284037231852495568427234939485572820616405029307286446780481109279144535970359982925321247391823560296038060106519194271472327286846981936307552143502909344352395887863668748478116419193143833562203495727223941705305191542827554328773955856840495278093115288303027758427670804333164996149583147442729125403821232211503257463086444018864945523772960382690864781635306867377745375814525781675623591344379055786550065537962985276423008310035922980954477872223652556595149583016566618026872369341358971527810528516763114433423418465259676858057673951133615143203017124004101348709413305824686012398446570796386723915265535360300748634429617182805651197049844187355220647364112725833563300956559157101747922726624124724950244669450356664702279361692115489532185915292940713973360962053093642526552137127214624793394554685841129913384653314371174827034919594234307241359964902706843331050913757836525991033925782260688955200254133455383042923739319174579716329622058185059744791835151066685946804449205436310874635842101984031218522268953780459532708191068016677429723925050755679966894699646118849386190760690626902180890756252432282902699306028394523959627111416527828515219034925335152984774656039987492189523128952895587899990784664575366247822034573766838831704574488262491375318595950700984201342472381534181233706816254442356213340141172415148042200187055855342654282064657513303699974693029003436516477863040257058974689736634790208915371281901216721783748832003545259569994330132419090607119972920635564379726886693530885858485063034732574982390037384889221417177836899744469121953398101397661250518016008518507941916256617438680312845875787395188676172655413302495943878360206949924745579126444931030103968962585284073396646695523364653619627669346233401740957058028881336905752547002056705492315145418939887277709900371072641933510938578574576497594121701495236810404012770612455635742354862783572632947931902058164168773622677081481752693473716597749680622792312502241656120508893507504341563366826912886103000623624034660934986190460633676650572251949649731507639419698675984336197120480996989167608400052322490017020857309754656963980693222423585562714309330365257358150592145795424733253360245891017172570184853188302430486928524406963743642717537433237591440911877058809784705054348650079529005502382042560336990132242730971482277840959907041976525023758428041856432625706680390708185609984043333493616196398146393801363135198828395973321436810614050683992540691126744610351820907454264045625619923833861388631194490641840035744594577105503480296969841475354081765845660966461985674392266108961232888815167597522814538665174585760719840174902201725116619002259079824298408486086674031853710843299126348455121928045910272579024951894412302510257953806088661469595971895118830977361821339305566865369020363936262480187454388046619432296683632232943061285968945880699728552790609309504798323212615369474484918891721284027521942849626416918008325376543036747899512620183349335900697441664738125728715899704448178083608860018322913194989305876815535476316501381809110690056730710342985877934405368327008259882142650530743727578397005659301976985209958010856107333160924941063634791748027811670277302893281479184465254349527020588161579280212996572834235076607406967010379650753778454042728910471492771858227343231236704350500897876240905607346561278354800565502461064787923046032389172863695199267575909723589573402136506995237866853033124021553258228620062312377369037264360851481254247901514573352958598407457114930840946336687353942023537343224668229798396921146086553983272436044098780557209570168231877535794489461026571117505013014549753882326505631042581009295580212468128961300346059414073798271100774951879840981992605788595720492843636395333446755454291370999132280418894169167247454627766362737124960623191747744360382661714397930154920454404988453544311504211900259337087420943927696785983391370043273362136978627167219704096153888869516883358863994039214703169901509620318636984483871291956375643308802284627159981161369161520957429268637404996594055330541693027436416353863342086515366348030309828486940507904454252135169656124987679853558322905964242748847389037859140043634779188406430671341999010768449378636936083930262828194337750137991474021519535697261889719689262808000322294824901017373206257235377784743405376237272100807428582506492172778614043308438817684307848322617851214976328551657221829265465600124917228702042906715355118446090965994467952909892961242436463012939740193982639138626843000347099672990987326741765896008360341413165375786846924362451584082682790939350717863034065734765386247030227102468468298402621519623924903497847363848285370294599739477967225068940349979252144940556967971685530450878038382672297629523530388267545815058530556715614202190698529391553052935621356277666517827626087155221025278237260996440540558604452273894816397036147190105585988995063343731846816437268172443656147208837644957418222989624866663444751073241301574559155971743896799270238331485661258522570349849505376044212384021159115630217446588256519782920523183624035539178555361894810852387273951405488393147154008555360968106045516318534707836205107591652611197544835824611306100272508618501641630003249736570362772831602158221068788237871128763685847584451379032704094429995902572558441784902591507285302319907433472365886678597303746207671748855395526771789748142441790189242162456322725235070045929229259647683695951235171966032237901846771540928755573458724761960096440643339293115921947216599495290582631470912635216718026189263118524256918566188661412791690706732274908225596722786571946817270035623529557034553309913616776116781722560292525756879361711885793262722528144943599909711093816189877749979769580995313913673849960160672840002669570012820962246721721750113147333785508779578619706757667269355610281224933408484999987825818668785321236708416039078269814232261871193296534059507793138047992569712223526329991663071423729709948320481293589585412260331421211972569709807666803875885882317141094706056110707980746282197308030560877632262248888782274223826977343425089980735184436173143986066744768746046091035928760339242619308037759410793953262199433962465622469063258296592800794577786231503856843923614646762079265183369459743843340788413787191074155426398261762080085202589576033027387911989218826907719925898148304114326306891281370448292983353978988973779118899380127582126804429155835700352447817371352461833189104702135370512402644480336010952240693457168490290493853961643521554360502772268649674553583116070182208700256056835116681438695041676389988051098179441171346409684691959075397276436615100147817194134999454154741516627026732764466200920903087090032946981938285470312987939540204869457452361526691248417038975943663018929806865291012150216698144251309658375603742161095174301528727779425692224499877565816051761920237723373465194797009408676014270444062251664062746110433733647968845090660074609865141217688423711139871813238627398176673897901886280750876740885357738176007047713536504733887260745496320125424780964483851003109037817843737824624730371865667555926381921913919460852810785107979786415513272276117919098428454653867001249577736336468178791686515234225012494404091420919238806867052291293687181897607613118059447213772387520397621221986897043896738714070853403917286674354512454052857336635878674249326988658685662721129765214371707030768955057626610073019654339578290342876743331672966345176292570250800132138428911695798494648180128878177888111566084137151068852484461183894152111330343917255250924960588628606910234791029645127827489063724187011383606081050364018878001286259898980067884856429692859524111249351160036092727792087036542442684385169352836024197699222224202376839687524380564084525604808522462834831833760989981533439551193917401647029967292182074514331906345108662417853494526219417709238398447655153800156610081009237332124549499809065179339951787100062047056660443499006229664619568826124604556364991483537289779348550812302325640155722773340647443340592771889603977657856727766132803010355479014248562022590994136275508008637848707440667430405581030266965092007949873721947895185543559800378030557170246207056379204579370896616882004849617808542328608013480449137805708591487226220533177780993913996768732885244410818899798297015256904685767838036808380500880958156927372004285430572734209360933895146604686052283052083263130743989080386461858934440745911469577245116733373100763968800635798125498648503736967843991035003686851293021028397076380759563862523556895555027931161098537896677137333147106580429847315822241240968111666582776995571310086221733723645758482506523241795638102281558538846329987418098547227809505894168705462536391353952103822955789757707056864657837577060643580150177135028504015795810644898434447882920649437185266231209792397195706187465567131652573238431086972471672811109806030367476792251609219815137679159783776370609648216832417889401183486615166108834675177568385164139320821457121545369723254368384973015818454620792243082038673256320977415052035931936684183307683292846691712461459634732004807231998466119513943770839424299503328077251546617141928035623553448399872756672747186267067017130051581735530350181537484730382790858938640025807192657962824978837676296100554463874510550545504908001936571964420393314382943558589134601820917866149182259149676948193551669906151214995832533031348880166487194458912931795494146079050962016622617629033124604802460394317213332586722722834109968943646598788691795073341451903336483617360262570018202961604301267507838327608900832948929022167178761787005424280450064054390468936627046280963846328466445074773131950737287557219039971342440816947099942347061245171837867858371758071928706081681043325957665999465259574089299242073524261790819202922765750071865286649781429088582983499929245421222843634302338078530601857053789407458351536432346962927743534012153590062972473596768304287451441256786128648339774427520336815091027732146918718287178274396507322678114343131139619390704853328597981823162767769054833455317506674281177081298929887566045743457890796954875590393324953245014341974542175559495355810474115827633468771541550794201476150818756200613286658504810804482271435238964032769323535586127211411722237697047854455337289298922920817944437550285741607813587997179641220685108049518685872639642852531338891404220577621674347078376168411239314316053079393907510479184791246195813312935317409389830524297101909340394262411181228571622565535765159480003739217161481973434966766030545846822015287169258387390163449229851219930225642004984801237218381473316939621417955076132648162308912578763104714501401947814818096738254204739965221786203463189082992511297022524356941923364936955903120418198600976135218421433384782748255533382974245668310848720530332027987317635483028471236092268783937566068947998714601969413352943896745174011507704855829012019995053171038702028065284961501394930548994348762006015717948432491803958377183991973293318893520929244200145730059449158347736962743898003038567334791469725887514401206378906175607358183883264205997978343640782947386984148079881025087194053889278798894349550826306497456181935485261023090459963287653120482678848823197307839682250729291595320193458974458633271753670421196188177868482787059820817635678436172404056224480315268608353898974372187552333480969240667480621944724764808977453756099525592869066041682573525136647080878190915920889109297890923518786001958866316048282856752795958008936696510938538982535997651535836681200133024934947804611185308635590174765412615640467970744956006440347047663674238854969113369815989793692086142233812418146162659572614073872821437951495775183828627353103596939129163495943660059927964967521565485521330716484521147493229414527375755395046433809546414184140281364123798848763794172459710496612149607731785535933779214109181921436198993547424797089829260901499058114138374292013550864371092519975255529194475761805963635108499356539236165503108591960438601300184934245133493667074917020682296253041738245198288403382324027388677501107047716154583518118317631539247028812560952103049883545298866061027718020830670675357008492665387279186674994331655095795184466649112412853615551962342213451235000044681715001014341800481562362760547281335772389635679991620324067179280891167548953722984185773161009439973837123501168936414186345022445920676912777720542573490186701036851233642126839660362511226887062946024742843888793704402707798526767850497021222962141753659700792290678613932595001525727706193440354616838396582735530857112699246282277324081101009970494534924542284010594851644213923637912182097630585697911586949464895196430703876123699438273495779816401141213799317860992111219857335673225171484705378693596490640792087081717238776818469080502860522944774724296127368382993587465593201596955075965763233932906268693245020330207619914090088313700213221778786845775371174817841854688307207977535163983499276867092846181186735921106685336705391056404607968491935531804131273606422560699433398637547242172569036860567705723719382657142893146584329042747850028167844774510614377370292547688546701488976969103854865376128317274016077707358827581697077263047233498615689108349148948412088623125353398924991168190700093740272669235762200722904052528924107563137412158203791455861485227796764086891222837911159549430990880140084590972640684842600681360675731489111307748938625711244247904396774736563110064729684464446352028424167367397034455984229683734952479727063836225873659061188093962016504225085795975423868965359858391507038817564584441452489874253493992739251055346326203490956487929768863089912628833459631971512760082864638232003969774735838360339739937397569175491359543950888700618098157396169695845357137256032831859228738726776890654813475866086178554308841334051196341164487399485764141672076010148350289577526338379382970272448763598114908433897962230762642436387993216796630898042030796456819261285388141420701630811546502650639306428723456936884130411687586089638068946052324716174034473560956168194975003319082702674965448509531556522538409660090656403956624716143191330381588769140183636783479358130563904635572679605638027148138053407348529857938576716582499464600855427749736333194379797277932596380372679978774464052151470571169259649261397149656277245450899204813573037154016534308188715486307871117628011495569861028564145870579492275093631790838986662596232526725930250560756015173910961141652516321333354887958294462925955937250665675243418097324465858017979214297544322208986227529451096326849495545789332837501438717521257485539749415233225476922428828653742679494843630993927283003594929410597850274045450089831327658506838623682104853881304960357043126548105818547260369385124834529610533604352358386867004508517064679819200733801656828346682945173232943021402970258228052130990261711757686656684812632896216112675814830434417077450384554906138188844955661525288356242829653258522618174580660300755331571129373030946292978666633484552211211548659856849195583352204163809530094498984091663204623946969003372897233374071422691771433836399680130099961975471568032179219948070259380884008002552724723397163068853414920548700524923535796784019722943076098280989576144830829453008253522952292298958433154011163137341125898628555970025181766796492903745304859568123696638798257656633616727113912404801584221661977543372683532921833322074876135759994440271531860189640140093722311789194564115042473231858363681211543132217349099813562787002912870378402747282644796301581752863948796072243656401411976163951269865314393757811956158620758387535528703187784967706774793623558686276598540627607162576620887414603938615390609087321615285265796779805656594397366452215372751289191742480657029553992204962055939486465934588370982442105146553874959925749567594043398959084790537557773678524248115976849820058537359776009579257184482600699683232747184896607356848435195054851831518429922982341533792667881925125123837331027978378622406183735884336500385218427750641542076141208011309542381229030451812863038137889485827475429057884774431247441591148708335859365961544884058102097056844727755575403327623234623807690691343117045121343174885150587275376085018076696887657977412129139659352217584250763579960876285277027272186717995485748300617169806239611370198034589582927570448231980099232596854648175900156396917207448553244471517771983028761502099366976968960388180909877567098728705626348216959584615859893947514651695306451738136239341830302026465901027499150811108925790485018992904590523779620319000199469266535909322877249586818834019315346322292625995532704570471942541464282369757414262406259667057391067456501389051830966757991443306544313185516017815313332079318501247466812021728110997187304870945899931980341600903419135477121602969724534370140708945415524424511914796115303757060391987983184016295102847834957293882034354916526950539455804792692401819130629572909954695316474046771225718045044336332031550953776360448043048385433346173100512344826603368571189866928684893821695900723085412591506165039668415086431031689052028406739980364807758239556990834667822927707239113658300647218491326983296652192898517282473927851248587264298142558908594937418968242960511794661302928149524155597936063392760017022059581193306998018602609587379263593265981879221472859452923207758749440137961981060104361206519154905342532435440767926979935595118636987060498135323784155120704937549765103577612817930490794767645460316206898186526346364096161582994844734865521974398898071201155100267541654633428274438514147517833520310416216980386074774786381804942207554442092386448391116434831779632023437281024369526446024980301985503634739825191869986493013096748809106857240281042769802552862643467438041048860509790742745007001615289545698511306687644672265900892238502841697767124586611666048300705949290661017797378306638489450572744745975559834109332152427283985529332283849845029385708925670554531850060646162505855346650607081497557730241895558298645662367882422008594742099514891986791264849852014541384337451799178850128621997294914151398008352342795316311359533554987711213694844819854704263532227590794927612588443145460024009918518008606795861315202685713885044696595455953518625100594787938131890736450660778540546009783026312013934851188912081495233525299701548667799310429228610778037602611970441474564414732648966356518489615742969367304330661335958558718734140679617394255680360934350837315080363934745817075438966954121039183139265615487129374577063114793788297695644013647008529825734757073130721454439427934987391654382779978472427590197344551282866739998995192897896028437147534874057492829127896759800831449130994738630590570216257517087202869326162068444295701835125474434140843900583293207701799991474647703440625492885603875400004982101996462382135036905259860626961744544955622037767389201367370602357671588985848586565227007637706167088287536580760225876680066454269601733613334190673784290101330159514224664666779474151813809348498299249984650969855684190055264237027654985510514297256688441554667835053347761309271187256104835581437987573286783520298320871268005046255881528385286508062350980613010538566590922311525331161854739006117381168544689072733174651974404010660050145923962700807159088796238942848601923554130821756404595471193237557239805254355444098807443491785599821572405267328930102175938172886366217671124755440446673796506003193666335519705284223719199155239055360572676031561050277853695345659110866239936993940988290171817126572811280266103619829822679057678007919825107456274546948043916848295990958561898261001736190528507952751157403473050814674170515264163509675671172643096248441784299814857760397752262431665535979118512261526747127142471058622947814431821741609028776496652518492560687746937449492866421139657345335064036128115414091519324359464018342290551582553695494208700690321231168210755391209593609628290373907649702610152789048871882178994521951406360822871760402448943543056657446308365353729466392081068502726340093179555846215232517177642986677962049936927627165143488149303359961522879413970633091118137690494217559561657617657101974387087089234026238553381713814854056276820188188203907712651918281391653298968688530776721106421216789994622493440832026353323375985428712441951365116039614149678964136177240010068479919137529317086855807510458695300420038192149573147774581115830517609422926804109013586532603860278999515718678830301375579424513246463093985715392389816706188956042357764351351978500640920329593994202304630497607940157632424232526547058734592204729927750620242831825612998664424980911265347201216346812817477492327044070298550844850189193100460752246980864294133412900452962259330183653274538437700734524279571038200266187473625035824067652263284291368026310195904792169327230041229145736824800939865307045480892873753033841704142465419724465786032557409833730276829194503509794361517170292399303328679114729174852836062172673038147529334420499559942330796450378927931659674374132741257326048010255459827679076314076728384073438585085480249653277727747625793864180474443791779225971869012103758270049026488849760855801924211470876864797528816427363028684231651022053118519453693869276130826636711833676481377805737955226788830649377676775040308107490770274282202494828345399483561730899008818241702807772290390880221980972403868574116241258533499096489797799376606014608963352896579397779063648496442854864008517427773120503359023255857652041066812336088152452793676343370647161960353405881790777761979386999354153632666906447168250660548410526170584851401596545061131431590569138570532938954522734237287471488689515003819383924875617014630899806254551164610073797547995827221248288034250352081528505385946096623055516865804361315593518110183508966974224637327516126296856292214310249505334186690670508994622064471382791919225641259349201899960232043693681534422740939810328492987141376886346648672776384032179871159691732026716095406410902439927349166302701596688028756607681016444835063226124725624696294112837528125826358905154716839726980989107882756809262858984795865588388101364812369991664472123892959151346639311587881093685102493089805439568182757883218778579178587636028305761667959624272631367972464913735678783255089031960087519221152776187437208888559930044793645265683336138312410619218611714382620520208587090124837987666048614506225469372728354247823207294593433149075324502034665444073345847766323922755835424875243893794547467509876196300760557470867211918000190670943851078560135549857142214195390519570043034675012080892895526340199417876482004646505608428556473674666924035287475850609125610980612547356279581977146571376345527610677761985733919900517048294838957102432942965981479171930970143685303710359681396642980049164512912114058585624759652703364541457204487197612284329694168752097408038301948578184141872754991375403397487466780740778160271057313278379943679088391965759175761647819439563212323627125450193623081495456299559566447311747235900157715857403225039197366765022761787080875193005554969651938872372587783612582786619654482331857190622364755579154272323035631498311574386648949816415564918413244167544507310763808807128902873782978886238399041404805661258765231980881341459223808180430190156506184633227469053030242707828801754003737925967148834281708447533090651565294563589559395920212797934963774665325505517423323077791472052946032331099451411077410540793720533738917880672107876756217575570106123793604114196629553933335145757447413136582108237847239241876376973058933165038436414502518506311331024634336530141051287925399488679898516158865732576390968325462607599979968928587569398106483080637923231101314784609002349579612178291199063202546723852794286799890281124067498563432881623538414627481766388245060005687347918691316849045784612009860105571783859236229922988969556663493209017097422868244001325660005617500870964324694774518280950362150701077411359296069569358691627013529540561464995987728914308090902689718096735808764863257871219716418625655158524303895451006739852055847230834472195419277578695390152809939492452120408110192367081719536658215300093055876065016109450777535546429962076982197494048575864073025594775122975050817032427494954629989710340258010233390728422743667435664703442028221452144448040457604146598720869162329812937174797953519557201954323753524795588156886239881200447087923471670826311727694380943823583443264747114688520544392125826826944501373786814048851245536383008442445228440389817726154988527902974674503379416042364579733950221643354128137631996613602373022681481035190649024297191946182618014651840497785166898329334470047844706786753401179304630211853816905422902217079033672214930062272754723105989468647604843784340807322341164860291364002496912765443818228620531580404137485188101460012105175157288301886762563207477555838513340609667757034383366028352892977092770110572698192098972779584854564791389128462413236667419728695440630823694208845653459406825147057710333259383800173721240786632162154212699379910342888006802797838551800729129384434880458041059233183711279772719516477562631444344262368136762994498824015805356213369583129962879034812822022631332157892715070459773346108913083710130411704058628983707136779457472690137703394073964233690932807316218958340003317770322790888034265144265010201705419192162699601267901320695794132960566453321102353731713756681161831343908018271255229618891011607272208688040607700458482547307455790931762834110136543257497089287489590507108239378405742896607423465200804639201766145425635242080715066867443391685117307597175239553020805794777929857114983906417731791277449218527675041529492467626329136077113199007779031808891677257946884493028361868033969515207777486521912357547161605219574554374123751294215805305975292296632108174502338225675446320130335505306013396078820638290528794959167307168740139435804599457955176913405593473705801088116609821983223667024581805433680915849086393083313802705968085825428061244721790021426966608616914174360546827914962812225399450824050466570136134962270644533000604769531035005736239813975424862385936777985319233126648551389583114583131680536671766273209430123737759108335506580418497185416036374475716803805547667833943330627950311642905022839877815888333999830562796845309499988873986369167418298855045995442733792012246591054972493244136784210230855564686350198377827276091464205811998692999403863773934399510612494930158475843709024714754387330841128715408311969089638906833682219694099901667401314354438342081980338103232665134020684792886478616329695428101090715931382949169210468045468476037970629475459144320868268548944306203472403517294155427578283482657751375773812339773995618887376890602113184592396013305576809991895143269382841658494866356861661456115824152829392847553223537939097005767778821664779302658417349083815364487245807133010405874876784349560962458512885450461299936716882964369940843635901255651444460367586582361448141709136134417093784160768145555062917505393549734510545958092521896429614195181875167133522150151484630776476047657469206023394082040801457414780837488858188252046079881213637235842936828131678502976204401685367633396578803408999518543576554549746916055575307530014866581591960190997267341278050071255025832110153948080292124807602815226539805580140171323571314589966335429437917443030119284304464867133487875541605107282661501756044203989414249720802090586171621009475739849250474602206517550730058168054619339023648386915187152015858522478685623502763291630797850323346947325879198368591143850629252142298025029723111278693924182553177420843634634393896865745539640556142837420404040544502050965373630324451116107499537989409024697299444121364062134139903369694046990796615105532713175199133350204632418955878955004723253947487903249004576701221281530630381551855963623469327774992696866431792050437359751654220571758931572372074015120947146770259783105729430495777216230858308404989665947664797739962112781999820748264558031101889581988057130431101336929014204166985692395780766928450360349395160853120953908541207741233262386159577180719890307236764404417550774275659438748042507707700108436943928916924107682377530872052790017147332207611435244723152706916168874707117457806154951323352748275747065345852987685152190524434431855781404324132538310645047043154342963406770038852465303064353002414682123265855046777617507590730625379127176023412697937375495870556982765381039979320767999285258189076866056217224299894820345391863610882541805718675561632043829313237948326342838920190907165654149222142758812990583506501702447254827652799814506997075976079925655356052065981024284447838269786340336333632394179565910588905222840912580306417397729591752919722450747382908412672635741083804623795646160041303142804174814389052398413607592122963808218315461502921425973403844576801422715182946519879504722169888786326137691890932640558865386095604622392619483132636019111688470805512744419917114298928972984222612179425018687957325375119493371831881493049414738401341365823682825036679580848962130918939595801409090782175273682068021846374944056120802225893114691094888145395390427942647907503827015113717278216445894298474811511314682952708105086076318738020975794318032144835147910987619471608620705083142675902082887957998002961508658214352549673473868547918642466076224967463964630985968693685983265307022854312025044918558762070429555640476800296514019177768343786699387080455806443790113793407306810334893935442845430797469223272072628586225221154435498745062008497144092030957785673081533813066397773925247584566949209521109160394998851926437703749591827739870953754474661414070458773285041184291741777650650452623683714885036564917541778083618463732421819115357273873883203003884970411994044664424628842622413308188399788369754134819528761041833267737085839541388108073138371375126401785624924021955033256567965239030827790158390654192991270165513219791341054054616205348084624194313848851499972161674598464758705552438666882012723694057405822525052015204724098145232170399601094917241244846862810267612636657363974227809853364323369955819496174125839813874074456339553385617246193774408982381821590645745276831168794731298837479819991696656478566221853559504254546956616722578172876684558003682082692679353021141315917811668125843420355566464804991458408713948422355177593259293024861589063821754434573371665402642191038922844107518763078294563485185243099404893915349004776963202017622700678461195274412172943584913212731380700394327301993687266224244228087111066401653003064837424101084650342912049858423517180070010341762405348046136411155736733444366077089806226515855036569041427089282320080129652558519560391336801904334210915832011122117515770729824562660932859970932709123604526251877561194965779511241383588495724627021125049980168963050618857944310960499927356688900893400433548393131906702840690543110616227997495187371058269300009835617528568442497876099643001144422476536997619268139546490135710220876750518094458326450704836279091724312507191364315753516635060645232216102551339956885296833785016560695150526911495656495064864958435014420735576162008145264210123784531714866026957799416861421391019482698130064876079964571627709015127134467540077369249553590302150165024428755243659444174627104014964847080826269738889423211257347490445979183083314640203795871952675087886246102394017908014536064855221194590439663334776175690303724420415234402435550681804361302491740232142647893678696230171328074753190523015934128519390337196728440273285406606753083524001292607675217454452097549125480565338856153641200098336634632063339453260020737371096602816424022931037041052896297639570338797189761886388478653500627266206411967287324087077034674602976492850121397167552065379301387595045119317186820671718820773352187092733918325202761022083011398081487956669652107035620541687655037107991977537656600420835246292772960007672669238350383547873117860860413170297512227826511534584819110141046056947689770623006588798352848230119787814637769733502893061518787729458524583333157603356232981511736427288123977999059612771420780561443662048925578240734233765835494384831295599100805422734729362938413683836665469718521970354128623287603756549349929806838393981001412157211014694318432784294069399698709642707683854665249734451911872159356094099124705636129009287927054039033852362955007925229657746958971858560406628547342966005172267819884875750011330122228963657846673366011389879929218839219261686059550532249201621077712672057899377636210016909799089414648879101493908990271952912844741570347008607449710593606816106205488413520271269441308712012284017752348749272470891538488731690039442215478542060227644635045752984494635595684670474065653271470298168043220773304157742294075592786596474925351564043196611792452514933671037972439474097226420387171359977293529863303209881985466241635335055510259303324764745378697100394648226455002167703744927070015856847565510280921745167100922578557095700227728088340011356351560168164558302069002678474964699048269649053181315267056990858565178725968728342530348520018040117706333351131831060930331087921820507646762090283286342536443472952955485103390981916019044826878538604550671841154359458793943010241604796362461108172514007659540493471234098814163283247123036936380091354267798476319761580069190787340359144820297881014445094688932104992674954256631238534756429125321027631780824306293166360338608323109397719404517520579389902330556439755965054597043494794572678186131133959919809291090398441035286492085787151152727038325278514715291855555897117437112109851061094699999743351107429919685493737895973488441931989972235391762328603355736141725808641247912157637577740746201053447807711039120925088987909154382369191568385218596309281396471437670492497971137629784708336797097487882461808459006115873588532868641088053699218787510783991028695331801445195671623719487362053320087348478847060361343819418340682190553470668152413699740671762457273187019070071153185249458881563918222910161419738987485271236625827832295475170544546587485137626920629068961741821454929312700104084522496916014778074466557346067294219370889925018100259538833105369080245393854182446311399503743897477981322317618108019973804224117671825107673855929086655885719230494044912964081523019772918257635017986039006906848958964254917497932108485138446361914865988423845075509891301328334926657393487733629072141375122535853474224647649357141336490744174652214496027138842842695495668230421338196419977315072356533384811830881879967886792210591838242915304703287033805984654170867532329114179144090792203528791874552687359274968627805662661553098672897581307876918562690359566197568460119074952534639281506212065080650551675543251242819336101718733173555215610852517357945930415684740711680163186345515900870302641433893236774662124791117098116284484075719881373238559192463008260352267238011111848142732475913654424250569444396556874156759713058550552162812930806583645522103471300177162671289903014763916803467324648992362106540842502045553581349940399902568888947184824775335862591051523973998351066286938016957137519984708351665366137063918442422732044353311712844083255382518099712356993644355342516871368519153138375246757682296227428913073215547846274381008704995937048263111139714492080596672938491832017130645857482616841524130767020653798038546439332103499015561633847756115418065487324010399109851892445977474419484860233351124105397260886614982761814073343553307063432439027755201356457884079803071471031324935807974794369740652510487360784904063741927382593098325699545402219989821726158495324052919853400504550926450527919483811720267426527100568349575212855375062250661636530987817728424091754484575259093741428788314944079076444379551532859401856089699558696728545262489269523521363099254223849538978132000613069192101060081232298920786375183231714387848193285659034043490807944718673637151858692364905628513019338285915525316151670141282750513748524164732090737909980070098467457989792248136125681305080443783026497616721293351249091363800611301955345613871365437127649387443106678091021634426459565916676546816991397518984401952926105873370899200767984684436649778111732355346891754696239122438149921625270844757156517853716073790821534770990350691479329870995341013233794200745027818077223787342777907508062010707016526563917132593238678819076275376457503564961250250669644880252305543901188391031927523248605478282281552867902992262451850912824822473378220499010438671628548966878886082811566864489486322319834149072829175887624791218801005785887633812321574988257347351673404770225343101413769937265038054434034184243663426704374287930259807928163914942879703883941046347733856386697206808259137372442448418308443403239654311250172507719326847958673953917647427035842577836706540415653496710325804345663631716237358621449698845499246684922847677177816849297145274435316021121115839792918277453743535030450323416989735265741758793293284822236381180251295056530903423479753338563130170638154741828771006703088071089783006143468090013460026926386560831403529760188969646803189862739574191782001837198221871776867267964167148758843514441772190181320088611801012967399566200302201571638566636758738788368223292679172617390809812788380882553977621941020189696755318506713956669880778625851907832576201944367239039933131094160927749850621926106807192512898980324441867294428332273469008735830973948483622356332984789324509091783077241363282610332383558484812369646099534223472532440403961750908603470482890624866309213371394376737312949901392344723340275062569067254239795527005966174697011918964436382412179474893874279286461423767539635830355349134006041201364681927826188865704662167816774199831571903890006587811070069657019511376660093613550068698646337760717407623769493220186032731752015563039857211308586500616139720916333079213029095614744848396667120676004540591022118052825766843309003833290390243013912124264474238996589292235649382158918211548743063957799392597900898279285320668727905724703728473740276527736476056103784237636328106544420859569720784801603370913239182328431446977676131917340667035031617246958303192964598291752038164494547808692255245381125286629112170722182874620579556039858695517652429474803278793919359036183785592056783684880033492291214895789606395799162227404955440699189717767790896973962215438997577819456045409269121993111622532811505537685462931766037059403943795150293312550035171466086447147361680092872329406556809334960719378784254723390225450436244015272497267045730919396943475237682849628933314524909210641354435671030963978749420301160772312514801844693038134552402052000049495011377445613506789248800356961654396904809591940356792859858915227049983585210722859549550230594309939447159580248606075383908616607225812254127930060896441110418559753114076313736520015694693587894281901402444767194882127645607056909364118857019896084821214908468083384136941265665077626916168910485588392887917892166507447717552353016835417270377036483803484520587475291321495201184750449339100257363957140440641363234480262974268224090688623027428334786331108485629569336626528374747059881796565381388316636416531540069261111808581377750663979266505918910227286884022279446679642827411513095256102890889642077641706486352100219957057182845470271547530134042051426283301575857755659284047697487315598324348502157552222017175406757925403796050495835317493816877586763854218243299498692213865010332834437250140369827417798401357920793963064442900074772596520915967249893675063437905743503727506152874645144473201054934595595720238926522699805015428100128022301776241602303779738608744429775821795922297073306114700287331727773030516939881295463649216243109454408711750348419846711608529146580394193010749503046093992881652975993275701914353271505335558523807157826878039291389992983140188429940840820601187848799435058899060030720261543570962371996805768509201900388040535051456374418193720168482970662792807012522381523980186137045057317777952757343196340478227793770185957517537042807778610523172203442660242596878304636832190163637982958227798978962281999264493893838531624697474792218627553903970422310935363065701992869716136900767423173038079655317307860560604853680160505796621319364833435602932797971121904747158835210335906323919331542850158208949514857880728928335257321587050877319683681094394059088850304380726399123867023492228899886250445961084998202880711613140251943322804798782292255966404835260631368957356311625869855795986420786452434905670157234387376051482398897361286208121492789861953376301681223064252476008522710673231001810274582407432813387953575477832500883097705816791457325140950140966928616212838216586006793415096699278669211959910165021172002354841665432829588591510132904980890380832779983979798290640007195051783375630058334656511246623204603790919014683411929853979187830519057745248148251216147815675319768335395293435294104875659261503792769560309065627419782753866310184204919360389595793749927036128980634343267173818480087350148789779648980298472680778163229983543606057793473998593430189595207466182061129874680878352665905005719378007904623496675187396678871911689055402462587008937531214070974410692211420165428265544072109458627467849544073336395715770334288976975191931127599981597886215700661393943311232649947644507964106559939911188289201272813050244893886303927166859583100611467443079194257278870943822519352611004763200082504618572885347580782701693019777951899482658409939947006409357952924487592329259619860184957339141373046169953949380635573446238810275004816571311781184754187150909916446185201535262721057475592915830665240069273373852673875433686962791111187199191715632331512243298722792435500636860181183519031862214959132484498697996007367941251965289046855961751152859315598850419388645261523288148456420175492273395618474605929507605102588572073561679753011998895590788774703434282723785204223271348404051882943852985245613027221257405828186344798739034990517842471924916376491966357789743902825628535519511844280796926243123153595532405540747064323114721695750165723422515249410262499014600974728672616391711993372054972777485093444530325019359473222458449873456924242670967388380027047462495409883847984659427163971655354653714910480166578695252752391345823345438631257667305945822265391420098525008582359894857553659257995173697885788985044653084317945887817874603526425873542375481788576866934775090952205550173415776368334420997639312836176926568648394912694821791807883059917785463024511494619171614514222896542580174731497207847908643098785773544412186639950848439864522961474251927434550506072308814526348957989627307836384727352716107395672477675774954185684913236746286534488712047864505137384922242862526367772039683265695091524825286822458012741625991794662098011312270102881157334900327336282750650876313473156582755183364690999620083370230073131261909163884435745338031375639529520070092009561410672933588246805358246622673686061326883121749771337063544201571989332241778485488029073726889816615636784329501422077872434680012158104770812828975518681916397287739368938983601267848699633751528013497288732017108252554415174578923678979014367437578363632500296343006462071492917731942536984595394495489213246360739756401719732560780285494380441850955284876484863676118458924764820901451064418250197291823888304555278642651444050330331701176451243151198616416513755705218394420226269552659330545925487767156491003500712447737267781305631042793746526831464569726771343791776666734098055420687604147125982916535051624802453990713256912309412513557759373566769125614945194460795220559828643961528725462639867780916874492996797967314305520822632227047610677713267434015249856655377486908493840186909354609062363874905893362246272247916285532063229958727953499813850679428532441114610145442194641908927320875557984958650939332398270427338780856725022787885778348752153583561350246177507049319452172673274233697540080257904677457234950437188989162242930739101061578760959807259612711983033987017658247421447113581450631467640065198699875007611296816048510726858162733703017356496441833637124622345927183752714503559055260147629163512008669394140740380686002007899931635404588853128953204931471956475608478760279154851532931320153987386065740578254970512599922592634458040386424033184325680452543040503653448146257056088577821284576063150637769512106516569028518504952694897126427518827726739350685466407352097844198317439514230513705412804145867442470244177421077147297497671049342076554073628018837265162121945808540262270765777267695430394187048287330741665104096544309972226565285505157750982751926549896797374467177847240883746575727845576995100025949057376275223880853798112305843644989698347276875085872637039787439975659214492726127167093370561453719427661068621166244737407312115795645284017275326300499770040651885935659158403272316490375753887050059391995929485672662705244198475692826495107857124170583280635037216606324221153483123330371330413742324280106480231604532976485701012721606242585856111366358647100720379387464100798399119558798776094212295704035453713060685583539386417994954224092070630158050959113794753665743213709282849498491898815302689336923932600887769555374562016998614533565772412898208941011518401705745894751857872334882861200255207131260319782107261910945220160057441497612279682455236065145900779474656650414668923328542634675026952975582644083328058044396701274936375826207753396288291214453665668633957020578418328396567446463837007387923060497404946604673453030099898181145324840476840293488953920039662922285642978560727101150587957812528089245659228633529072254937851468165321216230549439352721103738801260116303362981192081669084652531457707943170619661324138388337494921179101765443207151680011026488101949742624419152555633564440692152335204218682392460358186393012211938466229318476292198540521472500448337968232995787662180890284530154969742219250242558240564664337884113460467607870136929053973560300551466591794167754985214080080843915610026389183967639137983489882793193385639260287382424902867238051898214491305199691547132763628170366626240749749618112534927176563976958358811493995532314227795136486525689409226608878496459082932488112309924902049139960062074392139381015977107842693949193749283083102250243480216866712979935614966473990789772116972706249744434853767421007871181640756882162989460572991365834311288493442936110425576832696065592731256837114760619764607709468225851710407369187496177638242557238645310043238605023017404296445805425497898708898199280169210438851471161851169998603124697375214553823615441733276157201710002522873873266293875440884113628003659945777100893336782825713022360029944271880519639619658988988290630080873886416526391226753387407365877329385465971813430089318492024178513119871727785789991666508841047915467884964982913941378640847529200548499025296261445057313888656225825602763919962101915684165520644810667643510153595466087722967347999596198294898433551501215700384269442034518707876181878704683713602825805170143792623516264334781053432176154205826683697672832290082489220017170580099806463139601438696081385330363973492915167555119639875661223154583888654357392156019425760277051912456566481415567175239302068125989824061819575488797336155655145126103809338843242339244618611987933810685275502609027322259124813736418409591596565813066272142040849448129631366468757477623994632950878938962828015753280932267904997209774872772324720839632933686333212302427355824430271670121218374067752952383492229173670139145135507768034322184892613258046823410120645609747470273348240833412098118701798435902584052021612438935399137317776210540862459618579238953933510839042770447875651242013272529170900766311960478131747587973293572797840229792427079019940275078489387525884059980434352764993914903385021283290976343201952327645032953526377040724220777390699917866561823944774707036269373269876844765577288590772030957357265345034699378003016463456785370176673290157018089018344599714589519635590738880575135540777757781542991580006071232065106140601354537017267311309448613111630809049002682269653256991310537869723441815124171722863246820696594764649660044746029607992555965025897307040616263461627791166598095889632810520468744327591875409959321755736840395364657548044812287385997677457538932250621319634766657066385778939366826055809275625117825880125122072823983550844914919078012174364744143247261298075774348936215250216936096485204781898320723911054005406119821674616494787065999137962431747928143689862180229152478471877491614904969440831602770670114109818503358079717962570190396385190964596145687635161205068756534539537559889878179818888489814026962936074325463554807389444064632269891192458877441695801994239771668091421495081888784319154559015274543540414369142574554821469844336206561778474718505549332683551103476443390362869798830830372607830410037241851232871297996326134565715048217518613147074780303474602362603234804881209782777707040015829435612999626814796535240940036816704486117232133402308056488932779362595370862241063796383430330370494404230469924190738328372106651476564522959654614849526515607858663197665790171363592648494385880040948513369068256344485612594588476794363798064207172385651800698696134982412164645439679331646202657991730978552318863016467110696454727826796687058317028019001804251878353772910922036957512944851474316549964426022440988024287899883115145758107582099793268491090000204557592018848841240578195678357346158642484887876367614998245730908134552086926164024288913752211396128886156032995723322806735751631871889598823237488455420356298825784314793105279300456418314791160608032260338527845420336871635223925243262430550334439999339570113682174191821092712690879938514893396594271659233375150686238773081845381041820276046790762507046479565370453177773463616114546630184725660366033738749253793051289292729357564115769842140990280309518648798867959666201203444940675135794371877920948879607114688060187241024876253383458909603135403483694831954612393781907150141885191068394731159699838361742282266722443036289351608491813229211468604403913409923453407337107284682977666409852181984508547318284479093080709456275271394704544669914451068108415353466027760240138925771248343378676319968735322995104873379623778607107412511527575190765631795040715778186841529454321774383140628767733579089695805903865473180844723670608112679439684643272493528900957449707007243575392268192419107787651754929871466266325022988115387702600318438457384398505681596421638513541656965236826926098722684656639497160460659192093493909596226339304683140194288735468396763556482656351005603293699496179400619051364301210056500743252470830139261575010637446688718110679177627506340148914552096077017830064444516864222777237803891376830765070944618175162760403393211993731664829241315719569971703741597312340779909763875307219768186435940622649187857306721206349146388177488751901327873669465813121987920320232629167459578135380053519420370316469661507841964792346991285637506276105051400521682048236417639621107995512547730724908934178352679732333077729722329093400817277072371587003304988546293284886962214239992085077731563081861227700679808187814764927938436231502034430542630663503677192497168409900398950898210426717073538150988650984095239750759166696983981576321488166212542303710048260144362669708327694803430194702648347755035876350423797010780404487705612394649627493618184175262759290667429600115959403894707592602170026972018014222210767306931415089977711463561476221919875504187415577032071748064596953442207580867663469010227935218730938760175316948081489837539464370086001496290870863398497657999818949394430239194507995154508060861775725288928379074016842687831626492266128250663539736634163662511435637775678614439334449384788961074924008338531753065278144916531990999717584260369937627515894502583657506528387570651858630542745477982403962380893600346254138508085125849701841377448791708175535145841968907010881197355365507196810370778474401943819970245553075452094957948707585297611202351973445702060982279644886005723042172142503881076395109569639111267947256967288801460535509323298885018906443803077022804786630647309005496628026990853016387579456073076132007254537645577671630741001284047319148059482090808544226959493290171913780926790783132041545524272832568827443577430704544962693046374737495703713890982964649857046008974971983786208270404379433317478737036006309218463141269278926638028421783184053067607361062637788708891044615873322378282829021500851702141698739489658045493772339008717639011582093279522764964919414263132758727372003982313713704309961435588875261224284084644544786917697252284709453063408087616347106964441020360288778652545689734841055965464930152057854132218788924887252350490535149723240354773227571250277603999419766223435188324234651362220801376029479446409890566670702799571212264873168567266566296020373552874094939578265506147058711453736953035646142668746217349817030756005079093164935628042247297762462185591362696939745938709403329219239636293848083174318658632837283416824736216974206154310646914134293049014705156286921719204410678894585615591310960283009647284531287236100962594511861583853452920163831748786494659705725990571328790904643726736090055320281900201215436488717749693295007265680083578160539878481309142080618266573645427042322410119609924659763853990457330363178263318719713792597863514020454829184118447950899088504126086680287683575555235618438374073292414413367443862097179568692501893463673180598870975906423225569602125744155553938056196619620270155813387195623650176224101091685557518172340873805184441254892919455144712720977276098731051585474224950907420121736164541359888998339021428789923591499548256428603760741211058989289604687706894077127122027610107968445628585339366775213916625767554886845425920888057504401160054893001761332352044856914096160663818643436929710429626787685700980033271398534643273748283479343168549252950936705657406469197569596371802986616538569498770822195216601479414207859276107980279529392294319883789055848935177452911943212521322647944993012572965033189329984580080547079667037587514276831988129730821875518981220725536302749783244323728989279085981164953894450392997494814863372355965568109367704507119679437287493590260052661872873556822772681939511366411090892787315048027796206857999294643504206465089442618636236862569283216944349111588332705280118393555931223698209974621215771193857228041291800096738719203574766928092194275297541742846746525359169187479665875090550545116476092077183027046012485665480388440633102627245565335384463912410047428811222691267372655400670623951020772535061954330371095780533464872667423281404310812045579771577535541464115907074392775551050575878571916650042918042661014700988226194345094333495019039154309983385567456596465423930196149343764626578760971357695089491717543110023161100497238147076339308065337678028267442352095479274214769279738436504550587168390604381655155368643415390220732648184553606754120305388142528783735700636210263609517451973003778001089314476871209852127298349373582845479030786069254434552915235582112313521185298827876198056858070835881721260734031323131634175874782680472482182526430396391340800733042647655243487226533122829574566430925545155083381899192445999228648987631381536762844931935840332456204791088990235306930744086518636593707492009283538999879988688370549793546364256737199836247790337856934119896108488985998498733539750364020373448629468147954137905921872852920664792303237567996262692359854418925554907928131789736008516293823136072736756541095684489722196918131894833363177556871243288032481785216864420884159863611073000060934596229822788832148657090369094438342581295917602348070183963623791070112074725824546290355774490874540161147851824188961039049755012597598088172507673364170425148479204394538516163843711246398175691195978478068430764465570321568351060028040064444982748603033746665889860316032669850941518577678148022937020281133676399156556803460902436048462494321010128842325423302343804457958358358569763786183665361447109814195857373593162011417144426843261378080554705340123007385226724067877139319310529578566141888442714986385518578605142105215441171909633082493014640586233315822644559141464952155171988422922326603271453286910894777360625096281939550913766397166096221791924826813118859714850557734479978724814007143636018869834666440595768277847405738467666026104946916369676733253732264622263948484757837781617838635736076372426579353830160136917245200189304575958764667655889016855401511935401046473144929372846485021737600081223392508939845669825311039134219015692606617596529058133078985060469635962540144395943749655296849544812908429264109533194541740451326165072908163641042910743649772087778427359067248427673286987178767055072033886424766755535717661865898322298990488337698619711472333600881883998028723503971916487008776927848316321670118036334624981869856543931116740971169688580762175621872767934527053283708569914141767717419814333733008191163836074556252103065704201592036705721721291012491171668595954443709600958627700963137727826206500253648865715335272766169891352664431314829405332135265666457618994155667136673890383808274976915835369798362152415505779840577784616634939771442310144308329765889189075207917351080134327165979035079843750498577239127490815511431995050716616249250209941442499844253645476216615017201521834564805975866640851262831912833782562758547328843558888775084556189040887949381268566426071905471813309848668240725837575968024834350658775249405329285939369686298916848362773094268368280025530327434231531978221524521539943829757083089767533399892540013727869974721146312018849642889100615146121628165914338141347385203550068880325126463603046522070079539890774289846567135772525154983617625815649847592751595762325390043552183885932254492421185857713934017000624402398981584484613916299296683343407745185443497171970669344784481304780626885777140069877603222597352051065349470800040089824442539537653318196242210276219155861609183645027246242209100581457459750085431853689797413288743106911214688420899409257310484562954769976174291309792398620141638642012300571953931497273751118886464726811344178432826250888502696191197650820716122340846196531042384554156272746786545472592703098009705233057052942158298305515585468051513167855020292340331478941831840216984798540980051410068927954169805479299052690895630903286195042612752792082810916552265472640924145571408313112702002290627680641736479884059911765871050579074293394934740171961155657411837738355319141021304010759377343679212465812669505256662103346782512104941490820037333309747571578965077507454457089747973654748285714349318721260800742045706484144713421047174939321312822393612162365429989278954432171175272504073366281757655977243833363533616022688216726964749043571339696694260893685505653395400748926608308456737416963350450867792297061225432311970944332412210902457889228257662698254083941204985843142797191659494625103061493990221900867182571170550034492157626209591247606904023243345656710619527436114829190955958867577461540816099822134262072882650108375222002373517477154783986808419703649340100522774676926118404255156697961944403913694948360580258111514060759315632264212422273097874572681125571261854371246777774520530807590567217611736392514104844621854263686345312025100774638907310947519459459066551604231067651300685624514095818354577287522518414901794890156107928943995933173948895363316417019468764165991835071915152887090092256058252418165996127691404969102308305792748660765290996422339737211698045258381667327345695529862543940642547976779292074663249861722803141680883902368483602103235815362399334596175098289732428095270646024675702378835653102199566852701028924076796316049851410815211346460368125244808552686056355706327726263644302996938527884606906435390820282129211093990070934440354979785262331178288240418543683265214777519590185258706380906838371163657702395946102090650230040273217921423526813630552893317318232568401663556325043955841593236209721253139938751935953932957258961450281114116405107684959454340037272874744947881819274398505290663314662609503899733260906364129832489650611163667279818085861404351728608409420891501581777238060862537223626925877494186337290670530250705822415316934080016457386919033963066400282218470218615534513374580285557176977016324769243370131989816104036283932176626642407022162869835333497448443475944567531367109931176724118906483810581673090535082204424610608917210260958104423888739471317314671444366897478256620362544422621918903867052678424072308023875539385834121057374632447923629736991515675763563317211537345129904356750348953524937568232509904079731990307401681954047014091180522417512454563467939430638495764450738600370940467381373638688688010416937448578305279781202998726538517534152553726011861898813641020596217352606772594454868565277781141515656446845549244771472675198560015895848016406493277586709497504149963537619043674153203907636887214000745037970999166521860068213173707344813285995700123881791523161672178465846955307370381898006655755832222953925085500495812456785654808888524943308376632068186110341594735749157747035386674200511173649417512163996173413428263764160987459060001422265536492756673829007434237311601781768673054594302354608118113359098395448996036634728233114991937385118173734336394071006095444859274318362907525654186970455183162812815085959458390162257740229758857059472785775301452726411643074541617384361893636007297364511172917731782118652801179387044708423830656581447026123136022481982479182902314030922129775914751365299894758963160809750113197857867708702969420828383745963902443193352413136545389044851816594120405189382648794683804673134151193698351331009466294270663009155642134590811651862983324294350843963576398128391735163951228713700486944269126423836604948624352638816771233549980826688891108198164574572964392550539543974358806872716418504252469118898432367249617687425732932475195577093871111002133455223255835514152283362878272866612622268508821321092447472978581127726739847611172473057027612993505314551912215085339812424048910409057151593325325127786987693811509033411484725159019278297162640361245635071034523854051485480453734881014502274733616700861516076700872400290747157841980900130165098461145856648980901067528319969728272816795489584972107493237123206922329813709494275903053622383440854950692263890109453517471155468594958978117980711263277606252206076705286453939122833786595405270487893030782595319176944957935012285975316239841361659561168189516427357158361156072598011424434919925094916341876201394386855090380069881990261402671385206864530487446131121065286378854737708064435275063718571381173392843099904694997638050019935628500314021057275833007322720161525428921830761572306153215106268811660057690304613470889634224080358372154707968736449206806533834846972499534468030508415717703691982376627259761704690203776102744901860585574542647077543779459543625663010287882392900716706898490152949401827339270391315201280771173532074699242636664760797370493461998768203424989488758802003881949070136083888732538211157881305175202373900520432458214876310207211582626279809758105772503047270991413580263233745572111315545985975430522262009049284336011164058735137584387922711709843500895205197218334623946922065493789261322714460830450797944877959195440454862535105517730188222925205582901286792354503535685736919444471138126474493663975741187396132420338956778601531989209214118471986537705084102446114231220013553249906184783981295285695518300227833068013709382040208422917229117300641508387366560217391233448575752912280901898622834134639972214281338798663523036039225643231771383234256476303049191855780363097477183974548792864818578877699187034931527882547762123971254803252736651651973671396292996802120040700113254627092525786698879398622230095474373971541321663372043343028514681122279731091654263535700482986949371097256973875287522018422503972740664390169826125271611557160064627625397136164308608070979889890271009874637680300721996254817789388799630155452270575234751653800207885227175564453434958490659047758386667635051863225488038268441734421406637368040507889509456495603249826965237136195327751514175388065997482286137056876680943516362811996615018093172231778646515597605227698907429796276443113650363389889706428437564928586588843720538263216083474680655001510053392275757666278282103610820841499386944567700999915344045118172701936278240832663565151248219019893329244571935195429133968916942986307956308683650691655513815980545087643118531333363656150471206123065781328296531254959613055683035218257821625182578756143249698188292817209379389650162018491971087418077025166784964638938863731072043567551461693396428273782434996041589240372787338967803457917371892448038098988313488982281455595256317426800904637771300322314978550029887395210138287539044366646056629451935546974940190109334197200589099987695947902784885295196742529816940959070049907300684697802001639628908065763897608870046417088750544827071260266194879483426539438759688721436908099155242912395993238511870229822196565595555366702991027973074536160240901620036870543234590645573239938785644949501402255741892997055606450771180766760240900335968666113374657634361509683904502677344586247663071253622114663102180375094362901028504114655715801703333956298635725809536946751974271343620430120979801614246020131261343223655521073564652913025234433495863288352159419373397757979270036203375913909166891657372639718088398583338440191302517965366676859883269717448690786327559556792056335348937047881462177189299429136395469467598590909403662753368584136347994347228016585695931336713444547638336904083291233535228575320721278877858019794387640203363218447435529324345159185491446732057076574857880009332990866381948531818189513611446610543349389437596602504028876254329529759727703397132725183072672245291330515046061846107899102192284210226334222928283136682131930824023397421600690921605033545635154494915527139205969499396804353410179050222967800459035123738630051333949979113352561329784503590635440195868385885517825853896984079405566649599417075650926208393882979478278679108991945290997592793269378386370178474639461182861546099425634631633316029082285850356279178880955214403904855396252317911116257022886232842642668747098739833747391916578722621860674153991630492366245264868073058328967956777583558444733956592075338874178730746325669801603856041786548729935130755617058714556636074867669707632856419894875688793716768363617677423787989872908339237773331436608131931468893315979724907468099103410527704656756400571531963670835224262843477423426279377773718446453119011164237355289504437411461003606477585248426615856769550403749583112592906419590274156109973361444049236809109263845435773619362939663639481056888199367751773144040700781754597701593372535106661743703930976348708818091322833098253777494306976984167082167354534961534811147731519591018513768046316203263759110426176619877820667467803122098272010931429219040506437996401303216307700895950853981413074117668103827248785129829489207405659009052494866897244198733876641855842450329702192317435212542727534644962380999342145405278260859762259685472421895385960348503238272683630266324702526558941224464844876635956442882433900518124479795341272738736267459156690635341655208869069465952194801562523993651827903376355458144844149925258262698394604860806207333855098004055285772218892159781641562018023422446017441059092558055665194422529416368499725234577520429922841340109840159593672514325565488196788717615003683880304118195567301173105781827125495762473602744330285479684478815546276248376105572660959343371811202841309104421589188519667107456241212555840157189151097454860625420991400995148186880766142837364611580781876366578045214444516718786430924657564044053339841423257923361726042891033230615465014485659597133145689150027803012163288255473992039317084964133431585560840935030025763220049817101157307234050554846879086809598388798618029455612594018174503325530867820388525440280225610812643965056627763843480280769761596519187386629363088685152529318118086848395827855626600573191371031345747806709163558680475326354925513669669050833764218889262296399892886906270429298308807203558083440092770979247859529993250474608337765991758937864687187892071682122896823883296461921968579852515944430583770546543883448748731459153005852012148173414928216442563495663727188998799863327327214910270046246901262625404368025825852858517381475169193101991579516456402429453474204987879984160845337745610573269285835644903094188622675577594181520142590923949024539889897812705805770368794935077707270107257172463740788176948877427739230941767901645018656750218217594215922405988964124115596496457462817974432201438525016175594911792131083299312231099063148774383843499160627977155886326725536434058152216265065714488937740689798192274710321720045466908753403527715890455760228729659665411419689073604055015084784069020779631837195186882716195522855777302180685487451135405628697119906991496435966778952629537358892517673449494035015198134955131895854089914603577632883837571299492099854318110493382200396868591107238736261071568799400066493968077230940618665158376900513259379159972131415947956761766887997406566886749107202642193093814969981926276243696098617911518048405790179107700940432712414205522640807376752619399680146997882989090504284932242168406135147873037928072131347097180002215807623756722544333689805710401565661712087666621834268543067037913590023984334050692578956224097589028503180054961540275854082479230647407118862302402905185111216866067319037291544681404834978126457655123658691541649667344931523242667830336298768068466881796681452483503671735381904057413876323230324139977390806675491925236218235416904035644194279197227477560413893811282087396581009694914125109874580990013385432488908533340127704605354575276306417095665675494993567869983330398241229966499986330166874955291174990301944855882809326431077790169815098709263943971306083232221092682559790815202035832551474414018582189478979197825922674390164831051109986154768020477946360894922293293117676825543010882970884120260100449485111552294560808549537093697255106057395331785528409201825604785381376512623301778866581902108310340921508430905239983401615217745657390369205476547092715452348745382847303418824623833477566319784495963406263542643967052921207024687864003526968177103507468532736357457794176552964253737558460842938163805352363647970243296835412207306086584094352509934348939077010201207064287715110176818103456982803007385461689208567705803537275979082746988308860110866950608456245480840703273341572490556991624728359086990968633802158815942486990271932273469765906737583793585987961719967220724377329023670677755264323714415635516419237753721156268582689624835046295778036097730939207470232374459242198386270390040257645420990684947745800353453154996098369765050852085215233185684915462693247875467748726926353548279167959471881258099162773352926095996427094515482491889361580785052441942909511428134483249902446216487937489857878657294125282036236076161118486382609035565185669795673113051194129017625386462213049981463921993013572827295516584091999415113460072716650982748527465309654324688343215925564349954167543850906606055332968275584680735459487560550835228962544274958550887801922806751019039547526113927248983953638673198519196894792054482331564421027736215282546909044185307601574586883922948870152672944071239252477254394131157373739082693597557343067657666999400779020118409825086483625017166455089082109725236537572777952753098802665905815640876339566916890655577971972696242158030422902236317475175557213436113658180944126685193496465839083482700720701610856402249554367092198092566392777960058784234121732889568984305938841722704024792893010691967403922070115866408653685238274555892256464114094065526087238139499688466890263843196837239072282462212545429938549302924447131705064787226872608718851644414875235519330714284208226332007567425017294915401222038919232384829546013953179112413245583662561440836908017733377475386459009727139089917583052331547406728806445598768210830787771163410284322152945613840119597041324853939783299087514163363089583596429574350963222725952148027546956076244620457001710150556144291735244358616323035186602478149600212994675273564100155066707920981124105852623286030239686210060277678209245869096229286361385702943784254117792069394108402989891317720068205574825945579004241245027952352834781007631933701542031727517042226551743028506683224261262074947749639542816311958211534513833917250781910160015120126296577676021525024365368383270480507164812951477876619275704778002567175391963460420254174428502465650502465460182326686971515484978156453730243462346524420615941555214742600025850003488730161686367358491942563371956239647022457753483735386757966429898988791643247878360881533456562066209491566075612100115986427012898282779401441206410998685641863343963046368162628679180461550808825195579746133864640822807109075549295035405216112514973982071185135364533290544369003533402596977281849479461819329333868817554615505524270606572485230199396101357411217628641246604334766292248357030452146694620464316403572462756729609980296287258936978523883417206855919198563192250961956992067148643910893636319836022483534287376272677838676698838950839084149721640356421340636180617435703097902201056602045032419208149266790907996934047707121785806504269577421635062403360346484278248534800524114709680399840929378731385042516682513695301041263137565980508604548157829372698418641826685880623829634367619375737644446242382123231151217827981692345307202856119942953029585535456676638613201002136060623887784116291875450227519683689647945943483425663964498659360605807845962624697900729540880827531269960844802660590734975952547719036372830407817288912733679790540190677963004873166679930440727594585931220121334817444258273752384450822897694096914912021995638408102181125545425849048247507698503904573787065179929842680230492663365221104652262346085692956636802875296710966272730775759654885128115207988914639801747927826821283271807021533834916246613495576385054956358442011965342562021124737646216443836320724537746592302289927587119610296986314102984867078800190289556210392006264689346893741203501537160514992082068104398931897854385274121279285867961624386568325220091600062060320144904670281669937690192939346110548798135585352277812793281150315865516516331154689942318646413824939170744737443438472839173580118569944087186892847539555445105197867684270942503665693002872078345703609901277837323012309920689279179613515560423936604023096901642549604153212609810038283521353124161132166505577187906437476873351816614248816669360221031183150793011486131975880789279357004875793721633661721416170823269602205953047279233454600246961732283476737936611091949816893800969261526643077033674633394115755196928409202993929497368308586221579546790858171760076401291942443954608446706703103782242375169878874700415731132390085171527643909060664434136889005339119801467524279397846277656427324398854498237015581574914709553793486385832687257363366971218643193461993454890212928196645188519852982286340321341009829318892235678204548638768678369184753336486520373064457952859716208152170058473471183757988148432568685731613386180990895365881076620314261076299700161763314950403662511438159348231593866295281707494405468622631994040383810927389869366286621253791758005555245939611074366534348681464139227071707268676902351956333307979432938691830750917362474011445933620393156228791715646751290629634230432820780253237355115627162833466091216415675128217305248957631546411768088023493698293700032190198112775822643167307183970777855211288869953872582017102474905016372596139477423936264219490230259902554883343743816185633457723838841887451539547033117406642154621713254604393307087002649604906090651317357554166433665850933093406746039780258168612168458923002561197220728310690084900827439546781977949032606365332069760983501842032684084764170970366764646227190259710149225840142608943994158292768099426512490169672249860426913426473058373415792363423117566245914759238124324852739895296123020824936917326920620956334707707569786322114648795534747169305423159953149751739543948652655014438296594033022368895242846104509508564446124309123630058192311157518700801363611530249275966173842095406291301162343549464194761217143050922885697402742400942465328248978467064137802245936925241099418643883316001330173531546052027846836361383689389368535917287864869071215887202623672332453441340846902133228390383978296327357316721416575998335031941381648129772807405814143147249754806889714387124250992793296762293256521452176200560656175362781415978280705114828024123443455800985461801302006035707988699768169897282454961679592415102743604477760481276248566974180020205976064755636172342789020681132423400071893509511512364560588652250190665142436949423265723835601723465007695928225770526500950299302242018372979475984847469854889885342762472224301409775007624997904741465948490693855008661412433528212016631928414336376090907864442414620917377267542842082471520559007753184016426627874185327043857929013239880951675671449152180509296381635499222040697386997357571292777743831582353574532750427865270290109877465954900486112713565951499335652870691007426174956854611586370882434119200462808832393754367882027475278393050489212002792319711410363378096784899928150883138859972483813076844019639388477946677551698053667799494617924388818517110441252150357988042744979110868031292864495226760551793027991725472638036899159974456214820448937508797964576719674001899368758685700168447203130966090426574219390725345849734838994232645425264585723223286335621623668316671324648914435209186673579560348009414610716555099539966681824587270742592039221515788474829662232155789442326801622786411275245919215040538480987729108697409407042470315804075837019780940216814732922873702837808960900105455376682545171241137220010202400564938686674879887783881896629310627498994846481689885837611731538996608595694375176420795586613860178864508793252742961505322986422533731002532385930101248769462683329024819639379468809737302522685997624433916168479101149779520721357618967151479513799073721257738007481594937490184776273195203390650089800444904860950654063536923554281277273438650903455030645832008597622908385688903359362688452615901850813780368410833597394515437449612365649495871281158001042839664787452060632999379876857966897555731433198745398985752929754256265193929965694711181008253753784504850559737967766435195482985293375212260164982081460626049741667700893177809838523790653387991295876263385723696632052232355285743747179776615317107823495442797610505074665907286145027784861906194645863760923957524016186579177819826916300244032054949387300339376578472126296246589344402590534492309735980700943816816916646013363038630854106787462798646045781398329394662250706837617621207307170112518531707364880349823374827729526168826216800547816894613134208140820263456077212930722556868485325403901983475626007992159368392805062110473350597084635140606750330945424999472343967148734719098931738223378847191058225396888712728016901963865551349083809477506321779168450821144431882057733987716197085139364232939887499569567873709097025670116190607101589053341395762758542394085312087033406557234066506398466986260245879452652949248611925696167639700698455424146156225663716413890463954521027187104510506965621627399395354357175772987976586616668980305352721683386075119472571138493387246707193517113876607898281662382217179995175846675602657639691698498701312504234933995642540076304457043624352030622095228969821550150883741794764157296134294762503348606231242399849913049959508299488364072886770423445595723077919335395878545833375022101599433123388790108946058257746563569589646932306068336843800217306286978003389211939047193963506106290667334940244237849586887214941667333665024295771792659956596249423392621499868318692237635768415406457578164794427566784498176173606408271346016194415606319306569289383416636656528598535163309905447896188510598638484921075169691041396669527153407329454723126219685730754875839687550177502122628955807908384765577980067782285346251199895156430592143399658801790758097247335248013354442854549374728066587719613055109352277764697809646709703623711984337397349511081046191203653155617751629876308249461791359316716085716591087785790979043125124673198948590591852555832577042817281009688907784930975801748996765626144396853054810924082839534992563270739976122505785963402932654458945984014131110692745946948483547603438998663740362020724039818428272839750282602969111315683135672429433597498775498297392146534864876276457603343436267350267593603341361127160737948709781233671744966344403706564048521776505133882064192303476137518710375429752078088242014853834328824492074124107012598548131807970418654056560579570906720537835718964768239999240052125530392515733483573771396862532227354584767260319824470921248110234373867899126616140798218870809464880586376874653659451978203981575992920167165430311727041587766586495541629290628295892532952973135516402266486466276654300707180624757090679575002775854689421884707645549023198792756729513896371849654895064871907519084731229103194160406983659762538437232612351897266734803885024020040784608148893264265849258098030820395536563042638420852357920568418023322711436753423775992576044049770226754582267488572984549409052272462151200298912109140633036449684042524805190176430585167010331749714025821391461452731661635421831331540251673945375414368785152670720735833087538314208589846899882888705379254397327258839061410099458336824344451058985982559359413668163298986699104661679633803461908756756725520798106729412501088599876386718085234260810755250281378086865024316870880267858846810226613196019442681629264248340645086919746662296823501839963029435239040055919129223160146093296185431827352806494497300719091386538125302895907696153733734001035530878978037597977767214902406263756303241294462398727909854709867480112490102121329039996457076883794036497026203893705074087598237953016968482427885466240261820478813819061158684842666795325936733779599071687974731223144412364166970434718631991251597249208682353027523422722405637630618653005996322176833096772094703760127666284267736139898639655098772424090201080456208137892066002706639957417691610733250329905469859193013911238334839929534704954695176299252310138708891586192849694478378673652595864955391703429303105551178304037984670831144297218253791403635767201960999088071309921675752404294130206359364310228107052257646476033331896550428562888467579268532833513847328433899623540367362504388606006758777116430600434884021205994734005324827424644696998328983321553632650417584311753079051584501770663753578222220243366873594745552732320315468292883193985041330355630809934467471921871628455491953268166420034857601900752191383016719034163918061114687409877428471217364823396457864400678165709186942383093512586516005877018767207598169416177044563843941103291777915640701021241547524353869390645473654578634211135337676234279969919674056899938869817073781846739367261832280117671304604855923670244487904167152284985420887049657435832918095180286302748296417385333628775527803557090665292483321466609278878899513916671871864179851065441207520905581404013923863092768304324324266735478610428538648006297994098401990704064165623255932936593943064417211526054343841359646368046994723990107653290221218948973248476710190398581894935766542577505958516241762423806536361859953396861587669487905195284039488304488415154791919279739311200494855354409935702291045207137316450926261195665073699702617589670141305658186760208879187244452820701318736994198807406452292104290038229862456250183631245660293983232679897981140080103083607795807760564300668429378369527638579559521062777647399076683547157208167614113971400951699125291281705944626245273170527826428127112484392477877891172730603168252783393030174183448131072612503995367931908088257356179115540587965241224467619051882158481089744028697946632075668498294814955038871292402773425550777650215902715336861405198155199648722160171258675538394745827649507842544701008504437015778968326467395059076788501529312467795350009199312545979959411962886952578803760561844797918698852254354549870422899216930567540737017568825619262699682408006829490049560678005985706713289043929440514845640275333020968494603653256344202337214109823628384405431571544776459349348997515824136139523694574653435934730579915323854016768940638541810275013743800677646510365406716232410653646461888001349880421549557732079629131652810206144498480531920766803707093658003748074918272630542989878330724555914252454083804578163034753373848804684878059446930312749659998090476876897358774359581259479719370827564720526229911113031808177100559550643026982201980060451421141506297370886160247244873214766691800696146435730677577688180701558564279666801879060651795733859549647193579956232281122974920295356831123006669108305659857810797291190224320089310134259703667753169701091561128748815961998117133129320026892173471575599782156013238495333597299891564957170441575168439918893571261181503670917661645295344104145988023310729967216641122757154413659165255825270473366701229172055619574496976902771666737344986497608294426437221714407462479467213446860928559770705782122892296250366854773508217106142531467377802563968271507041683642121410356637549631541644613873349740953251800762883409393216235847183764357166318655888778027824753325047727323026825207033104796822983145506727791002515134115820025182434507234824620812010726046447683133001755218567866510832717907666391063676785312296652342001524202088038871784292238998895509662346231216125134862014239367115722645420883213481857812689162458468895626723180951362391503892647079651033474458315771823799605727455378859094922322563147210328672310989775489857060278026113322303976329682164810707961909239835254059856586434807273019402368714075676901343087146585290876645634929285857140121119615468495673816181510086773548744516171020661593568778107999258907967770693676531626219081644608081440827645926341158300821673451808432588815994295629641329158202591863622074869669644101455937573718610039061323843619571913959951642340386012750544658970185698427518690061465726286306747719119836096515849804962743400807981998721889695823012623368093125911505747185206100271117667882994887201130733564628681412048588554229235506923822940287864838836060481143277201117791049048206482287692210133695107023328984113241893710101489599237201356976156780802605709803918822149317731031354897240545589349940599055343924440392911410467919794367604182331780129030579735035271364559715383968095915613888152978548297057516507074664968189017384831407609356123665518954135381220958825320418755939895436299187068162394383156622239437413716226193553208249426513868774428565736762849556507276885323116386447637347840643292750762340803576481938062321834586771905895232996955155751385851022581971219199383386666009567096359760263423505572790796630522743200480471079909932397191834387650774768524942960095619838376726291363224462191635614167960459379403435797336339603149883976376406209794636360561560983636087547640049225172040308917306803002902336453723859254056342421534802465122147667603189589388966988063963383251209111365949336062687665815171556342756801532734932589560437613296436463154743554535247073672909027014474767639462140584643808820621016730193792486056806973996671630090395151034745980098562174346443626966288570987239366276033519291259917231484867451166154636775307139737165122338627452024779361285723517554467889052581033378011054886478722386374581746897672558872820378746474350162010805417596371207555613421115820509435245631684658819251736032871834536777224099258577900113470651350456954544163054079725026077010223960682506742139759863969362912331842283285312310878761562536270797208484384259394842673994920749659798721001283483153728334699809252786637151046358612283789571384746554844493672130126779960702204546572975319342014411952148459487638020462774175414711088996117457160782232700912224738441744427800603799722475822752329519927664143784652029742741849671865305008769549958402487784787122605139806451449512542915700744369085816648369733329338948848749214500069200446075286499468594497672836981091006029642270870160812628692338526270803154949623124872086801320625579408075231691517640440212567293890875963015542874568673955678767340580243941890131736640834000468926573644077833342447314309354052987193193004126445164599645206307547687737280592720447213076967231546376537754558494745859910547357728796984250128527288719283436921453723706964541134789057398446892566894042764894155498786485531772557287567489569983896770445769982086847917460570709437557204297469528357564573952014548381848112568796308711127174892051192234278841041500701535939144876757183280718720135609557279512327523792593757110669986493766180861924160963289183789348430057023942489460157368468119503672389646258033851314303517820215162062388713579754687250350791158314549577915556199180641075912797751015914556154184418560292554902107889486771464472500475042462317172654175490778181620283496556469784148420605008265957506053959969852657750001342111136593813381746011775445066162808539747210028667345694136282972544344961016138384886724492603053052730427185726986713442453637242466675119231183622763826396481969605089542302835206900504766248481730626242350169542298043087428521329616609667349701401824836900434730719251997184746058443897890528379141997432834785111030121576640394407519452806506965987382097970099455774349738634987584709419836017781375196227459669665099344463534988910659374447855923676038260103895297837086116852004845590557875564373425858767912695494087454177032658864752899613778442412136865954269900986057685221316735668044150184895981024611873218817255190539362492535319277336200562995919447752400389158718864398635685783028035638624157280381082340095784541032639233012075663639246766302763072382632333643788811549878234628648549896513365593117528574740164304645887819036046961643976235051098246192742348485999913004881863737782964096333715535512429457865906734940728289926667255840164253959432125826453325154519238346607284916477673432730284140099142278133824054259438359585699286074275623924224253271039383224294709608575214677726999137666107961184910549129371401360459021405162498406041896623127425026680631319752943795361155982716384738032039974865649208006302368323664016198010278099624274463333111234691223682219965106359206987063085424026986721489823391051922520232259839562166444187012644780426287883926671059015038217449281423905707819900489015907699519812037153780328465629043419926903472593309846732600727013665327168476238363348994667261669292627343640481985562951948294322710553112322487040962615892115182896371276146716184101284932205846336249494838078254145400468790845705047151405607504293184111577209480470671425067334915395538805907603704733932536575766832105424575471754627247716253749216339558260174232064827715255307642888501143501997537064137114055181074869238622331193582544150326139311163539554049005304624845400539599258688360275785184848033772302933025170280431406267735247484919201095578272135757981472456834526099297999848835973163982545603191243645744584182506725102750748736257963197786512088321840358354936478607201363112499588629506957873373029818881149625736320890662342689914066564822175242365656621702613886630540331711688955591713505969998914239108154324675964243757796508808447101110208949241459092513619890845761987818832205253074041447012984463575612240321313506590229250207846829068856557302962284007327627275455266397320677458783216489506983839955135494705062740209558510939136006241317777292249098685958613639556852930703945185811156582455777543146255950608476450814202531020224216822351828994247903681419610031674513412548674494444977109226814384687537084422418731091890946309345765395700562899872954465799857723046364587148162278216247738589050790686918536943907917475409614099174792094140814373402093792859026316753699814630025117038793282512860137328095935032105597349521512249237707240835981182365973391447793448350009122652495789750733961192918097926927506471768766193471553137602217831454252355045534519749921408237056560920960897628366790913391194204222476058816776845899438601207838071334811504131099068812332811583380418210614248320666177343161866318466058858636283548395269020057571380157501382183550296119754359076931587399518047496532370408911630501327106372000529359817074736634889364188528247069966487329604348064577136647691973702846015943520924792074012780682561954573238559397933965340873604568787786456190227819554488205428458049652318086366278809160014733547699258317748642161369392822087091800279325137426347876025694824246620818759061733240741356162987990700826206491942495340652643905735161332948670688335835383175240492056471985563841304632357790408540084258909286479195697519753925000448437405783800376957273950138622995105504791103925766900372717445949628447302075778682205477644618326238422476678435960084689431988566950548730666684418813893943058126213320052481479569918169985913027741020492467849679562270867478395536394166899098130132777141398436190044173649805927768418598289263376981163362228231587033136611030425288789170566104763598080375761904068039603566811477431328531939285153912222492335795768991341881448362495572113087986662977367597803392757184709474874403266154283580655683585784005831743388667506684183059836295744500324329062758641004447186342929537287273783209256074842731195070278955830494281264897740567956365085733499845410331230511652290749065409174428066572254507549780249943056190887882795859373114496044190101372886295894327400816837146509864913985410672424572387266445388151912884309667810997372600195753381462378426788545130991432220949475483945266867644912631915980840768457957632897672478425808004958586257323112597383706907586915671065398868913411353673006920662977096518214589543245467442765230185191336293241632224951331124130003522535398135632022606218633712793482349800107719486060995681843643345339152838506257162824448782725441893319444226509143364628112998715915119185887838367626970990949258861139281974108204609297660956201118155581607190557794490750545363094263840647985086122210810548052261988083216742771063662295348671059632838588115820131583823566362548888115605029094071400929691869441476728219573584244006016700987469056355321192373150022264044459820998860414328585677120076458028401395469105080121939843066996968660193945404221232286298604558560920933752726317436900428739446953942430663780767142723272831935953830060713192450044827283973755468417293400667731168983325840168743106176224851478107111173619262931575050526371355281200839506400338609854571508972086572316295234938405435429137913673664953617237916992955395068872755536445473926022934368590414444071164605243493967325011067881749439233614734193897815681262927543755762014649661146977712920851082276955274050159591900248485427384472984401148850612245694218606301197855636926138608629797724370712587518536316723556947941469094326033571930169527824417080133331242547178780050813292488126269782891694406836177775957656720573947558500315577226204677329223705520949863400500700868970226006379281938347409357428868256975799896705618615918864792049642481237324452798489103021866084808595277091443576266900394709055476075616190955661196142082010049350905648981205347160239719147219458010464700540604214847384481626582391917926698174928937925977449349338879812129778129420365813335902167133714709150682893926910467173888471671538877706291280516924193595957730758065784158183349885861483718056414973191697065994756009425320773804453831018922024900434078862646894457450445665667527276509468435433700533690739085867458079618719748110045546619313672972666550856083654827489790080665282383322982367994406878128883352924926943288913063510399300851886153469533461606602217551701548022439538251347841307907880500567785331453190312291897370729392448992627167910099440853505107620380573093530102160948052308618251540341060367267058959656454804339923428153543489687254269492011361348057779860159769938971298496539157593188106975997101756356017629034890533809899817667038263532770691860386092374775968243302346551715846835742220699408674052651392891245475346418749975595207306995507519920354992237301775978159608642740043504508155075696238038128613874209024954009045369980314945195604867865997450631834526475083340290877853135566371508356406871672399073884863707215479944611468379930532262285174770993470272782213655080916483947048933381746541623248423559965440912899734252245715965322278797299358092102297028982028225440379762384396601376794417970122149085682728883532305450582093553297236473052091767359564168033207662283614328061662464543702193317868583974424901577766656610178695263802610060649011095314866507960970182002550107839589463632188942145007632203640180218923758050464614208504364131118178021351529198194782774594166321287990617608883818812667740643259933209981089515462170197698859959920950980359573226713737323983428602155441896278445275654981839157999505352919013342918539035513072783106794567678521287015159116996480365942564306409145920354948514017712610125710580071068963261891028714580150619540372237773579792559818074260195949964290854335051220102864680492668582677462337768256882244217514664455597470229554889429433671999588881188902713462283519029405476748876867054447173556415522771110727751971880294003220524881140263405704951282114827617925258920366859990496979106841368270069922608063886961998931650735618257828920505656802343358040251451559448740438172094347326928028780092436504887712409965983480154691907091907141685657597815136086104437313404015740727974413600670826178700701033072183054400283985887164027840722774699482801952955102676900927169461240954572782411875437714528984989594531804738738093431837770155257037993207453197266450443753589694434858329020992351646217804218021010997051566018256304982817288040574987449837657382080816860416551901590097759514336573809044292744133655433274953687740908603721384724431589670729231042206015716254466039188339914008927856653003624624945114529745398148153295120699905783221946819984935919469562196632625242869431943636271099080220775163915902951383798072702702525025461386943099324226571164947318748867614185285681106257461857205372983748923225350503062216634925996480661271870634479021502805810697386602114539249044433877411727681647099961081156262735737297989909159577899676717777798266360363177097476449432753672505920007956136267359720276067442077107994602821816383914856677735856497740970944985212591695662089194672069330018556566633872707747041761853352200172667557357609831710776082734943460709144238662120335168193230918692973091897890844699596375351570738835035255096876805301604701551864824520376719065014286792423094786682440732146719347258820461820737040009162060314207044721000410292888636685795746723956850205614824172656675599580937446103129456403529483403492486324603162734819965229369888907224761635684825878425782426927973286156350670098501014990864044118559602273102935531207376541592123816861141677838737357179386321091984401352563952056841911988850129033271468500425550331835518312157375498073283146103298584312588646228869917927925588144055423933081641917403827010439845226937213515811252421317143366404110793546835370980304013253051653863755362127121893522274857138444038361779756011973658654207039636962404602550108618583750133517883714247268184146669293427342478465368697463215388456240107022333524915865016297061858970256591665227732755992863282920288755350329936622306100674097816623651134493488271492995898275756321222696535894738280821449600091872269878441500048703772449808750488679593567535170949636412144837000996418311498365720778902347933749046478033430947216722444394092021135139720164749138955416550134087463722794817870879110849393365806388062724947104485655339105014635381767386391230596869990158350051922526464572671520397522561166505989459112252562942601986633879482518240693207892326344416019328469173545868376004547732353138811006976562983646431749597085924144282582542036350692825926827062775154255252379134040180296332595430621769319199947902085936879660296833953278889402902591251263693145434126462374625477561393886753065651188417849754834859940329195568785685783638678481079659086762996867467508843866271040171528034134036926914821557624901644810725917654902125649396468850303223191656067612517037592301332109145037005931554378940966423311842405377341878798270854428920537706908800082916117399941873526076277405025055060329299281561492914237013050018687910272890016240808279309466156793523386771994193317838898389106934239190904653616169887734235284200000816138310095075578163511362504455057005968994808105954978703782610211711425905800217975294513165460841270051921069938720078324397061823237634606466380406209629644374127316622587215780739753993863125761410214722904625201564964854321676044851320208957010891921873510597652378294705394169808271334837547002140938083499562837587146215033750107411791325742820173676727621486989699250325131831680246425048252456953386325790776428415508158003658872495571126245701547205974792533632045262460444076544506328742844810556557973765719861866864131718168321190625389541601760866148259634668153365702227896883734405940420955887227899407667976102085319427816063711815039783744928941330711134220909878791606057512446188822165405938210427750405800070283966346752800596917079203587740641912194743167973176594199113157947665115652221134875247282919737152611859163243869481818113479195875711375643477720236059817404311166115713830121755653212598955153442955227065661791318995740585921865646099483297526211352045362324663206801754948250149720238477159957442171939922332238063954826465541539681132444706150265588875657937666255629743041288874318767822921774189295761107075690098177672177221036386965939383882910348656239478519651383764685210374883986349538055309579556217691658021901578562648583227432672998615884189529449988436514602968019804545116216624906197002073412348142658127037905437983595425696071064335872992280941018176425724450680539506951501583660594080906966097216780368015946950187994732232227621083688910232481379358444352387772965606563765389118994919745093929098864214061874014985533980192937857270861617303796130138848644952013587284493337237880376476262861336536558185939692751936857422088087203764204137802966385628217602982323095201078734843836877214865383364305748158115931664271581405458092931983861328972701397668884513355506674346412959296341135446991190427593307294853205964896808056031304747177980629250244861275723733004378015738964400877656061032572506547927607726814309683392662903152516103598891945006153685251807754777673808383819183801848224379852875081180057265429264042493829782263337996793097122422834324640444791102292719558351407993090044719341621991810023237808288760748484863001269587013827430007898981884706088551403443157188766874234300866108683119135023971382010476198438773970106089072914141306593933078189758918864231738847225043126555525965201189890060691099290556106716882424089256777797048872547529877639044549105307718174254671352352683090222789782456999092313398210968189866534074662836590012639669702894172017509172279983522068569715395672048148854171440532338297199573125950617343548629159826712894908425730478316358647666549878913185773260085035709365199433650895084830543158297976889481306286613054725990845630539810274651373862776248034655478377597448655770997841469876063477094192853800336106202305245557112802492083186290013405342455883320479189935900482115095528262269200755053258624134091657154573520733786477683301263834276116029277148114511962153755386020734080672925317016528830260272266093996528798992921218730093339722324461957649073521696079432426921700689624183616897682635599259601809165606523668182290196262053248862809252354125028476510360346329120180825381453466611465524340111254159634525156545492538219264906632618739449239467934417442452508553018810244064524847669375754861196292499226194355584705170409956712998554636011223600007762614942635739529328368332481014104422950228573111809326049429939986185815209332760411364264581527938735067323448888431555057916685971057578462090842533198644940294894527730626168995431404074934692194718114337452516710943470339464386243457356686247268459446233098415047968608029665463015662416596287396591346271677726035257171240061945200799691765789291412340531824379880891429519516370748274509643577967130892208667273348931118950680790365187773753725830842564450039418961787076477876021129816187098392484571199607037879172784624184506918409256051648827248676593790151278521278468071642889129795095137598195728644186446342561165200616872365830442358799504909578752940914685433958675902669360140844404920101397238164252616803412466649231910105330966931322847043505805367802754933078283694041920845060236101163370138246529885004736352198486575362447339012205806237164364907269346461108155865944444873291585175856689455923790550363903597057444641721119742121709642106161845440485260666964370638700319512355051845525396132010884061029851974945414127763754995746423437419635477998380046582958252787927470462583864117882553480250547410275357444010717670947023288133296509506178104125180327656473487203098721925190801393321725426992720870337443257668097446350252232786581298333655251442519346521597216579687481736635747641326554039958582841676466213683552242101959655587540469758015862323167276594124983503454705344208773500092129447713053562406121334047587945083845996992024072218330276681382475280275613026182119616636585730144544547541819010094435890628020806692465853318230833863971388089019987780901340443052163581113313613946710173570589241720425684353842386037539260518597599219644488017811612910856304538547043890411659083119575834530020912787859151192477563469139053562265656124910972800342705052461509315987841562621572799654074748776792440991822801177990338045010444153565948946836225195211753096383925382886176115410098594287325578908726764263672585773012122008484555081836251778790653611479027074585726393570690503926624558130035108801931640661569669948526113988831215844158435189125882701582164654478940449915040450451246081735386881001689568243657366775697197614877993848530031825340599098865664810617207057525349749742425917667853659110214904089148781241520725844174513956301679926831196038838445954057823885404110803854910245027004240884109590921951056427956115968730736091082191169868597398954766644904117135380128372743741959165559293114388453008672925559060009186498555697767363027988766100026419852186389122388506345660621152760477214905410470893786391401057215549874340578117319640245902422177973768366115426840851590011383663840242262752481204852836767995223996715768732627753342880629062735666648497695331221269218451546447210045826476748652694769099864400149288461306798460304316444480538037275623014497684652087820969359538485935606541769612294187982476767225078822484370420546120057886466505808422236551888102488578285667534956805387312983832159713331108451028977053026290124194331042763811591704100523213979694090453006378014096378234872249895448344780835688828786285841895854484222047535548303953268418416606133276559565327433966205887476298889536681058235655216103149082665459365114912174559704472039137843254518948288828099902206915628307343605200120736247831632602054696820730887998855239444545794795434125105381867171069769809022417203592183165316149296463175536671114109549829844005629548699665130284316272322012063956098434671416561634406516680654731722453007770103786369848083619780056183181133471600882977188053834123964004973181935669751216543907079572105423863776657345410056611464296257890006224849372077453925578239171857075734364984512701923823390951679342457339987414213732689999485941690990428680361064691908800392049927070327290242098010888514828377094121776628388328855139398567639354081766978179198003959975115366025913536942163902613199044417966115832082207258095684146201924385125801434816218785937483615393461121834438864884851294710667799849284271224326461363308875789895440602909887755505412314518781876803809618999407853079433921051742605120150068642950567881374879449479213970999277092969246960504809716160472163927946224490112392473554589745641739821020697313078421520817968890806846072310918006548484744947443602673495855176627364128659825013080888534073112949919558316142559391845846576518525252576654565733700699476641938795264780897502386438753322806604300284976348308689777063728762031290746080181023955513572769025666768914853929337454572133768060967172883359754013407297084529092340604675866779922664482697643596755677270108397197695916615293290953773857884233670148401929052885122999781884518037420828395050258173980960324673127876338819197546552304421913129402037855521934390196008471664221649177568709991465271707983133104831280497362813946179832342009307562730549354951472462521141188069520778960799303510142453030334793101168800633853416697290218672311065910320060550982939094685812850634424092393137683264388584561982775676864144064263193864854884614479176216556636005286682481801066634121701161601822381910927990647788295602525798805128723787518117099726916612044152869501783492082306033870674731772740976907230397323895504099966427808750830167420459322159373509371994869559082168686093442380779289415233680114439827966869257885008416630951702184149628076939776236263490156389513442096463498854381641851821001449359196362686696345010335314091559792228651743052610020816578619894597122794032942075660019227595816635110288906190387448354411781181867162882999870984116507625616706702669953359094711032007428677298431125436990483284283439410406599551936132794135850370756199820017832678972013819551867414311245358700925638701207669316133351818144344987173097369666975255069486640366296057519536684457980466030060931118397149142854214638592185317783069928850118658048721824060971069062145500011198046935605795787665699838832668360042350184143771788544360726846751732269210977283042020711917960027933442436828794742577722954292318047484025193404159619704789518104968097710916596123076659433913237011983226712401598624149914980551689574389334817155218854892247790194845653127034861884678190753939213090073499600867507993540341858929372057053953031541838026393110373251270422895150648099994503040024729880498721369648891954200042948183715621067525622893411419911776706300961702548745668226918548472617226174361813817125498496315849121123752155912032280638846973867181838679282661327846609068457910000124339876269463314408429469950371353597557975673375993172671138435245364526623152323782239267026568472871912339213038812401110537481668081206459094874304513395184127505639681875903988055457480113884414308068418077120184357287216805095815109896739515537345956043067384896534227681279930349661842028160287836387919059978500856740860373198017716950747281388706691852435326992582623205590148883394166225242745137581963906763249382287957740247821778307587492327974293765067187876123059338657285199620885794098713900164270536033685933006344799268448993434450527159800295864705431414721867662644194743839110643362224020845841463447262735825043256827787869778976436377761864167631997573141948760420663522661394036399923039303365664759139775024141863929598635589870935685272360924985026754999152877877159328093880594495835745874607948261179734557358672664878861558503983374963861249757919937206403795323159423463670759999478358217109250821503908662695925734780091282830583542274838185958027071786341652337061375448706259002047524562180679920643665712845216419653686111129012573295355355326986009709908107910706191801317960581441024893796185189596982592960895032897841458811747332694899980121261404641502229082407273828344150747809327699680517702255952270304953330619073330973241686305299570820089974211592806438919414351356934706598473807663222486703806899695122315335486114033375235801910983030666221139370941531986524293585902443689919980498185518740182508947254324847080167015416684646425815842528460623049950136595744953078562565515819194473060560079544654752024700275324003136496853188080587166783579976227488624158224379503926059596033521412997113798262477935617298120149626519046270117379499485646248367417609530431568739905939456608376026371433096641728157292778028993693181189751109138907777834912958606241921699087872401039879392260222407663833401880206158264342113633108097747503698479893936336870183849863481401077085344140844519117718821153191469134178540295048342366188268652025191194618952471060161987185453530590943355537087793035169557470547076608820491529345048287551261870057713886627803170824067827280604314916816527709275543374471993579666758917642378866941513851617172902043059927930034369101918464357591870933616204578711125274727612118679967152189878565694934615573711726690531195546927430826736563963612726398639926076656953527108275490399907181322834389089440348524560047470247299207908916085135093578958103746521660030572107381910640157329680519257744687317000271550959315908675912861917666398792642047010324312670828731514190946515532486756714733796661664324505582328413722933545794624481863726210785384281202662806691822565509263386009886062437040474421954654547421541367201592588155148097289229119459011036526507747936609427946610984122162932761569370987169035799567792546348333729069786697705016206897474388473187838102331072690708561340489506326851447609344713111365764740319368506211704519779535800645349120034470279075124560109509426323321344891516032289404860252798356956216674604078729331030335199442460154015619305252644106605613374938120117436372872873797442564677867180558848437549725052358920469134863898381690201805575737038021095320203465434623283630178323820230829098366133769948263672809810680436631375755792470950891841127808228428082181130810873819946354472492297848456831867654427539932387739560043040922249513597524696596237771545929350243534832808284527184617213459659821779207987735921031107680171806123293175368553800101563381043521348515124337627546740521350281010364864930572122245855741252942369033858760949265293610017846649461822825975546053296922097489368628243533635666522105881317468776972767768760145402589867415493679904189293665100186899864971220157631508789762217291099169191532912272000152614562950061264022441834624878174192791917222664241146478284988793800836763998966211410979252977852959249832763060465762822403212977588021010322197148479025006837099999679572251238284821570146872424858235148108875277389471176497581417861769264691937648240168351530469221523885076371012144485123652204485999692175733628376720677579341907081317584655463760690462937890190485665652682326412987240450757316697608168620824430364411856271796437496805271350574012215625519617946686777966731990484732730020585897890234531281358360989394375236046698299519670511815789362642657896393167798397886175648328453568288082827355926637786700671768029228972313693281581829457882664431678481320697238693602037147455795363372540216471707734606414283125823912182801813160670454328799173890737880947930186161517834199760815205066669834040963541752653135029335898255494599764234027880920818037919417813907686307313766372627897198965181109116995526593527582967481956353518672437164964237202606269597350870184515600849467670473272105768499835281976367442368988695491126773173467722253666082297284376799557386495705934219208045246142626623566420791471534147167726590592181381816512841811987537429156510150918417370728859316005625279879298503750062491321475974794796533433965270512248894544740253292115038477923807083405213435537712264354579370817202897514752278788143081905590816875115615559354565299803211278179636906583156417590060739106744006259399398220636644172766358452176267071536747015654077905312704424990542382041350081705361606860731040254756170788856844804641697453749624686417654518402820923419308013694344092996797712279735803179435520801917733639203823626907669225781524703199655357152080939960133465754620330479248451573435743006058854862560194560010486836071299469774600720498169105326535558824358836048677559614800784396988105036852101755238117159525538933896993499541498000852685347061396570095824403734274841406878019123199192324960618508040276434527881256061098911270234513459542541325022897513163455123713233800128231847735145812243473374486336107579490121546408668174698467957215771010838425772077847354030267865563524545808155727979865976579674637886907445580921631068585583751034602911583588499741846717978154074275906142833650689145394462102284715159572631811766015490548489610848313275589017691455859308508393641197599181576279838578061844033040838374890714504245266011622683070848893233295376165367679682780403103418909351936551326499550730465181067018430981936181393942458336343525390327951519985480890184380638242759666689458159635878452489855564380286042797879973254310177018644732183468775427780627837976700137149006140528774385260758428447808709569197365756460414382885480765090072189844807449450641440267677296534727900969026312387727769642314904632782368640302115119998862230771798392740059309142884963690897320471396699783083494329288261662181680303731521004702037149356146545733606605261024940694034902425623260458596051518660617217956608255085535077040707440511731203945904003398102500211184887288151296489983714169772924226985011750621806815995196400591289514203359753380919552955735552966494812003322064403858489873606106347671585228823952277881853197736568216666514492751092242465242796232521914665434891025789003463665617937086940428450308507718692666595747928687008448172951245185830019372258599907544104687699511687273442526790749651589035460827519359743529717339626931493092110047428371302474505792986985520150686994632584524083476111796109080280195782576068921243506692280940032436328140419460739353044661944848365236075454689114926200479119806187677920973896578256557421293258661986105480775466437142284523764628751736625939254570214808950708265726411298142668470173149805479540129366528176296190434640713314211650482781484602890370319846775075089613737629985664191195330231666741026871373819982487397943459727283236823193151198316561242942321066098064868084815645392877263170233424220400578876057803422942321590772763723816992382247534910073578557631995390939319370166239759053976535714886013843719459977798821122409946364047848071187153996402848721133764095859894985028383738902547517425294449882405066854765184746774613586646304257745072341707390699853633485842871361759352516396246900890061412977233657962725564617105867568455558950296312570473466011843060657203733350364093924335966829085278451074803797115040255687061477865637818360138595176271048748299411820478085852776540546474189363249751876145644002286577045691223541299251889855114771665551694319124721771189707336265653418641108329924514205727647992301260934513646693602693462461976352446028854578812115524803578372813711572119576600202962374236807280916900688232044262057426397976502934407362912057534401304636223678266822597714659848303689221338832343932630403222406377971260099238929317366758453246839307265132832237652762872070695829369889030045405384042690677782263960782479643521363346507108550214437981823526651694875158286193813856606268209874267873536426637554808860170842272238333806956000772002028198055412563668715700552660857790606158644156245891980145295566099448052143355538289101919297932463044176756698187278340628181044121997166875363826764008068271399051932928984972216746630859714422195461336709137524007335708412210216257570147182715813143905371643576889841394840360690547730110522318813997454753213918534785451626432505969862508340318218838564065451946299901823794306912389429845210701068861785226472781600468042757448252090807113119845422669720083194865687374198534484296535044977476270297944115718781289034949968920981309698091687832762250552658425797442727056558323127905574619549737634522645719936020110841060860021643805296871970158174205506059435649234297535413976407387406818282429524161198116259689577275142908014897125829922675360819366326028565107329584215303685799954156968812173455237963239861649509671187668551151195112049963285411545439939792068634084826880078084226735808295101085312544497589267826269309976320568334279721484034698153612183785330619528116216426425830057594869243427575255583059428431571245302699334465517600747776190404336046276352444191420218676046036376721362312801293843538040192341021335760150734452690149554743582714030191117439665015350215249116202248713158761250474919803810306953153801102415982905351106839689176781478535243726485954811150635368113128405959449281664312439753109798095266132509139315234041516313252270287664590093878759193075405761240073918119202238599939234274634855192012929681095636791232314078784656851706412895784460376689872017758886095812837762851354166522229950731440090761473582714015580930480718869143664605194858322709905130568706256019497703774282191144836143839982944812977003750363052451890814225088937066227356591441761506731013017657047730913326127589906862544181322673667058314222843675924688906766386218315274268347752080562135500961496591088250831829766618926333517033993872773920962452185666538812893085394818371460978689037238513815232094561752640186644448527406850843441913214917492432935248698314598901587444922042360198840188998263882724751555688705525664452562334299696999261353520676319822512775853078206951456248360356325016947350071773806708043835094481231002227987736770157972938438794064908289094342760898993833889612646228309862157045525498550614546538355278498820945633934290401818482922843757129501339037050962524166745312106703728615849787993063000288098743563662031385814552856522711919691712267384287514350192022774565936321944723059055452238808697551949635994101388552222497561748955371971512804019516785510039482252180277606197099874964288860480096758769747013618288191492229061745055829949479277954304485392142182520965436101552920527159302170795270161358005899377090088283932236286663774964097955414291759497060711894749906053557042725329824895123804732265846942108497726958935405667043128767651260961623166160847226817937632765737932193922959508173202344871236789750967932294234184629134412692579906533001471236843636275063777731659401915222842614471436851351922713147752835796106666407211089328216731751048594172815335929878337773137552262721777816453174592993007941556667619796105159911242180897848675935193098289610652970759812625777656486516749841547806107030598675884275039572975330460097771948074074384536917658763615996020474929839873237316084571343313247180243290229908613913648011854837601871891728609762658429337766851863966998519417111597060082138175683466891518623682123075004461434790827515268231056460519612342833642872189286869826791615974019748330013459150721866528004578352612191496326196771811459161715073687982658972995903821921056167729084599863196353021765867495345176889910989704024655822214082517153688141072402817349785821887563123579880652339422070144921209311295530869600794033845563853960517757664817360109789648287224710254906892843499346459015162077798653521200330334716924876046578512046165994591375513477234991512788055209266313095129186896506913263246860458050508614483858676203858687045066612896445335321393767926096128167867150451193145722220911233160946429951963930904097429499447830651105096140966411089279557685028416549122997047124258174678506284962743974605605758287025439910028052440748779846279408052647427513522082216634016827318218627215768483134880736462936441481016259671620368667010983882726324245236619909839562107866849335290522883766244640240490163782016878577861261934129410650686929921777754598311771111518581527354302534273715644830562368976647638810738256756788063657965779181013225742335567706203907036526962347411628134779807978475004786764676531818231044800628610156524223500485350592905563097617114750351919372221382658606123581009925803379438329672468119632004668326018020139889084774907993208552715170032581543446088779737046651543705911438885836802426835558804802641159846764517501595324889000771472541728510545646217363150344939966620580202375718065017095624082252544041270411464592192812515079496318799779335884136324177792907636710904118974813250416712977804485341383528183605657032583840033797859734147362791590850308281100204383482156422286989713842524891023940968232295230862630875065237230340865206341144963490422135547270914237996169658564662305065727619984838046701514958776301869334020764643654655002419795173348356565648757426045087369766835647968187403825194704813470399980769711321221942470542403221455608105101437790979601184434593178988801698609699528321912262051436066333251909226404308976603696255036757183039516866040699238538664004666724196949891016192199520192404933509779587694235323691913581720124395886159443170948862755942178141177470916749267492159940480706332312488445920798159829940407131227695576612238258760301202288131800699871318103631724784657274360376191138894558109022558499294011204058345598297991728987996239385046623210383182149718403525631722078573018727050585211285076276057181955305871561620841438073395514380041639759707625328473830120159931457712359169813293283395034759788971809956098537788736406408842439222638506955370792767346051012841770984866493763454832143918693802303827435393609460056219226221980643042884296761704941181066267129419283511859715703322247874406326344725914268910660143570874377554606774981815469069926363111405889077093989630692650102642593550389663274991511305434640552233638143637121112125711518742697945096275652580857104060370220732315893498548007304789863299195912677551909524106192664946330832256857495805736709409882971488228074032923776105360364934265349740270556122876589034777510609287491061377996953904418611443935972764950253418770425907393616204299143514874306447076504275865341944550802679546187113873672382233866818696362835874573971705058723896019456395202322489530308285615238758087496881158797477195664949721492585701590651475954590160216524205290555866457782170519544194321717945455523087867869436291477842109615563732582680838926211683921174332356400722731694850361651937323531558220204056261006178485471364094665982442843399178842341393622764190138198303282893913764271102209141068720452607205930243266084718464625211536331225545025341681754221911759593040001562746627202218836740017601274187805325518706623589729984058601365601226368245259437906018967179545124502566889985255570714344924374522244831619749892555385739900219831350914873281784280504167329644477254856367515655840327243194161180009485387913017306177531201257550372953386148997575339849850521234926941451595688348386275139846565214428622472366232451790646019524202517564682587601425453899742127754619590554496068034068513361005283790855654704217402575528056672612553860053994408957116037987252880764397757795839678753018299591601540593355274601579373381644565424914725075132762599679200009774956354672580415887870349495012513488280424001810389238124025936790799103879586698210022420129332640511597535467282826800603169745387186266648346080363349307200489512499079421188051372578575665663399605925314071060556734509158461441785596376780695221509695209759191356013298256491680207807369317100378722928890170759294205678205069041574477639511124969475788928355216144808713067530187003394045632787359341375444290897868674700247802593911346165749631687936464034496691566444582955348479482155306744934494468828678585580748590615778014456631746557508417119937559415117424495830632543292059825430825665563385433055118441807959908003894930293681677015566962327739689271469112751566145145137193013441781141051286232730653053132748237546860676551831804699716009126920460246897869106251352631733214251466147573038012399148187822070608691554962940573721679953399499684182724468096358444675299665492864464633394346246302870148404178484134318309050350165506970314094426944973970525687915251076615924294198346261623276092293150121932730486908747285494682564909597049071937347701057906730195542139628039329104067115568854469247046724171397150588286126967577772648030017179794558800659046222836383550089710967933134401514496917027336320283036083929286072137164591475139976490242636516362398158433267206544563930883357816038180328227267961013366405721241888478439197038748218995422329855093587220843248511398206107770729717782051537319360379125437171164866902006648086493307497053170640404063030123376721195579855616279568623244183998864639464621653327315912669322748517380714016039357904947550557996953738519229197805527564506858779804051059437249282092157250751626260015070081191887066055612736445274481386669414456691679214711621917144739184899775804444772084950446831010406547730285607566679266453653981211108212504466850957271685856577586312779856501249876703862755155283460934528551643315267333871729209281329022273602669413662047511862032450440528303735872779557938279875971260576765276795520886628627436958707552962161866201669087260416247771788866231702490218136243304810141929598980252526319989005124857716490977926383997122795437006587026779774775116378860615088348828970211526422295217604752421994711688063868402441877157096319637494257088129119480667025202873608442258144738291186911539293453249148642123995764988098621964382031340583126424106909542945222555663779664337157707160024526321604078256515149512803034672655015554498405625856932758775447331356891516236140531402518543724212799957986747897972507934575909709994708896917832283278740379286632521403435088116462231584375217153741135227252286501833458607107685698002737998264010647286019307469854790872105588061068249223223910092338554923901780861236607696041645157799291077417280134098025050788826767453914383952648740496152411710356039070248579370571817942712798763412587711203317834765134099125469211365807406925436664149552080393099990044910848361162441132966153631431090918157608749667794859248688868219347663005207300739417974868059147232728620232394741786677594640649063878041785710535271007728982189608092685001651743758553926682626151784201612658938427786912857644396506578514994426399583993838122249937456271362293821920219328046454695997200440497160941546099967118296210025403197321318892618592521209994313354645062073569151436089791166680818652443451547167747906392852486702095664912719453031792236538022525990019010891492870019141237108920883897527268096927191128376763002406119425360666478844716164024897193548705528938867169803009972162527820543357368250661214058572989353573271060747333206363242249645976064051227676457772167377935535982300080213977516248593795259772375732378741620894916653472805335100224637110392997779093761801801724085517119627109773448349728880163490114579590301813661058043871256998662599455618071605162128887459078473303637560224210926617863304189673355111562768917288769679764507531009337208204739366445273925318167054931559382842701308332274671368483512559452005185470973765033591306487867670500410243960679339380126095514914783534435271340041808211370803578163861210904780334985050803507445748134271878228108121522728901933828964587021515455476999704318324147547015680527459492226735299045408421606474772340930959312025563552544042782393194932234934813079122148588277214277592683296398552478225416254430912425860607807769829884674627990989878956835121796217911829269946950481836191575789993969138286634685773803679537098055641033427926587315212918060992623663839298073291875320201018018369007486838317983865946222792795161353718433765212059001796863080798722132026272214810484435435524123918262078913511796545486593742238239711614716569145193366963145887525376374134313553483980495133026820835768281020750131863156863612282202142409420232965977289065584885277632970506850286415906070349538331168415672865277500771617825087932121612576348709407259186318978386505518161154066220808827208148287094051020582240856746183143375870612825963072646674046913877010036894580261743027217713222651869993291129467901255955979181058214489293583391977019268135754994410135786878821478077016965639969932634444026721776306607619895554085541345017218850525995582201329177959206111406189269580943814568761400476425170471760072881563823345827788748774691182924519209429368508531435734850366163347473376535962946696985836555366407919336809845920938795763201962183514730311835573074132308639263209427979765685414509538758316029575624767380826568789842192665792244496389123898427726079570150977773832352674765989867436115844781919544335397833328202530996433307105250075822292723256934012961085030979044096509575652132345202851033262235165771044387289334259303449641983995545011125077844428040717407909780266988213669896437705309462777954177172726216170894896701592921288859764377576942519745996301318262506791127731497369153400784146996169996192975840297422942279107996760886014330232599370984865227511458724363382844654658965827225321010152205552297737401080207031161973041648226318489535315776724565998857810104747080060946415630523243127048060609418414833620894984267396007394621992696081369512341217181960259343508058132503765409789080408422240509444706552600475008470495181752060971426246837557841175469273678404353363189531509720287250224991700344469739524015867243788226524544870725173868182612459034982943554401512058988142656153535356905926634200733274386415253475093573529030872003605481456094750752765793093999595148433903856515523755489431271912788161075098798876879801840766708538884999854771758067590682739920333519547550580410869364446282699245773317257907376583600532516785548556205756256711365875812084141685910630144086549054287881257333300103067391744595330891410563762382846709052258328485464142032829892511428822434319841666849656879167642342184038158985740655493121068666211002638474866121002302333225129475470404678622807309890229010944786334948754923658191448920827217682678602454558071477261915005847409674541512678476433888550298747435305406509667573350961786775635373902528574776929884454362632316714901564372078516107567627786189724926176957402738500405487741812364513319586923878785098622186016886293451810921073541512939180972411695777257145458210216146884785765535984916001175818765127564650613491281812173424399917042969611741235996940296521657193837595342926196981071465409479117391603560465830293786797015673819076551311280569533577059948003912266606744507443478496402386158655826134889771229691718480561941818161853035511203248841342180687545178437813367087724322336751258814855330904210146024573310125666623647270903720346514409100967906120542632413115108328904945947366395580858279707780036415087693258225337681606814276623170360494855166844930453492200894354699718889278621593402351157838442517253167871989802857021848055726644577596881299866218453218803506524375988533481339060519016685451271067771848627973466997180566947152098712070185888271258765303035703242824499633067022995788946503299285953390618617859577641530556377661723200399614732938820222693759336341653287362254355674661784659352400444790523958096570786033485953939518965059842765508416651576233052932978599594339640040038023605580132453473530411201170789191746651869524409502090409285177120525561121302848941582028785753426258726953944602228652294653182317984674005376866868517556216428376818694647113536280290392102231781284865015068536371608388643467106259527065059394309116683170648370389989887852204116641692103673986768376587413833387518232650418774221584538905881694355694150631285599352061219243343343137333906014055159019513597091952587859422142508560143731249066380879418393308894065294571205599645818597704348090037631868143747237587602248221407793706031295278412359207893109286138385952774863009563721515059552400961922471593311796042743375466360513503325604833285549482535503647501664127560732793445911646514134476181764399855377647987574704609405876796522890372518714069053514444844972596447090297583109783252363523206653059401043776747679593634202832694318521247280645349894089801892056591791479254720984953647604768725204340579956988187228873117605581314067699144640717984989524818505738531590127911246130489000290033665349102661964644389867942592782222378424176900187098906505968444792269541675815249138356057981714889611154639893090126082181115509936525305445612877661104140474138146338525390617714519745544702726575994764224441948508195166852432921653285950428012373618433287479132000436069375102294677513631810760379383178077415013782072494396731529917628718731464777234924597741450253257440383746694886488791135604661288091449023389872442002208406555059930184773966937520584389136914868587500654603865545067274342906596953294008531791693530396057870233122661808924250563247432271739662527603420698476198210237179261471361454334514502407110673252165348534764767064973164156805303586734119574180658140931142625763289580172216121342614237024564794973525608079026007761500987970069963870121400590965532168606601429372414331442640725617505554577249791075056247061313821760277985969064403126796064419876947869703199134914329638092673777186778665723583663241454207616787197672982710899912690030629381038285198166740987966539004088171814264176320601059132687168348019727697704464364496377254552696307750608389446331270621195997103558315952534146026804517688028450475997568241929210094269114163166000741375338919913401006536250862148913362576104569576514825051460426941811159306053870425323560961609491434023708240502728517124483962377182753877567690126688899777781622176975005769138755122041680410885258944136655559536909955507336153549837195869673595171681757695323267004585251418490555969419702600714944212490625977347512659274020403464173068133077424829250788691776947760857351808082036249979510902759247188670522599256635125240211312502416468459024258399825751822003421044889853255629746712200750509585850679531207988865669384596040118046319757617274184130893890950811012564027961550301266939356325524520033896097735324405132677364370054905251987770041549506242995718081042034124104053642777882732705827913182377649467284520318375815879956485172013548469770436690021779722395474401028502002993576166454838085069861689366511327086437574454523667790623580114948225305722522961841993359739678221035136592829880755622958190936440386200571450310293722381797655715356793792039347962355984406515730032382555130787404462094525197138788515163848032650216775782701178354313893567829730398010118936993545993605145843952203914901303884635886747777662754055550913601606013958993240996728884745339027612240048024732134884826098531018443977739518161081676954947330513004194650311023681852616774514841079956052383170174561396008643346758877957400270545306142470087437221064461108264751019176541290308060989795662603555225994382580239264651927531848888679994700455754435465285661544883269755786765759417196048283358707775964567797105219889518195069127719960160655898795733615852649752059459215555045114736955068634154487896452061198353917787625011969172878325287397911528635230470762244886698003126717416049707028505126673141797487690091188645644259371079652455883328978189959667237806476131653896409625141630757974064125515700875173349615705259286942892906200334863544614115411760346873296154556276293125890246648931951699839996620733378027736890844644649590909000811776354606640882453077951096888874656672618038559288468154924441202492824699928194470823375332430216075335481162599764585896208209264548291416857628549717986910467557379860120837865768436537287930464954220122900576936774356734259268949413917666348332168341387254312886229188397139095908239374307442658592684036355462484312025896342746346146583044820137572049015397030991485804804142472924243210168604392826599238694894881475247228434333185108874003798803811900780642714378309310633956390965373257723910114499406519490985799385911944769809468507428396751050586203399474459417786947218602844590654972242632918483825963948537134642779236915035375396501486563515548787185222305421609451062434859287437075627097070927381534911335253420310717785397306550083096247668978241459430463894139690453051981838501249564774600724720859614967381038148748329976961645530598185089638151606552031815691418799567582893743043996433025165361672370892851257318127992057973371904168585790164032639762349676736466365990982705851612673945224501187272497645306166267272440605495615840979936290594506370772714834876539091582309730614635723625304123471108699384014515826837846934136365940970489051465364217119411355798748983347029550329338330503716380691240319396958663771859033374824730401229850210615871830337588986163873271182509576894307956867123274223941875943917097146952923604651969252489648571542145152934054955252404841750997662047472720573636039591116318809766983830067804421398254805238168696840077547741997399089627397062064047093824443024166600403310264653426325911132364324829520847517510206927658169923853472773549802441548931601933356400475188009574215095848031805618529340358398400433876699598144061306788893579544813410368921991488618665055437864322141559940502933815757671509518226351255480093900998325785016699411091780005026046955983140601545019272711288379200887028986655180744737222073287634005215102293731084177996476108251229103752481440634944845451166609014202699184136067825321757172482400994190013625608251531749353310897629890409909234693919722155257137716427527354733728481486146046696979658416388329824472323613832862067615083128859271007401005936625939215478228855192279029464392140564505719065190408611833680852651779499259096601513918089955970136776867701329321494621705491744280519621805711578076223179040752490246607668462047141223301896529485780633614440160224167618612760902092157997004236851419427243248736470665843535525803942146592477823079146199313023567956546819311435797417423686784287632466343550224320724960888097476525503703055203199393679050981671910788856852300794312700302676448987341002484851366527031221216403874779857013329585885598769498875274172357164212638581903048222168317577139001436154755126134035355210112429035396788601149928486289620859825534373563250992044452637135135212939871991255445117374652078591634172241879920567418182427095909629248576907538160318460858771527067810347825064939985251605932331366498813416664520199324376089427640518323755412706584533731755647102430980134747925375446541391440916342355207345558152730283065821109533428045588235102890442082204168487040156536099985556305792615973126436476883046724921022803385185204428334613512564295909205408370204750168399065945140259299545548464527882369963616478293706685217323505084150256479259269010863544553080448171829075798180710453998256933882183575947907622538575074495335962778041578380313413046548022840495169565022800225972415809677639180902243573586732426510342245390479305029427465561951048226064388751415391905967361550331549425018357315675846571301094835246052277866473519413052727405522303054705608085386145376318083637351265345875287449954632505232801607118839913144873630067511412296209031190725564276159611433873340308661215522961238826593486780272777428094106910138397688451681135813363527430820770434752647143328138786017425804472864611456652165801464899845077683401212655233584832705053174926788148663138479011151364474594515801981114339968890738502356807344379482794765739756389253056426540862658185970138307628773343453010700313639583343664693141448852957534265942276118934586872820149714440209373642313787812308017276417455619842154700464843197745677363655766684062606921666895303095773209504957242395939611331463702249595854143565225375057830328992519855016948184339329492578549576844184689041153519384607235670327084750246488181858935580618898940788573566236662322466724454973277840814768633359168285264847365000099925493913350120680184617089503965451984457424325563633472389677618276750745159364050296544170063825327826857983170450792136861850504974141177704290505338611340959308466840780784273999605894617340966916446380614943014995940827739992047014903056491610795180673120891521434975257808556054031035798948971416890212973924977486573356435902044067339395993211306411107069949298799594150842454728094839533396182591100841390571837423609421094511971211482782989934429056508750021350696749934937704580882606332500020764272124854703661735751569068690501056856903414069361125660495649968755695770252888626016910733103177601745709935409593327575860123807672273399375432419375160721849878683487637040143966311513833771601229909724938284977398646304859731452100930585749223096320209190856266956420372464429316262011856067129605143967736984567580634633143395370297445386858791178939922112280691829367567162342001180848430197043335106816318412291982265357383174727328926443850495607355843665928525562486293806861484171232480148607901135324462218966735378827866638680882679625977746064006517082713184231784851428949103401420015294187657043189496525942890423345591638165356647724921656612983613267791520191177902257967460976068788064047750286882115361692955548978259559994535091196980356533315844191073140036540643909186974855806759821166523476958723262582995236022664194577247895419386356329274813817161576073834659920118715614089980482426925495121062488005400953580544473166833986799189829781922459311887987019143710441012711365725423110650188827109265598617775544561339133286090333507349672651781741469691519875910867296502507862748402578905452788307856645822363911937831057118413658666491114748793097117700033617635170162474895336656654749286728243352292487162220453873007376145201358998750523985763994493957383101435713456842499905506043224645382343439596254886609404417519790183407824393289318170693425172145579512048235022074416189036509484249736354759187000691202869832364849431829372177792325327652695990249008086256492417135409060200610691807681595241357938881647913307272520800827565746168272246753463815168986537393767989810449026141004134983333294670274052126029048428014874929067304256893453639981992812218083584280967595213990149498737749111025670846234828378106871742893602781521644491381372147164533413516608412569203282783963905534818492695554237049585785484318471275024215254574518114981044902528089552765047058074549478967807454774441066106890384404737504654124933054485228848540773105214781751760773701272151495510469052405236910807924926124804721433577256490942596112680332571764531021715663044872299712855091872548672726869309222272715594536648868249592092168409456731534293642001332030492952212473165018497763802036077937076986432693609532446457991192828179236457134416145673964294352289024853821027672506171687174709622897150194049223903875788136798369557920442581944920813233387019810859973900100411034756935393678214007598619061553895347434991154489757788881261705944666279377555495078941645413437642725820598518860624158878043939894134727299070704615090719194719502051744801418069737984472139375746126559808960126053007263378406441719851633218388392131315001043721104612953053291370762054135271950875822522748844710242811728599777343726964222378366937782652537213306889614224569923597568361093413269076415090772184734943565476067614509422743359380568765124742909061660875308916086770688609137369207611272352291099202541027263459354450285247552752698529771762918952402576433940125820784796202095124016475561685238321016637390575239546839217758650448956670124843459831623090211293960383541402776698817313755899977209541798862370392285851922320083191183989449375588153582732095730334533613148062387852674292719648824347619718562571391126718305799386791783561665492590075962759162524124368553738951950138971333224163924484298191648565326067306513356056156438517881803970217673050504896924458900318776542829429704422607537411174082743665820972597161232666553863858899928147921876125634233472362034809180507752008716094304332792275100181930516320455515957288539554834407250852520924649347314873233478026084549250636021167236009106646630280717662626956818140018109033681824322962030653486073098212663103186263351906530658934416002389761033330799291885579696478303028610738671816457270468594369870162301620817078620478783637181886776548355649451951759041461078138931102776169087774930184972449049767091987667216141781090420472106876268546458129233534261215897845890871912439631532376756801003962388023714581005056499738275312831024250397308084455227946108220520166104028355839785974560502353411319035042448934744187067800019656895529570693101253699804447924544701661664267326228585997031895039959297507253509919530343486334606614684045649380702016515791787780452095481538860561237985313684719017977261344786932152973174259503142736453107255208834663226015807930508505268116529973968380131244615747937149103957463653274645256284927504176364430098096197560389217443792803112027530277685434109196093806056237583579123527525924885816830433028696523763749167044794880782057120600075126133014388517195894966326387167645858472390524242449583685747181917492306834601129797093515868176101971211226158484545174816625748009790550669343189629145362232804345383086188203574689749067205395102573441047297713165082150984386978764479352108055258762431404202748412322570582295824812951251632602987199263206148849664248743256126476841659752370353550020474440448400866560527104070671319229586489096540682065779069886536005526048878390986855694394968330681261994623129690892241177852095665597197566084539410676262879174458995235358824128746896676048226561101824128968661876183284449597648333315335019640323434327137631153923053513248207873285871596412053998484793400908268020071381771114605367449038297492259965470595256134339789107552549976173737598466850949375840497428787391958867406517932817927352827080467070525806040698156527677600410266380536113995467700480387769497352092632819202338017489436210398534037507804338024635041725541397417156936835268927857396767887795813120517026420806002326911918512365215252507565704392127331224533256927215586613698585739406534819485631494559219469042084933160697549703462430023985644567424422485181060826596325735385234094444550906120582197349735777516163279442932498278610553139909377559355591702446192184706561911474000183469894837918023916757501308707980661935314610372562046770332634149455495322608053308210357605165956224515727911853885604805168360755789031314600583409212597037855491555866053799031030921287328107655634582062868193573406781526972142424199376894096084769104890623502828525808133601125108632218875875643491862236734522884100346278743452812145441621363596758507922325744425326225493506128352683001378753119543539899685268281627308529864171657557467457849960259013407885417510979319356746824639662180613221702038373340023518248256180712519399483065072186673678413529176785218284779114579596965924411217543524404378316220648303598678843878332240345389332084038760448814125488652055031119783670636256093318905281597556150406214540060599620428898751157092959134720674952527142143127744205845877543063073911054090825898568616846537752456430202996166501364119136348757441562674371244179568647223272233161320582609019205771708515004935577991338414082554886185002475863925997654458074421451945111563850481913259892204672780107494292205421447686678606541025260222529883896485723448945076900418969335333527105932894556683796660658891537824790899472690399039368957240878871219313734363829551432960604280233013360485054852513183534424083903658880082032795505397248183854421572559025320240597181765707956350929193958147999629860223710061797094069705609295321315774408626494436123112101381876761432640781725902420126022435586632772696333404622622641178774417031557966408915881850602337201999462928042878711306641200558124643094400818138934900389676123709835987791052042641825294222048529681643432179983368066388306753104369758727619328688143193650075046474557046777436007157852554370590154906180429607129163022033703704447088020251784618798781327867380319768158174039942353777181824215680435604260147654384680193949961434638942019133634800283643246144545126196707013388198061997729484941408900653887730309194831514896698000072249154937282531622561190728965322210265665826221138771089740767935931742544318986243735422340814801701622746055538581862416348708497873732149328367938153626412742116223681789286891771034918477712292190323478503604961692791973868795968512375214054924314785116399616775717973088851155683093648057320059170645551715840268903512444686927077746266961510248711543253786191006129521845397972138005192930719960239633133167370608291226223344943866425682791667452800491317147376594878332767854282133086586895206972334547213833817172670863286367085327106170171263261984572394694688553490065162332703443955091544282584883325454909224531611721560363274582958333560303768901390796323242384440836555464537120831853122979753042154280488729364770314069126999882800035653647792891748120778897306612726751725224500249094927915962932462773591867178602980217000695660353465415244142041615603091028436269604612408891566077957867357038504796682381787665316614828639232290823113585848071855452574022778280770130132512864858144957952513065472276673322314962560382368641958783629937643657461792753358138909563620790888938207054511155268137405504644985505821431868202871551879521089717503282281920738123486174035648089254966524209455383264084292958312397068249448018683338721176512190972197959384347996483826158769118908050306653414294854023755780716187968229744443896707953827342141903894372239775709826264963810342493829106493578053868020201081629163990776145532412229393332194401045390669184506413928561106778670197906507334711687141138745645324922834279698744464383390637481045907551452607131452874342053679990820832490137930793160803222627299440607538036697698329443182853532487535039797083091087570742872587002697029925406112721642268790894834241598644740065018682791309972344809587462613068842336538278805605339620457529139786823196811347487525999999268481231259465993112140410343410877762846419186802039334203178955655157660532579640129195353140469462098732108860422517481685954453707218433440386733586379057065085481188022969391553771404156532695586533302308200004972073245067185679569171741866910679355556707258627999565469872521500204591358391022224014383035613149274208806065040493108015808184791938680164253816110916383456746087710861873570999575794402114158161408731619237423559029506574913573022888084246816665774076107830021886949435050157236304377445420505245194316947810248426551258034676302282137900113984120683365386885648247730380299391628556382753974945900095649813685951460650533262366000474826177191478589745743063429771174683522118608116666871951233763757312121391927772366232024986468150046830313694972354818463940794867649948941511132244477110276625865034746442750508319716697803033122608977187360808254024566142933704626374141027010731280028307793455585312151247003335562873142334640046171026847457323828591174583756245650899111566926044852745763670793434524099431969974970212202587285206004937165936233898627629088036332737421921014657841896756573399402605036094914249286521726832738252286012224137918050273171821385698821310156912145408313445675709424805767853210036773709047581374746551727358882343313232443713453848414580340268090638883319321904810493609446666275521130020600708914327481334953355153474778087107029374886228876202587642342065841829859430732725319254507720178385962382120240552103620155035690292862220319536351524823692329194783744809370110017607101274345607548761150364666227835323971832930304413574589387126108241626630245417385322266423090064699867146477916217328212343945882905482532643282488850174447239971732003517887702085697851230802654721747019948940054632671910911470335203679928467631582806452851289167805981163621056150229294196491219029314006823226231965101935054532281739731268216025082325171019409483993105870760775382903105736157092986425185146758898227971170779115320531899802726391215077532803943102643824125622259475908672345101923686454258545298657933108491594837581512964701396006775489681282314835566266928071074874779946108769104774670224890753704498536671207570034931581195590829320040045331796536688977449227688266862665581306943761405040135116582620373600115201566124955508518075210596209079352254204534758584358691403560564543456078768051789014472729733751556706152050777079828013729431699806397429537257700578970397173699512961199787346229599500049249904136678829869151511991386392380508499407049693164125865120168954979266396642968406463108131114448703877419689808749956864275288151972813039324252149180003887365894442897328479196773443306552588282033492085816762337855055380153155300509392318910689098937132326667173331817252863398378213548238429230996816800481650532809414451762835877517663145191847730545450111174730433399400145850386894823422489115946884073621167172650663388083309259729699689899181516899557605433738186834421879887115502465299253933679445613531049670220159839391671282530753561727418609167275128477299349944935834061044868470961937518687503163087564268360187376687349448621695472430477761040166370725177807986474178331465289196965077095428431395076072204458441196033002212074231748716305764364668237084637363255304559495110582692075779239390868636773639533529239144686977134309038598754444583593595751420202974410793143992254540785611143478326397030722677861650253900598442044277505912588603776060307760564128164941548203741253490022928072333503820812112300905621237956183251957355391978347528578359869455830937883688700739382280765779795110871167349909826508910091602128055071883599914782353533035190012292803935953218901230206592962928060773744525760765848863566364813115489147742933936909861536498104603071591508113867503578782818866309563454780624650871950031448107385461366861203661138872197684891914216987482595994494005486660663853439563974729910162865837684811021654192926175451905907307384277203207069745508751236740205743734407409741380640179382388142459174214844178087787086132388967377765988542247913164409308768344262244207415740108824928931952236186472961272117334505985515573427451823195861429591449202362482786185285623456644718421020874938592855007012979966235440772155206176339162597646127457339085363243685338419934290865549938079079141551080174169809103989185693960325913633589317446305634729311675233680325150124631565310285204756387994311376923310362923923383268532755820898206299325983898711051623005882908290333511526469488715896807171419662697370680131979634047992348363899313730490628913901947097922484096560401304993206533624618631361920709479204127068045646007121881312867963504435987460290554056143421761756513384353825537261957798453316871222062023263439817770678318834717082323214163581573513510076198647348039670314808338006502096826453087968442298459646898528778781426774696007709829229458967605517329914571436363240162200111165347117506346124350866415344738302182090397185451369696199101704881415483776437968142016954590136779250351789745068113197978452397167836272084214600735569337731512735474565043713280678165844853722338616207164364840481126678417869027627067583538834439916185991307243526061167494620276430932147793274878991187206064832380422509576558872980033061251232762439334701885764862478404425233099038798457256484672518314668254659569466056507534946519203704981770406103647396874941782936465601915961413729912699330924954415012096486848744589114110919734827652392890424027015512662019325252025517661995499628996350698443663431947498392682814972216900291856578828334016623201558309328243886816871261472957673321053891351756673853800145562083813172587142430146605301121080406595725958490085642285624341791829930844263230916597242424754939800375978666012026730991066479406072258014907235886605825273017180820525228159101468032775490638981521625952445398285579321376383420429488040634546333013700213264196546452446709116565977655800263173077389345731099444312398159042345676360565980905812070440237171183569441930805257442030689610856397311950854714974983600210327414276748059341622712261305565558758218470846424692294018693979068217863945068856674343530722419245115130137716357330341084027971251468326554190256455253472262101631576428365299190155914500041918034127523835739105975350593486415040859973907357047640104364421636511290971316893067004433012035159253739214696540184286266261479920114762587411683894893919644396760794047262145974051847757235954431899582933698223171230567395417588077775935305215468043457726298388932014921848424830450275362919073716647621774401794250512780763999258944664253389458757749501815000063165950391989660010371872170969561212649111144642572578181164380280913351958181871793530688320663567124403814277033084530038487648991407573611552245831915994799515157269134890187346219869778718984295463036899695057230010781008554728622697712289335518104186495270675951753314773639475227130644623657429169069143789154967565279168775088177644591005342250123598295117635432488899868950983184268013401650194387860620065833861576211490011453464931261433644989846391192383707685620169800165966235121856701028352627570051522140223496425846324862633303074046269620717138539027895639689397183999380304209161900770878459166933611453032129997486111690471033658049920771504560914914238898958614121211680428919253674695680124031864424725179180526744915625128591006213157124348967434052421778830129035375251292101280027342308246303992216824838284378465704827184986959806751687822519403448100167005280429129761577838045828888029816974532290400068086507803503934555496167898091011138563370381943899593520694168612111203565871835384531772376267677170250385853994565783440304219465455381002132707613486418543807207506079071954392246686543651438966593887343645028320391497629170847069017517857800801765365122324799935457694975662659515725065271457508083623521157691221303094399775736168765804537485477119649746249970433136901072589032039114362779490197967596994304538980742481917504620300045167271866489786142794343458409005944591594534051286735946254633277661375531231848836096749012923060388295829232031327299164604393545045454306395115431940902854644178219923001994065914512103702381076482553027172079835442329650435468291190352740295294591398555822179087033743214691551575573558740978250794328653157128746379541671179675461956657843517349700033676454703889777156790416679764027699528658379094966843391175560268549114708910454300956016174526853867482140830985854481744898777785669942102049023755010458387775360093639134278640336007558596132470399396082893900262630464212621676412617490563898098350050579962637969785607365370279754766692432703882866744650843664396083088682636828499670367652113956314798024181891607104853382748900639015082993648607514542858398572863405080012005616357811584784243290316982923631392582196214595662288578677848320075380296879288273131523316908658814764034404235178604071583300940112495453939750825627707945400643371826630580659378934632601712121792552768699027667032275023463308467572195154419255112002567815397554314024410155787809931569022427748775100934176174798361661910358210149248051400762086878621745330253027225908317417194319577093390670019611751191377107381890595214080002968474480894534141501979865575084044614512137388657094740773270241736511445496396063268219551238186773634302194905249249698092489657927223011508090440362314967279365515719608836050330807288766701068645246093002902919150116056863813914574961506783287810379327523947058761110059609492301144927939990114289471723820077497327192265432379660256672971489182662403061892976966512982632826557470815032970003746243356097223163196171846658449059487954083895855258251139948862556623166404553560843411421505366944935688790429944297906400671187974640046872153949762846545670979838238455667227911749455866395487870122066239482160254176386042115918075535367776759504165848628428709155912270251494254595222563052707081571462440570453260728934880117521262541622924029027091268224319463198710473806708062556709660772718824044536609792962302269422606418531769048855832442561857722856346064560084342353014208360302642680316628853612950147135512385858135867032675316573655371923902100346109440053256192654257553926989754108225116831176659063584138395477122615620397097820776383963477490198147621742571340013460914938644378676996245369136335766107049020786138493679806255518029017080507397876375964097324616667765749818702384753055394044906346691818716503716077642732292614458877868808073153398236579520179018852140317620378589133984424130963249087436835440683581759956539290505508997179326927052158047702589259027334114684296738260740343843230897664727696626669885934869242924380267611843261755403507704417654729209049615746081758867965305160222543338223921055070690466417593080071402115391408976093615498178564150804058879402983181751540413298426551464831990959438430698664323335447385653107899407852551234396589532636465114165705069168789497519879568835573121716383990477583344301734076098581719914958382466665766332938136466623869226116686860463637950527477573146641450461114750527955650276009467963270782542660425240012365111474227721449013543321725680734492398813814013394336147051284429702615306343863024660429334985441253350112666429928709149092423501336396292038676367774219115723750480852280552348789467877430951299618482445342097522129693819539083915407579549175202744106055989234851969252723776324225897145880550854464914368172000167201291809249490562100182873985445571182345619014189979376311727027558560414047937483008680086164821606439941328130146851597246220672494784396323471452897405762317894996436183652862935533681413935001824624533213581521296307076930550688416937376759972683318540993315393313579559355190382050977112653340257207926121100706637383879816574891438188236497429412590896660972000384856838312920333288818770625149946775544838544209507516896101360456676530499847646324804682367423699620309535467834523338520803032524925194656640636606640095815422910283802637419402197861104839621693147636321666159303812472560409411586042763757508637533870373689210844490153978797329533609625899901996139341892364380969772437447329601883056962655605786604084829461252630969553591262073423002560763629226911940195005242169871254647592191385535849593171464793438185575389937919600006814723064252334700840797032953730886805498412363874983505331859552448747710308710388621663422088147987134922591917049156881237711971943279745256700049422597528579091551456607140269518576129194665056728633483414766501030852966431194812070841327751498924272698373705759096786096081957612054320774124620333500983773262389758490356334429979575894058498592628800976542657533884669111078496976263484419971742343159373377082531275341462977288583668908151098704286548492497459935798552241583493432730240634093076952858515773849566517406689344856565779878446725626577699044821672518953698997045908871737355263276967171321971729850528921461277121195417924736703690167013412759191606218292257838007308439917801726987858409375280232540953896271532778240557866759143992323010257357628767978399923413728108553769303536325903859770382366253073333693519581592068097403536504341142601891459055268308217441502998816588363196640568247987955255180088400643360399501001795730613530872892303483950137105112561379727600352225532114881570472745024419564255206928472835301558846188944208448757876892871589476876440905481085449493449080167767458416130200609727890962948994681297525571861086205479804537841222626118203475725682882330135178414537110373885311475523847284668476247829582448190094271790690233587409323029290000399227645344822377073465096959048436884534617635063462473600938371400910563868752572049139484734089314706984824516127716352018390033095108417538667106570629494988781081806647467956859721082301594670451713144509575848960104261527774092437919399962270044527146407478587396035302267096807034174397023639265731298641966528857326144967359254662176556948138869003398882976402874822156985800683533337265931688632727861947019770780264877478713456982905638295774408506865031552043760859247221926450199754235795367231082145514441638861651426732225319587278517280617807719101671492630310662594183972756742898408406825273901329047601959307554353167768872845669284799709487487135713659350291243310484151247728846137079283967089034144643876233449042931295350796259032733715404952931308414948565941188654652894929172013901464491860699093727975519895107335307555052151207427718114555951703833307210433482457180313813464205460325831038625094857863992420741308288021082813110926368698107093287016523585443938227245813732446254398920107062956938079276205594699138661086680037338954335287652845438944567261164457401723179107461236097936274564858750176467392158504223458937424790058756361778031231192719515704495847195125647084743123223544473652302110091084762252196366281335930641895469476046840671558348769330818169239508750194888857203648996286034074674329192526008137168417909040122288305548488863548130695960082534583930363066422010660006662514472373324081628874178677054949618162876778361565851245048794015868557866302969645926137522574246854234179735361126064687512705314166320744797252608877043287212655422049020620096096825654582594693396015805684208370693188790559509430405314135230885297189594018953675853672160752523339923555269274619893958374714263931318830652314648433841811072746567314122990728848938620290196941222300580824541825287191628945285426043884193837165388859444037406566245004350598423557219657630930936172790265303291999367337746012071415357651760228978145140769706033966638664979629067067776161897749218495541557716396750807228202640239641870528473802907021184128530269244503162450432069065040975608292695393037554689808443518128383409949132732024058398410428635431362680103140807785521095526819459963303722619185000423722469599866053123244026524121758527526537028316934663695795843639330361506457835770125531843856511203815137338038781423513701738309201852355362175319109923706505079325651827247629131588911249569193333519207876326364443120241133956829400958777271524867680885397269276900898875426919651151004223070977247705801228062046488857456815248463742739195176335368692409159505263945319532118234657149111648252193814118553641642658506310867154406885399044559987025852180922005105148482567347763417385293613016828426808685779917716042528357207750755665124473949939721074314836825514766301032514082195646872754178322640730931985038132463834556264393406952197348760561014291467669012787522516422340931515332191911411085517640671874015823272034788311587582509966111009653614653512640199673267101393870865082522405351190798002063193290656111833181662864907533859648783377836378585917985104997224453033394193970239931258573382950814901351505762774889918521399836126550281255594253726341094548063591382956319449782140866508759928312889306691076804735999346365012919706594496891511711614045652512457665884918577582350468848049218325674770444137624195906024592344594291788828361502146585632864174901151147013849986790971769415190059083272358384957935488993798275794958493786262614910868942310849746647259935413118328375577696326380970988321963667735453893253777239214683040116389625577700197906984539384429845728166900687992738957848369487558704136549317168314219296758286421548400719897821696199118551197994558804578567007741776906576715663572558944409405305815848396972905759124366625628563834071817443486057553691399312191473512111122897712531503168447033717017669055970950494178972673311668000307794339476816698921000710750594027445203446376859342202584380352251208411956508509289364584758844888568994580306108158273826346846816503140656453263277806401523970348741798528106948611063893665134738818290611251444395879551326488891957130074061327899930857977597043046498349078053637066191349348037251703377996090448411770332799802734758442412671327810697250502407003456610699547626850237606543407852914711616987547809520971811919835771135066526975559155296117868276613580491696492051327203641587962020182608082703419374149267684196766416718818689618481005210345763441494850720875287442308885331635676028393147416753839216305368083623858949302753091997340366630992002523249044809541918721805769876717903937247694161987777756403286288349515873462537502605045039149763174486135816527305055927320752418519524395868251918254321382718706074674753037873205192096128822406567349412299839146783962350565243698762174321467425594940083059918139004376349599580969457875055266090690822892790105332466246833525790831237355746154768133469863051792341977928749508685064594043908205003172165505015738688658873235345329327132965511317391080749464875223141790986327758355253055071722479504488752976687224993790585083937869744913804915761473773075335412180907287725630787934841719571992617462371836500329126006202289891003644749707260049009887031612595414715498353652300807771634686733651940174553677960897291560514865413648742790493463998636019141922524468594069234733066484496820394854669907961891707594999170276284060144700072798612826665380361353605832201485645880421857909572534128771444515360320668066045638380971545700938469016967190281010882442771451511320133859297361652124543460979369703662334444475742327789639191462254102575567664824881029192788116953177863123077206994089689746732848480844822023320089689545451653712905151208737855416152242940376279900810733153356180318167424966719830139237321843381071445485049082851037523551172120990979362489499372998880774534902334255045079136870643215240296273662830460615246215508506509392349750837220862095823599132747668326569785579797243018786860472061271578696077481770872583884057404461712365345650868468995212710934614460274488976190024752696822770848397477179610900391590745133751620893511065173868744805186294973713999395492954973500708523739389697524188996777128941771208858784005874671715666536281703532225721088822361363914058049364467043395135410513322950529792832218061161345934593733973496843003560927783140666263582365873603584843472692982465891852664935704745995587319988518535685675755734772104942265759045949592301826252911755113045257271834974973630128065016832647801971921058642943078306032050455135720716754781999082576276269800257913556428844233881755013126087622335769988617726832314888996057641350680309487698118785940356321783770448257169467360535336519026162909703989027440787608629506763855641305956362356640876203660775555155737608830173346674538301749171529808351634594129366305852521860045765853917097260759606223125074842227136910335378155055982029024975898788127173044407615674246351181394867599814736505153681141435975145475485877254228935079473709555275001647574303922120332333844852274601232317755687232978130093948255400842542291555459957662972103949284174281786442285956284750457576284370915244510981412997343800191108732281651064352285315502661458045028456001157584719711494795305221493711952574254517620983176511818874848356228951215328323031416094625938429184653389709878607460663643293865426923474651269428700303774340359940714984309061763650207588559817450224325951778590751309246780536654511527216934183872086027151388273979930237688510093968495941670208326171705358361175001096843557064730646076869593371051653698804040584505477013158366533901075420720960171355940620176992711961875229247354905153216637224830288703249254922377867935174233013978767533133515082969348536270773873757490627852132651455943433300571406692596357576184690129957731683572385156946842509919782012186696144922454171881249147337104836776522031892271086386051776254313188506525501017291219593407240637070733715371263779225720657330353614933246067783111489983383024212740021851241569852323713785299135056599390356010995564698906565679084926438855969037635440812932727013375434676003510979742859667466156182424581627809801308840888365692434846096409015788843865863395315809222342800775235606660883888533390990039458288582406070683011575806567283558404707093130514850591038201446964701958641815366115965786103108670873334783088737638075212598374477152759481892900443378212809417205636065827759204252497501055485040259654358607990108795965267825044993299805154463216783425709563374588176747432829362006792056129162565577457644645406493165701720725603657749857303874601550573958778865527145660326120106720817429268025607699580298919872701168925579531579091819403006149575242698545489659756335678380914462256819613574182503840862795877004208705936969723074412453885885213782462531469621678334895147515667620482040739676194478819035379683031132777937642288800918366975429285260058023779364572154139531052162740719340097805759044829469170629127291321398419895031435436110821760068207824226768717904461342205238399525341161416296492937251423356474971236520012989549124611158291276826288333402674794411111749210485561277206921705860115319281566593891715968075091004155547729086411330039770336267876067385147856656980176028603374374902655098944533441270507675779054836907982730994460587898841087876109079224540885344203107649490160648667938232051806864747250811366792243443264845557928935436135307673618806577475887473357765475760231886654804507538044767758424865023359433329084857197660778105604659574532783985201011880597882494843400150915847241805891417923528052680117704921649300868238153273795701244707187342447727205034883450281040988758609288881427657803934870115493122323736255742718015412232674811886219969109193568092972114050097532460479647166330348479966423075263451115331660212005011643512703542944099115151088749002663255693393461734295682338556232853744114243761361146140253210669365953155918614761395595287453772712358413639159245504049088398678537732527872539272823791776869256770003646862603898835748850064195551457094408124181291296829651903245661598558046072457358510140535035469072844617386022330623546845017441905180371534045191244241831832966604536860736509858718635690980851197965978324305038591304269322819634322243892866529152065022604477241186264866588127334560588072274485487833382868247925151309145791798383324445498236596509729341417754795188889242164350292678557052938663595967770335331480793539897147781524462313471293317771886247863496855119741987672906748150041691420037936541320829838190875662531766363638773522413689379318204461005565873022130536554253499318368390012530002763920762324824726404787889859616650567718158648654816940206757267747557684477511792701348256469343983427030542196612619521704529961122516060452965546804407564789376977129296724215539817091873049539694994601220042253029676179959470066567218951245408977144095282504487096062263650211581785456252628116065700930939419537317061162953720764737871783876750680919758060622597885797182116769087741763969591820942712367208526855944190180849307966364603724288920347908379185945933953900477653717338241804553254291703359503259542647430664015322692504217005121855112458663230933473256719048086880085239591620765647189459237470610465314153263981813256083928808632285051829471803406196652874116869170556690076530711514319297472516219508945204529171012272792747259322805512577931842508977265973217675990195285742267160136099599236389735298924564546339156253473720518953517388593075619563785830352588663652520321462697294133169868865728999705835002672083680451152218737150143699508545909417095930413436464874950104892306118491581503793116268750316671908610813060199844550269992888749906265085464988913325619314172154506204516409513915079005311852669850981594698344385815973798481054776638815027789613811553506461470898448775122157546404401574686231461256434416157178961799063299113895331039416251494803341674556997899359024073598742311534870057155949991770545445164322493994613881937938220126015963801792017059368761556807795159661596731984071078942368143056261867849301093867336967642686471505329008173701745681068428308668551034219407082651770184701143843750991189269404558863247711303384479265295065271601924376680038513839240823455506052125762679568808443765629646076507203185697146783911869187478948207247303674156305267188536800548466407873642671585256643843082516264502492229965932990646740841762077222839749317307886357781601860222285397730693370511440751540726863996119426470205701581413952894748289244113144100688063748792571586310604389588578367111535345056427356527145206656114138195518218770300012858656606686741138877317842553455617236610192177255329874743878043969200486567949497322177457262153055902418407652502522951261417107883825367753952274294714761334728691256921737170148961449410785739100887099624526283937386132991124608898098444854909906201863401613652993466996272750663566276776541742013266307960560727194626632268539920982427289509753076754223310540691611464776184038367730187714761619059625384186050426408576260970166405106681149796622199468060468933644197231564168367211053272314784669828897097155267437877438073287471630118974178260570808792282901551248321213337441225655879013184732550740263045325887057396498736059882046253547091607444951670304819265360514986697632330188251209563432470753597422373060245619390596957624763686213472943512473932777111453861514657640911677205191544865729355634515506705304640767314722208339566493567319748320522725411504589016180116051868011045177702280214881542867089802292073153908850862446781024034643892041718613341240340685263135714773931566069590392742152720802089053430904910511581803992195918374115149857874333978904596008160267194596178255243429220813451981940909937801875281199237710642984437812475763054094049326075939219188274951027146342746081103206841048013094385876435557419414454665358415583482201005789428438112411292637487135499545080057324782806183368553434658296751841991635853658513009067283291795439101418196580667543820214716542893336604264020544777512056457104725502261085065124307680793862764600589563366185862794069618737454721532663625836345202609257074949667480939893967975157683952674518381903814276508643372549745057600790031395993096434029176697177439997287334511242428213052181781610761275771085496060702553989894260139942349104263401304096829958506823316687757768966570289375118622362212684555007768644242664832849271062862860973223569999666188993774575324117215731564875062338388783916174279095925289587850748538843010215105685899594130868248960712528720790183836071682215445812073306680834618257655258495753620129149643479463014361133698852358106624684108948574110665330108939191645413954035512930965587344618472049964647028065397359798980018917125223134717228747593515595123223419130838605305006016140538699917507939346017829543972127263157244361501569511572087341962082453222846262703154234591834962274151283592834940546869410599187552900954143943251624837240616921623089582197541515834781322766391120423894302219466137891443825280595995207295763415533051585198270368306865025051644010843884719637824545149373868431849935466884109694429677095405962657414260890653086913188966052284530567753053656647997733421429285131463059083891624324545988957287625904284810214254917655566044822086285519666783147766654064733486539888157238469030847541898865222004423856724268264866542392264407902744569135850154866244236530528124712848898241586653243600143235580517624554864691661274523183670092108462176887667037889950784769538504802092590079774559834693918134887288524466123120269838142740271330034534493939763391663038868570963989333299315723770243853507468178537178048184409249610240074151830981603876960727036511127571066493099255464722252861708217343083284737584031295214086052032467493530341158429098700874194308355160245668491180319484205829907616363639383215543050470345449150343063658738451703039380410679892579456538941498028759286207042313749956521539090905188461008488595447990175822446800031219652052622575379597883382249621299982374248365180537041680620363364279544529224574593389721459226014519629780997901867253534977321485416706071809948230682453543805937600218184242340734295203442546865107440974203455276032652977222915824901573664341234788060454748163568507465143431274042866862538885563624777737913010640808639908235174115855943882770171530463125688313478971404108610952732647713871569917012149916805722808833014798658328457144245388433250554730116471703545432603940445501288791506759896674396669243526692702840387241051604023569373951515482151887594690156003080198915563676613579500903295159994617794053300834637975551622214542654386718366297916080729703776647073178372579535442569533112018495206174778531920841647185558272587707730111754534447343523952943493222856670892119071782051541034830602463581661504528875882033609991941982109216991325270108207737885957948795391136950708132091177355547195833676753076768147249711324214243764489280973672705147390022803288202025537988077870406730503333814929959565120232358271191708618061614983616742483700965067868432824892088485961121498340084757293453030169263819283269635746580752254308827197392426486210333700233910310674021769951112323875832712480075980637133951031687968374681148362406580002329296388672412333643242800011530049361287792944842468045876636254750369723455362746830810245049582472918705766566030787629155029957455772883537453220756123435617987431227831748158594288691174087354771662755686615668111527340795200842332060139612783695459175521417025605515742892235927319608961389878773626803682555674247339482925496090827356196840704295585179978937971813587167219347586179872006731458743588405810243082540860796099995063217481603727704598684121157779657857002440462285909314747499944047355977219104733218166213178495983021632857871956487397273345478526515113798224518366842535611226158783582005185854259910062282689325050553538361947326643368610637708289109077287723528633449772213176749415036820481666789066807393345013935500748386529407839603244358013732754227593281905581555283222071436977660197989996966213737860424276278000690232790447965041355116440173818929552423859473370826037925144001718718786745080162377609884079566753606064743470329210873377176819317485027475886384191059924737832755021749438509936283410016953298600998384786812880604663482692839294375459509174359365611540623640479671941438118299311275499862317263461144988627317439054244786143311465260662761097463939840267911737505725204035760296762787130658205821935986092975834417640913723953665406812811329637417841270984894341661866006287150247782792257875232392638349845001951196446974345891721457032842758574178195672602028587835545805764516500085677359686783639740683236545556072133056795187290336809370649820557386562457244457902683224323173966302711349913187043324202121822939303156433604415277185340887294724501721087013809488338794428633707964232143861876806338573760416423888343482153446199971641338325844684747794249755210601464669594112830479968104342773772477122256135391015154363016090449057857816228063194529636472539620699778752119287875134581752016447815368153611398254556444141426018008218267775998753357869731040657220722625458312776116683852996659698518743717872375990119648506075176581270151938068561440641690552566433995747295781848523223723952960245217928595661294027534324243627670199301172928713347979225057450752330531749855586373039285746608666504681060207623148703336277371200978950236244277910345817881566675244766356792624974813466376236267207170932195424077794383583293735117052335296340717104022403444540313812679922517328982983203573689095382578652702853119970494531099264239013651475949435677746516624612217876508139404337876532076531670660974158256236527304122693267769921508638441673037828026852883484228759672802585222688869003599186797974911010767579193812321033366710750857764236806092189557530500750304579933229082106967412289719071571544331228114920635074166130442023590124975719062328469380386818895916204167707506237975948923229960791445138675195089270359520372893677669319168900145909059167575146883613471141153175646385710948483674820671351901303614024283264583306744725614033866678200411824762474508115780728341273504730188925087669432938952723291991998442843328631527488111815717138283163310387362847407472434526642945627411899316039849656449361844907883980125446957061650062660102751677166653256466483280895147591120902416918828728926659656687723783546535555275561890553100856320746780794371755859117905149209170770624638695580940915485676512559327505376173906887680692840999775877085153500692083792499093448031168569006560742890889381020657581133346312091709092883238681727551996840975110429490345050280593138902827103221585085379326537624958021029773026186353547302646499097851303153977951431578446034060322877020103682746567672960500189568432138473136035948409703650065494182357428265254714937377811575438796290782277407890168706480675030874154761001360669053118748109421165732767252909373659782524149468485175471225003781250160508833727474941925992207659892328427625089361660248238365032869819987383347215806791140116535953151163902885228515028996999503122303421006826277856406352015543838300930064938612984836231836862469456514903158872002107645434417907356054514288836274803938391982724590787899632152820882075154360976655004539427022332743121389029437142413024140566118907237847631377302139290255426481783702162643985794630077936795378809037117631194069082547813188414139776145665469983329213393161391553629858289819191372344495322928772289309569446420198836053529245218170852731528641402769160313804334635701648683282666005203799013416039502422812961925386110111730544544880658573897827675023347419196621595993501418364346361370647018317149426486294245724816635423944547950986583089662413994156135408272024064768509287472709549624810017895258370300970520993488661577278573827316852146064559985084578725775347580839623068179185018378138139568825779026403073252943270985203577188194533460803950794119591363918306791706408187666479435232171772148789197986341825454981863949857940272580967657201459714734947407531592198781425638564527245618909744182780042351511817620579420478183872567497663462611045463795766791186749714774726179344717276691419598713560242321901140579829696527830560879271892494599775131016047947929802996269846013225923903491986384190886438540678345384164647714570087900371216060510087139750615046713058732251732583443887476936240709787725807141960092629098640785124538464855533335100625766999097991322801774212996177590099279277525718516251418175646552829370887899742727604826524606044103007990744460561216280428809723639330440556469018691954972949251204805873260097918717836746098358036831975005267678635950052440747870345660290545787512310941045064343590241756734448849556002033156917080479480800021815577897647559478149829900652094420582490984537367962506162730635000154801625548654700632803478433033726600650973082206492996632226025069022580947959514710663579289976517481126939590586333408570648524435088857684944281518970569388540897911877469478824871079702745426727354011109245006023183214440592867567414694887865901482962345252495856350028189632639887478384460668535125969968423351922210209809451124624054212932495710489630436830097289767165379425553482039997588835848726865531287588143019503679444464772316381692498118788254726164268593906496053071082743905385891011837838574524870763560991323343121449265303867562836449054659970249635547877477177340133717925149060930612724077492451090042217211781924139450572637122497580714538262440872379482079678819211708252164320465455040538048060969910543309583469072673450710925654593102534741588443861360000746528486783323384446632940690932526573105483047089692029937179096738584521203162122792640338699995404697343335522490408701528359346402054546489199717482187892220070400931297692924185114850195140187183503573078565590772042270574912867698528839153546772534368896565030488186429512763077364953494527076264202842623804859874276563932165982206645227367009446902130649812877471713013875748307603138758852366795635878579636681583166196966798941939697869345543581021027091280199803576565443495008398333348861221707077996361670668016442018539167040685197295909601340421239457651915237654789098183342912508430819897189759107134663203654531442353932631253922279851921893790467322055829376664217172248898003479120266579469964852947685582358483268755129891683842755248717077369393315785276722790383321012771154961832113913884269852510292002730321622440621977851155429016487033243009653201438874723562883477334846242201050969688487384183164398120380799411768322879979751512782479243484932890940903222049195312786998306919136909841628397504057613805086595201139365755042939808462941198998428210063915135012851975071806790529539315121595553406790678531428540379541679590439360738143963276982783208588464826179212151952449578937351284850487229262736500231256398485291608646531412562495704310207839160044829876710230550431192871363313990379346699763716330246721838118379750496275969000716670381761782732495029027249534618835896667549292492858352701767210716433323629056658650054108648071323980950338622925295051651937710405578695856334349013836950377252993452524460904015222144682114249528336130101747166979197900950449712376594991532910656770672417678648789562864672173351662539761248502526949416039851598434224398232902256703647125124742144738369330320293766026934993971436895206308371064232716383728351513177795339965143239591545583359250124818891000763524663229916861123091678150393701722369952011440887013150903229388135823781326262337042744290926392098742135722497753322059083046982908816514125018972873998069701428853645327450485103094540995699394040220772160790082664744205403194048968833717300868436192535094144268567582014324539768665803151734931716882833437345247359253251550368076023567517414881041244942379026479906616151404161199102659717009376193581954708760004558756404099153727295207475200631321243897233592933923957107809350607539416412043662019060556921983098886603771240726127162081884327976425145780744484583869536531022666617171158613417098187034544948014039059290073705903284334548643846272216407413063595228431657736246066855480529505252013559263587403053075094366643944912742204009187666371832571285230047591667793072537344716523791781421689190000779450525862698479790927036825108311523678030073161048846154391807133283364146823559528803058691340701936514498553698014853869461329568661722394081522433890617115295312187753078869214423114102292667225728334032281738165777077935343885819144984446399287349693717188754579257360214488148655511449452913810599008620990082270333958402345663774718348401004914634723342777969573826732583760763195050395458902412364131813969720564718265698244472492725326551019184595276928610105140516017958499966837281059188936185968774863998787845314623993047963657003632082584064259089393871114449723777885998351561978790271514699966035831034730717747590135120119626578457717217359754735442066508363361653299711873422096006225495094678107136527900998795106020123092729161065431069836707569970697510283218912056609902389711167897665295576823287764452617445228886363351846900911687728004939142683778286939082055232489998952746193301303429345218894863638240207367905483218661590026492925493702589499774098889389294448558864134394090446037899185413994817657767295059118957823383602719268165795675251712594472013937914073371728674003548950631914879822445932899239673997460095725150404101015372914231030898208886448155764153219217666003754840290714136833077731003097166421220547061862390607747073916477759211069260903673810065745098301821237446492624420257091235601394861660027575969033033714346577819440831524874007443122232699409862927815764773873589984694155343425690526231653718030640996653627952163276669178146641008055306336851538995180547056033212990309267425680638815771250862851638506983704557015333547579465145117765268428118873534780284942577887914049303646389918805414092592669539128636302484775996551064719029310122751220371151141584894231806646116108080866289107592751339074361239382400751130117366074548583256254465252882409261670602629860962527933451303534556073543695087621921879537240918729669113673261790604918764318916463304729328944002055685483348106149731518804875095973413219998770222841954285988286559851203836513524457453822890806200697686368564091409014373519184990865161098970152938825874956847053693390546892798920389307323964841930260247795219133126755702496137092857713903685696830171430475811989100097379205303203203427452236021538880893284788277956422314302337870388694229482665844476284967868749495213577983550839045219492156461255452365025269520848194682061680970335643248306814841757633969370633455875977413449857289512018347462727053313143808079806205125350625377349118766909544737393725278492081116656580779318570360517986120265178413539975380602342654438078913073473570101187779048466383377454458176854965968490389886882260676138184845290650173687470665278334521538463798766771830996977638406853957212946593533371989307150405519625496429804406999933037047057900282124493836425855238444873018552670500563702062918925367532017432542261787907009375555757578991532298461406319125555231601500044480934807385118496324737571126457752755710192865194943770330151716594233333365798973844168579852231470309762080450046253075743906196480987706868477153829556416259996135042791181701973564441974102008702446712016129539754248092412165177342765894326858991336628824891110365984765831560605227682517948655251150938750611835923005362820186959348455764525674839441957011939914075188029074128104797835490722140339205867104886699303595935132184419912926082269379900510298883383902131683190400163001239117736108506356295321489825656412731810580437991666189602406555577674251539286243011657281485521515413825173886042342749149195136457916654487718979387334485925599078800479569903600664814147008267707344868691019558278856388068367519423319370727442535379791550277078979068088452189234323289788547532184961362741966759469034912981544717932677504760200800718500812877680337523166831393717034426131015151812255432743633327878882634149491284897057616898311818007847532241815542366743955131591806731552550430826846160211413640401022164623508937012863088765557986131650283179545910138391388894739180192630173486451286485471323610296521108269940831005440962134726920770259301051120006528438072334180712066415243811162345110249893069960237764075798225345614849064890305242851829239319619480962186049070424767436793241148755484555787696704148115027245896194650158748453432788637708939686468280710574239058517888555975741059338392440653190769854803611030065964442535382469130169391273489213804776602005782727116875815036446424055550871121742258409312288721354876355536695402708948518104261668329728869721265700614362934349024821994300382297558056950373371102428037635299835554706462182654082564526978686253242871362236561766681235033178739370322121324890359019848733059148793803055956096551387108010041434358759981834358040261568407679220930299148183411975800395790703263305599066996017519460420827508686454872907929432767987032389913310545462568240418817979310143550515522824180305743952291903612151207775827740876166395632277329239309275411064840442371540957771542539499604834582144192949285483635090192856073840592731712147691344894211504207059929117832743325285244488411974701249116607803197975954146539954619756457977230298640108292188936014781602313646050937886423316421032491218749716095722155572877426997819308173373496049017433220523808494064330964317661998670950356182117459639025458946670909133104274028805545347965334496166863216580453562913581461341240578337309821284666986638453513083405492609958860495585735823021135262516240431186168193453586855219730003871227656536463522236283226888128046373706313021913482512486497137826249217877509895744445373191673152769101455517998714093447778706971349802156239558844723485120066205153006719884411753279205986988872366578993036681967599214912062903979693062974797306601421391220499557624245888899145471619803289086679155215203168254738793577579689455094331911128318122808882711369552711678563487433035104993059420718147375528898743984476546318481681360399018515703931692250318240624287077172905785792729311651041945453348883755586918085892190727204754981878060549153168701361640054046481106435071716032442433741064782639796190850162578891239043001693078730044466580455139300450640973962427385544469427272533495157066756930421441051471127007334851984322725292643930320635793592940350773795307075949975548180649949149082636475803829938955601172449077165358108167724566318724947566461235759425583498206223718672884709697356738919695831011149677321669716471329006729564688239083748258203338987561046975810423233827998535914658727543675481670222761249920960228078989785785741136528487420204548539934552093603631190261497891432503184839373234798854991122652090487202078680407817245221826861523613765668645669853226024440510188202162477913463474109442653255411961927130437767430177083170662303429669595378194031081042887325266397553952728528670109453059059426461490483505069265318280785693711738592492155996883962355715801862361324958715042428294161530647946667235244307338530513107793965106617454051583617188952198217880925881271470766014032592436758809466168992519374365802304393737316121632818417876190266951518486573900778882282282996263154154318113547033769246885808807739106198316813634067048325614922010106091017659934277441524005334453592886488864290524814114548447919197985079770495929505220989519654567319940364876961654254098912512605184867617062325548241028021289428428054856958562185068446283641896819744467779125844184284763991398639003181245841116064598260308090193469289912272143550667466731277848651168034884318497695097501451748929652825284440595252453430406224104417570683679553385101978890745725205868814593603255078475161090867212119232017041163744979711656464072291769664984527105975793177288193683947153719314092108828387304604533100115143878537504472282986391032284059211670417452238334589195195406743206779540131308038393373648100057068868579736791955620679675790023633764689254709873042182764567028059657906157101234227497873220851562845152921786885084451196332291345456985758208376818013287220966398609382058771142384768758198691535286070785247155898987184748324221491253916137974324998214982920864675016760192773291574673624295642662941931642997417500566602012058116817791468969494620893540973674687473855991254665657910337612721846619168291512261507860485957158018292156607242135166859015970722928174153005403664429659981761429740714696769675407317118480823480918669948067515187653913414635861666637914227110074023861220021384012924078732660270369944420339534607857079995614426347778090345506456339352901973696095646511067290810964911747145260316102056285507663829187040584293212922741012513837896531887956187107474745138705508688880256000504043242902861781363099169165774268182900871648717464940583642945540151620303484331694368052100970112016928346499596978248989215117839574750738921661948629728149711090620637939185119729119309499164479397067768672266862352181221138797003728687000189748005622915922836056532733141147387438437885222997798222813008934772256507226834045311627803911972015448622503357265234615296787791381057952408584546696613284431451966738074691697185550514482164052533635004113768815145408732396541332833345542908096705133400460033980331472769646081077321078636869860899361987949352262623792947854381490774604302093824565474512118209526921447983989559999175410884569409836017024003564936472404324214632411904384992456022203797876669955993958686710223044099600650881924984889955643679559033152880277643658601756992757789829217716828309168291439215763738525884068192615491780915692656648622497963563421311686945292001437097824762757973136449613742069995303737235389009816234141879125481781969840308515075850962953207635913291494669261732325622605412443263461283374990458413653950743684513534457475753513587459015916860416772914270904068783808047786523710181181060548355493049226929537625193658322672239362381707707987303768454117880857638396418397415802620019672958373324836082603035377773897055663295933095525614987116921753331651927581298226011963928002720152143222005633771328355069382946630715119575271890387646741140964137647605215860534288159685749629301212195035442249699189440969863353691287823178967264507229677647688965681019111436854813384634499703008787876942332863904341447296544049479096293626293974022664920850612021340010978959158064957267777461512783163007265992133694167478708506214768235353798367643421622985803983178239016217896368699319116787757112235989557485825900492477654542425990014346511046203744617122061757721263662844679877342474495375108675462198331787430107677982892245903140920417712427674781350374983872165048665335568620793108990023484977897741324076163898264642681477633245186252724473103512641038076397867928432303809055916887329702518781085586445911005447734143668090273934337260073608230094807744966864564048149778207236816347404722239097232802858945253064354168098072084918028750414374925444106561013485286261362204723207131422822391556216022970221862419980497525514366368855406906334578854228500762585923714173441231032147901563803994089209619412069153887189178742913780808081589927337591265549513756834208830800246886681000120679771585169492572441390953697246490803323798970091722584645386397952142217744449804317356377697127902841612175626922823481182439379138705434801604921333153564467608074520401225935296573574966780889676613782799096860326685828460194708124332125607087235792513964285691449900168367617974889630476558481733926501097557852713097121098646477936640338544693313271154981757739047465441407912059627820902696472036265015834535711141616421193671546830199619383427406361964593144074651772931311588833150313203015579899691346794643643099424593877569284949974936797418999691256269516399946880090151389093374103962342029629379177342598222361910695818023226262677888373202591301154994649646444546739597690833539355637244293436318433940972845922866120398606521616527906748285086750208533670753102226960231910819434353832948288599709304054651376800585047181858031532340382102479446844777336745042743824202421501821053830357380265805944564333800294056147090744238594681338004185606934577322656960447424398457230555662829072982392433980981179360782227785433507835801772025008013256553727473369329742233740435298407983960001918157833050748937892765865700156076719202297512440051166734662008459548742981442081238081152018116816154316271743879430975598228645235692187862124517105059433524596653782893719387044878206963895509501133680126199479102068025128549320103849385990330442931069535886549973673456593328291259186903111843809950879227160218666035302517085109293873482045585794343147709431204343148147089686497248382898608361998599952384761961987622876039850046250207639240673771162885777735315063669755638909646790355060088371564781551372701830706535085588093290180790593012418457555073771435690040859294094146202279383291028732192728231908579360694839780408475458096656559734810603928226754223499037283343423685698435161161504355162243904275651399209075191450439663165709736755158998307875061235534593933364377228045445290160543247241056217936155647427530753243132769028546566390119987859317929914593819207653335743063859293513965941819564828348678186882961643798644747945434065939937081082834476112468867632083329100378913738920988555553781676623787638121015093379318074288114590312739223803164185642044951950982435631807825831986363220802494866907705072313322820703599005276643469717581836604658055465526382615764538856320638470684117036318445426285764386466464416016371022932722356162863161087025821731462928493415674361260158782438137164284120160403251373050747925424626607938453300248610990669371037377338178151684598131735062240123016168272989445518266652155441533909954687670023999207243026263294963885598948531092600053525411729293452450542332517127114928738359653813276025146416845435969160775080256781408090951712857753568834778331482524216653325405173826876359178595220607084799712377319115743353685868484095004965828772233977871122408384520879350921342229095806950110731010647331531432623267766737405750229296837892572744346139114549344336422222498598144230904406935301442752998303336317960922203152754671157119313381906006923712147054514022939795227936234273513884101204387215070318629019104853888291475316919695994369899026157804899901467583448057755448680330730449985350679578083192533290438789897096113331117505191028502884107706980075461556838690540983431017939867323635415416370507000788249053391281839457182740197281806744069696010014935557807935261274502607065387461026913187425502675538534129600379136276612582177365909467981382061752310089430004044105813549099434809714096845972639825555219102074817875397329406895879444307652561745331924872219459868126286807442435450641445080440372840149754777364189325431200300570156202113564448680929882431069051742869255556471092850969848372161939479812305725142140453953164951418855442304277291248941798493755953328062366591113171307381883245275920006433144341373073329969048397983525138132734194147130653294255978360111166297790087282848520911269952735933544749116366183108806822400998896733363386870232940301516484026649858019041622007092621573334066069424613430776971361764764901323314184849785136245363320914205111017801051191365928207346803869196231798014102180846902248393064226466885945260150897084036770281581280400262843655414871179986133452678171219622319290861953008091650567423442706020266653422706702944562730968362920617745327517761499783623257838419778162882323306014353426441832461454699196170225462326552140348019055480002544631946882651498028564150384497642600585695594505230521504228219364751083912702674177688661845868424225770117324107056930114898427394618330100871953922919884520009777194249648739124337377105040918736901305964505098317559181009818109412265480108854289540103793372272080709445900876722513866947165288088833137069061192732855007261452870086802749735725910639749181166285276630169487677168535418395194831770724840876124976242893212024074487731456646352337345217052131640439387087401443517690389895626810360939142623430218668633418887448786409103741579120883920599306710960421391485929904597714538267127714665331256237564113205988993475402895704705306785269493179666253723182225401516459843183508907977009214337808557740892206468086275338981740719881153469414374839170266154025930375452104953394351912121790190875954028155590319095332291007889808044013505960221609272714550040650955603072548111253026419202024222986228234251512100806134596699828421751063780419894288529559894662176443909541932868240280705465256849625991386483475010740735763017383328060520829240111502256994259817724364028328432241918780231143973241389404355404072904483187335389912715852712060850416006394624022953695346818319953087247721606284361826079796694493363657643134672733651468963633677352614995727677139604857672110461711992620274450457623499987759041330967605512110652213922331612215241138751647977912254038244167940320675989046292882774476681094586940091209288475200776017559481164250569009823662762530193755088053520158986916213694549704283372969889459778712609107612662211276746777670033996959528356222917508043040884415257492673217079558591881717137701884749236838039054073972746902063610423443080225900314860932056914905653382857611193634880262394644742459547975346662193906877182490834204491396464776155954258229839380628905582127172264815886524427757567749620316475487663192246020595937765843525396233262312431875125091052003214911401469890362163051567010295210717477863191381766944033377225332547603698874742089336794886250772097218456161109360236142208998835463758769173777244502941034508508358117313508788124216232363774373946108995603866398916751785054676524338359169842357601945117695171377132653878291982655231909091708776636583477663489600869138242193495025300038869713571941435919791440976645461033648888633958526148637335217641342393425488964422075235967117658108366183165498156552180400388546078280305100218628655487290015627789853997019866222840346884273722013476987619927044265577483687691372978180202146788602268380245164212599164857812595112024384558191573073055033960398890508739424292605397123190065979955638062868660326424115565790911009780999838123306572680520213201662218193424188635865481635934100249170865040003634603598381131505969020502107896837084984894884765023669094075364840669989078393609572981715071169322949114343424783318361974794294353871969336350761531961154402940316201483919171570273934089208087250397458987068051480539865579114836205426979564796315316192310267851638114919936288957008683074844731185781433119285865666026045740281965404425942130469033036128566150768667404161155293215648619215488557307734593268319513588663368045250577756272734586997381650133330323664202752637071259258235529581984211363163641441951540741189249331639283063254935824069065673077275136599592561884901751146179979196762058444481108781648173867272410550387626704976850804164032503029869319065923242980237309115654242048516709379767483875859361508037293591523287998941231172665402796188063425831720324441411441426587702273932491197389245762994399383202884471389474371713703354148593018368531976990042202392304062019441568440211588616125928374245836402594663322420373468039306368619759505986568414434978101812299435363640304538061664154575127144480039988272998396875272052833858510820661695334011439525848586491579474939416899303420170988302928313891012735828660318472892654787470645630055350467295338865056885642413099045474260023068555969507821232565472829842870888097744288333735995847766861269097710915538982804536870404693577323151254140643743258439217108475665699544391163418007833856477802236188164856995763841559492460256251305452986718361655652825132554569856517755325936847563398786151873671568585684686786947461838774940600990840514627659283371555880002760440061315816104191036197768443822100479736933990839779196361520319690311372943660924516119227351231146460714611196028633269745370576121554561810797719798403938091267519167162786755334288460949475715789968095702902247701482857563349113335768931238441432800881157526041971967747372043515797868400642142200704329906652399922162914161611040424476053783821505780776544948438578369498359538797985673744548285214953753304423390283028600386665684071935637830695697106077818781304760748600186894929937948253993793866767258343926337398002896129531479321034550890422647138069737153849655646845660793704593336927077653022129718504892922458620441698812824353462887065869958517200599257712765973535055352239354652259779589339994013585423932180424208666737143476474228012068598090172586729074826222916455023187360275328360584230733289378802148219963153299723302431540731963450668530777609008379787907870918236014630807830422335329769377436040239556688428257583726387453846638123112115763882001623957766192261223710592047076315965445071029855552625414510259209823750460752341689300964514898045383601320861543986340093003623746773311190328874702420444499781564696989762189359331347054813179013729128069684521850467670281751923167318229275863123386171107613602819424663627694323465021465769392338163175069582419187563212212203161470623648559067539502580695777007052133712957793724951822654816887803685564239388249993076469069610854054089652084660915205282696075831994515999423872462591466352724062825930874277449939664702964772006313396416332036214119922153948462858608557711740159964177176040280315982722708713611041188552816994412251157994898526726381219227558383321090612020749303818151046556811205214146345116462932460524417310494153161903203834995912281040581143165917814905712224735051922198589754578929833970276203843380263038602461163912491265582756630666038911194138015872684576349896848079355146978835033331271181573194557145898837546847637107959479688422467871527192615076869989770297235264980529419429706154387622305399490854966906788257827098181675921903361651305406108094644230260816473261022186642737211531133045822258181845548894042702804427959713933119636424822687727241254485172128345107995081932600334124130479472413192932848841431950630821003300303847967622245919980443408298921421823558334387237419232575341771091944982372592552992592219580962441359178481955745663752845458306101798864248914714030778503023183281362805801272239825203067503447627319796824178752559351002096958637935272752906212744621124038766151144736792610786337704743682149810118124078926291629423724662672696933684960328869279279408204928926960308545848972248452932781782735672196842732674357796638454729071740796945990462522295102329440744543441690122394230604043214483868722947929718900555849658816328003014405580665925497049459108138680392651142563090434872012688345145250290259127151503116759163140984241906420090799867416248117845118520083608987004776611881629353747420005519355112736853175889324050447494524674312459469980082501214678128901980980705067926650906894422213569458459015475566836167588596295293234172603416087502414309413673019138079399303223746389099523771537371441248677889244183232937502535256812992914048767639945716811199722080633315877985781211532959881209512243332096862226205531135762828600883959478003019829035540041916021893267055640003474862419326388913173250688365427305800863507312643408991340135530752477908930115606738468319464638407135453599366371941311572416554637895143838645141395517858665327934704763654901335076997551329211374873356135871892383315799596257869157508698921265425244592034530427952088948019389773481987151110581253557969737011697365279988311883163065954353599538682444039098057045126194030997566173560975522539989081286386711608639501649656597939830957568777557039512072066621634481067045078139245923773318617964162435575537735440701104865319220193856917400125720716487186211558123060571876874894261520642924627635093778380083349950885299572789300931615932645397613349903050862752451959116736801012539424226879113965748982221248439009525482714343154291408192951364412587647170906757339257555985366862079740171705623855541778134688405120255746923526184777143465207040533181503188879962445551427868071614536849518385348431456400355094836750196400710939841129085859943324561488778922672671720650578778467556481774694467059744974502726388273940708587805201572747694480137642089707811282544735722891710226283412320919033804813248974755524874429460442436078001937586434139263393391850992024088258594106071226406127611178094842173408320465894632759195192432319489375882458972696499584626352563278675085622187427586202705859179544210670823359325329590709281362949514970424571583699394586121147099301661593757682774559174845176854407127566386800411289696716216395416661687508101286671817652846099013112514818539552885394341385437886256202768694218812912488600227146250497843865349197446684144165295584502314210070588433511144308377264269046404741796183822927648814078749584513135934721964141727782119708198197829917254177772942201135708643443969746004838520744742837961148570026440299620328337720593730899681864414158554734330829192972228413139456089253390712360816552081121175245539836113462241452680489336450349115563577412932403764508167193445965950258399687583695381085320466814349025422237058389193081383363564381263642969421371116245549313671859553173954138272944468578701056634342683784861396626330625601015195574008985956146383793007298001844639943756910547888335425937982995667735642980323665857782068193028700102817920194563736071908944436897926797622671369255407837808678333464412889601505792815966793219695084860078585040573157714126238563542307958000373058532294728955200882090881453907856048074030521920431974212240988498982822428428683422966863988192038000092950609044554005597502718949155885297490442011346868398983192808935342507370464402772044422852961441617091378632389330699052588841877393359676553882271382720282526476488342043574937798017519674739031523069605990536243004753956324933290840634043484924845351643680672585714102392026956612574666658803547417464126056386488599502252390497226717566229248782041724780662841599009087786023410197678973226652198944241045084492568891011954305358288786404965554342757648028371369403384954762951987103204864671999237310707985676436722940228751149104119270625106814433838896510810803782052430367342862965776387496851411036812322316238004830433679384442072791988118331890207375915420141081740662759180664816336223747591650472474576851011231261957443516796902870901507563512905081677682064002336209052912640886218457714248237434885253431982336665167551129977721006016445721679494703988832410760438828751527690430947296172424382824492959999854236006323147928422484950728786988256439485473767410324735934210372145085391938975532673720898860889275916410682191254037278378815075185589472311212344287526360899830275671996233130423289227737833609852097903193513831690986796258891468012205030589989235171964256987215578211730444278618868400666696158359782117594715112093774490768784775019963183263168886666513211937091675418507287487065833923855141310606253618605824337196860542366343036739868063208302462977044092102731823879526705592170986376096978925940426768631198194744398248774395247741330349647999282152862948843313398090108136473482915882250759585304164391595398401339890403631222527839592568682620966982527516140192477752426631847120677989814241025097893382754236003012895998200762738545553293433096654662417664335816689111189451776358708280976967478538171055783100506245365043129013658304534158207820419170568296340051244165768412914683410301130433740181297365074570571492714879512647357606611979103143247030323374211563757253732315528128865017095358629563657734746151914713277077851374461914590284288913584181085269649957483518113799705386936457596309383598310431975494057690216173723968735501480508995820792328469730730777308041682969614690418094988101237530673302532391229764572960867944127660707878789517890670389718643406739048635766253551209593946800495537483012854738620774601278940014453130729173289916396003035569138029779825852201227668241652365067621987984923015507572036958230119021082064211635918119258005577561439200159715211098955665480202985166842734759703241889180417059071372024355914081251204235230640666373696803826020104042259098022495591218321976447732793436067064535392573620405467069220107579875532417998395135980564424647909666811801776727801009221238865033133241114398110983970838337467867946761229440880250291834721217015048239405848029494087376408092325772802791147509323928181223215554383090275359601375387248702230854297999961045773418407832214678333082163415447534220734369104103730700386593813790929473071065590886250243148268722647475900436016775331747494517056055276791826840471079965057564728801803232063640713419870215924204751160262638646859009978184719421408075299320258122967334736475031831809569540076526148052767566084974448674348321196684797290596858945549664893750504817788446986335097447140989962332405071910367786300204881014609890070559118336382216122503804258184913896425310797478933057287510118165833755930098086868179826976932824404790524356722257342934303064964831701872632330165166301857928534612318878893819810593314410978501737077360579297022762125274045917120914647902920119457102544811926478305339948436092051804874063947470441792243192397612021784157260173216507088357753374748795058037437989920472421376306878258287173336900230535671529933959078416758998091266295388224380015128339815763496138083728140295085552583902871343415662053656929731728006076586736848448396140336814354750879162205395907653586110173352309419969145711747263590238140338638804124423481013909883604440715681073872909071829903956769686949753848483012753235722869994419640153498247134965833458052924125929136261617205915947432691354108491406874757302482546735156658748708120765636602269510627856273509046114736153229542118915577893964235069728667547057460643902378499916009360243075546139413830594735156868595618942209961899826631586894500734200722687578417843994220680966008766008861095958361877876291077604673640687480903978560611071435419351076701308077881255507395497804989898342617935593664338084657305044040328465316897985910440906232011704933362530658871865252058916073676713575252651223309031330127357609979560106539150793562362755040330825289350045494276059841403558647444252767786689213867175929328752706799517613361697407804716960704163176760413021637974842406371360197762260588396363902285631292863033121329913457941223401779448222527283913441594794120176600450717354579600622034672483664686960891341886232528860615200307319310755698916700598877112832500278830405094416195738134961669394504863965691125998135419259990744482684842044323451410312779856033833392747948694196779564718347652940287503130676022467736390236485573665034282830364296761931507401671610894675692157654957353147102558817669626122870756849359619389885431179068694938592879664391516289239982646254345509733885675123883954820042367140958168368737928275796131196194600294610873203748277666936304868266782351115723898393804839482122971129676454480976393191309193287835502959853898823931834787301625966162939744226691023720856015136029911843381041590309673428500546293305835864943048473438904621525409474881477436518223775422197949109541986002165555085382232738760072185829529689033589160130346914400402919411688986893919249430448516001138400061962126847650118993569897734569575622181907361086621099812055610013894806837682861528544226530137690952966807071104865478487806110329332996383664822676692716370042846947625597210685324735649998175543471549630990397297416274237883010072761614506857566449372740608312219225073332100449384214288000401159014868522524955427825053880698991753387294011189789888295294329086646689058346677646775819122570833039569699656203182010115445502536017773367711383348723910597381654415793206614002832969539808257587583876995382132545296967797359927825939604277913129041302306195888697318161311967515834158266281182691938908604894647350751240055557961639277927574242114275307976870883427334163242492912891400916487612854765146461302940871042125383881769073548205295398684660323045039049707169718426651145151543210541876191297098304393495027628337128719046395438138300698192699424818242323897859366335187411535806880056960604038220732647080431440565285380766904762459803883570230131020450684031355100819648524323873487655249471094872942543831594054045508415940923859100972421468601122425937572524633888701345577556949726177798217600549090583956994747497120463196423585531336211517576149130704422162286279543272693870215995653272620306712921549277905724371751130476162914921693917345878240594955415384088800274193305124258741066142644928448950298178422887587342124313118030252555935123342210192432910130430614614099611786808036372725188492950359905129995366877665553794246314592167141463470815164782587596488845354386047310381674060311001910224389676903881040810709860868130699618337451170534609140668481041143336550071191625719459434297353271496298849134108690441358709691352824192877078382922128385533690042299521919792967466585571580789217824490489487926770724304514044122259378943907628322948414960185118440869507361698267055536449628068153457385301585900253553083167256579639190472182924667085487593383062044312183994557202752445291659523312702159180889631541672199995820168672258934851428332970775779635974616189926752723261867746070073653539388582773843791471122050679853965387031318531721485629547283990722200731756312135552924047164496839799911907949437613029133759093604944148103208772235576689616632909450530943165109553377909476887210921826721363967249918596643939880896454398926342799041665357764707935462310595480935002801685046357982043874359148095057966345219093743517869730395864940305284871381799888774736611941750114345114270287487349740684561022571242073955168175994812097751785442880577869366885484342712385894112168101309658093236813341945213608607438757933520037107547522066186406324522473618882325477332253562837823468148499068494858874081043331576771547364222494055135028455185246893446889932901777789028147039700294705306108879074214574324229890633142726918807411311880362660679060073984508996307129091879399823346713449362508964559758095359335611296773283884860765527888897041460109812183209760297539096616004865728945769776207055915432385539494649990901995977254453850912893451783448123409478388699579257813947142494087923000471932528687628135957824734295240626867540426848369388104741782406159291864563604657863282613681611817792142970000833617303523748348337517068606570657950378813166204994268589918520888880840509696969275688200837178878070159370186285322767366133558783142985803387109665872814460534180507745181068416870512854805308568711700690325390446640307839019040769383473788427627484649684701970987939254517511253123283511353889052723320496896028733196674696893161224743027059593946132526275815962977703073229805057588825301136122350649902514812273916283084310776630116383872504292337255237790372329265343906861845155575741404094996687925823960499849614908409879502758233188171340699722283658085500666807567779192117862159463022839460202701418189870183540270604967925354431798304194016987435666020353497501829063948660674515910073714964019804991697593108720464944892769971776535583357868294242493781282448003006108619280719123760971444842662410182264334217779868440100054488767610903166321707095987570014458765149697118975502388327203060295863578709936398742122127173925016557952771555005478077508401678670216805058526596861119498131980919600436891691518845215931191794615092134395913658114203800332210895296216794438767152082229187172294266247534305113826015389365372048137936837805637459786258825655162831439530054865374653203837029919782908877806135458582827244616594169008814223053579828393057891662069984181426818880212547180940187280315588039180271067172936196408792338864793973300409247385542221469931474359644826240698058997291608569509645533771933528962648047518196140211655363445253050621818380300350618706843426415809605576376763449992527648670369764557826013885411718155534859888726351730325777446081471188848771745949398658084650692062172088523113597657274993430741414909168480426995818592628179826693298481361477752240077378373529520198788069787597494740856761379808950749215964290325298551442662485620946277872354828328828141408287418201662168501912351677498232385046923236972417224217675571947217276192299639676305644068873821739250097390466316097675995116953049492570940409075611279627649675083603375616569337083701872348129634529524755945238396773787088832776561714357572470760684860847629621636241577847702460673747825414213258083647862520328975794254417547669871722224188660994331303756829434721226006636576541103276470349559343546685544972169007922105952621121527283203506510608257821127852379726805195375395525373185537324853369596497867867732606274076409940877504676129351940870138911595880296353228136696682479026637473276703309691986276283081553472831970956219930359014429581183724240492294164734004286487314856083347124031659598097792029427904770092111658857762854708558959895048986323171256227964700654411550132535629539414766644863619273593601805620395444473015273832499506647220764272773537482531943260253912088869546998942662493805251438929711448312132961976888518884676149815948465521783738201865046035139422541178298253502702626609020733666129601771901516778964778051098976905524044208227629304186041469688641882257914584661057239880529330945929475263387997744534760308368580537232915008587176083019453031268799886584983391775858597544541429924054524813165434433071433512763771574117469311076294647265709133739579519848439535320521661349348631511349914079367392971607219690789901853111139521184050113712604717712916554744294476522133940572942540720335623300608205261750055175532553974420585775148726841422213208115151467237937949596192338236958517589433830139079939533369182600153593097727004867323139772205246551247282779468327623026809862643986316079596326565569160783120821509025977301638060278665689138107776310246525329947593086244158315982665386223560801425224405650367190243057074222159807690623805070185678813088833273842398031955293803564769216690911536873183139572488482254053189618442826623403583492904389737505055085962561867380436207458249970296959765392928704630245528333075505228014104469657561519399753365708022142262788517562044704605880361778185560505041237386403253326001998849082324610563234089459303323639353827323153019314499821122767189365461219207148223323931753751845925366946202627621250847463157394613707637588875952989539919112053386142668374274585795980166587158543632129672451909553011252224090651947051929648822943797775417272435641642158100260856194242083122269278597190308042279151293495846691287766338962438074123328459531174336009716117372594215484453342123634109623829098925549626899803771048361440666171894854460852035717736366504388614879257574432399572375104458489042416296617645976344619705589227515533185686499475520961604497336326295638088483946959448782296097761875540569819930293936357709697399390295635115398944148202759697077195742301982153652766244963757331706642553049020303223495986007036445585049732896505509054257642567494033668000506744893586022603341438351366373173031886582646951613922112774766750082194777985444503008014333627356106109128512194706766969320705371475962519477919151131735343562491075579974499613341543549315478432109882817000220412277492198389658780042878699918340493588335938992674764941928072552843125000634750475775101541010421275859248568053834864787455870230631761020360003561599157485456626382016665313290482603346261576957722030181333477815122868633742483723195551280103789355722688158434432750729622766704746605997942094289478850315707862225014415218420359502051179944613768990032549089453254730574823565239244469147999884419037934360466098251258679327104466268669805442040496012579220886599849466834069145025635381113906595663735901784773095663074927448414453684963774528814536871543710126016962420726955454233997069794477360312708283856681947920506886606165415782329645521254224950037370341684910673437377547996916888760524739414144413278362492597866883078936683779232492956596763799852784758387309182490781864791426827060602777081115491163327673945222923287717230230285785675109862071847793607468672696216252111587710119290233897734415788174311190860090644122114792699298838951557651620538406816283149206350744753307826687361196800687318300120317422471962121374043761818218414488655105995171237905488893376272789986157674148487546417539659454146011704772242845808400636007341555422703992123936440146493632942725426385102566748528630894923782410366154361483919949707677474887000760808379146776353356766327738171790623786197997566583243364504750640535550926664261383959403723534308424328701926504320399361487555425158525432316194580760834809774200406293040589153666656578570607074614420410793293870672423621074296826788505802177311750760778235179124601957349939675494847561316599169026913519437927248409815804724537823743702048764208519526039295923160256790995410890667082644919018080661446726376147199327149973530335673866846378218092788955698816533365486604525745950274497933596878602264996425078699519383977797834310233726625132566473895220151602551062798244574494698995988522509773091340959929904350675870555329057348123679491473144862096384712244219992794772178638499253502436552856861212177144742586684309922839283565204532566909186849154523300119408406463949452250246803244286984938613729555314337848713824909441298152294532138976858653909542670416125261394569296589142820496306030028557973890109515740874671784496657632346670557710891877069686491853685050500599149439239928569541161590790371225926969512607268802450106420380000446062835539765364956628039470852479238628362660773126653535742093986668195656938413316458908561695484753915736969276484370555245958988728403868685482912919733728335604603524890924958896090131224331612634517309637603421964795771511520038526897834335411009452512125053446982491377868883825807973211033000304648547900794438654866109854273941169469213971689668958936963986446931554124529618440101951269958299978289141612415454536296572842901841176371445426056566789897823469383013454448059644345139999583237930851100196262715042549846423494802379174948483078965754259562004236907154312691187801316178640557450478531206019661141207982023644884466882760712549987138883728248503980681699083664194927026731886888995094588348588493068229767146080205988422554468540654408286757253175926742887526731146787560973864302306020765738456621084712912898715824526500034113670419253568923953665694983361300584530676473940462049348923142603805486951807622885447634934415776651374849490609167096903633468162256507085483044960716347115765461911600952857931162007137154259050897015265871879594517778462705594029379423439701617644331797522761067280703183397257255568063050404770699317489097836647430963798044741700121355999928677726640986166197466938800701868973337177880361169689537313771034680647266954428104348867845477657693511014061770896860833858714883539271683501476965546397729868216633401502068468022571615689458290084945321415527525280314259670157724472302774066327301882611125371373338193759036971595192040591174417763751187486927921288513470184341621813961658423650678143496469352068719431793661914448873895900773532215259198015601365615876085060986073102342082010328306964420260854145205208959975133469456695225557858803891826703795234932626977187134213566070327381534296231279756078989874561744431564370918345136365397534128484436618664458143349124797697795581195913322292097953305091778471880405567606727531748709684398009841726392505012559990499474887150998137100838376184095004720418704367452794321057876853547685471925738254342568759513093581232915840596050299293538130964548475281309459056183336122840881264319863814215594637601771666736641625316435353062061838379248593900043305996455303121120026575698071974198513307534901815602224357400049906569242468183999573001726935173497400026475112905012948414157637049862412735148845088980331791337384457544599368014748440920415564242069509875901994245531088416970380831278003232393861640850390133327515062443760368543174743813191794358429272443241896191236338545935139099390402157582484621292316224452973929347885880018130451485292895144327433515588287022593880340259367197633558214861953287954811457306755528383853725845684019606353283938335377371649067231713840312783652337510579044939884865378888271190107941328128724549022137519553032952261803327281928383915435041734099114183448503544366329492622139554197585232606531152408500337826079766266507797733343242679840796707928954462938562018561290480046459025373862272693167476878058390315734044149552011873748012741878677465551001613437026312650848461263215687487986489116295026903748280133826730217728588393507789032159504110257801597351808261194710927176622203571480184161884225782267424937341715234875711141908727601829808248722560204084131338300778318994031017432388004816084356264871202702791931183757670522226683398248121704957639214147605157510888554315775101232747111502851313137472094392203745066351751317549365336421024626188344427148086975358869997016484956609960994249128537234824668956860456577732057401816671873149240107159824703771474164880101405377391112321668938558504658448942893618092152885318636051691178524997897782118644641114336845470850382761577116119985196022549070461909630322285594905545893357952361395136239923340916163574233383823751025067308277618053150672532776897277884401173153452354636600835336811903016493984498040733929193159717340417320248839931651103605363872227176888234481906628554568503555068895404955817673475346978187755094352847014649653408116878570778635877183430364531905874552254691462107929145826539865571677793174172130812087485240703142729891727504627702113570691367378506461358435168928600516969586878149271814613355540438096077360485806340037002629783221331401561657998206049661667718528662774938673067371417944400377422291923564576395076434221317197522883040896565706709541843110578007135915805465353225406603994539380075782874176177849320721531600935274256239974281032611324596025373848537486397362329720184475737905721482374627848764104134518319482838589322052089533114326126699865999029658513075294274861861492045174756642948092299991985790711854896901984149385771815990919374732225161701125316837659405695655768529583487344574536244927708775735326589589899788389346160152506029703337791438256200958816269175840218179753760344279379137343745862320607428644307738810166303727858191271674728883157478334923075949720749131254623031641417814858279696911952446352910276264612637547469866490445119455177119914160740837246789187693328845131369009383604377225598382567653095743070496534185201059257089121842848529803582745358963507120787742122087749192634781420739544117024918946691931350949909996390536656319605593496910691617091063008875539328900674928700533899302770766709539551964861945362933554565917424791679721748780428126734499006786290681261758230434307243230509811043341357324419837694108383247670939124421735523746968701754951714803568973154606823743168831140846166992583315813902896841197726320878685736559401820972814333147968290418821518568034703022018734505427474991756621279415562407271670580390261167446642125031084146950820311570845283933510581077472126698399680428661989612891178005804540240131795283598430527908460723694995802365539356263694385627407799623662770345136128710872834372209724695728308931705219414839217670266884365766499775175145397692897261779439860680027814533361597079595294107696125387392955447920646258885717348517594560298471905044739258460463034770987699915299183606389526769551493130464698125804081796121655952976342083659175478835177655443321715761879520350259496840945318604844414084764967813401058774060881490485556939677240540816916545800575080678488733539480698819773039081781704719089142143401325120704210632434943158993304716844865459893625559103652408649102834314147229542788831147459122482375303951302652015040554348768874681120463860116614147826250869977760608001895035279348563916540884741099460151665935654714449946628217735940645340013640700482606481742455373851502015141061465594633832765820528190186089498348482743498537287535879631035827660091433471850883692657177814370136007359702606699958055421528247723987541827820969619139027593264773329518406727049177508539262590961695992351006611507602638892892418145669197752335050403804588446392406437194957655777548163695211839266243355241295526261171801279866681097894982006905673689000252163218061193842003907031099437754173089575603272031548469170048611606270130020676722198942775162895606564939973422492615181894489120541535167939858439743557148886518256923052246160469054037132079242599898284024085041272026775506394979705229846367767239120462088601718524847441748558684875167871477497023237453630359551712929828388201352556087452202330437410940170659619525438251250390041068437914868881618003182682590644020857384983671100283238276184465744017444192530921589414407125237933979035785381440596154776646005914511907441935900103733776272116637702795324235452231442257061414015150762803448101833015771266473913009591750271555135417857251340465219442786933297838383125642296881194693415511453783241624817858480767102789554164356459136208878880177990398523583787135016447522753125139076573882773007277237473513085183670245832189881264167062504306699707493395093779861107152004100752397725839507509625963262710278611653772555583923880622483233228727729891506314128642638195090525359960127785118802917206001982861893988429780934459564766003107571609769397039686312657148510422174960987275355826911578181078601558143478400619098082761960223354003390369444877777740076922800250341065530198552098612258294689488241349846770907682637847306091696470299228244351234155731277139109173059384006496650910304388967536322752888832572426082833564625109214126131572161769456493221156498128658966861715609595990232547494932300801713372129367932058910791869433701041263343413992399448278343979356407969076276616768578753582355270649572625748181958036209403424420021393154174937571828893868151151907958161930536298441906512272733098533844998361846979457464740609837874436843333340132123235750149861923491345787403564183896944996767682475734979825614978424177427183373738193213523288385696663371987063522654025131711890391284262113485831825021756097233534650146133062368061951305337878139586513539685497526622395696430499046369029223039194967178105081694867117580951118095501531834103890381321219885640791629604759119799727833966197167256751656028991070868962448050728717291687369798417848420330574301434559151437291241778373110291659429150138073197313440666470855765365195517998058368452461001740287306735611200979027140830414033518548421677754151840673775470342002046678138038502164996611481292935015413707795422068961328518447696269696779844261393028176047749772904643415112827182250345762270895920468684494545632449454914385939317682901557136563749815085937364213533832233438034263708063015397771486622987866504534438329567548907503676200325198063039453326462323726340401789411501665548147564066247322595278088465996464233686650406602964791257744681770032888790812485092545088520391509768325956124161144697271138338851071192641098861631358327565181354688242241175913729664896859280121617280246431388312449865129339604527660542959684806636197074114798066502905911862701088861674854924596321213178368722630418093123042587903997469823401771318541003028811508157141890254475255709387028195532685224979726581494042200134472714431178814857498177139360472785086846036926335326140617582367896631143348225568797481532270000885029914885762671982782046870690251366146428942972706404122536164829726121204294753048723964787516027950009034681164674458567847898691305439521452615967529373520096616326026506689385057306770635295423637135980885218430242752867162721184979052350772140032229150661321709706607527983477885413293833349654228732538359657080761084915578504800555833808569547837739401476411595452182601811385677897819519583574587240601246972261175855181043692428630754759534809115054141586190488800854288140678484955976904194521127893985616942158174959687717381248797826962181148050055456092141005236622049007990983014135568820684348154122993183880328205419034086624972585747235897521966600332594093301603244646165565608039424025836371897184828461138267973808796673943079612530136490946843835534791986798259730325303288395870302700275249159411090504295895640120990961112902307546734948855418899507933790594691650542760446904492576019136353931014696000697499755693864268368683312306684515510257495430551648590082651039333959126415863942053158596058519914917632636953236541640577183938140532363750353806472210513413195643619106131926461395631279924033145471945644836336453313520049071189203771339892078963580989923310134832020205930095268891329257198836610963466733880690817674917585769173332266097657512568982541026217559177379298103461620674162770655658807493015102475273176169097222169127081327655029548369876966973338300261512501877292286170333060049836433087194588944087500505144359845151766084625446162705210915128909412638383650327601901503344600641318553747187289923806183668761571191261308454914335967357522796445084729316791243043833967582132740428664668598414811867040366500057605207833657574743402198130434769507660028872750651938131578207231516123892085920088037572120500034770097804314365186489264648570998213884215174898215547752957050762773694978418810047678173318634214819642416201036021839042686829629662846374169405150975953440755552773259815360516266203919294211701005032521857982994520896638447197224586750597254143082394586805542477087342997084835510471107985489151514183910210701815385776940419248647097424188504259616287296543043910133473921375276001400283811218626619292467467952914562974298850175028017486908720892953511740490234411984228005898265354130476600295588846392827906227878489858492717976640318236173615955147313108972845915838864627326428084932911335628807965975449689729331076384532612982342875583994973254617701376833725755917332697128196450194899777871569954868883238300222152195834099760497203789808297358264935136471321896228245782751448882376220619894182619981745161565170618207714976680803436873679768180520572392336298169038555970275094278442544203539056307915229679521305444229809559380591085960414243406441218937124109863550214981180639267924983144881842053548596419534026713579622324622057495130959210168395640494051823534280730846558504854635488357231295297800664038231535089110619029546721892373575538624560545046229302118737517393534143724685105404964808599039719932556088616884505743740473909664321545375138041542393867145314699135388454686566739258379032282400561493096975962635813801681900367944806900853515850149288992219569903973914963963391865541409868870739120668095348521723764747435604544874068761566556964819151568080028862685519981422166980276822132601055576871669637287459023469670992344341613421675242421175070681272437627112885964770776603074888711697425080450342718454855458104798054204589074371217991683664816410588764623318400895512937572608683145744753112962555642309883573753858096692083323619078641488002842262124797884074258627562946554010382091721753027337920978957549958938804216953977430411806891756300565275374189160157404959846844645972067836236403109445666509963747114527000542715724118704748867430071471390131903278134300107707267474060537860925107502072876380667342904775669446541608146444640357894140524014754007928084827942933994686920737136743444744569833459826585761159736732648246855029848220836273536347441104233482164954251206871859758971506562893675415162368702369780598464583585765141893600483384406532841758291458642999705329260288001818645634001675799214903435066417591608497752491087222663440039552806360092945828257830970514088222674683045434276253402722276163518222613222846260951778274104518433729758573673106962683840372467311583061363894408852005183168198729306489794874023292519706335457219142018993086602023974703749453386414043233106703557138715253356454777395678533955412803810216376301680440239667058120350259099372568922252920332095202526210787377026618096820886082319949922148109767022224206975684903849262329166799444900208185196261644528297903625900569808870035341473869111498712919483462813846734770345382588704079205641999248977979887019207892401902108938452123132676796993690846421483162479676732036003481953667760461202437025263661489824753787122722084667473072432841069034912702423860249557606270772591881418280548713827312765722038623869099726137369919200272683278778930694933547560914859968435127136343657976035236345664491030149161188942927941292966662239465391130295908706769453346014870682490910113135619764444797198052620656966333534784585775179195019900535868841485524335811140554450168419243623588300509862425706849213554320053121441838381155743944048903179224806503871779022919504487184391239345576681321464480599434369160454769149016989740999907266170122978526807638665085340296898339993385313734079857874456831712671239071505224334351795374477125169907072949441576755964543202189126499684929577973348066437672678943017152255344264987886533551719012485636893624265324309660785847075008731850653927592466063853310603586491905351959564903429613990074416461285918149570318430608822025774930709618186154954689459032063063208278872920526690140408523150685755390385516123383940884623544200126836757862245507678717247793974265006839879381046889332995077198547431962643830588114292978257178297156661196116662867628080879663832994622496376063028411287652203205585111287891726156730824075114428969624170828883600264769046509066233567641075605693135929966269115239667220928038577499539242097151199117098252190096407560222213593013318675115015708442531725048373245709444487550208827673700466309298943397911735115558680332697945999445546909360514144091686800577393120265093244625888903707901491535356178994404043805131663908867099428986675889477082167676808314758666293614642474168914643875872002902767841249120532617709055047899066087642329071202932624950092612271827763580394474139026260221570706802287666310426893716233939183758052497348240614081245409733925886155762191222934848365320182729417874820604600298054201057915020740767629994632671258087415375326985006179584415394410678480109452408254423132514136940548481980068340003739761509470303739985071012922207147367248241595096768944640958440663520773550428673368870039376021802434550985067919165911613993836222279301836097570338926391154939323689676177957303179538803087049852110169598071954467411364638318706549975073406435468030501002180622307732259283862743537675039997910493851221192872437469294226969486557400877367130505331733948773921408722754838467827729327691596070858972495601885171401055012608976792187938815477053371366813331406285872211331199271389072428065040499457431644591611977266244001665276442887889100246870575174866468557526036965792245450063614246469494696064811178271684380694212921568600717756773585904888659479480809218272779717508816903841129098310033165606313558409816014490280443792511233093472787293240180922840202257686990683993683689618570754062043377059043512384010953373347183589614160819118277281065207081479028893620498549522684261704723255563030859309855420847060142847473290461524463203921910344811577623849496018531020792715025887921762664815076626396677106248792249973960681789418875622224327646641099798660285770601158595227782079424561542038484547203133649107739470290769385764885770782139231995838627977724234666914336483888802676093438808171418206980122627959737858155885562872756422758646818141418363388259232147883416446504077114000286614773918685652968038166910443279535211092721899030644037340482705322945671598551092432208078233975389969699045580767728750855995796412390713373563132130148685029373811892540796055671651902498432449240404369318133597673390484914823868894548530522550359769796339558127766628128611338725399729152478669100338242351153819792761721627431354507930166729889851914545391753347692427555291166375674375216144890879402805243917176973281871685545283588533972762989114425551467007844734469746357253373549140680246763341943421149638045279807643942969913185444326303843880288959814595097769327803063675470358594737522342758615947181196239156470219226803562948045413645408718799048724588179628670725511970018613121892621120893654605165420986205063153253039925945958952904188989826326782735161165677391698451302827115511855183785892716503313751457967863994310474512644976903136093498209743179507289067995271797280794622926472088321712845283396981141926889178931106469972694438929531211735647675289786213805119789988232062692828409955841903085573530511110235051836648524118828483317209840937418089046410682420793671703046061025725263476755475641679272774316122150904722192492508788752674078683794060488955878644052589473246737389951890914284812872021713501908219666761781042553048459883822303212833299050852772689138993793821928161056850539261335827996562605109361368347118277325926881150556273611259663383849594710668446549269516847572312972243253072399845175997374289138765582413452390326640576026362008275420481932772002045917343777658274601290077483581432710774029103959014399455447694063301071266531031075415963045539093101950255810449930908624784827704890113064374072511145729301302279276280427618817089401154647296595255670602022859463544267243907881548456092775888200574621406993721408601651972030898481653310449030362616733443187619580974760370960751741735169342236986195271268336120262639819198977457864650448572917145438629674130886791476883496736931202743018034214857917040940670890705606473838394936242336956583788019326945702876999185806524565918354237296131138079901980346209130992515892813130971944844722400429906069601614073604465919081195537458183652055145328832875600627705346585000886294283604748452206121953241858895319504606857625533782702062887831176712652526575725183366021410180086664826805971472515359974111764180742159227734806755199030487556876661831009928273837900721823667214198789150604711806626696623290578884456364890204386075407677502051311794916013983520600249201883877464508725055287946656178388770466592811900929963142158374512823382351196235022751415543316865237213611936408990567301752084988470237536520469011214073075128606950305658832446378992269359445046280040749311371853668946815383161476366649892856745821856032644866409138855506260624071154383427020004015468076707659138479418314735833271345757383717786814029747632874049076179707736142008147172057658646693408177617919332407758051501566617056496395137326192426797214840582896168477025027321570795191137316706716360992676414514474272584776809494012399673709567971999233696277561748973045513013785224551883561934442728504372359714851651388486506318093723306811079208638327342144012634282675334146225505873620939579799161762943420056000922209515732209529115177494616829292229610106249325367647935362392491458264318728490664636874755484697734218174390435437225297580112311881829305044538695104069990247960534208285795917146409785201463512151149984886005533774297794218107159903771695554233568604108370253030399003094803212649114160374058939787311745508267392612105634442163699402013150913068027384578491524683602200273526016516793256727277091695942578154657224424623111861107629618027751191892324852817797141805556525499261141074473626698279765893236570756173702236680091126492179449165203881841470205013079038464551200615732946307920641282513462280268951279912388512240418071031132770839725932024317180647445418259837142474670068772160115724052339023798297703461883638537998582854932224099533518978926698434691870091763566250700139201746615483724377346863163597697071550452147976309042001720078502363471466020794014133150195237522611728802144041875829937195346599703370518458441142730309500600591225372462053607210900084740170332416278359107968966724171030194883604446264839670811169079708870316942316892519207214135682688490298932124288815375940796017168249379125292097825836652603577859113998859657932618444008383555969697583109043488936407099983530503497978149978679421914001289358214231794305251950645862701021449136626596311844995052748084336438119913467957218051581324479337560579903241966601112408150018760198299382397131983450827613003113116267953395258642216615161153432159790411419590750104947850209869657198121605731347902861691967620828360615551733615802922747682610213226144740071304944080470665741651994963084627746700990540529577012234569301377882936285929741641825421235884312553995204915301400333939243558397479565167209361132007301508436686072678609930289221227799011033921038114638784383793092933250435431934354065644480131443034615323859197185925730570207982988267083606950775744608270371359407742841655380403632295579729567478045575395210180408923506703452567637014086524807671153765907746073426565113370114565878733126908091026276177728595363879842168842386914013347091972552810557483843525129978941374090778102015803068891984933267819033895792468827804788510130252196287046537560170061938335940151717218048611752325619497455391159776282639612386130737087845535632308111127494243990904654005325504590664574714266901271714214514405163163293473099600765230850051254539462024689144131482768565495574694806753549201486514594818047040703124777915519805464487540795801740054583355529464478072137483503137975205548832334925734406514492199227637419304211890189835552933621666976763448490123627754163649858768101982951604680658062291572565972665402138878597189416532818269548838293177537614028173415758348470518216995906075754181180261509081913128263017573425342166233417727446382708305327032811359897709607368687122031656287486584625283192064428322538158619007582832581521031496851945526634938148669493184532617409405974988333370662953800429204258259366112664667051504173243078895312338514088651125830630811554029096504446710850547108994214045058393769783012945462641330160668776897306168703100171793593829471286599584315946831553533177446468885299043595576174549889043209485207636890015430079558698253183716190806881737783934526211093380711138281632609350906331640928104787688758233225547187883158819091430037296129987042973879666777705748206749139342632338664721264596864057913917225214324887602407231862805907004969036428924103783610835100732620675365319490814680122224007883203208604369362169186547628077940952453302283362592452680555337502575541840315931886028925924441357545906422548448492832815383079957839324707641816214378824092247559535018050657805417615643662744707460257594145948087748963513902138210965515828350458808036361459904143004901848049425537226944515352827098002207187962441649324985633692705965855169223929882069639780011183651881545288150751842980977627170048813051917641132980632389757566880661398536313722990233743577515739324715864668517674076344594077060932858625530765068833143045373129670180741741045674740117781365598369507432977028615183174615529282404027304132976278337606236992189979403039908457265698519794731229329122204940266131463892183110383012166746445440768890805080006175260413881375241900274141833741539945421967190166304893091439944670416709032487007949250440587454547192195363877924394248958497045849993153798758375594692115353514722517864479141430645207861608593610946631438598978906259512680314540332420976768686010810840555961024605046453973321917208738446989142938984493194780730261529996936760748672768677258256031070532996911813167252842662030678985037996427622797861898068234574473282699911307870934945099912606834861966783980316902739077883388774635670108054497627333149542521092482656620535593636086687293725684596324602267197803130095233463862069563836158547993354575107105617161860867945551247369848125575975151496342842206955739312271787151147145774944260461508438143762868926272997222924906230669476144166855479410871505996174038805463683537057298008925871504072131426595015468249587297618940455458663545152239807054224022859052516076736182312453534905012204303556600518636219420280149728510169270118801705924767858561996095969462188403756210198427600168126965942988912780411298675758584178179452271606834949408063648722616612327215880670668982816412005766049507990434138755042307708543795252578186591639001740191294240104808757980102324621069551207042593702348498765798653074431027619784833409894056754117740249865126078331677816153417504935817559476425979231023034983152887832809558759696497130312242499236088919835633536640953025222110513086370733662404443867370073999829697605833791367878951582790230257368842377587380552673574225913268909859198302161361313185960260653504774239348210138193648531621276097730813243440109173260189868949233476761129239820786815356682313818781158670239294867838494368637795887077703734843793070283407059605152043001672783377945119994896779404544362209294186111169914841536977218319966801328769406537034769244618053266520589463533966847501016211326861663210984169918632157922605050269158942503495055556615459659995816525032743419620913912820204485355154407545652510474749468898240891508365115467455586936051042613202385029702924199763907133595397328632010526862603459723476003383856027252847908501294890420288506537284574056465426869845070069269092671870340053059466769816950584691332615260980034760410651574788695170113573475031409588722926995279520265560838938399139277953689599764941694794143035728987136833998176008450887333020219342544182814614363125516107747089118338313491912487941631794759079349491856486224884566784070085044124205373118442746410718869290273395202536407928668512810049056695749128994931956524024761789624952231028558865434016892031021683422685398978341033874178898550164506158577424720011839204360518901067562754637759970472599113115537128227431405641226946738435745112808654644102763344224270165090057517200250232543035144131313072180841089678814090291109073880523826891960691078671633912791682763424176387675473626575527030425030078430253465018989533265771196732486320985156913582507109251757527181558254415819494885585011387995839816348376315527840289842020251239760958153044281691069871800190000590091424772270981054658571785066676219585575962490626002239701062572302961158325996843144757118568503244692258925003274039512788222061270786083152496844868288917254456171706235824511038142633432561476336040556477601868902047268974433889594201592545834921102932640028916588479539592177391878268838454146082205966542639479260898667396991305813686949482881884698937147381632184106830307312826953499797632363060515892710686862141446251425853713045864803281168952778579156767374649860242157334929105254739281866835625673270294791924443996683932731440128344056863434246882524510219390969832570886939598335848551871022001100108150608370188014253326244140109939546390730523735507702038775702777456043356540378608289565338833188211135312016389057121023733698809664236389788093358287809306262238458261882100655195599660983988583176109047709798406627577331110919669597259160008447933794313049824597394908940135835238526213405370912951256248538019105798242960806255016170054486067259392139866346375108807759943778450268676288615489194981963330420147626705914227956873320570640809757667553669791951306976027006146613947478435065593000737227364448087242312564285515184471486368359607863547278883460949746486674272307342057046281668174754287902624528452963088605600268095349671990021997575251702147831253711902761996409609471192587989228921089481120968332848441945320243737700983301265256552093354572236431018555067890596768301616552630032482703090734582105088963490119623984266009568510755080264719859641398280095162822678384357493805521666067390181639826062763510417598667773616236538402662371133226063551785766070651866181148910759888790786724622498580187447670925914637487541100942377790477474661629628386221909140666467843375140443035104649846232872363510581127580666591839687847883355449292450356992711140973921328169816239779188539257394668410830203537506522030352425129596933623472663747181261658900306992531742619028285150508813700917020879557102257374807897970916399862048134390831881771656123560081705740615850381008030708998928751869308550333790699510103960782079897379290753572542060849800085378380497095024987918538080623905898444069980634857015811972687203616192914831311802089630813081041030396219924527115966600938581260274026437703958396547918796059766578664415028584068135806823377840079850515314370449932910419371202196350689864075116509960363660257826043315346921553495153823258655220242041670613039806280500544072070470027341513605664333550510414424128888135478807101290314046960289003073134536318586337684265945040383549590698532032544179777347171311778159427893012804218461228505209705780242323960267495683042720521197235018768547534689407152993378283783288962594781197248156102271006121070131975312527925257862287425497628772946916000696830164527089806421506058175645626052204751904594869386125980900019517881302790879833592007477684131014698492462717131957715355990810739625210569818208225645106729066076261143518815314814779050839579468345804531892701279211152362620004927765592380220019777383326283954889141384115583341291912956882737494947247511701250802177172199984111741062502942307629661447665091183678689162736317208133848274684524167960803259290028353324320568595200505867478061818639587241629268839226584164969218235424141725945074950384843339291009081442989244711628016100242337569474828297122644717063759584079036711840418906003255826854152358390042170299397598689186414093259999551543060830720808592643301848618203430694709592754409511977067681731889353668172116074311003959909843140699245160043834530598528840667482613733715884152686088015132660479758471407322900752943895418418750950247294869792148088367282620470138829256700326858189835973109631531253615629135297780285459978270569615871962619555256787762156431247040074241709999011939130824124241616968491957542312945585174480348696004519572356417191593487465057918720017039247818323573335373084962740005123719921805931682571038060452294172254603369642412757588891259435305094857168734723487118286864718740464991966954380063372843289327033375772260696045689834050039228178905431531364870702047855224580754601734767286260301522178035869407901349702056208505668614397137062571415521803866107340518900643145323568724638647707845791305817126472346476116355487978371631698276722949343484830520514191602309365659334912569062638109505036941712105317155041056318053092151028068930415148329395036713550116884060223887923910641858642025999014760704529509673907735607033599270617031918916567873061936555734849217206833106256729471612117770894471728416578062933185095646992395510158652091225426602075320276751635460391172050052681119249018763130316215028614626692473925608675721902883822766129227194982496474831000587300561721910237945761362681125455794662207452484321642978941244424977762060041574253691564280768094267011976447286804108067032938883527006051147063601198907581266808997643726520077595629751830744846129534538222225058281982211644865923245069218084164539438851199896377200956367393459749414390475043910669939446771751752192517889991157710721842897766167831447120444838560655393529822649810664548575554711853727482141462566025816890015888905186914788115093721156979438245284456897079427378012195808779154385965220368674331146281355269444271062329333236610718937402590819445815135948474156648108951767069688502448544409174179838383090347241760864461668084241914237488016685625529028775420346309344508383179967224420809244616621836958737668001746150321754721083324366912131316265940181639088034318481096452888266816163723039907127785541912163558532390252917921740969754035568890165126156352992520815544891814421154896995307702530476673600062988258383719733500007653069906503973095867133341123957324837001623403616959145791543540509528519232154397929268873151940759811977533346505472590728131531626925013195474291387704476616985450890703371434977938233954951052247569290721068988808333713851323135311252161849755641960181059769464072560225413807547325801837901239860209670813178269234593252163041982504767025721658279934701516694639538768167893112097205022669813688565249742724048203297401781724917332114377298446680981972985540833743424209393862568235706229052330449882409676685253357376748053907382112100180924768104959096112415595743368403928294582239880314019419849413311452905366162458590019809042013175635153162567618825149342740967245240187496770880384665902982081559384693889989641307332338484596901139190756247200792559053443824433316952270401626368452973574636796387712638881455770686831838665371469713579378667308819207098788826996464085881597594381266541286923613664576859945041623333055103605592881861834242122840057731599002093613265086478424474123941760233711163257723573361773154744932567346954788351504071920654155810198232758300666011473173348134871778950468969024232308314299779372179894975885446738459851115735601745589967627445254823415682528528564674620943127019043007782005132973932978560177432166504041339478844592290229851789628476857736191165128965118414550784317980886702238508436085434544342024739597832960058665513872547000539615441852675109551606789338023786586965920790581059024907974230095081188318986934043025117633661683836830132524553305827268967604820078170969908503507514113071799352532099734905738784672382666379039179449306608211471906462845405222044047428169193460942263349738992566116971964740797816743117454591340832489947334610702870648432389012449759511923929150357391243754561023616042027803434332865142088026173508279133345038298201925922226535853131179078676217899297532810258652263926447821953399690903968475974247783319985653264789001910697835165420334710598582852827353785398880489127492356182787065722234504063043789423328246735670267812090823399836954855048717931495825244339597072511144183508824341309992543991750816586356404151294461418709004002431168511210562857567394724755094231550701647739899442754830985893462593566060608486944975110379007703809848611782635732593264605556534603997094679490279677680296097569170828260828460970811547689482351237688543585989837320598352146335259478184164562505105473566141352684763721331009967360899711013563534856558120558311752568053859605857326221811656324549610075658004343906690773417324735910546306098669103148552494538768457468282944473042529553264003952002464451828204369215562825328995081922903787367503419011654255867039774529109425710564425183237997868362692280338853401972140255999117683513418273281803973568973371282834674460899702827356422675457894631337160638700288879422634995322518268149739994639351324271693975533500096007417695667118569565666679722182496579175079147623113087725495965053845224217439342596326430367145093339642115907130740768474861523756206215203234339049512255069129579803551264016461820034546532035314015500002084430460505207336546399937819606653316813674027377977963830139986740905257978017154942808976778865336147047726979325596202188070119965984461018128360355002472365694580258849146748143049004030240193833297874099970693880365104322226924773141953074380293259502229771734762472891760434137998414730442612673956105691093915261257284766825636660122738114216582533841008051422392074425221592789350582951121804153617802073872516560327326692523183852715691193254903687276571414996186475262137085133050125348573166027402636088096300804384514225918273654076078259482825774501989841697863188626771364691989734563113606822157165293187760907491790825647087561926598594843341111962574853226927604240655030666250260718820977029485593959941092494922476204777879657919070149503901354991447199070664683067600068194085578592395450707027553460744528989346379629050999973139110389087912988983657395916992054778762329567166014066114603018591400671359116012979023147456183565879748971049238956362426549316003653187741411284392959426633254026669062019002967736009014954824664438418933672785528011140709151472624880299712848361219403925630149889310230566248357147650834243674246393014374329684018613389672652745384306304196773918454485411828441545668313284585240510377770702461680218021168648870432792541974772017450482278473482820072702138664017487368501026949778714158422198950511843852971374440056069180451662887242533747845018868269221757516789600533021506329034453401464165121545707949508251483066418125741883711813243650774769070674298200701022389699800336196335782491928014214678020784267791029789213950283131230721025229678458698162679099154640252533160241450834064271949933513286687616676747425698040275221442317697563743546040531265564468110867726288323370471663591088843484198933592119610353466405295578816813637066689748170779340894756775667060995363940347447426489523671999216297976823870943672794274128934953116084048460692411101332847289337083039690739232743536592564256130437828234183945144502174220857034504887677691393595377278189229454754329513850667875035304275992277448904844233778250086170084204950353647111275605374498703737274650631574129121754038374382139631414010026989451499715385595315580912157477986787059636706496535776631957160991363001154549175051118642640904531226484330376507635004165801492481812566319081520482549975889606234177795139150808248850624230953137993126106363368508065407298520591084408851404829686736371541836925112532383620566394368128189354235406656849499014999900999989999999\n"
     ]
    }
   ],
   "source": [
    "print(x)"
   ]
  },
  {
   "cell_type": "code",
   "execution_count": 301,
   "metadata": {},
   "outputs": [
    {
     "name": "stdout",
     "output_type": "stream",
     "text": [
      "310068\n"
     ]
    }
   ],
   "source": [
    "print(x.__sizeof__())"
   ]
  },
  {
   "cell_type": "code",
   "execution_count": 302,
   "metadata": {},
   "outputs": [
    {
     "name": "stdout",
     "output_type": "stream",
     "text": [
      "302.80078125\n"
     ]
    }
   ],
   "source": [
    "print(x.__sizeof__()/1024)"
   ]
  },
  {
   "cell_type": "markdown",
   "metadata": {},
   "source": [
    "    +, -, *, /, //, **"
   ]
  },
  {
   "cell_type": "markdown",
   "metadata": {},
   "source": [
    "### Comparision Operators"
   ]
  },
  {
   "cell_type": "code",
   "execution_count": 303,
   "metadata": {},
   "outputs": [
    {
     "data": {
      "text/plain": [
       "True"
      ]
     },
     "execution_count": 303,
     "metadata": {},
     "output_type": "execute_result"
    }
   ],
   "source": [
    "5 < 6"
   ]
  },
  {
   "cell_type": "markdown",
   "metadata": {},
   "source": [
    "    True \n",
    "    \n",
    "    False  0, None, False, '', [], {}, empty sequence"
   ]
  },
  {
   "cell_type": "code",
   "execution_count": 304,
   "metadata": {},
   "outputs": [
    {
     "data": {
      "text/plain": [
       "False"
      ]
     },
     "execution_count": 304,
     "metadata": {},
     "output_type": "execute_result"
    }
   ],
   "source": [
    "bool(0)"
   ]
  },
  {
   "cell_type": "code",
   "execution_count": 305,
   "metadata": {},
   "outputs": [
    {
     "data": {
      "text/plain": [
       "True"
      ]
     },
     "execution_count": 305,
     "metadata": {},
     "output_type": "execute_result"
    }
   ],
   "source": [
    "bool(-1)"
   ]
  },
  {
   "cell_type": "code",
   "execution_count": 306,
   "metadata": {},
   "outputs": [
    {
     "data": {
      "text/plain": [
       "False"
      ]
     },
     "execution_count": 306,
     "metadata": {},
     "output_type": "execute_result"
    }
   ],
   "source": [
    "bool(None)"
   ]
  },
  {
   "cell_type": "code",
   "execution_count": 307,
   "metadata": {},
   "outputs": [
    {
     "data": {
      "text/plain": [
       "True"
      ]
     },
     "execution_count": 307,
     "metadata": {},
     "output_type": "execute_result"
    }
   ],
   "source": [
    "bool(' ')"
   ]
  },
  {
   "cell_type": "code",
   "execution_count": 308,
   "metadata": {},
   "outputs": [
    {
     "data": {
      "text/plain": [
       "False"
      ]
     },
     "execution_count": 308,
     "metadata": {},
     "output_type": "execute_result"
    }
   ],
   "source": [
    "bool('')"
   ]
  },
  {
   "cell_type": "code",
   "execution_count": 309,
   "metadata": {},
   "outputs": [
    {
     "data": {
      "text/plain": [
       "False"
      ]
     },
     "execution_count": 309,
     "metadata": {},
     "output_type": "execute_result"
    }
   ],
   "source": [
    "bool([])"
   ]
  },
  {
   "cell_type": "code",
   "execution_count": 310,
   "metadata": {},
   "outputs": [
    {
     "data": {
      "text/plain": [
       "True"
      ]
     },
     "execution_count": 310,
     "metadata": {},
     "output_type": "execute_result"
    }
   ],
   "source": [
    "bool([''])"
   ]
  },
  {
   "cell_type": "code",
   "execution_count": 311,
   "metadata": {},
   "outputs": [
    {
     "data": {
      "text/plain": [
       "False"
      ]
     },
     "execution_count": 311,
     "metadata": {},
     "output_type": "execute_result"
    }
   ],
   "source": [
    "bool({})"
   ]
  },
  {
   "cell_type": "code",
   "execution_count": 313,
   "metadata": {},
   "outputs": [
    {
     "data": {
      "text/plain": [
       "False"
      ]
     },
     "execution_count": 313,
     "metadata": {},
     "output_type": "execute_result"
    }
   ],
   "source": [
    "5 > 6 # no"
   ]
  },
  {
   "cell_type": "code",
   "execution_count": 314,
   "metadata": {},
   "outputs": [
    {
     "data": {
      "text/plain": [
       "False"
      ]
     },
     "execution_count": 314,
     "metadata": {},
     "output_type": "execute_result"
    }
   ],
   "source": [
    "6 < 6"
   ]
  },
  {
   "cell_type": "code",
   "execution_count": 315,
   "metadata": {},
   "outputs": [
    {
     "data": {
      "text/plain": [
       "True"
      ]
     },
     "execution_count": 315,
     "metadata": {},
     "output_type": "execute_result"
    }
   ],
   "source": [
    "6 <= 6"
   ]
  },
  {
   "cell_type": "code",
   "execution_count": 316,
   "metadata": {},
   "outputs": [
    {
     "data": {
      "text/plain": [
       "False"
      ]
     },
     "execution_count": 316,
     "metadata": {},
     "output_type": "execute_result"
    }
   ],
   "source": [
    "5 != 5"
   ]
  },
  {
   "cell_type": "code",
   "execution_count": 317,
   "metadata": {},
   "outputs": [
    {
     "data": {
      "text/plain": [
       "True"
      ]
     },
     "execution_count": 317,
     "metadata": {},
     "output_type": "execute_result"
    }
   ],
   "source": [
    "5 == 5"
   ]
  },
  {
   "cell_type": "markdown",
   "metadata": {},
   "source": [
    "    <, >, <=, >=, ==, !="
   ]
  },
  {
   "cell_type": "markdown",
   "metadata": {},
   "source": [
    "**Logical Operators**"
   ]
  },
  {
   "cell_type": "code",
   "execution_count": 318,
   "metadata": {},
   "outputs": [
    {
     "data": {
      "text/plain": [
       "True"
      ]
     },
     "execution_count": 318,
     "metadata": {},
     "output_type": "execute_result"
    }
   ],
   "source": [
    "True or True"
   ]
  },
  {
   "cell_type": "code",
   "execution_count": 319,
   "metadata": {},
   "outputs": [
    {
     "data": {
      "text/plain": [
       "True"
      ]
     },
     "execution_count": 319,
     "metadata": {},
     "output_type": "execute_result"
    }
   ],
   "source": [
    "True or False"
   ]
  },
  {
   "cell_type": "code",
   "execution_count": 320,
   "metadata": {},
   "outputs": [
    {
     "data": {
      "text/plain": [
       "True"
      ]
     },
     "execution_count": 320,
     "metadata": {},
     "output_type": "execute_result"
    }
   ],
   "source": [
    "False or True"
   ]
  },
  {
   "cell_type": "code",
   "execution_count": 321,
   "metadata": {},
   "outputs": [
    {
     "data": {
      "text/plain": [
       "False"
      ]
     },
     "execution_count": 321,
     "metadata": {},
     "output_type": "execute_result"
    }
   ],
   "source": [
    "False or False"
   ]
  },
  {
   "cell_type": "code",
   "execution_count": 323,
   "metadata": {},
   "outputs": [
    {
     "data": {
      "text/plain": [
       "True"
      ]
     },
     "execution_count": 323,
     "metadata": {},
     "output_type": "execute_result"
    }
   ],
   "source": [
    "5 > 6 or 4 < 5"
   ]
  },
  {
   "cell_type": "code",
   "execution_count": 325,
   "metadata": {},
   "outputs": [
    {
     "data": {
      "text/plain": [
       "-1"
      ]
     },
     "execution_count": 325,
     "metadata": {},
     "output_type": "execute_result"
    }
   ],
   "source": [
    "0 or -1\n",
    "#F or T"
   ]
  },
  {
   "cell_type": "code",
   "execution_count": 326,
   "metadata": {},
   "outputs": [
    {
     "data": {
      "text/plain": [
       "1"
      ]
     },
     "execution_count": 326,
     "metadata": {},
     "output_type": "execute_result"
    }
   ],
   "source": [
    "1 or 2\n",
    "# T"
   ]
  },
  {
   "cell_type": "code",
   "execution_count": 328,
   "metadata": {},
   "outputs": [
    {
     "name": "stdout",
     "output_type": "stream",
     "text": [
      "hello\n"
     ]
    }
   ],
   "source": [
    "x = 0 or print(\"hello\")  #? "
   ]
  },
  {
   "cell_type": "code",
   "execution_count": 329,
   "metadata": {},
   "outputs": [
    {
     "name": "stdout",
     "output_type": "stream",
     "text": [
      "None\n"
     ]
    }
   ],
   "source": [
    "print(x)"
   ]
  },
  {
   "cell_type": "code",
   "execution_count": 330,
   "metadata": {},
   "outputs": [
    {
     "name": "stdout",
     "output_type": "stream",
     "text": [
      "False\n"
     ]
    }
   ],
   "source": [
    "print(bool(x))"
   ]
  },
  {
   "cell_type": "code",
   "execution_count": 334,
   "metadata": {},
   "outputs": [
    {
     "name": "stdout",
     "output_type": "stream",
     "text": [
      "hello\n"
     ]
    }
   ],
   "source": [
    "bool( 0 or print(\"hello\") ) #? \n",
    "\n",
    "0 or None"
   ]
  },
  {
   "cell_type": "code",
   "execution_count": 333,
   "metadata": {},
   "outputs": [
    {
     "name": "stdout",
     "output_type": "stream",
     "text": [
      "whatever\n",
      "<class 'NoneType'> None\n"
     ]
    }
   ],
   "source": [
    "x = print('whatever')\n",
    "print(type(x), x)"
   ]
  },
  {
   "cell_type": "code",
   "execution_count": 336,
   "metadata": {},
   "outputs": [
    {
     "name": "stdout",
     "output_type": "stream",
     "text": [
      "HEllo World\n",
      "Bye world\n",
      "None False\n"
     ]
    }
   ],
   "source": [
    "ans = print(\"HEllo World\") or print(\"Bye world\")\n",
    "print(ans, bool(ans))"
   ]
  },
  {
   "cell_type": "code",
   "execution_count": 337,
   "metadata": {},
   "outputs": [
    {
     "data": {
      "text/plain": [
       "1"
      ]
     },
     "execution_count": 337,
     "metadata": {},
     "output_type": "execute_result"
    }
   ],
   "source": [
    "1 or print(\"hello\")"
   ]
  },
  {
   "cell_type": "code",
   "execution_count": 338,
   "metadata": {},
   "outputs": [
    {
     "data": {
      "text/plain": [
       "False"
      ]
     },
     "execution_count": 338,
     "metadata": {},
     "output_type": "execute_result"
    }
   ],
   "source": [
    "True and False"
   ]
  },
  {
   "cell_type": "code",
   "execution_count": 341,
   "metadata": {},
   "outputs": [
    {
     "data": {
      "text/plain": [
       "False"
      ]
     },
     "execution_count": 341,
     "metadata": {},
     "output_type": "execute_result"
    }
   ],
   "source": [
    "False and True"
   ]
  },
  {
   "cell_type": "code",
   "execution_count": 342,
   "metadata": {},
   "outputs": [
    {
     "data": {
      "text/plain": [
       "False"
      ]
     },
     "execution_count": 342,
     "metadata": {},
     "output_type": "execute_result"
    }
   ],
   "source": [
    "False and False"
   ]
  },
  {
   "cell_type": "code",
   "execution_count": 343,
   "metadata": {},
   "outputs": [
    {
     "data": {
      "text/plain": [
       "True"
      ]
     },
     "execution_count": 343,
     "metadata": {},
     "output_type": "execute_result"
    }
   ],
   "source": [
    "True and True"
   ]
  },
  {
   "cell_type": "code",
   "execution_count": 344,
   "metadata": {},
   "outputs": [
    {
     "data": {
      "text/plain": [
       "True"
      ]
     },
     "execution_count": 344,
     "metadata": {},
     "output_type": "execute_result"
    }
   ],
   "source": [
    "5 > 4 and 6 > 5\n"
   ]
  },
  {
   "cell_type": "code",
   "execution_count": 345,
   "metadata": {},
   "outputs": [
    {
     "data": {
      "text/plain": [
       "0"
      ]
     },
     "execution_count": 345,
     "metadata": {},
     "output_type": "execute_result"
    }
   ],
   "source": [
    "0 and print(\"hello\") # None"
   ]
  },
  {
   "cell_type": "code",
   "execution_count": 346,
   "metadata": {},
   "outputs": [
    {
     "name": "stdout",
     "output_type": "stream",
     "text": [
      "\n"
     ]
    },
    {
     "data": {
      "text/plain": [
       "''"
      ]
     },
     "execution_count": 346,
     "metadata": {},
     "output_type": "execute_result"
    }
   ],
   "source": [
    "input() and print(\"hello\")"
   ]
  },
  {
   "cell_type": "code",
   "execution_count": 347,
   "metadata": {},
   "outputs": [
    {
     "name": "stdout",
     "output_type": "stream",
     "text": [
      "sachin\n",
      "hello\n"
     ]
    }
   ],
   "source": [
    "input() and print(\"hello\")"
   ]
  },
  {
   "cell_type": "code",
   "execution_count": 348,
   "metadata": {},
   "outputs": [
    {
     "name": "stdout",
     "output_type": "stream",
     "text": [
      "sachin\n",
      "hello\n"
     ]
    },
    {
     "data": {
      "text/plain": [
       "False"
      ]
     },
     "execution_count": 348,
     "metadata": {},
     "output_type": "execute_result"
    }
   ],
   "source": [
    "bool(input() and print(\"hello\"))"
   ]
  },
  {
   "cell_type": "code",
   "execution_count": 349,
   "metadata": {},
   "outputs": [
    {
     "data": {
      "text/plain": [
       "True"
      ]
     },
     "execution_count": 349,
     "metadata": {},
     "output_type": "execute_result"
    }
   ],
   "source": [
    "not False"
   ]
  },
  {
   "cell_type": "code",
   "execution_count": 350,
   "metadata": {},
   "outputs": [
    {
     "data": {
      "text/plain": [
       "False"
      ]
     },
     "execution_count": 350,
     "metadata": {},
     "output_type": "execute_result"
    }
   ],
   "source": [
    "not True"
   ]
  },
  {
   "cell_type": "code",
   "execution_count": 351,
   "metadata": {},
   "outputs": [
    {
     "data": {
      "text/plain": [
       "True"
      ]
     },
     "execution_count": 351,
     "metadata": {},
     "output_type": "execute_result"
    }
   ],
   "source": [
    "not 0"
   ]
  },
  {
   "cell_type": "code",
   "execution_count": 352,
   "metadata": {},
   "outputs": [
    {
     "data": {
      "text/plain": [
       "False"
      ]
     },
     "execution_count": 352,
     "metadata": {},
     "output_type": "execute_result"
    }
   ],
   "source": [
    "not -1"
   ]
  },
  {
   "cell_type": "code",
   "execution_count": 353,
   "metadata": {},
   "outputs": [
    {
     "name": "stdout",
     "output_type": "stream",
     "text": [
      "hello\n"
     ]
    },
    {
     "data": {
      "text/plain": [
       "True"
      ]
     },
     "execution_count": 353,
     "metadata": {},
     "output_type": "execute_result"
    }
   ],
   "source": [
    "not print(\"hello\")"
   ]
  },
  {
   "cell_type": "code",
   "execution_count": 354,
   "metadata": {},
   "outputs": [
    {
     "name": "stdout",
     "output_type": "stream",
     "text": [
      "hello\n"
     ]
    },
    {
     "data": {
      "text/plain": [
       "False"
      ]
     },
     "execution_count": 354,
     "metadata": {},
     "output_type": "execute_result"
    }
   ],
   "source": [
    "not input()"
   ]
  },
  {
   "cell_type": "markdown",
   "metadata": {},
   "source": [
    "    T or X\n",
    "\n",
    "    F and X"
   ]
  },
  {
   "cell_type": "markdown",
   "metadata": {},
   "source": [
    "### If - else\n",
    "\n",
    "### Loop"
   ]
  },
  {
   "cell_type": "code",
   "execution_count": null,
   "metadata": {},
   "outputs": [],
   "source": []
  }
 ],
 "metadata": {
  "kernelspec": {
   "display_name": "Python 3",
   "language": "python",
   "name": "python3"
  },
  "language_info": {
   "codemirror_mode": {
    "name": "ipython",
    "version": 3
   },
   "file_extension": ".py",
   "mimetype": "text/x-python",
   "name": "python",
   "nbconvert_exporter": "python",
   "pygments_lexer": "ipython3",
   "version": "3.7.4"
  }
 },
 "nbformat": 4,
 "nbformat_minor": 2
}
