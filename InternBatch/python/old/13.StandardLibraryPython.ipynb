{
 "cells": [
  {
   "cell_type": "markdown",
   "metadata": {},
   "source": [
    "#### Aggregation"
   ]
  },
  {
   "cell_type": "code",
   "execution_count": 14,
   "metadata": {},
   "outputs": [],
   "source": [
    "class Person:\n",
    "    def __init__(self, name, age):\n",
    "        self.name = name\n",
    "        self.age = age\n",
    "    def __str__(self):\n",
    "        return self.name\n",
    "    def show_info(self):\n",
    "        print(f\"{'Name':<10} = {self.name}\")\n",
    "        print(f\"{'Age':<10} = {self.age}\")"
   ]
  },
  {
   "cell_type": "code",
   "execution_count": 15,
   "metadata": {},
   "outputs": [],
   "source": [
    "class Result:\n",
    "    def __init__(self, name, age, **marks):\n",
    "        self.student = Person(name, age)\n",
    "        self.marks = marks\n",
    "    def show_info(self):\n",
    "        self.student.show_info()\n",
    "        for sub, mark in self.marks.items():\n",
    "            print(f\"{sub:<10} = {mark}\")"
   ]
  },
  {
   "cell_type": "code",
   "execution_count": 16,
   "metadata": {},
   "outputs": [],
   "source": [
    "r = Result('sachin', 24, maths=100, physic=90, chemistry=85)"
   ]
  },
  {
   "cell_type": "code",
   "execution_count": 17,
   "metadata": {},
   "outputs": [
    {
     "name": "stdout",
     "output_type": "stream",
     "text": [
      "Name       = sachin\n",
      "Age        = 24\n",
      "maths      = 100\n",
      "physic     = 90\n",
      "chemistry  = 85\n"
     ]
    }
   ],
   "source": [
    "r.show_info()"
   ]
  },
  {
   "cell_type": "code",
   "execution_count": 26,
   "metadata": {},
   "outputs": [],
   "source": [
    "class Array:\n",
    "    def __init__(self, *args):\n",
    "        self.elements = list(args)\n",
    "    def append(self, element):\n",
    "        self.elements.append(element)\n",
    "    def __str__(self):\n",
    "        item = (('{}, '*len(self.elements))[:-2]).format(*self.elements)\n",
    "        return f\"Array({item})\""
   ]
  },
  {
   "cell_type": "code",
   "execution_count": 27,
   "metadata": {},
   "outputs": [],
   "source": [
    "a = Array(1, 2, 3, 4, 5, 6)"
   ]
  },
  {
   "cell_type": "code",
   "execution_count": 28,
   "metadata": {},
   "outputs": [
    {
     "name": "stdout",
     "output_type": "stream",
     "text": [
      "Array(1, 2, 3, 4, 5, 6)\n"
     ]
    }
   ],
   "source": [
    "print(a)"
   ]
  },
  {
   "cell_type": "code",
   "execution_count": 29,
   "metadata": {},
   "outputs": [],
   "source": [
    "a.append(100)"
   ]
  },
  {
   "cell_type": "code",
   "execution_count": 30,
   "metadata": {},
   "outputs": [
    {
     "name": "stdout",
     "output_type": "stream",
     "text": [
      "Array(1, 2, 3, 4, 5, 6, 100)\n"
     ]
    }
   ],
   "source": [
    "print(a)"
   ]
  },
  {
   "cell_type": "markdown",
   "metadata": {},
   "source": [
    "**Standard Library**"
   ]
  },
  {
   "cell_type": "code",
   "execution_count": 31,
   "metadata": {},
   "outputs": [],
   "source": [
    "import os"
   ]
  },
  {
   "cell_type": "code",
   "execution_count": 32,
   "metadata": {},
   "outputs": [
    {
     "name": "stdout",
     "output_type": "stream",
     "text": [
      "['DirEntry', 'F_OK', 'MutableMapping', 'O_APPEND', 'O_BINARY', 'O_CREAT', 'O_EXCL', 'O_NOINHERIT', 'O_RANDOM', 'O_RDONLY', 'O_RDWR', 'O_SEQUENTIAL', 'O_SHORT_LIVED', 'O_TEMPORARY', 'O_TEXT', 'O_TRUNC', 'O_WRONLY', 'P_DETACH', 'P_NOWAIT', 'P_NOWAITO', 'P_OVERLAY', 'P_WAIT', 'PathLike', 'R_OK', 'SEEK_CUR', 'SEEK_END', 'SEEK_SET', 'TMP_MAX', 'W_OK', 'X_OK', '_Environ', '__all__', '__builtins__', '__cached__', '__doc__', '__file__', '__loader__', '__name__', '__package__', '__spec__', '_execvpe', '_exists', '_exit', '_fspath', '_get_exports_list', '_putenv', '_unsetenv', '_wrap_close', 'abc', 'abort', 'access', 'altsep', 'chdir', 'chmod', 'close', 'closerange', 'cpu_count', 'curdir', 'defpath', 'device_encoding', 'devnull', 'dup', 'dup2', 'environ', 'error', 'execl', 'execle', 'execlp', 'execlpe', 'execv', 'execve', 'execvp', 'execvpe', 'extsep', 'fdopen', 'fsdecode', 'fsencode', 'fspath', 'fstat', 'fsync', 'ftruncate', 'get_exec_path', 'get_handle_inheritable', 'get_inheritable', 'get_terminal_size', 'getcwd', 'getcwdb', 'getenv', 'getlogin', 'getpid', 'getppid', 'isatty', 'kill', 'linesep', 'link', 'listdir', 'lseek', 'lstat', 'makedirs', 'mkdir', 'name', 'open', 'pardir', 'path', 'pathsep', 'pipe', 'popen', 'putenv', 'read', 'readlink', 'remove', 'removedirs', 'rename', 'renames', 'replace', 'rmdir', 'scandir', 'sep', 'set_handle_inheritable', 'set_inheritable', 'spawnl', 'spawnle', 'spawnv', 'spawnve', 'st', 'startfile', 'stat', 'stat_result', 'statvfs_result', 'strerror', 'supports_bytes_environ', 'supports_dir_fd', 'supports_effective_ids', 'supports_fd', 'supports_follow_symlinks', 'symlink', 'sys', 'system', 'terminal_size', 'times', 'times_result', 'truncate', 'umask', 'uname_result', 'unlink', 'urandom', 'utime', 'waitpid', 'walk', 'write']\n"
     ]
    }
   ],
   "source": [
    "print(dir(os))"
   ]
  },
  {
   "cell_type": "code",
   "execution_count": 33,
   "metadata": {},
   "outputs": [
    {
     "data": {
      "text/plain": [
       "<module 'ntpath' from 'C:\\\\Anaconda3\\\\lib\\\\ntpath.py'>"
      ]
     },
     "execution_count": 33,
     "metadata": {},
     "output_type": "execute_result"
    }
   ],
   "source": [
    "os.path"
   ]
  },
  {
   "cell_type": "code",
   "execution_count": 35,
   "metadata": {},
   "outputs": [],
   "source": [
    "cur_dir = os.path.abspath(\".\")\n",
    "\n",
    "# . present working directory"
   ]
  },
  {
   "cell_type": "code",
   "execution_count": 36,
   "metadata": {},
   "outputs": [
    {
     "data": {
      "text/plain": [
       "'C:\\\\Users\\\\sachin\\\\Desktop\\\\InternBatch'"
      ]
     },
     "execution_count": 36,
     "metadata": {},
     "output_type": "execute_result"
    }
   ],
   "source": [
    "cur_dir"
   ]
  },
  {
   "cell_type": "code",
   "execution_count": 38,
   "metadata": {},
   "outputs": [
    {
     "data": {
      "text/plain": [
       "['books',\n",
       " 'desktop.ini',\n",
       " 'InternBatch',\n",
       " 'myapp.py',\n",
       " 'old',\n",
       " 'Techno_Intern_Batch']"
      ]
     },
     "execution_count": 38,
     "metadata": {},
     "output_type": "execute_result"
    }
   ],
   "source": [
    "path = \"C:\\\\users\\\\sachin\\\\Desktop\"\n",
    "os.listdir(path)"
   ]
  },
  {
   "cell_type": "code",
   "execution_count": 39,
   "metadata": {},
   "outputs": [],
   "source": [
    "path = \"D:\\\\\""
   ]
  },
  {
   "cell_type": "code",
   "execution_count": 40,
   "metadata": {},
   "outputs": [
    {
     "data": {
      "text/plain": [
       "['$RECYCLE.BIN',\n",
       " 'Big_Data_Hadoop_Machine',\n",
       " 'BOOKS',\n",
       " 'Data',\n",
       " 'Documents',\n",
       " 'Downloads',\n",
       " 'IMAGES',\n",
       " 'System Volume Information']"
      ]
     },
     "execution_count": 40,
     "metadata": {},
     "output_type": "execute_result"
    }
   ],
   "source": [
    "os.listdir(path)"
   ]
  },
  {
   "cell_type": "code",
   "execution_count": 41,
   "metadata": {},
   "outputs": [],
   "source": [
    "path = \"C:\\\\Users\\\\sachin\\\\Desktop\\\\demo\""
   ]
  },
  {
   "cell_type": "code",
   "execution_count": 42,
   "metadata": {},
   "outputs": [
    {
     "data": {
      "text/plain": [
       "['bye', 'hi', 'myapp.py', 'one', 'two']"
      ]
     },
     "execution_count": 42,
     "metadata": {},
     "output_type": "execute_result"
    }
   ],
   "source": [
    "os.listdir(path)"
   ]
  },
  {
   "cell_type": "code",
   "execution_count": 43,
   "metadata": {},
   "outputs": [
    {
     "data": {
      "text/plain": [
       "False"
      ]
     },
     "execution_count": 43,
     "metadata": {},
     "output_type": "execute_result"
    }
   ],
   "source": [
    "os.path.exists('C:\\\\abracadabra')"
   ]
  },
  {
   "cell_type": "code",
   "execution_count": 47,
   "metadata": {},
   "outputs": [
    {
     "data": {
      "text/plain": [
       "True"
      ]
     },
     "execution_count": 47,
     "metadata": {},
     "output_type": "execute_result"
    }
   ],
   "source": [
    "os.path.exists('c:\\\\users\\\\sachin\\\\Desktop\\\\demo\\\\bye')"
   ]
  },
  {
   "cell_type": "code",
   "execution_count": 52,
   "metadata": {},
   "outputs": [],
   "source": [
    "def read_file(path):\n",
    "    if os.path.exists(path):\n",
    "        fp = open(path)\n",
    "        print(fp.read())\n",
    "        fp.close()\n",
    "    else:\n",
    "        print(\"!!Error!! Invalid Path Double check\")"
   ]
  },
  {
   "cell_type": "code",
   "execution_count": 53,
   "metadata": {},
   "outputs": [
    {
     "name": "stdout",
     "output_type": "stream",
     "text": [
      "!!Error!! Invalid Path Double check\n"
     ]
    }
   ],
   "source": [
    "read_file('abcd.py')"
   ]
  },
  {
   "cell_type": "code",
   "execution_count": 54,
   "metadata": {},
   "outputs": [
    {
     "name": "stdout",
     "output_type": "stream",
     "text": [
      "hello i am bye\n",
      "\n"
     ]
    }
   ],
   "source": [
    "read_file('c:\\\\users\\\\sachin\\\\Desktop\\\\demo\\\\bye')"
   ]
  },
  {
   "cell_type": "code",
   "execution_count": 55,
   "metadata": {},
   "outputs": [
    {
     "ename": "PermissionError",
     "evalue": "[Errno 13] Permission denied: 'c:\\\\users\\\\sachin\\\\Desktop\\\\demo\\\\one'",
     "output_type": "error",
     "traceback": [
      "\u001b[1;31m---------------------------------------------------------------------------\u001b[0m",
      "\u001b[1;31mPermissionError\u001b[0m                           Traceback (most recent call last)",
      "\u001b[1;32m<ipython-input-55-3c5bd4d78b40>\u001b[0m in \u001b[0;36m<module>\u001b[1;34m\u001b[0m\n\u001b[1;32m----> 1\u001b[1;33m \u001b[0mread_file\u001b[0m\u001b[1;33m(\u001b[0m\u001b[1;34m'c:\\\\users\\\\sachin\\\\Desktop\\\\demo\\\\one'\u001b[0m\u001b[1;33m)\u001b[0m\u001b[1;33m\u001b[0m\u001b[1;33m\u001b[0m\u001b[0m\n\u001b[0m",
      "\u001b[1;32m<ipython-input-52-18d468687494>\u001b[0m in \u001b[0;36mread_file\u001b[1;34m(path)\u001b[0m\n\u001b[0;32m      1\u001b[0m \u001b[1;32mdef\u001b[0m \u001b[0mread_file\u001b[0m\u001b[1;33m(\u001b[0m\u001b[0mpath\u001b[0m\u001b[1;33m)\u001b[0m\u001b[1;33m:\u001b[0m\u001b[1;33m\u001b[0m\u001b[1;33m\u001b[0m\u001b[0m\n\u001b[0;32m      2\u001b[0m     \u001b[1;32mif\u001b[0m \u001b[0mos\u001b[0m\u001b[1;33m.\u001b[0m\u001b[0mpath\u001b[0m\u001b[1;33m.\u001b[0m\u001b[0mexists\u001b[0m\u001b[1;33m(\u001b[0m\u001b[0mpath\u001b[0m\u001b[1;33m)\u001b[0m\u001b[1;33m:\u001b[0m\u001b[1;33m\u001b[0m\u001b[1;33m\u001b[0m\u001b[0m\n\u001b[1;32m----> 3\u001b[1;33m         \u001b[0mfp\u001b[0m \u001b[1;33m=\u001b[0m \u001b[0mopen\u001b[0m\u001b[1;33m(\u001b[0m\u001b[0mpath\u001b[0m\u001b[1;33m)\u001b[0m\u001b[1;33m\u001b[0m\u001b[1;33m\u001b[0m\u001b[0m\n\u001b[0m\u001b[0;32m      4\u001b[0m         \u001b[0mprint\u001b[0m\u001b[1;33m(\u001b[0m\u001b[0mfp\u001b[0m\u001b[1;33m.\u001b[0m\u001b[0mread\u001b[0m\u001b[1;33m(\u001b[0m\u001b[1;33m)\u001b[0m\u001b[1;33m)\u001b[0m\u001b[1;33m\u001b[0m\u001b[1;33m\u001b[0m\u001b[0m\n\u001b[0;32m      5\u001b[0m         \u001b[0mfp\u001b[0m\u001b[1;33m.\u001b[0m\u001b[0mclose\u001b[0m\u001b[1;33m(\u001b[0m\u001b[1;33m)\u001b[0m\u001b[1;33m\u001b[0m\u001b[1;33m\u001b[0m\u001b[0m\n",
      "\u001b[1;31mPermissionError\u001b[0m: [Errno 13] Permission denied: 'c:\\\\users\\\\sachin\\\\Desktop\\\\demo\\\\one'"
     ]
    }
   ],
   "source": [
    "read_file('c:\\\\users\\\\sachin\\\\Desktop\\\\demo\\\\one')"
   ]
  },
  {
   "cell_type": "code",
   "execution_count": 56,
   "metadata": {},
   "outputs": [
    {
     "data": {
      "text/plain": [
       "False"
      ]
     },
     "execution_count": 56,
     "metadata": {},
     "output_type": "execute_result"
    }
   ],
   "source": [
    "os.path.isdir('c:\\\\users\\\\sachin\\\\Desktop\\\\demo\\\\bye')"
   ]
  },
  {
   "cell_type": "code",
   "execution_count": 57,
   "metadata": {},
   "outputs": [
    {
     "data": {
      "text/plain": [
       "True"
      ]
     },
     "execution_count": 57,
     "metadata": {},
     "output_type": "execute_result"
    }
   ],
   "source": [
    "os.path.isfile('c:\\\\users\\\\sachin\\\\Desktop\\\\demo\\\\bye')"
   ]
  },
  {
   "cell_type": "code",
   "execution_count": 58,
   "metadata": {},
   "outputs": [],
   "source": [
    "def read_file(path):\n",
    "    if os.path.exists(path):\n",
    "        if os.path.isfile(path):\n",
    "            fp = open(path)\n",
    "            print(fp.read())\n",
    "            fp.close()\n",
    "        else:\n",
    "            print(\"!!Error!!Given a Directory need a file\")\n",
    "    else:\n",
    "        print(\"!!Error!! Invalid Path Double check\")"
   ]
  },
  {
   "cell_type": "code",
   "execution_count": 59,
   "metadata": {},
   "outputs": [
    {
     "name": "stdout",
     "output_type": "stream",
     "text": [
      "!!Error!!Given a Directory need a file\n"
     ]
    }
   ],
   "source": [
    "read_file('C:\\\\users\\\\sachin\\\\desktop\\\\demo\\\\one')"
   ]
  },
  {
   "cell_type": "code",
   "execution_count": 60,
   "metadata": {},
   "outputs": [
    {
     "name": "stdout",
     "output_type": "stream",
     "text": [
      "#!/usr/local/anaconda3/bin/python\n",
      "\n",
      "from flask import Flask, request\n",
      "import subprocess as sp\n",
      "\n",
      "app = Flask(__name__)\n",
      "\n",
      "@app.route('/')\n",
      "def index():\n",
      "    html=f\"\"\"\n",
      "    <!Doctype html>\n",
      "        <html>\n",
      "            <body>\n",
      "                <h1 style='color:red'>Welcome to Hadoop Commnad Service </h1>\n",
      "                <form method='POST' action='/run'>\n",
      "                <p><label>Command: </label><input type='text' name='cmd'></p>\n",
      "                <p><input type='submit' value='Run Code'>\n",
      "                </form>\n",
      "            </body>\n",
      "        </html>\n",
      "    \"\"\"\n",
      "    return html\n",
      "\n",
      "@app.route('/run', methods=['POST'])\n",
      "def run():\n",
      "    html = \"<h1 style='color:#123456'>Here is Your Output <a href='/'>Home</a></h1></br></br></br>\"\n",
      "    cmd = request.form.get('cmd')\n",
      "    output = sp.getoutput('hdfs dfs -'+cmd)\n",
      "    output = output.replace('\\n', '</br>')\n",
      "    output = output.replace('\\t', '&nbsp;&nbsp;&nbsp; &nbsp;&nbsp;&nbsp;&nbsp;&nbsp;')\n",
      "    return html+output\n",
      "\n",
      "\n",
      "if __name__ == '__main__':\n",
      "\n",
      "    app.run('172.25.5.10', 80, debug=True)\n",
      "\n",
      "\n"
     ]
    }
   ],
   "source": [
    "read_file('C:\\\\users\\\\sachin\\\\desktop\\\\demo\\\\myapp.py')"
   ]
  },
  {
   "cell_type": "markdown",
   "metadata": {},
   "source": [
    "    os.path.exists \n",
    "    os.path.isfile\n",
    "    os.path.isdir\n",
    "    os.path.abspath"
   ]
  },
  {
   "cell_type": "code",
   "execution_count": 63,
   "metadata": {},
   "outputs": [
    {
     "data": {
      "text/plain": [
       "'C:\\\\Users\\\\sachin\\\\Desktop\\\\InternBatch'"
      ]
     },
     "execution_count": 63,
     "metadata": {},
     "output_type": "execute_result"
    }
   ],
   "source": [
    "os.getcwd()"
   ]
  },
  {
   "cell_type": "code",
   "execution_count": 67,
   "metadata": {},
   "outputs": [
    {
     "data": {
      "text/plain": [
       "['All Users',\n",
       " 'Default',\n",
       " 'Default User',\n",
       " 'defaultuser100000',\n",
       " 'defaultuser100000.SACHIN',\n",
       " 'defaultuser100001',\n",
       " 'desktop.ini',\n",
       " 'Public',\n",
       " 'sachin']"
      ]
     },
     "execution_count": 67,
     "metadata": {},
     "output_type": "execute_result"
    }
   ],
   "source": [
    "os.listdir('C:/users')"
   ]
  },
  {
   "cell_type": "code",
   "execution_count": 66,
   "metadata": {},
   "outputs": [],
   "source": [
    "p = 'C:\\\\users\\\\All Users'"
   ]
  },
  {
   "cell_type": "code",
   "execution_count": 68,
   "metadata": {},
   "outputs": [
    {
     "data": {
      "text/plain": [
       "'C:\\\\users\\\\sachin'"
      ]
     },
     "execution_count": 68,
     "metadata": {},
     "output_type": "execute_result"
    }
   ],
   "source": [
    "os.path.join(\"C:\\\\users\", \"sachin\")"
   ]
  },
  {
   "cell_type": "code",
   "execution_count": 88,
   "metadata": {},
   "outputs": [],
   "source": [
    "def list_dir(path):\n",
    "    if os.path.exists(path):\n",
    "        if os.path.isdir(path):\n",
    "            output = os.listdir(path)\n",
    "            files = []\n",
    "            dirs = []\n",
    "            for name in output:\n",
    "                npath = os.path.join(path, name)\n",
    "                if os.path.isfile(npath):\n",
    "                    files.append(name)\n",
    "                else:\n",
    "                    dirs.append(name)\n",
    "            print(\"Dir --> \\n\\n\\t\\t\", end='')\n",
    "            print( *dirs,  sep='\\n\\t\\t')\n",
    "            print(\"Files ---> \\n\\n\\t\\t\", end='')\n",
    "            print(*files, sep='\\n\\t\\t')\n",
    "        else:\n",
    "            print(\"!!Need a Directory to list not file!!\")\n",
    "    else:\n",
    "        print(\"!!Invalid Path!!\")"
   ]
  },
  {
   "cell_type": "code",
   "execution_count": 89,
   "metadata": {},
   "outputs": [
    {
     "name": "stdout",
     "output_type": "stream",
     "text": [
      "Dir --> \n",
      "\n",
      "\t\thi\n",
      "\t\tone\n",
      "\t\ttwo\n",
      "Files ---> \n",
      "\n",
      "\t\tbye\n",
      "\t\tmyapp.py\n"
     ]
    }
   ],
   "source": [
    "list_dir('C:\\\\users\\\\sachin\\\\desktop\\\\demo')"
   ]
  },
  {
   "cell_type": "code",
   "execution_count": 91,
   "metadata": {},
   "outputs": [
    {
     "name": "stdout",
     "output_type": "stream",
     "text": [
      "Dir --> \n",
      "\n",
      "\t\tbooks\n",
      "\t\tdemo\n",
      "\t\tInternBatch\n",
      "\t\told\n",
      "\t\tTechno_Intern_Batch\n",
      "Files ---> \n",
      "\n",
      "\t\tdesktop.ini\n"
     ]
    }
   ],
   "source": [
    "list_dir(\"C:\\\\users\\\\sachin\\\\Desktop\")"
   ]
  },
  {
   "cell_type": "markdown",
   "metadata": {},
   "source": [
    "    Read mode    os.R_OK\n",
    "\n",
    "    Write mode   os.W_OK\n",
    "    \n",
    "    Execute mode os.X_OK"
   ]
  },
  {
   "cell_type": "markdown",
   "metadata": {},
   "source": [
    "Permission"
   ]
  },
  {
   "cell_type": "code",
   "execution_count": 92,
   "metadata": {},
   "outputs": [
    {
     "data": {
      "text/plain": [
       "True"
      ]
     },
     "execution_count": 92,
     "metadata": {},
     "output_type": "execute_result"
    }
   ],
   "source": [
    "os.access('C:\\\\users', os.R_OK)"
   ]
  },
  {
   "cell_type": "code",
   "execution_count": 94,
   "metadata": {},
   "outputs": [
    {
     "data": {
      "text/plain": [
       "True"
      ]
     },
     "execution_count": 94,
     "metadata": {},
     "output_type": "execute_result"
    }
   ],
   "source": [
    "os.access(\"C:\\\\users\", os.W_OK)"
   ]
  },
  {
   "cell_type": "code",
   "execution_count": 95,
   "metadata": {},
   "outputs": [
    {
     "data": {
      "text/plain": [
       "True"
      ]
     },
     "execution_count": 95,
     "metadata": {},
     "output_type": "execute_result"
    }
   ],
   "source": [
    "os.access(\"C:\\\\users\", os.X_OK)"
   ]
  },
  {
   "cell_type": "code",
   "execution_count": 96,
   "metadata": {},
   "outputs": [],
   "source": [
    "import time"
   ]
  },
  {
   "cell_type": "code",
   "execution_count": 98,
   "metadata": {},
   "outputs": [],
   "source": [
    "time.sleep(10)\n",
    "path = \"C:\\\\users\\\\sachin\\\\Desktop\\\\demo\"\n",
    "dirs = [ 'hi', 'one',]\n",
    "for item in dirs:\n",
    "    dpath = os.path.join(path, item)\n",
    "    os.rmdir(dpath)"
   ]
  },
  {
   "cell_type": "code",
   "execution_count": 99,
   "metadata": {},
   "outputs": [
    {
     "ename": "OSError",
     "evalue": "[WinError 145] The directory is not empty: 'C:\\\\users\\\\sachin\\\\Desktop\\\\demo\\\\two'",
     "output_type": "error",
     "traceback": [
      "\u001b[1;31m---------------------------------------------------------------------------\u001b[0m",
      "\u001b[1;31mOSError\u001b[0m                                   Traceback (most recent call last)",
      "\u001b[1;32m<ipython-input-99-8f8d9442c394>\u001b[0m in \u001b[0;36m<module>\u001b[1;34m\u001b[0m\n\u001b[0;32m      4\u001b[0m \u001b[1;32mfor\u001b[0m \u001b[0mitem\u001b[0m \u001b[1;32min\u001b[0m \u001b[0mdirs\u001b[0m\u001b[1;33m:\u001b[0m\u001b[1;33m\u001b[0m\u001b[1;33m\u001b[0m\u001b[0m\n\u001b[0;32m      5\u001b[0m     \u001b[0mdpath\u001b[0m \u001b[1;33m=\u001b[0m \u001b[0mos\u001b[0m\u001b[1;33m.\u001b[0m\u001b[0mpath\u001b[0m\u001b[1;33m.\u001b[0m\u001b[0mjoin\u001b[0m\u001b[1;33m(\u001b[0m\u001b[0mpath\u001b[0m\u001b[1;33m,\u001b[0m \u001b[0mitem\u001b[0m\u001b[1;33m)\u001b[0m\u001b[1;33m\u001b[0m\u001b[1;33m\u001b[0m\u001b[0m\n\u001b[1;32m----> 6\u001b[1;33m     \u001b[0mos\u001b[0m\u001b[1;33m.\u001b[0m\u001b[0mrmdir\u001b[0m\u001b[1;33m(\u001b[0m\u001b[0mdpath\u001b[0m\u001b[1;33m)\u001b[0m\u001b[1;33m\u001b[0m\u001b[1;33m\u001b[0m\u001b[0m\n\u001b[0m",
      "\u001b[1;31mOSError\u001b[0m: [WinError 145] The directory is not empty: 'C:\\\\users\\\\sachin\\\\Desktop\\\\demo\\\\two'"
     ]
    }
   ],
   "source": [
    "time.sleep(10)\n",
    "path = \"C:\\\\users\\\\sachin\\\\Desktop\\\\demo\"\n",
    "dirs = [ 'two']\n",
    "for item in dirs:\n",
    "    dpath = os.path.join(path, item)\n",
    "    os.rmdir(dpath)"
   ]
  },
  {
   "cell_type": "code",
   "execution_count": 102,
   "metadata": {},
   "outputs": [
    {
     "name": "stdout",
     "output_type": "stream",
     "text": [
      "Help on function removedirs in module os:\n",
      "\n",
      "removedirs(name)\n",
      "    removedirs(name)\n",
      "    \n",
      "    Super-rmdir; remove a leaf directory and all empty intermediate\n",
      "    ones.  Works like rmdir except that, if the leaf directory is\n",
      "    successfully removed, directories corresponding to rightmost path\n",
      "    segments will be pruned away until either the whole path is\n",
      "    consumed or an error occurs.  Errors during this latter phase are\n",
      "    ignored -- they generally mean that a directory was not empty.\n",
      "\n"
     ]
    }
   ],
   "source": [
    "help(os.removedirs)"
   ]
  },
  {
   "cell_type": "code",
   "execution_count": 104,
   "metadata": {},
   "outputs": [],
   "source": [
    "#os.removedirs('C:\\\\users\\\\sachin\\\\desktop\\\\demo\\\\two')"
   ]
  },
  {
   "cell_type": "code",
   "execution_count": 105,
   "metadata": {},
   "outputs": [],
   "source": [
    "import shutil"
   ]
  },
  {
   "cell_type": "code",
   "execution_count": 106,
   "metadata": {},
   "outputs": [
    {
     "data": {
      "text/plain": [
       "'C:\\\\users\\\\sachin\\\\desktop\\\\myapp.py'"
      ]
     },
     "execution_count": 106,
     "metadata": {},
     "output_type": "execute_result"
    }
   ],
   "source": [
    "time.sleep(10)\n",
    "shutil.copy('C:\\\\users\\\\sachin\\\\desktop\\\\demo\\\\myapp.py', 'C:\\\\users\\\\sachin\\\\desktop')"
   ]
  },
  {
   "cell_type": "code",
   "execution_count": 107,
   "metadata": {},
   "outputs": [],
   "source": [
    "os.remove('C:\\\\users\\\\sachin\\\\desktop\\\\demo\\\\myapp.py')"
   ]
  },
  {
   "cell_type": "code",
   "execution_count": 109,
   "metadata": {},
   "outputs": [],
   "source": [
    "shutil.rmtree('C:\\\\users\\\\sachin\\\\desktop\\\\demo')"
   ]
  },
  {
   "cell_type": "code",
   "execution_count": 112,
   "metadata": {},
   "outputs": [
    {
     "data": {
      "text/plain": [
       "'C:\\\\users\\\\sachin\\\\desktop\\\\copy\\\\InternBatch'"
      ]
     },
     "execution_count": 112,
     "metadata": {},
     "output_type": "execute_result"
    }
   ],
   "source": [
    "shutil.copytree('C:\\\\users\\\\sachin\\\\desktop\\\\InternBatch', 'C:\\\\users\\\\sachin\\\\desktop\\\\copy\\\\InternBatch')"
   ]
  },
  {
   "cell_type": "code",
   "execution_count": 113,
   "metadata": {},
   "outputs": [],
   "source": [
    "shutil.rmtree('C:\\\\users\\\\sachin\\\\desktop\\\\copy\\\\')"
   ]
  },
  {
   "cell_type": "code",
   "execution_count": 114,
   "metadata": {},
   "outputs": [],
   "source": [
    "os.rename('C:\\\\users\\\\sachin\\\\desktop\\\\myapp.py', 'C:\\\\users\\\\sachin\\\\desktop\\\\hadoop.py')"
   ]
  },
  {
   "cell_type": "code",
   "execution_count": 115,
   "metadata": {},
   "outputs": [
    {
     "data": {
      "text/plain": [
       "<function nt.system(command)>"
      ]
     },
     "execution_count": 115,
     "metadata": {},
     "output_type": "execute_result"
    }
   ],
   "source": [
    "os.system"
   ]
  },
  {
   "cell_type": "code",
   "execution_count": 116,
   "metadata": {},
   "outputs": [
    {
     "data": {
      "text/plain": [
       "0"
      ]
     },
     "execution_count": 116,
     "metadata": {},
     "output_type": "execute_result"
    }
   ],
   "source": [
    "os.system('clear') # exit code --> 0"
   ]
  },
  {
   "cell_type": "code",
   "execution_count": 117,
   "metadata": {},
   "outputs": [
    {
     "data": {
      "text/plain": [
       "0"
      ]
     },
     "execution_count": 117,
     "metadata": {},
     "output_type": "execute_result"
    }
   ],
   "source": [
    "os.system('mspaint')"
   ]
  },
  {
   "cell_type": "code",
   "execution_count": 118,
   "metadata": {},
   "outputs": [
    {
     "data": {
      "text/plain": [
       "1"
      ]
     },
     "execution_count": 118,
     "metadata": {},
     "output_type": "execute_result"
    }
   ],
   "source": [
    "os.system('abcd')"
   ]
  },
  {
   "cell_type": "code",
   "execution_count": 119,
   "metadata": {},
   "outputs": [],
   "source": [
    "os.mkdir('C:\\\\users\\\\sachin\\\\desktop\\\\abcd')"
   ]
  },
  {
   "cell_type": "code",
   "execution_count": 122,
   "metadata": {},
   "outputs": [],
   "source": [
    "x = os.popen('mspaint')"
   ]
  },
  {
   "cell_type": "code",
   "execution_count": 123,
   "metadata": {},
   "outputs": [
    {
     "name": "stdout",
     "output_type": "stream",
     "text": [
      "\n"
     ]
    }
   ],
   "source": [
    "print(*x)"
   ]
  },
  {
   "cell_type": "code",
   "execution_count": 125,
   "metadata": {},
   "outputs": [
    {
     "name": "stdout",
     "output_type": "stream",
     "text": [
      "InternBatch\n",
      "\n",
      "Techno_Intern_Batch\n",
      "\n",
      "abcd\n",
      "\n",
      "books\n",
      "\n",
      "desktop.ini\n",
      "\n",
      "hadoop.py\n",
      "\n",
      "old\n",
      "\n"
     ]
    }
   ],
   "source": [
    "output = os.popen('ls C:\\\\users\\\\sachin\\\\Desktop')\n",
    "print(*output, sep='\\n')"
   ]
  },
  {
   "cell_type": "code",
   "execution_count": 126,
   "metadata": {},
   "outputs": [],
   "source": [
    "ip = os.popen('ipconfig')"
   ]
  },
  {
   "cell_type": "code",
   "execution_count": 127,
   "metadata": {},
   "outputs": [
    {
     "name": "stdout",
     "output_type": "stream",
     "text": [
      "\n",
      " Windows IP Configuration\n",
      " \n",
      " \n",
      " Wireless LAN adapter Local Area Connection* 1:\n",
      " \n",
      "    Media State . . . . . . . . . . . : Media disconnected\n",
      "    Connection-specific DNS Suffix  . : \n",
      " \n",
      " Wireless LAN adapter Local Area Connection* 3:\n",
      " \n",
      "    Media State . . . . . . . . . . . : Media disconnected\n",
      "    Connection-specific DNS Suffix  . : \n",
      " \n",
      " Ethernet adapter VMware Network Adapter VMnet8:\n",
      " \n",
      "    Connection-specific DNS Suffix  . : \n",
      "    Link-local IPv6 Address . . . . . : fe80::2072:bd24:9c71:a204%11\n",
      "    IPv4 Address. . . . . . . . . . . : 172.25.5.1\n",
      "    Subnet Mask . . . . . . . . . . . : 255.255.255.0\n",
      "    Default Gateway . . . . . . . . . : \n",
      " \n",
      " Wireless LAN adapter Wi-Fi:\n",
      " \n",
      "    Connection-specific DNS Suffix  . : \n",
      "    IPv6 Address. . . . . . . . . . . : 2405:201:5e01:2f36:84f2:4cce:4cb0:d2c0\n",
      "    Temporary IPv6 Address. . . . . . : 2405:201:5e01:2f36:bdb4:ff4d:dd5c:d0d3\n",
      "    Link-local IPv6 Address . . . . . : fe80::84f2:4cce:4cb0:d2c0%6\n",
      "    IPv4 Address. . . . . . . . . . . : 192.168.29.232\n",
      "    Subnet Mask . . . . . . . . . . . : 255.255.255.0\n",
      "    Default Gateway . . . . . . . . . : fe80::6edf:fbff:fe2d:5cbf%6\n",
      "                                        192.168.29.1\n",
      " \n",
      " Ethernet adapter Bluetooth Network Connection:\n",
      " \n",
      "    Media State . . . . . . . . . . . : Media disconnected\n",
      "    Connection-specific DNS Suffix  . : \n",
      "\n"
     ]
    }
   ],
   "source": [
    "print(*ip)"
   ]
  },
  {
   "cell_type": "code",
   "execution_count": 128,
   "metadata": {},
   "outputs": [],
   "source": [
    "import subprocess"
   ]
  },
  {
   "cell_type": "code",
   "execution_count": 129,
   "metadata": {},
   "outputs": [
    {
     "name": "stdout",
     "output_type": "stream",
     "text": [
      "['ABOVE_NORMAL_PRIORITY_CLASS', 'BELOW_NORMAL_PRIORITY_CLASS', 'CREATE_BREAKAWAY_FROM_JOB', 'CREATE_DEFAULT_ERROR_MODE', 'CREATE_NEW_CONSOLE', 'CREATE_NEW_PROCESS_GROUP', 'CREATE_NO_WINDOW', 'CalledProcessError', 'CompletedProcess', 'DETACHED_PROCESS', 'DEVNULL', 'HIGH_PRIORITY_CLASS', 'Handle', 'IDLE_PRIORITY_CLASS', 'NORMAL_PRIORITY_CLASS', 'PIPE', 'Popen', 'REALTIME_PRIORITY_CLASS', 'STARTF_USESHOWWINDOW', 'STARTF_USESTDHANDLES', 'STARTUPINFO', 'STDOUT', 'STD_ERROR_HANDLE', 'STD_INPUT_HANDLE', 'STD_OUTPUT_HANDLE', 'SW_HIDE', 'SubprocessError', 'TimeoutExpired', '__all__', '__builtins__', '__cached__', '__doc__', '__file__', '__loader__', '__name__', '__package__', '__spec__', '__warningregistry__', '_active', '_args_from_interpreter_flags', '_cleanup', '_mswindows', '_optim_args_from_interpreter_flags', '_time', '_winapi', 'builtins', 'call', 'check_call', 'check_output', 'errno', 'getoutput', 'getstatusoutput', 'io', 'list2cmdline', 'msvcrt', 'os', 'run', 'signal', 'sys', 'threading', 'time', 'warnings']\n"
     ]
    }
   ],
   "source": [
    "print(dir(subprocess))"
   ]
  },
  {
   "cell_type": "code",
   "execution_count": 132,
   "metadata": {},
   "outputs": [
    {
     "data": {
      "text/plain": [
       "'Tue May 26 13:38:57 2020'"
      ]
     },
     "execution_count": 132,
     "metadata": {},
     "output_type": "execute_result"
    }
   ],
   "source": [
    "subprocess.time.ctime()"
   ]
  },
  {
   "cell_type": "code",
   "execution_count": 133,
   "metadata": {},
   "outputs": [
    {
     "data": {
      "text/plain": [
       "True"
      ]
     },
     "execution_count": 133,
     "metadata": {},
     "output_type": "execute_result"
    }
   ],
   "source": [
    "subprocess.os.path.exists('C:\\\\')"
   ]
  },
  {
   "cell_type": "code",
   "execution_count": 138,
   "metadata": {},
   "outputs": [],
   "source": [
    "output = subprocess.getoutput(\"ls c:\\\\users\\\\sachin\\\\desktop\")"
   ]
  },
  {
   "cell_type": "code",
   "execution_count": 140,
   "metadata": {},
   "outputs": [
    {
     "name": "stdout",
     "output_type": "stream",
     "text": [
      "InternBatch\n",
      "Techno_Intern_Batch\n",
      "abcd\n",
      "books\n",
      "desktop.ini\n",
      "hadoop.py\n",
      "old\n"
     ]
    }
   ],
   "source": [
    "print(output)"
   ]
  },
  {
   "cell_type": "code",
   "execution_count": 141,
   "metadata": {},
   "outputs": [
    {
     "name": "stdout",
     "output_type": "stream",
     "text": [
      "\n",
      "Windows IP Configuration\n",
      "\n",
      "\n",
      "Wireless LAN adapter Local Area Connection* 1:\n",
      "\n",
      "   Media State . . . . . . . . . . . : Media disconnected\n",
      "   Connection-specific DNS Suffix  . : \n",
      "\n",
      "Wireless LAN adapter Local Area Connection* 3:\n",
      "\n",
      "   Media State . . . . . . . . . . . : Media disconnected\n",
      "   Connection-specific DNS Suffix  . : \n",
      "\n",
      "Ethernet adapter VMware Network Adapter VMnet8:\n",
      "\n",
      "   Connection-specific DNS Suffix  . : \n",
      "   Link-local IPv6 Address . . . . . : fe80::2072:bd24:9c71:a204%11\n",
      "   IPv4 Address. . . . . . . . . . . : 172.25.5.1\n",
      "   Subnet Mask . . . . . . . . . . . : 255.255.255.0\n",
      "   Default Gateway . . . . . . . . . : \n",
      "\n",
      "Wireless LAN adapter Wi-Fi:\n",
      "\n",
      "   Connection-specific DNS Suffix  . : \n",
      "   IPv6 Address. . . . . . . . . . . : 2405:201:5e01:2f36:84f2:4cce:4cb0:d2c0\n",
      "   Temporary IPv6 Address. . . . . . : 2405:201:5e01:2f36:bdb4:ff4d:dd5c:d0d3\n",
      "   Link-local IPv6 Address . . . . . : fe80::84f2:4cce:4cb0:d2c0%6\n",
      "   IPv4 Address. . . . . . . . . . . : 192.168.29.232\n",
      "   Subnet Mask . . . . . . . . . . . : 255.255.255.0\n",
      "   Default Gateway . . . . . . . . . : fe80::6edf:fbff:fe2d:5cbf%6\n",
      "                                       192.168.29.1\n",
      "\n",
      "Ethernet adapter Bluetooth Network Connection:\n",
      "\n",
      "   Media State . . . . . . . . . . . : Media disconnected\n",
      "   Connection-specific DNS Suffix  . : \n"
     ]
    }
   ],
   "source": [
    "print(subprocess.getoutput(\"ipconfig\"))"
   ]
  },
  {
   "cell_type": "code",
   "execution_count": 147,
   "metadata": {},
   "outputs": [],
   "source": [
    "x = os.popen('ipconfig')"
   ]
  },
  {
   "cell_type": "code",
   "execution_count": 148,
   "metadata": {},
   "outputs": [
    {
     "name": "stdout",
     "output_type": "stream",
     "text": [
      "<os._wrap_close object at 0x000001FBE3C3B308>\n"
     ]
    }
   ],
   "source": [
    "print(x)"
   ]
  },
  {
   "cell_type": "code",
   "execution_count": 149,
   "metadata": {},
   "outputs": [
    {
     "name": "stdout",
     "output_type": "stream",
     "text": [
      "\n",
      "Windows IP Configuration\n",
      "\n",
      "\n",
      "Wireless LAN adapter Local Area Connection* 1:\n",
      "\n",
      "   Media State . . . . . . . . . . . : Media disconnected\n",
      "   Connection-specific DNS Suffix  . : \n",
      "\n",
      "Wireless LAN adapter Local Area Connection* 3:\n",
      "\n",
      "   Media State . . . . . . . . . . . : Media disconnected\n",
      "   Connection-specific DNS Suffix  . : \n",
      "\n",
      "Ethernet adapter VMware Network Adapter VMnet8:\n",
      "\n",
      "   Connection-specific DNS Suffix  . : \n",
      "   Link-local IPv6 Address . . . . . : fe80::2072:bd24:9c71:a204%11\n",
      "   IPv4 Address. . . . . . . . . . . : 172.25.5.1\n",
      "   Subnet Mask . . . . . . . . . . . : 255.255.255.0\n",
      "   Default Gateway . . . . . . . . . : \n",
      "\n",
      "Wireless LAN adapter Wi-Fi:\n",
      "\n",
      "   Connection-specific DNS Suffix  . : \n",
      "   IPv6 Address. . . . . . . . . . . : 2405:201:5e01:2f36:84f2:4cce:4cb0:d2c0\n",
      "   Temporary IPv6 Address. . . . . . : 2405:201:5e01:2f36:bdb4:ff4d:dd5c:d0d3\n",
      "   Link-local IPv6 Address . . . . . : fe80::84f2:4cce:4cb0:d2c0%6\n",
      "   IPv4 Address. . . . . . . . . . . : 192.168.29.232\n",
      "   Subnet Mask . . . . . . . . . . . : 255.255.255.0\n",
      "   Default Gateway . . . . . . . . . : fe80::6edf:fbff:fe2d:5cbf%6\n",
      "                                       192.168.29.1\n",
      "\n",
      "Ethernet adapter Bluetooth Network Connection:\n",
      "\n",
      "   Media State . . . . . . . . . . . : Media disconnected\n",
      "   Connection-specific DNS Suffix  . : \n"
     ]
    }
   ],
   "source": [
    "for line in x:\n",
    "    print(line, end='')"
   ]
  },
  {
   "cell_type": "code",
   "execution_count": 150,
   "metadata": {},
   "outputs": [],
   "source": [
    "import sys"
   ]
  },
  {
   "cell_type": "code",
   "execution_count": 151,
   "metadata": {},
   "outputs": [],
   "source": [
    "ip = sys.stdin.readline()"
   ]
  },
  {
   "cell_type": "code",
   "execution_count": 152,
   "metadata": {},
   "outputs": [
    {
     "name": "stdout",
     "output_type": "stream",
     "text": [
      "hello world"
     ]
    }
   ],
   "source": [
    "sys.stdout.write('hello world')"
   ]
  },
  {
   "cell_type": "code",
   "execution_count": 153,
   "metadata": {},
   "outputs": [
    {
     "name": "stdout",
     "output_type": "stream",
     "text": [
      "['__breakpointhook__', '__displayhook__', '__doc__', '__excepthook__', '__interactivehook__', '__loader__', '__name__', '__package__', '__spec__', '__stderr__', '__stdin__', '__stdout__', '_base_executable', '_clear_type_cache', '_current_frames', '_debugmallocstats', '_enablelegacywindowsfsencoding', '_framework', '_getframe', '_git', '_home', '_xoptions', 'api_version', 'argv', 'base_exec_prefix', 'base_prefix', 'breakpointhook', 'builtin_module_names', 'byteorder', 'call_tracing', 'callstats', 'copyright', 'displayhook', 'dllhandle', 'dont_write_bytecode', 'exc_info', 'excepthook', 'exec_prefix', 'executable', 'exit', 'flags', 'float_info', 'float_repr_style', 'get_asyncgen_hooks', 'get_coroutine_origin_tracking_depth', 'get_coroutine_wrapper', 'getallocatedblocks', 'getcheckinterval', 'getdefaultencoding', 'getfilesystemencodeerrors', 'getfilesystemencoding', 'getprofile', 'getrecursionlimit', 'getrefcount', 'getsizeof', 'getswitchinterval', 'gettrace', 'getwindowsversion', 'hash_info', 'hexversion', 'implementation', 'int_info', 'intern', 'is_finalizing', 'last_traceback', 'last_type', 'last_value', 'maxsize', 'maxunicode', 'meta_path', 'modules', 'path', 'path_hooks', 'path_importer_cache', 'platform', 'prefix', 'ps1', 'ps2', 'ps3', 'set_asyncgen_hooks', 'set_coroutine_origin_tracking_depth', 'set_coroutine_wrapper', 'setcheckinterval', 'setprofile', 'setrecursionlimit', 'setswitchinterval', 'settrace', 'stderr', 'stdin', 'stdout', 'thread_info', 'version', 'version_info', 'warnoptions', 'winver']\n"
     ]
    }
   ],
   "source": [
    "print(dir(sys))"
   ]
  },
  {
   "cell_type": "markdown",
   "metadata": {},
   "source": [
    "sys.exit(0)"
   ]
  },
  {
   "cell_type": "markdown",
   "metadata": {},
   "source": [
    "##### socket progamming"
   ]
  },
  {
   "cell_type": "markdown",
   "metadata": {},
   "source": [
    "**threading**"
   ]
  },
  {
   "cell_type": "code",
   "execution_count": 155,
   "metadata": {},
   "outputs": [],
   "source": [
    "import time\n",
    "import tqdm"
   ]
  },
  {
   "cell_type": "code",
   "execution_count": 156,
   "metadata": {},
   "outputs": [
    {
     "name": "stderr",
     "output_type": "stream",
     "text": [
      "100%|███████████████████████████████████████████████████████████████████████| 900/900 [15:01<00:00,  1.00s/it]\n"
     ]
    }
   ],
   "source": [
    "for _ in tqdm.tqdm(range(900)):\n",
    "    time.sleep(1)"
   ]
  },
  {
   "cell_type": "code",
   "execution_count": 157,
   "metadata": {},
   "outputs": [],
   "source": [
    "import socket"
   ]
  },
  {
   "cell_type": "code",
   "execution_count": 158,
   "metadata": {},
   "outputs": [
    {
     "data": {
      "text/plain": [
       "('sachin', [], ['192.168.29.232'])"
      ]
     },
     "execution_count": 158,
     "metadata": {},
     "output_type": "execute_result"
    }
   ],
   "source": [
    "socket.gethostbyaddr('192.168.29.232')"
   ]
  },
  {
   "cell_type": "code",
   "execution_count": 160,
   "metadata": {},
   "outputs": [
    {
     "ename": "herror",
     "evalue": "[Errno 11004] host not found",
     "output_type": "error",
     "traceback": [
      "\u001b[1;31m---------------------------------------------------------------------------\u001b[0m",
      "\u001b[1;31mherror\u001b[0m                                    Traceback (most recent call last)",
      "\u001b[1;32m<ipython-input-160-5f28282d066e>\u001b[0m in \u001b[0;36m<module>\u001b[1;34m\u001b[0m\n\u001b[1;32m----> 1\u001b[1;33m \u001b[0msocket\u001b[0m\u001b[1;33m.\u001b[0m\u001b[0mgethostbyaddr\u001b[0m\u001b[1;33m(\u001b[0m\u001b[1;34m'192.168.29.124'\u001b[0m\u001b[1;33m)\u001b[0m\u001b[1;33m\u001b[0m\u001b[1;33m\u001b[0m\u001b[0m\n\u001b[0m",
      "\u001b[1;31mherror\u001b[0m: [Errno 11004] host not found"
     ]
    }
   ],
   "source": [
    "socket.gethostbyaddr('192.168.29.124')"
   ]
  },
  {
   "cell_type": "code",
   "execution_count": 162,
   "metadata": {},
   "outputs": [
    {
     "name": "stdout",
     "output_type": "stream",
     "text": [
      "172.217.160.206\n"
     ]
    }
   ],
   "source": [
    "ip_addr = socket.gethostbyname('google.com')\n",
    "print(ip_addr)"
   ]
  },
  {
   "cell_type": "markdown",
   "metadata": {},
   "source": [
    "facebook.com--> DNS --> facebook.com ip ? \n",
    "\n",
    "    browser -> ip (31.13.79.35, 80) -> socket\n",
    "    \n",
    "    client --> socket('192.168.29.229', 12837) <-- resp\n",
    "    \n",
    "    ---> server --> client socket\n",
    "                --> response --> client socket"
   ]
  },
  {
   "cell_type": "code",
   "execution_count": 167,
   "metadata": {},
   "outputs": [
    {
     "name": "stdout",
     "output_type": "stream",
     "text": [
      "Overwriting server.py\n"
     ]
    }
   ],
   "source": [
    "%%writefile server.py\n",
    "import time\n",
    "import socket\n",
    "\n",
    "html = \"\"\"<!Doctype html>\n",
    "<html>\n",
    "    <body>\n",
    "        <h1 style='color:red'>Hello Welcome My Own Web Server</h1>\n",
    "        \n",
    "        <h2 style='color:blue'>This is how Internet Works </h2>\n",
    "    </body>\n",
    "</html>\n",
    "\"\"\"\n",
    "\n",
    "resp = f\"\"\"HTTP/1.1 200 OK\n",
    "Date: {time.ctime()}\n",
    "Server: Python\n",
    "ETag: \"51142bc1-7449-479b075b2891b\"\n",
    "Accept-Ranges: bytes\n",
    "Content-Length: {len(html)}\n",
    "Content-Type: text/html\n",
    "\n",
    "{html}\n",
    "\"\"\"\n",
    "server = socket.socket(family=socket.AF_INET, type=socket.SOCK_STREAM)\n",
    "# family --> ipv4 (socket.AF_INET), ipv6 (socket.AF_INET6)\n",
    "# type --> tcp (socket.SOCK_STREAM, socket.SOCK_DGRAM)\n",
    "ip = '192.168.29.232'\n",
    "port = 80\n",
    "server.bind((ip, port))\n",
    "# server is ready\n",
    "server.listen()\n",
    "\n",
    "print(f\"Server is running at port {port} at ip {ip}\")\n",
    "client, addr = server.accept()\n",
    "\n",
    "print(\"Got a connection from client: \", addr)\n",
    "\n",
    "print(client.recv(1024).decode())\n",
    "client.send(resp.encode())\n",
    "\n",
    "client.close()\n",
    "server.close()"
   ]
  },
  {
   "cell_type": "code",
   "execution_count": 169,
   "metadata": {},
   "outputs": [
    {
     "name": "stdout",
     "output_type": "stream",
     "text": [
      "Server is running at port 80 at ip 192.168.29.232\n",
      "Got a connection from client:  ('192.168.29.124', 58426)\n",
      "GET / HTTP/1.1\n",
      "\n",
      "Host: 192.168.29.232\n",
      "\n",
      "Connection: keep-alive\n",
      "\n",
      "DNT: 1\n",
      "\n",
      "Save-Data: on\n",
      "\n",
      "Upgrade-Insecure-Requests: 1\n",
      "\n",
      "User-Agent: Mozilla/5.0 (Linux; Android 10; SM-M307F) AppleWebKit/537.36 (KHTML, like Gecko) Chrome/83.0.4103.60 Mobile Safari/537.36\n",
      "\n",
      "Accept: text/html,application/xhtml+xml,application/xml;q=0.9,image/webp,image/apng,*/*;q=0.8,application/signed-exchange;v=b3;q=0.9\n",
      "\n",
      "Accept-Encoding: gzip, deflate\n",
      "\n",
      "Accept-Language: en-US,en-IN;q=0.9,en;q=0.8,hi-IN;q=0.7,hi;q=0.6\n",
      "\n",
      "\n",
      "\n",
      "\n"
     ]
    }
   ],
   "source": [
    "!python server.py"
   ]
  },
  {
   "cell_type": "code",
   "execution_count": null,
   "metadata": {},
   "outputs": [],
   "source": []
  }
 ],
 "metadata": {
  "kernelspec": {
   "display_name": "Python 3",
   "language": "python",
   "name": "python3"
  },
  "language_info": {
   "codemirror_mode": {
    "name": "ipython",
    "version": 3
   },
   "file_extension": ".py",
   "mimetype": "text/x-python",
   "name": "python",
   "nbconvert_exporter": "python",
   "pygments_lexer": "ipython3",
   "version": "3.7.4"
  }
 },
 "nbformat": 4,
 "nbformat_minor": 2
}
