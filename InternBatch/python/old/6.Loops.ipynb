{
 "cells": [
  {
   "cell_type": "markdown",
   "metadata": {},
   "source": [
    "**Write a code to take positive number input ?**"
   ]
  },
  {
   "cell_type": "code",
   "execution_count": 2,
   "metadata": {},
   "outputs": [
    {
     "name": "stdout",
     "output_type": "stream",
     "text": [
      "Enter a number: -2\n",
      "\n",
      "\n",
      "Only Positive Number Please!!\n",
      "\n",
      "\n",
      "Enter a number: 3\n",
      "Good Work Give Positive Number is: 3\n"
     ]
    }
   ],
   "source": [
    "while True:\n",
    "    flag = False\n",
    "    number = int(input(\"Enter a number: \"))\n",
    "    if number > 0:\n",
    "        flag = True\n",
    "        break\n",
    "    else:\n",
    "        print(\"\\n\\nOnly Positive Number Please!!\\n\\n\")\n",
    "\n",
    "if flag:\n",
    "    print(f\"Good Work Give Positive Number is: {number}\")"
   ]
  },
  {
   "cell_type": "code",
   "execution_count": null,
   "metadata": {},
   "outputs": [],
   "source": [
    "-5\n",
    "-7\n",
    "3"
   ]
  },
  {
   "cell_type": "code",
   "execution_count": 3,
   "metadata": {},
   "outputs": [
    {
     "name": "stdout",
     "output_type": "stream",
     "text": [
      "Enter a number: -1\n",
      "\n",
      "\n",
      "Only Positive Number Please!!\n",
      "\n",
      "\n",
      "Enter a number: 3\n",
      "Good Work Give Positive Number is: 3\n"
     ]
    }
   ],
   "source": [
    "while True:\n",
    "    number = int(input(\"Enter a number: \"))\n",
    "    if number > 0:\n",
    "        print(f\"Good Work Give Positive Number is: {number}\")\n",
    "        break\n",
    "    else:\n",
    "        print(\"\\n\\nOnly Positive Number Please!!\\n\\n\")\n",
    "\n",
    "\n",
    "    "
   ]
  },
  {
   "cell_type": "markdown",
   "metadata": {},
   "source": [
    "**For Loop**\n",
    "\n",
    "    for is used for iteration purpose"
   ]
  },
  {
   "cell_type": "markdown",
   "metadata": {},
   "source": [
    "syntax: \n",
    "\n",
    "    for item in data:\n",
    "        st-1\n",
    "        st-2\n",
    "        st-3\n",
    "        "
   ]
  },
  {
   "cell_type": "code",
   "execution_count": 4,
   "metadata": {},
   "outputs": [],
   "source": [
    "x = 456"
   ]
  },
  {
   "cell_type": "code",
   "execution_count": 5,
   "metadata": {},
   "outputs": [
    {
     "ename": "TypeError",
     "evalue": "print() argument after * must be an iterable, not int",
     "output_type": "error",
     "traceback": [
      "\u001b[1;31m---------------------------------------------------------------------------\u001b[0m",
      "\u001b[1;31mTypeError\u001b[0m                                 Traceback (most recent call last)",
      "\u001b[1;32m<ipython-input-5-92967f52e1b1>\u001b[0m in \u001b[0;36m<module>\u001b[1;34m\u001b[0m\n\u001b[1;32m----> 1\u001b[1;33m \u001b[0mprint\u001b[0m\u001b[1;33m(\u001b[0m\u001b[1;33m*\u001b[0m\u001b[0mx\u001b[0m\u001b[1;33m)\u001b[0m\u001b[1;33m\u001b[0m\u001b[1;33m\u001b[0m\u001b[0m\n\u001b[0m",
      "\u001b[1;31mTypeError\u001b[0m: print() argument after * must be an iterable, not int"
     ]
    }
   ],
   "source": [
    "print(*x)"
   ]
  },
  {
   "cell_type": "code",
   "execution_count": 6,
   "metadata": {},
   "outputs": [
    {
     "name": "stdout",
     "output_type": "stream",
     "text": [
      "P\n",
      "y\n",
      "t\n",
      "h\n",
      "o\n",
      "n\n"
     ]
    }
   ],
   "source": [
    "x = \"Python\"\n",
    "print(*x, sep='\\n')"
   ]
  },
  {
   "cell_type": "code",
   "execution_count": 7,
   "metadata": {},
   "outputs": [
    {
     "name": "stdout",
     "output_type": "stream",
     "text": [
      "1,\t2,\t3,\tjava\n"
     ]
    }
   ],
   "source": [
    "x = [ 1, 2, 3, 'java']\n",
    "print(*x, sep=',\\t')"
   ]
  },
  {
   "cell_type": "code",
   "execution_count": 8,
   "metadata": {},
   "outputs": [],
   "source": [
    "x = { 'name': 'sachin', 'age': 23}"
   ]
  },
  {
   "cell_type": "code",
   "execution_count": 9,
   "metadata": {},
   "outputs": [
    {
     "name": "stdout",
     "output_type": "stream",
     "text": [
      "name age\n"
     ]
    }
   ],
   "source": [
    "print(*x)"
   ]
  },
  {
   "cell_type": "code",
   "execution_count": 10,
   "metadata": {},
   "outputs": [],
   "source": [
    "s = { 1,2 ,3 , 5,6 }\n"
   ]
  },
  {
   "cell_type": "code",
   "execution_count": 11,
   "metadata": {},
   "outputs": [
    {
     "name": "stdout",
     "output_type": "stream",
     "text": [
      "1 2 3 5 6\n"
     ]
    }
   ],
   "source": [
    "print(*s)"
   ]
  },
  {
   "cell_type": "code",
   "execution_count": 12,
   "metadata": {},
   "outputs": [
    {
     "name": "stdout",
     "output_type": "stream",
     "text": [
      "Hello World\n",
      "Hello World\n",
      "Hello World\n",
      "Hello World\n",
      "Hello World\n",
      "Hello World\n"
     ]
    }
   ],
   "source": [
    "s = \"Python\"\n",
    "for char in s:\n",
    "    print(\"Hello World\")"
   ]
  },
  {
   "cell_type": "code",
   "execution_count": 14,
   "metadata": {},
   "outputs": [
    {
     "name": "stdout",
     "output_type": "stream",
     "text": [
      "P\n",
      "y\n",
      "t\n",
      "h\n",
      "o\n",
      "n\n"
     ]
    }
   ],
   "source": [
    "s = \"Python\"\n",
    "for c in s:\n",
    "    print(c)"
   ]
  },
  {
   "cell_type": "code",
   "execution_count": 16,
   "metadata": {},
   "outputs": [
    {
     "name": "stdout",
     "output_type": "stream",
     "text": [
      "Total Number of Vowels are :  9\n"
     ]
    }
   ],
   "source": [
    "s = \"Hello World how are you ? \"\n",
    "vowels = [ 'a', 'e','i','o','u','y']\n",
    "counter = 0\n",
    "\n",
    "for char in s:\n",
    "    if char.lower() in vowels:\n",
    "        counter += 1\n",
    "else:\n",
    "    print(\"Total Number of Vowels are : \", counter)"
   ]
  },
  {
   "cell_type": "code",
   "execution_count": 17,
   "metadata": {},
   "outputs": [],
   "source": [
    "lang = [ 'java', 'c', 'c++', 'ruby', 'perl', 'python']"
   ]
  },
  {
   "cell_type": "code",
   "execution_count": 19,
   "metadata": {},
   "outputs": [
    {
     "name": "stdout",
     "output_type": "stream",
     "text": [
      "java\n",
      "c\n",
      "c++\n",
      "ruby\n",
      "perl\n",
      "python\n",
      "All elements are traversed properly\n"
     ]
    }
   ],
   "source": [
    "for item in lang:\n",
    "    print(item)\n",
    "else:\n",
    "    print(\"All elements are traversed properly\")"
   ]
  },
  {
   "cell_type": "markdown",
   "metadata": {},
   "source": [
    "item search"
   ]
  },
  {
   "cell_type": "code",
   "execution_count": 22,
   "metadata": {},
   "outputs": [
    {
     "name": "stdout",
     "output_type": "stream",
     "text": [
      "language: html\n",
      "Item not Found\n"
     ]
    }
   ],
   "source": [
    "lang = [ 'java', 'c', 'c++', 'ruby', 'perl', 'python']\n",
    "\n",
    "key = input(\"language: \")\n",
    "for item in lang:\n",
    "    if item == key:\n",
    "        print(\"Item Found\")\n",
    "        break\n",
    "else:\n",
    "    print(\"Item not Found\")"
   ]
  },
  {
   "cell_type": "code",
   "execution_count": 29,
   "metadata": {},
   "outputs": [],
   "source": [
    "t = ( 5, 4, 2, 5, 6,7 , 8,9, 3, 4, 5, 1, 2,3, 4, 5, 7, 8, 2, 3,4, 5, 6, )"
   ]
  },
  {
   "cell_type": "code",
   "execution_count": 30,
   "metadata": {},
   "outputs": [
    {
     "data": {
      "text/plain": [
       "1"
      ]
     },
     "execution_count": 30,
     "metadata": {},
     "output_type": "execute_result"
    }
   ],
   "source": [
    "t.count(1)"
   ]
  },
  {
   "cell_type": "code",
   "execution_count": 37,
   "metadata": {},
   "outputs": [
    {
     "name": "stdout",
     "output_type": "stream",
     "text": [
      "{1: 3, 3: 1, 2: 2}\n"
     ]
    }
   ],
   "source": [
    "tup = ( 1, 3, 2, 1, 2, 1)\n",
    "d = { } \n",
    "for item in tup:\n",
    "    if item not in d:\n",
    "        d[item] = 1\n",
    "    else:\n",
    "        d[item] += 1\n",
    "else:\n",
    "    print(d)\n",
    "    "
   ]
  },
  {
   "cell_type": "code",
   "execution_count": 32,
   "metadata": {},
   "outputs": [
    {
     "name": "stdout",
     "output_type": "stream",
     "text": [
      "{5: 5, 4: 4, 2: 3, 6: 2, 7: 2, 8: 2, 9: 1, 3: 3, 1: 1}\n"
     ]
    }
   ],
   "source": [
    "print(d)"
   ]
  },
  {
   "cell_type": "code",
   "execution_count": 39,
   "metadata": {},
   "outputs": [],
   "source": [
    "data = \"\"\"\n",
    "The glorious Hanuma neared the city of Lanka ruled by Ravana, and saw the city which looked like the city of Gods in heaven, decorated by moats filled with lotuses and water-lilies, which was well protected, since the time of Seetha's abduction, by Ravana and by Rakshasas with horrifying voices roaming around, which was surrounded by a golden boundary wall, that beautiful great city consisted of houses equal in height to mountains and which looked like autumnal clouds, with white and elevated main streets, decorated with flags and pennons, with excellent golden hued archways adorned with sculpted rows of vines.\n",
    "Hanuma saw the city of Lanka equal to peak of Kailasa as though touching the sky, as though flying to reach the sky, with its best mansions, filled with horrible rakshasas and serpants like the city of Bhogavati (capital of Patala), one which was unfathomable, a well arranged and a clear city governed by Kubera in earlier times, protected by courageous, horrible serpents and Rakshasas with mouths with sharp teeth like a cave, with spikes and Pattisas (spears) in their hands. Hanuma saw that Lanka's great protection and the ocean and Ravana the horrible enemy and thought thus.\n",
    "\n",
    "Standing on that mountain, the elephant among monkeys, Hanuma, saw pine trees, Karnikaras, date-palms in full blossom, Priyalas, lemon trees, wild jasmine trees, mogra trees, long pepper trees filled with sweet fragrance, Kadamba trees and seven leaved banana trees, Asana trees, Kovidaras, Karaviras in full blossom, trees that were tied by the weight of their flowers and flower buds, that were distressed by birds, with their crests moved by wind, wells and various glorious pleasure-groves filled by various trees that give fruits and flowers in all seasons and beautiful gardens also, surrounded by various ponds consisting of swans and ducks.\n",
    "\n",
    "\"\"\""
   ]
  },
  {
   "cell_type": "code",
   "execution_count": 68,
   "metadata": {},
   "outputs": [],
   "source": [
    "from nltk.corpus import stopwords\n",
    "common_words = stopwords.words('english')"
   ]
  },
  {
   "cell_type": "code",
   "execution_count": 66,
   "metadata": {},
   "outputs": [
    {
     "name": "stdout",
     "output_type": "stream",
     "text": [
      "{'glorious': 2, 'hanuma': 3, 'neared': 1, 'city': 7, 'lanka': 2, 'ruled': 1, 'ravana,': 1, 'saw': 4, 'looked': 2, 'like': 4, 'gods': 1, 'heaven,': 1, 'decorated': 2, 'moats': 1, 'filled': 4, 'lotuses': 1, 'water-lilies,': 1, 'well': 2, 'protected,': 1, 'since': 1, 'time': 1, \"seetha's\": 1, 'abduction,': 1, 'ravana': 2, 'rakshasas': 3, 'horrifying': 1, 'voices': 1, 'roaming': 1, 'around,': 1, 'surrounded': 2, 'golden': 2, 'boundary': 1, 'wall,': 1, 'beautiful': 2, 'great': 2, 'consisted': 1, 'houses': 1, 'equal': 2, 'height': 1, 'mountains': 1, 'autumnal': 1, 'clouds,': 1, 'white': 1, 'elevated': 1, 'main': 1, 'streets,': 1, 'flags': 1, 'pennons,': 1, 'excellent': 1, 'hued': 1, 'archways': 1, 'adorned': 1, 'sculpted': 1, 'rows': 1, 'vines.': 1, 'peak': 1, 'kailasa': 1, 'though': 2, 'touching': 1, 'sky,': 2, 'flying': 1, 'reach': 1, 'best': 1, 'mansions,': 1, 'horrible': 3, 'serpants': 1, 'bhogavati': 1, '(capital': 1, 'patala),': 1, 'one': 1, 'unfathomable,': 1, 'arranged': 1, 'clear': 1, 'governed': 1, 'kubera': 1, 'earlier': 1, 'times,': 1, 'protected': 1, 'courageous,': 1, 'serpents': 1, 'mouths': 1, 'sharp': 1, 'teeth': 1, 'cave,': 1, 'spikes': 1, 'pattisas': 1, '(spears)': 1, 'hands.': 1, \"lanka's\": 1, 'protection': 1, 'ocean': 1, 'enemy': 1, 'thought': 1, 'thus.': 1, 'standing': 1, 'mountain,': 1, 'elephant': 1, 'among': 1, 'monkeys,': 1, 'hanuma,': 1, 'pine': 1, 'trees,': 6, 'karnikaras,': 1, 'date-palms': 1, 'full': 2, 'blossom,': 2, 'priyalas,': 1, 'lemon': 1, 'wild': 1, 'jasmine': 1, 'mogra': 1, 'long': 1, 'pepper': 1, 'trees': 4, 'sweet': 1, 'fragrance,': 1, 'kadamba': 1, 'seven': 1, 'leaved': 1, 'banana': 1, 'asana': 1, 'kovidaras,': 1, 'karaviras': 1, 'tied': 1, 'weight': 1, 'flowers': 2, 'flower': 1, 'buds,': 1, 'distressed': 1, 'birds,': 1, 'crests': 1, 'moved': 1, 'wind,': 1, 'wells': 1, 'various': 3, 'pleasure-groves': 1, 'give': 1, 'fruits': 1, 'seasons': 1, 'gardens': 1, 'also,': 1, 'ponds': 1, 'consisting': 1, 'swans': 1, 'ducks.': 1}\n"
     ]
    }
   ],
   "source": [
    "wc =  {}\n",
    "for word in data.split():\n",
    "    word = word.strip().lower()\n",
    "    if word in common_words:\n",
    "        continue\n",
    "    if word in wc:\n",
    "        wc[word] = wc[word] +  1\n",
    "    else:\n",
    "        wc[word] = 1\n",
    "print(wc)"
   ]
  },
  {
   "cell_type": "code",
   "execution_count": 76,
   "metadata": {},
   "outputs": [],
   "source": [
    "words = list(wc.items())"
   ]
  },
  {
   "cell_type": "code",
   "execution_count": 79,
   "metadata": {},
   "outputs": [
    {
     "data": {
      "text/plain": [
       "[('city', 7),\n",
       " ('trees,', 6),\n",
       " ('saw', 4),\n",
       " ('like', 4),\n",
       " ('filled', 4),\n",
       " ('trees', 4),\n",
       " ('hanuma', 3),\n",
       " ('rakshasas', 3),\n",
       " ('horrible', 3),\n",
       " ('various', 3)]"
      ]
     },
     "execution_count": 79,
     "metadata": {},
     "output_type": "execute_result"
    }
   ],
   "source": [
    "from operator import itemgetter\n",
    "words.sort(key=itemgetter(1), reverse=True)\n",
    "words[:10]"
   ]
  },
  {
   "cell_type": "code",
   "execution_count": 80,
   "metadata": {},
   "outputs": [],
   "source": [
    "d = { 'name': 'sachin', 'age': 24, 'country': 'india'}"
   ]
  },
  {
   "cell_type": "code",
   "execution_count": 81,
   "metadata": {},
   "outputs": [
    {
     "name": "stdout",
     "output_type": "stream",
     "text": [
      "name\n",
      "age\n",
      "country\n"
     ]
    }
   ],
   "source": [
    "for some in d:\n",
    "    print(some)"
   ]
  },
  {
   "cell_type": "code",
   "execution_count": 82,
   "metadata": {},
   "outputs": [
    {
     "name": "stdout",
     "output_type": "stream",
     "text": [
      "name = sachin\n",
      "age = 24\n",
      "country = india\n",
      "Do you get it ?\n"
     ]
    }
   ],
   "source": [
    "for key in d:\n",
    "    print(key, '=', d[key])\n",
    "else:\n",
    "    print(\"Do you get it ?\")"
   ]
  },
  {
   "cell_type": "code",
   "execution_count": 83,
   "metadata": {},
   "outputs": [],
   "source": [
    "s =  { 'java', 1, 4.5, 1, 1, 1}"
   ]
  },
  {
   "cell_type": "code",
   "execution_count": 84,
   "metadata": {},
   "outputs": [
    {
     "name": "stdout",
     "output_type": "stream",
     "text": [
      "1\n",
      "4.5\n",
      "java\n"
     ]
    }
   ],
   "source": [
    "for value in s:\n",
    "    print(value)"
   ]
  },
  {
   "cell_type": "markdown",
   "metadata": {},
   "source": [
    "for value in iterable:\n",
    "\n",
    "    body"
   ]
  },
  {
   "cell_type": "code",
   "execution_count": 87,
   "metadata": {},
   "outputs": [
    {
     "name": "stdout",
     "output_type": "stream",
     "text": [
      "1\n",
      "4\n",
      "9\n",
      "16\n",
      "25\n",
      "36\n",
      "49\n",
      "64\n",
      "81\n"
     ]
    }
   ],
   "source": [
    "s = '123456789'\n",
    "for char  in s:\n",
    "    v = int(char)\n",
    "    print(v**2)"
   ]
  },
  {
   "cell_type": "code",
   "execution_count": 88,
   "metadata": {},
   "outputs": [
    {
     "data": {
      "text/plain": [
       "'*****'"
      ]
     },
     "execution_count": 88,
     "metadata": {},
     "output_type": "execute_result"
    }
   ],
   "source": [
    "\"*\"*5"
   ]
  },
  {
   "cell_type": "code",
   "execution_count": 89,
   "metadata": {},
   "outputs": [
    {
     "name": "stdout",
     "output_type": "stream",
     "text": [
      "*\n",
      "**\n",
      "***\n",
      "****\n",
      "*****\n",
      "******\n",
      "*******\n",
      "********\n",
      "*********\n"
     ]
    }
   ],
   "source": [
    "s = '123456789'\n",
    "for i in s: #'4'\n",
    "    i = int(i)# 4\n",
    "    print(\"*\"*i)# '*'*4"
   ]
  },
  {
   "cell_type": "code",
   "execution_count": 90,
   "metadata": {},
   "outputs": [],
   "source": [
    "d = [ ('one', 'two'), ('java', 'mar java'), ('python', 'awsome'), ('smjh aaya','nh aaya' )]"
   ]
  },
  {
   "cell_type": "code",
   "execution_count": 111,
   "metadata": {},
   "outputs": [
    {
     "name": "stdout",
     "output_type": "stream",
     "text": [
      "('one', 'two')\n",
      "('java', 'mar java')\n",
      "('python', 'awsome')\n",
      "('smjh aaya', 'nh aaya')\n",
      "do you get it?\n"
     ]
    }
   ],
   "source": [
    "for item in d:\n",
    "    print(item)\n",
    "    #print(f\"{item[0]} is {item[1]}\")\n",
    "else:\n",
    "    print(\"do you get it?\")"
   ]
  },
  {
   "cell_type": "markdown",
   "metadata": {},
   "source": [
    "#### tuple unpacking"
   ]
  },
  {
   "cell_type": "code",
   "execution_count": 99,
   "metadata": {},
   "outputs": [
    {
     "name": "stdout",
     "output_type": "stream",
     "text": [
      "java\n",
      "c\n",
      "c++\n"
     ]
    }
   ],
   "source": [
    "x,y,c = ('java', 'c', 'c++')\n",
    "print(x, y, c, sep='\\n')"
   ]
  },
  {
   "cell_type": "code",
   "execution_count": 109,
   "metadata": {},
   "outputs": [],
   "source": [
    "d = [  ('one', 'two'), ('java', 'mar java'), ('python', 'awsome'), ('smjh aaya','nh aaya' )]"
   ]
  },
  {
   "cell_type": "code",
   "execution_count": 110,
   "metadata": {},
   "outputs": [
    {
     "name": "stdout",
     "output_type": "stream",
     "text": [
      "one is two\n",
      "java is mar java\n",
      "python is awsome\n",
      "smjh aaya is nh aaya\n",
      "Easy right ? \n"
     ]
    }
   ],
   "source": [
    "for item1, item2 in d:\n",
    "    print(f\"{item1} is {item2}\")\n",
    "else:\n",
    "    print(\"Easy right ? \")"
   ]
  },
  {
   "cell_type": "code",
   "execution_count": null,
   "metadata": {},
   "outputs": [],
   "source": []
  },
  {
   "cell_type": "code",
   "execution_count": 113,
   "metadata": {},
   "outputs": [],
   "source": [
    "d = [\n",
    "    [ 1, 'one', 'ek' ],\n",
    "    [ 2, 'two', 'dou'],\n",
    "    [ 3, 'three', 'teen'],\n",
    "    [ 4, 'four', 'chaar'],\n",
    "    [ 5, 'five', 'paanch']\n",
    "    \n",
    "]"
   ]
  },
  {
   "cell_type": "code",
   "execution_count": 114,
   "metadata": {},
   "outputs": [
    {
     "name": "stdout",
     "output_type": "stream",
     "text": [
      "1 in engilsh is one and in hindi is ek\n",
      "2 in engilsh is two and in hindi is dou\n",
      "3 in engilsh is three and in hindi is teen\n",
      "4 in engilsh is four and in hindi is chaar\n",
      "5 in engilsh is five and in hindi is paanch\n",
      "do you get it ?\n"
     ]
    }
   ],
   "source": [
    "for n, e, h in d:\n",
    "    print(f\"{n} in engilsh is {e} and in hindi is {h}\")\n",
    "else:\n",
    "    print(\"do you get it ?\")"
   ]
  },
  {
   "cell_type": "code",
   "execution_count": 115,
   "metadata": {},
   "outputs": [],
   "source": [
    "d = [\n",
    "    \n",
    "    ('sachin', 90, 45, 67),\n",
    "    ('rajat', 78, 76, 79),\n",
    "    ('nidhi', 45, 65, 48),\n",
    "    ('nikita', 0, 12, 54)\n",
    "]"
   ]
  },
  {
   "cell_type": "code",
   "execution_count": 120,
   "metadata": {},
   "outputs": [
    {
     "name": "stdout",
     "output_type": "stream",
     "text": [
      "Name\tMaths\tEnglish\tScience\n",
      "sachin\t90\t45\t67\n",
      "rajat\t78\t76\t79\n",
      "nidhi\t45\t65\t48\n",
      "pretty right\n"
     ]
    }
   ],
   "source": [
    "print(\"Name\\tMaths\\tEnglish\\tScience\")\n",
    "for n, m, e, s in d:\n",
    "    print(f\"{n}\\t{m}\\t{e}\\t{s}\")\n",
    "    if m == 0:\n",
    "        break\n",
    "else:\n",
    "    print(\"pretty right\")"
   ]
  },
  {
   "cell_type": "code",
   "execution_count": 121,
   "metadata": {},
   "outputs": [],
   "source": [
    "d = { 'name': 'sachin', 'age': 24, 'country':'india'}"
   ]
  },
  {
   "cell_type": "code",
   "execution_count": 124,
   "metadata": {},
   "outputs": [
    {
     "name": "stdout",
     "output_type": "stream",
     "text": [
      "                name = sachin\n",
      "                 age = 24\n",
      "             country = india\n"
     ]
    }
   ],
   "source": [
    "for key, value in d.items():\n",
    "    print(f\"{key:>20} = {value}\")"
   ]
  },
  {
   "cell_type": "code",
   "execution_count": 125,
   "metadata": {},
   "outputs": [],
   "source": [
    "s = \"Hello World\""
   ]
  },
  {
   "cell_type": "code",
   "execution_count": 126,
   "metadata": {},
   "outputs": [
    {
     "data": {
      "text/plain": [
       "'                             Hello World'"
      ]
     },
     "execution_count": 126,
     "metadata": {},
     "output_type": "execute_result"
    }
   ],
   "source": [
    "s.rjust(40)"
   ]
  },
  {
   "cell_type": "code",
   "execution_count": 131,
   "metadata": {},
   "outputs": [
    {
     "data": {
      "text/plain": [
       "'hello this is advance          Hello World  string formatting'"
      ]
     },
     "execution_count": 131,
     "metadata": {},
     "output_type": "execute_result"
    }
   ],
   "source": [
    "ss = f\"hello this is advance {s:>20}  string formatting\"\n",
    "ss"
   ]
  },
  {
   "cell_type": "code",
   "execution_count": 132,
   "metadata": {},
   "outputs": [
    {
     "data": {
      "text/plain": [
       "'hello this is advance Hello World           string formatting'"
      ]
     },
     "execution_count": 132,
     "metadata": {},
     "output_type": "execute_result"
    }
   ],
   "source": [
    "ss = f\"hello this is advance {s:<20}  string formatting\"\n",
    "ss"
   ]
  },
  {
   "cell_type": "markdown",
   "metadata": {},
   "source": [
    "some **common iterable** objects in python programming\n",
    "\n",
    "**range**\n",
    "\n",
    "**zip**\n",
    "\n",
    "**enumerated**\n",
    "\n",
    "**sorted**\n",
    "\n",
    "**reversed**"
   ]
  },
  {
   "cell_type": "markdown",
   "metadata": {},
   "source": [
    "range() --> number slicer\n",
    "\n",
    "range(end_value) --> 0, 1, 2, .... end_value - 1\n",
    "    \n",
    "    eg. range(5) --> 0, 1, 2, 3, 4\n",
    "\n",
    "range(start, end) --> start, ........, end-1\n",
    "    \n",
    "    eg. range(10, 16) --> 10, 11, 12, 13, 14, 15\n",
    "    \n",
    "range(start, end, step) --> will go from start to end - 1 with jump of step\n",
    "\n",
    "range(5, 51, 10) --> 5, 15, 25, 35, 45"
   ]
  },
  {
   "cell_type": "code",
   "execution_count": 134,
   "metadata": {},
   "outputs": [
    {
     "name": "stdout",
     "output_type": "stream",
     "text": [
      "0 1 2 3 4\n"
     ]
    }
   ],
   "source": [
    "print(*range(5))"
   ]
  },
  {
   "cell_type": "code",
   "execution_count": 135,
   "metadata": {},
   "outputs": [
    {
     "name": "stdout",
     "output_type": "stream",
     "text": [
      "10 11 12 13 14 15\n"
     ]
    }
   ],
   "source": [
    "print(*range(10, 16))"
   ]
  },
  {
   "cell_type": "code",
   "execution_count": 136,
   "metadata": {},
   "outputs": [
    {
     "name": "stdout",
     "output_type": "stream",
     "text": [
      "5 15 25 35 45\n"
     ]
    }
   ],
   "source": [
    "print(*range(5, 51, 10))"
   ]
  },
  {
   "cell_type": "code",
   "execution_count": 138,
   "metadata": {},
   "outputs": [
    {
     "name": "stdout",
     "output_type": "stream",
     "text": [
      "1 4 7\n"
     ]
    }
   ],
   "source": [
    "print(*range(1, 10, 3))\n",
    "# 1 4 7"
   ]
  },
  {
   "cell_type": "code",
   "execution_count": 139,
   "metadata": {},
   "outputs": [
    {
     "name": "stdout",
     "output_type": "stream",
     "text": [
      "number: 5\n",
      "5\n",
      "10\n",
      "15\n",
      "20\n",
      "25\n",
      "30\n",
      "35\n",
      "40\n",
      "45\n",
      "50\n"
     ]
    }
   ],
   "source": [
    "num = int(input(\"number: \")) # 5\n",
    "print(*range(num, num*11, num), sep='\\n')\n",
    "# 5 10 15 20 25 30 35 40 45 50"
   ]
  },
  {
   "cell_type": "code",
   "execution_count": 140,
   "metadata": {},
   "outputs": [
    {
     "name": "stdout",
     "output_type": "stream",
     "text": [
      "10 9 8 7 6 5 4 3 2\n"
     ]
    }
   ],
   "source": [
    "print(*range(10, 1, -1))\n",
    "# 10 9 8 7 6 5 4 3 2 "
   ]
  },
  {
   "cell_type": "code",
   "execution_count": 141,
   "metadata": {},
   "outputs": [
    {
     "name": "stdout",
     "output_type": "stream",
     "text": [
      "0\n",
      "35\n",
      "70\n",
      "smjh m aaya kya ?\n"
     ]
    }
   ],
   "source": [
    "for var in range(100):\n",
    "    if var % 5 == 0 and var % 7 == 0:\n",
    "        print(var)\n",
    "else:\n",
    "    print(\"smjh m aaya kya ?\")"
   ]
  },
  {
   "cell_type": "code",
   "execution_count": 143,
   "metadata": {},
   "outputs": [
    {
     "name": "stdout",
     "output_type": "stream",
     "text": [
      "1 *\n",
      "2 **\n",
      "3 ***\n",
      "4 ****\n",
      "5 *****\n",
      "6 ******\n",
      "7 *******\n",
      "8 ********\n",
      "9 *********\n",
      "10 **********\n"
     ]
    }
   ],
   "source": [
    "for var in range(1, 11):\n",
    "    print(var, \"*\"*var)"
   ]
  },
  {
   "cell_type": "code",
   "execution_count": 145,
   "metadata": {},
   "outputs": [
    {
     "name": "stdout",
     "output_type": "stream",
     "text": [
      "10 **********\n",
      "9 *********\n",
      "8 ********\n",
      "7 *******\n",
      "6 ******\n",
      "5 *****\n",
      "4 ****\n",
      "3 ***\n",
      "2 **\n",
      "1 *\n"
     ]
    }
   ],
   "source": [
    "for var in range(10, 0, -1):\n",
    "    print(var, \"*\"*var)"
   ]
  },
  {
   "cell_type": "code",
   "execution_count": 147,
   "metadata": {},
   "outputs": [
    {
     "name": "stdout",
     "output_type": "stream",
     "text": [
      "          *\n",
      "         **\n",
      "        ***\n",
      "       ****\n",
      "      *****\n",
      "     ******\n",
      "    *******\n",
      "   ********\n",
      "  *********\n",
      " **********\n"
     ]
    }
   ],
   "source": [
    "for var in range(1, 11):\n",
    "    print(\" \"*(11-var), \"*\"*var, sep='')"
   ]
  },
  {
   "cell_type": "code",
   "execution_count": 149,
   "metadata": {},
   "outputs": [
    {
     "name": "stdout",
     "output_type": "stream",
     "text": [
      " **********\n",
      "  *********\n",
      "   ********\n",
      "    *******\n",
      "     ******\n",
      "      *****\n",
      "       ****\n",
      "        ***\n",
      "         **\n",
      "          *\n"
     ]
    }
   ],
   "source": [
    "for var in range(1, 11):\n",
    "    print(\" \"*var, \"*\"*(11-var), sep='')"
   ]
  },
  {
   "cell_type": "markdown",
   "metadata": {},
   "source": [
    "**List Comprenshions**"
   ]
  },
  {
   "cell_type": "code",
   "execution_count": 150,
   "metadata": {},
   "outputs": [],
   "source": [
    "l = [ data for data in range(10) ]"
   ]
  },
  {
   "cell_type": "code",
   "execution_count": 151,
   "metadata": {},
   "outputs": [
    {
     "data": {
      "text/plain": [
       "[0, 1, 2, 3, 4, 5, 6, 7, 8, 9]"
      ]
     },
     "execution_count": 151,
     "metadata": {},
     "output_type": "execute_result"
    }
   ],
   "source": [
    "l"
   ]
  },
  {
   "cell_type": "code",
   "execution_count": 153,
   "metadata": {},
   "outputs": [],
   "source": [
    "l = [ data for data in range(200) if data % 5 == 0 and data % 7 == 0]"
   ]
  },
  {
   "cell_type": "code",
   "execution_count": 154,
   "metadata": {},
   "outputs": [
    {
     "data": {
      "text/plain": [
       "[0, 35, 70, 105, 140, 175]"
      ]
     },
     "execution_count": 154,
     "metadata": {},
     "output_type": "execute_result"
    }
   ],
   "source": [
    "l"
   ]
  },
  {
   "cell_type": "code",
   "execution_count": 155,
   "metadata": {},
   "outputs": [],
   "source": [
    "from random import randint"
   ]
  },
  {
   "cell_type": "code",
   "execution_count": 156,
   "metadata": {},
   "outputs": [
    {
     "data": {
      "text/plain": [
       "6"
      ]
     },
     "execution_count": 156,
     "metadata": {},
     "output_type": "execute_result"
    }
   ],
   "source": [
    "randint(1, 10)"
   ]
  },
  {
   "cell_type": "code",
   "execution_count": 157,
   "metadata": {},
   "outputs": [],
   "source": [
    "rn = [ randint(1, 10) for var in range(10) ]"
   ]
  },
  {
   "cell_type": "code",
   "execution_count": 158,
   "metadata": {},
   "outputs": [
    {
     "data": {
      "text/plain": [
       "[6, 5, 1, 9, 4, 3, 4, 3, 9, 4]"
      ]
     },
     "execution_count": 158,
     "metadata": {},
     "output_type": "execute_result"
    }
   ],
   "source": [
    "rn"
   ]
  },
  {
   "cell_type": "code",
   "execution_count": 159,
   "metadata": {},
   "outputs": [
    {
     "name": "stdout",
     "output_type": "stream",
     "text": [
      "[36, 25, 1, 81, 16, 9, 16, 9, 81, 16]\n"
     ]
    }
   ],
   "source": [
    "rn_2 = [ item**2 for item in rn ]\n",
    "print(rn_2)"
   ]
  },
  {
   "cell_type": "markdown",
   "metadata": {},
   "source": [
    "syntax:\n",
    "\n",
    "    enumerated(iterable) --> make a tuple with items of iterable using index value from 0"
   ]
  },
  {
   "cell_type": "code",
   "execution_count": 160,
   "metadata": {},
   "outputs": [
    {
     "name": "stdout",
     "output_type": "stream",
     "text": [
      "p y t h o n\n"
     ]
    }
   ],
   "source": [
    "print(*'python')"
   ]
  },
  {
   "cell_type": "code",
   "execution_count": 162,
   "metadata": {},
   "outputs": [
    {
     "name": "stdout",
     "output_type": "stream",
     "text": [
      "(0, 'p') (1, 'y') (2, 't') (3, 'h') (4, 'o') (5, 'n') \n",
      "\n"
     ]
    }
   ],
   "source": [
    "print(*enumerate('python'), '\\n')"
   ]
  },
  {
   "cell_type": "code",
   "execution_count": 163,
   "metadata": {},
   "outputs": [],
   "source": [
    "lang = [ 'java', 'c', 'c++', 'ruby', 'perl']"
   ]
  },
  {
   "cell_type": "code",
   "execution_count": 164,
   "metadata": {},
   "outputs": [
    {
     "name": "stdout",
     "output_type": "stream",
     "text": [
      "(0, 'java')\n",
      "(1, 'c')\n",
      "(2, 'c++')\n",
      "(3, 'ruby')\n",
      "(4, 'perl')\n"
     ]
    }
   ],
   "source": [
    "for item in enumerate(lang):\n",
    "    print(item)"
   ]
  },
  {
   "cell_type": "code",
   "execution_count": 167,
   "metadata": {},
   "outputs": [
    {
     "name": "stdout",
     "output_type": "stream",
     "text": [
      "Enter you key: c++\n",
      "c++ found at index 2\n"
     ]
    }
   ],
   "source": [
    "key = input(\"Enter you key: \")\n",
    "for i, item in enumerate(lang):\n",
    "    if item == key:\n",
    "        print(item, 'found at index', i)\n",
    "else:\n",
    "    print(\"Not found\")"
   ]
  },
  {
   "cell_type": "code",
   "execution_count": 168,
   "metadata": {},
   "outputs": [
    {
     "name": "stdout",
     "output_type": "stream",
     "text": [
      "Enter you key: python\n",
      "Not found\n"
     ]
    }
   ],
   "source": [
    "key = input(\"Enter you key: \")\n",
    "for i, item in enumerate(lang):\n",
    "    if item == key:\n",
    "        print(item, 'found at index', i)\n",
    "else:\n",
    "    print(\"Not found\")"
   ]
  },
  {
   "cell_type": "markdown",
   "metadata": {},
   "source": [
    "sorting & searching --> iterative"
   ]
  },
  {
   "cell_type": "code",
   "execution_count": 169,
   "metadata": {},
   "outputs": [],
   "source": [
    "lang = [ 'java', 'c', 'c++', 'python']\n",
    "\n",
    "descr = [ 'lengthy', 'hard', 'not my thing', 'awesome']"
   ]
  },
  {
   "cell_type": "code",
   "execution_count": 171,
   "metadata": {},
   "outputs": [
    {
     "name": "stdout",
     "output_type": "stream",
     "text": [
      "('java', 'lengthy')\n",
      "('c', 'hard')\n",
      "('c++', 'not my thing')\n",
      "('python', 'awesome')\n"
     ]
    }
   ],
   "source": [
    "print(*zip(lang, descr), sep='\\n')"
   ]
  },
  {
   "cell_type": "code",
   "execution_count": 173,
   "metadata": {},
   "outputs": [
    {
     "name": "stdout",
     "output_type": "stream",
     "text": [
      "java is lengthy\n",
      "\n",
      "c is hard\n",
      "\n",
      "c++ is not my thing\n",
      "\n",
      "python is awesome\n",
      "\n"
     ]
    }
   ],
   "source": [
    "for i, d in zip(lang, descr):\n",
    "    print(f\"{i} is {d}\\n\")"
   ]
  },
  {
   "cell_type": "code",
   "execution_count": 174,
   "metadata": {},
   "outputs": [],
   "source": [
    "product = [ 'apple', 'oneplus', 'samsung', 'oppo', 'redmi']\n",
    "price = [ 80000, 50000, 75000, 30000, 20000]\n",
    "quant = [ 10, 20, 15, 30, 50]"
   ]
  },
  {
   "cell_type": "code",
   "execution_count": 185,
   "metadata": {},
   "outputs": [
    {
     "name": "stdout",
     "output_type": "stream",
     "text": [
      "____________________________________________________________________________________________________\n",
      "|               Brand|               Price|            Quantity|          Total Sell|\n",
      "____________________________________________________________________________________________________\n",
      "|               apple|               80000|                  10|              800000|\n",
      "____________________________________________________________________________________________________\n",
      "|             oneplus|               50000|                  20|             1000000|\n",
      "____________________________________________________________________________________________________\n",
      "|             samsung|               75000|                  15|             1125000|\n",
      "____________________________________________________________________________________________________\n",
      "|                oppo|               30000|                  30|              900000|\n",
      "____________________________________________________________________________________________________\n",
      "|               redmi|               20000|                  50|             1000000|\n",
      "____________________________________________________________________________________________________\n",
      "\n",
      "\n",
      "Total Income:  4825000\n"
     ]
    }
   ],
   "source": [
    "total_income = 0\n",
    "print(\"_\"*100)\n",
    "b = \"Brand\"; p = \"Price\"; q = 'Quantity'; s = \"Total Sell\"\n",
    "print(f\"|{b:>20}|{p:>20}|{q:>20}|{s:>20}|\")\n",
    "for br,pr,qt in zip(product, price, quant):\n",
    "    print(\"_\"*100)\n",
    "    print(f\"|{br:>20}|{pr:>20}|{qt:>20}|{pr*qt:>20}|\")\n",
    "    total_income += (pr*qt)\n",
    "else:\n",
    "    print(\"_\"*100)\n",
    "    print(\"\\n\\nTotal Income: \", total_income)\n"
   ]
  },
  {
   "cell_type": "markdown",
   "metadata": {},
   "source": [
    "Functions & OOPs "
   ]
  },
  {
   "cell_type": "code",
   "execution_count": null,
   "metadata": {},
   "outputs": [],
   "source": []
  }
 ],
 "metadata": {
  "kernelspec": {
   "display_name": "Python 3",
   "language": "python",
   "name": "python3"
  },
  "language_info": {
   "codemirror_mode": {
    "name": "ipython",
    "version": 3
   },
   "file_extension": ".py",
   "mimetype": "text/x-python",
   "name": "python",
   "nbconvert_exporter": "python",
   "pygments_lexer": "ipython3",
   "version": "3.7.4"
  }
 },
 "nbformat": 4,
 "nbformat_minor": 2
}
