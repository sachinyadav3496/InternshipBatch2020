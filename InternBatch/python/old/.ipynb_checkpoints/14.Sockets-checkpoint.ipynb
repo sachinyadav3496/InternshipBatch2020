{
 "cells": [
  {
   "cell_type": "markdown",
   "metadata": {},
   "source": [
    "**Sockets**\n",
    "\n",
    "    A networking intrface between two computer (nodes) to exchange information or data "
   ]
  },
  {
   "cell_type": "markdown",
   "metadata": {},
   "source": [
    "    socket a program is a program which runs on a network layer and can interact with other programs over the network"
   ]
  },
  {
   "cell_type": "markdown",
   "metadata": {},
   "source": [
    "    for request and response cyclye we use protocols\n",
    "    \n",
    "    Server --> bind(IP, Port) --> Listen --> Accept --> Response according to request\n",
    "    \n",
    "    Client --> request --> server"
   ]
  },
  {
   "cell_type": "markdown",
   "metadata": {},
   "source": [
    "`(MAC address) Network Interface Card -> IP address \n",
    "\n",
    "        lo - loop only - 127.0.0.1 localhost (HOME)\n",
    "        \n",
    "        eth0 / wlan - your ip addr "
   ]
  },
  {
   "cell_type": "code",
   "execution_count": null,
   "metadata": {},
   "outputs": [],
   "source": []
  }
 ],
 "metadata": {
  "kernelspec": {
   "display_name": "Python 3",
   "language": "python",
   "name": "python3"
  },
  "language_info": {
   "codemirror_mode": {
    "name": "ipython",
    "version": 3
   },
   "file_extension": ".py",
   "mimetype": "text/x-python",
   "name": "python",
   "nbconvert_exporter": "python",
   "pygments_lexer": "ipython3",
   "version": "3.7.4"
  }
 },
 "nbformat": 4,
 "nbformat_minor": 2
}
