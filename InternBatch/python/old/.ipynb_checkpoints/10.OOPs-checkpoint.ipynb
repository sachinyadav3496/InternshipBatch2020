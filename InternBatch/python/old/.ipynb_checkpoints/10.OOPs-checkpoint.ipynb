{
 "cells": [
  {
   "cell_type": "code",
   "execution_count": 2,
   "metadata": {},
   "outputs": [
    {
     "name": "stdout",
     "output_type": "stream",
     "text": [
      "Name,Maths,Chem,Phy\n",
      "sachin,89,78,90\n",
      "tanvi,76,87,89\n",
      "vijay,88,67,87\n",
      "sam,67,78,76\n",
      "\n",
      "rajat,76,56,78\n",
      "nidhi,78,67,98\n",
      "nikita,45,67,56\n",
      "manish,67,78,79\n",
      "simran,78,78,98\n",
      "saymak,76,78,89\n"
     ]
    }
   ],
   "source": [
    "!type marks.csv"
   ]
  },
  {
   "cell_type": "code",
   "execution_count": 3,
   "metadata": {},
   "outputs": [],
   "source": [
    "with open('marks.csv', 'rt') as file:\n",
    "    data = file.read()\n",
    "    file.close()"
   ]
  },
  {
   "cell_type": "code",
   "execution_count": 4,
   "metadata": {},
   "outputs": [
    {
     "name": "stdout",
     "output_type": "stream",
     "text": [
      "Name,Maths,Chem,Phy\n",
      "sachin,89,78,90\n",
      "tanvi,76,87,89\n",
      "vijay,88,67,87\n",
      "sam,67,78,76\n",
      "\n",
      "rajat,76,56,78\n",
      "nidhi,78,67,98\n",
      "nikita,45,67,56\n",
      "manish,67,78,79\n",
      "simran,78,78,98\n",
      "saymak,76,78,89\n",
      "\n"
     ]
    }
   ],
   "source": [
    "print(data)"
   ]
  },
  {
   "cell_type": "code",
   "execution_count": 5,
   "metadata": {},
   "outputs": [
    {
     "name": "stdout",
     "output_type": "stream",
     "text": [
      "'Name,Maths,Chem,Phy\\nsachin,89,78,90\\ntanvi,76,87,89\\nvijay,88,67,87\\nsam,67,78,76\\n\\nrajat,76,56,78\\nnidhi,78,67,98\\nnikita,45,67,56\\nmanish,67,78,79\\nsimran,78,78,98\\nsaymak,76,78,89\\n'\n"
     ]
    }
   ],
   "source": [
    "print(repr(data))"
   ]
  },
  {
   "cell_type": "code",
   "execution_count": 26,
   "metadata": {},
   "outputs": [
    {
     "name": "stdout",
     "output_type": "stream",
     "text": [
      "Result sucessfully written in student_result.csv\n"
     ]
    }
   ],
   "source": [
    "with open('marks.csv', 'rt') as in_file:\n",
    "    header = in_file.readline().strip()\n",
    "    #print(\"Heading of File: \", header.split(','))\n",
    "    #print(\"_\"*50)\n",
    "    out_file = open('student_result.csv', 'wt')\n",
    "    out_file.write('Name,Percentage\\n')\n",
    "    # heading of file\n",
    "    for line in in_file:\n",
    "        line = line.strip()\n",
    "        if line:\n",
    "            #print(repr(line))\n",
    "            fields = line.split(',')\n",
    "            #print(fields[0], fields[1:])\n",
    "            name = fields[0]\n",
    "            #marks = map(int, fields[1:])\n",
    "            #print(name, *marks)\n",
    "            marks = sum(map(int, fields[1:])) / len(fields[1:])\n",
    "            #print(f\"{name},{marks:.2f}\") # ?\n",
    "            out_file.write(f\"{name},{marks:.2f}\\n\")\n",
    "    else:\n",
    "        in_file.close()\n",
    "        out_file.close()\n",
    "        print(\"Result sucessfully written in student_result.csv\")\n",
    "            "
   ]
  },
  {
   "cell_type": "code",
   "execution_count": 27,
   "metadata": {},
   "outputs": [
    {
     "name": "stdout",
     "output_type": "stream",
     "text": [
      "Name,Percentage\n",
      "sachin,85.67\n",
      "tanvi,84.00\n",
      "vijay,80.67\n",
      "sam,73.67\n",
      "rajat,70.00\n",
      "nidhi,81.00\n",
      "nikita,56.00\n",
      "manish,74.67\n",
      "simran,84.67\n",
      "saymak,81.00\n"
     ]
    }
   ],
   "source": [
    "!type student_result.csv"
   ]
  },
  {
   "cell_type": "code",
   "execution_count": 28,
   "metadata": {},
   "outputs": [
    {
     "name": "stdout",
     "output_type": "stream",
     "text": [
      "Name,Maths,Chem,Phy\n",
      "sachin,89,78,90\n",
      "tanvi,76,87,89\n",
      "vijay,88,67,87\n",
      "sam,67,78,76\n",
      "\n",
      "rajat,76,56,78\n",
      "nidhi,78,67,98\n",
      "nikita,45,67,56\n",
      "manish,67,78,79\n",
      "simran,78,78,98\n",
      "saymak,76,78,89\n"
     ]
    }
   ],
   "source": [
    "!type marks.csv"
   ]
  },
  {
   "cell_type": "code",
   "execution_count": 29,
   "metadata": {},
   "outputs": [],
   "source": [
    "def gen_result(in_file, out_file, sep=','):\n",
    "    \"\"\"\n",
    "        gen_result(in_file, out_file) - evaluate percentage of \n",
    "        students and write result into out_file.\n",
    "        \n",
    "        constraint: file format should be name,sub1,sub2......\n",
    "    \"\"\"\n",
    "    with open(in_file, 'rt') as in_file:\n",
    "        n = len(in_file.readline().strip().split(sep))-1\n",
    "        out_file = open(out_file, 'wt')\n",
    "        out_file.write('Name,Percentage\\n')\n",
    "        for line in in_file:\n",
    "            if line.strip(): # if not blank line\n",
    "                data = line.split(',')\n",
    "                name,per = data[0],sum(map(int, data[1:])) / n\n",
    "                out_file.write(f\"{name},{per:.2f}\\n\")\n",
    "        else:\n",
    "            in_file.close()\n",
    "            out_file.close()\n",
    "            print(f\"Result successfully written in {out_file.name}\")\n",
    "                \n",
    "            \n",
    "        "
   ]
  },
  {
   "cell_type": "code",
   "execution_count": 30,
   "metadata": {},
   "outputs": [
    {
     "name": "stdout",
     "output_type": "stream",
     "text": [
      "Result successfully written in result.csv\n"
     ]
    }
   ],
   "source": [
    "gen_result('marks.csv', 'result.csv')"
   ]
  },
  {
   "cell_type": "code",
   "execution_count": 32,
   "metadata": {},
   "outputs": [
    {
     "name": "stdout",
     "output_type": "stream",
     "text": [
      "Name,Maths,Chem,Phy\n",
      "sachin,89,78,90\n",
      "tanvi,76,87,89\n",
      "vijay,88,67,87\n",
      "sam,67,78,76\n",
      "\n",
      "rajat,76,56,78\n",
      "nidhi,78,67,98\n",
      "nikita,45,67,56\n",
      "manish,67,78,79\n",
      "simran,78,78,98\n",
      "saymak,76,78,89\n"
     ]
    }
   ],
   "source": [
    "!type marks.csv"
   ]
  },
  {
   "cell_type": "code",
   "execution_count": 34,
   "metadata": {},
   "outputs": [
    {
     "name": "stdout",
     "output_type": "stream",
     "text": [
      "Name,Percentage\n",
      "sachin,85.67\n",
      "tanvi,84.00\n",
      "vijay,80.67\n",
      "sam,73.67\n",
      "rajat,70.00\n",
      "nidhi,81.00\n",
      "nikita,56.00\n",
      "manish,74.67\n",
      "simran,84.67\n",
      "saymak,81.00\n"
     ]
    }
   ],
   "source": [
    "!type result.csv"
   ]
  },
  {
   "cell_type": "code",
   "execution_count": 35,
   "metadata": {},
   "outputs": [],
   "source": [
    "import pandas as pd"
   ]
  },
  {
   "cell_type": "code",
   "execution_count": 36,
   "metadata": {},
   "outputs": [],
   "source": [
    "df = pd.read_csv('marks.csv')"
   ]
  },
  {
   "cell_type": "code",
   "execution_count": 43,
   "metadata": {},
   "outputs": [
    {
     "name": "stderr",
     "output_type": "stream",
     "text": [
      "C:\\Anaconda3\\lib\\site-packages\\ipykernel_launcher.py:1: FutureWarning: The signature of `Series.to_csv` was aligned to that of `DataFrame.to_csv`, and argument 'header' will change its default value from False to True: please pass an explicit value to suppress this warning.\n",
      "  \"\"\"Entry point for launching an IPython kernel.\n"
     ]
    }
   ],
   "source": [
    "(df[['Maths', 'Chem', 'Phy']].sum() / len(df)).to_csv('subject_result.csv')"
   ]
  },
  {
   "cell_type": "code",
   "execution_count": 44,
   "metadata": {},
   "outputs": [
    {
     "name": "stdout",
     "output_type": "stream",
     "text": [
      "Maths,74.0\n",
      "Chem,73.4\n",
      "Phy,84.0\n"
     ]
    }
   ],
   "source": [
    "!type subject_result.csv"
   ]
  },
  {
   "cell_type": "code",
   "execution_count": 46,
   "metadata": {},
   "outputs": [],
   "source": [
    "st = df[['Maths', 'Chem', 'Phy']]"
   ]
  },
  {
   "cell_type": "code",
   "execution_count": 47,
   "metadata": {},
   "outputs": [],
   "source": [
    "st.index = df['Name']"
   ]
  },
  {
   "cell_type": "code",
   "execution_count": 57,
   "metadata": {},
   "outputs": [],
   "source": [
    "(st.sum(axis=1) / len(st.columns) ).to_csv()"
   ]
  },
  {
   "cell_type": "code",
   "execution_count": 54,
   "metadata": {},
   "outputs": [
    {
     "name": "stdout",
     "output_type": "stream",
     "text": [
      "sachin,85.66666666666667\n",
      "tanvi,84.0\n",
      "vijay,80.66666666666667\n",
      "sam,73.66666666666667\n",
      "rajat,70.0\n",
      "nidhi,81.0\n",
      "nikita,56.0\n",
      "manish,74.66666666666667\n",
      "simran,84.66666666666667\n",
      "saymak,81.0\n"
     ]
    }
   ],
   "source": [
    "!type r.csv"
   ]
  },
  {
   "cell_type": "code",
   "execution_count": 58,
   "metadata": {},
   "outputs": [
    {
     "data": {
      "text/plain": [
       "Name\n",
       "sachin    85.666667\n",
       "tanvi     84.000000\n",
       "vijay     80.666667\n",
       "sam       73.666667\n",
       "rajat     70.000000\n",
       "nidhi     81.000000\n",
       "nikita    56.000000\n",
       "manish    74.666667\n",
       "simran    84.666667\n",
       "saymak    81.000000\n",
       "dtype: float64"
      ]
     },
     "execution_count": 58,
     "metadata": {},
     "output_type": "execute_result"
    }
   ],
   "source": [
    "ans"
   ]
  },
  {
   "cell_type": "markdown",
   "metadata": {},
   "source": [
    "**Serialization & De-serialization**"
   ]
  },
  {
   "cell_type": "markdown",
   "metadata": {},
   "source": [
    "    Drawback of file handling ? "
   ]
  },
  {
   "cell_type": "markdown",
   "metadata": {},
   "source": [
    "    we have to process strings manually just beacuses we can only store or retreive strings from file"
   ]
  },
  {
   "cell_type": "markdown",
   "metadata": {},
   "source": [
    "    Serialization is a process by which we can convert any object into byte-stream (string)\n",
    "\n",
    "\n",
    "    De-Serialization is a process converting a byte stream (string) into an object"
   ]
  },
  {
   "cell_type": "code",
   "execution_count": null,
   "metadata": {},
   "outputs": [],
   "source": [
    "def login(acc, password, db):\n",
    "    if acc in db:\n",
    "        if db[acc]['password'] == password:\n",
    "            print(\"\\nWelcome Back User: \", db[acc]['name'])\n",
    "            return True\n",
    "        else:\n",
    "            print(\"\\nError!!!Invalid Password Try Again!!!\")\n",
    "            return False\n",
    "    else:\n",
    "        print(\"\\nError!!!No such user exists!!!please signup if you don't have account\")\n",
    "        return False\n",
    "login('AC001', 'sachin'[::-1], bank_db)"
   ]
  },
  {
   "cell_type": "code",
   "execution_count": 63,
   "metadata": {},
   "outputs": [
    {
     "name": "stdout",
     "output_type": "stream",
     "text": [
      "\n",
      "Welcome Back User:  sachin\n"
     ]
    },
    {
     "data": {
      "text/plain": [
       "True"
      ]
     },
     "execution_count": 63,
     "metadata": {},
     "output_type": "execute_result"
    }
   ],
   "source": [
    "def login(acc, password, db):\n",
    "    value = False\n",
    "    if acc in db:\n",
    "        if db[acc]['password'] == password:\n",
    "            print(\"\\nWelcome Back User: \", db[acc]['name'])\n",
    "            value = True\n",
    "        else:\n",
    "            print(\"\\nError!!!Invalid Password Try Again!!!\")\n",
    "            \n",
    "    else:\n",
    "        print(\"\\nError!!!No such user exists!!!please signup if you don't have account\")\n",
    "    return value\n",
    "login('AC001', 'sachin'[::-1], bank_db)"
   ]
  },
  {
   "cell_type": "code",
   "execution_count": 59,
   "metadata": {},
   "outputs": [],
   "source": [
    "bank_db = { \n",
    "    'AC001': { 'name': 'sachin', 'balance': 50000, 'password': 'nihcas'},\n",
    "    'AC002': { 'name': 'rajat', 'balance': 60000, 'password': 'tajar'},\n",
    "}"
   ]
  },
  {
   "cell_type": "code",
   "execution_count": 64,
   "metadata": {},
   "outputs": [
    {
     "name": "stdout",
     "output_type": "stream",
     "text": [
      "Writing bank.txt\n"
     ]
    }
   ],
   "source": [
    "%%writefile bank.txt\n",
    "AC001,sachin,50000,nihcas\n",
    "AC002,rajat,60000,tajar"
   ]
  },
  {
   "cell_type": "code",
   "execution_count": 65,
   "metadata": {},
   "outputs": [
    {
     "ename": "TypeError",
     "evalue": "write() argument must be str, not dict",
     "output_type": "error",
     "traceback": [
      "\u001b[1;31m---------------------------------------------------------------------------\u001b[0m",
      "\u001b[1;31mTypeError\u001b[0m                                 Traceback (most recent call last)",
      "\u001b[1;32m<ipython-input-65-e47301139057>\u001b[0m in \u001b[0;36m<module>\u001b[1;34m\u001b[0m\n\u001b[0;32m      1\u001b[0m \u001b[0mfp\u001b[0m \u001b[1;33m=\u001b[0m \u001b[0mopen\u001b[0m\u001b[1;33m(\u001b[0m\u001b[1;34m'bank.db'\u001b[0m\u001b[1;33m,\u001b[0m \u001b[1;34m'wt'\u001b[0m\u001b[1;33m)\u001b[0m\u001b[1;33m\u001b[0m\u001b[1;33m\u001b[0m\u001b[0m\n\u001b[1;32m----> 2\u001b[1;33m \u001b[0mfp\u001b[0m\u001b[1;33m.\u001b[0m\u001b[0mwrite\u001b[0m\u001b[1;33m(\u001b[0m\u001b[0mbank_db\u001b[0m\u001b[1;33m)\u001b[0m\u001b[1;33m\u001b[0m\u001b[1;33m\u001b[0m\u001b[0m\n\u001b[0m\u001b[0;32m      3\u001b[0m \u001b[0mfp\u001b[0m\u001b[1;33m.\u001b[0m\u001b[0mclose\u001b[0m\u001b[1;33m(\u001b[0m\u001b[1;33m)\u001b[0m\u001b[1;33m\u001b[0m\u001b[1;33m\u001b[0m\u001b[0m\n",
      "\u001b[1;31mTypeError\u001b[0m: write() argument must be str, not dict"
     ]
    }
   ],
   "source": [
    "fp = open('bank.db', 'wt')\n",
    "fp.write(bank_db)\n",
    "fp.close()"
   ]
  },
  {
   "cell_type": "markdown",
   "metadata": {},
   "source": [
    "\n",
    "Serialization\n",
    "    \n",
    "    dumps(object) - string\n",
    "    dump(object, file) - write object into file\n",
    "    \n",
    "De-Serialization\n",
    "\n",
    "    loads(string) - object\n",
    "    load(file) - object"
   ]
  },
  {
   "cell_type": "markdown",
   "metadata": {},
   "source": [
    "    JSON, PICKLE"
   ]
  },
  {
   "cell_type": "markdown",
   "metadata": {},
   "source": [
    "    Data Interchange Language"
   ]
  },
  {
   "cell_type": "markdown",
   "metadata": {},
   "source": [
    "**Java Script Object Notation**"
   ]
  },
  {
   "cell_type": "code",
   "execution_count": 66,
   "metadata": {},
   "outputs": [],
   "source": [
    "import json"
   ]
  },
  {
   "cell_type": "markdown",
   "metadata": {},
   "source": [
    "JSON Data Type              Python Data Type\n",
    "\n",
    "     int                         int\n",
    "     double                      float\n",
    "     string                      strings\n",
    "     array                       list\n",
    "     object                      dictionary"
   ]
  },
  {
   "cell_type": "code",
   "execution_count": 67,
   "metadata": {},
   "outputs": [],
   "source": [
    "python = [ 4, 5.6, 'hello', [1, 2, 'python'], ('java', 'c', 'c++'),\n",
    "         {'name':'sachin', 'language': ['hindi', 'english'] }]"
   ]
  },
  {
   "cell_type": "code",
   "execution_count": 68,
   "metadata": {},
   "outputs": [
    {
     "data": {
      "text/plain": [
       "[4,\n",
       " 5.6,\n",
       " 'hello',\n",
       " [1, 2, 'python'],\n",
       " ('java', 'c', 'c++'),\n",
       " {'name': 'sachin', 'language': ['hindi', 'english']}]"
      ]
     },
     "execution_count": 68,
     "metadata": {},
     "output_type": "execute_result"
    }
   ],
   "source": [
    "python"
   ]
  },
  {
   "cell_type": "code",
   "execution_count": 72,
   "metadata": {},
   "outputs": [
    {
     "name": "stdout",
     "output_type": "stream",
     "text": [
      "____________________________________________________________\n",
      "python\n",
      "<class 'int'> 4\n",
      "------------------------------------------------------------\n",
      "Json\n",
      "<class 'str'> '4'\n",
      "____________________________________________________________\n",
      "____________________________________________________________\n",
      "python\n",
      "<class 'float'> 5.6\n",
      "------------------------------------------------------------\n",
      "Json\n",
      "<class 'str'> '5.6'\n",
      "____________________________________________________________\n",
      "____________________________________________________________\n",
      "python\n",
      "<class 'str'> 'hello'\n",
      "------------------------------------------------------------\n",
      "Json\n",
      "<class 'str'> '\"hello\"'\n",
      "____________________________________________________________\n",
      "____________________________________________________________\n",
      "python\n",
      "<class 'list'> [1, 2, 'python']\n",
      "------------------------------------------------------------\n",
      "Json\n",
      "<class 'str'> '[1, 2, \"python\"]'\n",
      "____________________________________________________________\n",
      "____________________________________________________________\n",
      "python\n",
      "<class 'tuple'> ('java', 'c', 'c++')\n",
      "------------------------------------------------------------\n",
      "Json\n",
      "<class 'str'> '[\"java\", \"c\", \"c++\"]'\n",
      "____________________________________________________________\n",
      "____________________________________________________________\n",
      "python\n",
      "<class 'dict'> {'name': 'sachin', 'language': ['hindi', 'english']}\n",
      "------------------------------------------------------------\n",
      "Json\n",
      "<class 'str'> '{\"name\": \"sachin\", \"language\": [\"hindi\", \"english\"]}'\n",
      "____________________________________________________________\n"
     ]
    }
   ],
   "source": [
    "# Serialization\n",
    "json_type = []\n",
    "for item in python:\n",
    "    print(\"__\"*30)\n",
    "    print(\"python\")\n",
    "    print(type(item), repr(item))\n",
    "    js  = json.dumps(item)\n",
    "    json_type.append(js)\n",
    "    print('-'*60)\n",
    "    print('Json')\n",
    "    print(type(js), repr(js))\n",
    "    print(\"__\"*30)\n",
    "    "
   ]
  },
  {
   "cell_type": "code",
   "execution_count": 73,
   "metadata": {},
   "outputs": [
    {
     "data": {
      "text/plain": [
       "['4',\n",
       " '5.6',\n",
       " '\"hello\"',\n",
       " '[1, 2, \"python\"]',\n",
       " '[\"java\", \"c\", \"c++\"]',\n",
       " '{\"name\": \"sachin\", \"language\": [\"hindi\", \"english\"]}']"
      ]
     },
     "execution_count": 73,
     "metadata": {},
     "output_type": "execute_result"
    }
   ],
   "source": [
    "json_type"
   ]
  },
  {
   "cell_type": "markdown",
   "metadata": {},
   "source": [
    "# De-Serialization\n"
   ]
  },
  {
   "cell_type": "code",
   "execution_count": 75,
   "metadata": {},
   "outputs": [
    {
     "name": "stdout",
     "output_type": "stream",
     "text": [
      "\n",
      " ____________________________________________________________\n",
      "JSON  <class 'str'> '4'\n",
      "------------------------------------------------------------\n",
      "PYTHON  <class 'int'> 4\n",
      "____________________________________________________________ \n",
      "\n",
      "\n",
      " ____________________________________________________________\n",
      "JSON  <class 'str'> '5.6'\n",
      "------------------------------------------------------------\n",
      "PYTHON  <class 'float'> 5.6\n",
      "____________________________________________________________ \n",
      "\n",
      "\n",
      " ____________________________________________________________\n",
      "JSON  <class 'str'> '\"hello\"'\n",
      "------------------------------------------------------------\n",
      "PYTHON  <class 'str'> 'hello'\n",
      "____________________________________________________________ \n",
      "\n",
      "\n",
      " ____________________________________________________________\n",
      "JSON  <class 'str'> '[1, 2, \"python\"]'\n",
      "------------------------------------------------------------\n",
      "PYTHON  <class 'list'> [1, 2, 'python']\n",
      "____________________________________________________________ \n",
      "\n",
      "\n",
      " ____________________________________________________________\n",
      "JSON  <class 'str'> '[\"java\", \"c\", \"c++\"]'\n",
      "------------------------------------------------------------\n",
      "PYTHON  <class 'list'> ['java', 'c', 'c++']\n",
      "____________________________________________________________ \n",
      "\n",
      "\n",
      " ____________________________________________________________\n",
      "JSON  <class 'str'> '{\"name\": \"sachin\", \"language\": [\"hindi\", \"english\"]}'\n",
      "------------------------------------------------------------\n",
      "PYTHON  <class 'dict'> {'name': 'sachin', 'language': ['hindi', 'english']}\n",
      "____________________________________________________________ \n",
      "\n"
     ]
    }
   ],
   "source": [
    "python_type = []\n",
    "for item in json_type:\n",
    "    print(\"\\n\",\"_\"*60)\n",
    "    print(\"JSON \", type(item), repr(item))\n",
    "    print('-'*60)\n",
    "    py = json.loads(item)\n",
    "    python_type.append(py)\n",
    "    print(\"PYTHON \", type(py), repr(py))\n",
    "    print(\"_\"*60, '\\n')"
   ]
  },
  {
   "cell_type": "markdown",
   "metadata": {},
   "source": [
    "    json.dumps(object) - string\n",
    "    json.loads(string) - object\n",
    "\n",
    "\n",
    "    json.dump(object, file) - string written in file\n",
    "    json.load(file) - object"
   ]
  },
  {
   "cell_type": "code",
   "execution_count": 76,
   "metadata": {},
   "outputs": [
    {
     "data": {
      "text/plain": [
       "{'AC001': {'name': 'sachin', 'balance': 50000, 'password': 'nihcas'},\n",
       " 'AC002': {'name': 'rajat', 'balance': 60000, 'password': 'tajar'}}"
      ]
     },
     "execution_count": 76,
     "metadata": {},
     "output_type": "execute_result"
    }
   ],
   "source": [
    "bank_db"
   ]
  },
  {
   "cell_type": "code",
   "execution_count": 90,
   "metadata": {},
   "outputs": [],
   "source": [
    "fp = open('bank.json', 'wt')\n",
    "json.dump(bank_db, fp)\n",
    "fp.close()"
   ]
  },
  {
   "cell_type": "code",
   "execution_count": 91,
   "metadata": {},
   "outputs": [
    {
     "name": "stdout",
     "output_type": "stream",
     "text": [
      "{\"AC001\": {\"name\": \"sachin\", \"balance\": 50000, \"password\": \"nihcas\"}, \"AC002\": {\"name\": \"rajat\", \"balance\": 60000, \"password\": \"tajar\"}}\n"
     ]
    }
   ],
   "source": [
    "!type bank.json"
   ]
  },
  {
   "cell_type": "code",
   "execution_count": 102,
   "metadata": {},
   "outputs": [],
   "source": [
    "def load_db(filename):\n",
    "    with open(filename, 'rt') as file:\n",
    "        db = json.load(file)\n",
    "        file.close()\n",
    "    return db"
   ]
  },
  {
   "cell_type": "code",
   "execution_count": 103,
   "metadata": {},
   "outputs": [
    {
     "data": {
      "text/plain": [
       "{'AC001': {'name': 'sachin', 'balance': 50000, 'password': 'nihcas'},\n",
       " 'AC002': {'name': 'rajat', 'balance': 60000, 'password': 'tajar'}}"
      ]
     },
     "execution_count": 103,
     "metadata": {},
     "output_type": "execute_result"
    }
   ],
   "source": [
    "load_db('bank.json')"
   ]
  },
  {
   "cell_type": "code",
   "execution_count": 104,
   "metadata": {},
   "outputs": [],
   "source": [
    "def update_db(filename, key, value):\n",
    "    db = load_db(filename)\n",
    "    db.update([ (key, value) ])\n",
    "    with open(filename, 'wt') as fp:\n",
    "        json.dump(db, fp)\n",
    "        fp.close()\n",
    "    \n",
    "        "
   ]
  },
  {
   "cell_type": "code",
   "execution_count": 108,
   "metadata": {},
   "outputs": [],
   "source": [
    "def signup(user, password, balance, filename='bank.json'):\n",
    "    db = load_db(filename)\n",
    "    acc = 'AC' + str(int(max(db.keys())[2:])+1)\n",
    "    print(\"Write Down your Account Number: \", acc)\n",
    "    update_db(filename, acc, {'name': user, 'balance': balance, \n",
    "                                  'password': password})\n",
    "    print(\"Account Created Successfully\")"
   ]
  },
  {
   "cell_type": "code",
   "execution_count": 109,
   "metadata": {},
   "outputs": [
    {
     "name": "stdout",
     "output_type": "stream",
     "text": [
      "Write Down your Account Number:  AC3\n",
      "Account Created Successfully\n"
     ]
    }
   ],
   "source": [
    "signup('tanvi', 'ivnat', 10000)"
   ]
  },
  {
   "cell_type": "code",
   "execution_count": 110,
   "metadata": {},
   "outputs": [
    {
     "data": {
      "text/plain": [
       "{'AC001': {'name': 'sachin', 'balance': 50000, 'password': 'nihcas'},\n",
       " 'AC002': {'name': 'rajat', 'balance': 60000, 'password': 'tajar'},\n",
       " 'AC3': {'name': 'tanvi', 'balance': 10000, 'password': 'ivnat'}}"
      ]
     },
     "execution_count": 110,
     "metadata": {},
     "output_type": "execute_result"
    }
   ],
   "source": [
    "load_db('bank.json')"
   ]
  },
  {
   "cell_type": "code",
   "execution_count": 113,
   "metadata": {},
   "outputs": [
    {
     "name": "stdout",
     "output_type": "stream",
     "text": [
      "\n",
      "Welcome Back User:  tanvi\n"
     ]
    },
    {
     "data": {
      "text/plain": [
       "True"
      ]
     },
     "execution_count": 113,
     "metadata": {},
     "output_type": "execute_result"
    }
   ],
   "source": [
    "login('AC3', 'ivnat', load_db('bank.json'))"
   ]
  },
  {
   "cell_type": "code",
   "execution_count": 114,
   "metadata": {},
   "outputs": [
    {
     "name": "stdout",
     "output_type": "stream",
     "text": [
      "\n",
      "Welcome Back User:  sachin\n"
     ]
    },
    {
     "data": {
      "text/plain": [
       "True"
      ]
     },
     "execution_count": 114,
     "metadata": {},
     "output_type": "execute_result"
    }
   ],
   "source": [
    "login('AC001', 'nihcas', load_db('bank.json'))"
   ]
  },
  {
   "cell_type": "code",
   "execution_count": 115,
   "metadata": {},
   "outputs": [
    {
     "name": "stdout",
     "output_type": "stream",
     "text": [
      "Write Down your Account Number:  AC4\n",
      "Account Created Successfully\n"
     ]
    }
   ],
   "source": [
    "signup('manish', 'hsinam', 130001)"
   ]
  },
  {
   "cell_type": "code",
   "execution_count": 116,
   "metadata": {},
   "outputs": [
    {
     "name": "stdout",
     "output_type": "stream",
     "text": [
      "{\"AC001\": {\"name\": \"sachin\", \"balance\": 50000, \"password\": \"nihcas\"}, \"AC002\": {\"name\": \"rajat\", \"balance\": 60000, \"password\": \"tajar\"}, \"AC3\": {\"name\": \"tanvi\", \"balance\": 10000, \"password\": \"ivnat\"}, \"AC4\": {\"name\": \"manish\", \"balance\": 130001, \"password\": \"hsinam\"}}\n"
     ]
    }
   ],
   "source": [
    "!type bank.json"
   ]
  },
  {
   "cell_type": "markdown",
   "metadata": {},
   "source": [
    "pickle vs Json\n",
    "\n",
    "    pickle can write any valid python object into file but json can only write int, float, str, list, dict\n",
    "    \n",
    "    pickle convert object into bytes but json converts object into strings"
   ]
  },
  {
   "cell_type": "code",
   "execution_count": 117,
   "metadata": {},
   "outputs": [
    {
     "ename": "TypeError",
     "evalue": "Object of type set is not JSON serializable",
     "output_type": "error",
     "traceback": [
      "\u001b[1;31m---------------------------------------------------------------------------\u001b[0m",
      "\u001b[1;31mTypeError\u001b[0m                                 Traceback (most recent call last)",
      "\u001b[1;32m<ipython-input-117-3733e13922c8>\u001b[0m in \u001b[0;36m<module>\u001b[1;34m\u001b[0m\n\u001b[1;32m----> 1\u001b[1;33m \u001b[0mjson\u001b[0m\u001b[1;33m.\u001b[0m\u001b[0mdumps\u001b[0m\u001b[1;33m(\u001b[0m\u001b[1;33m{\u001b[0m\u001b[1;36m1\u001b[0m\u001b[1;33m,\u001b[0m \u001b[1;36m2\u001b[0m\u001b[1;33m,\u001b[0m \u001b[1;36m3\u001b[0m\u001b[1;33m,\u001b[0m \u001b[1;36m4\u001b[0m\u001b[1;33m}\u001b[0m\u001b[1;33m)\u001b[0m\u001b[1;33m\u001b[0m\u001b[1;33m\u001b[0m\u001b[0m\n\u001b[0m",
      "\u001b[1;32mC:\\Anaconda3\\lib\\json\\__init__.py\u001b[0m in \u001b[0;36mdumps\u001b[1;34m(obj, skipkeys, ensure_ascii, check_circular, allow_nan, cls, indent, separators, default, sort_keys, **kw)\u001b[0m\n\u001b[0;32m    229\u001b[0m         \u001b[0mcls\u001b[0m \u001b[1;32mis\u001b[0m \u001b[1;32mNone\u001b[0m \u001b[1;32mand\u001b[0m \u001b[0mindent\u001b[0m \u001b[1;32mis\u001b[0m \u001b[1;32mNone\u001b[0m \u001b[1;32mand\u001b[0m \u001b[0mseparators\u001b[0m \u001b[1;32mis\u001b[0m \u001b[1;32mNone\u001b[0m \u001b[1;32mand\u001b[0m\u001b[1;33m\u001b[0m\u001b[1;33m\u001b[0m\u001b[0m\n\u001b[0;32m    230\u001b[0m         default is None and not sort_keys and not kw):\n\u001b[1;32m--> 231\u001b[1;33m         \u001b[1;32mreturn\u001b[0m \u001b[0m_default_encoder\u001b[0m\u001b[1;33m.\u001b[0m\u001b[0mencode\u001b[0m\u001b[1;33m(\u001b[0m\u001b[0mobj\u001b[0m\u001b[1;33m)\u001b[0m\u001b[1;33m\u001b[0m\u001b[1;33m\u001b[0m\u001b[0m\n\u001b[0m\u001b[0;32m    232\u001b[0m     \u001b[1;32mif\u001b[0m \u001b[0mcls\u001b[0m \u001b[1;32mis\u001b[0m \u001b[1;32mNone\u001b[0m\u001b[1;33m:\u001b[0m\u001b[1;33m\u001b[0m\u001b[1;33m\u001b[0m\u001b[0m\n\u001b[0;32m    233\u001b[0m         \u001b[0mcls\u001b[0m \u001b[1;33m=\u001b[0m \u001b[0mJSONEncoder\u001b[0m\u001b[1;33m\u001b[0m\u001b[1;33m\u001b[0m\u001b[0m\n",
      "\u001b[1;32mC:\\Anaconda3\\lib\\json\\encoder.py\u001b[0m in \u001b[0;36mencode\u001b[1;34m(self, o)\u001b[0m\n\u001b[0;32m    197\u001b[0m         \u001b[1;31m# exceptions aren't as detailed.  The list call should be roughly\u001b[0m\u001b[1;33m\u001b[0m\u001b[1;33m\u001b[0m\u001b[1;33m\u001b[0m\u001b[0m\n\u001b[0;32m    198\u001b[0m         \u001b[1;31m# equivalent to the PySequence_Fast that ''.join() would do.\u001b[0m\u001b[1;33m\u001b[0m\u001b[1;33m\u001b[0m\u001b[1;33m\u001b[0m\u001b[0m\n\u001b[1;32m--> 199\u001b[1;33m         \u001b[0mchunks\u001b[0m \u001b[1;33m=\u001b[0m \u001b[0mself\u001b[0m\u001b[1;33m.\u001b[0m\u001b[0miterencode\u001b[0m\u001b[1;33m(\u001b[0m\u001b[0mo\u001b[0m\u001b[1;33m,\u001b[0m \u001b[0m_one_shot\u001b[0m\u001b[1;33m=\u001b[0m\u001b[1;32mTrue\u001b[0m\u001b[1;33m)\u001b[0m\u001b[1;33m\u001b[0m\u001b[1;33m\u001b[0m\u001b[0m\n\u001b[0m\u001b[0;32m    200\u001b[0m         \u001b[1;32mif\u001b[0m \u001b[1;32mnot\u001b[0m \u001b[0misinstance\u001b[0m\u001b[1;33m(\u001b[0m\u001b[0mchunks\u001b[0m\u001b[1;33m,\u001b[0m \u001b[1;33m(\u001b[0m\u001b[0mlist\u001b[0m\u001b[1;33m,\u001b[0m \u001b[0mtuple\u001b[0m\u001b[1;33m)\u001b[0m\u001b[1;33m)\u001b[0m\u001b[1;33m:\u001b[0m\u001b[1;33m\u001b[0m\u001b[1;33m\u001b[0m\u001b[0m\n\u001b[0;32m    201\u001b[0m             \u001b[0mchunks\u001b[0m \u001b[1;33m=\u001b[0m \u001b[0mlist\u001b[0m\u001b[1;33m(\u001b[0m\u001b[0mchunks\u001b[0m\u001b[1;33m)\u001b[0m\u001b[1;33m\u001b[0m\u001b[1;33m\u001b[0m\u001b[0m\n",
      "\u001b[1;32mC:\\Anaconda3\\lib\\json\\encoder.py\u001b[0m in \u001b[0;36miterencode\u001b[1;34m(self, o, _one_shot)\u001b[0m\n\u001b[0;32m    255\u001b[0m                 \u001b[0mself\u001b[0m\u001b[1;33m.\u001b[0m\u001b[0mkey_separator\u001b[0m\u001b[1;33m,\u001b[0m \u001b[0mself\u001b[0m\u001b[1;33m.\u001b[0m\u001b[0mitem_separator\u001b[0m\u001b[1;33m,\u001b[0m \u001b[0mself\u001b[0m\u001b[1;33m.\u001b[0m\u001b[0msort_keys\u001b[0m\u001b[1;33m,\u001b[0m\u001b[1;33m\u001b[0m\u001b[1;33m\u001b[0m\u001b[0m\n\u001b[0;32m    256\u001b[0m                 self.skipkeys, _one_shot)\n\u001b[1;32m--> 257\u001b[1;33m         \u001b[1;32mreturn\u001b[0m \u001b[0m_iterencode\u001b[0m\u001b[1;33m(\u001b[0m\u001b[0mo\u001b[0m\u001b[1;33m,\u001b[0m \u001b[1;36m0\u001b[0m\u001b[1;33m)\u001b[0m\u001b[1;33m\u001b[0m\u001b[1;33m\u001b[0m\u001b[0m\n\u001b[0m\u001b[0;32m    258\u001b[0m \u001b[1;33m\u001b[0m\u001b[0m\n\u001b[0;32m    259\u001b[0m def _make_iterencode(markers, _default, _encoder, _indent, _floatstr,\n",
      "\u001b[1;32mC:\\Anaconda3\\lib\\json\\encoder.py\u001b[0m in \u001b[0;36mdefault\u001b[1;34m(self, o)\u001b[0m\n\u001b[0;32m    177\u001b[0m \u001b[1;33m\u001b[0m\u001b[0m\n\u001b[0;32m    178\u001b[0m         \"\"\"\n\u001b[1;32m--> 179\u001b[1;33m         raise TypeError(f'Object of type {o.__class__.__name__} '\n\u001b[0m\u001b[0;32m    180\u001b[0m                         f'is not JSON serializable')\n\u001b[0;32m    181\u001b[0m \u001b[1;33m\u001b[0m\u001b[0m\n",
      "\u001b[1;31mTypeError\u001b[0m: Object of type set is not JSON serializable"
     ]
    }
   ],
   "source": [
    "json.dumps({1, 2, 3, 4})"
   ]
  },
  {
   "cell_type": "code",
   "execution_count": 118,
   "metadata": {},
   "outputs": [],
   "source": [
    "import pickle\n",
    "# only we can use python"
   ]
  },
  {
   "cell_type": "code",
   "execution_count": 119,
   "metadata": {},
   "outputs": [
    {
     "data": {
      "text/plain": [
       "b'\\x80\\x03cbuiltins\\nset\\nq\\x00]q\\x01(K\\x01K\\x02K\\x03K\\x04e\\x85q\\x02Rq\\x03.'"
      ]
     },
     "execution_count": 119,
     "metadata": {},
     "output_type": "execute_result"
    }
   ],
   "source": [
    "pickle.dumps({1,2, 3, 4})"
   ]
  },
  {
   "cell_type": "code",
   "execution_count": 120,
   "metadata": {},
   "outputs": [
    {
     "name": "stdout",
     "output_type": "stream",
     "text": [
      "{\"AC001\": {\"name\": \"sachin\", \"balance\": 50000, \"password\": \"nihcas\"}, \"AC002\": {\"name\": \"rajat\", \"balance\": 60000, \"password\": \"tajar\"}, \"AC3\": {\"name\": \"tanvi\", \"balance\": 10000, \"password\": \"ivnat\"}, \"AC4\": {\"name\": \"manish\", \"balance\": 130001, \"password\": \"hsinam\"}}\n"
     ]
    }
   ],
   "source": [
    "!type bank.json"
   ]
  },
  {
   "cell_type": "code",
   "execution_count": 122,
   "metadata": {},
   "outputs": [
    {
     "data": {
      "text/plain": [
       "b'\\x80\\x03cbuiltins\\nrange\\nq\\x00K\\x01K2K\\x01\\x87q\\x01Rq\\x02.'"
      ]
     },
     "execution_count": 122,
     "metadata": {},
     "output_type": "execute_result"
    }
   ],
   "source": [
    "pickle.dumps(range(1,50))"
   ]
  },
  {
   "cell_type": "code",
   "execution_count": 124,
   "metadata": {},
   "outputs": [
    {
     "data": {
      "text/plain": [
       "b'\\x80\\x03cbuiltins\\nmap\\nq\\x00cbuiltins\\nint\\nq\\x01cbuiltins\\niter\\nq\\x02]q\\x03(X\\x01\\x00\\x00\\x001q\\x04X\\x01\\x00\\x00\\x002q\\x05X\\x01\\x00\\x00\\x003q\\x06X\\x01\\x00\\x00\\x004q\\x07e\\x85q\\x08Rq\\tK\\x00b\\x86q\\nRq\\x0b.'"
      ]
     },
     "execution_count": 124,
     "metadata": {},
     "output_type": "execute_result"
    }
   ],
   "source": [
    "byte = pickle.dumps(map(int, ['1', '2', '3', '4']))\n",
    "byte"
   ]
  },
  {
   "cell_type": "code",
   "execution_count": 125,
   "metadata": {},
   "outputs": [
    {
     "name": "stdout",
     "output_type": "stream",
     "text": [
      "1\n",
      "2\n",
      "3\n",
      "4\n"
     ]
    }
   ],
   "source": [
    "for item in pickle.loads(byte):\n",
    "    print(item)"
   ]
  },
  {
   "cell_type": "code",
   "execution_count": 126,
   "metadata": {},
   "outputs": [],
   "source": [
    "def write_once(data, filename):\n",
    "    fp = open(filename, 'wb')\n",
    "    pickle.dump(data, fp)\n",
    "    fp.close()\n",
    "    print(\"updated sucessfullly\")"
   ]
  },
  {
   "cell_type": "code",
   "execution_count": 128,
   "metadata": {},
   "outputs": [
    {
     "name": "stdout",
     "output_type": "stream",
     "text": [
      "updated sucessfullly\n"
     ]
    }
   ],
   "source": [
    "write_once(bank_db, 'bank.pkl')"
   ]
  },
  {
   "cell_type": "code",
   "execution_count": 129,
   "metadata": {},
   "outputs": [
    {
     "name": "stdout",
     "output_type": "stream",
     "text": [
      "€\u0003}q\u0000(X\u0005\u0000\u0000\u0000AC001q\u0001}q\u0002(X\u0004\u0000\u0000\u0000nameq\u0003X\u0006\u0000\u0000\u0000sachinq\u0004X\u0007\u0000\u0000\u0000balanceq\u0005MPÃX\b\u0000\u0000\u0000passwordq\u0006X\u0006\u0000\u0000\u0000nihcasq\u0007uX\u0005\u0000\u0000\u0000AC002q\b}q\t(h\u0003X\u0005\u0000\u0000\u0000rajatq\n",
      "h\u0005M`êh\u0006X\u0005\u0000\u0000\u0000tajarq\u000b",
      "uu.\n"
     ]
    }
   ],
   "source": [
    "!type bank.pkl"
   ]
  },
  {
   "cell_type": "code",
   "execution_count": 130,
   "metadata": {},
   "outputs": [],
   "source": [
    "def load_db(filename):\n",
    "    with open(filename, 'rb') as file:\n",
    "        db = pickle.load(file)\n",
    "        file.close()\n",
    "    return db"
   ]
  },
  {
   "cell_type": "code",
   "execution_count": 131,
   "metadata": {},
   "outputs": [
    {
     "data": {
      "text/plain": [
       "{'AC001': {'name': 'sachin', 'balance': 50000, 'password': 'nihcas'},\n",
       " 'AC002': {'name': 'rajat', 'balance': 60000, 'password': 'tajar'}}"
      ]
     },
     "execution_count": 131,
     "metadata": {},
     "output_type": "execute_result"
    }
   ],
   "source": [
    "load_db('bank.pkl')"
   ]
  },
  {
   "cell_type": "code",
   "execution_count": 133,
   "metadata": {},
   "outputs": [],
   "source": [
    "def update_db(filename, key, value):\n",
    "    db = load_db(filename)\n",
    "    db.update([ (key, value) ])\n",
    "    with open(filename, 'wb') as fp:\n",
    "        pickle.dump(db, fp)\n",
    "        fp.close()\n",
    "    \n",
    "        "
   ]
  },
  {
   "cell_type": "code",
   "execution_count": 139,
   "metadata": {},
   "outputs": [],
   "source": [
    "def signup(user, password, balance, filename='bank.pkl'):\n",
    "    db = load_db(filename)\n",
    "    acc = 'AC' + str(int(max(db.keys())[2:])+1).zfill(3)\n",
    "    print(\"Write Down your Account Number: \", acc)\n",
    "    update_db(filename, acc, {'name': user, 'balance': balance, \n",
    "                                  'password': password})\n",
    "    print(\"Account Created Successfully\")"
   ]
  },
  {
   "cell_type": "code",
   "execution_count": 140,
   "metadata": {},
   "outputs": [
    {
     "name": "stdout",
     "output_type": "stream",
     "text": [
      "Write Down your Account Number:  AC003\n",
      "Account Created Successfully\n"
     ]
    }
   ],
   "source": [
    "signup('tanvi', 'ivnat', 60000)"
   ]
  },
  {
   "cell_type": "code",
   "execution_count": 141,
   "metadata": {},
   "outputs": [
    {
     "data": {
      "text/plain": [
       "{'AC001': {'name': 'sachin', 'balance': 50000, 'password': 'nihcas'},\n",
       " 'AC002': {'name': 'rajat', 'balance': 60000, 'password': 'tajar'},\n",
       " 'AC003': {'name': 'tanvi', 'balance': 60000, 'password': 'ivnat'}}"
      ]
     },
     "execution_count": 141,
     "metadata": {},
     "output_type": "execute_result"
    }
   ],
   "source": [
    "load_db('bank.pkl')"
   ]
  },
  {
   "cell_type": "code",
   "execution_count": 142,
   "metadata": {},
   "outputs": [
    {
     "name": "stdout",
     "output_type": "stream",
     "text": [
      "\n",
      "Error!!!No such user exists!!!please signup if you don't have account\n"
     ]
    },
    {
     "data": {
      "text/plain": [
       "False"
      ]
     },
     "execution_count": 142,
     "metadata": {},
     "output_type": "execute_result"
    }
   ],
   "source": [
    "login('asdf', 'asdf', load_db('bank.pkl'))"
   ]
  },
  {
   "cell_type": "code",
   "execution_count": 143,
   "metadata": {},
   "outputs": [
    {
     "name": "stdout",
     "output_type": "stream",
     "text": [
      "\n",
      "Error!!!Invalid Password Try Again!!!\n"
     ]
    },
    {
     "data": {
      "text/plain": [
       "False"
      ]
     },
     "execution_count": 143,
     "metadata": {},
     "output_type": "execute_result"
    }
   ],
   "source": [
    "login('AC003', 'asdf', load_db('bank.pkl'))"
   ]
  },
  {
   "cell_type": "code",
   "execution_count": 144,
   "metadata": {},
   "outputs": [
    {
     "name": "stdout",
     "output_type": "stream",
     "text": [
      "\n",
      "Welcome Back User:  tanvi\n"
     ]
    },
    {
     "data": {
      "text/plain": [
       "True"
      ]
     },
     "execution_count": 144,
     "metadata": {},
     "output_type": "execute_result"
    }
   ],
   "source": [
    "login('AC003', 'ivnat', load_db('bank.pkl'))"
   ]
  },
  {
   "cell_type": "markdown",
   "metadata": {},
   "source": [
    "    Serlization and De-serlization"
   ]
  },
  {
   "cell_type": "markdown",
   "metadata": {},
   "source": [
    "    OOPS - Object Oriented Prgoramming Language"
   ]
  },
  {
   "cell_type": "code",
   "execution_count": null,
   "metadata": {},
   "outputs": [],
   "source": [
    "C -> functions --> integrated --> Project"
   ]
  },
  {
   "cell_type": "markdown",
   "metadata": {},
   "source": [
    "    set of rules to write better, more readble "
   ]
  },
  {
   "cell_type": "markdown",
   "metadata": {},
   "source": [
    "### OOPS\n",
    "\n",
    "    Encapsulation\n",
    "    Data Hiding\n",
    "    Abstraction\n",
    "    Inheritance\n",
    "    PolyMorphism\n",
    "    Over-riding\n",
    "    Message Passing\n",
    "    Class \n",
    "    Object\n",
    "    "
   ]
  },
  {
   "cell_type": "markdown",
   "metadata": {},
   "source": [
    "    object - instance, state, data\n",
    "\n",
    "    class - objects & methods"
   ]
  },
  {
   "cell_type": "code",
   "execution_count": 146,
   "metadata": {},
   "outputs": [],
   "source": [
    "l = [ 1, 2, 3, 4]"
   ]
  },
  {
   "cell_type": "code",
   "execution_count": 147,
   "metadata": {},
   "outputs": [],
   "source": [
    "l.append(5)"
   ]
  },
  {
   "cell_type": "code",
   "execution_count": 148,
   "metadata": {},
   "outputs": [],
   "source": [
    "l.insert(0, 'hi')"
   ]
  },
  {
   "cell_type": "code",
   "execution_count": 149,
   "metadata": {},
   "outputs": [
    {
     "data": {
      "text/plain": [
       "['hi', 1, 2, 3, 4, 5]"
      ]
     },
     "execution_count": 149,
     "metadata": {},
     "output_type": "execute_result"
    }
   ],
   "source": [
    "l"
   ]
  },
  {
   "cell_type": "code",
   "execution_count": 150,
   "metadata": {},
   "outputs": [],
   "source": [
    "l.clear()"
   ]
  },
  {
   "cell_type": "markdown",
   "metadata": {},
   "source": [
    "**Encapsulation**\n",
    "\n",
    "    Encapsulation is a process by which we can bind all methods and data together in a single name space"
   ]
  },
  {
   "cell_type": "markdown",
   "metadata": {},
   "source": [
    "**Data Hiding**\n",
    "    \n",
    "    We hide some sensitive information inside class namespace which not available directly outside class"
   ]
  },
  {
   "cell_type": "code",
   "execution_count": 151,
   "metadata": {},
   "outputs": [],
   "source": [
    "l = [ 1, 2, 3, 4]"
   ]
  },
  {
   "cell_type": "code",
   "execution_count": 152,
   "metadata": {},
   "outputs": [
    {
     "data": {
      "text/plain": [
       "4"
      ]
     },
     "execution_count": 152,
     "metadata": {},
     "output_type": "execute_result"
    }
   ],
   "source": [
    "l.__len__() # direct method "
   ]
  },
  {
   "cell_type": "code",
   "execution_count": 153,
   "metadata": {},
   "outputs": [
    {
     "data": {
      "text/plain": [
       "4"
      ]
     },
     "execution_count": 153,
     "metadata": {},
     "output_type": "execute_result"
    }
   ],
   "source": [
    "len(l) # indirect method to access property of list"
   ]
  },
  {
   "cell_type": "code",
   "execution_count": 154,
   "metadata": {},
   "outputs": [],
   "source": [
    "l = [ 'java', 'c']"
   ]
  },
  {
   "cell_type": "code",
   "execution_count": 155,
   "metadata": {},
   "outputs": [],
   "source": [
    "l.append('c++')"
   ]
  },
  {
   "cell_type": "code",
   "execution_count": 156,
   "metadata": {},
   "outputs": [
    {
     "data": {
      "text/plain": [
       "['java', 'c', 'c++']"
      ]
     },
     "execution_count": 156,
     "metadata": {},
     "output_type": "execute_result"
    }
   ],
   "source": [
    "l"
   ]
  },
  {
   "cell_type": "code",
   "execution_count": 157,
   "metadata": {},
   "outputs": [],
   "source": [
    "l = list([ 'java', 'c'])"
   ]
  },
  {
   "cell_type": "code",
   "execution_count": 158,
   "metadata": {},
   "outputs": [
    {
     "data": {
      "text/plain": [
       "['java', 'c']"
      ]
     },
     "execution_count": 158,
     "metadata": {},
     "output_type": "execute_result"
    }
   ],
   "source": [
    "l"
   ]
  },
  {
   "cell_type": "code",
   "execution_count": null,
   "metadata": {},
   "outputs": [],
   "source": []
  },
  {
   "cell_type": "code",
   "execution_count": 160,
   "metadata": {},
   "outputs": [],
   "source": [
    "# l.append('c++') --> list.append(l, 'c++') --> list.append(self, 'c++')\n",
    "list.append(l, 'c++')"
   ]
  },
  {
   "cell_type": "code",
   "execution_count": 161,
   "metadata": {},
   "outputs": [
    {
     "data": {
      "text/plain": [
       "['java', 'c', 'c++']"
      ]
     },
     "execution_count": 161,
     "metadata": {},
     "output_type": "execute_result"
    }
   ],
   "source": [
    "l"
   ]
  },
  {
   "cell_type": "code",
   "execution_count": 164,
   "metadata": {},
   "outputs": [
    {
     "data": {
      "text/plain": [
       "11"
      ]
     },
     "execution_count": 164,
     "metadata": {},
     "output_type": "execute_result"
    }
   ],
   "source": [
    "5 + 6 # int.__add__(5, 6)"
   ]
  },
  {
   "cell_type": "code",
   "execution_count": 163,
   "metadata": {},
   "outputs": [
    {
     "data": {
      "text/plain": [
       "11"
      ]
     },
     "execution_count": 163,
     "metadata": {},
     "output_type": "execute_result"
    }
   ],
   "source": [
    "int.__add__(5, 6)"
   ]
  },
  {
   "cell_type": "markdown",
   "metadata": {},
   "source": [
    "syntax\n",
    "\n",
    "    class class_name(parent1, parent2, ...):\n",
    "        _class_variable ....\n",
    "        def method(self):\n",
    "            ....\n",
    "           "
   ]
  },
  {
   "cell_type": "code",
   "execution_count": 166,
   "metadata": {},
   "outputs": [],
   "source": [
    "class A:\n",
    "    def hello(self):\n",
    "        \"\"\"object - instance \n",
    "           instance method\n",
    "        \"\"\"\n",
    "        print(self, id(self))\n",
    "        print(\"Hello World\")"
   ]
  },
  {
   "cell_type": "code",
   "execution_count": 173,
   "metadata": {},
   "outputs": [
    {
     "name": "stdout",
     "output_type": "stream",
     "text": [
      "<class '__main__.A'>\n"
     ]
    }
   ],
   "source": [
    "a  = A(); print(type(a))"
   ]
  },
  {
   "cell_type": "code",
   "execution_count": 172,
   "metadata": {},
   "outputs": [
    {
     "name": "stdout",
     "output_type": "stream",
     "text": [
      "<__main__.A object at 0x000002AC5BACD4C8> 2939295683784\n"
     ]
    }
   ],
   "source": [
    "print(a, id(a))"
   ]
  },
  {
   "cell_type": "code",
   "execution_count": 171,
   "metadata": {},
   "outputs": [
    {
     "name": "stdout",
     "output_type": "stream",
     "text": [
      "<__main__.A object at 0x000002AC5BACD4C8> 2939295683784\n",
      "Hello World\n"
     ]
    }
   ],
   "source": [
    "a.hello() # A.hello(a) self == a"
   ]
  },
  {
   "cell_type": "code",
   "execution_count": 174,
   "metadata": {},
   "outputs": [
    {
     "name": "stdout",
     "output_type": "stream",
     "text": [
      "<__main__.A object at 0x000002AC5BEF4708> 2939300038408\n",
      "Hello World\n"
     ]
    }
   ],
   "source": [
    "A.hello(a)"
   ]
  },
  {
   "cell_type": "code",
   "execution_count": 175,
   "metadata": {},
   "outputs": [],
   "source": [
    "b = A()"
   ]
  },
  {
   "cell_type": "code",
   "execution_count": 176,
   "metadata": {},
   "outputs": [
    {
     "name": "stdout",
     "output_type": "stream",
     "text": [
      "<__main__.A object at 0x000002AC5A9F6388> 2939278025608\n",
      "Hello World\n"
     ]
    }
   ],
   "source": [
    "b.hello() # A.hello(b) self == b"
   ]
  },
  {
   "cell_type": "code",
   "execution_count": 177,
   "metadata": {},
   "outputs": [
    {
     "name": "stdout",
     "output_type": "stream",
     "text": [
      "<__main__.A object at 0x000002AC5A9F6388> 2939278025608\n"
     ]
    }
   ],
   "source": [
    "print(b, id(b))"
   ]
  },
  {
   "cell_type": "code",
   "execution_count": null,
   "metadata": {},
   "outputs": [],
   "source": []
  }
 ],
 "metadata": {
  "kernelspec": {
   "display_name": "Python 3",
   "language": "python",
   "name": "python3"
  },
  "language_info": {
   "codemirror_mode": {
    "name": "ipython",
    "version": 3
   },
   "file_extension": ".py",
   "mimetype": "text/x-python",
   "name": "python",
   "nbconvert_exporter": "python",
   "pygments_lexer": "ipython3",
   "version": "3.7.4"
  }
 },
 "nbformat": 4,
 "nbformat_minor": 2
}
