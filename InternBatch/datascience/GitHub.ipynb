{
 "cells": [
  {
   "cell_type": "markdown",
   "metadata": {},
   "source": [
    "<h1 style='color:#123456'>GIT</h1>"
   ]
  },
  {
   "cell_type": "code",
   "execution_count": 66,
   "metadata": {},
   "outputs": [
    {
     "name": "stdout",
     "output_type": "stream",
     "text": [
      "git version 2.24.1.windows.2\n"
     ]
    }
   ],
   "source": [
    "!git --version"
   ]
  },
  {
   "cell_type": "code",
   "execution_count": 68,
   "metadata": {},
   "outputs": [
    {
     "name": "stdout",
     "output_type": "stream",
     "text": [
      "/c/Users/sachin/Desktop/InternBatch/datascience\n"
     ]
    }
   ],
   "source": [
    "!pwd"
   ]
  },
  {
   "cell_type": "code",
   "execution_count": 69,
   "metadata": {},
   "outputs": [],
   "source": [
    "!cd /users/sachin/desktop/git_intro"
   ]
  },
  {
   "cell_type": "code",
   "execution_count": 70,
   "metadata": {},
   "outputs": [
    {
     "name": "stdout",
     "output_type": "stream",
     "text": [
      "/c/Users/sachin/Desktop/InternBatch/datascience\n"
     ]
    }
   ],
   "source": [
    "!pwd"
   ]
  },
  {
   "cell_type": "code",
   "execution_count": 3,
   "metadata": {},
   "outputs": [],
   "source": [
    "import os"
   ]
  },
  {
   "cell_type": "code",
   "execution_count": 4,
   "metadata": {},
   "outputs": [],
   "source": [
    "os.chdir(\"C:\\\\Users\\\\sachin\\\\Desktop\\\\git_intro\")"
   ]
  },
  {
   "cell_type": "code",
   "execution_count": 73,
   "metadata": {},
   "outputs": [
    {
     "name": "stdout",
     "output_type": "stream",
     "text": [
      "/c/Users/sachin/Desktop/git_intro\n"
     ]
    }
   ],
   "source": [
    "!pwd"
   ]
  },
  {
   "cell_type": "code",
   "execution_count": 74,
   "metadata": {},
   "outputs": [],
   "source": [
    "!ls"
   ]
  },
  {
   "cell_type": "markdown",
   "metadata": {},
   "source": [
    "### Let's Create a git-repository"
   ]
  },
  {
   "cell_type": "code",
   "execution_count": 92,
   "metadata": {},
   "outputs": [
    {
     "name": "stdout",
     "output_type": "stream",
     "text": [
      "Initialized empty Git repository in C:/Users/sachin/Desktop/git_intro/.git/\n"
     ]
    }
   ],
   "source": [
    "!git init \"C:\\\\Users\\\\sachin\\\\Desktop\\\\git_intro\""
   ]
  },
  {
   "cell_type": "code",
   "execution_count": 93,
   "metadata": {},
   "outputs": [
    {
     "name": "stdout",
     "output_type": "stream",
     "text": [
      " Volume in drive C is Local Disk\n",
      "  Volume Serial Number is 18D4-940E\n",
      " \n",
      "  Directory of C:\\Users\\sachin\\Desktop\\git_intro\n",
      " \n",
      " 06/23/2020  02:20 PM    <DIR>          .\n",
      " 06/23/2020  02:20 PM    <DIR>          ..\n",
      "                0 File(s)              0 bytes\n",
      "                2 Dir(s)  33,121,316,864 bytes free\n",
      "\n"
     ]
    }
   ],
   "source": [
    "print(*os.popen('dir'))"
   ]
  },
  {
   "cell_type": "code",
   "execution_count": 94,
   "metadata": {},
   "outputs": [],
   "source": [
    "!ls"
   ]
  },
  {
   "cell_type": "code",
   "execution_count": 95,
   "metadata": {},
   "outputs": [
    {
     "name": "stdout",
     "output_type": "stream",
     "text": [
      " Volume in drive C is Local Disk\n",
      " Volume Serial Number is 18D4-940E\n",
      "\n",
      " Directory of C:\\Users\\sachin\\Desktop\\git_intro\n",
      "\n",
      "06/23/2020  02:20 PM    <DIR>          .\n",
      "06/23/2020  02:20 PM    <DIR>          ..\n",
      "06/23/2020  02:20 PM    <DIR>          .git\n",
      "               0 File(s)              0 bytes\n",
      "               3 Dir(s)  33,119,154,176 bytes free\n"
     ]
    }
   ],
   "source": [
    "!dir /a"
   ]
  },
  {
   "cell_type": "code",
   "execution_count": 96,
   "metadata": {},
   "outputs": [
    {
     "name": "stdout",
     "output_type": "stream",
     "text": [
      "/c/Users/sachin/Desktop/git_intro\n"
     ]
    }
   ],
   "source": [
    "!pwd"
   ]
  },
  {
   "cell_type": "code",
   "execution_count": 98,
   "metadata": {},
   "outputs": [
    {
     "name": "stdout",
     "output_type": "stream",
     "text": [
      "Reinitialized existing Git repository in C:/Users/sachin/Desktop/git_intro/.git/\n"
     ]
    }
   ],
   "source": [
    "!git init .\n",
    "# it will initlize current directory as a git repository"
   ]
  },
  {
   "cell_type": "markdown",
   "metadata": {},
   "source": [
    "##### create username for project and email address"
   ]
  },
  {
   "cell_type": "markdown",
   "metadata": {},
   "source": [
    "`local` for each project you can add different different name and emails\n",
    "    \n",
    " `git config user.name \"user name\"`\n",
    " \n",
    " `git config user.email \"email address which you have used in your GITHUB account\"`\n",
    "\n",
    "`global` for global projects, for each new project we will use global\n",
    "\n",
    "`git config user.name \"sachin yadav\" --global`\n",
    "\n",
    "`git config user.email \"sachinyadav3496@gmail.com\" --global`\n",
    "    "
   ]
  },
  {
   "cell_type": "markdown",
   "metadata": {},
   "source": [
    "##### let's global name and email"
   ]
  },
  {
   "cell_type": "code",
   "execution_count": 8,
   "metadata": {},
   "outputs": [
    {
     "name": "stdout",
     "output_type": "stream",
     "text": [
      "sachinyadav3496\n"
     ]
    }
   ],
   "source": [
    "!git config user.name"
   ]
  },
  {
   "cell_type": "code",
   "execution_count": 9,
   "metadata": {},
   "outputs": [
    {
     "name": "stdout",
     "output_type": "stream",
     "text": [
      "sachinyadav3496@gmail.com\n"
     ]
    }
   ],
   "source": [
    "!git config user.email"
   ]
  },
  {
   "cell_type": "markdown",
   "metadata": {},
   "source": [
    "changing locally the user name for current repository"
   ]
  },
  {
   "cell_type": "code",
   "execution_count": 10,
   "metadata": {},
   "outputs": [],
   "source": [
    "!git config user.name \"Sachin Yadav\""
   ]
  },
  {
   "cell_type": "code",
   "execution_count": 99,
   "metadata": {},
   "outputs": [
    {
     "name": "stdout",
     "output_type": "stream",
     "text": [
      "HEAD\n",
      "config\n",
      "description\n",
      "hooks\n",
      "info\n",
      "objects\n",
      "refs\n"
     ]
    }
   ],
   "source": [
    "!ls .git/"
   ]
  },
  {
   "cell_type": "code",
   "execution_count": 103,
   "metadata": {},
   "outputs": [
    {
     "name": "stdout",
     "output_type": "stream",
     "text": [
      "[core]\n",
      "\trepositoryformatversion = 0\n",
      "\tfilemode = false\n",
      "\tbare = false\n",
      "\tlogallrefupdates = true\n",
      "\tsymlinks = false\n",
      "\tignorecase = true\n"
     ]
    }
   ],
   "source": [
    "!cat .git/config"
   ]
  },
  {
   "cell_type": "code",
   "execution_count": 104,
   "metadata": {},
   "outputs": [
    {
     "name": "stdout",
     "output_type": "stream",
     "text": [
      "Writing README.md\n"
     ]
    }
   ],
   "source": [
    "%%writefile README.md\n",
    "# Git Repository to understand working of git"
   ]
  },
  {
   "cell_type": "code",
   "execution_count": 105,
   "metadata": {},
   "outputs": [
    {
     "name": "stdout",
     "output_type": "stream",
     "text": [
      "README.md\n"
     ]
    }
   ],
   "source": [
    "!ls"
   ]
  },
  {
   "cell_type": "code",
   "execution_count": 106,
   "metadata": {},
   "outputs": [
    {
     "name": "stdout",
     "output_type": "stream",
     "text": [
      "On branch master\n",
      "\n",
      "No commits yet\n",
      "\n",
      "Untracked files:\n",
      "  (use \"git add <file>...\" to include in what will be committed)\n",
      "\tREADME.md\n",
      "\n",
      "nothing added to commit but untracked files present (use \"git add\" to track)\n"
     ]
    }
   ],
   "source": [
    "!git status"
   ]
  },
  {
   "cell_type": "code",
   "execution_count": 107,
   "metadata": {},
   "outputs": [],
   "source": [
    "!git add README.md"
   ]
  },
  {
   "cell_type": "markdown",
   "metadata": {},
   "source": [
    "### staging area"
   ]
  },
  {
   "cell_type": "code",
   "execution_count": 110,
   "metadata": {},
   "outputs": [
    {
     "name": "stdout",
     "output_type": "stream",
     "text": [
      "On branch master\n",
      "\n",
      "No commits yet\n",
      "\n",
      "Changes to be committed:\n",
      "  (use \"git rm --cached <file>...\" to unstage)\n",
      "\tnew file:   README.md\n",
      "\n"
     ]
    }
   ],
   "source": [
    "!git status "
   ]
  },
  {
   "cell_type": "code",
   "execution_count": 111,
   "metadata": {},
   "outputs": [],
   "source": [
    "!notepad README.md"
   ]
  },
  {
   "cell_type": "code",
   "execution_count": null,
   "metadata": {},
   "outputs": [],
   "source": [
    "!cat README.md"
   ]
  },
  {
   "cell_type": "code",
   "execution_count": 113,
   "metadata": {},
   "outputs": [
    {
     "name": "stdout",
     "output_type": "stream",
     "text": [
      "On branch master\n",
      "\n",
      "No commits yet\n",
      "\n",
      "Changes to be committed:\n",
      "  (use \"git rm --cached <file>...\" to unstage)\n",
      "\tnew file:   README.md\n",
      "\n",
      "Changes not staged for commit:\n",
      "  (use \"git add <file>...\" to update what will be committed)\n",
      "  (use \"git restore <file>...\" to discard changes in working directory)\n",
      "\tmodified:   README.md\n",
      "\n"
     ]
    }
   ],
   "source": [
    "!git status"
   ]
  },
  {
   "cell_type": "code",
   "execution_count": 114,
   "metadata": {},
   "outputs": [
    {
     "name": "stdout",
     "output_type": "stream",
     "text": [
      "diff --git a/README.md b/README.md\n",
      "index ad3fb0d..db16ae0 100644\n",
      "--- a/README.md\n",
      "+++ b/README.md\n",
      "@@ -1 +1,5 @@\n",
      " # Git Repository to understand working of git\n",
      "+## This is just a Demo Repository\n",
      "+\n",
      "+- `README.md` this is documentation file of our project\n",
      "+- `add.py` this is a simple addition program in python version 3 \n",
      "\\ No newline at end of file\n"
     ]
    }
   ],
   "source": [
    "!git diff README.md"
   ]
  },
  {
   "cell_type": "code",
   "execution_count": 115,
   "metadata": {},
   "outputs": [],
   "source": [
    "!git add README.md"
   ]
  },
  {
   "cell_type": "code",
   "execution_count": 116,
   "metadata": {},
   "outputs": [
    {
     "name": "stdout",
     "output_type": "stream",
     "text": [
      "On branch master\n",
      "\n",
      "No commits yet\n",
      "\n",
      "Changes to be committed:\n",
      "  (use \"git rm --cached <file>...\" to unstage)\n",
      "\tnew file:   README.md\n",
      "\n"
     ]
    }
   ],
   "source": [
    "!git status"
   ]
  },
  {
   "cell_type": "code",
   "execution_count": 117,
   "metadata": {},
   "outputs": [],
   "source": [
    "!notepad add.py"
   ]
  },
  {
   "cell_type": "code",
   "execution_count": 118,
   "metadata": {},
   "outputs": [
    {
     "name": "stdout",
     "output_type": "stream",
     "text": [
      "README.md\n",
      "add.py\n"
     ]
    }
   ],
   "source": [
    "!ls"
   ]
  },
  {
   "cell_type": "code",
   "execution_count": 119,
   "metadata": {},
   "outputs": [
    {
     "name": "stdout",
     "output_type": "stream",
     "text": [
      "On branch master\n",
      "\n",
      "No commits yet\n",
      "\n",
      "Changes to be committed:\n",
      "  (use \"git rm --cached <file>...\" to unstage)\n",
      "\tnew file:   README.md\n",
      "\n",
      "Untracked files:\n",
      "  (use \"git add <file>...\" to include in what will be committed)\n",
      "\tadd.py\n",
      "\n"
     ]
    }
   ],
   "source": [
    "!git status"
   ]
  },
  {
   "cell_type": "raw",
   "metadata": {},
   "source": [
    "use can use . to add all new_files created in current directory to git "
   ]
  },
  {
   "cell_type": "code",
   "execution_count": 120,
   "metadata": {},
   "outputs": [],
   "source": [
    "!git add ."
   ]
  },
  {
   "cell_type": "code",
   "execution_count": 121,
   "metadata": {},
   "outputs": [
    {
     "name": "stdout",
     "output_type": "stream",
     "text": [
      "On branch master\n",
      "\n",
      "No commits yet\n",
      "\n",
      "Changes to be committed:\n",
      "  (use \"git rm --cached <file>...\" to unstage)\n",
      "\tnew file:   README.md\n",
      "\tnew file:   add.py\n",
      "\n"
     ]
    }
   ],
   "source": [
    "!git status"
   ]
  },
  {
   "cell_type": "code",
   "execution_count": 122,
   "metadata": {},
   "outputs": [
    {
     "name": "stdout",
     "output_type": "stream",
     "text": [
      "x = input(\"Enter x: \")\n",
      "y = input(\"Enter y: \")\n",
      "print(\"X + y = \", x + y)\n"
     ]
    }
   ],
   "source": [
    "!cat add.py"
   ]
  },
  {
   "cell_type": "code",
   "execution_count": 123,
   "metadata": {},
   "outputs": [],
   "source": [
    "!notepad add.py"
   ]
  },
  {
   "cell_type": "code",
   "execution_count": 124,
   "metadata": {},
   "outputs": [
    {
     "name": "stdout",
     "output_type": "stream",
     "text": [
      "\"\"\"add.py simple addition program\"\"\"\n",
      "\n",
      "x = int(input(\"Enter x: \"))\n",
      "\n",
      "y = int(input(\"Enter y: \"))\n",
      "\n",
      "print(f\"{x} + {y} =  {x+y}.\")\n"
     ]
    }
   ],
   "source": [
    "!cat add.py"
   ]
  },
  {
   "cell_type": "code",
   "execution_count": 125,
   "metadata": {},
   "outputs": [
    {
     "name": "stdout",
     "output_type": "stream",
     "text": [
      "diff --git a/add.py b/add.py\n",
      "index ffd542d..5d8d6cf 100644\n",
      "--- a/add.py\n",
      "+++ b/add.py\n",
      "@@ -1,3 +1,7 @@\n",
      "-x = input(\"Enter x: \")\n",
      "-y = input(\"Enter y: \")\n",
      "-print(\"X + y = \", x + y)\n",
      "\\ No newline at end of file\n",
      "+\"\"\"add.py simple addition program\"\"\"\n",
      "+\n",
      "+x = int(input(\"Enter x: \"))\n",
      "+\n",
      "+y = int(input(\"Enter y: \"))\n",
      "+\n",
      "+print(f\"{x} + {y} =  {x+y}.\")\n",
      "\\ No newline at end of file\n"
     ]
    }
   ],
   "source": [
    "!git diff add.py"
   ]
  },
  {
   "cell_type": "code",
   "execution_count": 127,
   "metadata": {},
   "outputs": [
    {
     "name": "stdout",
     "output_type": "stream",
     "text": [
      "On branch master\n",
      "\n",
      "No commits yet\n",
      "\n",
      "Changes to be committed:\n",
      "  (use \"git rm --cached <file>...\" to unstage)\n",
      "\tnew file:   README.md\n",
      "\tnew file:   add.py\n",
      "\n",
      "Changes not staged for commit:\n",
      "  (use \"git add <file>...\" to update what will be committed)\n",
      "  (use \"git restore <file>...\" to discard changes in working directory)\n",
      "\tmodified:   add.py\n",
      "\n"
     ]
    }
   ],
   "source": [
    "!git status"
   ]
  },
  {
   "cell_type": "code",
   "execution_count": 128,
   "metadata": {},
   "outputs": [],
   "source": [
    "!git add . "
   ]
  },
  {
   "cell_type": "code",
   "execution_count": 129,
   "metadata": {},
   "outputs": [
    {
     "name": "stdout",
     "output_type": "stream",
     "text": [
      "On branch master\n",
      "\n",
      "No commits yet\n",
      "\n",
      "Changes to be committed:\n",
      "  (use \"git rm --cached <file>...\" to unstage)\n",
      "\tnew file:   README.md\n",
      "\tnew file:   add.py\n",
      "\n"
     ]
    }
   ],
   "source": [
    "!git status"
   ]
  },
  {
   "cell_type": "code",
   "execution_count": 130,
   "metadata": {},
   "outputs": [
    {
     "name": "stdout",
     "output_type": "stream",
     "text": [
      "[master (root-commit) 9b54365] added a file add.py to add addition feature to our project\n",
      " 2 files changed, 12 insertions(+)\n",
      " create mode 100644 README.md\n",
      " create mode 100644 add.py\n"
     ]
    }
   ],
   "source": [
    "!git commit -m \"added a file add.py to add addition feature to our project\""
   ]
  },
  {
   "cell_type": "markdown",
   "metadata": {},
   "source": [
    "`9b54365` is `commit hash` or you can is a `version` or `checkpoint` so if want in future to access this code you can rollback"
   ]
  },
  {
   "cell_type": "markdown",
   "metadata": {},
   "source": [
    "**we are working on local or remote repository ?**"
   ]
  },
  {
   "cell_type": "raw",
   "metadata": {},
   "source": [
    "!git tag -a \"v1.0\" 9b54365\n",
    "\n",
    "# run in cmd"
   ]
  },
  {
   "cell_type": "code",
   "execution_count": 5,
   "metadata": {},
   "outputs": [
    {
     "name": "stdout",
     "output_type": "stream",
     "text": [
      "/c/Users/sachin/Desktop/git_intro\n"
     ]
    }
   ],
   "source": [
    "!pwd"
   ]
  },
  {
   "cell_type": "code",
   "execution_count": 6,
   "metadata": {},
   "outputs": [
    {
     "name": "stdout",
     "output_type": "stream",
     "text": [
      "v.1.0\n"
     ]
    }
   ],
   "source": [
    "!git tag"
   ]
  },
  {
   "cell_type": "code",
   "execution_count": 7,
   "metadata": {},
   "outputs": [
    {
     "name": "stdout",
     "output_type": "stream",
     "text": [
      "tag v.1.0\n",
      "Tagger: sachinyadav3496 <sachinyadav3496@gmail.com>\n",
      "Date:   Tue Jun 23 14:47:50 2020 +0530\n",
      "\n",
      "   v.1.0 a add.py file is added to our project to perform addition\n",
      "\n",
      "commit 9b54365e80c9ce9c5a1c51ecfa19491f7c7a8712\n",
      "Author: sachinyadav3496 <sachinyadav3496@gmail.com>\n",
      "Date:   Tue Jun 23 14:44:27 2020 +0530\n",
      "\n",
      "    added a file add.py to add addition feature to our project\n",
      "\n",
      "diff --git a/README.md b/README.md\n",
      "new file mode 100644\n",
      "index 0000000..db16ae0\n",
      "--- /dev/null\n",
      "+++ b/README.md\n",
      "@@ -0,0 +1,5 @@\n",
      "+# Git Repository to understand working of git\n",
      "+## This is just a Demo Repository\n",
      "+\n",
      "+- `README.md` this is documentation file of our project\n",
      "+- `add.py` this is a simple addition program in python version 3 \n",
      "\\ No newline at end of file\n",
      "diff --git a/add.py b/add.py\n",
      "new file mode 100644\n",
      "index 0000000..5d8d6cf\n",
      "--- /dev/null\n",
      "+++ b/add.py\n",
      "@@ -0,0 +1,7 @@\n",
      "+\"\"\"add.py simple addition program\"\"\"\n",
      "+\n",
      "+x = int(input(\"Enter x: \"))\n",
      "+\n",
      "+y = int(input(\"Enter y: \"))\n",
      "+\n",
      "+print(f\"{x} + {y} =  {x+y}.\")\n",
      "\\ No newline at end of file\n"
     ]
    }
   ],
   "source": [
    "!git show v.1.0"
   ]
  },
  {
   "cell_type": "code",
   "execution_count": 11,
   "metadata": {},
   "outputs": [
    {
     "name": "stdout",
     "output_type": "stream",
     "text": [
      "commit 9b54365e80c9ce9c5a1c51ecfa19491f7c7a8712\n",
      "Author: sachinyadav3496 <sachinyadav3496@gmail.com>\n",
      "Date:   Tue Jun 23 14:44:27 2020 +0530\n",
      "\n",
      "    added a file add.py to add addition feature to our project\n"
     ]
    }
   ],
   "source": [
    "!git log"
   ]
  },
  {
   "cell_type": "code",
   "execution_count": 12,
   "metadata": {},
   "outputs": [
    {
     "name": "stdout",
     "output_type": "stream",
     "text": [
      "Sachin Yadav\n"
     ]
    }
   ],
   "source": [
    "!git config user.name"
   ]
  },
  {
   "cell_type": "code",
   "execution_count": 13,
   "metadata": {},
   "outputs": [
    {
     "name": "stdout",
     "output_type": "stream",
     "text": [
      "sachinyadav3496@gmail.com\n"
     ]
    }
   ],
   "source": [
    "!git config user.email"
   ]
  },
  {
   "cell_type": "code",
   "execution_count": 14,
   "metadata": {},
   "outputs": [],
   "source": [
    "!notepad sub.py"
   ]
  },
  {
   "cell_type": "code",
   "execution_count": 15,
   "metadata": {},
   "outputs": [
    {
     "name": "stdout",
     "output_type": "stream",
     "text": [
      "x = int(input(\"x: \"))\n",
      "y = int(input(\"y: \"))\n",
      "print(f\"{x}-{y}={x-y}\")\n"
     ]
    }
   ],
   "source": [
    "!cat sub.py"
   ]
  },
  {
   "cell_type": "code",
   "execution_count": 16,
   "metadata": {},
   "outputs": [
    {
     "name": "stdout",
     "output_type": "stream",
     "text": [
      "On branch master\n",
      "Untracked files:\n",
      "  (use \"git add <file>...\" to include in what will be committed)\n",
      "\tsub.py\n",
      "\n",
      "nothing added to commit but untracked files present (use \"git add\" to track)\n"
     ]
    }
   ],
   "source": [
    "!git status"
   ]
  },
  {
   "cell_type": "code",
   "execution_count": 17,
   "metadata": {},
   "outputs": [],
   "source": [
    "!git add . "
   ]
  },
  {
   "cell_type": "code",
   "execution_count": 18,
   "metadata": {},
   "outputs": [
    {
     "name": "stdout",
     "output_type": "stream",
     "text": [
      "On branch master\n",
      "Changes to be committed:\n",
      "  (use \"git restore --staged <file>...\" to unstage)\n",
      "\tnew file:   sub.py\n",
      "\n"
     ]
    }
   ],
   "source": [
    "!git status"
   ]
  },
  {
   "cell_type": "code",
   "execution_count": 19,
   "metadata": {},
   "outputs": [
    {
     "name": "stdout",
     "output_type": "stream",
     "text": [
      "[master 2e8ff7b] added sub.py file to add subtract feature to our project\n",
      " 1 file changed, 3 insertions(+)\n",
      " create mode 100644 sub.py\n"
     ]
    }
   ],
   "source": [
    "!git commit -m \"added sub.py file to add subtract feature to our project\""
   ]
  },
  {
   "cell_type": "markdown",
   "metadata": {},
   "source": [
    "cmd \n",
    "\n",
    "`git tag -a \"V.1.1\"`"
   ]
  },
  {
   "cell_type": "code",
   "execution_count": 20,
   "metadata": {},
   "outputs": [
    {
     "name": "stdout",
     "output_type": "stream",
     "text": [
      "On branch master\n",
      "nothing to commit, working tree clean\n"
     ]
    }
   ],
   "source": [
    "!git status"
   ]
  },
  {
   "cell_type": "code",
   "execution_count": 21,
   "metadata": {},
   "outputs": [
    {
     "name": "stdout",
     "output_type": "stream",
     "text": [
      "v.1.0\n",
      "v1.1\n"
     ]
    }
   ],
   "source": [
    "!git tag"
   ]
  },
  {
   "cell_type": "code",
   "execution_count": 22,
   "metadata": {},
   "outputs": [
    {
     "name": "stdout",
     "output_type": "stream",
     "text": [
      "commit 2e8ff7b05dbe4c42b1b35245588b341577206e12\n",
      "Author: Sachin Yadav <sachinyadav3496@gmail.com>\n",
      "Date:   Tue Jun 23 15:00:29 2020 +0530\n",
      "\n",
      "    added sub.py file to add subtract feature to our project\n",
      "\n",
      "commit 9b54365e80c9ce9c5a1c51ecfa19491f7c7a8712\n",
      "Author: sachinyadav3496 <sachinyadav3496@gmail.com>\n",
      "Date:   Tue Jun 23 14:44:27 2020 +0530\n",
      "\n",
      "    added a file add.py to add addition feature to our project\n"
     ]
    }
   ],
   "source": [
    "!git log"
   ]
  },
  {
   "cell_type": "code",
   "execution_count": 23,
   "metadata": {},
   "outputs": [
    {
     "name": "stdout",
     "output_type": "stream",
     "text": [
      "2e8ff7b added sub.py file to add subtract feature to our project\n",
      "9b54365 added a file add.py to add addition feature to our project\n"
     ]
    }
   ],
   "source": [
    "!git log --oneline"
   ]
  },
  {
   "cell_type": "code",
   "execution_count": 24,
   "metadata": {},
   "outputs": [
    {
     "name": "stdout",
     "output_type": "stream",
     "text": [
      "Deleted tag 'v1.1' (was 4520d22)\n"
     ]
    }
   ],
   "source": [
    "!git tag -d \"v1.1\" "
   ]
  },
  {
   "cell_type": "markdown",
   "metadata": {},
   "source": [
    "`git tag -a \"v.1.1\" 2e8ff7b`"
   ]
  },
  {
   "cell_type": "code",
   "execution_count": 25,
   "metadata": {},
   "outputs": [
    {
     "name": "stdout",
     "output_type": "stream",
     "text": [
      "v.1.0\n",
      "v.1.1\n"
     ]
    }
   ],
   "source": [
    "!git tag"
   ]
  },
  {
   "cell_type": "markdown",
   "metadata": {},
   "source": [
    "`git show \"v.1.1\"`"
   ]
  },
  {
   "cell_type": "code",
   "execution_count": 27,
   "metadata": {},
   "outputs": [
    {
     "name": "stdout",
     "output_type": "stream",
     "text": [
      "tag v.1.1\n",
      "Tagger: Sachin Yadav <sachinyadav3496@gmail.com>\n",
      "Date:   Tue Jun 23 15:05:10 2020 +0530\n",
      "\n",
      "   v.1.1 add sub.py file to add subtract feature in main project\n",
      "\n",
      "commit 2e8ff7b05dbe4c42b1b35245588b341577206e12\n",
      "Author: Sachin Yadav <sachinyadav3496@gmail.com>\n",
      "Date:   Tue Jun 23 15:00:29 2020 +0530\n",
      "\n",
      "    added sub.py file to add subtract feature to our project\n",
      "\n",
      "diff --git a/sub.py b/sub.py\n",
      "new file mode 100644\n",
      "index 0000000..cdc6f24\n",
      "--- /dev/null\n",
      "+++ b/sub.py\n",
      "@@ -0,0 +1,3 @@\n",
      "+x = int(input(\"x: \"))\n",
      "+y = int(input(\"y: \"))\n",
      "+print(f\"{x}-{y}={x-y}\")\n",
      "\\ No newline at end of file\n"
     ]
    }
   ],
   "source": [
    "!git show \"v.1.1\""
   ]
  },
  {
   "cell_type": "code",
   "execution_count": 28,
   "metadata": {},
   "outputs": [
    {
     "name": "stdout",
     "output_type": "stream",
     "text": [
      "On branch master\n",
      "nothing to commit, working tree clean\n"
     ]
    }
   ],
   "source": [
    "!git status"
   ]
  },
  {
   "cell_type": "markdown",
   "metadata": {},
   "source": [
    "### Steps to follow\n",
    "\n",
    "create a git repository online on `GITHUB` and copy url of that repository than follow steps"
   ]
  },
  {
   "cell_type": "code",
   "execution_count": 29,
   "metadata": {},
   "outputs": [],
   "source": [
    "!git remote add origin https://github.com/sachinyadav3496/remote_git_intro.git"
   ]
  },
  {
   "cell_type": "code",
   "execution_count": 30,
   "metadata": {},
   "outputs": [
    {
     "name": "stdout",
     "output_type": "stream",
     "text": [
      "[core]\n",
      "\trepositoryformatversion = 0\n",
      "\tfilemode = false\n",
      "\tbare = false\n",
      "\tlogallrefupdates = true\n",
      "\tsymlinks = false\n",
      "\tignorecase = true\n",
      "[user]\n",
      "\tname = Sachin Yadav\n",
      "[remote \"origin\"]\n",
      "\turl = https://github.com/sachinyadav3496/remote_git_intro.git\n",
      "\tfetch = +refs/heads/*:refs/remotes/origin/*\n"
     ]
    }
   ],
   "source": [
    "!cat .git/config"
   ]
  },
  {
   "cell_type": "markdown",
   "metadata": {},
   "source": [
    "#### `git push` is used to update `remote repository` with `local repository` changes"
   ]
  },
  {
   "cell_type": "code",
   "execution_count": 31,
   "metadata": {},
   "outputs": [
    {
     "name": "stderr",
     "output_type": "stream",
     "text": [
      "To https://github.com/sachinyadav3496/remote_git_intro.git\n",
      " * [new branch]      master -> master\n"
     ]
    }
   ],
   "source": [
    "!git push origin master"
   ]
  },
  {
   "cell_type": "code",
   "execution_count": 32,
   "metadata": {},
   "outputs": [],
   "source": [
    "!notepad README.md"
   ]
  },
  {
   "cell_type": "markdown",
   "metadata": {},
   "source": [
    "change `README.md` file on your `GITHUB account` and than commit it in master branch"
   ]
  },
  {
   "cell_type": "code",
   "execution_count": 33,
   "metadata": {},
   "outputs": [
    {
     "name": "stdout",
     "output_type": "stream",
     "text": [
      "2e8ff7b added sub.py file to add subtract feature to our project\n",
      "9b54365 added a file add.py to add addition feature to our project\n"
     ]
    }
   ],
   "source": [
    "!git log --oneline"
   ]
  },
  {
   "cell_type": "code",
   "execution_count": 34,
   "metadata": {},
   "outputs": [
    {
     "name": "stdout",
     "output_type": "stream",
     "text": [
      "# Git Repository to understand working of git\n",
      "## This is just a Demo Repository\n",
      "\n",
      "- `README.md` this is documentation file of our project\n",
      "- `add.py` this is a simple addition program in python version 3 \n"
     ]
    }
   ],
   "source": [
    "!cat README.md"
   ]
  },
  {
   "cell_type": "markdown",
   "metadata": {},
   "source": [
    "#### To Fetch Changes from `remote repository` to `local repository` we use `pull command`"
   ]
  },
  {
   "cell_type": "code",
   "execution_count": 35,
   "metadata": {},
   "outputs": [
    {
     "name": "stdout",
     "output_type": "stream",
     "text": [
      "Updating 2e8ff7b..e51bc01\n",
      "Fast-forward\n",
      " README.md | 3 ++-\n",
      " 1 file changed, 2 insertions(+), 1 deletion(-)\n"
     ]
    },
    {
     "name": "stderr",
     "output_type": "stream",
     "text": [
      "From https://github.com/sachinyadav3496/remote_git_intro\n",
      " * branch            master     -> FETCH_HEAD\n",
      "   2e8ff7b..e51bc01  master     -> origin/master\n"
     ]
    }
   ],
   "source": [
    "!git pull origin master"
   ]
  },
  {
   "cell_type": "code",
   "execution_count": 36,
   "metadata": {},
   "outputs": [
    {
     "name": "stdout",
     "output_type": "stream",
     "text": [
      "e51bc01 updated README.md file\n",
      "2e8ff7b added sub.py file to add subtract feature to our project\n",
      "9b54365 added a file add.py to add addition feature to our project\n"
     ]
    }
   ],
   "source": [
    "!git log --oneline"
   ]
  },
  {
   "cell_type": "markdown",
   "metadata": {},
   "source": [
    "#### TASK \n",
    "\n",
    "    create a local repository add some code and a README file \n",
    "    \n",
    "    create GITHUB remote repository and add it to your local repository\n",
    "    \n",
    "    share your remote repository link in group so that i can check you have done your work\n",
    "    \n",
    "    create a good article on github and post it on your socical plateforms (like facebook, linkedin ... ) due on monday\n",
    "    \n",
    "    like this https://github.com/sachinyadav3496/remote_git_intro.git\n",
    "    \n",
    "    "
   ]
  },
  {
   "cell_type": "markdown",
   "metadata": {},
   "source": [
    "sachinyadav3496"
   ]
  },
  {
   "cell_type": "code",
   "execution_count": 1,
   "metadata": {},
   "outputs": [],
   "source": [
    "import os"
   ]
  },
  {
   "cell_type": "code",
   "execution_count": 2,
   "metadata": {},
   "outputs": [
    {
     "data": {
      "text/plain": [
       "'C:\\\\Users\\\\sachin\\\\Desktop\\\\InternBatch\\\\datascience'"
      ]
     },
     "execution_count": 2,
     "metadata": {},
     "output_type": "execute_result"
    }
   ],
   "source": [
    "os.getcwd()"
   ]
  },
  {
   "cell_type": "code",
   "execution_count": 4,
   "metadata": {},
   "outputs": [],
   "source": [
    "os.chdir('C:\\\\users\\\\sachin\\\\desktop\\\\git_intro')"
   ]
  },
  {
   "cell_type": "code",
   "execution_count": 5,
   "metadata": {},
   "outputs": [
    {
     "data": {
      "text/plain": [
       "'C:\\\\users\\\\sachin\\\\desktop\\\\git_intro'"
      ]
     },
     "execution_count": 5,
     "metadata": {},
     "output_type": "execute_result"
    }
   ],
   "source": [
    "os.getcwd()"
   ]
  },
  {
   "cell_type": "code",
   "execution_count": 6,
   "metadata": {},
   "outputs": [
    {
     "name": "stdout",
     "output_type": "stream",
     "text": [
      "On branch master\n",
      "nothing to commit, working tree clean\n"
     ]
    }
   ],
   "source": [
    "!git status"
   ]
  },
  {
   "cell_type": "code",
   "execution_count": 7,
   "metadata": {},
   "outputs": [
    {
     "name": "stdout",
     "output_type": "stream",
     "text": [
      "e51bc01 updated README.md file\n",
      "2e8ff7b added sub.py file to add subtract feature to our project\n",
      "9b54365 added a file add.py to add addition feature to our project\n"
     ]
    }
   ],
   "source": [
    "!git log --oneline"
   ]
  },
  {
   "cell_type": "code",
   "execution_count": 8,
   "metadata": {},
   "outputs": [
    {
     "name": "stdout",
     "output_type": "stream",
     "text": [
      "README.md\n",
      "add.py\n",
      "sub.py\n"
     ]
    }
   ],
   "source": [
    "!ls"
   ]
  },
  {
   "cell_type": "code",
   "execution_count": 18,
   "metadata": {},
   "outputs": [
    {
     "name": "stdout",
     "output_type": "stream",
     "text": [
      "Overwriting tkinter_one.py\n"
     ]
    }
   ],
   "source": [
    "%%writefile tkinter_one.py\n",
    "import tkinter as tk\n",
    "\n",
    "root = tk.Tk()\n",
    "\n",
    "label = tk.Label(root, text=\"Hello World\")\n",
    "label.config(fg='#333333', bg='#eeeeee',\n",
    "             font=(\"monospace\", 30, \"bold\"))\n",
    "label.config(height=5, width=10)\n",
    "label.pack(fill=tk.BOTH, expand=tk.YES)\n",
    "\n",
    "root.mainloop()"
   ]
  },
  {
   "cell_type": "code",
   "execution_count": 10,
   "metadata": {},
   "outputs": [
    {
     "name": "stdout",
     "output_type": "stream",
     "text": [
      "On branch master\n",
      "Untracked files:\n",
      "  (use \"git add <file>...\" to include in what will be committed)\n",
      "\ttkinter_one.py\n",
      "\n",
      "nothing added to commit but untracked files present (use \"git add\" to track)\n"
     ]
    }
   ],
   "source": [
    "!git status"
   ]
  },
  {
   "cell_type": "code",
   "execution_count": 11,
   "metadata": {},
   "outputs": [],
   "source": [
    "!git add ."
   ]
  },
  {
   "cell_type": "code",
   "execution_count": 19,
   "metadata": {},
   "outputs": [
    {
     "name": "stdout",
     "output_type": "stream",
     "text": [
      "On branch master\n",
      "Changes to be committed:\n",
      "  (use \"git restore --staged <file>...\" to unstage)\n",
      "\tnew file:   tkinter_one.py\n",
      "\n",
      "Changes not staged for commit:\n",
      "  (use \"git add <file>...\" to update what will be committed)\n",
      "  (use \"git restore <file>...\" to discard changes in working directory)\n",
      "\tmodified:   tkinter_one.py\n",
      "\n"
     ]
    }
   ],
   "source": [
    "!git status"
   ]
  },
  {
   "cell_type": "code",
   "execution_count": 20,
   "metadata": {},
   "outputs": [],
   "source": [
    "!python tkinter_one.py"
   ]
  },
  {
   "cell_type": "code",
   "execution_count": 21,
   "metadata": {},
   "outputs": [],
   "source": [
    "!git add . "
   ]
  },
  {
   "cell_type": "code",
   "execution_count": 22,
   "metadata": {},
   "outputs": [
    {
     "name": "stdout",
     "output_type": "stream",
     "text": [
      "[master 1cb8c6a] added a hello world file for GUI development\n",
      " 1 file changed, 11 insertions(+)\n",
      " create mode 100644 tkinter_one.py\n"
     ]
    }
   ],
   "source": [
    "!git commit -m \"added a hello world file for GUI development\""
   ]
  },
  {
   "cell_type": "code",
   "execution_count": 23,
   "metadata": {},
   "outputs": [
    {
     "name": "stdout",
     "output_type": "stream",
     "text": [
      "On branch master\n",
      "nothing to commit, working tree clean\n"
     ]
    }
   ],
   "source": [
    "!git status"
   ]
  },
  {
   "cell_type": "code",
   "execution_count": 24,
   "metadata": {},
   "outputs": [
    {
     "name": "stdout",
     "output_type": "stream",
     "text": [
      "Merge made by the 'recursive' strategy.\n",
      " app.py               | 16 ++++++++++++++++\n",
      " templates/data.html  | 14 ++++++++++++++\n",
      " templates/index.html | 13 +++++++++++++\n",
      " 3 files changed, 43 insertions(+)\n",
      " create mode 100755 app.py\n",
      " create mode 100644 templates/data.html\n",
      " create mode 100644 templates/index.html\n"
     ]
    },
    {
     "name": "stderr",
     "output_type": "stream",
     "text": [
      "From https://github.com/sachinyadav3496/remote_git_intro\n",
      " * branch            master     -> FETCH_HEAD\n",
      "   e51bc01..a2782e6  master     -> origin/master\n"
     ]
    }
   ],
   "source": [
    "!git pull origin master"
   ]
  },
  {
   "cell_type": "code",
   "execution_count": 25,
   "metadata": {},
   "outputs": [
    {
     "name": "stdout",
     "output_type": "stream",
     "text": [
      "On branch master\n",
      "nothing to commit, working tree clean\n"
     ]
    }
   ],
   "source": [
    "!git status"
   ]
  },
  {
   "cell_type": "code",
   "execution_count": 26,
   "metadata": {},
   "outputs": [
    {
     "name": "stderr",
     "output_type": "stream",
     "text": [
      "To https://github.com/sachinyadav3496/remote_git_intro.git\n",
      "   a2782e6..7649667  master -> master\n"
     ]
    }
   ],
   "source": [
    "!git push origin master"
   ]
  },
  {
   "cell_type": "code",
   "execution_count": 27,
   "metadata": {},
   "outputs": [],
   "source": [
    "!python tkinter_one.py"
   ]
  },
  {
   "cell_type": "code",
   "execution_count": 28,
   "metadata": {},
   "outputs": [],
   "source": [
    "!notepad tkinter_one.py\n"
   ]
  },
  {
   "cell_type": "code",
   "execution_count": 29,
   "metadata": {},
   "outputs": [],
   "source": [
    "!python tkinter_one.py\n"
   ]
  },
  {
   "cell_type": "code",
   "execution_count": 30,
   "metadata": {},
   "outputs": [
    {
     "name": "stdout",
     "output_type": "stream",
     "text": [
      "On branch master\n",
      "Changes not staged for commit:\n",
      "  (use \"git add <file>...\" to update what will be committed)\n",
      "  (use \"git restore <file>...\" to discard changes in working directory)\n",
      "\tmodified:   tkinter_one.py\n",
      "\n",
      "no changes added to commit (use \"git add\" and/or \"git commit -a\")\n"
     ]
    }
   ],
   "source": [
    "!git status"
   ]
  },
  {
   "cell_type": "code",
   "execution_count": 31,
   "metadata": {},
   "outputs": [],
   "source": [
    "!git add . "
   ]
  },
  {
   "cell_type": "code",
   "execution_count": 32,
   "metadata": {},
   "outputs": [
    {
     "name": "stdout",
     "output_type": "stream",
     "text": [
      "[master 3fc7d1e] a little change in tkinter\n",
      " 1 file changed, 1 insertion(+)\n"
     ]
    }
   ],
   "source": [
    "!git commit -m \"a little change in tkinter\""
   ]
  },
  {
   "cell_type": "code",
   "execution_count": 33,
   "metadata": {},
   "outputs": [
    {
     "name": "stdout",
     "output_type": "stream",
     "text": [
      "Auto-merging tkinter_one.py\n",
      "CONFLICT (content): Merge conflict in tkinter_one.py\n",
      "Automatic merge failed; fix conflicts and then commit the result.\n"
     ]
    },
    {
     "name": "stderr",
     "output_type": "stream",
     "text": [
      "From https://github.com/sachinyadav3496/remote_git_intro\n",
      " * branch            master     -> FETCH_HEAD\n",
      "   7649667..a5d91b7  master     -> origin/master\n"
     ]
    }
   ],
   "source": [
    "!git pull origin master"
   ]
  },
  {
   "cell_type": "code",
   "execution_count": 38,
   "metadata": {},
   "outputs": [],
   "source": [
    "!notepad tkinter_one.py\n"
   ]
  },
  {
   "cell_type": "code",
   "execution_count": 39,
   "metadata": {},
   "outputs": [],
   "source": [
    "!python tkinter_one.py"
   ]
  },
  {
   "cell_type": "code",
   "execution_count": 40,
   "metadata": {},
   "outputs": [
    {
     "name": "stdout",
     "output_type": "stream",
     "text": [
      "On branch master\n",
      "You have unmerged paths.\n",
      "  (fix conflicts and run \"git commit\")\n",
      "  (use \"git merge --abort\" to abort the merge)\n",
      "\n",
      "Unmerged paths:\n",
      "  (use \"git add <file>...\" to mark resolution)\n",
      "\tboth modified:   tkinter_one.py\n",
      "\n",
      "no changes added to commit (use \"git add\" and/or \"git commit -a\")\n"
     ]
    }
   ],
   "source": [
    "!git status"
   ]
  },
  {
   "cell_type": "code",
   "execution_count": 41,
   "metadata": {},
   "outputs": [],
   "source": [
    "!git add . "
   ]
  },
  {
   "cell_type": "code",
   "execution_count": 42,
   "metadata": {},
   "outputs": [
    {
     "name": "stdout",
     "output_type": "stream",
     "text": [
      "On branch master\n",
      "All conflicts fixed but you are still merging.\n",
      "  (use \"git commit\" to conclude merge)\n",
      "\n",
      "Changes to be committed:\n",
      "\tmodified:   tkinter_one.py\n",
      "\n"
     ]
    }
   ],
   "source": [
    "!git status "
   ]
  },
  {
   "cell_type": "code",
   "execution_count": 43,
   "metadata": {},
   "outputs": [
    {
     "name": "stdout",
     "output_type": "stream",
     "text": [
      "[master 31a36ad] merged together @sachin3496 your code with my code\n"
     ]
    }
   ],
   "source": [
    "!git commit -m \"merged together @sachin3496 your code with my code \""
   ]
  },
  {
   "cell_type": "code",
   "execution_count": 45,
   "metadata": {},
   "outputs": [
    {
     "name": "stderr",
     "output_type": "stream",
     "text": [
      "To https://github.com/sachinyadav3496/remote_git_intro.git\n",
      "   a5d91b7..31a36ad  master -> master\n"
     ]
    }
   ],
   "source": [
    "!git push origin master"
   ]
  },
  {
   "cell_type": "code",
   "execution_count": 46,
   "metadata": {},
   "outputs": [
    {
     "data": {
      "text/plain": [
       "'C:\\\\users\\\\sachin\\\\desktop\\\\git_intro'"
      ]
     },
     "execution_count": 46,
     "metadata": {},
     "output_type": "execute_result"
    }
   ],
   "source": [
    "os.getcwd()"
   ]
  },
  {
   "cell_type": "code",
   "execution_count": 47,
   "metadata": {},
   "outputs": [],
   "source": [
    "os.chdir('..')"
   ]
  },
  {
   "cell_type": "code",
   "execution_count": 48,
   "metadata": {},
   "outputs": [
    {
     "data": {
      "text/plain": [
       "'C:\\\\users\\\\sachin\\\\desktop'"
      ]
     },
     "execution_count": 48,
     "metadata": {},
     "output_type": "execute_result"
    }
   ],
   "source": [
    "os.getcwd()"
   ]
  },
  {
   "cell_type": "code",
   "execution_count": 49,
   "metadata": {},
   "outputs": [],
   "source": [
    "!mkdir git_demo"
   ]
  },
  {
   "cell_type": "code",
   "execution_count": 50,
   "metadata": {},
   "outputs": [],
   "source": [
    "os.chdir('git_demo')"
   ]
  },
  {
   "cell_type": "code",
   "execution_count": 51,
   "metadata": {},
   "outputs": [
    {
     "name": "stdout",
     "output_type": "stream",
     "text": [
      "/c/users/sachin/desktop/git_demo\n"
     ]
    }
   ],
   "source": [
    "!pwd"
   ]
  },
  {
   "cell_type": "code",
   "execution_count": 52,
   "metadata": {},
   "outputs": [
    {
     "name": "stdout",
     "output_type": "stream",
     "text": [
      "Initialized empty Git repository in C:/Users/sachin/Desktop/git_demo/.git/\n"
     ]
    }
   ],
   "source": [
    "!git init . "
   ]
  },
  {
   "cell_type": "code",
   "execution_count": 53,
   "metadata": {},
   "outputs": [],
   "source": [
    "!ls"
   ]
  },
  {
   "cell_type": "code",
   "execution_count": 54,
   "metadata": {},
   "outputs": [],
   "source": [
    "!git remote add origin https://github.com/sachinyadav3496/git_demo.git"
   ]
  },
  {
   "cell_type": "code",
   "execution_count": 55,
   "metadata": {},
   "outputs": [
    {
     "name": "stdout",
     "output_type": "stream",
     "text": [
      "origin\n"
     ]
    }
   ],
   "source": [
    "!git remote"
   ]
  },
  {
   "cell_type": "code",
   "execution_count": 56,
   "metadata": {},
   "outputs": [
    {
     "name": "stderr",
     "output_type": "stream",
     "text": [
      "fatal: your current branch 'master' does not have any commits yet\n"
     ]
    }
   ],
   "source": [
    "!git log "
   ]
  },
  {
   "cell_type": "code",
   "execution_count": 57,
   "metadata": {},
   "outputs": [
    {
     "name": "stdout",
     "output_type": "stream",
     "text": [
      "Writing README.md\n"
     ]
    }
   ],
   "source": [
    "%%writefile README.md\n",
    "\n",
    "# Understanding Branches\n",
    "\n",
    "## git is very popular just because it's branching feature"
   ]
  },
  {
   "cell_type": "code",
   "execution_count": 58,
   "metadata": {},
   "outputs": [
    {
     "name": "stdout",
     "output_type": "stream",
     "text": [
      "On branch master\n",
      "\n",
      "No commits yet\n",
      "\n",
      "Untracked files:\n",
      "  (use \"git add <file>...\" to include in what will be committed)\n",
      "\tREADME.md\n",
      "\n",
      "nothing added to commit but untracked files present (use \"git add\" to track)\n"
     ]
    }
   ],
   "source": [
    "!git status"
   ]
  },
  {
   "cell_type": "code",
   "execution_count": 59,
   "metadata": {},
   "outputs": [],
   "source": [
    "!git add . "
   ]
  },
  {
   "cell_type": "code",
   "execution_count": 60,
   "metadata": {},
   "outputs": [
    {
     "name": "stdout",
     "output_type": "stream",
     "text": [
      "On branch master\n",
      "\n",
      "No commits yet\n",
      "\n",
      "Changes to be committed:\n",
      "  (use \"git rm --cached <file>...\" to unstage)\n",
      "\tnew file:   README.md\n",
      "\n"
     ]
    }
   ],
   "source": [
    "!git status"
   ]
  },
  {
   "cell_type": "code",
   "execution_count": 61,
   "metadata": {},
   "outputs": [
    {
     "name": "stdout",
     "output_type": "stream",
     "text": [
      "[master (root-commit) ecaf9fc] added initial REAME.md file\n",
      " 1 file changed, 4 insertions(+)\n",
      " create mode 100644 README.md\n"
     ]
    }
   ],
   "source": [
    "!git commit -m \"added initial REAME.md file\""
   ]
  },
  {
   "cell_type": "raw",
   "metadata": {},
   "source": [
    "!git tag -a \"v.0.0\" ecaf9fc"
   ]
  },
  {
   "cell_type": "code",
   "execution_count": 1,
   "metadata": {},
   "outputs": [],
   "source": [
    "import os\n",
    "os.chdir('C:\\\\users\\\\sachin\\\\desktop\\\\git_demo')"
   ]
  },
  {
   "cell_type": "code",
   "execution_count": 2,
   "metadata": {},
   "outputs": [
    {
     "name": "stdout",
     "output_type": "stream",
     "text": [
      "v.0.0\n"
     ]
    }
   ],
   "source": [
    "!git tag"
   ]
  },
  {
   "cell_type": "code",
   "execution_count": 3,
   "metadata": {},
   "outputs": [
    {
     "name": "stdout",
     "output_type": "stream",
     "text": [
      "tag v.0.0\n",
      "Tagger: sachinyadav3496 <sachinyadav3496@gmail.com>\n",
      "Date:   Wed Jun 24 14:45:39 2020 +0530\n",
      "\n",
      "   v.0.0 added README.md for inital documentation\n",
      "\n",
      "commit ecaf9fcdd5650e08a0574379796d08a3726cddb3\n",
      "Author: sachinyadav3496 <sachinyadav3496@gmail.com>\n",
      "Date:   Wed Jun 24 14:43:53 2020 +0530\n",
      "\n",
      "    added initial REAME.md file\n",
      "\n",
      "diff --git a/README.md b/README.md\n",
      "new file mode 100644\n",
      "index 0000000..32784ed\n",
      "--- /dev/null\n",
      "+++ b/README.md\n",
      "@@ -0,0 +1,4 @@\n",
      "+\n",
      "+# Understanding Branches\n",
      "+\n",
      "+## git is very popular just because it's branching feature\n"
     ]
    }
   ],
   "source": [
    "!git show v.0.0"
   ]
  },
  {
   "cell_type": "code",
   "execution_count": 4,
   "metadata": {},
   "outputs": [
    {
     "name": "stdout",
     "output_type": "stream",
     "text": [
      "* master\n"
     ]
    }
   ],
   "source": [
    "!git branch"
   ]
  },
  {
   "cell_type": "code",
   "execution_count": 5,
   "metadata": {},
   "outputs": [
    {
     "name": "stdout",
     "output_type": "stream",
     "text": [
      "README.md\n"
     ]
    }
   ],
   "source": [
    "!ls"
   ]
  },
  {
   "cell_type": "code",
   "execution_count": 6,
   "metadata": {},
   "outputs": [
    {
     "name": "stderr",
     "output_type": "stream",
     "text": [
      "To https://github.com/sachinyadav3496/git_demo.git\n",
      " * [new branch]      master -> master\n"
     ]
    }
   ],
   "source": [
    "!git push origin master"
   ]
  },
  {
   "cell_type": "code",
   "execution_count": 7,
   "metadata": {},
   "outputs": [
    {
     "name": "stderr",
     "output_type": "stream",
     "text": [
      "To https://github.com/sachinyadav3496/git_demo.git\n",
      " * [new tag]         v.0.0 -> v.0.0\n"
     ]
    }
   ],
   "source": [
    "!git push origin v.0.0"
   ]
  },
  {
   "cell_type": "code",
   "execution_count": 8,
   "metadata": {},
   "outputs": [
    {
     "name": "stdout",
     "output_type": "stream",
     "text": [
      "* ecaf9fc (HEAD -> master, tag: v.0.0, origin/master) added initial REAME.md file\n"
     ]
    }
   ],
   "source": [
    "!git log --decorate --oneline --graph --all"
   ]
  },
  {
   "cell_type": "code",
   "execution_count": 9,
   "metadata": {},
   "outputs": [
    {
     "name": "stdout",
     "output_type": "stream",
     "text": [
      "Writing one.py\n"
     ]
    }
   ],
   "source": [
    "%%writefile one.py\n",
    "print(\"Hello World Welcome to Git Branch\")"
   ]
  },
  {
   "cell_type": "code",
   "execution_count": 10,
   "metadata": {},
   "outputs": [],
   "source": [
    "!git add . "
   ]
  },
  {
   "cell_type": "code",
   "execution_count": 11,
   "metadata": {},
   "outputs": [
    {
     "name": "stdout",
     "output_type": "stream",
     "text": [
      "On branch master\n",
      "Changes to be committed:\n",
      "  (use \"git restore --staged <file>...\" to unstage)\n",
      "\tnew file:   one.py\n",
      "\n"
     ]
    }
   ],
   "source": [
    "!git status"
   ]
  },
  {
   "cell_type": "code",
   "execution_count": 12,
   "metadata": {},
   "outputs": [
    {
     "name": "stdout",
     "output_type": "stream",
     "text": [
      "[master 8679bcf] one.py intro file\n",
      " 1 file changed, 1 insertion(+)\n",
      " create mode 100644 one.py\n"
     ]
    }
   ],
   "source": [
    "!git commit -m \"one.py intro file\""
   ]
  },
  {
   "cell_type": "code",
   "execution_count": 13,
   "metadata": {},
   "outputs": [],
   "source": [
    "!git tag -a \"v.0.1\" -m \"added one.py file\""
   ]
  },
  {
   "cell_type": "code",
   "execution_count": 14,
   "metadata": {},
   "outputs": [
    {
     "name": "stdout",
     "output_type": "stream",
     "text": [
      "* 8679bcf (HEAD -> master, tag: v.0.1) one.py intro file\n",
      "* ecaf9fc (tag: v.0.0, origin/master) added initial REAME.md file\n"
     ]
    }
   ],
   "source": [
    "!git log --oneline --graph --all --decorate"
   ]
  },
  {
   "cell_type": "code",
   "execution_count": 15,
   "metadata": {},
   "outputs": [
    {
     "name": "stdout",
     "output_type": "stream",
     "text": [
      "Writing two.py\n"
     ]
    }
   ],
   "source": [
    "%%writefile two.py\n",
    "\n",
    "print(\"just see one branch at a time\")"
   ]
  },
  {
   "cell_type": "code",
   "execution_count": 16,
   "metadata": {},
   "outputs": [],
   "source": [
    "!git add . "
   ]
  },
  {
   "cell_type": "code",
   "execution_count": 17,
   "metadata": {},
   "outputs": [
    {
     "name": "stdout",
     "output_type": "stream",
     "text": [
      "[master dbf91c2] added two.py\n",
      " 1 file changed, 2 insertions(+)\n",
      " create mode 100644 two.py\n"
     ]
    }
   ],
   "source": [
    "!git commit -m \"added two.py\""
   ]
  },
  {
   "cell_type": "code",
   "execution_count": 18,
   "metadata": {},
   "outputs": [],
   "source": [
    "!git tag -a \"v.0.2\" -m \"added two.py file\""
   ]
  },
  {
   "cell_type": "code",
   "execution_count": 19,
   "metadata": {},
   "outputs": [
    {
     "name": "stdout",
     "output_type": "stream",
     "text": [
      "* dbf91c2 (HEAD -> master, tag: v.0.2) added two.py\n",
      "* 8679bcf (tag: v.0.1) one.py intro file\n",
      "* ecaf9fc (tag: v.0.0, origin/master) added initial REAME.md file\n"
     ]
    }
   ],
   "source": [
    "!git log --oneline --decorate --all --graph"
   ]
  },
  {
   "cell_type": "code",
   "execution_count": 20,
   "metadata": {},
   "outputs": [
    {
     "name": "stderr",
     "output_type": "stream",
     "text": [
      "To https://github.com/sachinyadav3496/git_demo.git\n",
      "   ecaf9fc..dbf91c2  master -> master\n"
     ]
    }
   ],
   "source": [
    "!git push origin master"
   ]
  },
  {
   "cell_type": "code",
   "execution_count": 21,
   "metadata": {},
   "outputs": [
    {
     "name": "stderr",
     "output_type": "stream",
     "text": [
      "To https://github.com/sachinyadav3496/git_demo.git\n",
      " * [new tag]         v.0.1 -> v.0.1\n"
     ]
    }
   ],
   "source": [
    "!git push origin v.0.1"
   ]
  },
  {
   "cell_type": "code",
   "execution_count": 22,
   "metadata": {},
   "outputs": [
    {
     "name": "stderr",
     "output_type": "stream",
     "text": [
      "To https://github.com/sachinyadav3496/git_demo.git\n",
      " * [new tag]         v.0.2 -> v.0.2\n"
     ]
    }
   ],
   "source": [
    "!git push origin v.0.2"
   ]
  },
  {
   "cell_type": "code",
   "execution_count": 24,
   "metadata": {},
   "outputs": [
    {
     "name": "stdout",
     "output_type": "stream",
     "text": [
      "* dbf91c2 (HEAD -> master, tag: v.0.2, origin/master) added two.py\n",
      "* 8679bcf (tag: v.0.1) one.py intro file\n",
      "* ecaf9fc (tag: v.0.0) added initial REAME.md file\n"
     ]
    }
   ],
   "source": [
    "!git log --oneline --decorate --all --graph"
   ]
  },
  {
   "cell_type": "code",
   "execution_count": 25,
   "metadata": {},
   "outputs": [
    {
     "name": "stdout",
     "output_type": "stream",
     "text": [
      "Updating dbf91c2..1b4c062\n",
      "Fast-forward\n",
      " one.py | 2 ++\n",
      " 1 file changed, 2 insertions(+)\n"
     ]
    },
    {
     "name": "stderr",
     "output_type": "stream",
     "text": [
      "From https://github.com/sachinyadav3496/git_demo\n",
      " * branch            master     -> FETCH_HEAD\n",
      "   dbf91c2..1b4c062  master     -> origin/master\n"
     ]
    }
   ],
   "source": [
    "!git pull origin master"
   ]
  },
  {
   "cell_type": "code",
   "execution_count": 26,
   "metadata": {},
   "outputs": [
    {
     "name": "stdout",
     "output_type": "stream",
     "text": [
      "* 1b4c062 (HEAD -> master, origin/master) updated some lines in one.py\n",
      "* dbf91c2 (tag: v.0.2) added two.py\n",
      "* 8679bcf (tag: v.0.1) one.py intro file\n",
      "* ecaf9fc (tag: v.0.0) added initial REAME.md file\n"
     ]
    }
   ],
   "source": [
    "!git log --oneline --decorate --all --graph"
   ]
  },
  {
   "cell_type": "code",
   "execution_count": 27,
   "metadata": {},
   "outputs": [],
   "source": [
    "!git tag -a \"v.0.3\" 1b4c062 -m \"updated some content in one.py\""
   ]
  },
  {
   "cell_type": "code",
   "execution_count": 28,
   "metadata": {},
   "outputs": [
    {
     "name": "stdout",
     "output_type": "stream",
     "text": [
      "* 1b4c062 (HEAD -> master, tag: v.0.3, origin/master) updated some lines in one.py\n",
      "* dbf91c2 (tag: v.0.2) added two.py\n",
      "* 8679bcf (tag: v.0.1) one.py intro file\n",
      "* ecaf9fc (tag: v.0.0) added initial REAME.md file\n"
     ]
    }
   ],
   "source": [
    "!git log --oneline --decorate --all --graph"
   ]
  },
  {
   "cell_type": "code",
   "execution_count": 29,
   "metadata": {},
   "outputs": [
    {
     "name": "stdout",
     "output_type": "stream",
     "text": [
      "README.md\n",
      "one.py\n",
      "two.py\n"
     ]
    }
   ],
   "source": [
    "!ls"
   ]
  },
  {
   "cell_type": "code",
   "execution_count": 35,
   "metadata": {},
   "outputs": [
    {
     "name": "stderr",
     "output_type": "stream",
     "text": [
      "Note: switching to '8679bcf'.\n",
      "\n",
      "You are in 'detached HEAD' state. You can look around, make experimental\n",
      "changes and commit them, and you can discard any commits you make in this\n",
      "state without impacting any branches by switching back to a branch.\n",
      "\n",
      "If you want to create a new branch to retain commits you create, you may\n",
      "do so (now or later) by using -c with the switch command. Example:\n",
      "\n",
      "  git switch -c <new-branch-name>\n",
      "\n",
      "Or undo this operation with:\n",
      "\n",
      "  git switch -\n",
      "\n",
      "Turn off this advice by setting config variable advice.detachedHead to false\n",
      "\n",
      "HEAD is now at 8679bcf one.py intro file\n"
     ]
    }
   ],
   "source": [
    "!git checkout 8679bcf"
   ]
  },
  {
   "cell_type": "code",
   "execution_count": 37,
   "metadata": {},
   "outputs": [
    {
     "name": "stdout",
     "output_type": "stream",
     "text": [
      "* 1b4c062 (tag: v.0.3, origin/master, master) updated some lines in one.py\n",
      "* dbf91c2 (tag: v.0.2) added two.py\n",
      "* 8679bcf (HEAD, tag: v.0.1) one.py intro file\n",
      "* ecaf9fc (tag: v.0.0) added initial REAME.md file\n"
     ]
    }
   ],
   "source": [
    "!git log --oneline --decorate --all --graph"
   ]
  },
  {
   "cell_type": "code",
   "execution_count": 36,
   "metadata": {},
   "outputs": [
    {
     "name": "stdout",
     "output_type": "stream",
     "text": [
      "* (HEAD detached at 8679bcf)\n",
      "  master\n"
     ]
    }
   ],
   "source": [
    "!git branch"
   ]
  },
  {
   "cell_type": "code",
   "execution_count": 32,
   "metadata": {},
   "outputs": [
    {
     "name": "stdout",
     "output_type": "stream",
     "text": [
      "README.md\n",
      "one.py\n"
     ]
    }
   ],
   "source": [
    "!ls"
   ]
  },
  {
   "cell_type": "code",
   "execution_count": 33,
   "metadata": {},
   "outputs": [
    {
     "name": "stdout",
     "output_type": "stream",
     "text": [
      "print(\"Hello World Welcome to Git Branch\")\n"
     ]
    }
   ],
   "source": [
    "!cat one.py"
   ]
  },
  {
   "cell_type": "code",
   "execution_count": 38,
   "metadata": {},
   "outputs": [
    {
     "name": "stderr",
     "output_type": "stream",
     "text": [
      "Previous HEAD position was 8679bcf one.py intro file\n",
      "Switched to branch 'master'\n"
     ]
    }
   ],
   "source": [
    "!git checkout master"
   ]
  },
  {
   "cell_type": "code",
   "execution_count": 39,
   "metadata": {},
   "outputs": [
    {
     "name": "stdout",
     "output_type": "stream",
     "text": [
      "* 1b4c062 (HEAD -> master, tag: v.0.3, origin/master) updated some lines in one.py\n",
      "* dbf91c2 (tag: v.0.2) added two.py\n",
      "* 8679bcf (tag: v.0.1) one.py intro file\n",
      "* ecaf9fc (tag: v.0.0) added initial REAME.md file\n"
     ]
    }
   ],
   "source": [
    "!git log --oneline --decorate --all --graph"
   ]
  },
  {
   "cell_type": "code",
   "execution_count": 40,
   "metadata": {},
   "outputs": [
    {
     "name": "stdout",
     "output_type": "stream",
     "text": [
      "* master\n"
     ]
    }
   ],
   "source": [
    "!git branch"
   ]
  },
  {
   "cell_type": "code",
   "execution_count": 41,
   "metadata": {},
   "outputs": [],
   "source": [
    "!git branch test"
   ]
  },
  {
   "cell_type": "code",
   "execution_count": 42,
   "metadata": {},
   "outputs": [
    {
     "name": "stdout",
     "output_type": "stream",
     "text": [
      "* master\n",
      "  test\n"
     ]
    }
   ],
   "source": [
    "!git branch"
   ]
  },
  {
   "cell_type": "code",
   "execution_count": 43,
   "metadata": {},
   "outputs": [
    {
     "name": "stdout",
     "output_type": "stream",
     "text": [
      "* 1b4c062 (HEAD -> master, tag: v.0.3, origin/master, test) updated some lines in one.py\n",
      "* dbf91c2 (tag: v.0.2) added two.py\n",
      "* 8679bcf (tag: v.0.1) one.py intro file\n",
      "* ecaf9fc (tag: v.0.0) added initial REAME.md file\n"
     ]
    }
   ],
   "source": [
    "!git log --oneline --decorate --all --graph"
   ]
  },
  {
   "cell_type": "code",
   "execution_count": 44,
   "metadata": {},
   "outputs": [
    {
     "name": "stderr",
     "output_type": "stream",
     "text": [
      "Switched to branch 'test'\n"
     ]
    }
   ],
   "source": [
    "!git checkout test"
   ]
  },
  {
   "cell_type": "code",
   "execution_count": 45,
   "metadata": {},
   "outputs": [
    {
     "name": "stdout",
     "output_type": "stream",
     "text": [
      "  master\n",
      "* test\n"
     ]
    }
   ],
   "source": [
    "!git branch"
   ]
  },
  {
   "cell_type": "code",
   "execution_count": 46,
   "metadata": {},
   "outputs": [
    {
     "name": "stdout",
     "output_type": "stream",
     "text": [
      "README.md\n",
      "one.py\n",
      "two.py\n"
     ]
    }
   ],
   "source": [
    "!ls"
   ]
  },
  {
   "cell_type": "code",
   "execution_count": 47,
   "metadata": {},
   "outputs": [
    {
     "name": "stdout",
     "output_type": "stream",
     "text": [
      "Writing add.py\n"
     ]
    }
   ],
   "source": [
    "%%writefile add.py\n",
    "\n",
    "import sys\n",
    "\n",
    "a,b = map(int, sys.argv[1:])\n",
    "\n",
    "print(f\"a = \", a)\n",
    "print(f\"b = \", b)\n",
    "print(f\"a + b = {a+b}\")"
   ]
  },
  {
   "cell_type": "code",
   "execution_count": 48,
   "metadata": {},
   "outputs": [
    {
     "name": "stdout",
     "output_type": "stream",
     "text": [
      "a =  4\n",
      "b =  5\n",
      "a + b = 9\n"
     ]
    }
   ],
   "source": [
    "!python add.py 4 5"
   ]
  },
  {
   "cell_type": "code",
   "execution_count": 49,
   "metadata": {},
   "outputs": [],
   "source": [
    "!git add . "
   ]
  },
  {
   "cell_type": "code",
   "execution_count": 50,
   "metadata": {},
   "outputs": [
    {
     "name": "stdout",
     "output_type": "stream",
     "text": [
      "[test 44c4830] added add .py file\n",
      " 1 file changed, 8 insertions(+)\n",
      " create mode 100644 add.py\n"
     ]
    }
   ],
   "source": [
    "!git commit -m \"added add .py file\""
   ]
  },
  {
   "cell_type": "code",
   "execution_count": 51,
   "metadata": {},
   "outputs": [],
   "source": [
    "!git tag -a \"v.1.0\" -m \"\""
   ]
  },
  {
   "cell_type": "code",
   "execution_count": 52,
   "metadata": {},
   "outputs": [
    {
     "name": "stdout",
     "output_type": "stream",
     "text": [
      "* 44c4830 (HEAD -> test, tag: v.1.0) added add .py file\n",
      "* 1b4c062 (tag: v.0.3, origin/master, master) updated some lines in one.py\n",
      "* dbf91c2 (tag: v.0.2) added two.py\n",
      "* 8679bcf (tag: v.0.1) one.py intro file\n",
      "* ecaf9fc (tag: v.0.0) added initial REAME.md file\n"
     ]
    }
   ],
   "source": [
    "!git log --oneline --decorate --all --graph"
   ]
  },
  {
   "cell_type": "code",
   "execution_count": 53,
   "metadata": {},
   "outputs": [
    {
     "name": "stderr",
     "output_type": "stream",
     "text": [
      "remote: \n",
      "remote: Create a pull request for 'test' on GitHub by visiting:        \n",
      "remote:      https://github.com/sachinyadav3496/git_demo/pull/new/test        \n",
      "remote: \n",
      "To https://github.com/sachinyadav3496/git_demo.git\n",
      " * [new branch]      test -> test\n"
     ]
    }
   ],
   "source": [
    "!git push origin test"
   ]
  },
  {
   "cell_type": "code",
   "execution_count": 54,
   "metadata": {},
   "outputs": [
    {
     "name": "stdout",
     "output_type": "stream",
     "text": [
      "Writing sub.py\n"
     ]
    }
   ],
   "source": [
    "%%writefile sub.py\n",
    "import sys\n",
    "\n",
    "a,b = map(int, sys.argv[1:])\n",
    "\n",
    "print(f\"a = \", a)\n",
    "print(f\"b = \", b)\n",
    "print(f\"a - b = {a-b}\")"
   ]
  },
  {
   "cell_type": "code",
   "execution_count": 55,
   "metadata": {},
   "outputs": [],
   "source": [
    "!git add . "
   ]
  },
  {
   "cell_type": "code",
   "execution_count": 56,
   "metadata": {},
   "outputs": [
    {
     "name": "stdout",
     "output_type": "stream",
     "text": [
      "[test 0976766] sub.py file added\n",
      " 1 file changed, 7 insertions(+)\n",
      " create mode 100644 sub.py\n"
     ]
    }
   ],
   "source": [
    "!git commit -m \"sub.py file added\""
   ]
  },
  {
   "cell_type": "code",
   "execution_count": 57,
   "metadata": {},
   "outputs": [],
   "source": [
    "!git tag -a \"v.1.1\" -m \"\""
   ]
  },
  {
   "cell_type": "code",
   "execution_count": 59,
   "metadata": {},
   "outputs": [
    {
     "name": "stdout",
     "output_type": "stream",
     "text": [
      "* 0976766 (HEAD -> test, tag: v.1.1) sub.py file added\n",
      "* 44c4830 (tag: v.1.0, origin/test) added add .py file\n",
      "* 1b4c062 (tag: v.0.3, origin/master, master) updated some lines in one.py\n",
      "* dbf91c2 (tag: v.0.2) added two.py\n",
      "* 8679bcf (tag: v.0.1) one.py intro file\n",
      "* ecaf9fc (tag: v.0.0) added initial REAME.md file\n"
     ]
    }
   ],
   "source": [
    "!git log --oneline --decorate --graph --all"
   ]
  },
  {
   "cell_type": "code",
   "execution_count": 61,
   "metadata": {},
   "outputs": [
    {
     "name": "stdout",
     "output_type": "stream",
     "text": [
      "  master\n",
      "* test\n"
     ]
    }
   ],
   "source": [
    "!git branch"
   ]
  },
  {
   "cell_type": "code",
   "execution_count": 63,
   "metadata": {},
   "outputs": [
    {
     "name": "stderr",
     "output_type": "stream",
     "text": [
      "To https://github.com/sachinyadav3496/git_demo.git\n",
      "   44c4830..0976766  test -> test\n"
     ]
    }
   ],
   "source": [
    "!git push origin test"
   ]
  },
  {
   "cell_type": "code",
   "execution_count": 64,
   "metadata": {},
   "outputs": [
    {
     "name": "stdout",
     "output_type": "stream",
     "text": [
      "Writing mul.py\n"
     ]
    }
   ],
   "source": [
    "%%writefile mul.py\n",
    "\n",
    "import sys\n",
    "\n",
    "a,b = map(int, sys.argv[1:])\n",
    "\n",
    "print(f\"a = \", a)\n",
    "print(f\"b = \", b)\n",
    "print(f\"a * b = {a*b}\")"
   ]
  },
  {
   "cell_type": "code",
   "execution_count": 65,
   "metadata": {},
   "outputs": [],
   "source": [
    "!git add . "
   ]
  },
  {
   "cell_type": "code",
   "execution_count": 68,
   "metadata": {},
   "outputs": [
    {
     "name": "stdout",
     "output_type": "stream",
     "text": [
      "[test 8ba33be] added mul.py file\n",
      " 1 file changed, 8 insertions(+)\n",
      " create mode 100644 mul.py\n"
     ]
    }
   ],
   "source": [
    "!git commit -m \"added mul.py file\""
   ]
  },
  {
   "cell_type": "code",
   "execution_count": 69,
   "metadata": {},
   "outputs": [
    {
     "name": "stderr",
     "output_type": "stream",
     "text": [
      "To https://github.com/sachinyadav3496/git_demo.git\n",
      "   0976766..8ba33be  test -> test\n"
     ]
    }
   ],
   "source": [
    "!git push origin test"
   ]
  },
  {
   "cell_type": "code",
   "execution_count": 70,
   "metadata": {},
   "outputs": [],
   "source": [
    "!git tag -a \"v.1.2\" -m \"\""
   ]
  },
  {
   "cell_type": "code",
   "execution_count": 71,
   "metadata": {},
   "outputs": [
    {
     "name": "stdout",
     "output_type": "stream",
     "text": [
      "* 8ba33be (HEAD -> test, tag: v.1.2, origin/test) added mul.py file\n",
      "* 0976766 (tag: v.1.1) sub.py file added\n",
      "* 44c4830 (tag: v.1.0) added add .py file\n",
      "* 1b4c062 (tag: v.0.3, origin/master, master) updated some lines in one.py\n",
      "* dbf91c2 (tag: v.0.2) added two.py\n",
      "* 8679bcf (tag: v.0.1) one.py intro file\n",
      "* ecaf9fc (tag: v.0.0) added initial REAME.md file\n"
     ]
    }
   ],
   "source": [
    "!git log --oneline --decorate --graph --all"
   ]
  },
  {
   "cell_type": "code",
   "execution_count": 72,
   "metadata": {},
   "outputs": [
    {
     "name": "stdout",
     "output_type": "stream",
     "text": [
      "README.md\n",
      "add.py\n",
      "mul.py\n",
      "one.py\n",
      "sub.py\n",
      "two.py\n"
     ]
    }
   ],
   "source": [
    "!ls"
   ]
  },
  {
   "cell_type": "code",
   "execution_count": 73,
   "metadata": {},
   "outputs": [
    {
     "name": "stdout",
     "output_type": "stream",
     "text": [
      "  master\n",
      "* test\n"
     ]
    }
   ],
   "source": [
    "!git branch"
   ]
  },
  {
   "cell_type": "code",
   "execution_count": 74,
   "metadata": {},
   "outputs": [
    {
     "name": "stderr",
     "output_type": "stream",
     "text": [
      "Switched to branch 'master'\n"
     ]
    }
   ],
   "source": [
    "!git checkout master"
   ]
  },
  {
   "cell_type": "code",
   "execution_count": 75,
   "metadata": {},
   "outputs": [
    {
     "name": "stdout",
     "output_type": "stream",
     "text": [
      "README.md\n",
      "one.py\n",
      "two.py\n"
     ]
    }
   ],
   "source": [
    "!ls"
   ]
  },
  {
   "cell_type": "code",
   "execution_count": 76,
   "metadata": {},
   "outputs": [
    {
     "name": "stdout",
     "output_type": "stream",
     "text": [
      "* master\n",
      "  test\n"
     ]
    }
   ],
   "source": [
    "!git branch"
   ]
  },
  {
   "cell_type": "code",
   "execution_count": 77,
   "metadata": {},
   "outputs": [
    {
     "name": "stdout",
     "output_type": "stream",
     "text": [
      "Writing hello.txt\n"
     ]
    }
   ],
   "source": [
    "%%writefile hello.txt\n",
    "I hope you get know about branching in github"
   ]
  },
  {
   "cell_type": "code",
   "execution_count": 78,
   "metadata": {},
   "outputs": [
    {
     "name": "stdout",
     "output_type": "stream",
     "text": [
      "On branch master\n",
      "Untracked files:\n",
      "  (use \"git add <file>...\" to include in what will be committed)\n",
      "\thello.txt\n",
      "\n",
      "nothing added to commit but untracked files present (use \"git add\" to track)\n"
     ]
    }
   ],
   "source": [
    "!git status"
   ]
  },
  {
   "cell_type": "code",
   "execution_count": 79,
   "metadata": {},
   "outputs": [],
   "source": [
    "!git add . "
   ]
  },
  {
   "cell_type": "code",
   "execution_count": 80,
   "metadata": {},
   "outputs": [
    {
     "name": "stdout",
     "output_type": "stream",
     "text": [
      "[master 2ee79b6] hello.txt for basic intro\n",
      " 1 file changed, 1 insertion(+)\n",
      " create mode 100644 hello.txt\n"
     ]
    }
   ],
   "source": [
    "!git commit -m \"hello.txt for basic intro\""
   ]
  },
  {
   "cell_type": "code",
   "execution_count": 82,
   "metadata": {},
   "outputs": [],
   "source": [
    "!git tag -a \"v.0.4\" -m \"\""
   ]
  },
  {
   "cell_type": "code",
   "execution_count": 83,
   "metadata": {},
   "outputs": [
    {
     "name": "stdout",
     "output_type": "stream",
     "text": [
      "* 2ee79b6 (HEAD -> master, tag: v.0.4) hello.txt for basic intro\n",
      "| * 8ba33be (tag: v.1.2, origin/test, test) added mul.py file\n",
      "| * 0976766 (tag: v.1.1) sub.py file added\n",
      "| * 44c4830 (tag: v.1.0) added add .py file\n",
      "|/  \n",
      "* 1b4c062 (tag: v.0.3, origin/master) updated some lines in one.py\n",
      "* dbf91c2 (tag: v.0.2) added two.py\n",
      "* 8679bcf (tag: v.0.1) one.py intro file\n",
      "* ecaf9fc (tag: v.0.0) added initial REAME.md file\n"
     ]
    }
   ],
   "source": [
    "!git log --oneline --decorate --graph --all"
   ]
  },
  {
   "cell_type": "code",
   "execution_count": 84,
   "metadata": {},
   "outputs": [
    {
     "name": "stderr",
     "output_type": "stream",
     "text": [
      "To https://github.com/sachinyadav3496/git_demo.git\n",
      "   1b4c062..2ee79b6  master -> master\n"
     ]
    }
   ],
   "source": [
    "!git push origin master"
   ]
  },
  {
   "cell_type": "code",
   "execution_count": 85,
   "metadata": {},
   "outputs": [
    {
     "name": "stdout",
     "output_type": "stream",
     "text": [
      "* master\n",
      "  test\n"
     ]
    }
   ],
   "source": [
    "!git branch"
   ]
  },
  {
   "cell_type": "code",
   "execution_count": 87,
   "metadata": {},
   "outputs": [
    {
     "name": "stdout",
     "output_type": "stream",
     "text": [
      "Merge made by the 'recursive' strategy.\n",
      " add.py | 8 ++++++++\n",
      " mul.py | 8 ++++++++\n",
      " sub.py | 7 +++++++\n",
      " 3 files changed, 23 insertions(+)\n",
      " create mode 100644 add.py\n",
      " create mode 100644 mul.py\n",
      " create mode 100644 sub.py\n"
     ]
    }
   ],
   "source": [
    "!git merge test"
   ]
  },
  {
   "cell_type": "code",
   "execution_count": 88,
   "metadata": {},
   "outputs": [
    {
     "name": "stdout",
     "output_type": "stream",
     "text": [
      "*   0a1d107 (HEAD -> master) Merge branch 'test'\n",
      "|\\  \n",
      "| * 8ba33be (tag: v.1.2, origin/test, test) added mul.py file\n",
      "| * 0976766 (tag: v.1.1) sub.py file added\n",
      "| * 44c4830 (tag: v.1.0) added add .py file\n",
      "* | 2ee79b6 (tag: v.0.4, origin/master) hello.txt for basic intro\n",
      "|/  \n",
      "* 1b4c062 (tag: v.0.3) updated some lines in one.py\n",
      "* dbf91c2 (tag: v.0.2) added two.py\n",
      "* 8679bcf (tag: v.0.1) one.py intro file\n",
      "* ecaf9fc (tag: v.0.0) added initial REAME.md file\n"
     ]
    }
   ],
   "source": [
    "!git log --oneline --decorate --graph --all"
   ]
  },
  {
   "cell_type": "code",
   "execution_count": 90,
   "metadata": {},
   "outputs": [],
   "source": [
    "!git tag -a \"v.1.3\" -m \"\""
   ]
  },
  {
   "cell_type": "code",
   "execution_count": 91,
   "metadata": {},
   "outputs": [
    {
     "name": "stdout",
     "output_type": "stream",
     "text": [
      "*   0a1d107 (HEAD -> master, tag: v.1.3) Merge branch 'test'\n",
      "|\\  \n",
      "| * 8ba33be (tag: v.1.2, origin/test, test) added mul.py file\n",
      "| * 0976766 (tag: v.1.1) sub.py file added\n",
      "| * 44c4830 (tag: v.1.0) added add .py file\n",
      "* | 2ee79b6 (tag: v.0.4, origin/master) hello.txt for basic intro\n",
      "|/  \n",
      "* 1b4c062 (tag: v.0.3) updated some lines in one.py\n",
      "* dbf91c2 (tag: v.0.2) added two.py\n",
      "* 8679bcf (tag: v.0.1) one.py intro file\n",
      "* ecaf9fc (tag: v.0.0) added initial REAME.md file\n"
     ]
    }
   ],
   "source": [
    "!git log --oneline --decorate --graph --all"
   ]
  },
  {
   "cell_type": "markdown",
   "metadata": {},
   "source": [
    "##### git rebase\n",
    "\n",
    "##### squashing\n",
    "\n"
   ]
  },
  {
   "cell_type": "code",
   "execution_count": 92,
   "metadata": {},
   "outputs": [
    {
     "name": "stderr",
     "output_type": "stream",
     "text": [
      "To https://github.com/sachinyadav3496/git_demo.git\n",
      "   2ee79b6..0a1d107  master -> master\n"
     ]
    }
   ],
   "source": [
    "!git push origin master"
   ]
  },
  {
   "cell_type": "code",
   "execution_count": null,
   "metadata": {},
   "outputs": [],
   "source": []
  }
 ],
 "metadata": {
  "kernelspec": {
   "display_name": "Python 3",
   "language": "python",
   "name": "python3"
  },
  "language_info": {
   "codemirror_mode": {
    "name": "ipython",
    "version": 3
   },
   "file_extension": ".py",
   "mimetype": "text/x-python",
   "name": "python",
   "nbconvert_exporter": "python",
   "pygments_lexer": "ipython3",
   "version": "3.7.4"
  }
 },
 "nbformat": 4,
 "nbformat_minor": 2
}
