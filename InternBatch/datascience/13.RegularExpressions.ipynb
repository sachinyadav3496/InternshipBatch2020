{
 "cells": [
  {
   "cell_type": "code",
   "execution_count": 1,
   "metadata": {},
   "outputs": [],
   "source": [
    "import numpy as np\n",
    "import matplotlib.pyplot as plt\n",
    "import seaborn as sns\n",
    "import pandas as pd\n",
    "%matplotlib inline\n",
    "plt.style.use(\"seaborn-whitegrid\")"
   ]
  },
  {
   "cell_type": "code",
   "execution_count": 2,
   "metadata": {},
   "outputs": [],
   "source": [
    "tip = sns.load_dataset('tips')"
   ]
  },
  {
   "cell_type": "code",
   "execution_count": 3,
   "metadata": {},
   "outputs": [
    {
     "data": {
      "text/plain": [
       "0      16.99\n",
       "1      10.34\n",
       "2      21.01\n",
       "3      23.68\n",
       "4      24.59\n",
       "       ...  \n",
       "239    29.03\n",
       "240    27.18\n",
       "241    22.67\n",
       "242    17.82\n",
       "243    18.78\n",
       "Name: total_bill, Length: 244, dtype: float64"
      ]
     },
     "execution_count": 3,
     "metadata": {},
     "output_type": "execute_result"
    }
   ],
   "source": [
    "tip['total_bill']"
   ]
  },
  {
   "cell_type": "code",
   "execution_count": 25,
   "metadata": {},
   "outputs": [],
   "source": [
    "data = pd.read_csv('grras_views.csv')"
   ]
  },
  {
   "cell_type": "code",
   "execution_count": null,
   "metadata": {},
   "outputs": [],
   "source": []
  },
  {
   "cell_type": "code",
   "execution_count": 36,
   "metadata": {},
   "outputs": [],
   "source": [
    "pd.set_option('display.max_rows', 20) # \n",
    "pd.set_option('display.max_columns', 30)\n",
    "pd.set_option('display.width', -1)\n",
    "pd.set_option('display.max_colwidth', -1)\n"
   ]
  },
  {
   "cell_type": "code",
   "execution_count": 37,
   "metadata": {},
   "outputs": [
    {
     "data": {
      "text/html": [
       "<div>\n",
       "<style scoped>\n",
       "    .dataframe tbody tr th:only-of-type {\n",
       "        vertical-align: middle;\n",
       "    }\n",
       "\n",
       "    .dataframe tbody tr th {\n",
       "        vertical-align: top;\n",
       "    }\n",
       "\n",
       "    .dataframe thead th {\n",
       "        text-align: right;\n",
       "    }\n",
       "</style>\n",
       "<table border=\"1\" class=\"dataframe\">\n",
       "  <thead>\n",
       "    <tr style=\"text-align: right;\">\n",
       "      <th></th>\n",
       "      <th>Unnamed: 0</th>\n",
       "      <th>Name</th>\n",
       "      <th>Reviews</th>\n",
       "      <th>lab_infra</th>\n",
       "      <th>training_delivery</th>\n",
       "      <th>guidence</th>\n",
       "    </tr>\n",
       "  </thead>\n",
       "  <tbody>\n",
       "    <tr>\n",
       "      <td>0</td>\n",
       "      <td>0</td>\n",
       "      <td>Ritik Sharma</td>\n",
       "      <td>I have a good experience at grras solutions institute, even here everyone is supporting.\\r\\nAlso, the workshops they give are fabulous. In one line , I only say \" it is one of the best institute \" in every aspect.</td>\n",
       "      <td>5</td>\n",
       "      <td>5</td>\n",
       "      <td>5</td>\n",
       "    </tr>\n",
       "    <tr>\n",
       "      <td>1</td>\n",
       "      <td>1</td>\n",
       "      <td>Niharika Chauhan</td>\n",
       "      <td>It have been wonderful experience with Grras \". I learnt Data Science with python here ,Trainers were always able to address every question we had and every problem immediately and adequately. It’s clear that our success and career is their top priority. I am thinking of persuing machine learning and big data hadoop also from Grras.</td>\n",
       "      <td>5</td>\n",
       "      <td>5</td>\n",
       "      <td>5</td>\n",
       "    </tr>\n",
       "    <tr>\n",
       "      <td>2</td>\n",
       "      <td>2</td>\n",
       "      <td>Megha Sharma</td>\n",
       "      <td>I did the whole course online. It was the first time I tried e-learning and I am very satisfied with the outcome. My feedback was always on time and precise. All the instructions  were helpful so I didn't feel lost even once.and completed my training smoothly and with very ease.</td>\n",
       "      <td>5</td>\n",
       "      <td>5</td>\n",
       "      <td>5</td>\n",
       "    </tr>\n",
       "    <tr>\n",
       "      <td>3</td>\n",
       "      <td>3</td>\n",
       "      <td>Shivani Kanwar</td>\n",
       "      <td>Really nice learning with Grras. Best place to  start something new from scratch and to get sucess . Supportive and experience trainers with best knowledge. Really good practical knowledge.Looking forward to gain more knowledge</td>\n",
       "      <td>5</td>\n",
       "      <td>5</td>\n",
       "      <td>5</td>\n",
       "    </tr>\n",
       "    <tr>\n",
       "      <td>4</td>\n",
       "      <td>4</td>\n",
       "      <td>Priyanka Jain</td>\n",
       "      <td>NaN</td>\n",
       "      <td>5</td>\n",
       "      <td>5</td>\n",
       "      <td>5</td>\n",
       "    </tr>\n",
       "    <tr>\n",
       "      <td>...</td>\n",
       "      <td>...</td>\n",
       "      <td>...</td>\n",
       "      <td>...</td>\n",
       "      <td>...</td>\n",
       "      <td>...</td>\n",
       "      <td>...</td>\n",
       "    </tr>\n",
       "    <tr>\n",
       "      <td>246</td>\n",
       "      <td>246</td>\n",
       "      <td>Dewan Parmar</td>\n",
       "      <td>Good</td>\n",
       "      <td>5</td>\n",
       "      <td>5</td>\n",
       "      <td>5</td>\n",
       "    </tr>\n",
       "    <tr>\n",
       "      <td>247</td>\n",
       "      <td>247</td>\n",
       "      <td>Dewan</td>\n",
       "      <td>Great to join</td>\n",
       "      <td>3</td>\n",
       "      <td>4</td>\n",
       "      <td>4</td>\n",
       "    </tr>\n",
       "    <tr>\n",
       "      <td>248</td>\n",
       "      <td>248</td>\n",
       "      <td>Himanshu Jain</td>\n",
       "      <td>Awesome Faculty and Lab Environment. I Have got job in MNC due to help of GRRAS. Thanks to Team.</td>\n",
       "      <td>5</td>\n",
       "      <td>4</td>\n",
       "      <td>5</td>\n",
       "    </tr>\n",
       "    <tr>\n",
       "      <td>249</td>\n",
       "      <td>249</td>\n",
       "      <td>Himanshu Jain</td>\n",
       "      <td>Awesome Faculty and Lab Environment. I Have got job in MNC due to help of GRRAS. Thanks to Team.</td>\n",
       "      <td>5</td>\n",
       "      <td>4</td>\n",
       "      <td>5</td>\n",
       "    </tr>\n",
       "    <tr>\n",
       "      <td>250</td>\n",
       "      <td>250</td>\n",
       "      <td>Himanshu Jain</td>\n",
       "      <td>Awesome Faculty and Lab Environment. I Have got job in MNC due to help of GRRAS. Thanks to Team.</td>\n",
       "      <td>5</td>\n",
       "      <td>4</td>\n",
       "      <td>5</td>\n",
       "    </tr>\n",
       "  </tbody>\n",
       "</table>\n",
       "<p>251 rows × 6 columns</p>\n",
       "</div>"
      ],
      "text/plain": [
       "     Unnamed: 0  \\\n",
       "0    0            \n",
       "1    1            \n",
       "2    2            \n",
       "3    3            \n",
       "4    4            \n",
       "..  ..            \n",
       "246  246          \n",
       "247  247          \n",
       "248  248          \n",
       "249  249          \n",
       "250  250          \n",
       "\n",
       "                 Name  \\\n",
       "0    Ritik Sharma       \n",
       "1    Niharika Chauhan   \n",
       "2    Megha Sharma       \n",
       "3    Shivani Kanwar     \n",
       "4    Priyanka Jain      \n",
       "..             ...      \n",
       "246  Dewan Parmar       \n",
       "247  Dewan              \n",
       "248  Himanshu Jain      \n",
       "249  Himanshu Jain      \n",
       "250  Himanshu Jain      \n",
       "\n",
       "                                                                                                                                                                                                                                                                                                                                              Reviews  \\\n",
       "0    I have a good experience at grras solutions institute, even here everyone is supporting.\\r\\nAlso, the workshops they give are fabulous. In one line , I only say \" it is one of the best institute \" in every aspect.                                                                                                                              \n",
       "1    It have been wonderful experience with Grras \". I learnt Data Science with python here ,Trainers were always able to address every question we had and every problem immediately and adequately. It’s clear that our success and career is their top priority. I am thinking of persuing machine learning and big data hadoop also from Grras.     \n",
       "2    I did the whole course online. It was the first time I tried e-learning and I am very satisfied with the outcome. My feedback was always on time and precise. All the instructions  were helpful so I didn't feel lost even once.and completed my training smoothly and with very ease.                                                            \n",
       "3    Really nice learning with Grras. Best place to  start something new from scratch and to get sucess . Supportive and experience trainers with best knowledge. Really good practical knowledge.Looking forward to gain more knowledge                                                                                                                \n",
       "4    NaN                                                                                                                                                                                                                                                                                                                                                \n",
       "..   ...                                                                                                                                                                                                                                                                                                                                                \n",
       "246  Good                                                                                                                                                                                                                                                                                                                                               \n",
       "247  Great to join                                                                                                                                                                                                                                                                                                                                      \n",
       "248  Awesome Faculty and Lab Environment. I Have got job in MNC due to help of GRRAS. Thanks to Team.                                                                                                                                                                                                                                                   \n",
       "249  Awesome Faculty and Lab Environment. I Have got job in MNC due to help of GRRAS. Thanks to Team.                                                                                                                                                                                                                                                   \n",
       "250  Awesome Faculty and Lab Environment. I Have got job in MNC due to help of GRRAS. Thanks to Team.                                                                                                                                                                                                                                                   \n",
       "\n",
       "     lab_infra  \\\n",
       "0    5           \n",
       "1    5           \n",
       "2    5           \n",
       "3    5           \n",
       "4    5           \n",
       "..  ..           \n",
       "246  5           \n",
       "247  3           \n",
       "248  5           \n",
       "249  5           \n",
       "250  5           \n",
       "\n",
       "     training_delivery  \\\n",
       "0    5                   \n",
       "1    5                   \n",
       "2    5                   \n",
       "3    5                   \n",
       "4    5                   \n",
       "..  ..                   \n",
       "246  5                   \n",
       "247  4                   \n",
       "248  4                   \n",
       "249  4                   \n",
       "250  4                   \n",
       "\n",
       "     guidence  \n",
       "0    5         \n",
       "1    5         \n",
       "2    5         \n",
       "3    5         \n",
       "4    5         \n",
       "..  ..         \n",
       "246  5         \n",
       "247  4         \n",
       "248  5         \n",
       "249  5         \n",
       "250  5         \n",
       "\n",
       "[251 rows x 6 columns]"
      ]
     },
     "execution_count": 37,
     "metadata": {},
     "output_type": "execute_result"
    }
   ],
   "source": [
    "data"
   ]
  },
  {
   "cell_type": "code",
   "execution_count": 38,
   "metadata": {},
   "outputs": [
    {
     "data": {
      "text/html": [
       "<div>\n",
       "<style scoped>\n",
       "    .dataframe tbody tr th:only-of-type {\n",
       "        vertical-align: middle;\n",
       "    }\n",
       "\n",
       "    .dataframe tbody tr th {\n",
       "        vertical-align: top;\n",
       "    }\n",
       "\n",
       "    .dataframe thead th {\n",
       "        text-align: right;\n",
       "    }\n",
       "</style>\n",
       "<table border=\"1\" class=\"dataframe\">\n",
       "  <thead>\n",
       "    <tr style=\"text-align: right;\">\n",
       "      <th></th>\n",
       "      <th>Name</th>\n",
       "      <th>Reviews</th>\n",
       "    </tr>\n",
       "  </thead>\n",
       "  <tbody>\n",
       "    <tr>\n",
       "      <td>0</td>\n",
       "      <td>Ritik Sharma</td>\n",
       "      <td>I have a good experience at grras solutions institute, even here everyone is supporting.\\r\\nAlso, the workshops they give are fabulous. In one line , I only say \" it is one of the best institute \" in every aspect.</td>\n",
       "    </tr>\n",
       "    <tr>\n",
       "      <td>1</td>\n",
       "      <td>Niharika Chauhan</td>\n",
       "      <td>It have been wonderful experience with Grras \". I learnt Data Science with python here ,Trainers were always able to address every question we had and every problem immediately and adequately. It’s clear that our success and career is their top priority. I am thinking of persuing machine learning and big data hadoop also from Grras.</td>\n",
       "    </tr>\n",
       "    <tr>\n",
       "      <td>2</td>\n",
       "      <td>Megha Sharma</td>\n",
       "      <td>I did the whole course online. It was the first time I tried e-learning and I am very satisfied with the outcome. My feedback was always on time and precise. All the instructions  were helpful so I didn't feel lost even once.and completed my training smoothly and with very ease.</td>\n",
       "    </tr>\n",
       "    <tr>\n",
       "      <td>3</td>\n",
       "      <td>Shivani Kanwar</td>\n",
       "      <td>Really nice learning with Grras. Best place to  start something new from scratch and to get sucess . Supportive and experience trainers with best knowledge. Really good practical knowledge.Looking forward to gain more knowledge</td>\n",
       "    </tr>\n",
       "    <tr>\n",
       "      <td>4</td>\n",
       "      <td>Priyanka Jain</td>\n",
       "      <td>NaN</td>\n",
       "    </tr>\n",
       "    <tr>\n",
       "      <td>...</td>\n",
       "      <td>...</td>\n",
       "      <td>...</td>\n",
       "    </tr>\n",
       "    <tr>\n",
       "      <td>246</td>\n",
       "      <td>Dewan Parmar</td>\n",
       "      <td>Good</td>\n",
       "    </tr>\n",
       "    <tr>\n",
       "      <td>247</td>\n",
       "      <td>Dewan</td>\n",
       "      <td>Great to join</td>\n",
       "    </tr>\n",
       "    <tr>\n",
       "      <td>248</td>\n",
       "      <td>Himanshu Jain</td>\n",
       "      <td>Awesome Faculty and Lab Environment. I Have got job in MNC due to help of GRRAS. Thanks to Team.</td>\n",
       "    </tr>\n",
       "    <tr>\n",
       "      <td>249</td>\n",
       "      <td>Himanshu Jain</td>\n",
       "      <td>Awesome Faculty and Lab Environment. I Have got job in MNC due to help of GRRAS. Thanks to Team.</td>\n",
       "    </tr>\n",
       "    <tr>\n",
       "      <td>250</td>\n",
       "      <td>Himanshu Jain</td>\n",
       "      <td>Awesome Faculty and Lab Environment. I Have got job in MNC due to help of GRRAS. Thanks to Team.</td>\n",
       "    </tr>\n",
       "  </tbody>\n",
       "</table>\n",
       "<p>251 rows × 2 columns</p>\n",
       "</div>"
      ],
      "text/plain": [
       "                 Name  \\\n",
       "0    Ritik Sharma       \n",
       "1    Niharika Chauhan   \n",
       "2    Megha Sharma       \n",
       "3    Shivani Kanwar     \n",
       "4    Priyanka Jain      \n",
       "..             ...      \n",
       "246  Dewan Parmar       \n",
       "247  Dewan              \n",
       "248  Himanshu Jain      \n",
       "249  Himanshu Jain      \n",
       "250  Himanshu Jain      \n",
       "\n",
       "                                                                                                                                                                                                                                                                                                                                              Reviews  \n",
       "0    I have a good experience at grras solutions institute, even here everyone is supporting.\\r\\nAlso, the workshops they give are fabulous. In one line , I only say \" it is one of the best institute \" in every aspect.                                                                                                                             \n",
       "1    It have been wonderful experience with Grras \". I learnt Data Science with python here ,Trainers were always able to address every question we had and every problem immediately and adequately. It’s clear that our success and career is their top priority. I am thinking of persuing machine learning and big data hadoop also from Grras.    \n",
       "2    I did the whole course online. It was the first time I tried e-learning and I am very satisfied with the outcome. My feedback was always on time and precise. All the instructions  were helpful so I didn't feel lost even once.and completed my training smoothly and with very ease.                                                           \n",
       "3    Really nice learning with Grras. Best place to  start something new from scratch and to get sucess . Supportive and experience trainers with best knowledge. Really good practical knowledge.Looking forward to gain more knowledge                                                                                                               \n",
       "4    NaN                                                                                                                                                                                                                                                                                                                                               \n",
       "..   ...                                                                                                                                                                                                                                                                                                                                               \n",
       "246  Good                                                                                                                                                                                                                                                                                                                                              \n",
       "247  Great to join                                                                                                                                                                                                                                                                                                                                     \n",
       "248  Awesome Faculty and Lab Environment. I Have got job in MNC due to help of GRRAS. Thanks to Team.                                                                                                                                                                                                                                                  \n",
       "249  Awesome Faculty and Lab Environment. I Have got job in MNC due to help of GRRAS. Thanks to Team.                                                                                                                                                                                                                                                  \n",
       "250  Awesome Faculty and Lab Environment. I Have got job in MNC due to help of GRRAS. Thanks to Team.                                                                                                                                                                                                                                                  \n",
       "\n",
       "[251 rows x 2 columns]"
      ]
     },
     "execution_count": 38,
     "metadata": {},
     "output_type": "execute_result"
    }
   ],
   "source": [
    "data[['Name', 'Reviews']]"
   ]
  },
  {
   "cell_type": "code",
   "execution_count": null,
   "metadata": {},
   "outputs": [],
   "source": []
  },
  {
   "cell_type": "code",
   "execution_count": 13,
   "metadata": {},
   "outputs": [
    {
     "data": {
      "text/plain": [
       "0    1.01\n",
       "1    1.66\n",
       "2    3.50\n",
       "3    3.31\n",
       "4    3.61\n",
       "Name: tip, dtype: float64"
      ]
     },
     "execution_count": 13,
     "metadata": {},
     "output_type": "execute_result"
    }
   ],
   "source": [
    "tip['tip'][:5]"
   ]
  },
  {
   "cell_type": "code",
   "execution_count": 15,
   "metadata": {},
   "outputs": [
    {
     "data": {
      "image/png": "[encoded data removed]",
      "text/plain": [
       "<Figure size 432x288 with 1 Axes>"
      ]
     },
     "metadata": {
      "needs_background": "light"
     },
     "output_type": "display_data"
    }
   ],
   "source": [
    "plt.scatter('total_bill', 'tip', data=tip)\n",
    "plt.show()"
   ]
  },
  {
   "cell_type": "code",
   "execution_count": 16,
   "metadata": {},
   "outputs": [],
   "source": [
    "plt.style.use('ggplot')"
   ]
  },
  {
   "cell_type": "code",
   "execution_count": 17,
   "metadata": {},
   "outputs": [
    {
     "data": {
      "image/png": "[encoded data removed]",
      "text/plain": [
       "<Figure size 432x288 with 1 Axes>"
      ]
     },
     "metadata": {},
     "output_type": "display_data"
    }
   ],
   "source": [
    "plt.scatter('total_bill', 'tip', data=tip)\n",
    "plt.show()"
   ]
  },
  {
   "cell_type": "code",
   "execution_count": 18,
   "metadata": {},
   "outputs": [],
   "source": [
    "plt.style.use(\"seaborn-whitegrid\")"
   ]
  },
  {
   "cell_type": "markdown",
   "metadata": {},
   "source": [
    "## Regular Expressions"
   ]
  },
  {
   "cell_type": "markdown",
   "metadata": {},
   "source": [
    "`pattern matching`"
   ]
  },
  {
   "cell_type": "markdown",
   "metadata": {},
   "source": [
    "`Regular expressions (called REs, or regexes, or regex patterns)` are essentially a tiny, highly specialized programming language embedded inside Python and made available through the re module. Using this little language, you specify the rules for the set of possible strings that you want to match; this set might contain English sentences, or e-mail addresses, or TeX commands, or anything you like. You can then ask questions such as “Does this string match the pattern?”, or “Is there a match for the pattern anywhere in this string?”. You can also use REs to modify a string or to split it apart in various ways."
   ]
  },
  {
   "cell_type": "markdown",
   "metadata": {},
   "source": []
  },
  {
   "cell_type": "markdown",
   "metadata": {},
   "source": [
    "## Matching Characters"
   ]
  },
  {
   "cell_type": "markdown",
   "metadata": {},
   "source": [
    "`.`  any char, eg 12!@$ abCDE, kuch bhi\n",
    "\n",
    "`^`  search at the begning of text, if multiline flag is on that search at begning of every line\n",
    "\n",
    "`$` \n",
    "\n",
    "`*`\n",
    "\n",
    "`+`\n",
    "\n",
    "`?`\n",
    "\n",
    "`{ }`\n",
    "\n",
    "`[ ]`\n",
    "\n",
    "`\\`\n",
    "\n",
    "`|`\n",
    "\n",
    "`( )`"
   ]
  },
  {
   "cell_type": "markdown",
   "metadata": {},
   "source": [
    "`\\d` Matches any decimal digit; this is equivalent to the class [0-9].\n",
    "\n",
    "`\\D` Matches any non-digit character; this is equivalent to the class [^0-9].\n",
    "\n",
    "`\\s` Matches any whitespace character; this is equivalent to the class [ \\t\\n\\r\\f\\v].\n",
    "\n",
    "`\\S` Matches any non-whitespace character; this is equivalent to the class [^ \\t\\n\\r\\f\\v].\n",
    "\n",
    "`\\w` Matches any alphanumeric character; this is equivalent to the class [a-zA-Z0-9_].\n",
    "\n",
    "`\\W` Matches any non-alphanumeric character; this is equivalent to the class [^a-zA-Z0-9_]."
   ]
  },
  {
   "cell_type": "markdown",
   "metadata": {},
   "source": [
    "     \\w class   [a-zA-z0-9]"
   ]
  },
  {
   "cell_type": "code",
   "execution_count": 39,
   "metadata": {},
   "outputs": [],
   "source": [
    "import re"
   ]
  },
  {
   "cell_type": "code",
   "execution_count": 41,
   "metadata": {},
   "outputs": [],
   "source": [
    "text = \"\"\"a_b a b a1_ a-zA-z0-9_  ab -a-b_\n",
    "RegExr was created by gskinner.com, and is proudly hosted by Media Temple. \n",
    "\n",
    "yahoolalalahihahaha\n",
    "Edit the Expression & Text to see matches. Roll over matches or the expression for details. PCRE & JavaScript flavors of RegEx are supported. Validate your expression with Tests mode.\n",
    "\n",
    "The side bar includes a Cheatsheet, full Reference, and Help. You can also Save & Share with the Community, and view patterns you create or favorite in My Patterns.\n",
    "\n",
    "Explore results with the Tools below. Replace & List output custom results. Details lists capture groups. Explain describes your expression in plain English.\n",
    "\n",
    "hello world $%^&* welcome to 18264709 pattern matching using re lagnuage in python it's command pattern search\n",
    "\n",
    "sachin yadav is going to explain how regular expressions works  sachin yadav\n",
    "\n",
    " \\w is used to match all alpha numberic keyworkds like a b c 1 2 34 5 A B  C   Z\n",
    " \n",
    " \\w\\w search for two consecutive alphanumberic characters \"\"\""
   ]
  },
  {
   "cell_type": "code",
   "execution_count": 46,
   "metadata": {},
   "outputs": [],
   "source": [
    "pat = r\"\\w\\w\\w\\w\\w\\w\" # raw string to preserve pattern matching character"
   ]
  },
  {
   "cell_type": "code",
   "execution_count": 44,
   "metadata": {},
   "outputs": [
    {
     "name": "stdout",
     "output_type": "stream",
     "text": [
      "<class 'str'>\n"
     ]
    }
   ],
   "source": [
    "print(type(pat)) # repr "
   ]
  },
  {
   "cell_type": "code",
   "execution_count": 45,
   "metadata": {},
   "outputs": [
    {
     "data": {
      "text/plain": [
       "'\\\\w\\\\w\\\\w\\\\w\\\\w\\\\w'"
      ]
     },
     "execution_count": 45,
     "metadata": {},
     "output_type": "execute_result"
    }
   ],
   "source": [
    "re.findall(pat, text)"
   ]
  },
  {
   "cell_type": "code",
   "execution_count": 47,
   "metadata": {},
   "outputs": [],
   "source": [
    "s = \"hello\\nworld\""
   ]
  },
  {
   "cell_type": "code",
   "execution_count": 48,
   "metadata": {},
   "outputs": [
    {
     "name": "stdout",
     "output_type": "stream",
     "text": [
      "hello\n",
      "world\n"
     ]
    }
   ],
   "source": [
    "print(s)"
   ]
  },
  {
   "cell_type": "code",
   "execution_count": 49,
   "metadata": {},
   "outputs": [
    {
     "name": "stdout",
     "output_type": "stream",
     "text": [
      "'hello\\nworld'\n"
     ]
    }
   ],
   "source": [
    "print(repr(s))"
   ]
  },
  {
   "cell_type": "code",
   "execution_count": 50,
   "metadata": {},
   "outputs": [
    {
     "data": {
      "text/plain": [
       "\"'hello\\\\nworld'\""
      ]
     },
     "execution_count": 50,
     "metadata": {},
     "output_type": "execute_result"
    }
   ],
   "source": [
    "repr(s)"
   ]
  },
  {
   "cell_type": "code",
   "execution_count": 51,
   "metadata": {},
   "outputs": [],
   "source": [
    "pat = r\"\\w\\w\\w\\w\\w\\w\" # raw string to preserve pattern matching character"
   ]
  },
  {
   "cell_type": "code",
   "execution_count": 53,
   "metadata": {},
   "outputs": [
    {
     "data": {
      "text/plain": [
       "['RegExr', 'create', 'gskinn', 'proudl', 'hosted']"
      ]
     },
     "execution_count": 53,
     "metadata": {},
     "output_type": "execute_result"
    }
   ],
   "source": [
    "re.findall(pat, text)[:5]"
   ]
  },
  {
   "cell_type": "markdown",
   "metadata": {},
   "source": [
    "`\\b` means boundary value to check boundary\n",
    "\n",
    "    boundary is a sepration between word class and non word class"
   ]
  },
  {
   "cell_type": "code",
   "execution_count": 54,
   "metadata": {},
   "outputs": [],
   "source": [
    "pat = re.compile(r\"\\b\\w\\w\\w\\w\\w\\w\\b\")"
   ]
  },
  {
   "cell_type": "code",
   "execution_count": 55,
   "metadata": {},
   "outputs": [
    {
     "name": "stdout",
     "output_type": "stream",
     "text": [
      "['RegExr', 'hosted', 'Temple', 'create', 'output', 'custom', 'groups', 'python', 'search', 'sachin', 'sachin', 'search']\n"
     ]
    }
   ],
   "source": [
    "print(re.findall(pat, text))"
   ]
  },
  {
   "cell_type": "code",
   "execution_count": 56,
   "metadata": {},
   "outputs": [
    {
     "name": "stdout",
     "output_type": "stream",
     "text": [
      "re.compile('\\\\b\\\\w\\\\w\\\\w\\\\w\\\\w\\\\w\\\\b')\n"
     ]
    }
   ],
   "source": [
    "print(pat)"
   ]
  },
  {
   "cell_type": "markdown",
   "metadata": {},
   "source": [
    "\\W - non word class [^a-zA-Z0-9_]"
   ]
  },
  {
   "cell_type": "markdown",
   "metadata": {},
   "source": [
    "`\\d` - digit class [0-9]"
   ]
  },
  {
   "cell_type": "code",
   "execution_count": 57,
   "metadata": {},
   "outputs": [],
   "source": [
    "text = \"\"\"a_b a b a1_ a-zA-z0-9_  ab -a-b_\n",
    "RegExr was created by gskinner.com, and is proudly hosted by Media Temple. \n",
    "\n",
    "\tyahoolalalahihahahasad  &abcdefhjjk( %YaHoo9% 230978\n",
    "\t\n",
    "\t9287429874 1234567890  0987654321 \n",
    "\t\n",
    "Edit the Expression & Text to see matches. Roll over matches or the expression for details. PCRE & JavaScript flavors of RegEx are supported. Validate your expression with Tests mode.\n",
    "\n",
    "The side bar includes a Cheatsheet, full Reference, and Help. You can also Save & Share with the Community, and view patterns you create or favorite in My Patterns.\n",
    "9182749832947329749832749324y98327493729479834 2983472398\n",
    "Explore results with the Tools below. Replace & List 145985654 output custom results. Details lists capture groups. Explain describes your expression in plain English.\n",
    "\n",
    "hello world $%^&* welcome to 18264709 pattern matching using re lagnuage in python it's command pattern search\n",
    "\n",
    "sachin yadav is going to explain how regular expressions works  sachin yadav 97682131159 2189347v 2983467987 23984y9382 7423yu4 \n",
    "\n",
    " \\w is used to match all alpha numberic keyworkds like a b c 1 2 34 5 A B  C   Z\n",
    " \n",
    " \\w\\w search for two consecutive alphanumberic characters s1234n   saturn  !@#$%^&*()_+<>?|\"\"\""
   ]
  },
  {
   "cell_type": "code",
   "execution_count": 61,
   "metadata": {},
   "outputs": [],
   "source": [
    "pat = re.compile(r\"\\b\\d\\d\\d\\d\\d\\d\\d\\d\\d\\d\\b\")"
   ]
  },
  {
   "cell_type": "code",
   "execution_count": 62,
   "metadata": {},
   "outputs": [],
   "source": [
    "numbers = re.findall(pat, text)"
   ]
  },
  {
   "cell_type": "code",
   "execution_count": 63,
   "metadata": {},
   "outputs": [
    {
     "name": "stdout",
     "output_type": "stream",
     "text": [
      "['9287429874', '1234567890', '0987654321', '2983472398', '2983467987']\n"
     ]
    }
   ],
   "source": [
    "print(numbers)"
   ]
  },
  {
   "cell_type": "code",
   "execution_count": 64,
   "metadata": {},
   "outputs": [],
   "source": [
    "text = \"\"\"a_b a b a1_ a-zA-z0-9_  ab -a-b_\n",
    "RegExr was created by gskinner.com, and is proudly hosted by Media Temple. \n",
    "\n",
    "\tyahoolalalahihahahasad  &abcdefhjjk( %YaHoo9% 230978\n",
    "\t\n",
    "\t9287429874 1234567890  0987654321 \n",
    "\t\n",
    "Edit the Expression & Text to see matches. Roll over matches or the expression for details. PCRE & JavaScript flavors of RegEx are supported. Validate your expression with Tests mode.\n",
    "\n",
    "The side bar includes a Cheatsheet, full Reference, and Help. You can also Save & Share with the Community, and view patterns you create or favorite in My Patterns.\n",
    "9182749832947329749832749324y98327493729479834 2983472398\n",
    "\n",
    "588-5643-67854\n",
    "Explore results with the Tools below. Replace & List 145985654 output custom results. Details lists capture groups. Explain describes your expression in plain English.\n",
    "\n",
    "564-6756-56745\n",
    "hello world $%^&* welcome to 18264709 pattern matching using re lagnuage in python it's command pattern search\n",
    "\n",
    "sachin yadav is going to explain how regular expressions works  sachin yadav 97682131159 2189347v 2983467987 23984y9382 7423yu4 \n",
    " 1111111-1234-1323876248264\n",
    " \\w is used to match all alpha numberic keyworkds like a b c 1 2 34 5 A B  C   Z\n",
    " \n",
    " \\w\\w search for two consecutive alphanumberic characters s1234n   saturn  !@#$%^&*()_+<>?|\n",
    " \n",
    " 123-1234-12345\n",
    " \n",
    " 123-4567-89012\"\"\""
   ]
  },
  {
   "cell_type": "code",
   "execution_count": 65,
   "metadata": {},
   "outputs": [
    {
     "data": {
      "text/plain": [
       "['588-5643-67854', '564-6756-56745', '123-1234-12345', '123-4567-89012']"
      ]
     },
     "execution_count": 65,
     "metadata": {},
     "output_type": "execute_result"
    }
   ],
   "source": [
    "re.findall(r\"\\b\\d\\d\\d-\\d\\d\\d\\d-\\d\\d\\d\\d\\d\\b\", text)"
   ]
  },
  {
   "cell_type": "markdown",
   "metadata": {},
   "source": [
    "syntax\n",
    "\n",
    "`re.findall(pattern, string, flags=0)`"
   ]
  },
  {
   "cell_type": "markdown",
   "metadata": {},
   "source": [
    "`\\D` matches non digit class [^0-9]"
   ]
  },
  {
   "cell_type": "markdown",
   "metadata": {},
   "source": [
    "`\\s` space class matches spaces [\\t\\n\\r]"
   ]
  },
  {
   "cell_type": "markdown",
   "metadata": {},
   "source": [
    "`Custom Class`\n",
    "\n",
    "`[...]` represent a class eg `[a-zA-Z0-9_]` means excatly `\\w`\n",
    "\n",
    "`[^..]` represents a non clas "
   ]
  },
  {
   "cell_type": "code",
   "execution_count": 67,
   "metadata": {},
   "outputs": [],
   "source": [
    "text = \"\"\"a_b a b a1_ a-zA-z0-9_  ab -a-b_ aeiou  AEIOU\n",
    "RegExr was created by gskinner.com, and is proudly hosted by Media Temple. \n",
    "\n",
    "\tyahoolalalahihahahasad  &abcdefhjjk( %YaHoo9% 230978\n",
    "\t\n",
    "\t9287429874 1234567890  0987654321 \n",
    "\t\n",
    "Edit the Expression & Text to see matches. Roll over matches or the expression for details. PCRE & JavaScript flavors of RegEx are supported. Validate your expression with Tests mode.\n",
    "\n",
    "The side bar includes a Cheatsheet, full Reference, and Help. You can also Save & Share with the Community, and view patterns you create or favorite in My Patterns.\n",
    "9182749832947329749832749324y98327493729479834 2983472398\n",
    "\n",
    "588-5643-67854 12345678909876\n",
    "Explore results with the Tools below. Replace & List 145985654 output custom results. Details lists capture groups. Explain describes your expression in plain English.\n",
    "\n",
    "564-6756-56745 nihcas  sacsa  aaaaaa scasca bhello world $%^&* welcome to 18264709 pattern matching using re lagnuage in python it's command pattern search\n",
    "\n",
    "sachin yadav is going to explain how regular expressions works  sachin yadav 97682131159 2189347v 2983467987 23984y9382 7423yu4 \n",
    " 1111111-1234-1323876248264\n",
    " \\w is used to match all alpha numberic keyworkds like a b c 1 2 34 5 A B  C   Z\n",
    " \n",
    " \\w\\w search for two consecutive alphanumberic characters s1234n   saturn  !@#$%^&*()_+<>?|\n",
    " \n",
    " 123-1234-12345\n",
    " \n",
    " 123-4567-89012|\"\"\""
   ]
  },
  {
   "cell_type": "code",
   "execution_count": 68,
   "metadata": {},
   "outputs": [],
   "source": [
    "sp_chars = re.findall(r\"[^\\w\\s]\", text)"
   ]
  },
  {
   "cell_type": "code",
   "execution_count": 70,
   "metadata": {},
   "outputs": [
    {
     "name": "stdout",
     "output_type": "stream",
     "text": [
      "['-', '-', '-', '-', '-', '.', ',', '.', '&', '(', '%', '%', '&', '.', '.', '&', '.', '.', ',', ',', '.', '&', ',', '.', '-', '-', '.', '&', '.', '.', '.', '-', '-', '$', '%', '^', '&', '*', \"'\", '-', '-', '\\\\', '\\\\', '\\\\', '!', '@', '#', '$', '%', '^', '&', '*', '(', ')', '+', '<', '>', '?', '|', '-', '-', '-', '-', '|']\n"
     ]
    }
   ],
   "source": [
    "print(sp_chars)"
   ]
  },
  {
   "cell_type": "markdown",
   "metadata": {},
   "source": [
    "    sachin -> sachin\n",
    "\n",
    "    [sachin] -> either s or a or c or h or i or n "
   ]
  },
  {
   "cell_type": "markdown",
   "metadata": {},
   "source": [
    "`.`  any char, eg 12!@$ abCDE, kuch bhi\n",
    "\n",
    "`^`  match at begning of text, if multiline flag is on than search at the begning of every line\n",
    "\n",
    "`$`  match at the end of text, if multiline flag is on than search at the end of every line\n",
    "\n",
    "`*`  0 or more repetation of precedding RE, greedy serach\n",
    "\n",
    "`*?` 0 or more repetation in non greedy fashion\n",
    "\n",
    "`+`  1 or more repetation in greedy fashion\n",
    "\n",
    "`+?` 1 or more repetation in non-greedy fashion\n",
    "\n",
    "`{s, }` s or more repetation \n",
    "\n",
    "`{0, }` same as * \n",
    "\n",
    "`{1, }` same as +\n",
    "\n",
    "`{s, e}` will repeate preceding RE to math at leaset s chars or max e chars\n",
    "\n",
    "\n",
    "`?` can be or can not be like mayorr? will match mayor, mayorr\n",
    "\n",
    "\n",
    "\n",
    "`[ ]` denote class\n",
    "\n",
    "`\\` to search special characters\n",
    "\n",
    "`|` or sign a|b a or b\n",
    "\n",
    "`( )` to make a group "
   ]
  },
  {
   "cell_type": "code",
   "execution_count": 88,
   "metadata": {},
   "outputs": [],
   "source": [
    "text = \"\"\"India is democratic country.\n",
    "a_b a b a1_ a-zA-z0-9_  ab -a-b_ aeiou  AEIOU s1234n sabcdn s@$#%n s    n \n",
    "India is better than china.\n",
    "<img src='https://grras.com' />\n",
    "RegExr was created by gskinner.com, and is proudly hosted by Media Temple. \n",
    "1 aA$#\n",
    "\tyahoolalalahihahahasad  &abcdefhjjk( %YaHoo9% 230978\n",
    "\t<img class=\"data-original\" src='hello' />\n",
    "\t9287429874 1234567890  0987654321 \n",
    "\t\n",
    "Edit the Expression & Text to see matches. Roll over matches or the expression for details. PCRE & JavaScript flavors of RegEx are supported. Validate your expression with Tests mode.\n",
    "<img src='https://google.co.in data='sachin' />\n",
    "a\n",
    "Inidia at the begining of this text\n",
    "The side bar includes a Cheatsheet, full Reference, and Help. You can also Save & Share with the Community, and view patterns you create or favorite in My Patterns.\n",
    "9182749832947329749832749324y98327493729479834 2983472398\n",
    "India is land of all religions.\n",
    "<img src='yahoo' />\n",
    "\n",
    "let's finish this text with India.\n",
    "588-5643-67854 12345678909876\n",
    "Explore results with the Tools below. Replace & List 145985654 output custom results. Details lists capture groups. Explain describes your expression in plain English.\n",
    "\n",
    "564-6756-56745 nihcas  sacsa  aaaaaa scasca bhello world $%^&* welcome to 18264709 pattern matching using re lagnuage in python it's command pattern search\n",
    "\n",
    "sachin yadav is going to explain how regular expressions works  sachin yadav 97682131159 2189347v 2983467987 23984y9382 7423yu4 \n",
    " 1111111-1234-1323876248264\n",
    " \\w is used to match all alpha numberic keyworkds like a b c 1 2 34 5 A B  C   Z\n",
    " \n",
    " \\w\\w search for two consecutive alphanumberic characters s1234n   saturn  !@#$%^&*()_+<>?|\n",
    " \n",
    " 123-1234-12345\n",
    " \n",
    " 123-4567-89012\n",
    " \n",
    " feel proud that you belongs to India.\"\"\""
   ]
  },
  {
   "cell_type": "code",
   "execution_count": 89,
   "metadata": {},
   "outputs": [],
   "source": [
    "pat = re.compile(r\"^India.+\", )"
   ]
  },
  {
   "cell_type": "code",
   "execution_count": 90,
   "metadata": {},
   "outputs": [
    {
     "data": {
      "text/plain": [
       "['India is democratic country.']"
      ]
     },
     "execution_count": 90,
     "metadata": {},
     "output_type": "execute_result"
    }
   ],
   "source": [
    "re.findall(pat, text)"
   ]
  },
  {
   "cell_type": "code",
   "execution_count": 91,
   "metadata": {},
   "outputs": [],
   "source": [
    "pat = re.compile(r\"^India.+\", re.MULTILINE)"
   ]
  },
  {
   "cell_type": "code",
   "execution_count": 92,
   "metadata": {},
   "outputs": [
    {
     "data": {
      "text/plain": [
       "['India is democratic country.',\n",
       " 'India is better than china.',\n",
       " 'India is land of all religions.']"
      ]
     },
     "execution_count": 92,
     "metadata": {},
     "output_type": "execute_result"
    }
   ],
   "source": [
    "re.findall(pat, text)"
   ]
  },
  {
   "cell_type": "code",
   "execution_count": 93,
   "metadata": {},
   "outputs": [],
   "source": [
    "pat = re.compile(r\".+India.$\")"
   ]
  },
  {
   "cell_type": "code",
   "execution_count": 94,
   "metadata": {},
   "outputs": [
    {
     "data": {
      "text/plain": [
       "[' feel proud that you belongs to India.']"
      ]
     },
     "execution_count": 94,
     "metadata": {},
     "output_type": "execute_result"
    }
   ],
   "source": [
    "re.findall(pat, text)"
   ]
  },
  {
   "cell_type": "code",
   "execution_count": 95,
   "metadata": {},
   "outputs": [],
   "source": [
    "pat = re.compile(r\".+India.$\", flags=re.M) # re.M == re.MULTILINE"
   ]
  },
  {
   "cell_type": "code",
   "execution_count": 96,
   "metadata": {},
   "outputs": [
    {
     "data": {
      "text/plain": [
       "[\"let's finish this text with India.\",\n",
       " ' feel proud that you belongs to India.']"
      ]
     },
     "execution_count": 96,
     "metadata": {},
     "output_type": "execute_result"
    }
   ],
   "source": [
    "re.findall(pat, text)"
   ]
  },
  {
   "cell_type": "markdown",
   "metadata": {},
   "source": [
    "aa* # * 0 or more\n",
    "\n",
    "'a'\n",
    "\n",
    "'aa'\n",
    "\n",
    "'aaa'\n",
    "\n",
    "'aaaaaaaaa'"
   ]
  },
  {
   "cell_type": "code",
   "execution_count": 98,
   "metadata": {},
   "outputs": [],
   "source": [
    "text = \"\"\"\n",
    "a   aa     aaaaaaaaaa          aaaaaaaaaaaaaaaaaaaaaaaaaaaaaaaaaaaaaaaaaaaaaaaaaaaaaaaaaaaaaaaaaaaaaaaaaaaaaaaaaaaa\n",
    "\n",
    "salsjfljsdlkjfkls;dajkfsdfn  s alsjflk sdakjfsdkfjlsdan  sachin \n",
    "\n",
    "sachin matching is very greedy you can see it that any time n comes up it expand it's search to include all between sn \n",
    "\n",
    "sn sachin s1234n s_abcdn  \n",
    "\n",
    "son   s09azAZ_n s n sab#%^n  RE* *   *.py \n",
    "\n",
    "sun\n",
    "\n",
    "something  snnnnnnnsnnnnnn soon\n",
    "\n",
    "India is democratic country.\n",
    "a_b a b a1_ a-zA-z0-9_  ab -a-b_ aeiou  AEIOU s1234n sabcdn s@$#%n s    n \n",
    "India is better than china.\n",
    "<img src='https://grras.com' />\n",
    "RegExr was created by gskinner.com, and is proudly hosted by Media Temple. \n",
    "1 aA$#\n",
    "\tyahoolalalahihahahasad  &abcdefhjjk( %YaHoo9% 230978\n",
    "\t<img class=\"data-original\" src='hello' />\n",
    "\t9287429874 1234567890  0987654321 \n",
    "\t\n",
    "Edit the Expression & Text to see matches. Roll over matches or the expression for details. PCRE & JavaScript flavors of RegEx are supported. Validate your expression with Tests mode.\n",
    "<img src='https://google.co.in data='sachin' />\n",
    "a\n",
    "Inidia at the begining of this text\n",
    "The side bar includes a Cheatsheet, full Reference, and Help. You can also Save & Share with the Community, and view patterns you create or favorite in My Patterns.\n",
    "9182749832947329749832749324y98327493729479834 2983472398\n",
    "India is land of all religions.\n",
    "<img src='yahoo' />\n",
    "\n",
    "let's finish this text with India.\n",
    "588-5643-67854 12345678909876\n",
    "Explore results with the Tools below. Replace & List 145985654 output custom results. Details lists capture groups. Explain describes your expression in plain English.\n",
    "\n",
    "564-6756-56745 nihcas  sacsa  aaaaaa scasca bhello world $%^&* welcome to 18264709 pattern matching using re lagnuage in python it's command pattern search\n",
    "\n",
    "sachin yadav is going to explain how regular expressions works  sachin yadav 97682131159 2189347v 2983467987 23984y9382 7423yu4 \n",
    " 1111111-1234-1323876248264\n",
    " \\w is used to match all alpha numberic keyworkds like a b c 1 2 34 5 A B  C   Z\n",
    " \n",
    " \\w\\w search for two consecutive alphanumberic characters s1234n   saturn  !@#$%^&*()_+<>?|\n",
    " \n",
    " 123-1234-12345\n",
    " \n",
    " 123-4567-89012\n",
    " \n",
    " fell proud that you belongs to India.\"\"\""
   ]
  },
  {
   "cell_type": "code",
   "execution_count": 99,
   "metadata": {},
   "outputs": [
    {
     "data": {
      "text/plain": [
       "['sdfn',\n",
       " 'sdakjfsdkfjlsdan',\n",
       " 'sachin',\n",
       " 'sachin',\n",
       " 'sn',\n",
       " 'sn',\n",
       " 'sachin',\n",
       " 's_abcdn',\n",
       " 'son',\n",
       " 'sun',\n",
       " 'somethin',\n",
       " 'sn',\n",
       " 'sn',\n",
       " 'soon',\n",
       " 'sabcdn',\n",
       " 'skin',\n",
       " 'ssion',\n",
       " 'ssion',\n",
       " 'ssion',\n",
       " 'sachin',\n",
       " 'ssion',\n",
       " 'sin',\n",
       " 'sachin',\n",
       " 'ssion',\n",
       " 'sachin',\n",
       " 'saturn']"
      ]
     },
     "execution_count": 99,
     "metadata": {},
     "output_type": "execute_result"
    }
   ],
   "source": [
    "re.findall(r\"s[a-zA-z_]*?n\", text)"
   ]
  },
  {
   "cell_type": "code",
   "execution_count": 115,
   "metadata": {},
   "outputs": [],
   "source": [
    "text = \"\"\"mayir mayirr some spell like mayor some from south spell mayerr or mayorr \n",
    "\n",
    "even many people put any vowels interchangablly in mayer spelling such that\n",
    "\n",
    "miyir miyirr mayor mayurr \n",
    "\n",
    "MaYor MiYirr MAYOR\n",
    "\n",
    "let's find all misspell mayor words and replace them with correct one mayor \n",
    "\n",
    "muyurr\n",
    "\n",
    "\"\"\""
   ]
  },
  {
   "cell_type": "code",
   "execution_count": 116,
   "metadata": {},
   "outputs": [
    {
     "data": {
      "text/plain": [
       "True"
      ]
     },
     "execution_count": 116,
     "metadata": {},
     "output_type": "execute_result"
    }
   ],
   "source": [
    "re.I == re.IGNORECASE"
   ]
  },
  {
   "cell_type": "code",
   "execution_count": 117,
   "metadata": {},
   "outputs": [
    {
     "data": {
      "text/plain": [
       "True"
      ]
     },
     "execution_count": 117,
     "metadata": {},
     "output_type": "execute_result"
    }
   ],
   "source": [
    "re.M == re.MULTILINE"
   ]
  },
  {
   "cell_type": "code",
   "execution_count": 118,
   "metadata": {},
   "outputs": [],
   "source": [
    "expr = re.compile(r\"m[aeiou]y[aeiou]rr?\", flags=re.M|re.I)"
   ]
  },
  {
   "cell_type": "code",
   "execution_count": 119,
   "metadata": {},
   "outputs": [
    {
     "data": {
      "text/plain": [
       "re.compile(r'm[aeiou]y[aeiou]rr?', re.IGNORECASE|re.MULTILINE|re.UNICODE)"
      ]
     },
     "execution_count": 119,
     "metadata": {},
     "output_type": "execute_result"
    }
   ],
   "source": [
    "expr"
   ]
  },
  {
   "cell_type": "code",
   "execution_count": 120,
   "metadata": {},
   "outputs": [
    {
     "data": {
      "text/plain": [
       "['mayir',\n",
       " 'mayirr',\n",
       " 'mayor',\n",
       " 'mayerr',\n",
       " 'mayorr',\n",
       " 'mayer',\n",
       " 'miyir',\n",
       " 'miyirr',\n",
       " 'mayor',\n",
       " 'mayurr',\n",
       " 'MaYor',\n",
       " 'MiYirr',\n",
       " 'MAYOR',\n",
       " 'mayor',\n",
       " 'mayor',\n",
       " 'muyurr']"
      ]
     },
     "execution_count": 120,
     "metadata": {},
     "output_type": "execute_result"
    }
   ],
   "source": [
    "re.findall(expr, text)"
   ]
  },
  {
   "cell_type": "code",
   "execution_count": 121,
   "metadata": {},
   "outputs": [],
   "source": [
    "n = re.sub(expr, \"mayor\", text)\n",
    "# this is how goole or other application auto correct your words"
   ]
  },
  {
   "cell_type": "code",
   "execution_count": 122,
   "metadata": {},
   "outputs": [
    {
     "name": "stdout",
     "output_type": "stream",
     "text": [
      "mayor mayor some spell like mayor some from south spell mayor or mayor \n",
      "\n",
      "even many people put any vowels interchangablly in mayor spelling such that\n",
      "\n",
      "mayor mayor mayor mayor \n",
      "\n",
      "mayor mayor mayor\n",
      "\n",
      "let's find all misspell mayor words and replace them with correct one mayor \n",
      "\n",
      "mayor\n",
      "\n",
      "\n"
     ]
    }
   ],
   "source": [
    "print(n)"
   ]
  },
  {
   "cell_type": "markdown",
   "metadata": {},
   "source": [
    "re.match -> will match pattern at the begning of the string\n",
    "\n",
    "re.search -> will math pattern in the whole document"
   ]
  },
  {
   "cell_type": "code",
   "execution_count": 127,
   "metadata": {},
   "outputs": [],
   "source": [
    "o = re.match(expr, text)"
   ]
  },
  {
   "cell_type": "code",
   "execution_count": 128,
   "metadata": {},
   "outputs": [
    {
     "data": {
      "text/plain": [
       "<re.Match object; span=(0, 5), match='mayir'>"
      ]
     },
     "execution_count": 128,
     "metadata": {},
     "output_type": "execute_result"
    }
   ],
   "source": [
    "o"
   ]
  },
  {
   "cell_type": "code",
   "execution_count": 129,
   "metadata": {},
   "outputs": [
    {
     "data": {
      "text/plain": [
       "0"
      ]
     },
     "execution_count": 129,
     "metadata": {},
     "output_type": "execute_result"
    }
   ],
   "source": [
    "o.start()"
   ]
  },
  {
   "cell_type": "code",
   "execution_count": 130,
   "metadata": {},
   "outputs": [
    {
     "data": {
      "text/plain": [
       "5"
      ]
     },
     "execution_count": 130,
     "metadata": {},
     "output_type": "execute_result"
    }
   ],
   "source": [
    "o.end()"
   ]
  },
  {
   "cell_type": "code",
   "execution_count": 131,
   "metadata": {},
   "outputs": [
    {
     "data": {
      "text/plain": [
       "'mayir'"
      ]
     },
     "execution_count": 131,
     "metadata": {},
     "output_type": "execute_result"
    }
   ],
   "source": [
    "o.group() # matching "
   ]
  },
  {
   "cell_type": "code",
   "execution_count": 132,
   "metadata": {},
   "outputs": [
    {
     "data": {
      "text/plain": [
       "()"
      ]
     },
     "execution_count": 132,
     "metadata": {},
     "output_type": "execute_result"
    }
   ],
   "source": [
    "o.groups()"
   ]
  },
  {
   "cell_type": "code",
   "execution_count": 133,
   "metadata": {},
   "outputs": [
    {
     "data": {
      "text/plain": [
       "(0, 5)"
      ]
     },
     "execution_count": 133,
     "metadata": {},
     "output_type": "execute_result"
    }
   ],
   "source": [
    "o.span()"
   ]
  },
  {
   "cell_type": "code",
   "execution_count": 125,
   "metadata": {},
   "outputs": [
    {
     "data": {
      "text/plain": [
       "\"mayir mayirr some spell like mayor some from south spell mayerr or mayorr \\n\\neven many people put any vowels interchangablly in mayer spelling such that\\n\\nmiyir miyirr mayor mayurr \\n\\nMaYor MiYirr MAYOR\\n\\nlet's find all misspell mayor words and replace them with correct one mayor \\n\\nmuyurr\\n\\n\""
      ]
     },
     "execution_count": 125,
     "metadata": {},
     "output_type": "execute_result"
    }
   ],
   "source": [
    "text"
   ]
  },
  {
   "cell_type": "code",
   "execution_count": 134,
   "metadata": {},
   "outputs": [],
   "source": [
    "text = \"\"\" hello world\n",
    "mayir mayirr some spell like mayor some from south spell mayerr or mayorr \n",
    "\n",
    "even many people put any vowels interchangablly in mayer spelling such that\n",
    "\n",
    "miyir miyirr mayor mayurr \n",
    "\n",
    "MaYor MiYirr MAYOR\n",
    "\n",
    "let's find all misspell mayor words and replace them with correct one mayor \n",
    "\n",
    "muyurr\n",
    "\n",
    "\"\"\""
   ]
  },
  {
   "cell_type": "code",
   "execution_count": 135,
   "metadata": {},
   "outputs": [],
   "source": [
    "\n",
    "m  = re.match(expr, text)"
   ]
  },
  {
   "cell_type": "code",
   "execution_count": 136,
   "metadata": {},
   "outputs": [],
   "source": [
    "m"
   ]
  },
  {
   "cell_type": "code",
   "execution_count": 137,
   "metadata": {},
   "outputs": [
    {
     "data": {
      "text/plain": [
       "NoneType"
      ]
     },
     "execution_count": 137,
     "metadata": {},
     "output_type": "execute_result"
    }
   ],
   "source": [
    "type(m)"
   ]
  },
  {
   "cell_type": "code",
   "execution_count": 138,
   "metadata": {},
   "outputs": [],
   "source": [
    "m1 = re.search(expr, text)"
   ]
  },
  {
   "cell_type": "code",
   "execution_count": 139,
   "metadata": {},
   "outputs": [
    {
     "data": {
      "text/plain": [
       "<re.Match object; span=(13, 18), match='mayir'>"
      ]
     },
     "execution_count": 139,
     "metadata": {},
     "output_type": "execute_result"
    }
   ],
   "source": [
    "m1"
   ]
  },
  {
   "cell_type": "code",
   "execution_count": 141,
   "metadata": {},
   "outputs": [
    {
     "data": {
      "text/plain": [
       "'mayir'"
      ]
     },
     "execution_count": 141,
     "metadata": {},
     "output_type": "execute_result"
    }
   ],
   "source": [
    "text[m1.start(): m1.end()]"
   ]
  },
  {
   "cell_type": "code",
   "execution_count": 142,
   "metadata": {},
   "outputs": [
    {
     "name": "stdout",
     "output_type": "stream",
     "text": [
      "mayir <re.Match object; span=(13, 18), match='mayir'>\n",
      "mayirr <re.Match object; span=(19, 25), match='mayirr'>\n",
      "mayor <re.Match object; span=(42, 47), match='mayor'>\n",
      "mayerr <re.Match object; span=(70, 76), match='mayerr'>\n",
      "mayorr <re.Match object; span=(80, 86), match='mayorr'>\n",
      "mayer <re.Match object; span=(140, 145), match='mayer'>\n",
      "miyir <re.Match object; span=(166, 171), match='miyir'>\n",
      "miyirr <re.Match object; span=(172, 178), match='miyirr'>\n",
      "mayor <re.Match object; span=(179, 184), match='mayor'>\n",
      "mayurr <re.Match object; span=(185, 191), match='mayurr'>\n",
      "MaYor <re.Match object; span=(194, 199), match='MaYor'>\n",
      "MiYirr <re.Match object; span=(200, 206), match='MiYirr'>\n",
      "MAYOR <re.Match object; span=(207, 212), match='MAYOR'>\n",
      "mayor <re.Match object; span=(238, 243), match='mayor'>\n",
      "mayor <re.Match object; span=(284, 289), match='mayor'>\n",
      "muyurr <re.Match object; span=(292, 298), match='muyurr'>\n"
     ]
    }
   ],
   "source": [
    "for match in re.finditer(expr, text):\n",
    "    print(match.group(), match)"
   ]
  },
  {
   "cell_type": "code",
   "execution_count": 143,
   "metadata": {},
   "outputs": [],
   "source": [
    "s = \"\"\"mayir mayirrsome spell like mayor some from south spell mayerr or mayorr \n",
    "\n",
    "even many people put any vowels interchangablly in mayer spelling such that\n",
    "\n",
    "miyir miyirr mayor mayurr  . ...  .. \n",
    "\n",
    ". .. \n",
    "\n",
    "let's find all misspell mayor words and replace them with correct one mayor \n",
    "\n",
    "muyurr\n",
    "\n",
    "sachin sechin\n",
    "\n",
    "sachin@gmail.com\n",
    "\n",
    "sachin@yahoo.com\n",
    "\n",
    "\"\"\""
   ]
  },
  {
   "cell_type": "code",
   "execution_count": 152,
   "metadata": {},
   "outputs": [],
   "source": [
    "expr = r\"sachin@(gmail)|(yahoo).com\""
   ]
  },
  {
   "cell_type": "code",
   "execution_count": 153,
   "metadata": {},
   "outputs": [],
   "source": [
    "m = re.search(expr, s)"
   ]
  },
  {
   "cell_type": "code",
   "execution_count": 149,
   "metadata": {},
   "outputs": [
    {
     "data": {
      "text/plain": [
       "<re.Match object; span=(299, 311), match='sachin@gmail'>"
      ]
     },
     "execution_count": 149,
     "metadata": {},
     "output_type": "execute_result"
    }
   ],
   "source": [
    "m"
   ]
  },
  {
   "cell_type": "code",
   "execution_count": 150,
   "metadata": {},
   "outputs": [
    {
     "data": {
      "text/plain": [
       "'sachin@gmail'"
      ]
     },
     "execution_count": 150,
     "metadata": {},
     "output_type": "execute_result"
    }
   ],
   "source": [
    "m.group()"
   ]
  },
  {
   "cell_type": "code",
   "execution_count": 151,
   "metadata": {},
   "outputs": [
    {
     "data": {
      "text/plain": [
       "('gmail', None)"
      ]
     },
     "execution_count": 151,
     "metadata": {},
     "output_type": "execute_result"
    }
   ],
   "source": [
    "m.groups()"
   ]
  },
  {
   "cell_type": "code",
   "execution_count": 156,
   "metadata": {},
   "outputs": [
    {
     "name": "stdout",
     "output_type": "stream",
     "text": [
      "<re.Match object; span=(299, 311), match='sachin@gmail'> sachin@gmail ('gmail', None)\n",
      "<re.Match object; span=(324, 333), match='yahoo.com'> yahoo.com (None, 'yahoo')\n"
     ]
    }
   ],
   "source": [
    "for m in re.finditer(expr, s):\n",
    "    print(m, m.group(), m.groups())"
   ]
  },
  {
   "cell_type": "markdown",
   "metadata": {},
   "source": [
    "### email validataion "
   ]
  },
  {
   "cell_type": "code",
   "execution_count": 158,
   "metadata": {},
   "outputs": [],
   "source": [
    "with open('C://Users/sachin/Desktop/Techno_Intern_Batch/ds/emails.txt') as fp:\n",
    "    text = fp.read()\n",
    "    fp.close()"
   ]
  },
  {
   "cell_type": "code",
   "execution_count": 161,
   "metadata": {},
   "outputs": [
    {
     "data": {
      "text/plain": [
       "'From stephen.marquard@uct.ac.za Sat Jan  5 09:14:16 2008\\nReturn-Path: <postmaster@collab.sakaiprojec'"
      ]
     },
     "execution_count": 161,
     "metadata": {},
     "output_type": "execute_result"
    }
   ],
   "source": [
    "text[:100]"
   ]
  },
  {
   "cell_type": "markdown",
   "metadata": {},
   "source": [
    "sachin123.y__adav@yahoo.mail.com\n",
    "\n",
    "sac@gmail.com\n",
    "\n",
    "a@b.com\n",
    "\n",
    "\n",
    ".in\n",
    "\n",
    ".co\n",
    "\n",
    ".ui"
   ]
  },
  {
   "cell_type": "code",
   "execution_count": null,
   "metadata": {},
   "outputs": [],
   "source": []
  },
  {
   "cell_type": "code",
   "execution_count": 179,
   "metadata": {},
   "outputs": [],
   "source": [
    "email = re.compile(r\"\\b\\w+[._]?\\w+@[a-zA-Z]+[.]?[a-zA-Z]+\\.[a-zA-Z]{2,3}\\b\")"
   ]
  },
  {
   "cell_type": "code",
   "execution_count": 180,
   "metadata": {},
   "outputs": [],
   "source": [
    "emails = re.findall(email, text)"
   ]
  },
  {
   "cell_type": "code",
   "execution_count": 182,
   "metadata": {},
   "outputs": [
    {
     "data": {
      "text/plain": [
       "5998"
      ]
     },
     "execution_count": 182,
     "metadata": {},
     "output_type": "execute_result"
    }
   ],
   "source": [
    "len(emails)"
   ]
  },
  {
   "cell_type": "code",
   "execution_count": 184,
   "metadata": {},
   "outputs": [],
   "source": [
    "un_mail = list(set(emails))"
   ]
  },
  {
   "cell_type": "code",
   "execution_count": 186,
   "metadata": {},
   "outputs": [
    {
     "data": {
      "text/plain": [
       "42"
      ]
     },
     "execution_count": 186,
     "metadata": {},
     "output_type": "execute_result"
    }
   ],
   "source": [
    "len(un_mail)"
   ]
  },
  {
   "cell_type": "code",
   "execution_count": 187,
   "metadata": {},
   "outputs": [
    {
     "data": {
      "text/plain": [
       "['postmaster@collab.sakaiproject.org',\n",
       " 'kimsooil@bu.edu',\n",
       " 'gopal.ramasammycook@gmail.com',\n",
       " 'stephen.marquard@uct.ac.za',\n",
       " 'ajpoland@iupui.edu',\n",
       " 'sgithens@caret.cam.ac',\n",
       " 'chmaurer@iupui.edu',\n",
       " 'jlrenfro@ucdavis.edu',\n",
       " 'wagnermr@iupui.edu',\n",
       " 'ian@caret.cam.ac',\n",
       " 'joshua.ryan@asu.edu',\n",
       " 'antranig@caret.cam.ac',\n",
       " 'arwhyte@umich.edu',\n",
       " 'zach.thomas@txstate.edu',\n",
       " 'zqian@umich.edu',\n",
       " 'jbush@rsmart.com',\n",
       " 'ostermmg@whitman.edu',\n",
       " 'ktsao@stanford.edu',\n",
       " 'source@collab.sakaiproject.org',\n",
       " 'nuno@ufp.pt',\n",
       " 'ray@media.berkeley.edu',\n",
       " 'lance@indiana.edu',\n",
       " 'gjthomas@iupui.edu',\n",
       " 'david.horwitz@uct.ac.za',\n",
       " 'aaronz@vt.edu',\n",
       " 'knoop@umich.edu',\n",
       " 'a.fish@lancaster.ac.uk',\n",
       " 'rjlowe@iupui.edu',\n",
       " 'dlhaines@umich.edu',\n",
       " 'bkirschn@umich.edu',\n",
       " 'csev@umich.edu',\n",
       " 'stuart.freeman@et.gatech.edu',\n",
       " 'jimeng@umich.edu',\n",
       " 'gbhatnag@umich.edu',\n",
       " 'tnguyen@iupui.edu',\n",
       " 'hu2@iupui.edu',\n",
       " 'josrodri@iupui.edu',\n",
       " 'gsilver@umich.edu',\n",
       " 'ssmail@indiana.edu',\n",
       " 'mmmay@indiana.edu',\n",
       " 'cwen@iupui.edu',\n",
       " 'louis@media.berkeley.edu']"
      ]
     },
     "execution_count": 187,
     "metadata": {},
     "output_type": "execute_result"
    }
   ],
   "source": [
    "un_mail"
   ]
  },
  {
   "cell_type": "code",
   "execution_count": null,
   "metadata": {},
   "outputs": [],
   "source": []
  },
  {
   "cell_type": "code",
   "execution_count": 178,
   "metadata": {},
   "outputs": [],
   "source": [
    "s = \"sachin@gmail.com\""
   ]
  },
  {
   "cell_type": "code",
   "execution_count": 171,
   "metadata": {},
   "outputs": [
    {
     "data": {
      "text/plain": [
       "[]"
      ]
     },
     "execution_count": 171,
     "metadata": {},
     "output_type": "execute_result"
    }
   ],
   "source": [
    "re.findall(email, s)"
   ]
  },
  {
   "cell_type": "code",
   "execution_count": 172,
   "metadata": {},
   "outputs": [
    {
     "data": {
      "text/plain": [
       "['sachin@']"
      ]
     },
     "execution_count": 172,
     "metadata": {},
     "output_type": "execute_result"
    }
   ],
   "source": [
    "re.findall(r\"\\b\\w+[._]?\\w+@\", 'sachin@gmail.com')"
   ]
  },
  {
   "cell_type": "code",
   "execution_count": 174,
   "metadata": {},
   "outputs": [
    {
     "data": {
      "text/plain": [
       "['sachin.yadav123@']"
      ]
     },
     "execution_count": 174,
     "metadata": {},
     "output_type": "execute_result"
    }
   ],
   "source": [
    "re.findall(r\"\\b\\w+[._]?\\w+@\", 'sachin.yadav123@gmail.com')"
   ]
  },
  {
   "cell_type": "code",
   "execution_count": null,
   "metadata": {},
   "outputs": [],
   "source": []
  },
  {
   "cell_type": "markdown",
   "metadata": {},
   "source": [
    "    visulatzation, pandas, re"
   ]
  },
  {
   "cell_type": "markdown",
   "metadata": {},
   "source": [
    "[regx](https://regexr.com/)"
   ]
  },
  {
   "cell_type": "code",
   "execution_count": null,
   "metadata": {},
   "outputs": [],
   "source": []
  }
 ],
 "metadata": {
  "kernelspec": {
   "display_name": "Python 3",
   "language": "python",
   "name": "python3"
  },
  "language_info": {
   "codemirror_mode": {
    "name": "ipython",
    "version": 3
   },
   "file_extension": ".py",
   "mimetype": "text/x-python",
   "name": "python",
   "nbconvert_exporter": "python",
   "pygments_lexer": "ipython3",
   "version": "3.7.4"
  }
 },
 "nbformat": 4,
 "nbformat_minor": 2
}
