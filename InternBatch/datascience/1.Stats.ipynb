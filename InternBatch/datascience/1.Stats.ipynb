{
 "cells": [
  {
   "cell_type": "markdown",
   "metadata": {},
   "source": [
    "### Quantitative Data Analysis\n",
    "\n",
    "**Measures of Center or Central Tendency**\n",
    "\n",
    "    Continous \n",
    "    \n",
    "        1. Mean\n",
    "        \n",
    "        2. Median\n",
    "       \n",
    "    Discrete \n",
    "    \n",
    "        3. Mode"
   ]
  },
  {
   "cell_type": "code",
   "execution_count": 9,
   "metadata": {},
   "outputs": [],
   "source": [
    "from random import randint\n",
    "import numpy as np\n",
    "# numpy is used for numerical calculations or for stats\n",
    "import matplotlib.pyplot as plt\n",
    "# matplotlib is used for data visulations\n",
    "%matplotlib inline\n",
    "# draw graph in each line or each command shell without plt.show"
   ]
  },
  {
   "cell_type": "code",
   "execution_count": 10,
   "metadata": {},
   "outputs": [
    {
     "data": {
      "text/plain": [
       "[<matplotlib.lines.Line2D at 0x2d576d6aec8>]"
      ]
     },
     "execution_count": 10,
     "metadata": {},
     "output_type": "execute_result"
    },
    {
     "data": {
      "image/png": "[encoded data removed]",
      "text/plain": [
       "<Figure size 432x288 with 1 Axes>"
      ]
     },
     "metadata": {
      "needs_background": "light"
     },
     "output_type": "display_data"
    }
   ],
   "source": [
    "plt.plot([1, 2, 3,4 , 5]) # inline"
   ]
  },
  {
   "cell_type": "code",
   "execution_count": 5,
   "metadata": {},
   "outputs": [],
   "source": [
    "#[ randint(20, 100) for var in range(50)]"
   ]
  },
  {
   "cell_type": "code",
   "execution_count": 6,
   "metadata": {},
   "outputs": [],
   "source": [
    "# data generate\n",
    "salary = np.random.randint(20, 100, 50)"
   ]
  },
  {
   "cell_type": "code",
   "execution_count": 12,
   "metadata": {},
   "outputs": [
    {
     "name": "stdout",
     "output_type": "stream",
     "text": [
      "<class 'numpy.ndarray'>\n",
      "26, 71, 53, 96, 23, 93, 55, 87, 37, 38, 65, 75, 27, 46, 22, 23, 76, 87, 51, 32, 44, 77, 20, 97, 20, 21, 29, 63, 52, 31, 32, 35, 64, 45, 24, 84, 62, 71, 34, 60, 67, 21, 49, 32, 51, 20, 21, 77, 54, 43\n"
     ]
    }
   ],
   "source": [
    "print(type(salary))\n",
    "print(*salary, sep=', ')"
   ]
  },
  {
   "cell_type": "code",
   "execution_count": 11,
   "metadata": {},
   "outputs": [
    {
     "data": {
      "image/png": "[encoded data removed]",
      "text/plain": [
       "<Figure size 432x288 with 1 Axes>"
      ]
     },
     "metadata": {
      "needs_background": "light"
     },
     "output_type": "display_data"
    }
   ],
   "source": []
  },
  {
   "cell_type": "code",
   "execution_count": null,
   "metadata": {},
   "outputs": [],
   "source": []
  }
 ],
 "metadata": {
  "kernelspec": {
   "display_name": "Python 3",
   "language": "python",
   "name": "python3"
  },
  "language_info": {
   "codemirror_mode": {
    "name": "ipython",
    "version": 3
   },
   "file_extension": ".py",
   "mimetype": "text/x-python",
   "name": "python",
   "nbconvert_exporter": "python",
   "pygments_lexer": "ipython3",
   "version": "3.7.4"
  }
 },
 "nbformat": 4,
 "nbformat_minor": 2
}
